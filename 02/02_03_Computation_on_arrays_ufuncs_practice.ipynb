{
  "cells": [
    {
      "cell_type": "markdown",
      "metadata": {
        "colab_type": "text",
        "id": "view-in-github"
      },
      "source": [
        "<a href=\"https://colab.research.google.com/github/belanasaikiran/CSE-5717-Big-Data-Analytics/blob/main/02/02_03_Computation_on_arrays_ufuncs_practice.ipynb\" target=\"_parent\"><img src=\"https://colab.research.google.com/assets/colab-badge.svg\" alt=\"Open In Colab\"/></a>"
      ]
    },
    {
      "cell_type": "code",
      "execution_count": 2,
      "metadata": {
        "id": "S3kK4iFvUMmy"
      },
      "outputs": [],
      "source": [
        "# practice"
      ]
    },
    {
      "cell_type": "markdown",
      "metadata": {
        "id": "QLs-rJMGUXqr"
      },
      "source": [
        "# Computation on NumPy Arrays: Universal Functions\n",
        "\n",
        "Up until now, we have been discussing some of the basic nuts and bolts of NumPy; in the next few sections, we will dive into the reasons that NumPy is so important in the Python data science world.\n",
        "Namely, it provides an easy and flexible interface to optimized computation with arrays of data.\n",
        "\n",
        "Computation on NumPy arrays can be very fast, or it can be very slow.\n",
        "The key to making it fast is to use *vectorized* operations, generally implemented through NumPy's *universal functions* (ufuncs).\n",
        "This section motivates the need for NumPy's ufuncs, which can be used to make repeated calculations on array elements much more efficient.\n",
        "It then introduces many of the most common and useful arithmetic ufuncs available in the NumPy package."
      ]
    },
    {
      "cell_type": "markdown",
      "metadata": {
        "id": "YkQ3nHgBU2le"
      },
      "source": [
        "## The Slowness of Loops\n",
        "\n",
        "Python's default implementation (known as CPython) does some operations very slowly.\n",
        "This is in part due to the dynamic, interpreted nature of the language: the fact that types are flexible, so that sequences of operations cannot be compiled down to efficient machine code as in languages like C and Fortran.\n",
        "Recently there have been various attempts to address this weakness: well-known examples are the [PyPy](http://pypy.org/) project, a just-in-time compiled implementation of Python; the [Cython](http://cython.org) project, which converts Python code to compilable C code; and the [Numba](http://numba.pydata.org/) project, which converts snippets of Python code to fast LLVM bytecode.\n",
        "Each of these has its strengths and weaknesses, but it is safe to say that none of the three approaches has yet surpassed the reach and popularity of the standard CPython engine.\n",
        "\n",
        "The relative sluggishness of Python generally manifests itself in situations where many small operations are being repeated – for instance looping over arrays to operate on each element.\n",
        "For example, imagine we have an array of values and we'd like to compute the reciprocal of each.\n",
        "A straightforward approach might look like this:"
      ]
    },
    {
      "cell_type": "code",
      "execution_count": 3,
      "metadata": {
        "colab": {
          "base_uri": "https://localhost:8080/"
        },
        "id": "y1Ct2FGnUV_u",
        "outputId": "dc11b855-4597-4fd7-cd84-5d928ca94aa0"
      },
      "outputs": [
        {
          "data": {
            "text/plain": [
              "array([0.16666667, 1.        , 0.25      , 0.25      , 0.125     ])"
            ]
          },
          "execution_count": 3,
          "metadata": {},
          "output_type": "execute_result"
        }
      ],
      "source": [
        "import numpy as np\n",
        "np.random.seed(0)\n",
        "\n",
        "def compute_reciprocals(values):\n",
        "  output = np.empty(len(values))\n",
        "  for i in range(len(values)):\n",
        "    output[i] = 1.0/values[i]\n",
        "  return output\n",
        "\n",
        "values = np.random.randint(1, 10, size= 5)\n",
        "compute_reciprocals(values)"
      ]
    },
    {
      "cell_type": "markdown",
      "metadata": {},
      "source": [
        "This implementation probably feels fairly natural to someone from, say, a C or Java background.\n",
        "But if we measure the execution time of this code for a large input, we see that this operation is very slow, perhaps surprisingly so!\n",
        "We'll benchmark this with IPython's ``%timeit`` magic (discussed in [Profiling and Timing Code](01.07-Timing-and-Profiling.ipynb)):"
      ]
    },
    {
      "cell_type": "code",
      "execution_count": 4,
      "metadata": {
        "id": "-URRInmhWD_-"
      },
      "outputs": [
        {
          "name": "stdout",
          "output_type": "stream",
          "text": [
            "1.3 s ± 65.9 ms per loop (mean ± std. dev. of 7 runs, 1 loop each)\n"
          ]
        }
      ],
      "source": [
        "big_array = np.random.randint(1, 100, size=1000000)\n",
        "%timeit compute_reciprocals(big_array)"
      ]
    },
    {
      "cell_type": "markdown",
      "metadata": {},
      "source": [
        "It takes several seconds to compute these million operations and to store the result!\n",
        "When even cell phones have processing speeds measured in Giga-FLOPS (i.e., billions of numerical operations per second), this seems almost absurdly slow.\n",
        "It turns out that the bottleneck here is not the operations themselves, but the type-checking and function dispatches that CPython must do at each cycle of the loop.\n",
        "Each time the reciprocal is computed, Python first examines the object's type and does a dynamic lookup of the correct function to use for that type.\n",
        "If we were working in compiled code instead, this type specification would be known before the code executes and the result could be computed much more efficiently."
      ]
    },
    {
      "cell_type": "markdown",
      "metadata": {},
      "source": [
        "## Introducing UFuncs\n",
        "\n",
        "For many types of operations, NumPy provides a convenient interface into just this kind of statically typed, compiled routine. This is known as a *vectorized* operation.\n",
        "This can be accomplished by simply performing an operation on the array, which will then be applied to each element.\n",
        "This vectorized approach is designed to push the loop into the compiled layer that underlies NumPy, leading to much faster execution.\n",
        "\n",
        "Compare the results of the following two:"
      ]
    },
    {
      "cell_type": "code",
      "execution_count": 5,
      "metadata": {},
      "outputs": [
        {
          "name": "stdout",
          "output_type": "stream",
          "text": [
            "[0.16666667 1.         0.25       0.25       0.125     ]\n",
            "[0.16666667 1.         0.25       0.25       0.125     ]\n"
          ]
        }
      ],
      "source": [
        "print(compute_reciprocals(values))\n",
        "print(1.0/values)"
      ]
    },
    {
      "cell_type": "code",
      "execution_count": 6,
      "metadata": {},
      "outputs": [
        {
          "name": "stdout",
          "output_type": "stream",
          "text": [
            "2.67 ms ± 280 µs per loop (mean ± std. dev. of 7 runs, 100 loops each)\n"
          ]
        }
      ],
      "source": [
        "%timeit (1.0 / big_array)"
      ]
    },
    {
      "cell_type": "markdown",
      "metadata": {},
      "source": [
        "> I'm not adding any comments from here as this is a practice folder and I can save more time by skipping that. You can use Class Lecture notes folder for detailed information"
      ]
    },
    {
      "cell_type": "code",
      "execution_count": 7,
      "metadata": {},
      "outputs": [
        {
          "data": {
            "text/plain": [
              "array([0.        , 0.5       , 0.66666667, 0.75      , 0.8       ])"
            ]
          },
          "execution_count": 7,
          "metadata": {},
          "output_type": "execute_result"
        }
      ],
      "source": [
        "np.arange(5) / np.arange(1, 6)"
      ]
    },
    {
      "cell_type": "code",
      "execution_count": 8,
      "metadata": {},
      "outputs": [],
      "source": [
        "# Ufunc operations are not just for 1D arrays but can also be implemented for multi-dimensional arrays as well"
      ]
    },
    {
      "cell_type": "code",
      "execution_count": 9,
      "metadata": {},
      "outputs": [],
      "source": [
        "x = np.arange(9).reshape((3,3))"
      ]
    },
    {
      "cell_type": "code",
      "execution_count": 10,
      "metadata": {},
      "outputs": [
        {
          "data": {
            "text/plain": [
              "array([[0, 1, 2],\n",
              "       [3, 4, 5],\n",
              "       [6, 7, 8]])"
            ]
          },
          "execution_count": 10,
          "metadata": {},
          "output_type": "execute_result"
        }
      ],
      "source": [
        "x"
      ]
    },
    {
      "cell_type": "code",
      "execution_count": 11,
      "metadata": {},
      "outputs": [
        {
          "data": {
            "text/plain": [
              "array([[  1,   2,   4],\n",
              "       [  8,  16,  32],\n",
              "       [ 64, 128, 256]], dtype=int32)"
            ]
          },
          "execution_count": 11,
          "metadata": {},
          "output_type": "execute_result"
        }
      ],
      "source": [
        "2 ** x"
      ]
    },
    {
      "cell_type": "markdown",
      "metadata": {},
      "source": [
        "## Exploring Numpy's UFuncs"
      ]
    },
    {
      "cell_type": "markdown",
      "metadata": {},
      "source": [
        "1. Unary ufuncs\n",
        "2. binary ufuncs"
      ]
    },
    {
      "cell_type": "code",
      "execution_count": 12,
      "metadata": {},
      "outputs": [],
      "source": [
        "x = np.arange(4)\n"
      ]
    },
    {
      "cell_type": "code",
      "execution_count": 13,
      "metadata": {},
      "outputs": [
        {
          "name": "stdout",
          "output_type": "stream",
          "text": [
            "x =  [0 1 2 3]\n"
          ]
        }
      ],
      "source": [
        "print(\"x = \", x)"
      ]
    },
    {
      "cell_type": "code",
      "execution_count": 15,
      "metadata": {},
      "outputs": [
        {
          "name": "stdout",
          "output_type": "stream",
          "text": [
            "x + 5 =  [5 6 7 8]\n",
            "x - 5 =  [-5 -4 -3 -2]\n",
            "x * 5 =  [0 2 4 6]\n",
            "x / 5 =  [0.  0.5 1.  1.5]\n",
            "x // 5 =  [0 0 1 1]\n"
          ]
        }
      ],
      "source": [
        "print(\"x + 5 = \", x + 5)\n",
        "print(\"x - 5 = \", x - 5)\n",
        "print(\"x * 5 = \", x * 2)\n",
        "print(\"x / 5 = \", x / 2)\n",
        "print(\"x // 5 = \", x // 2) #floor division"
      ]
    },
    {
      "cell_type": "code",
      "execution_count": 17,
      "metadata": {},
      "outputs": [
        {
          "name": "stdout",
          "output_type": "stream",
          "text": [
            "-x=  [ 0 -1 -2 -3]\n"
          ]
        }
      ],
      "source": [
        "# negation\n",
        "print(\"-x= \", -x)"
      ]
    },
    {
      "cell_type": "code",
      "execution_count": 18,
      "metadata": {},
      "outputs": [
        {
          "name": "stdout",
          "output_type": "stream",
          "text": [
            "x ** 2 =  [0 1 4 9]\n",
            "x % 2 =  [0 1 0 1]\n"
          ]
        }
      ],
      "source": [
        "print(\"x ** 2 = \", x ** 2)\n",
        "print(\"x % 2 = \", x % 2)"
      ]
    },
    {
      "cell_type": "code",
      "execution_count": 19,
      "metadata": {},
      "outputs": [
        {
          "data": {
            "text/plain": [
              "array([-1.  , -2.25, -4.  , -6.25])"
            ]
          },
          "execution_count": 19,
          "metadata": {},
          "output_type": "execute_result"
        }
      ],
      "source": [
        "-(0.5*x + 1) ** 2"
      ]
    },
    {
      "cell_type": "code",
      "execution_count": 20,
      "metadata": {},
      "outputs": [
        {
          "data": {
            "text/plain": [
              "array([2, 3, 4, 5])"
            ]
          },
          "execution_count": 20,
          "metadata": {},
          "output_type": "execute_result"
        }
      ],
      "source": [
        "np.add(x, 2)"
      ]
    },
    {
      "cell_type": "markdown",
      "metadata": {},
      "source": [
        "The following table lists the arithmetic operators implemented in NumPy:\n",
        "\n",
        "| Operator\t    | Equivalent ufunc    | Description                           |\n",
        "|---------------|---------------------|---------------------------------------|\n",
        "|``+``          |``np.add``           |Addition (e.g., ``1 + 1 = 2``)         |\n",
        "|``-``          |``np.subtract``      |Subtraction (e.g., ``3 - 2 = 1``)      |\n",
        "|``-``          |``np.negative``      |Unary negation (e.g., ``-2``)          |\n",
        "|``*``          |``np.multiply``      |Multiplication (e.g., ``2 * 3 = 6``)   |\n",
        "|``/``          |``np.divide``        |Division (e.g., ``3 / 2 = 1.5``)       |\n",
        "|``//``         |``np.floor_divide``  |Floor division (e.g., ``3 // 2 = 1``)  |\n",
        "|``**``         |``np.power``         |Exponentiation (e.g., ``2 ** 3 = 8``)  |\n",
        "|``%``          |``np.mod``           |Modulus/remainder (e.g., ``9 % 4 = 1``)|\n",
        "\n",
        "Additionally there are Boolean/bitwise operators; we will explore these in [Comparisons, Masks, and Boolean Logic](02.06-Boolean-Arrays-and-Masks.ipynb)."
      ]
    },
    {
      "cell_type": "code",
      "execution_count": 21,
      "metadata": {},
      "outputs": [
        {
          "data": {
            "text/plain": [
              "array([2, 1, 0, 1, 2])"
            ]
          },
          "execution_count": 21,
          "metadata": {},
          "output_type": "execute_result"
        }
      ],
      "source": [
        "x = np.array([-2, -1, 0, 1, 2])\n",
        "abs(x)"
      ]
    },
    {
      "cell_type": "code",
      "execution_count": 22,
      "metadata": {},
      "outputs": [
        {
          "data": {
            "text/plain": [
              "array([2, 1, 0, 1, 2])"
            ]
          },
          "execution_count": 22,
          "metadata": {},
          "output_type": "execute_result"
        }
      ],
      "source": [
        "np.absolute(x)"
      ]
    },
    {
      "cell_type": "code",
      "execution_count": 23,
      "metadata": {},
      "outputs": [
        {
          "data": {
            "text/plain": [
              "array([2, 1, 0, 1, 2])"
            ]
          },
          "execution_count": 23,
          "metadata": {},
          "output_type": "execute_result"
        }
      ],
      "source": [
        "np.abs(x)"
      ]
    },
    {
      "cell_type": "code",
      "execution_count": 24,
      "metadata": {},
      "outputs": [
        {
          "data": {
            "text/plain": [
              "array([5., 5., 2., 1.])"
            ]
          },
          "execution_count": 24,
          "metadata": {},
          "output_type": "execute_result"
        }
      ],
      "source": [
        "x = np.array([3 -4j, 4 - 3j, 2 + 0j, 0 + 1j]) #imaginary values\n",
        "np.abs(x)"
      ]
    },
    {
      "cell_type": "markdown",
      "metadata": {},
      "source": [
        "# Trigonometry"
      ]
    },
    {
      "cell_type": "code",
      "execution_count": 25,
      "metadata": {},
      "outputs": [],
      "source": [
        "theta = np.linspace(0, np.pi, 3)"
      ]
    },
    {
      "cell_type": "code",
      "execution_count": 26,
      "metadata": {},
      "outputs": [
        {
          "data": {
            "text/plain": [
              "array([0.        , 1.57079633, 3.14159265])"
            ]
          },
          "execution_count": 26,
          "metadata": {},
          "output_type": "execute_result"
        }
      ],
      "source": [
        "theta"
      ]
    },
    {
      "cell_type": "code",
      "execution_count": 27,
      "metadata": {},
      "outputs": [
        {
          "data": {
            "text/plain": [
              "array([0.0000000e+00, 1.0000000e+00, 1.2246468e-16])"
            ]
          },
          "execution_count": 27,
          "metadata": {},
          "output_type": "execute_result"
        }
      ],
      "source": [
        "np.sin(theta)"
      ]
    },
    {
      "cell_type": "code",
      "execution_count": 28,
      "metadata": {},
      "outputs": [
        {
          "data": {
            "text/plain": [
              "array([ 1.000000e+00,  6.123234e-17, -1.000000e+00])"
            ]
          },
          "execution_count": 28,
          "metadata": {},
          "output_type": "execute_result"
        }
      ],
      "source": [
        "np.cos(theta)"
      ]
    },
    {
      "cell_type": "code",
      "execution_count": 29,
      "metadata": {},
      "outputs": [
        {
          "data": {
            "text/plain": [
              "array([ 0.00000000e+00,  1.63312394e+16, -1.22464680e-16])"
            ]
          },
          "execution_count": 29,
          "metadata": {},
          "output_type": "execute_result"
        }
      ],
      "source": [
        "np.tan(theta)"
      ]
    },
    {
      "cell_type": "code",
      "execution_count": 30,
      "metadata": {},
      "outputs": [
        {
          "name": "stdout",
          "output_type": "stream",
          "text": [
            "[-1, 0, 1]\n",
            " cot =  [-0.78539816  0.          0.78539816]\n"
          ]
        }
      ],
      "source": [
        "x = [-1, 0, 1]\n",
        "print(x)\n",
        "print ( \" cot = \" ,  np.arctan(x))"
      ]
    },
    {
      "cell_type": "code",
      "execution_count": 31,
      "metadata": {},
      "outputs": [
        {
          "name": "stdout",
          "output_type": "stream",
          "text": [
            " sec =  [3.14159265 1.57079633 0.        ]\n"
          ]
        }
      ],
      "source": [
        "print ( \" sec = \" ,  np.arccos(x))"
      ]
    },
    {
      "cell_type": "code",
      "execution_count": 32,
      "metadata": {},
      "outputs": [
        {
          "name": "stdout",
          "output_type": "stream",
          "text": [
            " cosec =  [-1.57079633  0.          1.57079633]\n"
          ]
        }
      ],
      "source": [
        "print ( \" cosec = \" ,  np.arcsin(x))"
      ]
    },
    {
      "cell_type": "markdown",
      "metadata": {},
      "source": [
        "## Exponents and Logarithms"
      ]
    },
    {
      "cell_type": "code",
      "execution_count": 33,
      "metadata": {},
      "outputs": [],
      "source": [
        "x = [1, 2, 3]"
      ]
    },
    {
      "cell_type": "code",
      "execution_count": 34,
      "metadata": {},
      "outputs": [
        {
          "data": {
            "text/plain": [
              "[1, 2, 3]"
            ]
          },
          "execution_count": 34,
          "metadata": {},
          "output_type": "execute_result"
        }
      ],
      "source": [
        "x"
      ]
    },
    {
      "cell_type": "code",
      "execution_count": 35,
      "metadata": {},
      "outputs": [
        {
          "name": "stdout",
          "output_type": "stream",
          "text": [
            "e^x =  [ 2.71828183  7.3890561  20.08553692]\n"
          ]
        }
      ],
      "source": [
        "print(\"e^x = \",  np.exp(x))"
      ]
    },
    {
      "cell_type": "code",
      "execution_count": 36,
      "metadata": {},
      "outputs": [
        {
          "name": "stdout",
          "output_type": "stream",
          "text": [
            "2^x =  [2. 4. 8.]\n"
          ]
        }
      ],
      "source": [
        "print(\"2^x = \",  np.exp2(x))"
      ]
    },
    {
      "cell_type": "code",
      "execution_count": 37,
      "metadata": {},
      "outputs": [
        {
          "name": "stdout",
          "output_type": "stream",
          "text": [
            "3^x =  [ 3  9 27]\n"
          ]
        }
      ],
      "source": [
        "print(\"3^x = \",  np.power(3, x))"
      ]
    },
    {
      "cell_type": "code",
      "execution_count": 44,
      "metadata": {},
      "outputs": [],
      "source": [
        "x = [1, 2, 4, 16]"
      ]
    },
    {
      "cell_type": "code",
      "execution_count": 46,
      "metadata": {},
      "outputs": [
        {
          "data": {
            "text/plain": [
              "array([0.        , 0.69314718, 1.38629436, 2.77258872])"
            ]
          },
          "execution_count": 46,
          "metadata": {},
          "output_type": "execute_result"
        }
      ],
      "source": [
        "np.log(x)\n"
      ]
    },
    {
      "cell_type": "code",
      "execution_count": 47,
      "metadata": {},
      "outputs": [
        {
          "data": {
            "text/plain": [
              "array([0., 1., 2., 4.])"
            ]
          },
          "execution_count": 47,
          "metadata": {},
          "output_type": "execute_result"
        }
      ],
      "source": [
        "np.log2(x)"
      ]
    },
    {
      "cell_type": "code",
      "execution_count": 48,
      "metadata": {},
      "outputs": [
        {
          "data": {
            "text/plain": [
              "array([0.        , 0.30103   , 0.60205999, 1.20411998])"
            ]
          },
          "execution_count": 48,
          "metadata": {},
          "output_type": "execute_result"
        }
      ],
      "source": [
        "np.log10(x)"
      ]
    },
    {
      "cell_type": "markdown",
      "metadata": {},
      "source": [
        "> Specialized version for precise small input"
      ]
    },
    {
      "cell_type": "code",
      "execution_count": 49,
      "metadata": {},
      "outputs": [
        {
          "name": "stdout",
          "output_type": "stream",
          "text": [
            "exp(x) - 1 [0.         0.0010005  0.01005017 0.10517092]\n",
            "log(1+x) =  [0.         0.0009995  0.00995033 0.09531018]\n"
          ]
        }
      ],
      "source": [
        "x = [0, 0.001, 0.01, 0.1]\n",
        "print(\"exp(x) - 1\", np.expm1(x))\n",
        "print(\"log(1+x) = \", np.log1p(x))"
      ]
    },
    {
      "cell_type": "markdown",
      "metadata": {},
      "source": [
        "## specialized ufuncs"
      ]
    },
    {
      "cell_type": "markdown",
      "metadata": {},
      "source": [
        "### **scipy** for statistics"
      ]
    },
    {
      "cell_type": "code",
      "execution_count": 51,
      "metadata": {},
      "outputs": [],
      "source": [
        "from scipy import special"
      ]
    },
    {
      "cell_type": "code",
      "execution_count": 52,
      "metadata": {},
      "outputs": [],
      "source": [
        "x = [1, 5, 10]"
      ]
    },
    {
      "cell_type": "code",
      "execution_count": 53,
      "metadata": {},
      "outputs": [
        {
          "data": {
            "text/plain": [
              "array([1.0000e+00, 2.4000e+01, 3.6288e+05])"
            ]
          },
          "execution_count": 53,
          "metadata": {},
          "output_type": "execute_result"
        }
      ],
      "source": [
        "special.gamma(x)"
      ]
    },
    {
      "cell_type": "code",
      "execution_count": 54,
      "metadata": {},
      "outputs": [
        {
          "data": {
            "text/plain": [
              "array([ 0.        ,  3.17805383, 12.80182748])"
            ]
          },
          "execution_count": 54,
          "metadata": {},
          "output_type": "execute_result"
        }
      ],
      "source": [
        "special.gammaln(x)"
      ]
    },
    {
      "cell_type": "code",
      "execution_count": 55,
      "metadata": {},
      "outputs": [
        {
          "data": {
            "text/plain": [
              "array([0.5       , 0.03333333, 0.00909091])"
            ]
          },
          "execution_count": 55,
          "metadata": {},
          "output_type": "execute_result"
        }
      ],
      "source": [
        "special.beta(x, 2)"
      ]
    },
    {
      "cell_type": "code",
      "execution_count": 56,
      "metadata": {},
      "outputs": [],
      "source": [
        "x = np.array([0, 0.3, 0.7, 1.0])"
      ]
    },
    {
      "cell_type": "code",
      "execution_count": 57,
      "metadata": {},
      "outputs": [
        {
          "data": {
            "text/plain": [
              "array([0.        , 0.27246271, 0.73286908,        inf])"
            ]
          },
          "execution_count": 57,
          "metadata": {},
          "output_type": "execute_result"
        }
      ],
      "source": [
        "special.erf(x)\n",
        "special.erfc(x)\n",
        "special.erfinv(x)"
      ]
    },
    {
      "cell_type": "markdown",
      "metadata": {},
      "source": [
        "## Advanced Ufunc Features\n",
        "\n",
        "Many NumPy users make use of ufuncs without ever learning their full set of features.\n",
        "We'll outline a few specialized features of ufuncs here."
      ]
    },
    {
      "cell_type": "markdown",
      "metadata": {},
      "source": [
        "### Specifying output\n",
        "\n",
        "For large calculations, it is sometimes useful to be able to specify the array where the result of the calculation will be stored.\n",
        "Rather than creating a temporary array, this can be used to write computation results directly to the memory location where you'd like them to be.\n",
        "For all ufuncs, this can be done using the ``out`` argument of the function:"
      ]
    },
    {
      "cell_type": "code",
      "execution_count": 58,
      "metadata": {},
      "outputs": [
        {
          "name": "stdout",
          "output_type": "stream",
          "text": [
            "[ 0. 10. 20. 30. 40.]\n"
          ]
        }
      ],
      "source": [
        "x = np.arange(5)\n",
        "y = np.empty(len(x))\n",
        "np.multiply(x, 10, out = y)\n",
        "print(y)"
      ]
    },
    {
      "cell_type": "code",
      "execution_count": 59,
      "metadata": {},
      "outputs": [
        {
          "name": "stdout",
          "output_type": "stream",
          "text": [
            "[ 1.  0.  2.  0.  4.  0.  8.  0. 16.  0.]\n"
          ]
        }
      ],
      "source": [
        "y = np.zeros(10)\n",
        "np.power(2, x, out = y[::2])\n",
        "print(y)"
      ]
    },
    {
      "cell_type": "code",
      "execution_count": 60,
      "metadata": {},
      "outputs": [
        {
          "data": {
            "text/plain": [
              "15"
            ]
          },
          "execution_count": 60,
          "metadata": {},
          "output_type": "execute_result"
        }
      ],
      "source": [
        "x = np.arange(1, 6)\n",
        "np.add.reduce(x)"
      ]
    },
    {
      "cell_type": "code",
      "execution_count": 61,
      "metadata": {},
      "outputs": [
        {
          "data": {
            "text/plain": [
              "120"
            ]
          },
          "execution_count": 61,
          "metadata": {},
          "output_type": "execute_result"
        }
      ],
      "source": [
        "np.multiply.reduce(x)"
      ]
    },
    {
      "cell_type": "code",
      "execution_count": 62,
      "metadata": {},
      "outputs": [
        {
          "data": {
            "text/plain": [
              "array([ 1,  3,  6, 10, 15])"
            ]
          },
          "execution_count": 62,
          "metadata": {},
          "output_type": "execute_result"
        }
      ],
      "source": [
        "np.add.accumulate(x)"
      ]
    },
    {
      "cell_type": "code",
      "execution_count": 63,
      "metadata": {},
      "outputs": [
        {
          "data": {
            "text/plain": [
              "array([  1,   2,   6,  24, 120])"
            ]
          },
          "execution_count": 63,
          "metadata": {},
          "output_type": "execute_result"
        }
      ],
      "source": [
        "np.multiply.accumulate(x)"
      ]
    },
    {
      "cell_type": "code",
      "execution_count": 64,
      "metadata": {},
      "outputs": [
        {
          "data": {
            "text/plain": [
              "15"
            ]
          },
          "execution_count": 64,
          "metadata": {},
          "output_type": "execute_result"
        }
      ],
      "source": [
        "np.sum(x)"
      ]
    },
    {
      "cell_type": "code",
      "execution_count": 65,
      "metadata": {},
      "outputs": [
        {
          "data": {
            "text/plain": [
              "120"
            ]
          },
          "execution_count": 65,
          "metadata": {},
          "output_type": "execute_result"
        }
      ],
      "source": [
        "np.prod(x)"
      ]
    },
    {
      "cell_type": "code",
      "execution_count": 66,
      "metadata": {},
      "outputs": [
        {
          "data": {
            "text/plain": [
              "array([ 1,  3,  6, 10, 15])"
            ]
          },
          "execution_count": 66,
          "metadata": {},
          "output_type": "execute_result"
        }
      ],
      "source": [
        "np.cumsum(x)"
      ]
    },
    {
      "cell_type": "code",
      "execution_count": 67,
      "metadata": {},
      "outputs": [
        {
          "data": {
            "text/plain": [
              "array([  1,   2,   6,  24, 120])"
            ]
          },
          "execution_count": 67,
          "metadata": {},
          "output_type": "execute_result"
        }
      ],
      "source": [
        "np.cumprod(x)"
      ]
    },
    {
      "cell_type": "code",
      "execution_count": 70,
      "metadata": {},
      "outputs": [
        {
          "data": {
            "text/plain": [
              "array([1, 2, 3, 4, 5])"
            ]
          },
          "execution_count": 70,
          "metadata": {},
          "output_type": "execute_result"
        }
      ],
      "source": [
        "x = np.arange(1, 6)\n",
        "x"
      ]
    },
    {
      "cell_type": "code",
      "execution_count": 71,
      "metadata": {},
      "outputs": [
        {
          "data": {
            "text/plain": [
              "array([[ 1,  2,  3,  4,  5],\n",
              "       [ 2,  4,  6,  8, 10],\n",
              "       [ 3,  6,  9, 12, 15],\n",
              "       [ 4,  8, 12, 16, 20],\n",
              "       [ 5, 10, 15, 20, 25]])"
            ]
          },
          "execution_count": 71,
          "metadata": {},
          "output_type": "execute_result"
        }
      ],
      "source": [
        "\n",
        "np.multiply.outer(x, x)"
      ]
    },
    {
      "cell_type": "code",
      "execution_count": null,
      "metadata": {},
      "outputs": [],
      "source": []
    }
  ],
  "metadata": {
    "colab": {
      "authorship_tag": "ABX9TyPypq42hCN5OlOvRi/+FZdr",
      "include_colab_link": true,
      "provenance": []
    },
    "kernelspec": {
      "display_name": "Python 3",
      "name": "python3"
    },
    "language_info": {
      "codemirror_mode": {
        "name": "ipython",
        "version": 3
      },
      "file_extension": ".py",
      "mimetype": "text/x-python",
      "name": "python",
      "nbconvert_exporter": "python",
      "pygments_lexer": "ipython3",
      "version": "3.10.7"
    }
  },
  "nbformat": 4,
  "nbformat_minor": 0
}
