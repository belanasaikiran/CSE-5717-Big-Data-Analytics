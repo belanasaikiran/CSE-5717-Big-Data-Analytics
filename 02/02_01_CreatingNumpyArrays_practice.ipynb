{
  "nbformat": 4,
  "nbformat_minor": 0,
  "metadata": {
    "colab": {
      "provenance": [],
      "authorship_tag": "ABX9TyPmU38FpM37fHJKcDES7mgv",
      "include_colab_link": true
    },
    "kernelspec": {
      "name": "python3",
      "display_name": "Python 3"
    },
    "language_info": {
      "name": "python"
    }
  },
  "cells": [
    {
      "cell_type": "markdown",
      "metadata": {
        "id": "view-in-github",
        "colab_type": "text"
      },
      "source": [
        "<a href=\"https://colab.research.google.com/github/belanasaikiran/CSE-5717-Big-Data-Analytics/blob/main/02_01_CreatingNumpyArrays_practice.ipynb\" target=\"_parent\"><img src=\"https://colab.research.google.com/assets/colab-badge.svg\" alt=\"Open In Colab\"/></a>"
      ]
    },
    {
      "cell_type": "markdown",
      "source": [
        "*This notebook contains an excerpt from the [Python Data Science Handbook](http://shop.oreilly.com/product/0636920034919.do) by Jake VanderPlas; the content is available [on GitHub](https://github.com/jakevdp/PythonDataScienceHandbook).*\n"
      ],
      "metadata": {
        "id": "2uzBzzEeRxNp"
      }
    },
    {
      "cell_type": "markdown",
      "source": [
        "# Creating Arrays from Python Lists"
      ],
      "metadata": {
        "id": "gyQLWWffR2ce"
      }
    },
    {
      "cell_type": "markdown",
      "source": [
        "## NumPy:\n",
        "NumPy is a Python library used for working with arrays. It also has functions for working in domain of linear algebra, fourier transform, and matrices. NumPy was created in 2005 by Travis Oliphant.\n"
      ],
      "metadata": {
        "id": "ovgFxS0pQcSk"
      }
    },
    {
      "cell_type": "code",
      "execution_count": 4,
      "metadata": {
        "id": "KhSpw2cYq7BF"
      },
      "outputs": [],
      "source": [
        "import numpy as np\n",
        "#importing numpy library. It is build on C, so faster operations such as array creations, slicing, modifying elements."
      ]
    },
    {
      "cell_type": "markdown",
      "source": [
        "To Create arrays from python lists, we can use `np.array`"
      ],
      "metadata": {
        "id": "KB3yFalyQs7D"
      }
    },
    {
      "cell_type": "code",
      "source": [
        "#integer array:\n",
        "np.array([1,4,2,5,3])"
      ],
      "metadata": {
        "colab": {
          "base_uri": "https://localhost:8080/"
        },
        "id": "R5NE539EQyka",
        "outputId": "c5868b4e-4e8b-401c-dbe9-e5aa55a01e85"
      },
      "execution_count": 5,
      "outputs": [
        {
          "output_type": "execute_result",
          "data": {
            "text/plain": [
              "array([1, 4, 2, 5, 3])"
            ]
          },
          "metadata": {},
          "execution_count": 5
        }
      ]
    },
    {
      "cell_type": "markdown",
      "source": [
        "> Numpy is contrained to arrays that contain the same data type. Make sure types match.\n",
        "\n",
        "---\n",
        "Remember that unlike Python lists, NumPy is constrained to arrays that all contain the same type.\n",
        "If types do not match, NumPy will upcast if possible (here, integers are up-cast to floating point):\n"
      ],
      "metadata": {
        "id": "RFA0-vxDQ8eU"
      }
    },
    {
      "cell_type": "code",
      "source": [
        "np.array([3, 1.4]) # this will take default as floating number\n"
      ],
      "metadata": {
        "colab": {
          "base_uri": "https://localhost:8080/"
        },
        "id": "zFLQliMMQJDg",
        "outputId": "d1cca288-d91b-4191-ee18-c49c8a5b9974"
      },
      "execution_count": 8,
      "outputs": [
        {
          "output_type": "execute_result",
          "data": {
            "text/plain": [
              "array([3. , 1.4])"
            ]
          },
          "metadata": {},
          "execution_count": 8
        }
      ]
    },
    {
      "cell_type": "code",
      "source": [
        "np.array([1, \"Sai Kiran\"]) # makes 1 as string datatype"
      ],
      "metadata": {
        "colab": {
          "base_uri": "https://localhost:8080/"
        },
        "id": "fOEziHVZRPxO",
        "outputId": "fe44eae2-9374-4528-e03c-3965910d03cf"
      },
      "execution_count": 10,
      "outputs": [
        {
          "output_type": "execute_result",
          "data": {
            "text/plain": [
              "array(['1', 'Sai Kiran'], dtype='<U21')"
            ]
          },
          "metadata": {},
          "execution_count": 10
        }
      ]
    },
    {
      "cell_type": "markdown",
      "source": [
        "For a specific data type, use `dtype` keyword"
      ],
      "metadata": {
        "id": "pZmLs7qbSFlh"
      }
    },
    {
      "cell_type": "code",
      "source": [
        "np.array([1,2,3,4], dtype='float32')"
      ],
      "metadata": {
        "colab": {
          "base_uri": "https://localhost:8080/"
        },
        "id": "dctsUcnnRhbn",
        "outputId": "faa279a0-8c9a-424f-bbf7-787c541c05f8"
      },
      "execution_count": 11,
      "outputs": [
        {
          "output_type": "execute_result",
          "data": {
            "text/plain": [
              "array([1., 2., 3., 4.], dtype=float32)"
            ]
          },
          "metadata": {},
          "execution_count": 11
        }
      ]
    },
    {
      "cell_type": "markdown",
      "source": [
        "Finally, unlike python lists, NumPy arrays can explicitly be multi-dimensional; here's one way of initializing a multidimensional; here's one way of initializing a multidimensional array using a list of lists:\n"
      ],
      "metadata": {
        "id": "AKM1qKhjSag3"
      }
    },
    {
      "cell_type": "code",
      "source": [
        "# nested lists result in multi-dimentional arrays\n",
        "np.array([range(i,i+3) for i in [2,4,6]])"
      ],
      "metadata": {
        "colab": {
          "base_uri": "https://localhost:8080/"
        },
        "id": "ULqK6-IlSTdG",
        "outputId": "570b1e45-fad6-403e-fb54-83e218d96150"
      },
      "execution_count": 15,
      "outputs": [
        {
          "output_type": "execute_result",
          "data": {
            "text/plain": [
              "array([[2, 3, 4],\n",
              "       [4, 5, 6],\n",
              "       [6, 7, 8]])"
            ]
          },
          "metadata": {},
          "execution_count": 15
        }
      ]
    },
    {
      "cell_type": "markdown",
      "source": [
        "## Creating Arrays from Scratch\n",
        "\n",
        "Especially for larger arrays, it is more efficient to create arrays from scratch using routines built into NumPy.\n",
        "Here are several examples:"
      ],
      "metadata": {
        "id": "loT5mC78WQG7"
      }
    },
    {
      "cell_type": "code",
      "source": [],
      "metadata": {
        "id": "gPngbVwHUyOH"
      },
      "execution_count": null,
      "outputs": []
    }
  ]
}