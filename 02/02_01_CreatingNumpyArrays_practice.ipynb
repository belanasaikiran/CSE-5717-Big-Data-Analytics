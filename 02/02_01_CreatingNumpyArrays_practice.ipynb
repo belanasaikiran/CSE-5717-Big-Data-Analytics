{
  "nbformat": 4,
  "nbformat_minor": 0,
  "metadata": {
    "colab": {
      "provenance": [],
      "authorship_tag": "ABX9TyNnY166umAZvRYwWsiN8Pzd",
      "include_colab_link": true
    },
    "kernelspec": {
      "name": "python3",
      "display_name": "Python 3"
    },
    "language_info": {
      "name": "python"
    }
  },
  "cells": [
    {
      "cell_type": "markdown",
      "metadata": {
        "id": "view-in-github",
        "colab_type": "text"
      },
      "source": [
        "<a href=\"https://colab.research.google.com/github/belanasaikiran/CSE-5717-Big-Data-Analytics/blob/main/02/02_01_CreatingNumpyArrays_practice.ipynb\" target=\"_parent\"><img src=\"https://colab.research.google.com/assets/colab-badge.svg\" alt=\"Open In Colab\"/></a>"
      ]
    },
    {
      "cell_type": "markdown",
      "source": [
        "*This notebook contains an excerpt from the [Python Data Science Handbook](http://shop.oreilly.com/product/0636920034919.do) by Jake VanderPlas; the content is available [on GitHub](https://github.com/jakevdp/PythonDataScienceHandbook).*\n"
      ],
      "metadata": {
        "id": "2uzBzzEeRxNp"
      }
    },
    {
      "cell_type": "markdown",
      "source": [
        "# Creating Arrays from Python Lists"
      ],
      "metadata": {
        "id": "gyQLWWffR2ce"
      }
    },
    {
      "cell_type": "markdown",
      "source": [
        "## NumPy:\n",
        "NumPy is a Python library used for working with arrays. It also has functions for working in domain of linear algebra, fourier transform, and matrices. NumPy was created in 2005 by Travis Oliphant.\n"
      ],
      "metadata": {
        "id": "ovgFxS0pQcSk"
      }
    },
    {
      "cell_type": "code",
      "execution_count": 2,
      "metadata": {
        "id": "KhSpw2cYq7BF"
      },
      "outputs": [],
      "source": [
        "import numpy as np\n",
        "#importing numpy library. It is build on C, so faster operations such as array creations, slicing, modifying elements."
      ]
    },
    {
      "cell_type": "markdown",
      "source": [
        "To Create arrays from python lists, we can use `np.array`"
      ],
      "metadata": {
        "id": "KB3yFalyQs7D"
      }
    },
    {
      "cell_type": "code",
      "source": [
        "#integer array:\n",
        "np.array([1,4,2,5,3])"
      ],
      "metadata": {
        "colab": {
          "base_uri": "https://localhost:8080/"
        },
        "id": "R5NE539EQyka",
        "outputId": "01649f5f-73af-4bab-ce37-21f405a7aa41"
      },
      "execution_count": 3,
      "outputs": [
        {
          "output_type": "execute_result",
          "data": {
            "text/plain": [
              "array([1, 4, 2, 5, 3])"
            ]
          },
          "metadata": {},
          "execution_count": 3
        }
      ]
    },
    {
      "cell_type": "markdown",
      "source": [
        "> Numpy is contrained to arrays that contain the same data type. Make sure types match.\n",
        "\n",
        "---\n",
        "Remember that unlike Python lists, NumPy is constrained to arrays that all contain the same type.\n",
        "If types do not match, NumPy will upcast if possible (here, integers are up-cast to floating point):\n"
      ],
      "metadata": {
        "id": "RFA0-vxDQ8eU"
      }
    },
    {
      "cell_type": "code",
      "source": [
        "np.array([3, 1.4]) # this will take default as floating number\n"
      ],
      "metadata": {
        "colab": {
          "base_uri": "https://localhost:8080/"
        },
        "id": "zFLQliMMQJDg",
        "outputId": "629a6d6f-a2c6-4f59-89d2-a8914b851867"
      },
      "execution_count": 4,
      "outputs": [
        {
          "output_type": "execute_result",
          "data": {
            "text/plain": [
              "array([3. , 1.4])"
            ]
          },
          "metadata": {},
          "execution_count": 4
        }
      ]
    },
    {
      "cell_type": "code",
      "source": [
        "np.array([1, \"Sai Kiran\"]) # makes 1 as string datatype"
      ],
      "metadata": {
        "colab": {
          "base_uri": "https://localhost:8080/"
        },
        "id": "fOEziHVZRPxO",
        "outputId": "de6e6047-cd8a-4319-a6f8-e35b09081805"
      },
      "execution_count": 5,
      "outputs": [
        {
          "output_type": "execute_result",
          "data": {
            "text/plain": [
              "array(['1', 'Sai Kiran'], dtype='<U21')"
            ]
          },
          "metadata": {},
          "execution_count": 5
        }
      ]
    },
    {
      "cell_type": "markdown",
      "source": [
        "For a specific data type, use `dtype` keyword"
      ],
      "metadata": {
        "id": "pZmLs7qbSFlh"
      }
    },
    {
      "cell_type": "code",
      "source": [
        "np.array([1,2,3,4], dtype='float32')"
      ],
      "metadata": {
        "colab": {
          "base_uri": "https://localhost:8080/"
        },
        "id": "dctsUcnnRhbn",
        "outputId": "1444407e-711e-4828-dde3-1432433c9d1d"
      },
      "execution_count": 6,
      "outputs": [
        {
          "output_type": "execute_result",
          "data": {
            "text/plain": [
              "array([1., 2., 3., 4.], dtype=float32)"
            ]
          },
          "metadata": {},
          "execution_count": 6
        }
      ]
    },
    {
      "cell_type": "markdown",
      "source": [
        "Finally, unlike python lists, NumPy arrays can explicitly be multi-dimensional; here's one way of initializing a multidimensional; here's one way of initializing a multidimensional array using a list of lists:\n"
      ],
      "metadata": {
        "id": "AKM1qKhjSag3"
      }
    },
    {
      "cell_type": "code",
      "source": [
        "# nested lists result in multi-dimentional arrays\n",
        "np.array([range(i,i+3) for i in [2,4,6]])"
      ],
      "metadata": {
        "colab": {
          "base_uri": "https://localhost:8080/"
        },
        "id": "ULqK6-IlSTdG",
        "outputId": "e05b5f73-fe06-4bab-ca78-8ea477868b46"
      },
      "execution_count": 7,
      "outputs": [
        {
          "output_type": "execute_result",
          "data": {
            "text/plain": [
              "array([[2, 3, 4],\n",
              "       [4, 5, 6],\n",
              "       [6, 7, 8]])"
            ]
          },
          "metadata": {},
          "execution_count": 7
        }
      ]
    },
    {
      "cell_type": "markdown",
      "source": [
        "## Creating Arrays from Scratch\n",
        "\n",
        "Especially for larger arrays, it is more efficient to create arrays from scratch using routines built into NumPy.\n",
        "Here are several examples:"
      ],
      "metadata": {
        "id": "loT5mC78WQG7"
      }
    },
    {
      "cell_type": "code",
      "source": [
        "# create a length 10 integer array filled with zeros\n",
        "np.zeros(10, dtype=int)"
      ],
      "metadata": {
        "id": "gPngbVwHUyOH",
        "colab": {
          "base_uri": "https://localhost:8080/"
        },
        "outputId": "ccb89e39-8edb-4908-9e86-99af2d0eb2f4"
      },
      "execution_count": 8,
      "outputs": [
        {
          "output_type": "execute_result",
          "data": {
            "text/plain": [
              "array([0, 0, 0, 0, 0, 0, 0, 0, 0, 0])"
            ]
          },
          "metadata": {},
          "execution_count": 8
        }
      ]
    },
    {
      "cell_type": "code",
      "source": [
        "# create a 3x5 floating-point array filled with ones\n",
        "# NOTE: we are creating 3 rows and 5 columns\n",
        "np.ones((3,5), dtype=float)"
      ],
      "metadata": {
        "colab": {
          "base_uri": "https://localhost:8080/"
        },
        "id": "oXpscxpra1Ac",
        "outputId": "330d0239-5d51-4bfa-94d6-b8496ec02571"
      },
      "execution_count": 15,
      "outputs": [
        {
          "output_type": "execute_result",
          "data": {
            "text/plain": [
              "array([[1., 1., 1., 1., 1.],\n",
              "       [1., 1., 1., 1., 1.],\n",
              "       [1., 1., 1., 1., 1.]])"
            ]
          },
          "metadata": {},
          "execution_count": 15
        }
      ]
    },
    {
      "cell_type": "code",
      "source": [
        "# create a 4x4 array filled with 3.14\n",
        "np.full((4,4), 3.14)"
      ],
      "metadata": {
        "colab": {
          "base_uri": "https://localhost:8080/"
        },
        "id": "e6CmWJyYbJa6",
        "outputId": "c217ab51-5df1-499a-ad4e-3f2bf1a72ae5"
      },
      "execution_count": 16,
      "outputs": [
        {
          "output_type": "execute_result",
          "data": {
            "text/plain": [
              "array([[3.14, 3.14, 3.14, 3.14],\n",
              "       [3.14, 3.14, 3.14, 3.14],\n",
              "       [3.14, 3.14, 3.14, 3.14],\n",
              "       [3.14, 3.14, 3.14, 3.14]])"
            ]
          },
          "metadata": {},
          "execution_count": 16
        }
      ]
    },
    {
      "cell_type": "markdown",
      "source": [
        "create an array filled with a linear sequence\n",
        "starting at 0, ending at 20, stepping by 2\n",
        "> this is similar to built-in ranger() function"
      ],
      "metadata": {
        "id": "e5tx6ucEbwNF"
      }
    },
    {
      "cell_type": "code",
      "source": [
        "np.arange(0,20,2)\n",
        "# we get elements from 0 - 20 with every 2 elements starting from zero.\n"
      ],
      "metadata": {
        "colab": {
          "base_uri": "https://localhost:8080/"
        },
        "id": "DJmQCs8ubbdZ",
        "outputId": "e3a1caba-847b-466d-ec48-070ddfbe4564"
      },
      "execution_count": 20,
      "outputs": [
        {
          "output_type": "execute_result",
          "data": {
            "text/plain": [
              "array([ 0,  2,  4,  6,  8, 10, 12, 14, 16, 18])"
            ]
          },
          "metadata": {},
          "execution_count": 20
        }
      ]
    },
    {
      "cell_type": "code",
      "source": [
        "# create an array of five values evenly spaced between 0 and 1\n",
        "np.linspace(0,1,5)"
      ],
      "metadata": {
        "colab": {
          "base_uri": "https://localhost:8080/"
        },
        "id": "Xxe71XoAbmdY",
        "outputId": "e864afd1-f506-42ab-d0ba-e8c3364a4d00"
      },
      "execution_count": 23,
      "outputs": [
        {
          "output_type": "execute_result",
          "data": {
            "text/plain": [
              "array([0.  , 0.25, 0.5 , 0.75, 1.  ])"
            ]
          },
          "metadata": {},
          "execution_count": 23
        }
      ]
    },
    {
      "cell_type": "code",
      "source": [
        "# create a 3x3 array of uniformly distributed random values b/w 0 and 1\n",
        "np.random.random((3,3))"
      ],
      "metadata": {
        "colab": {
          "base_uri": "https://localhost:8080/"
        },
        "id": "8lxyzc6GcJ3c",
        "outputId": "c72f4ddb-c554-4dc2-fa76-29a77dbda703"
      },
      "execution_count": 26,
      "outputs": [
        {
          "output_type": "execute_result",
          "data": {
            "text/plain": [
              "array([[0.57509204, 0.91029227, 0.75195422],\n",
              "       [0.25095154, 0.75570875, 0.29377533],\n",
              "       [0.07702809, 0.04670889, 0.74698428]])"
            ]
          },
          "metadata": {},
          "execution_count": 26
        }
      ]
    },
    {
      "cell_type": "code",
      "source": [
        "# create a 3x3 array of normally distribued random values with mean 0 and standard deviation 1\n",
        "np.random.normal(0,1, (3,3))"
      ],
      "metadata": {
        "colab": {
          "base_uri": "https://localhost:8080/"
        },
        "id": "v5p35rxOcd1r",
        "outputId": "66d31387-d1d0-4937-f487-44bb9a1ed2f5"
      },
      "execution_count": 27,
      "outputs": [
        {
          "output_type": "execute_result",
          "data": {
            "text/plain": [
              "array([[ 0.36381764, -0.95437253, -1.19764589],\n",
              "       [ 0.6287819 ,  1.98287595, -0.03581534],\n",
              "       [ 1.86410416, -1.37274057,  1.53250398]])"
            ]
          },
          "metadata": {},
          "execution_count": 27
        }
      ]
    },
    {
      "cell_type": "code",
      "source": [
        "# create a 3x3 array of ranfom integers in the interval [0,10]\n",
        "np.random.randint(0,10, (3, 3))"
      ],
      "metadata": {
        "colab": {
          "base_uri": "https://localhost:8080/"
        },
        "id": "5Wn_A5HUc2Xf",
        "outputId": "3a6f31a3-ed28-4a3d-ab81-c2e40d70ba82"
      },
      "execution_count": 31,
      "outputs": [
        {
          "output_type": "execute_result",
          "data": {
            "text/plain": [
              "array([[8, 6, 2],\n",
              "       [8, 8, 0],\n",
              "       [7, 2, 0]])"
            ]
          },
          "metadata": {},
          "execution_count": 31
        }
      ]
    },
    {
      "cell_type": "code",
      "source": [
        "# create a 4x4 identity matrix\n",
        "np.eye(3)"
      ],
      "metadata": {
        "colab": {
          "base_uri": "https://localhost:8080/"
        },
        "id": "bxnE7x56c90M",
        "outputId": "7d0e12ca-4e6a-4db6-a207-0f5c32932184"
      },
      "execution_count": 33,
      "outputs": [
        {
          "output_type": "execute_result",
          "data": {
            "text/plain": [
              "array([[1., 0., 0.],\n",
              "       [0., 1., 0.],\n",
              "       [0., 0., 1.]])"
            ]
          },
          "metadata": {},
          "execution_count": 33
        }
      ]
    },
    {
      "cell_type": "code",
      "source": [
        "# create an uninitialized array of three integers\n",
        "# The values will be whatever happens to already exist at that memory location\n",
        "np.empty(3)"
      ],
      "metadata": {
        "colab": {
          "base_uri": "https://localhost:8080/"
        },
        "id": "zH4YeSEQdKZq",
        "outputId": "c9b46078-4b0b-4b15-d49e-2d2ebaf952b7"
      },
      "execution_count": 36,
      "outputs": [
        {
          "output_type": "execute_result",
          "data": {
            "text/plain": [
              "array([1., 1., 1.])"
            ]
          },
          "metadata": {},
          "execution_count": 36
        }
      ]
    },
    {
      "cell_type": "markdown",
      "source": [
        "# NumPy Standard Data Types\n",
        "\n",
        "NumPy arrays contain values of a single type, so it is important to have detailed knowledge of those types and their limitaions. Becausse NumPy is built in C, the types will be familiar to users of C, Fortran, and other related languages.\n",
        "\n",
        "The Standard NumPy data types are listed in the following table. Note that when constructiing an array, they can be specified using a string:\n"
      ],
      "metadata": {
        "id": "Hc4qMyVQdhc5"
      }
    },
    {
      "cell_type": "code",
      "source": [
        "np.zeros(10, dtype='int16')"
      ],
      "metadata": {
        "colab": {
          "base_uri": "https://localhost:8080/"
        },
        "id": "rBeq0__ydS7-",
        "outputId": "bfce972d-8162-4e8d-dc57-200ce0d6ccdb"
      },
      "execution_count": 37,
      "outputs": [
        {
          "output_type": "execute_result",
          "data": {
            "text/plain": [
              "array([0, 0, 0, 0, 0, 0, 0, 0, 0, 0], dtype=int16)"
            ]
          },
          "metadata": {},
          "execution_count": 37
        }
      ]
    },
    {
      "cell_type": "markdown",
      "source": [
        "Or using the associated NumPy object:"
      ],
      "metadata": {
        "id": "WfCs8GFBeNrH"
      }
    },
    {
      "cell_type": "code",
      "source": [
        "np.zeros(10, dtype=np.int16)"
      ],
      "metadata": {
        "colab": {
          "base_uri": "https://localhost:8080/"
        },
        "id": "YUsY9thBeMsj",
        "outputId": "b4b138d9-e721-4f6f-acd0-d724b0d8b811"
      },
      "execution_count": 39,
      "outputs": [
        {
          "output_type": "execute_result",
          "data": {
            "text/plain": [
              "array([0, 0, 0, 0, 0, 0, 0, 0, 0, 0], dtype=int16)"
            ]
          },
          "metadata": {},
          "execution_count": 39
        }
      ]
    },
    {
      "cell_type": "markdown",
      "source": [
        "| Data type\t    | Description |\n",
        "|---------------|-------------|\n",
        "| ``bool_``     | Boolean (True or False) stored as a byte |\n",
        "| ``int_``      | Default integer type (same as C ``long``; normally either ``int64`` or ``int32``)|\n",
        "| ``intc``      | Identical to C ``int`` (normally ``int32`` or ``int64``)|\n",
        "| ``intp``      | Integer used for indexing (same as C ``ssize_t``; normally either ``int32`` or ``int64``)|\n",
        "| ``int8``      | Byte (-128 to 127)|\n",
        "| ``int16``     | Integer (-32768 to 32767)|\n",
        "| ``int32``     | Integer (-2147483648 to 2147483647)|\n",
        "| ``int64``     | Integer (-9223372036854775808 to 9223372036854775807)|\n",
        "| ``uint8``     | Unsigned integer (0 to 255)|\n",
        "| ``uint16``    | Unsigned integer (0 to 65535)|\n",
        "| ``uint32``    | Unsigned integer (0 to 4294967295)|\n",
        "| ``uint64``    | Unsigned integer (0 to 18446744073709551615)|\n",
        "| ``float_``    | Shorthand for ``float64``.|\n",
        "| ``float16``   | Half precision float: sign bit, 5 bits exponent, 10 bits mantissa|\n",
        "| ``float32``   | Single precision float: sign bit, 8 bits exponent, 23 bits mantissa|\n",
        "| ``float64``   | Double precision float: sign bit, 11 bits exponent, 52 bits mantissa|\n",
        "| ``complex_``  | Shorthand for ``complex128``.|\n",
        "| ``complex64`` | Complex number, represented by two 32-bit floats|\n",
        "| ``complex128``| Complex number, represented by two 64-bit floats|"
      ],
      "metadata": {
        "id": "_u01BMOneg2u"
      }
    },
    {
      "cell_type": "code",
      "source": [],
      "metadata": {
        "id": "LgVbHXxTeX9n"
      },
      "execution_count": null,
      "outputs": []
    }
  ]
}