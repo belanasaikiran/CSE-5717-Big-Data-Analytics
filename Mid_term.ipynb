{
  "nbformat": 4,
  "nbformat_minor": 0,
  "metadata": {
    "colab": {
      "provenance": [],
      "authorship_tag": "ABX9TyOw+QmF5cavjF9GD7MXxWml",
      "include_colab_link": true
    },
    "kernelspec": {
      "name": "python3",
      "display_name": "Python 3"
    },
    "language_info": {
      "name": "python"
    }
  },
  "cells": [
    {
      "cell_type": "markdown",
      "metadata": {
        "id": "view-in-github",
        "colab_type": "text"
      },
      "source": [
        "<a href=\"https://colab.research.google.com/github/belanasaikiran/CSE-5717-Big-Data-Analytics/blob/main/Mid_term.ipynb\" target=\"_parent\"><img src=\"https://colab.research.google.com/assets/colab-badge.svg\" alt=\"Open In Colab\"/></a>"
      ]
    },
    {
      "cell_type": "code",
      "execution_count": 1,
      "metadata": {
        "id": "pLOeuw2p94o8"
      },
      "outputs": [],
      "source": [
        "import numpy as np\n",
        "\n",
        "x = np.random.randint(10, size=(4,5,6))"
      ]
    },
    {
      "cell_type": "code",
      "source": [
        "x.ndim"
      ],
      "metadata": {
        "colab": {
          "base_uri": "https://localhost:8080/"
        },
        "id": "bX6oIF5c-Q9J",
        "outputId": "62aec347-31a7-4884-b4b9-e5e10e4d63ca"
      },
      "execution_count": 2,
      "outputs": [
        {
          "output_type": "execute_result",
          "data": {
            "text/plain": [
              "3"
            ]
          },
          "metadata": {},
          "execution_count": 2
        }
      ]
    },
    {
      "cell_type": "code",
      "source": [
        "x.shape"
      ],
      "metadata": {
        "colab": {
          "base_uri": "https://localhost:8080/"
        },
        "id": "38XT7JIU-ShF",
        "outputId": "d44ab0e0-c477-4105-cec7-cf4648ea81cb"
      },
      "execution_count": 3,
      "outputs": [
        {
          "output_type": "execute_result",
          "data": {
            "text/plain": [
              "(4, 5, 6)"
            ]
          },
          "metadata": {},
          "execution_count": 3
        }
      ]
    },
    {
      "cell_type": "code",
      "source": [
        "x.size"
      ],
      "metadata": {
        "colab": {
          "base_uri": "https://localhost:8080/"
        },
        "id": "mlcHZlHC-ZT1",
        "outputId": "49a933eb-045f-4b21-90d3-4f690d2f92dd"
      },
      "execution_count": 4,
      "outputs": [
        {
          "output_type": "execute_result",
          "data": {
            "text/plain": [
              "120"
            ]
          },
          "metadata": {},
          "execution_count": 4
        }
      ]
    },
    {
      "cell_type": "code",
      "source": [
        "x = np.arange(9).reshape((3,3))\n",
        "print(x[1,1])"
      ],
      "metadata": {
        "colab": {
          "base_uri": "https://localhost:8080/"
        },
        "id": "63ho3iGN-aYA",
        "outputId": "19ce2d62-2f08-4a2e-b416-509bb3cb92a5"
      },
      "execution_count": 5,
      "outputs": [
        {
          "output_type": "stream",
          "name": "stdout",
          "text": [
            "4\n"
          ]
        }
      ]
    },
    {
      "cell_type": "code",
      "source": [
        "x[:1]"
      ],
      "metadata": {
        "colab": {
          "base_uri": "https://localhost:8080/"
        },
        "id": "L2f4RiV6-h27",
        "outputId": "0c0ee9ad-e25a-4376-a656-ffb93ac7bd80"
      },
      "execution_count": 6,
      "outputs": [
        {
          "output_type": "execute_result",
          "data": {
            "text/plain": [
              "array([[0, 1, 2]])"
            ]
          },
          "metadata": {},
          "execution_count": 6
        }
      ]
    },
    {
      "cell_type": "code",
      "source": [
        "x[::-1]"
      ],
      "metadata": {
        "colab": {
          "base_uri": "https://localhost:8080/"
        },
        "id": "RcnfPupH-ofu",
        "outputId": "c43f75e1-a4dd-4cf3-d7e8-23fcd45e2517"
      },
      "execution_count": 7,
      "outputs": [
        {
          "output_type": "execute_result",
          "data": {
            "text/plain": [
              "array([[6, 7, 8],\n",
              "       [3, 4, 5],\n",
              "       [0, 1, 2]])"
            ]
          },
          "metadata": {},
          "execution_count": 7
        }
      ]
    },
    {
      "cell_type": "code",
      "source": [
        "x = np.arange(16).reshape((4,4))\n",
        "\n",
        "x_sub = x[:2, :2]\n",
        "\n",
        "x_sub"
      ],
      "metadata": {
        "colab": {
          "base_uri": "https://localhost:8080/"
        },
        "id": "oh7PrX6y-p6B",
        "outputId": "1c56ceff-4aac-445c-e7cf-e9fb3ae95bc1"
      },
      "execution_count": 8,
      "outputs": [
        {
          "output_type": "execute_result",
          "data": {
            "text/plain": [
              "array([[0, 1],\n",
              "       [4, 5]])"
            ]
          },
          "metadata": {},
          "execution_count": 8
        }
      ]
    },
    {
      "cell_type": "code",
      "source": [
        "x_sub[0][0] = 5\n",
        "\n",
        "np.sum(x, axis = 0)[0]"
      ],
      "metadata": {
        "colab": {
          "base_uri": "https://localhost:8080/"
        },
        "id": "HeZn1kRD-4xQ",
        "outputId": "7db212c3-3633-43ef-8bea-49244c33dba0"
      },
      "execution_count": 9,
      "outputs": [
        {
          "output_type": "execute_result",
          "data": {
            "text/plain": [
              "29"
            ]
          },
          "metadata": {},
          "execution_count": 9
        }
      ]
    },
    {
      "cell_type": "code",
      "source": [
        "x = np.array([1,2,3])\n",
        "y = np.array([[1,2,3]])"
      ],
      "metadata": {
        "id": "g-weZRGj_Bik"
      },
      "execution_count": 10,
      "outputs": []
    },
    {
      "cell_type": "code",
      "source": [
        "x.shape"
      ],
      "metadata": {
        "colab": {
          "base_uri": "https://localhost:8080/"
        },
        "id": "dY2vs7vH_Lx1",
        "outputId": "86c8cdb7-e144-4813-d8ec-64597e4a7a31"
      },
      "execution_count": 11,
      "outputs": [
        {
          "output_type": "execute_result",
          "data": {
            "text/plain": [
              "(3,)"
            ]
          },
          "metadata": {},
          "execution_count": 11
        }
      ]
    },
    {
      "cell_type": "markdown",
      "source": [
        "# come back here\n",
        "4 th question"
      ],
      "metadata": {
        "id": "8Gx9Xan__aGs"
      }
    },
    {
      "cell_type": "code",
      "source": [
        "y.shape"
      ],
      "metadata": {
        "colab": {
          "base_uri": "https://localhost:8080/"
        },
        "id": "gIdDnT4Z_Mg4",
        "outputId": "50a558b0-84a4-4ade-c9c4-da6c2a524cd1"
      },
      "execution_count": 12,
      "outputs": [
        {
          "output_type": "execute_result",
          "data": {
            "text/plain": [
              "(1, 3)"
            ]
          },
          "metadata": {},
          "execution_count": 12
        }
      ]
    },
    {
      "cell_type": "code",
      "source": [
        "x = np.arange(5)\n",
        "x"
      ],
      "metadata": {
        "colab": {
          "base_uri": "https://localhost:8080/"
        },
        "id": "WyeNRD9q_Nsl",
        "outputId": "5ce34372-e961-4f2d-de32-f4334df884cb"
      },
      "execution_count": 13,
      "outputs": [
        {
          "output_type": "execute_result",
          "data": {
            "text/plain": [
              "array([0, 1, 2, 3, 4])"
            ]
          },
          "metadata": {},
          "execution_count": 13
        }
      ]
    },
    {
      "cell_type": "code",
      "source": [
        "%timeit x + 2"
      ],
      "metadata": {
        "colab": {
          "base_uri": "https://localhost:8080/"
        },
        "id": "U2C47310_g4L",
        "outputId": "d3e9482c-fe6a-4d7b-95eb-5460b215e0e8"
      },
      "execution_count": 14,
      "outputs": [
        {
          "output_type": "stream",
          "name": "stdout",
          "text": [
            "4.51 µs ± 708 ns per loop (mean ± std. dev. of 7 runs, 100000 loops each)\n"
          ]
        }
      ]
    },
    {
      "cell_type": "code",
      "source": [
        "%timeit np.add(x, 2) # confirm"
      ],
      "metadata": {
        "colab": {
          "base_uri": "https://localhost:8080/"
        },
        "id": "jtDxRATV_mie",
        "outputId": "5a415697-e213-4dd8-ec19-4bfd416b4e2b"
      },
      "execution_count": 15,
      "outputs": [
        {
          "output_type": "stream",
          "name": "stdout",
          "text": [
            "6.81 µs ± 2.6 µs per loop (mean ± std. dev. of 7 runs, 100000 loops each)\n"
          ]
        }
      ]
    },
    {
      "cell_type": "code",
      "source": [
        "x = np.array([1,2,3])\n",
        "y = np.array([1,2,3]).reshape((3,1))\n",
        "x*x*y"
      ],
      "metadata": {
        "colab": {
          "base_uri": "https://localhost:8080/"
        },
        "id": "nyjy1Rmy_q1_",
        "outputId": "efdc22b0-a8bd-470b-f736-6cf92de718c2"
      },
      "execution_count": 16,
      "outputs": [
        {
          "output_type": "execute_result",
          "data": {
            "text/plain": [
              "array([[ 1,  4,  9],\n",
              "       [ 2,  8, 18],\n",
              "       [ 3, 12, 27]])"
            ]
          },
          "metadata": {},
          "execution_count": 16
        }
      ]
    },
    {
      "cell_type": "code",
      "source": [
        "import pandas as pd"
      ],
      "metadata": {
        "id": "Ogo-XQQkAGr_"
      },
      "execution_count": 17,
      "outputs": []
    },
    {
      "cell_type": "code",
      "source": [
        "data = pd.read_csv(\"./train.csv\")"
      ],
      "metadata": {
        "id": "tG-evhwKAzS-"
      },
      "execution_count": 18,
      "outputs": []
    },
    {
      "cell_type": "code",
      "source": [
        "data.head()"
      ],
      "metadata": {
        "colab": {
          "base_uri": "https://localhost:8080/",
          "height": 255
        },
        "id": "40pp1DUjA5ST",
        "outputId": "86c274b8-13b0-49f6-827e-134c8e36cbac"
      },
      "execution_count": 19,
      "outputs": [
        {
          "output_type": "execute_result",
          "data": {
            "text/plain": [
              "    x1        x2        x3        x4        x5         x6        x7        x8  \\\n",
              "0  1.0  0.026761 -0.620259 -0.892886  1.171058  -1.932229 -5.153764 -2.129748   \n",
              "1  1.0 -0.165811 -0.748739  0.351256  0.345646  -3.694768 -1.859598  3.141265   \n",
              "2  2.0 -1.639684  0.966960 -4.105156 -7.102068 -10.245937 -6.495981 -5.775185   \n",
              "3  3.0  0.392119  0.201262 -0.808156  1.699695   0.468696  9.358398 -5.689655   \n",
              "4  1.0 -0.362154  1.096581 -2.209181  1.430510  -3.040553 -0.556315 -3.125322   \n",
              "\n",
              "         x9       x10  ...        x17        x18        x19        x20  \\\n",
              "0  2.313411 -2.009202  ...  11.882210   9.884163 -10.344449  11.634817   \n",
              "1 -1.101936  2.876558  ...  16.661572   5.165378  14.950746   0.156548   \n",
              "2  4.720946 -4.664918  ...  16.799698 -15.435145  10.807349   9.535390   \n",
              "3 -3.418913  3.456031  ...  -3.148217   0.918380  21.656966  14.706890   \n",
              "4  8.309720 -5.227715  ...   2.679380   3.466357   2.885528   7.154526   \n",
              "\n",
              "         x21       x22       x23       x24       x25    y  \n",
              "0  15.934457 -1.004876 -0.559616  0.425215  0.755477  0.0  \n",
              "1 -24.005558 -0.760881  2.703514  0.020142  1.833380  0.0  \n",
              "2  -1.323079  0.572417  0.797471 -0.857424  1.103354  1.0  \n",
              "3  35.167532  0.399151 -0.763947  0.288066 -0.589866  1.0  \n",
              "4  -3.024414  0.745007 -0.081027 -1.536186 -0.273531  0.0  \n",
              "\n",
              "[5 rows x 26 columns]"
            ],
            "text/html": [
              "\n",
              "  <div id=\"df-698eb21e-fa17-4d77-ac55-1f7b7a6028c1\" class=\"colab-df-container\">\n",
              "    <div>\n",
              "<style scoped>\n",
              "    .dataframe tbody tr th:only-of-type {\n",
              "        vertical-align: middle;\n",
              "    }\n",
              "\n",
              "    .dataframe tbody tr th {\n",
              "        vertical-align: top;\n",
              "    }\n",
              "\n",
              "    .dataframe thead th {\n",
              "        text-align: right;\n",
              "    }\n",
              "</style>\n",
              "<table border=\"1\" class=\"dataframe\">\n",
              "  <thead>\n",
              "    <tr style=\"text-align: right;\">\n",
              "      <th></th>\n",
              "      <th>x1</th>\n",
              "      <th>x2</th>\n",
              "      <th>x3</th>\n",
              "      <th>x4</th>\n",
              "      <th>x5</th>\n",
              "      <th>x6</th>\n",
              "      <th>x7</th>\n",
              "      <th>x8</th>\n",
              "      <th>x9</th>\n",
              "      <th>x10</th>\n",
              "      <th>...</th>\n",
              "      <th>x17</th>\n",
              "      <th>x18</th>\n",
              "      <th>x19</th>\n",
              "      <th>x20</th>\n",
              "      <th>x21</th>\n",
              "      <th>x22</th>\n",
              "      <th>x23</th>\n",
              "      <th>x24</th>\n",
              "      <th>x25</th>\n",
              "      <th>y</th>\n",
              "    </tr>\n",
              "  </thead>\n",
              "  <tbody>\n",
              "    <tr>\n",
              "      <th>0</th>\n",
              "      <td>1.0</td>\n",
              "      <td>0.026761</td>\n",
              "      <td>-0.620259</td>\n",
              "      <td>-0.892886</td>\n",
              "      <td>1.171058</td>\n",
              "      <td>-1.932229</td>\n",
              "      <td>-5.153764</td>\n",
              "      <td>-2.129748</td>\n",
              "      <td>2.313411</td>\n",
              "      <td>-2.009202</td>\n",
              "      <td>...</td>\n",
              "      <td>11.882210</td>\n",
              "      <td>9.884163</td>\n",
              "      <td>-10.344449</td>\n",
              "      <td>11.634817</td>\n",
              "      <td>15.934457</td>\n",
              "      <td>-1.004876</td>\n",
              "      <td>-0.559616</td>\n",
              "      <td>0.425215</td>\n",
              "      <td>0.755477</td>\n",
              "      <td>0.0</td>\n",
              "    </tr>\n",
              "    <tr>\n",
              "      <th>1</th>\n",
              "      <td>1.0</td>\n",
              "      <td>-0.165811</td>\n",
              "      <td>-0.748739</td>\n",
              "      <td>0.351256</td>\n",
              "      <td>0.345646</td>\n",
              "      <td>-3.694768</td>\n",
              "      <td>-1.859598</td>\n",
              "      <td>3.141265</td>\n",
              "      <td>-1.101936</td>\n",
              "      <td>2.876558</td>\n",
              "      <td>...</td>\n",
              "      <td>16.661572</td>\n",
              "      <td>5.165378</td>\n",
              "      <td>14.950746</td>\n",
              "      <td>0.156548</td>\n",
              "      <td>-24.005558</td>\n",
              "      <td>-0.760881</td>\n",
              "      <td>2.703514</td>\n",
              "      <td>0.020142</td>\n",
              "      <td>1.833380</td>\n",
              "      <td>0.0</td>\n",
              "    </tr>\n",
              "    <tr>\n",
              "      <th>2</th>\n",
              "      <td>2.0</td>\n",
              "      <td>-1.639684</td>\n",
              "      <td>0.966960</td>\n",
              "      <td>-4.105156</td>\n",
              "      <td>-7.102068</td>\n",
              "      <td>-10.245937</td>\n",
              "      <td>-6.495981</td>\n",
              "      <td>-5.775185</td>\n",
              "      <td>4.720946</td>\n",
              "      <td>-4.664918</td>\n",
              "      <td>...</td>\n",
              "      <td>16.799698</td>\n",
              "      <td>-15.435145</td>\n",
              "      <td>10.807349</td>\n",
              "      <td>9.535390</td>\n",
              "      <td>-1.323079</td>\n",
              "      <td>0.572417</td>\n",
              "      <td>0.797471</td>\n",
              "      <td>-0.857424</td>\n",
              "      <td>1.103354</td>\n",
              "      <td>1.0</td>\n",
              "    </tr>\n",
              "    <tr>\n",
              "      <th>3</th>\n",
              "      <td>3.0</td>\n",
              "      <td>0.392119</td>\n",
              "      <td>0.201262</td>\n",
              "      <td>-0.808156</td>\n",
              "      <td>1.699695</td>\n",
              "      <td>0.468696</td>\n",
              "      <td>9.358398</td>\n",
              "      <td>-5.689655</td>\n",
              "      <td>-3.418913</td>\n",
              "      <td>3.456031</td>\n",
              "      <td>...</td>\n",
              "      <td>-3.148217</td>\n",
              "      <td>0.918380</td>\n",
              "      <td>21.656966</td>\n",
              "      <td>14.706890</td>\n",
              "      <td>35.167532</td>\n",
              "      <td>0.399151</td>\n",
              "      <td>-0.763947</td>\n",
              "      <td>0.288066</td>\n",
              "      <td>-0.589866</td>\n",
              "      <td>1.0</td>\n",
              "    </tr>\n",
              "    <tr>\n",
              "      <th>4</th>\n",
              "      <td>1.0</td>\n",
              "      <td>-0.362154</td>\n",
              "      <td>1.096581</td>\n",
              "      <td>-2.209181</td>\n",
              "      <td>1.430510</td>\n",
              "      <td>-3.040553</td>\n",
              "      <td>-0.556315</td>\n",
              "      <td>-3.125322</td>\n",
              "      <td>8.309720</td>\n",
              "      <td>-5.227715</td>\n",
              "      <td>...</td>\n",
              "      <td>2.679380</td>\n",
              "      <td>3.466357</td>\n",
              "      <td>2.885528</td>\n",
              "      <td>7.154526</td>\n",
              "      <td>-3.024414</td>\n",
              "      <td>0.745007</td>\n",
              "      <td>-0.081027</td>\n",
              "      <td>-1.536186</td>\n",
              "      <td>-0.273531</td>\n",
              "      <td>0.0</td>\n",
              "    </tr>\n",
              "  </tbody>\n",
              "</table>\n",
              "<p>5 rows × 26 columns</p>\n",
              "</div>\n",
              "    <div class=\"colab-df-buttons\">\n",
              "\n",
              "  <div class=\"colab-df-container\">\n",
              "    <button class=\"colab-df-convert\" onclick=\"convertToInteractive('df-698eb21e-fa17-4d77-ac55-1f7b7a6028c1')\"\n",
              "            title=\"Convert this dataframe to an interactive table.\"\n",
              "            style=\"display:none;\">\n",
              "\n",
              "  <svg xmlns=\"http://www.w3.org/2000/svg\" height=\"24px\" viewBox=\"0 -960 960 960\">\n",
              "    <path d=\"M120-120v-720h720v720H120Zm60-500h600v-160H180v160Zm220 220h160v-160H400v160Zm0 220h160v-160H400v160ZM180-400h160v-160H180v160Zm440 0h160v-160H620v160ZM180-180h160v-160H180v160Zm440 0h160v-160H620v160Z\"/>\n",
              "  </svg>\n",
              "    </button>\n",
              "\n",
              "  <style>\n",
              "    .colab-df-container {\n",
              "      display:flex;\n",
              "      gap: 12px;\n",
              "    }\n",
              "\n",
              "    .colab-df-convert {\n",
              "      background-color: #E8F0FE;\n",
              "      border: none;\n",
              "      border-radius: 50%;\n",
              "      cursor: pointer;\n",
              "      display: none;\n",
              "      fill: #1967D2;\n",
              "      height: 32px;\n",
              "      padding: 0 0 0 0;\n",
              "      width: 32px;\n",
              "    }\n",
              "\n",
              "    .colab-df-convert:hover {\n",
              "      background-color: #E2EBFA;\n",
              "      box-shadow: 0px 1px 2px rgba(60, 64, 67, 0.3), 0px 1px 3px 1px rgba(60, 64, 67, 0.15);\n",
              "      fill: #174EA6;\n",
              "    }\n",
              "\n",
              "    .colab-df-buttons div {\n",
              "      margin-bottom: 4px;\n",
              "    }\n",
              "\n",
              "    [theme=dark] .colab-df-convert {\n",
              "      background-color: #3B4455;\n",
              "      fill: #D2E3FC;\n",
              "    }\n",
              "\n",
              "    [theme=dark] .colab-df-convert:hover {\n",
              "      background-color: #434B5C;\n",
              "      box-shadow: 0px 1px 3px 1px rgba(0, 0, 0, 0.15);\n",
              "      filter: drop-shadow(0px 1px 2px rgba(0, 0, 0, 0.3));\n",
              "      fill: #FFFFFF;\n",
              "    }\n",
              "  </style>\n",
              "\n",
              "    <script>\n",
              "      const buttonEl =\n",
              "        document.querySelector('#df-698eb21e-fa17-4d77-ac55-1f7b7a6028c1 button.colab-df-convert');\n",
              "      buttonEl.style.display =\n",
              "        google.colab.kernel.accessAllowed ? 'block' : 'none';\n",
              "\n",
              "      async function convertToInteractive(key) {\n",
              "        const element = document.querySelector('#df-698eb21e-fa17-4d77-ac55-1f7b7a6028c1');\n",
              "        const dataTable =\n",
              "          await google.colab.kernel.invokeFunction('convertToInteractive',\n",
              "                                                    [key], {});\n",
              "        if (!dataTable) return;\n",
              "\n",
              "        const docLinkHtml = 'Like what you see? Visit the ' +\n",
              "          '<a target=\"_blank\" href=https://colab.research.google.com/notebooks/data_table.ipynb>data table notebook</a>'\n",
              "          + ' to learn more about interactive tables.';\n",
              "        element.innerHTML = '';\n",
              "        dataTable['output_type'] = 'display_data';\n",
              "        await google.colab.output.renderOutput(dataTable, element);\n",
              "        const docLink = document.createElement('div');\n",
              "        docLink.innerHTML = docLinkHtml;\n",
              "        element.appendChild(docLink);\n",
              "      }\n",
              "    </script>\n",
              "  </div>\n",
              "\n",
              "\n",
              "<div id=\"df-581a6930-d668-4941-9f73-8d5ec6557148\">\n",
              "  <button class=\"colab-df-quickchart\" onclick=\"quickchart('df-581a6930-d668-4941-9f73-8d5ec6557148')\"\n",
              "            title=\"Suggest charts\"\n",
              "            style=\"display:none;\">\n",
              "\n",
              "<svg xmlns=\"http://www.w3.org/2000/svg\" height=\"24px\"viewBox=\"0 0 24 24\"\n",
              "     width=\"24px\">\n",
              "    <g>\n",
              "        <path d=\"M19 3H5c-1.1 0-2 .9-2 2v14c0 1.1.9 2 2 2h14c1.1 0 2-.9 2-2V5c0-1.1-.9-2-2-2zM9 17H7v-7h2v7zm4 0h-2V7h2v10zm4 0h-2v-4h2v4z\"/>\n",
              "    </g>\n",
              "</svg>\n",
              "  </button>\n",
              "\n",
              "<style>\n",
              "  .colab-df-quickchart {\n",
              "      --bg-color: #E8F0FE;\n",
              "      --fill-color: #1967D2;\n",
              "      --hover-bg-color: #E2EBFA;\n",
              "      --hover-fill-color: #174EA6;\n",
              "      --disabled-fill-color: #AAA;\n",
              "      --disabled-bg-color: #DDD;\n",
              "  }\n",
              "\n",
              "  [theme=dark] .colab-df-quickchart {\n",
              "      --bg-color: #3B4455;\n",
              "      --fill-color: #D2E3FC;\n",
              "      --hover-bg-color: #434B5C;\n",
              "      --hover-fill-color: #FFFFFF;\n",
              "      --disabled-bg-color: #3B4455;\n",
              "      --disabled-fill-color: #666;\n",
              "  }\n",
              "\n",
              "  .colab-df-quickchart {\n",
              "    background-color: var(--bg-color);\n",
              "    border: none;\n",
              "    border-radius: 50%;\n",
              "    cursor: pointer;\n",
              "    display: none;\n",
              "    fill: var(--fill-color);\n",
              "    height: 32px;\n",
              "    padding: 0;\n",
              "    width: 32px;\n",
              "  }\n",
              "\n",
              "  .colab-df-quickchart:hover {\n",
              "    background-color: var(--hover-bg-color);\n",
              "    box-shadow: 0 1px 2px rgba(60, 64, 67, 0.3), 0 1px 3px 1px rgba(60, 64, 67, 0.15);\n",
              "    fill: var(--button-hover-fill-color);\n",
              "  }\n",
              "\n",
              "  .colab-df-quickchart-complete:disabled,\n",
              "  .colab-df-quickchart-complete:disabled:hover {\n",
              "    background-color: var(--disabled-bg-color);\n",
              "    fill: var(--disabled-fill-color);\n",
              "    box-shadow: none;\n",
              "  }\n",
              "\n",
              "  .colab-df-spinner {\n",
              "    border: 2px solid var(--fill-color);\n",
              "    border-color: transparent;\n",
              "    border-bottom-color: var(--fill-color);\n",
              "    animation:\n",
              "      spin 1s steps(1) infinite;\n",
              "  }\n",
              "\n",
              "  @keyframes spin {\n",
              "    0% {\n",
              "      border-color: transparent;\n",
              "      border-bottom-color: var(--fill-color);\n",
              "      border-left-color: var(--fill-color);\n",
              "    }\n",
              "    20% {\n",
              "      border-color: transparent;\n",
              "      border-left-color: var(--fill-color);\n",
              "      border-top-color: var(--fill-color);\n",
              "    }\n",
              "    30% {\n",
              "      border-color: transparent;\n",
              "      border-left-color: var(--fill-color);\n",
              "      border-top-color: var(--fill-color);\n",
              "      border-right-color: var(--fill-color);\n",
              "    }\n",
              "    40% {\n",
              "      border-color: transparent;\n",
              "      border-right-color: var(--fill-color);\n",
              "      border-top-color: var(--fill-color);\n",
              "    }\n",
              "    60% {\n",
              "      border-color: transparent;\n",
              "      border-right-color: var(--fill-color);\n",
              "    }\n",
              "    80% {\n",
              "      border-color: transparent;\n",
              "      border-right-color: var(--fill-color);\n",
              "      border-bottom-color: var(--fill-color);\n",
              "    }\n",
              "    90% {\n",
              "      border-color: transparent;\n",
              "      border-bottom-color: var(--fill-color);\n",
              "    }\n",
              "  }\n",
              "</style>\n",
              "\n",
              "  <script>\n",
              "    async function quickchart(key) {\n",
              "      const quickchartButtonEl =\n",
              "        document.querySelector('#' + key + ' button');\n",
              "      quickchartButtonEl.disabled = true;  // To prevent multiple clicks.\n",
              "      quickchartButtonEl.classList.add('colab-df-spinner');\n",
              "      try {\n",
              "        const charts = await google.colab.kernel.invokeFunction(\n",
              "            'suggestCharts', [key], {});\n",
              "      } catch (error) {\n",
              "        console.error('Error during call to suggestCharts:', error);\n",
              "      }\n",
              "      quickchartButtonEl.classList.remove('colab-df-spinner');\n",
              "      quickchartButtonEl.classList.add('colab-df-quickchart-complete');\n",
              "    }\n",
              "    (() => {\n",
              "      let quickchartButtonEl =\n",
              "        document.querySelector('#df-581a6930-d668-4941-9f73-8d5ec6557148 button');\n",
              "      quickchartButtonEl.style.display =\n",
              "        google.colab.kernel.accessAllowed ? 'block' : 'none';\n",
              "    })();\n",
              "  </script>\n",
              "</div>\n",
              "    </div>\n",
              "  </div>\n"
            ],
            "application/vnd.google.colaboratory.intrinsic+json": {
              "type": "dataframe",
              "variable_name": "data"
            }
          },
          "metadata": {},
          "execution_count": 19
        }
      ]
    },
    {
      "cell_type": "code",
      "source": [
        "data.describe()"
      ],
      "metadata": {
        "colab": {
          "base_uri": "https://localhost:8080/",
          "height": 349
        },
        "id": "zI95j67hA6UD",
        "outputId": "f3bbc52e-0129-47e5-c32b-8e5497a82d3f"
      },
      "execution_count": 20,
      "outputs": [
        {
          "output_type": "execute_result",
          "data": {
            "text/plain": [
              "                x1           x2           x3           x4           x5  \\\n",
              "count  7500.000000  7500.000000  7500.000000  7500.000000  7500.000000   \n",
              "mean      1.843067     0.051517     0.168138     0.216066     0.350962   \n",
              "std       0.853621     0.797982     1.577992     2.367254     3.156170   \n",
              "min       1.000000    -3.317763    -6.031931   -10.497184   -15.597329   \n",
              "25%       1.000000    -0.423681    -0.758705    -1.165111    -1.506647   \n",
              "50%       2.000000     0.039337     0.115522     0.188675     0.372663   \n",
              "75%       3.000000     0.504788     1.087809     1.594673     2.209389   \n",
              "max       3.000000     3.717462     6.617456    11.496319    14.174944   \n",
              "\n",
              "                x6           x7           x8           x9          x10  ...  \\\n",
              "count  7500.000000  7500.000000  7500.000000  7500.000000  7500.000000  ...   \n",
              "mean      0.472082     0.500805     0.721626     0.766948     0.818067  ...   \n",
              "std       3.899687     4.788771     5.619513     6.349189     7.188440  ...   \n",
              "min     -16.667881   -18.318668   -25.862462   -26.907451   -29.242184  ...   \n",
              "25%      -1.772049    -2.290082    -2.511824    -2.967126    -3.377580  ...   \n",
              "50%       0.511524     0.522869     0.670736     0.829468     0.773383  ...   \n",
              "75%       2.781103     3.242105     4.038845     4.492607     5.006287  ...   \n",
              "max      19.039526    20.006664    24.423756    25.982852    30.435956  ...   \n",
              "\n",
              "               x17          x18          x19          x20          x21  \\\n",
              "count  7500.000000  7500.000000  7500.000000  7500.000000  7500.000000   \n",
              "mean      1.279188     1.896591     1.639105     2.102971     2.231801   \n",
              "std      12.703391    13.265546    13.899751    15.031612    15.629652   \n",
              "min     -56.916811   -61.961221   -62.344680   -55.443448   -70.544154   \n",
              "25%      -6.057632    -5.867732    -6.586638    -6.794115    -7.145656   \n",
              "50%       1.355423     1.931477     1.735362     1.870309     2.290904   \n",
              "75%       8.867802     9.669442     9.868522    10.971638    11.341827   \n",
              "max      58.378918    56.667929    66.959747    77.460496    65.621669   \n",
              "\n",
              "               x22          x23          x24          x25            y  \n",
              "count  7500.000000  7500.000000  7500.000000  7500.000000  7500.000000  \n",
              "mean     -0.012986     0.029115    -0.008393    -0.000845     0.502933  \n",
              "std       0.993627     1.002972     0.991703     0.995305     0.500025  \n",
              "min      -3.729174    -3.792422    -4.003598    -4.413886     0.000000  \n",
              "25%      -0.684431    -0.647845    -0.666472    -0.669748     0.000000  \n",
              "50%      -0.003062     0.027475    -0.011923    -0.008219     1.000000  \n",
              "75%       0.645228     0.700667     0.649573     0.681323     1.000000  \n",
              "max       3.329855     3.605568     3.863906     3.558600     1.000000  \n",
              "\n",
              "[8 rows x 26 columns]"
            ],
            "text/html": [
              "\n",
              "  <div id=\"df-f6b157d3-ccc0-4285-be1a-8827d5c6c906\" class=\"colab-df-container\">\n",
              "    <div>\n",
              "<style scoped>\n",
              "    .dataframe tbody tr th:only-of-type {\n",
              "        vertical-align: middle;\n",
              "    }\n",
              "\n",
              "    .dataframe tbody tr th {\n",
              "        vertical-align: top;\n",
              "    }\n",
              "\n",
              "    .dataframe thead th {\n",
              "        text-align: right;\n",
              "    }\n",
              "</style>\n",
              "<table border=\"1\" class=\"dataframe\">\n",
              "  <thead>\n",
              "    <tr style=\"text-align: right;\">\n",
              "      <th></th>\n",
              "      <th>x1</th>\n",
              "      <th>x2</th>\n",
              "      <th>x3</th>\n",
              "      <th>x4</th>\n",
              "      <th>x5</th>\n",
              "      <th>x6</th>\n",
              "      <th>x7</th>\n",
              "      <th>x8</th>\n",
              "      <th>x9</th>\n",
              "      <th>x10</th>\n",
              "      <th>...</th>\n",
              "      <th>x17</th>\n",
              "      <th>x18</th>\n",
              "      <th>x19</th>\n",
              "      <th>x20</th>\n",
              "      <th>x21</th>\n",
              "      <th>x22</th>\n",
              "      <th>x23</th>\n",
              "      <th>x24</th>\n",
              "      <th>x25</th>\n",
              "      <th>y</th>\n",
              "    </tr>\n",
              "  </thead>\n",
              "  <tbody>\n",
              "    <tr>\n",
              "      <th>count</th>\n",
              "      <td>7500.000000</td>\n",
              "      <td>7500.000000</td>\n",
              "      <td>7500.000000</td>\n",
              "      <td>7500.000000</td>\n",
              "      <td>7500.000000</td>\n",
              "      <td>7500.000000</td>\n",
              "      <td>7500.000000</td>\n",
              "      <td>7500.000000</td>\n",
              "      <td>7500.000000</td>\n",
              "      <td>7500.000000</td>\n",
              "      <td>...</td>\n",
              "      <td>7500.000000</td>\n",
              "      <td>7500.000000</td>\n",
              "      <td>7500.000000</td>\n",
              "      <td>7500.000000</td>\n",
              "      <td>7500.000000</td>\n",
              "      <td>7500.000000</td>\n",
              "      <td>7500.000000</td>\n",
              "      <td>7500.000000</td>\n",
              "      <td>7500.000000</td>\n",
              "      <td>7500.000000</td>\n",
              "    </tr>\n",
              "    <tr>\n",
              "      <th>mean</th>\n",
              "      <td>1.843067</td>\n",
              "      <td>0.051517</td>\n",
              "      <td>0.168138</td>\n",
              "      <td>0.216066</td>\n",
              "      <td>0.350962</td>\n",
              "      <td>0.472082</td>\n",
              "      <td>0.500805</td>\n",
              "      <td>0.721626</td>\n",
              "      <td>0.766948</td>\n",
              "      <td>0.818067</td>\n",
              "      <td>...</td>\n",
              "      <td>1.279188</td>\n",
              "      <td>1.896591</td>\n",
              "      <td>1.639105</td>\n",
              "      <td>2.102971</td>\n",
              "      <td>2.231801</td>\n",
              "      <td>-0.012986</td>\n",
              "      <td>0.029115</td>\n",
              "      <td>-0.008393</td>\n",
              "      <td>-0.000845</td>\n",
              "      <td>0.502933</td>\n",
              "    </tr>\n",
              "    <tr>\n",
              "      <th>std</th>\n",
              "      <td>0.853621</td>\n",
              "      <td>0.797982</td>\n",
              "      <td>1.577992</td>\n",
              "      <td>2.367254</td>\n",
              "      <td>3.156170</td>\n",
              "      <td>3.899687</td>\n",
              "      <td>4.788771</td>\n",
              "      <td>5.619513</td>\n",
              "      <td>6.349189</td>\n",
              "      <td>7.188440</td>\n",
              "      <td>...</td>\n",
              "      <td>12.703391</td>\n",
              "      <td>13.265546</td>\n",
              "      <td>13.899751</td>\n",
              "      <td>15.031612</td>\n",
              "      <td>15.629652</td>\n",
              "      <td>0.993627</td>\n",
              "      <td>1.002972</td>\n",
              "      <td>0.991703</td>\n",
              "      <td>0.995305</td>\n",
              "      <td>0.500025</td>\n",
              "    </tr>\n",
              "    <tr>\n",
              "      <th>min</th>\n",
              "      <td>1.000000</td>\n",
              "      <td>-3.317763</td>\n",
              "      <td>-6.031931</td>\n",
              "      <td>-10.497184</td>\n",
              "      <td>-15.597329</td>\n",
              "      <td>-16.667881</td>\n",
              "      <td>-18.318668</td>\n",
              "      <td>-25.862462</td>\n",
              "      <td>-26.907451</td>\n",
              "      <td>-29.242184</td>\n",
              "      <td>...</td>\n",
              "      <td>-56.916811</td>\n",
              "      <td>-61.961221</td>\n",
              "      <td>-62.344680</td>\n",
              "      <td>-55.443448</td>\n",
              "      <td>-70.544154</td>\n",
              "      <td>-3.729174</td>\n",
              "      <td>-3.792422</td>\n",
              "      <td>-4.003598</td>\n",
              "      <td>-4.413886</td>\n",
              "      <td>0.000000</td>\n",
              "    </tr>\n",
              "    <tr>\n",
              "      <th>25%</th>\n",
              "      <td>1.000000</td>\n",
              "      <td>-0.423681</td>\n",
              "      <td>-0.758705</td>\n",
              "      <td>-1.165111</td>\n",
              "      <td>-1.506647</td>\n",
              "      <td>-1.772049</td>\n",
              "      <td>-2.290082</td>\n",
              "      <td>-2.511824</td>\n",
              "      <td>-2.967126</td>\n",
              "      <td>-3.377580</td>\n",
              "      <td>...</td>\n",
              "      <td>-6.057632</td>\n",
              "      <td>-5.867732</td>\n",
              "      <td>-6.586638</td>\n",
              "      <td>-6.794115</td>\n",
              "      <td>-7.145656</td>\n",
              "      <td>-0.684431</td>\n",
              "      <td>-0.647845</td>\n",
              "      <td>-0.666472</td>\n",
              "      <td>-0.669748</td>\n",
              "      <td>0.000000</td>\n",
              "    </tr>\n",
              "    <tr>\n",
              "      <th>50%</th>\n",
              "      <td>2.000000</td>\n",
              "      <td>0.039337</td>\n",
              "      <td>0.115522</td>\n",
              "      <td>0.188675</td>\n",
              "      <td>0.372663</td>\n",
              "      <td>0.511524</td>\n",
              "      <td>0.522869</td>\n",
              "      <td>0.670736</td>\n",
              "      <td>0.829468</td>\n",
              "      <td>0.773383</td>\n",
              "      <td>...</td>\n",
              "      <td>1.355423</td>\n",
              "      <td>1.931477</td>\n",
              "      <td>1.735362</td>\n",
              "      <td>1.870309</td>\n",
              "      <td>2.290904</td>\n",
              "      <td>-0.003062</td>\n",
              "      <td>0.027475</td>\n",
              "      <td>-0.011923</td>\n",
              "      <td>-0.008219</td>\n",
              "      <td>1.000000</td>\n",
              "    </tr>\n",
              "    <tr>\n",
              "      <th>75%</th>\n",
              "      <td>3.000000</td>\n",
              "      <td>0.504788</td>\n",
              "      <td>1.087809</td>\n",
              "      <td>1.594673</td>\n",
              "      <td>2.209389</td>\n",
              "      <td>2.781103</td>\n",
              "      <td>3.242105</td>\n",
              "      <td>4.038845</td>\n",
              "      <td>4.492607</td>\n",
              "      <td>5.006287</td>\n",
              "      <td>...</td>\n",
              "      <td>8.867802</td>\n",
              "      <td>9.669442</td>\n",
              "      <td>9.868522</td>\n",
              "      <td>10.971638</td>\n",
              "      <td>11.341827</td>\n",
              "      <td>0.645228</td>\n",
              "      <td>0.700667</td>\n",
              "      <td>0.649573</td>\n",
              "      <td>0.681323</td>\n",
              "      <td>1.000000</td>\n",
              "    </tr>\n",
              "    <tr>\n",
              "      <th>max</th>\n",
              "      <td>3.000000</td>\n",
              "      <td>3.717462</td>\n",
              "      <td>6.617456</td>\n",
              "      <td>11.496319</td>\n",
              "      <td>14.174944</td>\n",
              "      <td>19.039526</td>\n",
              "      <td>20.006664</td>\n",
              "      <td>24.423756</td>\n",
              "      <td>25.982852</td>\n",
              "      <td>30.435956</td>\n",
              "      <td>...</td>\n",
              "      <td>58.378918</td>\n",
              "      <td>56.667929</td>\n",
              "      <td>66.959747</td>\n",
              "      <td>77.460496</td>\n",
              "      <td>65.621669</td>\n",
              "      <td>3.329855</td>\n",
              "      <td>3.605568</td>\n",
              "      <td>3.863906</td>\n",
              "      <td>3.558600</td>\n",
              "      <td>1.000000</td>\n",
              "    </tr>\n",
              "  </tbody>\n",
              "</table>\n",
              "<p>8 rows × 26 columns</p>\n",
              "</div>\n",
              "    <div class=\"colab-df-buttons\">\n",
              "\n",
              "  <div class=\"colab-df-container\">\n",
              "    <button class=\"colab-df-convert\" onclick=\"convertToInteractive('df-f6b157d3-ccc0-4285-be1a-8827d5c6c906')\"\n",
              "            title=\"Convert this dataframe to an interactive table.\"\n",
              "            style=\"display:none;\">\n",
              "\n",
              "  <svg xmlns=\"http://www.w3.org/2000/svg\" height=\"24px\" viewBox=\"0 -960 960 960\">\n",
              "    <path d=\"M120-120v-720h720v720H120Zm60-500h600v-160H180v160Zm220 220h160v-160H400v160Zm0 220h160v-160H400v160ZM180-400h160v-160H180v160Zm440 0h160v-160H620v160ZM180-180h160v-160H180v160Zm440 0h160v-160H620v160Z\"/>\n",
              "  </svg>\n",
              "    </button>\n",
              "\n",
              "  <style>\n",
              "    .colab-df-container {\n",
              "      display:flex;\n",
              "      gap: 12px;\n",
              "    }\n",
              "\n",
              "    .colab-df-convert {\n",
              "      background-color: #E8F0FE;\n",
              "      border: none;\n",
              "      border-radius: 50%;\n",
              "      cursor: pointer;\n",
              "      display: none;\n",
              "      fill: #1967D2;\n",
              "      height: 32px;\n",
              "      padding: 0 0 0 0;\n",
              "      width: 32px;\n",
              "    }\n",
              "\n",
              "    .colab-df-convert:hover {\n",
              "      background-color: #E2EBFA;\n",
              "      box-shadow: 0px 1px 2px rgba(60, 64, 67, 0.3), 0px 1px 3px 1px rgba(60, 64, 67, 0.15);\n",
              "      fill: #174EA6;\n",
              "    }\n",
              "\n",
              "    .colab-df-buttons div {\n",
              "      margin-bottom: 4px;\n",
              "    }\n",
              "\n",
              "    [theme=dark] .colab-df-convert {\n",
              "      background-color: #3B4455;\n",
              "      fill: #D2E3FC;\n",
              "    }\n",
              "\n",
              "    [theme=dark] .colab-df-convert:hover {\n",
              "      background-color: #434B5C;\n",
              "      box-shadow: 0px 1px 3px 1px rgba(0, 0, 0, 0.15);\n",
              "      filter: drop-shadow(0px 1px 2px rgba(0, 0, 0, 0.3));\n",
              "      fill: #FFFFFF;\n",
              "    }\n",
              "  </style>\n",
              "\n",
              "    <script>\n",
              "      const buttonEl =\n",
              "        document.querySelector('#df-f6b157d3-ccc0-4285-be1a-8827d5c6c906 button.colab-df-convert');\n",
              "      buttonEl.style.display =\n",
              "        google.colab.kernel.accessAllowed ? 'block' : 'none';\n",
              "\n",
              "      async function convertToInteractive(key) {\n",
              "        const element = document.querySelector('#df-f6b157d3-ccc0-4285-be1a-8827d5c6c906');\n",
              "        const dataTable =\n",
              "          await google.colab.kernel.invokeFunction('convertToInteractive',\n",
              "                                                    [key], {});\n",
              "        if (!dataTable) return;\n",
              "\n",
              "        const docLinkHtml = 'Like what you see? Visit the ' +\n",
              "          '<a target=\"_blank\" href=https://colab.research.google.com/notebooks/data_table.ipynb>data table notebook</a>'\n",
              "          + ' to learn more about interactive tables.';\n",
              "        element.innerHTML = '';\n",
              "        dataTable['output_type'] = 'display_data';\n",
              "        await google.colab.output.renderOutput(dataTable, element);\n",
              "        const docLink = document.createElement('div');\n",
              "        docLink.innerHTML = docLinkHtml;\n",
              "        element.appendChild(docLink);\n",
              "      }\n",
              "    </script>\n",
              "  </div>\n",
              "\n",
              "\n",
              "<div id=\"df-7342a4e4-6a14-4bd9-8923-9d9346d53dba\">\n",
              "  <button class=\"colab-df-quickchart\" onclick=\"quickchart('df-7342a4e4-6a14-4bd9-8923-9d9346d53dba')\"\n",
              "            title=\"Suggest charts\"\n",
              "            style=\"display:none;\">\n",
              "\n",
              "<svg xmlns=\"http://www.w3.org/2000/svg\" height=\"24px\"viewBox=\"0 0 24 24\"\n",
              "     width=\"24px\">\n",
              "    <g>\n",
              "        <path d=\"M19 3H5c-1.1 0-2 .9-2 2v14c0 1.1.9 2 2 2h14c1.1 0 2-.9 2-2V5c0-1.1-.9-2-2-2zM9 17H7v-7h2v7zm4 0h-2V7h2v10zm4 0h-2v-4h2v4z\"/>\n",
              "    </g>\n",
              "</svg>\n",
              "  </button>\n",
              "\n",
              "<style>\n",
              "  .colab-df-quickchart {\n",
              "      --bg-color: #E8F0FE;\n",
              "      --fill-color: #1967D2;\n",
              "      --hover-bg-color: #E2EBFA;\n",
              "      --hover-fill-color: #174EA6;\n",
              "      --disabled-fill-color: #AAA;\n",
              "      --disabled-bg-color: #DDD;\n",
              "  }\n",
              "\n",
              "  [theme=dark] .colab-df-quickchart {\n",
              "      --bg-color: #3B4455;\n",
              "      --fill-color: #D2E3FC;\n",
              "      --hover-bg-color: #434B5C;\n",
              "      --hover-fill-color: #FFFFFF;\n",
              "      --disabled-bg-color: #3B4455;\n",
              "      --disabled-fill-color: #666;\n",
              "  }\n",
              "\n",
              "  .colab-df-quickchart {\n",
              "    background-color: var(--bg-color);\n",
              "    border: none;\n",
              "    border-radius: 50%;\n",
              "    cursor: pointer;\n",
              "    display: none;\n",
              "    fill: var(--fill-color);\n",
              "    height: 32px;\n",
              "    padding: 0;\n",
              "    width: 32px;\n",
              "  }\n",
              "\n",
              "  .colab-df-quickchart:hover {\n",
              "    background-color: var(--hover-bg-color);\n",
              "    box-shadow: 0 1px 2px rgba(60, 64, 67, 0.3), 0 1px 3px 1px rgba(60, 64, 67, 0.15);\n",
              "    fill: var(--button-hover-fill-color);\n",
              "  }\n",
              "\n",
              "  .colab-df-quickchart-complete:disabled,\n",
              "  .colab-df-quickchart-complete:disabled:hover {\n",
              "    background-color: var(--disabled-bg-color);\n",
              "    fill: var(--disabled-fill-color);\n",
              "    box-shadow: none;\n",
              "  }\n",
              "\n",
              "  .colab-df-spinner {\n",
              "    border: 2px solid var(--fill-color);\n",
              "    border-color: transparent;\n",
              "    border-bottom-color: var(--fill-color);\n",
              "    animation:\n",
              "      spin 1s steps(1) infinite;\n",
              "  }\n",
              "\n",
              "  @keyframes spin {\n",
              "    0% {\n",
              "      border-color: transparent;\n",
              "      border-bottom-color: var(--fill-color);\n",
              "      border-left-color: var(--fill-color);\n",
              "    }\n",
              "    20% {\n",
              "      border-color: transparent;\n",
              "      border-left-color: var(--fill-color);\n",
              "      border-top-color: var(--fill-color);\n",
              "    }\n",
              "    30% {\n",
              "      border-color: transparent;\n",
              "      border-left-color: var(--fill-color);\n",
              "      border-top-color: var(--fill-color);\n",
              "      border-right-color: var(--fill-color);\n",
              "    }\n",
              "    40% {\n",
              "      border-color: transparent;\n",
              "      border-right-color: var(--fill-color);\n",
              "      border-top-color: var(--fill-color);\n",
              "    }\n",
              "    60% {\n",
              "      border-color: transparent;\n",
              "      border-right-color: var(--fill-color);\n",
              "    }\n",
              "    80% {\n",
              "      border-color: transparent;\n",
              "      border-right-color: var(--fill-color);\n",
              "      border-bottom-color: var(--fill-color);\n",
              "    }\n",
              "    90% {\n",
              "      border-color: transparent;\n",
              "      border-bottom-color: var(--fill-color);\n",
              "    }\n",
              "  }\n",
              "</style>\n",
              "\n",
              "  <script>\n",
              "    async function quickchart(key) {\n",
              "      const quickchartButtonEl =\n",
              "        document.querySelector('#' + key + ' button');\n",
              "      quickchartButtonEl.disabled = true;  // To prevent multiple clicks.\n",
              "      quickchartButtonEl.classList.add('colab-df-spinner');\n",
              "      try {\n",
              "        const charts = await google.colab.kernel.invokeFunction(\n",
              "            'suggestCharts', [key], {});\n",
              "      } catch (error) {\n",
              "        console.error('Error during call to suggestCharts:', error);\n",
              "      }\n",
              "      quickchartButtonEl.classList.remove('colab-df-spinner');\n",
              "      quickchartButtonEl.classList.add('colab-df-quickchart-complete');\n",
              "    }\n",
              "    (() => {\n",
              "      let quickchartButtonEl =\n",
              "        document.querySelector('#df-7342a4e4-6a14-4bd9-8923-9d9346d53dba button');\n",
              "      quickchartButtonEl.style.display =\n",
              "        google.colab.kernel.accessAllowed ? 'block' : 'none';\n",
              "    })();\n",
              "  </script>\n",
              "</div>\n",
              "    </div>\n",
              "  </div>\n"
            ],
            "application/vnd.google.colaboratory.intrinsic+json": {
              "type": "dataframe"
            }
          },
          "metadata": {},
          "execution_count": 20
        }
      ]
    },
    {
      "cell_type": "code",
      "source": [
        "X = data.drop('y', axis=1)  # Feature matrix\n",
        "y = data['y']  # Labels"
      ],
      "metadata": {
        "id": "NgpU_KzHBp6j"
      },
      "execution_count": 21,
      "outputs": []
    },
    {
      "cell_type": "code",
      "source": [
        "from sklearn.ensemble import RandomForestClassifier\n",
        "\n",
        "forest_clf = RandomForestClassifier(n_estimators=500, n_jobs=-1, random_state=42)\n",
        "forest_clf.fit(X, y)\n"
      ],
      "metadata": {
        "colab": {
          "base_uri": "https://localhost:8080/",
          "height": 74
        },
        "id": "vwl1LlYhCbCb",
        "outputId": "6072bbf7-1b31-49f8-aa50-077c884225ae"
      },
      "execution_count": 22,
      "outputs": [
        {
          "output_type": "execute_result",
          "data": {
            "text/plain": [
              "RandomForestClassifier(n_estimators=500, n_jobs=-1, random_state=42)"
            ],
            "text/html": [
              "<style>#sk-container-id-1 {color: black;background-color: white;}#sk-container-id-1 pre{padding: 0;}#sk-container-id-1 div.sk-toggleable {background-color: white;}#sk-container-id-1 label.sk-toggleable__label {cursor: pointer;display: block;width: 100%;margin-bottom: 0;padding: 0.3em;box-sizing: border-box;text-align: center;}#sk-container-id-1 label.sk-toggleable__label-arrow:before {content: \"▸\";float: left;margin-right: 0.25em;color: #696969;}#sk-container-id-1 label.sk-toggleable__label-arrow:hover:before {color: black;}#sk-container-id-1 div.sk-estimator:hover label.sk-toggleable__label-arrow:before {color: black;}#sk-container-id-1 div.sk-toggleable__content {max-height: 0;max-width: 0;overflow: hidden;text-align: left;background-color: #f0f8ff;}#sk-container-id-1 div.sk-toggleable__content pre {margin: 0.2em;color: black;border-radius: 0.25em;background-color: #f0f8ff;}#sk-container-id-1 input.sk-toggleable__control:checked~div.sk-toggleable__content {max-height: 200px;max-width: 100%;overflow: auto;}#sk-container-id-1 input.sk-toggleable__control:checked~label.sk-toggleable__label-arrow:before {content: \"▾\";}#sk-container-id-1 div.sk-estimator input.sk-toggleable__control:checked~label.sk-toggleable__label {background-color: #d4ebff;}#sk-container-id-1 div.sk-label input.sk-toggleable__control:checked~label.sk-toggleable__label {background-color: #d4ebff;}#sk-container-id-1 input.sk-hidden--visually {border: 0;clip: rect(1px 1px 1px 1px);clip: rect(1px, 1px, 1px, 1px);height: 1px;margin: -1px;overflow: hidden;padding: 0;position: absolute;width: 1px;}#sk-container-id-1 div.sk-estimator {font-family: monospace;background-color: #f0f8ff;border: 1px dotted black;border-radius: 0.25em;box-sizing: border-box;margin-bottom: 0.5em;}#sk-container-id-1 div.sk-estimator:hover {background-color: #d4ebff;}#sk-container-id-1 div.sk-parallel-item::after {content: \"\";width: 100%;border-bottom: 1px solid gray;flex-grow: 1;}#sk-container-id-1 div.sk-label:hover label.sk-toggleable__label {background-color: #d4ebff;}#sk-container-id-1 div.sk-serial::before {content: \"\";position: absolute;border-left: 1px solid gray;box-sizing: border-box;top: 0;bottom: 0;left: 50%;z-index: 0;}#sk-container-id-1 div.sk-serial {display: flex;flex-direction: column;align-items: center;background-color: white;padding-right: 0.2em;padding-left: 0.2em;position: relative;}#sk-container-id-1 div.sk-item {position: relative;z-index: 1;}#sk-container-id-1 div.sk-parallel {display: flex;align-items: stretch;justify-content: center;background-color: white;position: relative;}#sk-container-id-1 div.sk-item::before, #sk-container-id-1 div.sk-parallel-item::before {content: \"\";position: absolute;border-left: 1px solid gray;box-sizing: border-box;top: 0;bottom: 0;left: 50%;z-index: -1;}#sk-container-id-1 div.sk-parallel-item {display: flex;flex-direction: column;z-index: 1;position: relative;background-color: white;}#sk-container-id-1 div.sk-parallel-item:first-child::after {align-self: flex-end;width: 50%;}#sk-container-id-1 div.sk-parallel-item:last-child::after {align-self: flex-start;width: 50%;}#sk-container-id-1 div.sk-parallel-item:only-child::after {width: 0;}#sk-container-id-1 div.sk-dashed-wrapped {border: 1px dashed gray;margin: 0 0.4em 0.5em 0.4em;box-sizing: border-box;padding-bottom: 0.4em;background-color: white;}#sk-container-id-1 div.sk-label label {font-family: monospace;font-weight: bold;display: inline-block;line-height: 1.2em;}#sk-container-id-1 div.sk-label-container {text-align: center;}#sk-container-id-1 div.sk-container {/* jupyter's `normalize.less` sets `[hidden] { display: none; }` but bootstrap.min.css set `[hidden] { display: none !important; }` so we also need the `!important` here to be able to override the default hidden behavior on the sphinx rendered scikit-learn.org. See: https://github.com/scikit-learn/scikit-learn/issues/21755 */display: inline-block !important;position: relative;}#sk-container-id-1 div.sk-text-repr-fallback {display: none;}</style><div id=\"sk-container-id-1\" class=\"sk-top-container\"><div class=\"sk-text-repr-fallback\"><pre>RandomForestClassifier(n_estimators=500, n_jobs=-1, random_state=42)</pre><b>In a Jupyter environment, please rerun this cell to show the HTML representation or trust the notebook. <br />On GitHub, the HTML representation is unable to render, please try loading this page with nbviewer.org.</b></div><div class=\"sk-container\" hidden><div class=\"sk-item\"><div class=\"sk-estimator sk-toggleable\"><input class=\"sk-toggleable__control sk-hidden--visually\" id=\"sk-estimator-id-1\" type=\"checkbox\" checked><label for=\"sk-estimator-id-1\" class=\"sk-toggleable__label sk-toggleable__label-arrow\">RandomForestClassifier</label><div class=\"sk-toggleable__content\"><pre>RandomForestClassifier(n_estimators=500, n_jobs=-1, random_state=42)</pre></div></div></div></div></div>"
            ]
          },
          "metadata": {},
          "execution_count": 22
        }
      ]
    },
    {
      "cell_type": "code",
      "source": [
        "feature_importances = forest_clf.feature_importances_\n",
        "# Get the feature names after encoding 'x1'\n",
        "feature_names = X.columns\n",
        "# Combine importances and names, sort them, and print the top four\n",
        "important_features = sorted(zip(feature_importances, feature_names), reverse=True)\n",
        "print(\"Top 4 important features:\", important_features[:4])\n"
      ],
      "metadata": {
        "colab": {
          "base_uri": "https://localhost:8080/"
        },
        "id": "_fs3KHL7C_ni",
        "outputId": "f2ec9ff1-2918-4409-e222-fe214c94e4e9"
      },
      "execution_count": 23,
      "outputs": [
        {
          "output_type": "stream",
          "name": "stdout",
          "text": [
            "Top 4 important features: [(0.3453687049359972, 'x1'), (0.05296601478174079, 'x3'), (0.04481088948386664, 'x16'), (0.03850046688305175, 'x8')]\n"
          ]
        }
      ]
    },
    {
      "cell_type": "code",
      "source": [
        "data.columns"
      ],
      "metadata": {
        "colab": {
          "base_uri": "https://localhost:8080/"
        },
        "id": "wEDIJ595DH_3",
        "outputId": "2e3b9d8f-3389-4e11-80b5-3cb646a6994d"
      },
      "execution_count": 24,
      "outputs": [
        {
          "output_type": "execute_result",
          "data": {
            "text/plain": [
              "Index(['x1', 'x2', 'x3', 'x4', 'x5', 'x6', 'x7', 'x8', 'x9', 'x10', 'x11',\n",
              "       'x12', 'x13', 'x14', 'x15', 'x16', 'x17', 'x18', 'x19', 'x20', 'x21',\n",
              "       'x22', 'x23', 'x24', 'x25', 'y'],\n",
              "      dtype='object')"
            ]
          },
          "metadata": {},
          "execution_count": 24
        }
      ]
    },
    {
      "cell_type": "code",
      "source": [
        "data.head()"
      ],
      "metadata": {
        "colab": {
          "base_uri": "https://localhost:8080/",
          "height": 255
        },
        "id": "8zZLE_oID0Kq",
        "outputId": "b1ad5209-d6cc-43e7-d4e0-e00b326810dd"
      },
      "execution_count": 25,
      "outputs": [
        {
          "output_type": "execute_result",
          "data": {
            "text/plain": [
              "    x1        x2        x3        x4        x5         x6        x7        x8  \\\n",
              "0  1.0  0.026761 -0.620259 -0.892886  1.171058  -1.932229 -5.153764 -2.129748   \n",
              "1  1.0 -0.165811 -0.748739  0.351256  0.345646  -3.694768 -1.859598  3.141265   \n",
              "2  2.0 -1.639684  0.966960 -4.105156 -7.102068 -10.245937 -6.495981 -5.775185   \n",
              "3  3.0  0.392119  0.201262 -0.808156  1.699695   0.468696  9.358398 -5.689655   \n",
              "4  1.0 -0.362154  1.096581 -2.209181  1.430510  -3.040553 -0.556315 -3.125322   \n",
              "\n",
              "         x9       x10  ...        x17        x18        x19        x20  \\\n",
              "0  2.313411 -2.009202  ...  11.882210   9.884163 -10.344449  11.634817   \n",
              "1 -1.101936  2.876558  ...  16.661572   5.165378  14.950746   0.156548   \n",
              "2  4.720946 -4.664918  ...  16.799698 -15.435145  10.807349   9.535390   \n",
              "3 -3.418913  3.456031  ...  -3.148217   0.918380  21.656966  14.706890   \n",
              "4  8.309720 -5.227715  ...   2.679380   3.466357   2.885528   7.154526   \n",
              "\n",
              "         x21       x22       x23       x24       x25    y  \n",
              "0  15.934457 -1.004876 -0.559616  0.425215  0.755477  0.0  \n",
              "1 -24.005558 -0.760881  2.703514  0.020142  1.833380  0.0  \n",
              "2  -1.323079  0.572417  0.797471 -0.857424  1.103354  1.0  \n",
              "3  35.167532  0.399151 -0.763947  0.288066 -0.589866  1.0  \n",
              "4  -3.024414  0.745007 -0.081027 -1.536186 -0.273531  0.0  \n",
              "\n",
              "[5 rows x 26 columns]"
            ],
            "text/html": [
              "\n",
              "  <div id=\"df-4d667512-b9c8-4bbf-a425-51723472f5f8\" class=\"colab-df-container\">\n",
              "    <div>\n",
              "<style scoped>\n",
              "    .dataframe tbody tr th:only-of-type {\n",
              "        vertical-align: middle;\n",
              "    }\n",
              "\n",
              "    .dataframe tbody tr th {\n",
              "        vertical-align: top;\n",
              "    }\n",
              "\n",
              "    .dataframe thead th {\n",
              "        text-align: right;\n",
              "    }\n",
              "</style>\n",
              "<table border=\"1\" class=\"dataframe\">\n",
              "  <thead>\n",
              "    <tr style=\"text-align: right;\">\n",
              "      <th></th>\n",
              "      <th>x1</th>\n",
              "      <th>x2</th>\n",
              "      <th>x3</th>\n",
              "      <th>x4</th>\n",
              "      <th>x5</th>\n",
              "      <th>x6</th>\n",
              "      <th>x7</th>\n",
              "      <th>x8</th>\n",
              "      <th>x9</th>\n",
              "      <th>x10</th>\n",
              "      <th>...</th>\n",
              "      <th>x17</th>\n",
              "      <th>x18</th>\n",
              "      <th>x19</th>\n",
              "      <th>x20</th>\n",
              "      <th>x21</th>\n",
              "      <th>x22</th>\n",
              "      <th>x23</th>\n",
              "      <th>x24</th>\n",
              "      <th>x25</th>\n",
              "      <th>y</th>\n",
              "    </tr>\n",
              "  </thead>\n",
              "  <tbody>\n",
              "    <tr>\n",
              "      <th>0</th>\n",
              "      <td>1.0</td>\n",
              "      <td>0.026761</td>\n",
              "      <td>-0.620259</td>\n",
              "      <td>-0.892886</td>\n",
              "      <td>1.171058</td>\n",
              "      <td>-1.932229</td>\n",
              "      <td>-5.153764</td>\n",
              "      <td>-2.129748</td>\n",
              "      <td>2.313411</td>\n",
              "      <td>-2.009202</td>\n",
              "      <td>...</td>\n",
              "      <td>11.882210</td>\n",
              "      <td>9.884163</td>\n",
              "      <td>-10.344449</td>\n",
              "      <td>11.634817</td>\n",
              "      <td>15.934457</td>\n",
              "      <td>-1.004876</td>\n",
              "      <td>-0.559616</td>\n",
              "      <td>0.425215</td>\n",
              "      <td>0.755477</td>\n",
              "      <td>0.0</td>\n",
              "    </tr>\n",
              "    <tr>\n",
              "      <th>1</th>\n",
              "      <td>1.0</td>\n",
              "      <td>-0.165811</td>\n",
              "      <td>-0.748739</td>\n",
              "      <td>0.351256</td>\n",
              "      <td>0.345646</td>\n",
              "      <td>-3.694768</td>\n",
              "      <td>-1.859598</td>\n",
              "      <td>3.141265</td>\n",
              "      <td>-1.101936</td>\n",
              "      <td>2.876558</td>\n",
              "      <td>...</td>\n",
              "      <td>16.661572</td>\n",
              "      <td>5.165378</td>\n",
              "      <td>14.950746</td>\n",
              "      <td>0.156548</td>\n",
              "      <td>-24.005558</td>\n",
              "      <td>-0.760881</td>\n",
              "      <td>2.703514</td>\n",
              "      <td>0.020142</td>\n",
              "      <td>1.833380</td>\n",
              "      <td>0.0</td>\n",
              "    </tr>\n",
              "    <tr>\n",
              "      <th>2</th>\n",
              "      <td>2.0</td>\n",
              "      <td>-1.639684</td>\n",
              "      <td>0.966960</td>\n",
              "      <td>-4.105156</td>\n",
              "      <td>-7.102068</td>\n",
              "      <td>-10.245937</td>\n",
              "      <td>-6.495981</td>\n",
              "      <td>-5.775185</td>\n",
              "      <td>4.720946</td>\n",
              "      <td>-4.664918</td>\n",
              "      <td>...</td>\n",
              "      <td>16.799698</td>\n",
              "      <td>-15.435145</td>\n",
              "      <td>10.807349</td>\n",
              "      <td>9.535390</td>\n",
              "      <td>-1.323079</td>\n",
              "      <td>0.572417</td>\n",
              "      <td>0.797471</td>\n",
              "      <td>-0.857424</td>\n",
              "      <td>1.103354</td>\n",
              "      <td>1.0</td>\n",
              "    </tr>\n",
              "    <tr>\n",
              "      <th>3</th>\n",
              "      <td>3.0</td>\n",
              "      <td>0.392119</td>\n",
              "      <td>0.201262</td>\n",
              "      <td>-0.808156</td>\n",
              "      <td>1.699695</td>\n",
              "      <td>0.468696</td>\n",
              "      <td>9.358398</td>\n",
              "      <td>-5.689655</td>\n",
              "      <td>-3.418913</td>\n",
              "      <td>3.456031</td>\n",
              "      <td>...</td>\n",
              "      <td>-3.148217</td>\n",
              "      <td>0.918380</td>\n",
              "      <td>21.656966</td>\n",
              "      <td>14.706890</td>\n",
              "      <td>35.167532</td>\n",
              "      <td>0.399151</td>\n",
              "      <td>-0.763947</td>\n",
              "      <td>0.288066</td>\n",
              "      <td>-0.589866</td>\n",
              "      <td>1.0</td>\n",
              "    </tr>\n",
              "    <tr>\n",
              "      <th>4</th>\n",
              "      <td>1.0</td>\n",
              "      <td>-0.362154</td>\n",
              "      <td>1.096581</td>\n",
              "      <td>-2.209181</td>\n",
              "      <td>1.430510</td>\n",
              "      <td>-3.040553</td>\n",
              "      <td>-0.556315</td>\n",
              "      <td>-3.125322</td>\n",
              "      <td>8.309720</td>\n",
              "      <td>-5.227715</td>\n",
              "      <td>...</td>\n",
              "      <td>2.679380</td>\n",
              "      <td>3.466357</td>\n",
              "      <td>2.885528</td>\n",
              "      <td>7.154526</td>\n",
              "      <td>-3.024414</td>\n",
              "      <td>0.745007</td>\n",
              "      <td>-0.081027</td>\n",
              "      <td>-1.536186</td>\n",
              "      <td>-0.273531</td>\n",
              "      <td>0.0</td>\n",
              "    </tr>\n",
              "  </tbody>\n",
              "</table>\n",
              "<p>5 rows × 26 columns</p>\n",
              "</div>\n",
              "    <div class=\"colab-df-buttons\">\n",
              "\n",
              "  <div class=\"colab-df-container\">\n",
              "    <button class=\"colab-df-convert\" onclick=\"convertToInteractive('df-4d667512-b9c8-4bbf-a425-51723472f5f8')\"\n",
              "            title=\"Convert this dataframe to an interactive table.\"\n",
              "            style=\"display:none;\">\n",
              "\n",
              "  <svg xmlns=\"http://www.w3.org/2000/svg\" height=\"24px\" viewBox=\"0 -960 960 960\">\n",
              "    <path d=\"M120-120v-720h720v720H120Zm60-500h600v-160H180v160Zm220 220h160v-160H400v160Zm0 220h160v-160H400v160ZM180-400h160v-160H180v160Zm440 0h160v-160H620v160ZM180-180h160v-160H180v160Zm440 0h160v-160H620v160Z\"/>\n",
              "  </svg>\n",
              "    </button>\n",
              "\n",
              "  <style>\n",
              "    .colab-df-container {\n",
              "      display:flex;\n",
              "      gap: 12px;\n",
              "    }\n",
              "\n",
              "    .colab-df-convert {\n",
              "      background-color: #E8F0FE;\n",
              "      border: none;\n",
              "      border-radius: 50%;\n",
              "      cursor: pointer;\n",
              "      display: none;\n",
              "      fill: #1967D2;\n",
              "      height: 32px;\n",
              "      padding: 0 0 0 0;\n",
              "      width: 32px;\n",
              "    }\n",
              "\n",
              "    .colab-df-convert:hover {\n",
              "      background-color: #E2EBFA;\n",
              "      box-shadow: 0px 1px 2px rgba(60, 64, 67, 0.3), 0px 1px 3px 1px rgba(60, 64, 67, 0.15);\n",
              "      fill: #174EA6;\n",
              "    }\n",
              "\n",
              "    .colab-df-buttons div {\n",
              "      margin-bottom: 4px;\n",
              "    }\n",
              "\n",
              "    [theme=dark] .colab-df-convert {\n",
              "      background-color: #3B4455;\n",
              "      fill: #D2E3FC;\n",
              "    }\n",
              "\n",
              "    [theme=dark] .colab-df-convert:hover {\n",
              "      background-color: #434B5C;\n",
              "      box-shadow: 0px 1px 3px 1px rgba(0, 0, 0, 0.15);\n",
              "      filter: drop-shadow(0px 1px 2px rgba(0, 0, 0, 0.3));\n",
              "      fill: #FFFFFF;\n",
              "    }\n",
              "  </style>\n",
              "\n",
              "    <script>\n",
              "      const buttonEl =\n",
              "        document.querySelector('#df-4d667512-b9c8-4bbf-a425-51723472f5f8 button.colab-df-convert');\n",
              "      buttonEl.style.display =\n",
              "        google.colab.kernel.accessAllowed ? 'block' : 'none';\n",
              "\n",
              "      async function convertToInteractive(key) {\n",
              "        const element = document.querySelector('#df-4d667512-b9c8-4bbf-a425-51723472f5f8');\n",
              "        const dataTable =\n",
              "          await google.colab.kernel.invokeFunction('convertToInteractive',\n",
              "                                                    [key], {});\n",
              "        if (!dataTable) return;\n",
              "\n",
              "        const docLinkHtml = 'Like what you see? Visit the ' +\n",
              "          '<a target=\"_blank\" href=https://colab.research.google.com/notebooks/data_table.ipynb>data table notebook</a>'\n",
              "          + ' to learn more about interactive tables.';\n",
              "        element.innerHTML = '';\n",
              "        dataTable['output_type'] = 'display_data';\n",
              "        await google.colab.output.renderOutput(dataTable, element);\n",
              "        const docLink = document.createElement('div');\n",
              "        docLink.innerHTML = docLinkHtml;\n",
              "        element.appendChild(docLink);\n",
              "      }\n",
              "    </script>\n",
              "  </div>\n",
              "\n",
              "\n",
              "<div id=\"df-ded40721-67b3-480b-8ae2-cc766d706af3\">\n",
              "  <button class=\"colab-df-quickchart\" onclick=\"quickchart('df-ded40721-67b3-480b-8ae2-cc766d706af3')\"\n",
              "            title=\"Suggest charts\"\n",
              "            style=\"display:none;\">\n",
              "\n",
              "<svg xmlns=\"http://www.w3.org/2000/svg\" height=\"24px\"viewBox=\"0 0 24 24\"\n",
              "     width=\"24px\">\n",
              "    <g>\n",
              "        <path d=\"M19 3H5c-1.1 0-2 .9-2 2v14c0 1.1.9 2 2 2h14c1.1 0 2-.9 2-2V5c0-1.1-.9-2-2-2zM9 17H7v-7h2v7zm4 0h-2V7h2v10zm4 0h-2v-4h2v4z\"/>\n",
              "    </g>\n",
              "</svg>\n",
              "  </button>\n",
              "\n",
              "<style>\n",
              "  .colab-df-quickchart {\n",
              "      --bg-color: #E8F0FE;\n",
              "      --fill-color: #1967D2;\n",
              "      --hover-bg-color: #E2EBFA;\n",
              "      --hover-fill-color: #174EA6;\n",
              "      --disabled-fill-color: #AAA;\n",
              "      --disabled-bg-color: #DDD;\n",
              "  }\n",
              "\n",
              "  [theme=dark] .colab-df-quickchart {\n",
              "      --bg-color: #3B4455;\n",
              "      --fill-color: #D2E3FC;\n",
              "      --hover-bg-color: #434B5C;\n",
              "      --hover-fill-color: #FFFFFF;\n",
              "      --disabled-bg-color: #3B4455;\n",
              "      --disabled-fill-color: #666;\n",
              "  }\n",
              "\n",
              "  .colab-df-quickchart {\n",
              "    background-color: var(--bg-color);\n",
              "    border: none;\n",
              "    border-radius: 50%;\n",
              "    cursor: pointer;\n",
              "    display: none;\n",
              "    fill: var(--fill-color);\n",
              "    height: 32px;\n",
              "    padding: 0;\n",
              "    width: 32px;\n",
              "  }\n",
              "\n",
              "  .colab-df-quickchart:hover {\n",
              "    background-color: var(--hover-bg-color);\n",
              "    box-shadow: 0 1px 2px rgba(60, 64, 67, 0.3), 0 1px 3px 1px rgba(60, 64, 67, 0.15);\n",
              "    fill: var(--button-hover-fill-color);\n",
              "  }\n",
              "\n",
              "  .colab-df-quickchart-complete:disabled,\n",
              "  .colab-df-quickchart-complete:disabled:hover {\n",
              "    background-color: var(--disabled-bg-color);\n",
              "    fill: var(--disabled-fill-color);\n",
              "    box-shadow: none;\n",
              "  }\n",
              "\n",
              "  .colab-df-spinner {\n",
              "    border: 2px solid var(--fill-color);\n",
              "    border-color: transparent;\n",
              "    border-bottom-color: var(--fill-color);\n",
              "    animation:\n",
              "      spin 1s steps(1) infinite;\n",
              "  }\n",
              "\n",
              "  @keyframes spin {\n",
              "    0% {\n",
              "      border-color: transparent;\n",
              "      border-bottom-color: var(--fill-color);\n",
              "      border-left-color: var(--fill-color);\n",
              "    }\n",
              "    20% {\n",
              "      border-color: transparent;\n",
              "      border-left-color: var(--fill-color);\n",
              "      border-top-color: var(--fill-color);\n",
              "    }\n",
              "    30% {\n",
              "      border-color: transparent;\n",
              "      border-left-color: var(--fill-color);\n",
              "      border-top-color: var(--fill-color);\n",
              "      border-right-color: var(--fill-color);\n",
              "    }\n",
              "    40% {\n",
              "      border-color: transparent;\n",
              "      border-right-color: var(--fill-color);\n",
              "      border-top-color: var(--fill-color);\n",
              "    }\n",
              "    60% {\n",
              "      border-color: transparent;\n",
              "      border-right-color: var(--fill-color);\n",
              "    }\n",
              "    80% {\n",
              "      border-color: transparent;\n",
              "      border-right-color: var(--fill-color);\n",
              "      border-bottom-color: var(--fill-color);\n",
              "    }\n",
              "    90% {\n",
              "      border-color: transparent;\n",
              "      border-bottom-color: var(--fill-color);\n",
              "    }\n",
              "  }\n",
              "</style>\n",
              "\n",
              "  <script>\n",
              "    async function quickchart(key) {\n",
              "      const quickchartButtonEl =\n",
              "        document.querySelector('#' + key + ' button');\n",
              "      quickchartButtonEl.disabled = true;  // To prevent multiple clicks.\n",
              "      quickchartButtonEl.classList.add('colab-df-spinner');\n",
              "      try {\n",
              "        const charts = await google.colab.kernel.invokeFunction(\n",
              "            'suggestCharts', [key], {});\n",
              "      } catch (error) {\n",
              "        console.error('Error during call to suggestCharts:', error);\n",
              "      }\n",
              "      quickchartButtonEl.classList.remove('colab-df-spinner');\n",
              "      quickchartButtonEl.classList.add('colab-df-quickchart-complete');\n",
              "    }\n",
              "    (() => {\n",
              "      let quickchartButtonEl =\n",
              "        document.querySelector('#df-ded40721-67b3-480b-8ae2-cc766d706af3 button');\n",
              "      quickchartButtonEl.style.display =\n",
              "        google.colab.kernel.accessAllowed ? 'block' : 'none';\n",
              "    })();\n",
              "  </script>\n",
              "</div>\n",
              "    </div>\n",
              "  </div>\n"
            ],
            "application/vnd.google.colaboratory.intrinsic+json": {
              "type": "dataframe",
              "variable_name": "data"
            }
          },
          "metadata": {},
          "execution_count": 25
        }
      ]
    },
    {
      "cell_type": "code",
      "source": [
        "y_label = data['y']\n",
        "y_label.head()"
      ],
      "metadata": {
        "colab": {
          "base_uri": "https://localhost:8080/"
        },
        "id": "9-HBNiuzExpP",
        "outputId": "d6034205-b6cd-4436-cd75-341fdb9a2379"
      },
      "execution_count": 26,
      "outputs": [
        {
          "output_type": "execute_result",
          "data": {
            "text/plain": [
              "0    0.0\n",
              "1    0.0\n",
              "2    1.0\n",
              "3    1.0\n",
              "4    0.0\n",
              "Name: y, dtype: float64"
            ]
          },
          "metadata": {},
          "execution_count": 26
        }
      ]
    },
    {
      "cell_type": "code",
      "source": [
        "x_train = data.drop(\"y\", axis=1)\n",
        "x_train.head()"
      ],
      "metadata": {
        "colab": {
          "base_uri": "https://localhost:8080/",
          "height": 255
        },
        "id": "ijZklnGGE3b1",
        "outputId": "d1c64f13-f0ee-4e08-da57-252673775cdc"
      },
      "execution_count": 27,
      "outputs": [
        {
          "output_type": "execute_result",
          "data": {
            "text/plain": [
              "    x1        x2        x3        x4        x5         x6        x7        x8  \\\n",
              "0  1.0  0.026761 -0.620259 -0.892886  1.171058  -1.932229 -5.153764 -2.129748   \n",
              "1  1.0 -0.165811 -0.748739  0.351256  0.345646  -3.694768 -1.859598  3.141265   \n",
              "2  2.0 -1.639684  0.966960 -4.105156 -7.102068 -10.245937 -6.495981 -5.775185   \n",
              "3  3.0  0.392119  0.201262 -0.808156  1.699695   0.468696  9.358398 -5.689655   \n",
              "4  1.0 -0.362154  1.096581 -2.209181  1.430510  -3.040553 -0.556315 -3.125322   \n",
              "\n",
              "         x9       x10  ...        x16        x17        x18        x19  \\\n",
              "0  2.313411 -2.009202  ...  -7.057395  11.882210   9.884163 -10.344449   \n",
              "1 -1.101936  2.876558  ...   2.591090  16.661572   5.165378  14.950746   \n",
              "2  4.720946 -4.664918  ... -14.741211  16.799698 -15.435145  10.807349   \n",
              "3 -3.418913  3.456031  ... -25.175711  -3.148217   0.918380  21.656966   \n",
              "4  8.309720 -5.227715  ...  12.457347   2.679380   3.466357   2.885528   \n",
              "\n",
              "         x20        x21       x22       x23       x24       x25  \n",
              "0  11.634817  15.934457 -1.004876 -0.559616  0.425215  0.755477  \n",
              "1   0.156548 -24.005558 -0.760881  2.703514  0.020142  1.833380  \n",
              "2   9.535390  -1.323079  0.572417  0.797471 -0.857424  1.103354  \n",
              "3  14.706890  35.167532  0.399151 -0.763947  0.288066 -0.589866  \n",
              "4   7.154526  -3.024414  0.745007 -0.081027 -1.536186 -0.273531  \n",
              "\n",
              "[5 rows x 25 columns]"
            ],
            "text/html": [
              "\n",
              "  <div id=\"df-e89519f7-5959-485e-bacc-194a776b9b6e\" class=\"colab-df-container\">\n",
              "    <div>\n",
              "<style scoped>\n",
              "    .dataframe tbody tr th:only-of-type {\n",
              "        vertical-align: middle;\n",
              "    }\n",
              "\n",
              "    .dataframe tbody tr th {\n",
              "        vertical-align: top;\n",
              "    }\n",
              "\n",
              "    .dataframe thead th {\n",
              "        text-align: right;\n",
              "    }\n",
              "</style>\n",
              "<table border=\"1\" class=\"dataframe\">\n",
              "  <thead>\n",
              "    <tr style=\"text-align: right;\">\n",
              "      <th></th>\n",
              "      <th>x1</th>\n",
              "      <th>x2</th>\n",
              "      <th>x3</th>\n",
              "      <th>x4</th>\n",
              "      <th>x5</th>\n",
              "      <th>x6</th>\n",
              "      <th>x7</th>\n",
              "      <th>x8</th>\n",
              "      <th>x9</th>\n",
              "      <th>x10</th>\n",
              "      <th>...</th>\n",
              "      <th>x16</th>\n",
              "      <th>x17</th>\n",
              "      <th>x18</th>\n",
              "      <th>x19</th>\n",
              "      <th>x20</th>\n",
              "      <th>x21</th>\n",
              "      <th>x22</th>\n",
              "      <th>x23</th>\n",
              "      <th>x24</th>\n",
              "      <th>x25</th>\n",
              "    </tr>\n",
              "  </thead>\n",
              "  <tbody>\n",
              "    <tr>\n",
              "      <th>0</th>\n",
              "      <td>1.0</td>\n",
              "      <td>0.026761</td>\n",
              "      <td>-0.620259</td>\n",
              "      <td>-0.892886</td>\n",
              "      <td>1.171058</td>\n",
              "      <td>-1.932229</td>\n",
              "      <td>-5.153764</td>\n",
              "      <td>-2.129748</td>\n",
              "      <td>2.313411</td>\n",
              "      <td>-2.009202</td>\n",
              "      <td>...</td>\n",
              "      <td>-7.057395</td>\n",
              "      <td>11.882210</td>\n",
              "      <td>9.884163</td>\n",
              "      <td>-10.344449</td>\n",
              "      <td>11.634817</td>\n",
              "      <td>15.934457</td>\n",
              "      <td>-1.004876</td>\n",
              "      <td>-0.559616</td>\n",
              "      <td>0.425215</td>\n",
              "      <td>0.755477</td>\n",
              "    </tr>\n",
              "    <tr>\n",
              "      <th>1</th>\n",
              "      <td>1.0</td>\n",
              "      <td>-0.165811</td>\n",
              "      <td>-0.748739</td>\n",
              "      <td>0.351256</td>\n",
              "      <td>0.345646</td>\n",
              "      <td>-3.694768</td>\n",
              "      <td>-1.859598</td>\n",
              "      <td>3.141265</td>\n",
              "      <td>-1.101936</td>\n",
              "      <td>2.876558</td>\n",
              "      <td>...</td>\n",
              "      <td>2.591090</td>\n",
              "      <td>16.661572</td>\n",
              "      <td>5.165378</td>\n",
              "      <td>14.950746</td>\n",
              "      <td>0.156548</td>\n",
              "      <td>-24.005558</td>\n",
              "      <td>-0.760881</td>\n",
              "      <td>2.703514</td>\n",
              "      <td>0.020142</td>\n",
              "      <td>1.833380</td>\n",
              "    </tr>\n",
              "    <tr>\n",
              "      <th>2</th>\n",
              "      <td>2.0</td>\n",
              "      <td>-1.639684</td>\n",
              "      <td>0.966960</td>\n",
              "      <td>-4.105156</td>\n",
              "      <td>-7.102068</td>\n",
              "      <td>-10.245937</td>\n",
              "      <td>-6.495981</td>\n",
              "      <td>-5.775185</td>\n",
              "      <td>4.720946</td>\n",
              "      <td>-4.664918</td>\n",
              "      <td>...</td>\n",
              "      <td>-14.741211</td>\n",
              "      <td>16.799698</td>\n",
              "      <td>-15.435145</td>\n",
              "      <td>10.807349</td>\n",
              "      <td>9.535390</td>\n",
              "      <td>-1.323079</td>\n",
              "      <td>0.572417</td>\n",
              "      <td>0.797471</td>\n",
              "      <td>-0.857424</td>\n",
              "      <td>1.103354</td>\n",
              "    </tr>\n",
              "    <tr>\n",
              "      <th>3</th>\n",
              "      <td>3.0</td>\n",
              "      <td>0.392119</td>\n",
              "      <td>0.201262</td>\n",
              "      <td>-0.808156</td>\n",
              "      <td>1.699695</td>\n",
              "      <td>0.468696</td>\n",
              "      <td>9.358398</td>\n",
              "      <td>-5.689655</td>\n",
              "      <td>-3.418913</td>\n",
              "      <td>3.456031</td>\n",
              "      <td>...</td>\n",
              "      <td>-25.175711</td>\n",
              "      <td>-3.148217</td>\n",
              "      <td>0.918380</td>\n",
              "      <td>21.656966</td>\n",
              "      <td>14.706890</td>\n",
              "      <td>35.167532</td>\n",
              "      <td>0.399151</td>\n",
              "      <td>-0.763947</td>\n",
              "      <td>0.288066</td>\n",
              "      <td>-0.589866</td>\n",
              "    </tr>\n",
              "    <tr>\n",
              "      <th>4</th>\n",
              "      <td>1.0</td>\n",
              "      <td>-0.362154</td>\n",
              "      <td>1.096581</td>\n",
              "      <td>-2.209181</td>\n",
              "      <td>1.430510</td>\n",
              "      <td>-3.040553</td>\n",
              "      <td>-0.556315</td>\n",
              "      <td>-3.125322</td>\n",
              "      <td>8.309720</td>\n",
              "      <td>-5.227715</td>\n",
              "      <td>...</td>\n",
              "      <td>12.457347</td>\n",
              "      <td>2.679380</td>\n",
              "      <td>3.466357</td>\n",
              "      <td>2.885528</td>\n",
              "      <td>7.154526</td>\n",
              "      <td>-3.024414</td>\n",
              "      <td>0.745007</td>\n",
              "      <td>-0.081027</td>\n",
              "      <td>-1.536186</td>\n",
              "      <td>-0.273531</td>\n",
              "    </tr>\n",
              "  </tbody>\n",
              "</table>\n",
              "<p>5 rows × 25 columns</p>\n",
              "</div>\n",
              "    <div class=\"colab-df-buttons\">\n",
              "\n",
              "  <div class=\"colab-df-container\">\n",
              "    <button class=\"colab-df-convert\" onclick=\"convertToInteractive('df-e89519f7-5959-485e-bacc-194a776b9b6e')\"\n",
              "            title=\"Convert this dataframe to an interactive table.\"\n",
              "            style=\"display:none;\">\n",
              "\n",
              "  <svg xmlns=\"http://www.w3.org/2000/svg\" height=\"24px\" viewBox=\"0 -960 960 960\">\n",
              "    <path d=\"M120-120v-720h720v720H120Zm60-500h600v-160H180v160Zm220 220h160v-160H400v160Zm0 220h160v-160H400v160ZM180-400h160v-160H180v160Zm440 0h160v-160H620v160ZM180-180h160v-160H180v160Zm440 0h160v-160H620v160Z\"/>\n",
              "  </svg>\n",
              "    </button>\n",
              "\n",
              "  <style>\n",
              "    .colab-df-container {\n",
              "      display:flex;\n",
              "      gap: 12px;\n",
              "    }\n",
              "\n",
              "    .colab-df-convert {\n",
              "      background-color: #E8F0FE;\n",
              "      border: none;\n",
              "      border-radius: 50%;\n",
              "      cursor: pointer;\n",
              "      display: none;\n",
              "      fill: #1967D2;\n",
              "      height: 32px;\n",
              "      padding: 0 0 0 0;\n",
              "      width: 32px;\n",
              "    }\n",
              "\n",
              "    .colab-df-convert:hover {\n",
              "      background-color: #E2EBFA;\n",
              "      box-shadow: 0px 1px 2px rgba(60, 64, 67, 0.3), 0px 1px 3px 1px rgba(60, 64, 67, 0.15);\n",
              "      fill: #174EA6;\n",
              "    }\n",
              "\n",
              "    .colab-df-buttons div {\n",
              "      margin-bottom: 4px;\n",
              "    }\n",
              "\n",
              "    [theme=dark] .colab-df-convert {\n",
              "      background-color: #3B4455;\n",
              "      fill: #D2E3FC;\n",
              "    }\n",
              "\n",
              "    [theme=dark] .colab-df-convert:hover {\n",
              "      background-color: #434B5C;\n",
              "      box-shadow: 0px 1px 3px 1px rgba(0, 0, 0, 0.15);\n",
              "      filter: drop-shadow(0px 1px 2px rgba(0, 0, 0, 0.3));\n",
              "      fill: #FFFFFF;\n",
              "    }\n",
              "  </style>\n",
              "\n",
              "    <script>\n",
              "      const buttonEl =\n",
              "        document.querySelector('#df-e89519f7-5959-485e-bacc-194a776b9b6e button.colab-df-convert');\n",
              "      buttonEl.style.display =\n",
              "        google.colab.kernel.accessAllowed ? 'block' : 'none';\n",
              "\n",
              "      async function convertToInteractive(key) {\n",
              "        const element = document.querySelector('#df-e89519f7-5959-485e-bacc-194a776b9b6e');\n",
              "        const dataTable =\n",
              "          await google.colab.kernel.invokeFunction('convertToInteractive',\n",
              "                                                    [key], {});\n",
              "        if (!dataTable) return;\n",
              "\n",
              "        const docLinkHtml = 'Like what you see? Visit the ' +\n",
              "          '<a target=\"_blank\" href=https://colab.research.google.com/notebooks/data_table.ipynb>data table notebook</a>'\n",
              "          + ' to learn more about interactive tables.';\n",
              "        element.innerHTML = '';\n",
              "        dataTable['output_type'] = 'display_data';\n",
              "        await google.colab.output.renderOutput(dataTable, element);\n",
              "        const docLink = document.createElement('div');\n",
              "        docLink.innerHTML = docLinkHtml;\n",
              "        element.appendChild(docLink);\n",
              "      }\n",
              "    </script>\n",
              "  </div>\n",
              "\n",
              "\n",
              "<div id=\"df-a1e8a5b6-9772-4ba8-94c7-3ce938ec6a95\">\n",
              "  <button class=\"colab-df-quickchart\" onclick=\"quickchart('df-a1e8a5b6-9772-4ba8-94c7-3ce938ec6a95')\"\n",
              "            title=\"Suggest charts\"\n",
              "            style=\"display:none;\">\n",
              "\n",
              "<svg xmlns=\"http://www.w3.org/2000/svg\" height=\"24px\"viewBox=\"0 0 24 24\"\n",
              "     width=\"24px\">\n",
              "    <g>\n",
              "        <path d=\"M19 3H5c-1.1 0-2 .9-2 2v14c0 1.1.9 2 2 2h14c1.1 0 2-.9 2-2V5c0-1.1-.9-2-2-2zM9 17H7v-7h2v7zm4 0h-2V7h2v10zm4 0h-2v-4h2v4z\"/>\n",
              "    </g>\n",
              "</svg>\n",
              "  </button>\n",
              "\n",
              "<style>\n",
              "  .colab-df-quickchart {\n",
              "      --bg-color: #E8F0FE;\n",
              "      --fill-color: #1967D2;\n",
              "      --hover-bg-color: #E2EBFA;\n",
              "      --hover-fill-color: #174EA6;\n",
              "      --disabled-fill-color: #AAA;\n",
              "      --disabled-bg-color: #DDD;\n",
              "  }\n",
              "\n",
              "  [theme=dark] .colab-df-quickchart {\n",
              "      --bg-color: #3B4455;\n",
              "      --fill-color: #D2E3FC;\n",
              "      --hover-bg-color: #434B5C;\n",
              "      --hover-fill-color: #FFFFFF;\n",
              "      --disabled-bg-color: #3B4455;\n",
              "      --disabled-fill-color: #666;\n",
              "  }\n",
              "\n",
              "  .colab-df-quickchart {\n",
              "    background-color: var(--bg-color);\n",
              "    border: none;\n",
              "    border-radius: 50%;\n",
              "    cursor: pointer;\n",
              "    display: none;\n",
              "    fill: var(--fill-color);\n",
              "    height: 32px;\n",
              "    padding: 0;\n",
              "    width: 32px;\n",
              "  }\n",
              "\n",
              "  .colab-df-quickchart:hover {\n",
              "    background-color: var(--hover-bg-color);\n",
              "    box-shadow: 0 1px 2px rgba(60, 64, 67, 0.3), 0 1px 3px 1px rgba(60, 64, 67, 0.15);\n",
              "    fill: var(--button-hover-fill-color);\n",
              "  }\n",
              "\n",
              "  .colab-df-quickchart-complete:disabled,\n",
              "  .colab-df-quickchart-complete:disabled:hover {\n",
              "    background-color: var(--disabled-bg-color);\n",
              "    fill: var(--disabled-fill-color);\n",
              "    box-shadow: none;\n",
              "  }\n",
              "\n",
              "  .colab-df-spinner {\n",
              "    border: 2px solid var(--fill-color);\n",
              "    border-color: transparent;\n",
              "    border-bottom-color: var(--fill-color);\n",
              "    animation:\n",
              "      spin 1s steps(1) infinite;\n",
              "  }\n",
              "\n",
              "  @keyframes spin {\n",
              "    0% {\n",
              "      border-color: transparent;\n",
              "      border-bottom-color: var(--fill-color);\n",
              "      border-left-color: var(--fill-color);\n",
              "    }\n",
              "    20% {\n",
              "      border-color: transparent;\n",
              "      border-left-color: var(--fill-color);\n",
              "      border-top-color: var(--fill-color);\n",
              "    }\n",
              "    30% {\n",
              "      border-color: transparent;\n",
              "      border-left-color: var(--fill-color);\n",
              "      border-top-color: var(--fill-color);\n",
              "      border-right-color: var(--fill-color);\n",
              "    }\n",
              "    40% {\n",
              "      border-color: transparent;\n",
              "      border-right-color: var(--fill-color);\n",
              "      border-top-color: var(--fill-color);\n",
              "    }\n",
              "    60% {\n",
              "      border-color: transparent;\n",
              "      border-right-color: var(--fill-color);\n",
              "    }\n",
              "    80% {\n",
              "      border-color: transparent;\n",
              "      border-right-color: var(--fill-color);\n",
              "      border-bottom-color: var(--fill-color);\n",
              "    }\n",
              "    90% {\n",
              "      border-color: transparent;\n",
              "      border-bottom-color: var(--fill-color);\n",
              "    }\n",
              "  }\n",
              "</style>\n",
              "\n",
              "  <script>\n",
              "    async function quickchart(key) {\n",
              "      const quickchartButtonEl =\n",
              "        document.querySelector('#' + key + ' button');\n",
              "      quickchartButtonEl.disabled = true;  // To prevent multiple clicks.\n",
              "      quickchartButtonEl.classList.add('colab-df-spinner');\n",
              "      try {\n",
              "        const charts = await google.colab.kernel.invokeFunction(\n",
              "            'suggestCharts', [key], {});\n",
              "      } catch (error) {\n",
              "        console.error('Error during call to suggestCharts:', error);\n",
              "      }\n",
              "      quickchartButtonEl.classList.remove('colab-df-spinner');\n",
              "      quickchartButtonEl.classList.add('colab-df-quickchart-complete');\n",
              "    }\n",
              "    (() => {\n",
              "      let quickchartButtonEl =\n",
              "        document.querySelector('#df-a1e8a5b6-9772-4ba8-94c7-3ce938ec6a95 button');\n",
              "      quickchartButtonEl.style.display =\n",
              "        google.colab.kernel.accessAllowed ? 'block' : 'none';\n",
              "    })();\n",
              "  </script>\n",
              "</div>\n",
              "    </div>\n",
              "  </div>\n"
            ],
            "application/vnd.google.colaboratory.intrinsic+json": {
              "type": "dataframe",
              "variable_name": "x_train"
            }
          },
          "metadata": {},
          "execution_count": 27
        }
      ]
    },
    {
      "cell_type": "code",
      "source": [
        "\n",
        "\n",
        "from sklearn.ensemble import RandomForestClassifier\n",
        "from sklearn.neural_network import MLPClassifier\n",
        "from sklearn.svm import SVC\n",
        "\n",
        "from sklearn.model_selection import cross_val_score\n",
        "\n",
        "from sklearn.preprocessing import StandardScaler\n",
        "scaler = StandardScaler()\n",
        "X_train_scaled = scaler.fit_transform(x_train.astype(np.float64))\n",
        "\n"
      ],
      "metadata": {
        "id": "E_TwfDi6D_EY"
      },
      "execution_count": 28,
      "outputs": []
    },
    {
      "cell_type": "code",
      "source": [
        "mlp_clf = MLPClassifier(random_state=42)\n",
        "rnd_clf = RandomForestClassifier(n_estimators=500, n_jobs=-1, random_state=42)\n",
        "svm_clf = SVC(probability=True, random_state=42)"
      ],
      "metadata": {
        "id": "S4g1g2nYEE9B"
      },
      "execution_count": 29,
      "outputs": []
    },
    {
      "cell_type": "code",
      "source": [
        "cross_val_score(mlp_clf, X_train_scaled, y_label, cv=3, scoring=\"accuracy\")"
      ],
      "metadata": {
        "colab": {
          "base_uri": "https://localhost:8080/"
        },
        "id": "LYT3wVEPEdoy",
        "outputId": "fce1987c-729f-4b71-9b31-400cdd8c7ab8"
      },
      "execution_count": 36,
      "outputs": [
        {
          "output_type": "execute_result",
          "data": {
            "text/plain": [
              "array([0.98  , 0.9844, 0.98  ])"
            ]
          },
          "metadata": {},
          "execution_count": 36
        }
      ]
    },
    {
      "cell_type": "code",
      "source": [
        "cross_val_score(rnd_clf, X_train_scaled, y_label, cv=3, scoring=\"accuracy\")"
      ],
      "metadata": {
        "colab": {
          "base_uri": "https://localhost:8080/"
        },
        "id": "kPWt7egjFOC5",
        "outputId": "b7a5262b-542a-4388-8d27-4c95eb7964f6"
      },
      "execution_count": 37,
      "outputs": [
        {
          "output_type": "execute_result",
          "data": {
            "text/plain": [
              "array([0.9588, 0.9604, 0.958 ])"
            ]
          },
          "metadata": {},
          "execution_count": 37
        }
      ]
    },
    {
      "cell_type": "code",
      "source": [
        "cross_val_score(svm_clf, X_train_scaled, y_label, cv=3, scoring=\"accuracy\")"
      ],
      "metadata": {
        "colab": {
          "base_uri": "https://localhost:8080/"
        },
        "id": "H7-64B6PFh2R",
        "outputId": "f400a65e-02b4-42bf-fbc8-806bb6376bc6"
      },
      "execution_count": 38,
      "outputs": [
        {
          "output_type": "execute_result",
          "data": {
            "text/plain": [
              "array([0.9824, 0.9852, 0.9848])"
            ]
          },
          "metadata": {},
          "execution_count": 38
        }
      ]
    },
    {
      "cell_type": "markdown",
      "source": [
        "# Check question 9 again and 4th"
      ],
      "metadata": {
        "id": "w3p0Em5EHXiW"
      }
    },
    {
      "cell_type": "code",
      "source": [
        "from sklearn.metrics import make_scorer, precision_score\n",
        "\n",
        "# Specify the scoring method using make_scorer and precision_score\n",
        "cross_val_score(mlp_clf, X_train_scaled, y_label, cv=3, scoring=make_scorer(precision_score))"
      ],
      "metadata": {
        "colab": {
          "base_uri": "https://localhost:8080/"
        },
        "id": "a429vOXFFkv6",
        "outputId": "855500af-ed9a-4c61-e879-333e3fc44e63"
      },
      "execution_count": 39,
      "outputs": [
        {
          "output_type": "execute_result",
          "data": {
            "text/plain": [
              "array([0.98473896, 0.99192246, 0.9863124 ])"
            ]
          },
          "metadata": {},
          "execution_count": 39
        }
      ]
    },
    {
      "cell_type": "code",
      "source": [
        "cross_val_score(svm_clf, X_train_scaled, y_label, cv=3, scoring=make_scorer(precision_score))"
      ],
      "metadata": {
        "id": "E0bhSV6kIEbV",
        "outputId": "5cee3f97-14a1-4d26-c80a-a9be74321eca",
        "colab": {
          "base_uri": "https://localhost:8080/"
        }
      },
      "execution_count": 40,
      "outputs": [
        {
          "output_type": "execute_result",
          "data": {
            "text/plain": [
              "array([0.98481215, 0.9903537 , 0.99114332])"
            ]
          },
          "metadata": {},
          "execution_count": 40
        }
      ]
    },
    {
      "cell_type": "code",
      "source": [
        "cross_val_score(rnd_clf, X_train_scaled, y_label, cv=3, scoring=make_scorer(precision_score))"
      ],
      "metadata": {
        "id": "op3sQ63aIZg2",
        "outputId": "8ca147cd-7743-4656-ec03-0f8be445328f",
        "colab": {
          "base_uri": "https://localhost:8080/"
        }
      },
      "execution_count": 41,
      "outputs": [
        {
          "output_type": "execute_result",
          "data": {
            "text/plain": [
              "array([0.9391172 , 0.94538462, 0.94108646])"
            ]
          },
          "metadata": {},
          "execution_count": 41
        }
      ]
    },
    {
      "cell_type": "code",
      "source": [
        "from sklearn.metrics import recall_score"
      ],
      "metadata": {
        "id": "Umz06uBqIcLW"
      },
      "execution_count": 42,
      "outputs": []
    },
    {
      "cell_type": "code",
      "source": [
        "cross_val_score(mlp_clf, X_train_scaled, y_label, cv=3, scoring=\"recall\")\n"
      ],
      "metadata": {
        "id": "1vsf-AgYI5Xl",
        "outputId": "3a385e7e-9d6f-4103-bdd4-08570ade499c",
        "colab": {
          "base_uri": "https://localhost:8080/"
        }
      },
      "execution_count": 43,
      "outputs": [
        {
          "output_type": "execute_result",
          "data": {
            "text/plain": [
              "array([0.97533811, 0.9769292 , 0.97376789])"
            ]
          },
          "metadata": {},
          "execution_count": 43
        }
      ]
    },
    {
      "cell_type": "code",
      "source": [
        "cross_val_score(rnd_clf, X_train_scaled, y_label, cv=3, scoring=make_scorer(recall_score))\n"
      ],
      "metadata": {
        "id": "dAqC6JV4JBJ9",
        "outputId": "5fc4f767-88ae-48f1-f8e0-644f2e74ce58",
        "colab": {
          "base_uri": "https://localhost:8080/"
        }
      },
      "execution_count": 44,
      "outputs": [
        {
          "output_type": "execute_result",
          "data": {
            "text/plain": [
              "array([0.98170247, 0.97772474, 0.97774245])"
            ]
          },
          "metadata": {},
          "execution_count": 44
        }
      ]
    },
    {
      "cell_type": "code",
      "source": [
        "cross_val_score(svm_clf, X_train_scaled, y_label, cv=3, scoring=make_scorer(recall_score))\n"
      ],
      "metadata": {
        "id": "HXwvypb5JEXs",
        "outputId": "36181943-a110-425e-ef81-2352e75e466c",
        "colab": {
          "base_uri": "https://localhost:8080/"
        }
      },
      "execution_count": 45,
      "outputs": [
        {
          "output_type": "execute_result",
          "data": {
            "text/plain": [
              "array([0.98011138, 0.98011138, 0.97853736])"
            ]
          },
          "metadata": {},
          "execution_count": 45
        }
      ]
    },
    {
      "cell_type": "code",
      "source": [
        "from sklearn.ensemble import VotingClassifier\n",
        "# fill in code\n",
        "\n",
        "soft_voting_clf = VotingClassifier(estimators=[('mlpc', mlp_clf), ('rnd_clf', rnd_clf), ('svm_clf', svm_clf)], voting='soft')\n",
        "soft_voting_clf.fit(X_train_scaled, y_label)"
      ],
      "metadata": {
        "id": "6R6f2cuUJGju",
        "outputId": "1c71eea2-779d-40d3-ebca-acea7b025c89",
        "colab": {
          "base_uri": "https://localhost:8080/",
          "height": 108
        }
      },
      "execution_count": 46,
      "outputs": [
        {
          "output_type": "execute_result",
          "data": {
            "text/plain": [
              "VotingClassifier(estimators=[('mlpc', MLPClassifier(random_state=42)),\n",
              "                             ('rnd_clf',\n",
              "                              RandomForestClassifier(n_estimators=500,\n",
              "                                                     n_jobs=-1,\n",
              "                                                     random_state=42)),\n",
              "                             ('svm_clf',\n",
              "                              SVC(probability=True, random_state=42))],\n",
              "                 voting='soft')"
            ],
            "text/html": [
              "<style>#sk-container-id-2 {color: black;background-color: white;}#sk-container-id-2 pre{padding: 0;}#sk-container-id-2 div.sk-toggleable {background-color: white;}#sk-container-id-2 label.sk-toggleable__label {cursor: pointer;display: block;width: 100%;margin-bottom: 0;padding: 0.3em;box-sizing: border-box;text-align: center;}#sk-container-id-2 label.sk-toggleable__label-arrow:before {content: \"▸\";float: left;margin-right: 0.25em;color: #696969;}#sk-container-id-2 label.sk-toggleable__label-arrow:hover:before {color: black;}#sk-container-id-2 div.sk-estimator:hover label.sk-toggleable__label-arrow:before {color: black;}#sk-container-id-2 div.sk-toggleable__content {max-height: 0;max-width: 0;overflow: hidden;text-align: left;background-color: #f0f8ff;}#sk-container-id-2 div.sk-toggleable__content pre {margin: 0.2em;color: black;border-radius: 0.25em;background-color: #f0f8ff;}#sk-container-id-2 input.sk-toggleable__control:checked~div.sk-toggleable__content {max-height: 200px;max-width: 100%;overflow: auto;}#sk-container-id-2 input.sk-toggleable__control:checked~label.sk-toggleable__label-arrow:before {content: \"▾\";}#sk-container-id-2 div.sk-estimator input.sk-toggleable__control:checked~label.sk-toggleable__label {background-color: #d4ebff;}#sk-container-id-2 div.sk-label input.sk-toggleable__control:checked~label.sk-toggleable__label {background-color: #d4ebff;}#sk-container-id-2 input.sk-hidden--visually {border: 0;clip: rect(1px 1px 1px 1px);clip: rect(1px, 1px, 1px, 1px);height: 1px;margin: -1px;overflow: hidden;padding: 0;position: absolute;width: 1px;}#sk-container-id-2 div.sk-estimator {font-family: monospace;background-color: #f0f8ff;border: 1px dotted black;border-radius: 0.25em;box-sizing: border-box;margin-bottom: 0.5em;}#sk-container-id-2 div.sk-estimator:hover {background-color: #d4ebff;}#sk-container-id-2 div.sk-parallel-item::after {content: \"\";width: 100%;border-bottom: 1px solid gray;flex-grow: 1;}#sk-container-id-2 div.sk-label:hover label.sk-toggleable__label {background-color: #d4ebff;}#sk-container-id-2 div.sk-serial::before {content: \"\";position: absolute;border-left: 1px solid gray;box-sizing: border-box;top: 0;bottom: 0;left: 50%;z-index: 0;}#sk-container-id-2 div.sk-serial {display: flex;flex-direction: column;align-items: center;background-color: white;padding-right: 0.2em;padding-left: 0.2em;position: relative;}#sk-container-id-2 div.sk-item {position: relative;z-index: 1;}#sk-container-id-2 div.sk-parallel {display: flex;align-items: stretch;justify-content: center;background-color: white;position: relative;}#sk-container-id-2 div.sk-item::before, #sk-container-id-2 div.sk-parallel-item::before {content: \"\";position: absolute;border-left: 1px solid gray;box-sizing: border-box;top: 0;bottom: 0;left: 50%;z-index: -1;}#sk-container-id-2 div.sk-parallel-item {display: flex;flex-direction: column;z-index: 1;position: relative;background-color: white;}#sk-container-id-2 div.sk-parallel-item:first-child::after {align-self: flex-end;width: 50%;}#sk-container-id-2 div.sk-parallel-item:last-child::after {align-self: flex-start;width: 50%;}#sk-container-id-2 div.sk-parallel-item:only-child::after {width: 0;}#sk-container-id-2 div.sk-dashed-wrapped {border: 1px dashed gray;margin: 0 0.4em 0.5em 0.4em;box-sizing: border-box;padding-bottom: 0.4em;background-color: white;}#sk-container-id-2 div.sk-label label {font-family: monospace;font-weight: bold;display: inline-block;line-height: 1.2em;}#sk-container-id-2 div.sk-label-container {text-align: center;}#sk-container-id-2 div.sk-container {/* jupyter's `normalize.less` sets `[hidden] { display: none; }` but bootstrap.min.css set `[hidden] { display: none !important; }` so we also need the `!important` here to be able to override the default hidden behavior on the sphinx rendered scikit-learn.org. See: https://github.com/scikit-learn/scikit-learn/issues/21755 */display: inline-block !important;position: relative;}#sk-container-id-2 div.sk-text-repr-fallback {display: none;}</style><div id=\"sk-container-id-2\" class=\"sk-top-container\"><div class=\"sk-text-repr-fallback\"><pre>VotingClassifier(estimators=[(&#x27;mlpc&#x27;, MLPClassifier(random_state=42)),\n",
              "                             (&#x27;rnd_clf&#x27;,\n",
              "                              RandomForestClassifier(n_estimators=500,\n",
              "                                                     n_jobs=-1,\n",
              "                                                     random_state=42)),\n",
              "                             (&#x27;svm_clf&#x27;,\n",
              "                              SVC(probability=True, random_state=42))],\n",
              "                 voting=&#x27;soft&#x27;)</pre><b>In a Jupyter environment, please rerun this cell to show the HTML representation or trust the notebook. <br />On GitHub, the HTML representation is unable to render, please try loading this page with nbviewer.org.</b></div><div class=\"sk-container\" hidden><div class=\"sk-item sk-dashed-wrapped\"><div class=\"sk-label-container\"><div class=\"sk-label sk-toggleable\"><input class=\"sk-toggleable__control sk-hidden--visually\" id=\"sk-estimator-id-2\" type=\"checkbox\" ><label for=\"sk-estimator-id-2\" class=\"sk-toggleable__label sk-toggleable__label-arrow\">VotingClassifier</label><div class=\"sk-toggleable__content\"><pre>VotingClassifier(estimators=[(&#x27;mlpc&#x27;, MLPClassifier(random_state=42)),\n",
              "                             (&#x27;rnd_clf&#x27;,\n",
              "                              RandomForestClassifier(n_estimators=500,\n",
              "                                                     n_jobs=-1,\n",
              "                                                     random_state=42)),\n",
              "                             (&#x27;svm_clf&#x27;,\n",
              "                              SVC(probability=True, random_state=42))],\n",
              "                 voting=&#x27;soft&#x27;)</pre></div></div></div><div class=\"sk-parallel\"><div class=\"sk-parallel-item\"><div class=\"sk-item\"><div class=\"sk-label-container\"><div class=\"sk-label sk-toggleable\"><label>mlpc</label></div></div><div class=\"sk-serial\"><div class=\"sk-item\"><div class=\"sk-estimator sk-toggleable\"><input class=\"sk-toggleable__control sk-hidden--visually\" id=\"sk-estimator-id-3\" type=\"checkbox\" ><label for=\"sk-estimator-id-3\" class=\"sk-toggleable__label sk-toggleable__label-arrow\">MLPClassifier</label><div class=\"sk-toggleable__content\"><pre>MLPClassifier(random_state=42)</pre></div></div></div></div></div></div><div class=\"sk-parallel-item\"><div class=\"sk-item\"><div class=\"sk-label-container\"><div class=\"sk-label sk-toggleable\"><label>rnd_clf</label></div></div><div class=\"sk-serial\"><div class=\"sk-item\"><div class=\"sk-estimator sk-toggleable\"><input class=\"sk-toggleable__control sk-hidden--visually\" id=\"sk-estimator-id-4\" type=\"checkbox\" ><label for=\"sk-estimator-id-4\" class=\"sk-toggleable__label sk-toggleable__label-arrow\">RandomForestClassifier</label><div class=\"sk-toggleable__content\"><pre>RandomForestClassifier(n_estimators=500, n_jobs=-1, random_state=42)</pre></div></div></div></div></div></div><div class=\"sk-parallel-item\"><div class=\"sk-item\"><div class=\"sk-label-container\"><div class=\"sk-label sk-toggleable\"><label>svm_clf</label></div></div><div class=\"sk-serial\"><div class=\"sk-item\"><div class=\"sk-estimator sk-toggleable\"><input class=\"sk-toggleable__control sk-hidden--visually\" id=\"sk-estimator-id-5\" type=\"checkbox\" ><label for=\"sk-estimator-id-5\" class=\"sk-toggleable__label sk-toggleable__label-arrow\">SVC</label><div class=\"sk-toggleable__content\"><pre>SVC(probability=True, random_state=42)</pre></div></div></div></div></div></div></div></div></div></div>"
            ]
          },
          "metadata": {},
          "execution_count": 46
        }
      ]
    },
    {
      "cell_type": "code",
      "source": [
        "# fill in code\n",
        "cross_val_score(soft_voting_clf, X_train_scaled, y_label, cv=3, scoring=\"recall\", n_jobs=-1)"
      ],
      "metadata": {
        "id": "f9CozAgdKBi7",
        "outputId": "b70323c0-c1e6-42e8-d375-4e28431f6158",
        "colab": {
          "base_uri": "https://localhost:8080/"
        }
      },
      "execution_count": 47,
      "outputs": [
        {
          "output_type": "execute_result",
          "data": {
            "text/plain": [
              "array([0.98647574, 0.98249801, 0.9872814 ])"
            ]
          },
          "metadata": {},
          "execution_count": 47
        }
      ]
    },
    {
      "cell_type": "code",
      "source": [
        "cross_val_score(soft_voting_clf, X_train_scaled, y_label, cv=3, scoring=\"precision\", n_jobs=-1)"
      ],
      "metadata": {
        "id": "eW89OPshKMOI",
        "outputId": "f20b9f21-e579-4467-c915-362f390a0224",
        "colab": {
          "base_uri": "https://localhost:8080/"
        }
      },
      "execution_count": 48,
      "outputs": [
        {
          "output_type": "execute_result",
          "data": {
            "text/plain": [
              "array([0.98726115, 0.99196787, 0.98337292])"
            ]
          },
          "metadata": {},
          "execution_count": 48
        }
      ]
    },
    {
      "cell_type": "code",
      "source": [
        "cross_val_score(soft_voting_clf, X_train_scaled, y_label, cv=3, scoring=\"accuracy\", n_jobs=-1)"
      ],
      "metadata": {
        "id": "EGpB7OTvKipY",
        "outputId": "ba65c2b2-9a04-4da4-d986-6fb37b0d9b97",
        "colab": {
          "base_uri": "https://localhost:8080/"
        }
      },
      "execution_count": 49,
      "outputs": [
        {
          "output_type": "execute_result",
          "data": {
            "text/plain": [
              "array([0.9868, 0.9872, 0.9852])"
            ]
          },
          "metadata": {},
          "execution_count": 49
        }
      ]
    },
    {
      "cell_type": "code",
      "source": [],
      "metadata": {
        "id": "6m39xwcmLSl0"
      },
      "execution_count": 49,
      "outputs": []
    },
    {
      "cell_type": "code",
      "source": [
        "test = pd.read_csv(\"./test.csv\")"
      ],
      "metadata": {
        "id": "PbbU34qCM7VE"
      },
      "execution_count": 50,
      "outputs": []
    },
    {
      "cell_type": "code",
      "source": [
        "X_test = test"
      ],
      "metadata": {
        "id": "Tr3tFbt_M8u5"
      },
      "execution_count": 51,
      "outputs": []
    },
    {
      "cell_type": "code",
      "source": [],
      "metadata": {
        "id": "1OCjB7dXNNiA"
      },
      "execution_count": 54,
      "outputs": []
    },
    {
      "cell_type": "code",
      "source": [
        "y_pred = soft_voting_clf.predict(X_test_scaled)"
      ],
      "metadata": {
        "id": "MEx-WYydNPYx",
        "outputId": "869c1b1e-d6ad-4ca5-d77a-b1517cca76d6",
        "colab": {
          "base_uri": "https://localhost:8080/",
          "height": 141
        }
      },
      "execution_count": 56,
      "outputs": [
        {
          "output_type": "error",
          "ename": "NameError",
          "evalue": "name 'X_test_scaled' is not defined",
          "traceback": [
            "\u001b[0;31m---------------------------------------------------------------------------\u001b[0m",
            "\u001b[0;31mNameError\u001b[0m                                 Traceback (most recent call last)",
            "\u001b[0;32m<ipython-input-56-091dfa0cfad4>\u001b[0m in \u001b[0;36m<cell line: 1>\u001b[0;34m()\u001b[0m\n\u001b[0;32m----> 1\u001b[0;31m \u001b[0my_pred\u001b[0m \u001b[0;34m=\u001b[0m \u001b[0msoft_voting_clf\u001b[0m\u001b[0;34m.\u001b[0m\u001b[0mpredict\u001b[0m\u001b[0;34m(\u001b[0m\u001b[0mX_test_scaled\u001b[0m\u001b[0;34m)\u001b[0m\u001b[0;34m\u001b[0m\u001b[0;34m\u001b[0m\u001b[0m\n\u001b[0m",
            "\u001b[0;31mNameError\u001b[0m: name 'X_test_scaled' is not defined"
          ]
        }
      ]
    },
    {
      "cell_type": "code",
      "source": [],
      "metadata": {
        "id": "CqmnlwmoOyUr"
      },
      "execution_count": null,
      "outputs": []
    }
  ]
}