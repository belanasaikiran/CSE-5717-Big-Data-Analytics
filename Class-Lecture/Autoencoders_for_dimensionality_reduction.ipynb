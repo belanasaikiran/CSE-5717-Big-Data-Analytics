{
  "nbformat": 4,
  "nbformat_minor": 0,
  "metadata": {
    "colab": {
      "name": "Autoencoders for dimensionality reduction.ipynb",
      "provenance": [],
      "machine_shape": "hm"
    },
    "kernelspec": {
      "name": "python3",
      "display_name": "Python 3"
    },
    "accelerator": "GPU"
  },
  "cells": [
    {
      "cell_type": "markdown",
      "metadata": {
        "id": "d2TO_0SsRV0E"
      },
      "source": [
        "#Autoencoders\n",
        "\n",
        "Autoencoders are artificial neural networks capable of learning dense representations of the input data, called *latent representations* or *codings*, without any supervision. These encodings typically have a much lower dimensionality than the input data, making autoencoders useful for dimensionality reduction.\n",
        "\n",
        "\n",
        "\n"
      ]
    },
    {
      "cell_type": "code",
      "metadata": {
        "id": "G2xAenhd816b"
      },
      "source": [
        "from tensorflow.keras.layers import Dense, Input\n",
        "from tensorflow.keras.layers import Conv2D, Flatten, Dropout\n",
        "from tensorflow.keras.layers import Reshape\n",
        "from tensorflow.keras.models import Model\n",
        "from tensorflow.keras.datasets import mnist\n",
        "from tensorflow.keras.utils import plot_model\n",
        "from tensorflow.keras import backend as K"
      ],
      "execution_count": 1,
      "outputs": []
    },
    {
      "cell_type": "code",
      "metadata": {
        "id": "TAaVCStv84nx"
      },
      "source": [
        "import numpy as np\n",
        "import matplotlib.pyplot as plt"
      ],
      "execution_count": 2,
      "outputs": []
    },
    {
      "cell_type": "markdown",
      "metadata": {
        "id": "DZ-3mn67UIc1"
      },
      "source": [
        "Load mnist data to get the training, validation and test data sets."
      ]
    },
    {
      "cell_type": "code",
      "metadata": {
        "id": "Tit8CfRi-dTL"
      },
      "source": [
        "(x_train_full, y_train_full), (x_test, y_test) = mnist.load_data()\n",
        "x_train_full = x_train_full.astype(np.float32) / 255\n",
        "x_test = x_test.astype(np.float32) / 255\n",
        "x_train, x_valid = x_train_full[:-5000], x_train_full[-5000:]\n",
        "y_train, y_valid = y_train_full[:-5000], y_train_full[-5000:]"
      ],
      "execution_count": 3,
      "outputs": []
    },
    {
      "cell_type": "code",
      "metadata": {
        "colab": {
          "base_uri": "https://localhost:8080/"
        },
        "id": "8m8U8_4M-sw0",
        "outputId": "2e8aedbc-2b42-4520-f210-e54b177f88d0"
      },
      "source": [
        "print(x_train.shape, x_valid.shape, x_test.shape)"
      ],
      "execution_count": 4,
      "outputs": [
        {
          "output_type": "stream",
          "text": [
            "(55000, 28, 28) (5000, 28, 28) (10000, 28, 28)\n"
          ],
          "name": "stdout"
        }
      ]
    },
    {
      "cell_type": "code",
      "metadata": {
        "id": "NstUbcJHb3zF"
      },
      "source": [
        "image_size = x_train.shape[1]"
      ],
      "execution_count": 5,
      "outputs": []
    },
    {
      "cell_type": "code",
      "metadata": {
        "id": "BrKsSiVv9BY5"
      },
      "source": [
        "# network parameters\n",
        "input_shape = (image_size, image_size)\n",
        "batch_size = 32\n",
        "latent_dim = 16\n",
        "layer_units = [32, 64]"
      ],
      "execution_count": 6,
      "outputs": []
    },
    {
      "cell_type": "code",
      "metadata": {
        "id": "6-PsNgEX9EQj"
      },
      "source": [
        "# build the autoencoder model\n",
        "# first build the encoder model\n",
        "inputs = Input(shape=input_shape, name='encoder_input')\n",
        "x = inputs\n",
        "# stack of Dense(32)-Dense(64)\n",
        "x = Dropout(0.5)(x)\n",
        "for units in layer_units:\n",
        "    x = Dense(units=units,activation='relu')(x)"
      ],
      "execution_count": 7,
      "outputs": []
    },
    {
      "cell_type": "code",
      "metadata": {
        "id": "gJwb2hD99Hqj"
      },
      "source": [
        "# shape info needed to build decoder model\n",
        "\n",
        "shape = K.int_shape(x)"
      ],
      "execution_count": 8,
      "outputs": []
    },
    {
      "cell_type": "code",
      "metadata": {
        "colab": {
          "base_uri": "https://localhost:8080/"
        },
        "id": "NDrmewjW8EaA",
        "outputId": "62cf4e5c-2f54-4020-b140-979b7da33f13"
      },
      "source": [
        "shape"
      ],
      "execution_count": 9,
      "outputs": [
        {
          "output_type": "execute_result",
          "data": {
            "text/plain": [
              "(None, 28, 64)"
            ]
          },
          "metadata": {
            "tags": []
          },
          "execution_count": 9
        }
      ]
    },
    {
      "cell_type": "code",
      "metadata": {
        "id": "FLaPMGKD9Kbj"
      },
      "source": [
        "# generate latent vector\n",
        "x = Flatten()(x)\n",
        "latent = Dense(latent_dim, name='latent_vector')(x)"
      ],
      "execution_count": 10,
      "outputs": []
    },
    {
      "cell_type": "code",
      "metadata": {
        "id": "V5PAXXW79NR3",
        "colab": {
          "base_uri": "https://localhost:8080/"
        },
        "outputId": "b0011c9e-f541-43cd-eca9-4225d48dc75f"
      },
      "source": [
        "# instantiate encoder model\n",
        "encoder = Model(inputs,\n",
        "                latent,\n",
        "                name='encoder')\n",
        "encoder.summary()"
      ],
      "execution_count": 11,
      "outputs": [
        {
          "output_type": "stream",
          "text": [
            "Model: \"encoder\"\n",
            "_________________________________________________________________\n",
            "Layer (type)                 Output Shape              Param #   \n",
            "=================================================================\n",
            "encoder_input (InputLayer)   [(None, 28, 28)]          0         \n",
            "_________________________________________________________________\n",
            "dropout (Dropout)            (None, 28, 28)            0         \n",
            "_________________________________________________________________\n",
            "dense (Dense)                (None, 28, 32)            928       \n",
            "_________________________________________________________________\n",
            "dense_1 (Dense)              (None, 28, 64)            2112      \n",
            "_________________________________________________________________\n",
            "flatten (Flatten)            (None, 1792)              0         \n",
            "_________________________________________________________________\n",
            "latent_vector (Dense)        (None, 16)                28688     \n",
            "=================================================================\n",
            "Total params: 31,728\n",
            "Trainable params: 31,728\n",
            "Non-trainable params: 0\n",
            "_________________________________________________________________\n"
          ],
          "name": "stdout"
        }
      ]
    },
    {
      "cell_type": "code",
      "metadata": {
        "id": "6QmBPeLR9Q2M"
      },
      "source": [
        "# build the decoder model\n",
        "latent_inputs = Input(shape=(latent_dim,), name='decoder_input')\n",
        "# use the shape info that was earlier saved\n",
        "x = Dense(shape[1] * shape[2])(latent_inputs)\n",
        "# from vector to suitable shape\n",
        "x = Reshape((shape[1], shape[2]))(x)"
      ],
      "execution_count": 12,
      "outputs": []
    },
    {
      "cell_type": "code",
      "metadata": {
        "id": "44yYf0QX9VB8"
      },
      "source": [
        "# stack of Dense(64)-Dense(32)\n",
        "for units in layer_units[::-1]:\n",
        "    x = Dense(units=units, activation='relu')(x)"
      ],
      "execution_count": 13,
      "outputs": []
    },
    {
      "cell_type": "code",
      "metadata": {
        "id": "T-NDSAIq9XtD"
      },
      "source": [
        "# reconstruct the input\n",
        "outputs = Dense(image_size, activation='sigmoid',\n",
        "                          name='decoder_output')(x)"
      ],
      "execution_count": 14,
      "outputs": []
    },
    {
      "cell_type": "code",
      "metadata": {
        "id": "ouTOOWJm9aWU",
        "colab": {
          "base_uri": "https://localhost:8080/"
        },
        "outputId": "b145c6a0-d32b-4eb1-a974-07082fbb349f"
      },
      "source": [
        "# instantiate decoder model\n",
        "decoder = Model(latent_inputs, outputs, name='decoder')\n",
        "decoder.summary()"
      ],
      "execution_count": 15,
      "outputs": [
        {
          "output_type": "stream",
          "text": [
            "Model: \"decoder\"\n",
            "_________________________________________________________________\n",
            "Layer (type)                 Output Shape              Param #   \n",
            "=================================================================\n",
            "decoder_input (InputLayer)   [(None, 16)]              0         \n",
            "_________________________________________________________________\n",
            "dense_2 (Dense)              (None, 1792)              30464     \n",
            "_________________________________________________________________\n",
            "reshape (Reshape)            (None, 28, 64)            0         \n",
            "_________________________________________________________________\n",
            "dense_3 (Dense)              (None, 28, 64)            4160      \n",
            "_________________________________________________________________\n",
            "dense_4 (Dense)              (None, 28, 32)            2080      \n",
            "_________________________________________________________________\n",
            "decoder_output (Dense)       (None, 28, 28)            924       \n",
            "=================================================================\n",
            "Total params: 37,628\n",
            "Trainable params: 37,628\n",
            "Non-trainable params: 0\n",
            "_________________________________________________________________\n"
          ],
          "name": "stdout"
        }
      ]
    },
    {
      "cell_type": "code",
      "metadata": {
        "id": "RBNcORlx9c_4",
        "colab": {
          "base_uri": "https://localhost:8080/"
        },
        "outputId": "86a2b064-5c30-45d1-8227-460acab53987"
      },
      "source": [
        "# autoencoder = encoder + decoder\n",
        "# instantiate autoencoder model\n",
        "autoencoder = Model(inputs,\n",
        "                    decoder(encoder(inputs)),\n",
        "                    name='autoencoder')\n",
        "autoencoder.summary()"
      ],
      "execution_count": 16,
      "outputs": [
        {
          "output_type": "stream",
          "text": [
            "Model: \"autoencoder\"\n",
            "_________________________________________________________________\n",
            "Layer (type)                 Output Shape              Param #   \n",
            "=================================================================\n",
            "encoder_input (InputLayer)   [(None, 28, 28)]          0         \n",
            "_________________________________________________________________\n",
            "encoder (Functional)         (None, 16)                31728     \n",
            "_________________________________________________________________\n",
            "decoder (Functional)         (None, 28, 28)            37628     \n",
            "=================================================================\n",
            "Total params: 69,356\n",
            "Trainable params: 69,356\n",
            "Non-trainable params: 0\n",
            "_________________________________________________________________\n"
          ],
          "name": "stdout"
        }
      ]
    },
    {
      "cell_type": "code",
      "metadata": {
        "id": "7db0WWuY9gMq"
      },
      "source": [
        "# Mean Square Error (MSE) loss function, Adam optimizer\n",
        "autoencoder.compile(loss='mse', optimizer='adam')"
      ],
      "execution_count": 17,
      "outputs": []
    },
    {
      "cell_type": "code",
      "metadata": {
        "id": "gozbXsqZ9jl3",
        "colab": {
          "base_uri": "https://localhost:8080/"
        },
        "outputId": "95c50ae6-7b28-423c-ea81-61554f8c7e9a"
      },
      "source": [
        "# train the autoencoder\n",
        "history = autoencoder.fit(x_train,\n",
        "                x_train,\n",
        "                validation_data=(x_valid, x_valid),\n",
        "                epochs=10,\n",
        "                batch_size=batch_size)"
      ],
      "execution_count": 18,
      "outputs": [
        {
          "output_type": "stream",
          "text": [
            "Epoch 1/10\n",
            "1719/1719 [==============================] - 7s 4ms/step - loss: 0.0348 - val_loss: 0.0228\n",
            "Epoch 2/10\n",
            "1719/1719 [==============================] - 6s 3ms/step - loss: 0.0199 - val_loss: 0.0206\n",
            "Epoch 3/10\n",
            "1719/1719 [==============================] - 6s 3ms/step - loss: 0.0184 - val_loss: 0.0194\n",
            "Epoch 4/10\n",
            "1719/1719 [==============================] - 6s 3ms/step - loss: 0.0175 - val_loss: 0.0220\n",
            "Epoch 5/10\n",
            "1719/1719 [==============================] - 6s 3ms/step - loss: 0.0170 - val_loss: 0.0236\n",
            "Epoch 6/10\n",
            "1719/1719 [==============================] - 6s 4ms/step - loss: 0.0167 - val_loss: 0.0246\n",
            "Epoch 7/10\n",
            "1719/1719 [==============================] - 6s 4ms/step - loss: 0.0164 - val_loss: 0.0262\n",
            "Epoch 8/10\n",
            "1719/1719 [==============================] - 6s 4ms/step - loss: 0.0161 - val_loss: 0.0262\n",
            "Epoch 9/10\n",
            "1719/1719 [==============================] - 6s 4ms/step - loss: 0.0159 - val_loss: 0.0285\n",
            "Epoch 10/10\n",
            "1719/1719 [==============================] - 6s 3ms/step - loss: 0.0158 - val_loss: 0.0294\n"
          ],
          "name": "stdout"
        }
      ]
    },
    {
      "cell_type": "code",
      "metadata": {
        "colab": {
          "base_uri": "https://localhost:8080/",
          "height": 281
        },
        "id": "R_Qrs4PKUt8P",
        "outputId": "b78e4516-3d92-4545-bc19-82568495377a"
      },
      "source": [
        "loss = history.history['loss']\n",
        "val_loss = history.history['val_loss']\n",
        "\n",
        "epochs = range(len(loss))\n",
        "\n",
        "plt.figure()\n",
        "\n",
        "plt.plot(epochs, loss, 'bo', label='Training loss')\n",
        "plt.plot(epochs, val_loss, 'b', label='Validation loss')\n",
        "plt.title('Training and validation loss')\n",
        "plt.legend()\n",
        "\n",
        "plt.show()"
      ],
      "execution_count": 19,
      "outputs": [
        {
          "output_type": "display_data",
          "data": {
            "image/png": "[encoded data removed]",
            "text/plain": [
              "<Figure size 432x288 with 1 Axes>"
            ]
          },
          "metadata": {
            "tags": [],
            "needs_background": "light"
          }
        }
      ]
    },
    {
      "cell_type": "code",
      "metadata": {
        "id": "KO8bjouu9mw7"
      },
      "source": [
        "# predict the autoencoder output from test data\n",
        "x_decoded = autoencoder.predict(x_test)"
      ],
      "execution_count": 20,
      "outputs": []
    },
    {
      "cell_type": "code",
      "metadata": {
        "id": "xyMO5fbO9qBz",
        "colab": {
          "base_uri": "https://localhost:8080/",
          "height": 214
        },
        "outputId": "66117659-aac4-4bbf-fac4-3aa549c5e864"
      },
      "source": [
        "# display the 1st 16 test input and decoded images\n",
        "imgs = np.concatenate([x_test[:16], x_decoded[:16]])\n",
        "imgs = imgs.reshape((4, 8, image_size, image_size))\n",
        "imgs = np.vstack([np.hstack(i) for i in imgs])\n",
        "plt.figure()\n",
        "plt.axis('off')\n",
        "plt.title('Input: 1st 2 rows, Decoded: last 2 rows')\n",
        "plt.imshow(imgs, interpolation='none', cmap='gray')\n",
        "plt.savefig('input_and_decoded.png')\n",
        "plt.show()"
      ],
      "execution_count": 21,
      "outputs": [
        {
          "output_type": "display_data",
          "data": {
            "image/png": "[encoded data removed]",
            "text/plain": [
              "<Figure size 432x288 with 1 Axes>"
            ]
          },
          "metadata": {
            "tags": [],
            "needs_background": "light"
          }
        }
      ]
    },
    {
      "cell_type": "markdown",
      "metadata": {
        "id": "jSRpn9U5CsmG"
      },
      "source": [
        "#Dimensionality reduction using autoencoder for image classification"
      ]
    },
    {
      "cell_type": "markdown",
      "metadata": {
        "id": "G_fKCVco_0uJ"
      },
      "source": [
        "We can use the encoder to compress each image to 16 floating point numbers. Each image is stored using only 64 bytes.\n",
        "\n",
        "We want to know how good these representations are for classification purposes. \n",
        "\n",
        "We decode these representations and feed the results to a convnet net. We compare the accuracy results with the results from the original images."
      ]
    },
    {
      "cell_type": "code",
      "metadata": {
        "id": "Twb4E-YRbn-z"
      },
      "source": [
        "x_train_decoded = autoencoder.predict(x_train)\n",
        "x_valid_decoded = autoencoder.predict(x_valid)\n",
        "x_test_decoded = autoencoder.predict(x_test)\n",
        "x_train_decoded = np.reshape(x_train_decoded, [-1, image_size, image_size, 1])\n",
        "x_valid_decoded = np.reshape(x_valid_decoded, [-1, image_size, image_size, 1])\n",
        "x_test_decoded = np.reshape(x_test_decoded, [-1, image_size, image_size, 1])"
      ],
      "execution_count": 22,
      "outputs": []
    },
    {
      "cell_type": "code",
      "metadata": {
        "colab": {
          "base_uri": "https://localhost:8080/"
        },
        "id": "sOhwki8E1ZLq",
        "outputId": "9f5bfcf3-aaa7-4442-d4f0-324afa118009"
      },
      "source": [
        "print(x_train_decoded.shape, x_valid_decoded.shape, x_test_decoded.shape)"
      ],
      "execution_count": 23,
      "outputs": [
        {
          "output_type": "stream",
          "text": [
            "(55000, 28, 28, 1) (5000, 28, 28, 1) (10000, 28, 28, 1)\n"
          ],
          "name": "stdout"
        }
      ]
    },
    {
      "cell_type": "code",
      "metadata": {
        "colab": {
          "base_uri": "https://localhost:8080/"
        },
        "id": "6Ol4BeNP2Evk",
        "outputId": "2c02dcd3-ce0b-4a85-98fd-0d730b8e4495"
      },
      "source": [
        "print(y_train.shape, y_valid.shape, y_test.shape)"
      ],
      "execution_count": 24,
      "outputs": [
        {
          "output_type": "stream",
          "text": [
            "(55000,) (5000,) (10000,)\n"
          ],
          "name": "stdout"
        }
      ]
    },
    {
      "cell_type": "markdown",
      "metadata": {
        "id": "YM5Ixytq_i23"
      },
      "source": [
        "We define a Convnet to classify these images."
      ]
    },
    {
      "cell_type": "code",
      "metadata": {
        "colab": {
          "base_uri": "https://localhost:8080/"
        },
        "id": "GIk2-GHGy-_x",
        "outputId": "7122f364-5c42-4523-fba8-4317ecbb400f"
      },
      "source": [
        "from keras import layers\n",
        "from keras import models\n",
        "\n",
        "model = models.Sequential()\n",
        "model.add(layers.Conv2D(32, (3, 3), strides=2, padding='same', activation='relu', input_shape=(28, 28, 1)))\n",
        "model.add(layers.MaxPooling2D((2, 2)))\n",
        "model.add(layers.Conv2D(64, (3, 3), strides=2, padding='same', activation='relu'))\n",
        "model.add(layers.MaxPooling2D((2, 2)))\n",
        "model.add(layers.Flatten())\n",
        "model.add(layers.Dense(16, activation='relu'))\n",
        "model.add(layers.Dense(10, activation='softmax'))\n",
        "model.summary()"
      ],
      "execution_count": 25,
      "outputs": [
        {
          "output_type": "stream",
          "text": [
            "Model: \"sequential\"\n",
            "_________________________________________________________________\n",
            "Layer (type)                 Output Shape              Param #   \n",
            "=================================================================\n",
            "conv2d (Conv2D)              (None, 14, 14, 32)        320       \n",
            "_________________________________________________________________\n",
            "max_pooling2d (MaxPooling2D) (None, 7, 7, 32)          0         \n",
            "_________________________________________________________________\n",
            "conv2d_1 (Conv2D)            (None, 4, 4, 64)          18496     \n",
            "_________________________________________________________________\n",
            "max_pooling2d_1 (MaxPooling2 (None, 2, 2, 64)          0         \n",
            "_________________________________________________________________\n",
            "flatten (Flatten)            (None, 256)               0         \n",
            "_________________________________________________________________\n",
            "dense (Dense)                (None, 16)                4112      \n",
            "_________________________________________________________________\n",
            "dense_1 (Dense)              (None, 10)                170       \n",
            "=================================================================\n",
            "Total params: 23,098\n",
            "Trainable params: 23,098\n",
            "Non-trainable params: 0\n",
            "_________________________________________________________________\n"
          ],
          "name": "stdout"
        }
      ]
    },
    {
      "cell_type": "code",
      "metadata": {
        "colab": {
          "base_uri": "https://localhost:8080/"
        },
        "id": "iPOwQS3E00q-",
        "outputId": "cdacea53-a97e-400f-9d95-402e08921c07"
      },
      "source": [
        "model.compile(optimizer='adam',\n",
        "              loss='sparse_categorical_crossentropy',\n",
        "              metrics=['accuracy'])\n",
        "history = model.fit(x_train_decoded, y_train, validation_data=(x_valid_decoded, y_valid), epochs=20, batch_size=32)"
      ],
      "execution_count": 26,
      "outputs": [
        {
          "output_type": "stream",
          "text": [
            "Epoch 1/20\n",
            "1719/1719 [==============================] - 17s 3ms/step - loss: 0.7673 - accuracy: 0.7498 - val_loss: 0.1743 - val_accuracy: 0.9496\n",
            "Epoch 2/20\n",
            "1719/1719 [==============================] - 4s 2ms/step - loss: 0.2099 - accuracy: 0.9359 - val_loss: 0.1618 - val_accuracy: 0.9524\n",
            "Epoch 3/20\n",
            "1719/1719 [==============================] - 4s 2ms/step - loss: 0.1685 - accuracy: 0.9466 - val_loss: 0.1370 - val_accuracy: 0.9592\n",
            "Epoch 4/20\n",
            "1719/1719 [==============================] - 4s 2ms/step - loss: 0.1461 - accuracy: 0.9549 - val_loss: 0.1161 - val_accuracy: 0.9656\n",
            "Epoch 5/20\n",
            "1719/1719 [==============================] - 4s 3ms/step - loss: 0.1335 - accuracy: 0.9576 - val_loss: 0.1176 - val_accuracy: 0.9660\n",
            "Epoch 6/20\n",
            "1719/1719 [==============================] - 4s 3ms/step - loss: 0.1196 - accuracy: 0.9622 - val_loss: 0.1288 - val_accuracy: 0.9622\n",
            "Epoch 7/20\n",
            "1719/1719 [==============================] - 4s 3ms/step - loss: 0.1162 - accuracy: 0.9640 - val_loss: 0.1339 - val_accuracy: 0.9608\n",
            "Epoch 8/20\n",
            "1719/1719 [==============================] - 4s 3ms/step - loss: 0.1065 - accuracy: 0.9649 - val_loss: 0.1135 - val_accuracy: 0.9674\n",
            "Epoch 9/20\n",
            "1719/1719 [==============================] - 4s 3ms/step - loss: 0.0987 - accuracy: 0.9690 - val_loss: 0.1068 - val_accuracy: 0.9690\n",
            "Epoch 10/20\n",
            "1719/1719 [==============================] - 4s 2ms/step - loss: 0.0943 - accuracy: 0.9696 - val_loss: 0.1209 - val_accuracy: 0.9642\n",
            "Epoch 11/20\n",
            "1719/1719 [==============================] - 4s 2ms/step - loss: 0.0936 - accuracy: 0.9685 - val_loss: 0.1144 - val_accuracy: 0.9674\n",
            "Epoch 12/20\n",
            "1719/1719 [==============================] - 4s 2ms/step - loss: 0.0820 - accuracy: 0.9724 - val_loss: 0.1074 - val_accuracy: 0.9688\n",
            "Epoch 13/20\n",
            "1719/1719 [==============================] - 4s 2ms/step - loss: 0.0766 - accuracy: 0.9750 - val_loss: 0.1082 - val_accuracy: 0.9692\n",
            "Epoch 14/20\n",
            "1719/1719 [==============================] - 4s 2ms/step - loss: 0.0776 - accuracy: 0.9749 - val_loss: 0.1140 - val_accuracy: 0.9684\n",
            "Epoch 15/20\n",
            "1719/1719 [==============================] - 4s 2ms/step - loss: 0.0715 - accuracy: 0.9766 - val_loss: 0.1141 - val_accuracy: 0.9686\n",
            "Epoch 16/20\n",
            "1719/1719 [==============================] - 4s 2ms/step - loss: 0.0701 - accuracy: 0.9769 - val_loss: 0.1136 - val_accuracy: 0.9696\n",
            "Epoch 17/20\n",
            "1719/1719 [==============================] - 4s 2ms/step - loss: 0.0670 - accuracy: 0.9775 - val_loss: 0.1088 - val_accuracy: 0.9704\n",
            "Epoch 18/20\n",
            "1719/1719 [==============================] - 4s 2ms/step - loss: 0.0601 - accuracy: 0.9798 - val_loss: 0.1126 - val_accuracy: 0.9698\n",
            "Epoch 19/20\n",
            "1719/1719 [==============================] - 4s 2ms/step - loss: 0.0594 - accuracy: 0.9799 - val_loss: 0.1262 - val_accuracy: 0.9668\n",
            "Epoch 20/20\n",
            "1719/1719 [==============================] - 4s 2ms/step - loss: 0.0560 - accuracy: 0.9810 - val_loss: 0.1255 - val_accuracy: 0.9692\n"
          ],
          "name": "stdout"
        }
      ]
    },
    {
      "cell_type": "code",
      "metadata": {
        "colab": {
          "base_uri": "https://localhost:8080/",
          "height": 281
        },
        "id": "Wuw5pi6w3OPZ",
        "outputId": "70147530-11cc-4489-d3bc-7e83e685cdc6"
      },
      "source": [
        "accuracy = history.history['accuracy']\n",
        "val_accuracy = history.history['val_accuracy']\n",
        "\n",
        "epochs = range(len(accuracy))\n",
        "\n",
        "plt.figure()\n",
        "\n",
        "plt.plot(epochs, accuracy, 'bo', label='Training accuracy')\n",
        "plt.plot(epochs, val_accuracy, 'b', label='Validation accuracy')\n",
        "plt.title('Training and validation accuracy')\n",
        "plt.legend()\n",
        "\n",
        "plt.show()"
      ],
      "execution_count": 27,
      "outputs": [
        {
          "output_type": "display_data",
          "data": {
            "image/png": "[encoded data removed]",
            "text/plain": [
              "<Figure size 432x288 with 1 Axes>"
            ]
          },
          "metadata": {
            "tags": [],
            "needs_background": "light"
          }
        }
      ]
    },
    {
      "cell_type": "code",
      "metadata": {
        "colab": {
          "base_uri": "https://localhost:8080/"
        },
        "id": "i3XMAL4a1LlA",
        "outputId": "9da4420b-91db-446a-804e-fa476298f593"
      },
      "source": [
        "test_loss, test_acc = model.evaluate(x_test_decoded, y_test)"
      ],
      "execution_count": 28,
      "outputs": [
        {
          "output_type": "stream",
          "text": [
            "313/313 [==============================] - 1s 2ms/step - loss: 0.1251 - accuracy: 0.9646\n"
          ],
          "name": "stdout"
        }
      ]
    },
    {
      "cell_type": "markdown",
      "metadata": {
        "id": "F8jX55DmCjQK"
      },
      "source": [
        "Using the decoded images, we achieve 96.46% of accuracy.\n",
        "\n",
        "Now we repeat the process for the original images."
      ]
    },
    {
      "cell_type": "code",
      "metadata": {
        "id": "NVZLkZN64rVb"
      },
      "source": [
        "x_train = np.reshape(x_train, [-1, image_size, image_size, 1])\n",
        "x_valid = np.reshape(x_valid, [-1, image_size, image_size, 1])\n",
        "x_test = np.reshape(x_test, [-1, image_size, image_size, 1])"
      ],
      "execution_count": 29,
      "outputs": []
    },
    {
      "cell_type": "code",
      "metadata": {
        "colab": {
          "base_uri": "https://localhost:8080/"
        },
        "id": "FeG1Prry2-A7",
        "outputId": "b4209df9-c03d-4ccd-fc6e-0421357f209b"
      },
      "source": [
        "model.compile(optimizer='adam',\n",
        "              loss='sparse_categorical_crossentropy',\n",
        "              metrics=['accuracy'])\n",
        "history = model.fit(x_train, y_train, validation_data=(x_valid, y_valid), epochs=20, batch_size=32)"
      ],
      "execution_count": 30,
      "outputs": [
        {
          "output_type": "stream",
          "text": [
            "Epoch 1/20\n",
            "1719/1719 [==============================] - 5s 3ms/step - loss: 0.1481 - accuracy: 0.9641 - val_loss: 0.0758 - val_accuracy: 0.9798\n",
            "Epoch 2/20\n",
            "1719/1719 [==============================] - 4s 3ms/step - loss: 0.0587 - accuracy: 0.9822 - val_loss: 0.0644 - val_accuracy: 0.9846\n",
            "Epoch 3/20\n",
            "1719/1719 [==============================] - 4s 3ms/step - loss: 0.0413 - accuracy: 0.9876 - val_loss: 0.0543 - val_accuracy: 0.9840\n",
            "Epoch 4/20\n",
            "1719/1719 [==============================] - 4s 2ms/step - loss: 0.0330 - accuracy: 0.9900 - val_loss: 0.0524 - val_accuracy: 0.9854\n",
            "Epoch 5/20\n",
            "1719/1719 [==============================] - 4s 2ms/step - loss: 0.0250 - accuracy: 0.9921 - val_loss: 0.0670 - val_accuracy: 0.9852\n",
            "Epoch 6/20\n",
            "1719/1719 [==============================] - 4s 2ms/step - loss: 0.0208 - accuracy: 0.9932 - val_loss: 0.0572 - val_accuracy: 0.9864\n",
            "Epoch 7/20\n",
            "1719/1719 [==============================] - 4s 2ms/step - loss: 0.0179 - accuracy: 0.9946 - val_loss: 0.0542 - val_accuracy: 0.9860\n",
            "Epoch 8/20\n",
            "1719/1719 [==============================] - 4s 2ms/step - loss: 0.0149 - accuracy: 0.9951 - val_loss: 0.0580 - val_accuracy: 0.9860\n",
            "Epoch 9/20\n",
            "1719/1719 [==============================] - 4s 2ms/step - loss: 0.0116 - accuracy: 0.9961 - val_loss: 0.0685 - val_accuracy: 0.9840\n",
            "Epoch 10/20\n",
            "1719/1719 [==============================] - 4s 2ms/step - loss: 0.0112 - accuracy: 0.9963 - val_loss: 0.0719 - val_accuracy: 0.9868\n",
            "Epoch 11/20\n",
            "1719/1719 [==============================] - 4s 3ms/step - loss: 0.0086 - accuracy: 0.9971 - val_loss: 0.0637 - val_accuracy: 0.9882\n",
            "Epoch 12/20\n",
            "1719/1719 [==============================] - 4s 3ms/step - loss: 0.0076 - accuracy: 0.9977 - val_loss: 0.0679 - val_accuracy: 0.9878\n",
            "Epoch 13/20\n",
            "1719/1719 [==============================] - 4s 2ms/step - loss: 0.0070 - accuracy: 0.9973 - val_loss: 0.0694 - val_accuracy: 0.9870\n",
            "Epoch 14/20\n",
            "1719/1719 [==============================] - 4s 2ms/step - loss: 0.0063 - accuracy: 0.9978 - val_loss: 0.0654 - val_accuracy: 0.9874\n",
            "Epoch 15/20\n",
            "1719/1719 [==============================] - 4s 2ms/step - loss: 0.0047 - accuracy: 0.9986 - val_loss: 0.0643 - val_accuracy: 0.9880\n",
            "Epoch 16/20\n",
            "1719/1719 [==============================] - 4s 2ms/step - loss: 0.0064 - accuracy: 0.9977 - val_loss: 0.0651 - val_accuracy: 0.9876\n",
            "Epoch 17/20\n",
            "1719/1719 [==============================] - 4s 2ms/step - loss: 0.0051 - accuracy: 0.9983 - val_loss: 0.0736 - val_accuracy: 0.9888\n",
            "Epoch 18/20\n",
            "1719/1719 [==============================] - 4s 2ms/step - loss: 0.0048 - accuracy: 0.9983 - val_loss: 0.0718 - val_accuracy: 0.9886\n",
            "Epoch 19/20\n",
            "1719/1719 [==============================] - 4s 2ms/step - loss: 0.0046 - accuracy: 0.9981 - val_loss: 0.0717 - val_accuracy: 0.9886\n",
            "Epoch 20/20\n",
            "1719/1719 [==============================] - 4s 2ms/step - loss: 0.0055 - accuracy: 0.9982 - val_loss: 0.0868 - val_accuracy: 0.9866\n"
          ],
          "name": "stdout"
        }
      ]
    },
    {
      "cell_type": "code",
      "metadata": {
        "colab": {
          "base_uri": "https://localhost:8080/"
        },
        "id": "Nv6Mh2Ks3fzV",
        "outputId": "8b6278f3-b97d-4652-9928-6f686f8eb5e5"
      },
      "source": [
        "test_loss, test_acc = model.evaluate(x_test, y_test)"
      ],
      "execution_count": 31,
      "outputs": [
        {
          "output_type": "stream",
          "text": [
            "313/313 [==============================] - 1s 2ms/step - loss: 0.0766 - accuracy: 0.9845\n"
          ],
          "name": "stdout"
        }
      ]
    },
    {
      "cell_type": "markdown",
      "metadata": {
        "id": "mNK3mKsCAzTt"
      },
      "source": [
        "The original image achieves 98.45% of accuracy.\n",
        "\n",
        "In this example, we use autoencoder to compress MNIST images. Each images is compressed from 28x28 = 784 bytes to 16*4 = 64 bytes. That is a compression ratio of 12.25. \n",
        "\n",
        "By using the compressed images we can still achieve 96.46% of accuracy using a convnet, while using the original images achieves 98.45% of accuracy with the same convnet configurations."
      ]
    },
    {
      "cell_type": "code",
      "metadata": {
        "id": "D9wBP5YrB-Io"
      },
      "source": [
        ""
      ],
      "execution_count": null,
      "outputs": []
    }
  ]
}