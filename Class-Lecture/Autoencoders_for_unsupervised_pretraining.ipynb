{
  "nbformat": 4,
  "nbformat_minor": 0,
  "metadata": {
    "colab": {
      "name": "Autoencoders for unsupervised pretraining.ipynb",
      "provenance": [],
      "machine_shape": "hm"
    },
    "kernelspec": {
      "name": "python3",
      "display_name": "Python 3"
    },
    "accelerator": "GPU"
  },
  "cells": [
    {
      "cell_type": "markdown",
      "metadata": {
        "id": "RIHkFa_fYu35"
      },
      "source": [
        "#Autoencoders for unsupervised pretraining"
      ]
    },
    {
      "cell_type": "markdown",
      "metadata": {
        "id": "SkHW8L1pUfKL"
      },
      "source": [
        "We use an example to show how we can use autoencoder to improve classification results when we have limited labels.\n",
        "\n",
        "We will use stacked autoencoders for unsuperviesed pretraining."
      ]
    },
    {
      "cell_type": "code",
      "metadata": {
        "id": "G2xAenhd816b"
      },
      "source": [
        "from tensorflow.keras.layers import Dense, Input\n",
        "from tensorflow.keras.layers import Conv2D, Flatten, Dropout\n",
        "from tensorflow.keras.layers import Reshape, Conv2DTranspose\n",
        "from tensorflow.keras.models import Model\n",
        "from tensorflow.keras.datasets import mnist\n",
        "from tensorflow.keras.utils import plot_model\n",
        "from tensorflow.keras import backend as K"
      ],
      "execution_count": 1,
      "outputs": []
    },
    {
      "cell_type": "code",
      "metadata": {
        "id": "TAaVCStv84nx"
      },
      "source": [
        "import numpy as np\n",
        "import matplotlib.pyplot as plt"
      ],
      "execution_count": 2,
      "outputs": []
    },
    {
      "cell_type": "markdown",
      "metadata": {
        "id": "10aN520CUtD-"
      },
      "source": [
        "Load mnist data."
      ]
    },
    {
      "cell_type": "code",
      "metadata": {
        "id": "Tit8CfRi-dTL"
      },
      "source": [
        "(x_train_full, y_train_full), (x_test, y_test) = mnist.load_data()\n",
        "x_train_full = x_train_full.astype(np.float32) / 255\n",
        "x_test = x_test.astype(np.float32) / 255\n",
        "x_train, x_valid = x_train_full[:-5000], x_train_full[-5000:]\n",
        "y_train, y_valid = y_train_full[:-5000], y_train_full[-5000:]"
      ],
      "execution_count": 3,
      "outputs": []
    },
    {
      "cell_type": "code",
      "metadata": {
        "colab": {
          "base_uri": "https://localhost:8080/"
        },
        "id": "8m8U8_4M-sw0",
        "outputId": "29c871dd-7aa7-4f33-e44a-33942dbee641"
      },
      "source": [
        "print(x_train.shape, x_valid.shape, x_test.shape)"
      ],
      "execution_count": 4,
      "outputs": [
        {
          "output_type": "stream",
          "text": [
            "(55000, 28, 28) (5000, 28, 28) (10000, 28, 28)\n"
          ],
          "name": "stdout"
        }
      ]
    },
    {
      "cell_type": "code",
      "metadata": {
        "id": "U-_dQAo48-se"
      },
      "source": [
        "# reshape to (28, 28, 1) and normalize input images\n",
        "image_size = x_train.shape[1]\n",
        "x_train = np.reshape(x_train, [-1, image_size, image_size, 1])\n",
        "x_valid = np.reshape(x_valid, [-1, image_size, image_size, 1])\n",
        "x_test = np.reshape(x_test, [-1, image_size, image_size, 1])"
      ],
      "execution_count": 5,
      "outputs": []
    },
    {
      "cell_type": "markdown",
      "metadata": {
        "id": "YGjwviAvWKkD"
      },
      "source": [
        "Next, we build a autoencoder using Conv2D layers.\n",
        "\n",
        "First, we build the encoder."
      ]
    },
    {
      "cell_type": "code",
      "metadata": {
        "id": "BrKsSiVv9BY5"
      },
      "source": [
        "# network parameters\n",
        "input_shape = (image_size, image_size, 1)\n",
        "batch_size = 32\n",
        "kernel_size = 3\n",
        "latent_dim = 16\n",
        "# encoder/decoder number of CNN layers and filters per layer\n",
        "layer_filters = [32, 64]"
      ],
      "execution_count": 6,
      "outputs": []
    },
    {
      "cell_type": "code",
      "metadata": {
        "id": "6-PsNgEX9EQj"
      },
      "source": [
        "# build the autoencoder model\n",
        "# first build the encoder model\n",
        "inputs = Input(shape=input_shape, name='encoder_input')\n",
        "x = inputs\n",
        "# stack of Conv2D(32)-Conv2D(64)\n",
        "x = Dropout(0.5)(x)\n",
        "for filters in layer_filters:\n",
        "    x = Conv2D(filters=filters,\n",
        "               kernel_size=kernel_size,\n",
        "               activation='relu',\n",
        "               strides=2,\n",
        "               padding='same')(x)"
      ],
      "execution_count": 7,
      "outputs": []
    },
    {
      "cell_type": "code",
      "metadata": {
        "id": "gJwb2hD99Hqj"
      },
      "source": [
        "# shape info needed to build decoder model\n",
        "\n",
        "shape = K.int_shape(x)"
      ],
      "execution_count": 8,
      "outputs": []
    },
    {
      "cell_type": "code",
      "metadata": {
        "colab": {
          "base_uri": "https://localhost:8080/"
        },
        "id": "NDrmewjW8EaA",
        "outputId": "4ab5c434-ea2a-4405-93bd-d5ee48f1c509"
      },
      "source": [
        "shape"
      ],
      "execution_count": 9,
      "outputs": [
        {
          "output_type": "execute_result",
          "data": {
            "text/plain": [
              "(None, 7, 7, 64)"
            ]
          },
          "metadata": {
            "tags": []
          },
          "execution_count": 9
        }
      ]
    },
    {
      "cell_type": "code",
      "metadata": {
        "id": "FLaPMGKD9Kbj"
      },
      "source": [
        "# generate latent vector\n",
        "x = Flatten()(x)\n",
        "latent = Dense(latent_dim, name='latent_vector')(x)"
      ],
      "execution_count": 10,
      "outputs": []
    },
    {
      "cell_type": "code",
      "metadata": {
        "id": "V5PAXXW79NR3",
        "colab": {
          "base_uri": "https://localhost:8080/"
        },
        "outputId": "cb16f972-fe25-46c3-a082-c2b3d8a76361"
      },
      "source": [
        "# instantiate encoder model\n",
        "encoder = Model(inputs,\n",
        "                latent,\n",
        "                name='encoder')\n",
        "encoder.summary()"
      ],
      "execution_count": 11,
      "outputs": [
        {
          "output_type": "stream",
          "text": [
            "Model: \"encoder\"\n",
            "_________________________________________________________________\n",
            "Layer (type)                 Output Shape              Param #   \n",
            "=================================================================\n",
            "encoder_input (InputLayer)   [(None, 28, 28, 1)]       0         \n",
            "_________________________________________________________________\n",
            "dropout (Dropout)            (None, 28, 28, 1)         0         \n",
            "_________________________________________________________________\n",
            "conv2d (Conv2D)              (None, 14, 14, 32)        320       \n",
            "_________________________________________________________________\n",
            "conv2d_1 (Conv2D)            (None, 7, 7, 64)          18496     \n",
            "_________________________________________________________________\n",
            "flatten (Flatten)            (None, 3136)              0         \n",
            "_________________________________________________________________\n",
            "latent_vector (Dense)        (None, 16)                50192     \n",
            "=================================================================\n",
            "Total params: 69,008\n",
            "Trainable params: 69,008\n",
            "Non-trainable params: 0\n",
            "_________________________________________________________________\n"
          ],
          "name": "stdout"
        }
      ]
    },
    {
      "cell_type": "markdown",
      "metadata": {
        "id": "dgMny00PWdQY"
      },
      "source": [
        "Now we build the decoder. Note in the decoder we use Conv2DTranspose layers."
      ]
    },
    {
      "cell_type": "code",
      "metadata": {
        "id": "6QmBPeLR9Q2M"
      },
      "source": [
        "# build the decoder model\n",
        "latent_inputs = Input(shape=(latent_dim,), name='decoder_input')\n",
        "# use the shape (7, 7, 64) that was earlier saved\n",
        "x = Dense(shape[1] * shape[2] * shape[3])(latent_inputs)\n",
        "# from vector to suitable shape for transposed conv\n",
        "x = Reshape((shape[1], shape[2], shape[3]))(x)"
      ],
      "execution_count": 12,
      "outputs": []
    },
    {
      "cell_type": "code",
      "metadata": {
        "id": "44yYf0QX9VB8"
      },
      "source": [
        "# stack of Conv2DTranspose(64)-Conv2DTranspose(32)\n",
        "for filters in layer_filters[::-1]:\n",
        "    x = Conv2DTranspose(filters=filters,\n",
        "                        kernel_size=kernel_size,\n",
        "                        activation='relu',\n",
        "                        strides=2,\n",
        "                        padding='same')(x)"
      ],
      "execution_count": 13,
      "outputs": []
    },
    {
      "cell_type": "code",
      "metadata": {
        "id": "T-NDSAIq9XtD"
      },
      "source": [
        "# reconstruct the input\n",
        "outputs = Conv2DTranspose(filters=1,\n",
        "                          kernel_size=kernel_size,\n",
        "                          activation='sigmoid',\n",
        "                          padding='same',\n",
        "                          name='decoder_output')(x)"
      ],
      "execution_count": 14,
      "outputs": []
    },
    {
      "cell_type": "code",
      "metadata": {
        "id": "ouTOOWJm9aWU",
        "colab": {
          "base_uri": "https://localhost:8080/"
        },
        "outputId": "4af2814a-41b6-4a1c-f699-37becd15861b"
      },
      "source": [
        "# instantiate decoder model\n",
        "decoder = Model(latent_inputs, outputs, name='decoder')\n",
        "decoder.summary()"
      ],
      "execution_count": 15,
      "outputs": [
        {
          "output_type": "stream",
          "text": [
            "Model: \"decoder\"\n",
            "_________________________________________________________________\n",
            "Layer (type)                 Output Shape              Param #   \n",
            "=================================================================\n",
            "decoder_input (InputLayer)   [(None, 16)]              0         \n",
            "_________________________________________________________________\n",
            "dense (Dense)                (None, 3136)              53312     \n",
            "_________________________________________________________________\n",
            "reshape (Reshape)            (None, 7, 7, 64)          0         \n",
            "_________________________________________________________________\n",
            "conv2d_transpose (Conv2DTran (None, 14, 14, 64)        36928     \n",
            "_________________________________________________________________\n",
            "conv2d_transpose_1 (Conv2DTr (None, 28, 28, 32)        18464     \n",
            "_________________________________________________________________\n",
            "decoder_output (Conv2DTransp (None, 28, 28, 1)         289       \n",
            "=================================================================\n",
            "Total params: 108,993\n",
            "Trainable params: 108,993\n",
            "Non-trainable params: 0\n",
            "_________________________________________________________________\n"
          ],
          "name": "stdout"
        }
      ]
    },
    {
      "cell_type": "code",
      "metadata": {
        "id": "RBNcORlx9c_4",
        "colab": {
          "base_uri": "https://localhost:8080/"
        },
        "outputId": "6510da08-85f8-4220-a4fa-7abbe274fe9e"
      },
      "source": [
        "# autoencoder = encoder + decoder\n",
        "# instantiate autoencoder model\n",
        "autoencoder = Model(inputs,\n",
        "                    decoder(encoder(inputs)),\n",
        "                    name='autoencoder')\n",
        "autoencoder.summary()"
      ],
      "execution_count": 16,
      "outputs": [
        {
          "output_type": "stream",
          "text": [
            "Model: \"autoencoder\"\n",
            "_________________________________________________________________\n",
            "Layer (type)                 Output Shape              Param #   \n",
            "=================================================================\n",
            "encoder_input (InputLayer)   [(None, 28, 28, 1)]       0         \n",
            "_________________________________________________________________\n",
            "encoder (Functional)         (None, 16)                69008     \n",
            "_________________________________________________________________\n",
            "decoder (Functional)         (None, 28, 28, 1)         108993    \n",
            "=================================================================\n",
            "Total params: 178,001\n",
            "Trainable params: 178,001\n",
            "Non-trainable params: 0\n",
            "_________________________________________________________________\n"
          ],
          "name": "stdout"
        }
      ]
    },
    {
      "cell_type": "code",
      "metadata": {
        "id": "7db0WWuY9gMq"
      },
      "source": [
        "# Mean Square Error (MSE) loss function, Adam optimizer\n",
        "autoencoder.compile(loss='mse', optimizer='adam')"
      ],
      "execution_count": 17,
      "outputs": []
    },
    {
      "cell_type": "code",
      "metadata": {
        "id": "gozbXsqZ9jl3",
        "colab": {
          "base_uri": "https://localhost:8080/"
        },
        "outputId": "615827c0-706a-4f16-919c-54f6738dc43b"
      },
      "source": [
        "# train the autoencoder\n",
        "history = autoencoder.fit(x_train,\n",
        "                x_train,\n",
        "                validation_data=(x_valid, x_valid),\n",
        "                epochs=20,\n",
        "                batch_size=batch_size)"
      ],
      "execution_count": 18,
      "outputs": [
        {
          "output_type": "stream",
          "text": [
            "Epoch 1/20\n",
            "1719/1719 [==============================] - 8s 4ms/step - loss: 0.0257 - val_loss: 0.0346\n",
            "Epoch 2/20\n",
            "1719/1719 [==============================] - 6s 3ms/step - loss: 0.0136 - val_loss: 0.0319\n",
            "Epoch 3/20\n",
            "1719/1719 [==============================] - 6s 3ms/step - loss: 0.0122 - val_loss: 0.0335\n",
            "Epoch 4/20\n",
            "1719/1719 [==============================] - 6s 3ms/step - loss: 0.0115 - val_loss: 0.0336\n",
            "Epoch 5/20\n",
            "1719/1719 [==============================] - 6s 3ms/step - loss: 0.0110 - val_loss: 0.0315\n",
            "Epoch 6/20\n",
            "1719/1719 [==============================] - 6s 3ms/step - loss: 0.0107 - val_loss: 0.0322\n",
            "Epoch 7/20\n",
            "1719/1719 [==============================] - 6s 4ms/step - loss: 0.0104 - val_loss: 0.0334\n",
            "Epoch 8/20\n",
            "1719/1719 [==============================] - 6s 4ms/step - loss: 0.0103 - val_loss: 0.0343\n",
            "Epoch 9/20\n",
            "1719/1719 [==============================] - 6s 4ms/step - loss: 0.0101 - val_loss: 0.0302\n",
            "Epoch 10/20\n",
            "1719/1719 [==============================] - 6s 4ms/step - loss: 0.0099 - val_loss: 0.0303\n",
            "Epoch 11/20\n",
            "1719/1719 [==============================] - 6s 3ms/step - loss: 0.0098 - val_loss: 0.0326\n",
            "Epoch 12/20\n",
            "1719/1719 [==============================] - 6s 3ms/step - loss: 0.0097 - val_loss: 0.0279\n",
            "Epoch 13/20\n",
            "1719/1719 [==============================] - 6s 3ms/step - loss: 0.0096 - val_loss: 0.0274\n",
            "Epoch 14/20\n",
            "1719/1719 [==============================] - 6s 3ms/step - loss: 0.0095 - val_loss: 0.0302\n",
            "Epoch 15/20\n",
            "1719/1719 [==============================] - 6s 3ms/step - loss: 0.0095 - val_loss: 0.0287\n",
            "Epoch 16/20\n",
            "1719/1719 [==============================] - 6s 3ms/step - loss: 0.0094 - val_loss: 0.0280\n",
            "Epoch 17/20\n",
            "1719/1719 [==============================] - 6s 3ms/step - loss: 0.0094 - val_loss: 0.0327\n",
            "Epoch 18/20\n",
            "1719/1719 [==============================] - 6s 4ms/step - loss: 0.0093 - val_loss: 0.0298\n",
            "Epoch 19/20\n",
            "1719/1719 [==============================] - 6s 4ms/step - loss: 0.0092 - val_loss: 0.0330\n",
            "Epoch 20/20\n",
            "1719/1719 [==============================] - 6s 4ms/step - loss: 0.0092 - val_loss: 0.0309\n"
          ],
          "name": "stdout"
        }
      ]
    },
    {
      "cell_type": "code",
      "metadata": {
        "colab": {
          "base_uri": "https://localhost:8080/",
          "height": 281
        },
        "id": "R_Qrs4PKUt8P",
        "outputId": "a35e87ae-4964-4add-db3d-5c75f8bbf990"
      },
      "source": [
        "loss = history.history['loss']\n",
        "val_loss = history.history['val_loss']\n",
        "\n",
        "epochs = range(len(loss))\n",
        "\n",
        "plt.figure()\n",
        "\n",
        "plt.plot(epochs, loss, 'bo', label='Training loss')\n",
        "plt.plot(epochs, val_loss, 'b', label='Validation loss')\n",
        "plt.title('Training and validation loss')\n",
        "plt.legend()\n",
        "\n",
        "plt.show()"
      ],
      "execution_count": 19,
      "outputs": [
        {
          "output_type": "display_data",
          "data": {
            "image/png": "[encoded data removed]",
            "text/plain": [
              "<Figure size 432x288 with 1 Axes>"
            ]
          },
          "metadata": {
            "tags": [],
            "needs_background": "light"
          }
        }
      ]
    },
    {
      "cell_type": "code",
      "metadata": {
        "id": "KO8bjouu9mw7"
      },
      "source": [
        "# predict the autoencoder output from test data\n",
        "x_decoded = autoencoder.predict(x_test)"
      ],
      "execution_count": 20,
      "outputs": []
    },
    {
      "cell_type": "code",
      "metadata": {
        "id": "xyMO5fbO9qBz",
        "colab": {
          "base_uri": "https://localhost:8080/",
          "height": 214
        },
        "outputId": "3e7d4a88-cf82-4c1a-cdec-f98303b6ca1c"
      },
      "source": [
        "# display the 1st 16 test input and decoded images\n",
        "imgs = np.concatenate([x_test[:16], x_decoded[:16]])\n",
        "imgs = imgs.reshape((4, 8, image_size, image_size))\n",
        "imgs = np.vstack([np.hstack(i) for i in imgs])\n",
        "plt.figure()\n",
        "plt.axis('off')\n",
        "plt.title('Input: 1st 2 rows, Decoded: last 2 rows')\n",
        "plt.imshow(imgs, interpolation='none', cmap='gray')\n",
        "plt.savefig('input_and_decoded.png')\n",
        "plt.show()"
      ],
      "execution_count": 21,
      "outputs": [
        {
          "output_type": "display_data",
          "data": {
            "image/png": "[encoded data removed]",
            "text/plain": [
              "<Figure size 432x288 with 1 Axes>"
            ]
          },
          "metadata": {
            "tags": [],
            "needs_background": "light"
          }
        }
      ]
    },
    {
      "cell_type": "code",
      "metadata": {
        "id": "t0DzkVMH9s9A"
      },
      "source": [
        "x_encoded = encoder.predict(x_train)"
      ],
      "execution_count": 22,
      "outputs": []
    },
    {
      "cell_type": "code",
      "metadata": {
        "id": "oZpcwJY-BS04",
        "colab": {
          "base_uri": "https://localhost:8080/"
        },
        "outputId": "580149c2-075a-4b57-e0c9-3ebf23de0c29"
      },
      "source": [
        "x_encoded.shape"
      ],
      "execution_count": 23,
      "outputs": [
        {
          "output_type": "execute_result",
          "data": {
            "text/plain": [
              "(55000, 16)"
            ]
          },
          "metadata": {
            "tags": []
          },
          "execution_count": 23
        }
      ]
    },
    {
      "cell_type": "markdown",
      "metadata": {
        "id": "dDjH7KYjWwSL"
      },
      "source": [
        "Let assume we only have 200 labeld images."
      ]
    },
    {
      "cell_type": "code",
      "metadata": {
        "id": "jvHTrOV_eISZ"
      },
      "source": [
        "k = 200\n",
        "indices = np.arange(x_train.shape[0])\n",
        "np.random.shuffle(indices)\n",
        "rep_idx = indices[:k]"
      ],
      "execution_count": 24,
      "outputs": []
    },
    {
      "cell_type": "code",
      "metadata": {
        "id": "ew5Y9GMzCvuK",
        "colab": {
          "base_uri": "https://localhost:8080/"
        },
        "outputId": "5f293888-e904-43f5-b7d2-63f292916e24"
      },
      "source": [
        "rep_idx"
      ],
      "execution_count": 25,
      "outputs": [
        {
          "output_type": "execute_result",
          "data": {
            "text/plain": [
              "array([27244,  1614, 12702, 38054, 17430, 43482, 31505, 18498, 29075,\n",
              "       49567, 43264, 11580,  2704, 23500, 17656, 42480,  4454, 20785,\n",
              "       50370, 35916, 34620, 28530, 17167, 42254, 41394, 48110, 10026,\n",
              "       42009, 40047, 36637, 33065, 43100, 50067,  5243, 31011, 53432,\n",
              "        4709, 49621, 42163,  4289, 48444, 52588, 19281, 37900,  4855,\n",
              "       43287, 23763, 30438, 44714, 25109, 50264, 44619, 11441, 21905,\n",
              "       17080, 42904,  5966, 15682,  5050, 39725, 45864, 49878, 54153,\n",
              "       12665, 15919, 46722, 37595, 18557, 26615, 23092, 30804, 12444,\n",
              "       11948, 42834,  9542, 33564,  4131, 28033, 37061, 10380, 29043,\n",
              "       50615, 38932, 38821, 45730, 48396, 48626,  3456,  3095,  3263,\n",
              "       11828,   267, 54216, 46027, 46727, 47294, 29678, 52908, 34945,\n",
              "       52434, 42463, 28060, 42806, 43344, 17326, 39750, 49165, 39914,\n",
              "       47124,  7633, 46546, 12579, 48468,  8762, 40500,  9783, 20582,\n",
              "       29924,  9632, 31624, 36192, 44874, 15028, 28908, 11776,  2129,\n",
              "       37083, 11606, 24370, 25492, 52961, 42576, 53060, 14974,  6479,\n",
              "       14859, 19960, 30575, 53502, 34515, 15271, 42630, 48218, 10059,\n",
              "       45995, 35345, 43251, 43810, 44479, 51752, 21736, 25020, 53579,\n",
              "       12048,  8007, 37115, 48268, 41385, 15931,  4200, 39552, 24638,\n",
              "        3444, 13132,  3791, 50975, 29932, 11203, 21845,  6296, 28498,\n",
              "       49514, 27303,  2749,  5330, 12877, 15483, 37012, 52597, 17001,\n",
              "        3346, 43284, 40085,  9233,  8961, 23805, 19636, 41893, 22869,\n",
              "         793, 31063, 13679, 44302, 25953, 33469,  9767, 11548,  8761,\n",
              "        5186, 28116])"
            ]
          },
          "metadata": {
            "tags": []
          },
          "execution_count": 25
        }
      ]
    },
    {
      "cell_type": "code",
      "metadata": {
        "id": "FtAiQejXCzZL"
      },
      "source": [
        "X_rep = x_train[rep_idx]"
      ],
      "execution_count": 26,
      "outputs": []
    },
    {
      "cell_type": "code",
      "metadata": {
        "id": "x9AltgknDCKz"
      },
      "source": [
        "y_rep = y_train[rep_idx]"
      ],
      "execution_count": 27,
      "outputs": []
    },
    {
      "cell_type": "code",
      "metadata": {
        "id": "MCk0hkmoEO5W",
        "colab": {
          "base_uri": "https://localhost:8080/"
        },
        "outputId": "50572e7f-d6f2-47e5-de75-0505117ddc0a"
      },
      "source": [
        "y_rep"
      ],
      "execution_count": 28,
      "outputs": [
        {
          "output_type": "execute_result",
          "data": {
            "text/plain": [
              "array([6, 2, 3, 0, 1, 3, 0, 7, 4, 2, 6, 9, 7, 6, 9, 5, 4, 8, 7, 8, 2, 9,\n",
              "       9, 3, 8, 8, 0, 8, 9, 6, 2, 3, 3, 8, 3, 0, 6, 0, 7, 0, 1, 7, 4, 7,\n",
              "       0, 3, 5, 0, 8, 4, 1, 0, 3, 1, 2, 6, 1, 4, 8, 5, 9, 1, 6, 0, 8, 1,\n",
              "       8, 7, 5, 8, 9, 8, 0, 1, 2, 6, 7, 8, 1, 0, 2, 5, 5, 4, 1, 3, 3, 1,\n",
              "       9, 9, 6, 9, 8, 3, 2, 0, 8, 6, 1, 6, 1, 5, 1, 1, 6, 9, 8, 2, 0, 2,\n",
              "       2, 7, 1, 3, 7, 5, 7, 5, 4, 9, 8, 8, 0, 9, 5, 4, 2, 1, 8, 2, 1, 8,\n",
              "       7, 9, 9, 1, 6, 5, 0, 1, 1, 1, 0, 9, 3, 1, 6, 9, 4, 7, 0, 2, 7, 7,\n",
              "       2, 9, 0, 3, 4, 7, 1, 6, 2, 4, 2, 3, 2, 2, 2, 0, 8, 4, 6, 2, 0, 3,\n",
              "       6, 1, 0, 6, 9, 7, 6, 6, 0, 8, 7, 8, 6, 9, 2, 6, 2, 0, 2, 7, 7, 8,\n",
              "       3, 5], dtype=uint8)"
            ]
          },
          "metadata": {
            "tags": []
          },
          "execution_count": 28
        }
      ]
    },
    {
      "cell_type": "code",
      "metadata": {
        "id": "ijh1JlLYfvOV"
      },
      "source": [
        "from tensorflow.keras.utils import to_categorical\n",
        "\n",
        "train_labels = to_categorical(y_rep)\n",
        "test_labels = to_categorical(y_test)"
      ],
      "execution_count": 29,
      "outputs": []
    },
    {
      "cell_type": "markdown",
      "metadata": {
        "id": "QyDaAwmgW-_V"
      },
      "source": [
        "We first use a plain Conv2D network to do the classification based on the 200 labeled samples and see what accuracy we can achieve."
      ]
    },
    {
      "cell_type": "code",
      "metadata": {
        "id": "aWT6R_lLXQpd"
      },
      "source": [
        "from keras import layers\n",
        "from keras import models\n",
        "\n",
        "model = models.Sequential()\n",
        "model.add(layers.Conv2D(32, (3, 3), strides=2, padding='same', activation='relu', input_shape=(28, 28, 1)))\n",
        "model.add(layers.MaxPooling2D((2, 2)))\n",
        "model.add(layers.Conv2D(64, (3, 3), strides=2, padding='same', activation='relu'))\n",
        "model.add(layers.MaxPooling2D((2, 2)))\n",
        "model.add(layers.Flatten())\n",
        "#model.add(layers.Dense(16, activation='relu'))"
      ],
      "execution_count": 30,
      "outputs": []
    },
    {
      "cell_type": "code",
      "metadata": {
        "id": "HvTqs7pyfiDW"
      },
      "source": [
        "model.add(layers.Dense(10, activation='softmax'))"
      ],
      "execution_count": 31,
      "outputs": []
    },
    {
      "cell_type": "code",
      "metadata": {
        "id": "YU_La-0YfhEb",
        "colab": {
          "base_uri": "https://localhost:8080/"
        },
        "outputId": "2b87c4b9-66c9-4dc6-a537-e5e7b8693e2b"
      },
      "source": [
        "model.summary()"
      ],
      "execution_count": 32,
      "outputs": [
        {
          "output_type": "stream",
          "text": [
            "Model: \"sequential\"\n",
            "_________________________________________________________________\n",
            "Layer (type)                 Output Shape              Param #   \n",
            "=================================================================\n",
            "conv2d (Conv2D)              (None, 14, 14, 32)        320       \n",
            "_________________________________________________________________\n",
            "max_pooling2d (MaxPooling2D) (None, 7, 7, 32)          0         \n",
            "_________________________________________________________________\n",
            "conv2d_1 (Conv2D)            (None, 4, 4, 64)          18496     \n",
            "_________________________________________________________________\n",
            "max_pooling2d_1 (MaxPooling2 (None, 2, 2, 64)          0         \n",
            "_________________________________________________________________\n",
            "flatten (Flatten)            (None, 256)               0         \n",
            "_________________________________________________________________\n",
            "dense (Dense)                (None, 10)                2570      \n",
            "=================================================================\n",
            "Total params: 21,386\n",
            "Trainable params: 21,386\n",
            "Non-trainable params: 0\n",
            "_________________________________________________________________\n"
          ],
          "name": "stdout"
        }
      ]
    },
    {
      "cell_type": "code",
      "metadata": {
        "id": "VPTaFcMvgKIv",
        "colab": {
          "base_uri": "https://localhost:8080/"
        },
        "outputId": "c63a10f4-e6c3-40c2-e50f-68c3f9b4b0a4"
      },
      "source": [
        "model.compile(optimizer='adam',\n",
        "              loss='categorical_crossentropy',\n",
        "              metrics=['accuracy'])\n",
        "history = model.fit(X_rep, train_labels, epochs=20, batch_size=32)"
      ],
      "execution_count": 33,
      "outputs": [
        {
          "output_type": "stream",
          "text": [
            "Epoch 1/20\n",
            "7/7 [==============================] - 12s 4ms/step - loss: 2.2780 - accuracy: 0.1524\n",
            "Epoch 2/20\n",
            "7/7 [==============================] - 0s 3ms/step - loss: 2.1667 - accuracy: 0.4387\n",
            "Epoch 3/20\n",
            "7/7 [==============================] - 0s 3ms/step - loss: 2.0551 - accuracy: 0.3524\n",
            "Epoch 4/20\n",
            "7/7 [==============================] - 0s 3ms/step - loss: 1.9292 - accuracy: 0.5586\n",
            "Epoch 5/20\n",
            "7/7 [==============================] - 0s 3ms/step - loss: 1.8247 - accuracy: 0.6316\n",
            "Epoch 6/20\n",
            "7/7 [==============================] - 0s 3ms/step - loss: 1.6437 - accuracy: 0.6805\n",
            "Epoch 7/20\n",
            "7/7 [==============================] - 0s 3ms/step - loss: 1.4441 - accuracy: 0.6577\n",
            "Epoch 8/20\n",
            "7/7 [==============================] - 0s 3ms/step - loss: 1.2238 - accuracy: 0.7705\n",
            "Epoch 9/20\n",
            "7/7 [==============================] - 0s 3ms/step - loss: 1.0325 - accuracy: 0.8112\n",
            "Epoch 10/20\n",
            "7/7 [==============================] - 0s 3ms/step - loss: 0.8945 - accuracy: 0.8000\n",
            "Epoch 11/20\n",
            "7/7 [==============================] - 0s 3ms/step - loss: 0.7187 - accuracy: 0.8450\n",
            "Epoch 12/20\n",
            "7/7 [==============================] - 0s 3ms/step - loss: 0.6193 - accuracy: 0.8473\n",
            "Epoch 13/20\n",
            "7/7 [==============================] - 0s 3ms/step - loss: 0.5274 - accuracy: 0.8815\n",
            "Epoch 14/20\n",
            "7/7 [==============================] - 0s 3ms/step - loss: 0.4810 - accuracy: 0.8805\n",
            "Epoch 15/20\n",
            "7/7 [==============================] - 0s 3ms/step - loss: 0.3821 - accuracy: 0.9004\n",
            "Epoch 16/20\n",
            "7/7 [==============================] - 0s 3ms/step - loss: 0.3534 - accuracy: 0.9305\n",
            "Epoch 17/20\n",
            "7/7 [==============================] - 0s 3ms/step - loss: 0.3111 - accuracy: 0.9372\n",
            "Epoch 18/20\n",
            "7/7 [==============================] - 0s 3ms/step - loss: 0.2633 - accuracy: 0.9318\n",
            "Epoch 19/20\n",
            "7/7 [==============================] - 0s 3ms/step - loss: 0.2398 - accuracy: 0.9345\n",
            "Epoch 20/20\n",
            "7/7 [==============================] - 0s 3ms/step - loss: 0.2267 - accuracy: 0.9648\n"
          ],
          "name": "stdout"
        }
      ]
    },
    {
      "cell_type": "code",
      "metadata": {
        "colab": {
          "base_uri": "https://localhost:8080/",
          "height": 281
        },
        "id": "uihNYdLHVv5r",
        "outputId": "fe38f96e-bac2-45ea-cd0d-8f1ad1d31e28"
      },
      "source": [
        "accuracy = history.history['accuracy']\n",
        "\n",
        "epochs = range(len(accuracy))\n",
        "\n",
        "plt.figure()\n",
        "\n",
        "plt.plot(epochs, accuracy, 'bo', label='Training accuracy')\n",
        "plt.title('Training accuracy')\n",
        "plt.legend()\n",
        "\n",
        "plt.show()"
      ],
      "execution_count": 34,
      "outputs": [
        {
          "output_type": "display_data",
          "data": {
            "image/png": "[encoded data removed]",
            "text/plain": [
              "<Figure size 432x288 with 1 Axes>"
            ]
          },
          "metadata": {
            "tags": [],
            "needs_background": "light"
          }
        }
      ]
    },
    {
      "cell_type": "code",
      "metadata": {
        "id": "HMxRJZewh5bE",
        "colab": {
          "base_uri": "https://localhost:8080/"
        },
        "outputId": "6c7e15fa-4280-4b74-ae87-2cadddd172c7"
      },
      "source": [
        "test_loss, test_acc = model.evaluate(x_test, test_labels)"
      ],
      "execution_count": 35,
      "outputs": [
        {
          "output_type": "stream",
          "text": [
            "313/313 [==============================] - 1s 2ms/step - loss: 0.6280 - accuracy: 0.8006\n"
          ],
          "name": "stdout"
        }
      ]
    },
    {
      "cell_type": "markdown",
      "metadata": {
        "id": "iWNWva-FXZXe"
      },
      "source": [
        "We can get 80.06% of accuracy.\n",
        "\n",
        "Now let's use autoencoder for unsupervised pretraining to convert images into lower dimensional data and use a dense neural netwrok for classification."
      ]
    },
    {
      "cell_type": "code",
      "metadata": {
        "id": "BcMEzhlNiG0G"
      },
      "source": [
        "from keras import layers\n",
        "from keras import models\n",
        "\n",
        "model = models.Sequential()\n",
        "model.add(encoder)\n",
        "model.layers[0].trainable = False\n",
        "model.add(layers.Dense(10, activation='softmax'))"
      ],
      "execution_count": 36,
      "outputs": []
    },
    {
      "cell_type": "code",
      "metadata": {
        "id": "lm6JMVR9Ts_H",
        "colab": {
          "base_uri": "https://localhost:8080/"
        },
        "outputId": "f12193e2-5788-4009-e0b9-24d9111666d1"
      },
      "source": [
        "model.compile(optimizer='adam',\n",
        "              loss='categorical_crossentropy',\n",
        "              metrics=['accuracy'])\n",
        "history = model.fit(X_rep, train_labels, epochs=500, batch_size=32)"
      ],
      "execution_count": 38,
      "outputs": [
        {
          "output_type": "stream",
          "text": [
            "Epoch 1/500\n",
            "7/7 [==============================] - 7s 3ms/step - loss: 2.9818 - accuracy: 0.0644\n",
            "Epoch 2/500\n",
            "7/7 [==============================] - 0s 2ms/step - loss: 2.9112 - accuracy: 0.0743\n",
            "Epoch 3/500\n",
            "7/7 [==============================] - 0s 3ms/step - loss: 2.8179 - accuracy: 0.0944\n",
            "Epoch 4/500\n",
            "7/7 [==============================] - 0s 3ms/step - loss: 2.7660 - accuracy: 0.1043\n",
            "Epoch 5/500\n",
            "7/7 [==============================] - 0s 2ms/step - loss: 2.7998 - accuracy: 0.0721\n",
            "Epoch 6/500\n",
            "7/7 [==============================] - 0s 2ms/step - loss: 2.6105 - accuracy: 0.0878\n",
            "Epoch 7/500\n",
            "7/7 [==============================] - 0s 2ms/step - loss: 2.6540 - accuracy: 0.1084\n",
            "Epoch 8/500\n",
            "7/7 [==============================] - 0s 2ms/step - loss: 2.5904 - accuracy: 0.1091\n",
            "Epoch 9/500\n",
            "7/7 [==============================] - 0s 2ms/step - loss: 2.4861 - accuracy: 0.1233\n",
            "Epoch 10/500\n",
            "7/7 [==============================] - 0s 2ms/step - loss: 2.4678 - accuracy: 0.1465\n",
            "Epoch 11/500\n",
            "7/7 [==============================] - 0s 2ms/step - loss: 2.4150 - accuracy: 0.1473\n",
            "Epoch 12/500\n",
            "7/7 [==============================] - 0s 2ms/step - loss: 2.4839 - accuracy: 0.1427\n",
            "Epoch 13/500\n",
            "7/7 [==============================] - 0s 3ms/step - loss: 2.3026 - accuracy: 0.1722\n",
            "Epoch 14/500\n",
            "7/7 [==============================] - 0s 3ms/step - loss: 2.3230 - accuracy: 0.2107\n",
            "Epoch 15/500\n",
            "7/7 [==============================] - 0s 2ms/step - loss: 2.2076 - accuracy: 0.1731\n",
            "Epoch 16/500\n",
            "7/7 [==============================] - 0s 2ms/step - loss: 2.1936 - accuracy: 0.2028\n",
            "Epoch 17/500\n",
            "7/7 [==============================] - 0s 2ms/step - loss: 2.1200 - accuracy: 0.2140\n",
            "Epoch 18/500\n",
            "7/7 [==============================] - 0s 2ms/step - loss: 2.1116 - accuracy: 0.2317\n",
            "Epoch 19/500\n",
            "7/7 [==============================] - 0s 3ms/step - loss: 2.0588 - accuracy: 0.2212\n",
            "Epoch 20/500\n",
            "7/7 [==============================] - 0s 3ms/step - loss: 1.9649 - accuracy: 0.2854\n",
            "Epoch 21/500\n",
            "7/7 [==============================] - 0s 2ms/step - loss: 1.9133 - accuracy: 0.2961\n",
            "Epoch 22/500\n",
            "7/7 [==============================] - 0s 3ms/step - loss: 1.9547 - accuracy: 0.2829\n",
            "Epoch 23/500\n",
            "7/7 [==============================] - 0s 2ms/step - loss: 1.8751 - accuracy: 0.3070\n",
            "Epoch 24/500\n",
            "7/7 [==============================] - 0s 2ms/step - loss: 1.8210 - accuracy: 0.3389\n",
            "Epoch 25/500\n",
            "7/7 [==============================] - 0s 3ms/step - loss: 1.7745 - accuracy: 0.3236\n",
            "Epoch 26/500\n",
            "7/7 [==============================] - 0s 3ms/step - loss: 1.8410 - accuracy: 0.3031\n",
            "Epoch 27/500\n",
            "7/7 [==============================] - 0s 2ms/step - loss: 1.7432 - accuracy: 0.3396\n",
            "Epoch 28/500\n",
            "7/7 [==============================] - 0s 2ms/step - loss: 1.7272 - accuracy: 0.3965\n",
            "Epoch 29/500\n",
            "7/7 [==============================] - 0s 2ms/step - loss: 1.6692 - accuracy: 0.4074\n",
            "Epoch 30/500\n",
            "7/7 [==============================] - 0s 3ms/step - loss: 1.6067 - accuracy: 0.4242\n",
            "Epoch 31/500\n",
            "7/7 [==============================] - 0s 3ms/step - loss: 1.6903 - accuracy: 0.4427\n",
            "Epoch 32/500\n",
            "7/7 [==============================] - 0s 3ms/step - loss: 1.6245 - accuracy: 0.4345\n",
            "Epoch 33/500\n",
            "7/7 [==============================] - 0s 2ms/step - loss: 1.5353 - accuracy: 0.4789\n",
            "Epoch 34/500\n",
            "7/7 [==============================] - 0s 3ms/step - loss: 1.4994 - accuracy: 0.4852\n",
            "Epoch 35/500\n",
            "7/7 [==============================] - 0s 3ms/step - loss: 1.5675 - accuracy: 0.4960\n",
            "Epoch 36/500\n",
            "7/7 [==============================] - 0s 2ms/step - loss: 1.4487 - accuracy: 0.5525\n",
            "Epoch 37/500\n",
            "7/7 [==============================] - 0s 3ms/step - loss: 1.4900 - accuracy: 0.4862\n",
            "Epoch 38/500\n",
            "7/7 [==============================] - 0s 3ms/step - loss: 1.4320 - accuracy: 0.5020\n",
            "Epoch 39/500\n",
            "7/7 [==============================] - 0s 3ms/step - loss: 1.3637 - accuracy: 0.5848\n",
            "Epoch 40/500\n",
            "7/7 [==============================] - 0s 3ms/step - loss: 1.3594 - accuracy: 0.5194\n",
            "Epoch 41/500\n",
            "7/7 [==============================] - 0s 3ms/step - loss: 1.3663 - accuracy: 0.5852\n",
            "Epoch 42/500\n",
            "7/7 [==============================] - 0s 2ms/step - loss: 1.3130 - accuracy: 0.6237\n",
            "Epoch 43/500\n",
            "7/7 [==============================] - 0s 3ms/step - loss: 1.2484 - accuracy: 0.6133\n",
            "Epoch 44/500\n",
            "7/7 [==============================] - 0s 2ms/step - loss: 1.2688 - accuracy: 0.6290\n",
            "Epoch 45/500\n",
            "7/7 [==============================] - 0s 3ms/step - loss: 1.2643 - accuracy: 0.6100\n",
            "Epoch 46/500\n",
            "7/7 [==============================] - 0s 2ms/step - loss: 1.2068 - accuracy: 0.6272\n",
            "Epoch 47/500\n",
            "7/7 [==============================] - 0s 2ms/step - loss: 1.1967 - accuracy: 0.6474\n",
            "Epoch 48/500\n",
            "7/7 [==============================] - 0s 2ms/step - loss: 1.2590 - accuracy: 0.6305\n",
            "Epoch 49/500\n",
            "7/7 [==============================] - 0s 3ms/step - loss: 1.1980 - accuracy: 0.6444\n",
            "Epoch 50/500\n",
            "7/7 [==============================] - 0s 3ms/step - loss: 1.1097 - accuracy: 0.7162\n",
            "Epoch 51/500\n",
            "7/7 [==============================] - 0s 3ms/step - loss: 1.1289 - accuracy: 0.6415\n",
            "Epoch 52/500\n",
            "7/7 [==============================] - 0s 2ms/step - loss: 1.1396 - accuracy: 0.6776\n",
            "Epoch 53/500\n",
            "7/7 [==============================] - 0s 3ms/step - loss: 1.0825 - accuracy: 0.6777\n",
            "Epoch 54/500\n",
            "7/7 [==============================] - 0s 3ms/step - loss: 1.1056 - accuracy: 0.6573\n",
            "Epoch 55/500\n",
            "7/7 [==============================] - 0s 2ms/step - loss: 1.0432 - accuracy: 0.7221\n",
            "Epoch 56/500\n",
            "7/7 [==============================] - 0s 3ms/step - loss: 1.1110 - accuracy: 0.6981\n",
            "Epoch 57/500\n",
            "7/7 [==============================] - 0s 3ms/step - loss: 1.0707 - accuracy: 0.6899\n",
            "Epoch 58/500\n",
            "7/7 [==============================] - 0s 3ms/step - loss: 1.0578 - accuracy: 0.6958\n",
            "Epoch 59/500\n",
            "7/7 [==============================] - 0s 3ms/step - loss: 1.0353 - accuracy: 0.7137\n",
            "Epoch 60/500\n",
            "7/7 [==============================] - 0s 2ms/step - loss: 0.9750 - accuracy: 0.7257\n",
            "Epoch 61/500\n",
            "7/7 [==============================] - 0s 2ms/step - loss: 0.9826 - accuracy: 0.7433\n",
            "Epoch 62/500\n",
            "7/7 [==============================] - 0s 3ms/step - loss: 0.9545 - accuracy: 0.7397\n",
            "Epoch 63/500\n",
            "7/7 [==============================] - 0s 3ms/step - loss: 0.9593 - accuracy: 0.7488\n",
            "Epoch 64/500\n",
            "7/7 [==============================] - 0s 3ms/step - loss: 0.9992 - accuracy: 0.7177\n",
            "Epoch 65/500\n",
            "7/7 [==============================] - 0s 2ms/step - loss: 0.9155 - accuracy: 0.7356\n",
            "Epoch 66/500\n",
            "7/7 [==============================] - 0s 3ms/step - loss: 0.9232 - accuracy: 0.7590\n",
            "Epoch 67/500\n",
            "7/7 [==============================] - 0s 2ms/step - loss: 0.9106 - accuracy: 0.7565\n",
            "Epoch 68/500\n",
            "7/7 [==============================] - 0s 3ms/step - loss: 0.9384 - accuracy: 0.7614\n",
            "Epoch 69/500\n",
            "7/7 [==============================] - 0s 3ms/step - loss: 0.9358 - accuracy: 0.6915\n",
            "Epoch 70/500\n",
            "7/7 [==============================] - 0s 3ms/step - loss: 0.8813 - accuracy: 0.7770\n",
            "Epoch 71/500\n",
            "7/7 [==============================] - 0s 2ms/step - loss: 0.8788 - accuracy: 0.7707\n",
            "Epoch 72/500\n",
            "7/7 [==============================] - 0s 2ms/step - loss: 0.8644 - accuracy: 0.7699\n",
            "Epoch 73/500\n",
            "7/7 [==============================] - 0s 3ms/step - loss: 0.8846 - accuracy: 0.7615\n",
            "Epoch 74/500\n",
            "7/7 [==============================] - 0s 3ms/step - loss: 0.8647 - accuracy: 0.8056\n",
            "Epoch 75/500\n",
            "7/7 [==============================] - 0s 4ms/step - loss: 0.8278 - accuracy: 0.7809\n",
            "Epoch 76/500\n",
            "7/7 [==============================] - 0s 2ms/step - loss: 0.7857 - accuracy: 0.8205\n",
            "Epoch 77/500\n",
            "7/7 [==============================] - 0s 2ms/step - loss: 0.7927 - accuracy: 0.7898\n",
            "Epoch 78/500\n",
            "7/7 [==============================] - 0s 3ms/step - loss: 0.8031 - accuracy: 0.8182\n",
            "Epoch 79/500\n",
            "7/7 [==============================] - 0s 2ms/step - loss: 0.7460 - accuracy: 0.8036\n",
            "Epoch 80/500\n",
            "7/7 [==============================] - 0s 3ms/step - loss: 0.7866 - accuracy: 0.8041\n",
            "Epoch 81/500\n",
            "7/7 [==============================] - 0s 2ms/step - loss: 0.7821 - accuracy: 0.8162\n",
            "Epoch 82/500\n",
            "7/7 [==============================] - 0s 2ms/step - loss: 0.7400 - accuracy: 0.8065\n",
            "Epoch 83/500\n",
            "7/7 [==============================] - 0s 3ms/step - loss: 0.7451 - accuracy: 0.8007\n",
            "Epoch 84/500\n",
            "7/7 [==============================] - 0s 2ms/step - loss: 0.7106 - accuracy: 0.8116\n",
            "Epoch 85/500\n",
            "7/7 [==============================] - 0s 3ms/step - loss: 0.7643 - accuracy: 0.8162\n",
            "Epoch 86/500\n",
            "7/7 [==============================] - 0s 2ms/step - loss: 0.7473 - accuracy: 0.8027\n",
            "Epoch 87/500\n",
            "7/7 [==============================] - 0s 3ms/step - loss: 0.7350 - accuracy: 0.8461\n",
            "Epoch 88/500\n",
            "7/7 [==============================] - 0s 3ms/step - loss: 0.7199 - accuracy: 0.8237\n",
            "Epoch 89/500\n",
            "7/7 [==============================] - 0s 2ms/step - loss: 0.7183 - accuracy: 0.8347\n",
            "Epoch 90/500\n",
            "7/7 [==============================] - 0s 2ms/step - loss: 0.7129 - accuracy: 0.8509\n",
            "Epoch 91/500\n",
            "7/7 [==============================] - 0s 2ms/step - loss: 0.7250 - accuracy: 0.8252\n",
            "Epoch 92/500\n",
            "7/7 [==============================] - 0s 2ms/step - loss: 0.6971 - accuracy: 0.8195\n",
            "Epoch 93/500\n",
            "7/7 [==============================] - 0s 3ms/step - loss: 0.6981 - accuracy: 0.8323\n",
            "Epoch 94/500\n",
            "7/7 [==============================] - 0s 2ms/step - loss: 0.6475 - accuracy: 0.8717\n",
            "Epoch 95/500\n",
            "7/7 [==============================] - 0s 3ms/step - loss: 0.6637 - accuracy: 0.8620\n",
            "Epoch 96/500\n",
            "7/7 [==============================] - 0s 3ms/step - loss: 0.6831 - accuracy: 0.8470\n",
            "Epoch 97/500\n",
            "7/7 [==============================] - 0s 2ms/step - loss: 0.6492 - accuracy: 0.8296\n",
            "Epoch 98/500\n",
            "7/7 [==============================] - 0s 3ms/step - loss: 0.6352 - accuracy: 0.8702\n",
            "Epoch 99/500\n",
            "7/7 [==============================] - 0s 3ms/step - loss: 0.6662 - accuracy: 0.8240\n",
            "Epoch 100/500\n",
            "7/7 [==============================] - 0s 3ms/step - loss: 0.6030 - accuracy: 0.8798\n",
            "Epoch 101/500\n",
            "7/7 [==============================] - 0s 3ms/step - loss: 0.5892 - accuracy: 0.8865\n",
            "Epoch 102/500\n",
            "7/7 [==============================] - 0s 2ms/step - loss: 0.6371 - accuracy: 0.8693\n",
            "Epoch 103/500\n",
            "7/7 [==============================] - 0s 3ms/step - loss: 0.6394 - accuracy: 0.8462\n",
            "Epoch 104/500\n",
            "7/7 [==============================] - 0s 3ms/step - loss: 0.6231 - accuracy: 0.8486\n",
            "Epoch 105/500\n",
            "7/7 [==============================] - 0s 3ms/step - loss: 0.5656 - accuracy: 0.8629\n",
            "Epoch 106/500\n",
            "7/7 [==============================] - 0s 2ms/step - loss: 0.6258 - accuracy: 0.8384\n",
            "Epoch 107/500\n",
            "7/7 [==============================] - 0s 3ms/step - loss: 0.6255 - accuracy: 0.8582\n",
            "Epoch 108/500\n",
            "7/7 [==============================] - 0s 2ms/step - loss: 0.5612 - accuracy: 0.8627\n",
            "Epoch 109/500\n",
            "7/7 [==============================] - 0s 3ms/step - loss: 0.5762 - accuracy: 0.8689\n",
            "Epoch 110/500\n",
            "7/7 [==============================] - 0s 3ms/step - loss: 0.6129 - accuracy: 0.8708\n",
            "Epoch 111/500\n",
            "7/7 [==============================] - 0s 3ms/step - loss: 0.5890 - accuracy: 0.8730\n",
            "Epoch 112/500\n",
            "7/7 [==============================] - 0s 2ms/step - loss: 0.5518 - accuracy: 0.8832\n",
            "Epoch 113/500\n",
            "7/7 [==============================] - 0s 3ms/step - loss: 0.5693 - accuracy: 0.9089\n",
            "Epoch 114/500\n",
            "7/7 [==============================] - 0s 2ms/step - loss: 0.5913 - accuracy: 0.8779\n",
            "Epoch 115/500\n",
            "7/7 [==============================] - 0s 3ms/step - loss: 0.5419 - accuracy: 0.8736\n",
            "Epoch 116/500\n",
            "7/7 [==============================] - 0s 3ms/step - loss: 0.5330 - accuracy: 0.8920\n",
            "Epoch 117/500\n",
            "7/7 [==============================] - 0s 3ms/step - loss: 0.5782 - accuracy: 0.8395\n",
            "Epoch 118/500\n",
            "7/7 [==============================] - 0s 2ms/step - loss: 0.5556 - accuracy: 0.8637\n",
            "Epoch 119/500\n",
            "7/7 [==============================] - 0s 2ms/step - loss: 0.5713 - accuracy: 0.8494\n",
            "Epoch 120/500\n",
            "7/7 [==============================] - 0s 3ms/step - loss: 0.5602 - accuracy: 0.8843\n",
            "Epoch 121/500\n",
            "7/7 [==============================] - 0s 3ms/step - loss: 0.5527 - accuracy: 0.8633\n",
            "Epoch 122/500\n",
            "7/7 [==============================] - 0s 3ms/step - loss: 0.5115 - accuracy: 0.9039\n",
            "Epoch 123/500\n",
            "7/7 [==============================] - 0s 2ms/step - loss: 0.5316 - accuracy: 0.9062\n",
            "Epoch 124/500\n",
            "7/7 [==============================] - 0s 3ms/step - loss: 0.5131 - accuracy: 0.8863\n",
            "Epoch 125/500\n",
            "7/7 [==============================] - 0s 3ms/step - loss: 0.5132 - accuracy: 0.9108\n",
            "Epoch 126/500\n",
            "7/7 [==============================] - 0s 3ms/step - loss: 0.5248 - accuracy: 0.8828\n",
            "Epoch 127/500\n",
            "7/7 [==============================] - 0s 3ms/step - loss: 0.4705 - accuracy: 0.9323\n",
            "Epoch 128/500\n",
            "7/7 [==============================] - 0s 3ms/step - loss: 0.5086 - accuracy: 0.8953\n",
            "Epoch 129/500\n",
            "7/7 [==============================] - 0s 3ms/step - loss: 0.5226 - accuracy: 0.8637\n",
            "Epoch 130/500\n",
            "7/7 [==============================] - 0s 2ms/step - loss: 0.5249 - accuracy: 0.9248\n",
            "Epoch 131/500\n",
            "7/7 [==============================] - 0s 2ms/step - loss: 0.5328 - accuracy: 0.8980\n",
            "Epoch 132/500\n",
            "7/7 [==============================] - 0s 3ms/step - loss: 0.5059 - accuracy: 0.9042\n",
            "Epoch 133/500\n",
            "7/7 [==============================] - 0s 3ms/step - loss: 0.5090 - accuracy: 0.8849\n",
            "Epoch 134/500\n",
            "7/7 [==============================] - 0s 3ms/step - loss: 0.4645 - accuracy: 0.9432\n",
            "Epoch 135/500\n",
            "7/7 [==============================] - 0s 3ms/step - loss: 0.4757 - accuracy: 0.9104\n",
            "Epoch 136/500\n",
            "7/7 [==============================] - 0s 3ms/step - loss: 0.4790 - accuracy: 0.9147\n",
            "Epoch 137/500\n",
            "7/7 [==============================] - 0s 3ms/step - loss: 0.4506 - accuracy: 0.9223\n",
            "Epoch 138/500\n",
            "7/7 [==============================] - 0s 3ms/step - loss: 0.4975 - accuracy: 0.8943\n",
            "Epoch 139/500\n",
            "7/7 [==============================] - 0s 3ms/step - loss: 0.4705 - accuracy: 0.9342\n",
            "Epoch 140/500\n",
            "7/7 [==============================] - 0s 2ms/step - loss: 0.4847 - accuracy: 0.9037\n",
            "Epoch 141/500\n",
            "7/7 [==============================] - 0s 3ms/step - loss: 0.4192 - accuracy: 0.9480\n",
            "Epoch 142/500\n",
            "7/7 [==============================] - 0s 3ms/step - loss: 0.4714 - accuracy: 0.9077\n",
            "Epoch 143/500\n",
            "7/7 [==============================] - 0s 3ms/step - loss: 0.4446 - accuracy: 0.9331\n",
            "Epoch 144/500\n",
            "7/7 [==============================] - 0s 3ms/step - loss: 0.4556 - accuracy: 0.9378\n",
            "Epoch 145/500\n",
            "7/7 [==============================] - 0s 3ms/step - loss: 0.4678 - accuracy: 0.9367\n",
            "Epoch 146/500\n",
            "7/7 [==============================] - 0s 3ms/step - loss: 0.4111 - accuracy: 0.9493\n",
            "Epoch 147/500\n",
            "7/7 [==============================] - 0s 3ms/step - loss: 0.4163 - accuracy: 0.9521\n",
            "Epoch 148/500\n",
            "7/7 [==============================] - 0s 3ms/step - loss: 0.4594 - accuracy: 0.9173\n",
            "Epoch 149/500\n",
            "7/7 [==============================] - 0s 3ms/step - loss: 0.4329 - accuracy: 0.9306\n",
            "Epoch 150/500\n",
            "7/7 [==============================] - 0s 3ms/step - loss: 0.4333 - accuracy: 0.9274\n",
            "Epoch 151/500\n",
            "7/7 [==============================] - 0s 3ms/step - loss: 0.4201 - accuracy: 0.9138\n",
            "Epoch 152/500\n",
            "7/7 [==============================] - 0s 2ms/step - loss: 0.4343 - accuracy: 0.9233\n",
            "Epoch 153/500\n",
            "7/7 [==============================] - 0s 3ms/step - loss: 0.4428 - accuracy: 0.9410\n",
            "Epoch 154/500\n",
            "7/7 [==============================] - 0s 2ms/step - loss: 0.4309 - accuracy: 0.9077\n",
            "Epoch 155/500\n",
            "7/7 [==============================] - 0s 3ms/step - loss: 0.4390 - accuracy: 0.9401\n",
            "Epoch 156/500\n",
            "7/7 [==============================] - 0s 3ms/step - loss: 0.3984 - accuracy: 0.9446\n",
            "Epoch 157/500\n",
            "7/7 [==============================] - 0s 3ms/step - loss: 0.4238 - accuracy: 0.9343\n",
            "Epoch 158/500\n",
            "7/7 [==============================] - 0s 2ms/step - loss: 0.3827 - accuracy: 0.9553\n",
            "Epoch 159/500\n",
            "7/7 [==============================] - 0s 2ms/step - loss: 0.4381 - accuracy: 0.9344\n",
            "Epoch 160/500\n",
            "7/7 [==============================] - 0s 3ms/step - loss: 0.4154 - accuracy: 0.9339\n",
            "Epoch 161/500\n",
            "7/7 [==============================] - 0s 3ms/step - loss: 0.4037 - accuracy: 0.9114\n",
            "Epoch 162/500\n",
            "7/7 [==============================] - 0s 3ms/step - loss: 0.3677 - accuracy: 0.9416\n",
            "Epoch 163/500\n",
            "7/7 [==============================] - 0s 3ms/step - loss: 0.4200 - accuracy: 0.9280\n",
            "Epoch 164/500\n",
            "7/7 [==============================] - 0s 2ms/step - loss: 0.4109 - accuracy: 0.9319\n",
            "Epoch 165/500\n",
            "7/7 [==============================] - 0s 3ms/step - loss: 0.3996 - accuracy: 0.9543\n",
            "Epoch 166/500\n",
            "7/7 [==============================] - 0s 2ms/step - loss: 0.4017 - accuracy: 0.9318\n",
            "Epoch 167/500\n",
            "7/7 [==============================] - 0s 3ms/step - loss: 0.3892 - accuracy: 0.9433\n",
            "Epoch 168/500\n",
            "7/7 [==============================] - 0s 3ms/step - loss: 0.3932 - accuracy: 0.9387\n",
            "Epoch 169/500\n",
            "7/7 [==============================] - 0s 3ms/step - loss: 0.3898 - accuracy: 0.9582\n",
            "Epoch 170/500\n",
            "7/7 [==============================] - 0s 2ms/step - loss: 0.3975 - accuracy: 0.9254\n",
            "Epoch 171/500\n",
            "7/7 [==============================] - 0s 2ms/step - loss: 0.4230 - accuracy: 0.9255\n",
            "Epoch 172/500\n",
            "7/7 [==============================] - 0s 3ms/step - loss: 0.3875 - accuracy: 0.9372\n",
            "Epoch 173/500\n",
            "7/7 [==============================] - 0s 3ms/step - loss: 0.4022 - accuracy: 0.9402\n",
            "Epoch 174/500\n",
            "7/7 [==============================] - 0s 3ms/step - loss: 0.3698 - accuracy: 0.9335\n",
            "Epoch 175/500\n",
            "7/7 [==============================] - 0s 3ms/step - loss: 0.3863 - accuracy: 0.9279\n",
            "Epoch 176/500\n",
            "7/7 [==============================] - 0s 2ms/step - loss: 0.3767 - accuracy: 0.9600\n",
            "Epoch 177/500\n",
            "7/7 [==============================] - 0s 2ms/step - loss: 0.3575 - accuracy: 0.9660\n",
            "Epoch 178/500\n",
            "7/7 [==============================] - 0s 2ms/step - loss: 0.3736 - accuracy: 0.9368\n",
            "Epoch 179/500\n",
            "7/7 [==============================] - 0s 3ms/step - loss: 0.3771 - accuracy: 0.9396\n",
            "Epoch 180/500\n",
            "7/7 [==============================] - 0s 3ms/step - loss: 0.3709 - accuracy: 0.9542\n",
            "Epoch 181/500\n",
            "7/7 [==============================] - 0s 3ms/step - loss: 0.3617 - accuracy: 0.9352\n",
            "Epoch 182/500\n",
            "7/7 [==============================] - 0s 2ms/step - loss: 0.3408 - accuracy: 0.9498\n",
            "Epoch 183/500\n",
            "7/7 [==============================] - 0s 3ms/step - loss: 0.3443 - accuracy: 0.9508\n",
            "Epoch 184/500\n",
            "7/7 [==============================] - 0s 3ms/step - loss: 0.3452 - accuracy: 0.9460\n",
            "Epoch 185/500\n",
            "7/7 [==============================] - 0s 3ms/step - loss: 0.3324 - accuracy: 0.9712\n",
            "Epoch 186/500\n",
            "7/7 [==============================] - 0s 3ms/step - loss: 0.3082 - accuracy: 0.9692\n",
            "Epoch 187/500\n",
            "7/7 [==============================] - 0s 3ms/step - loss: 0.3543 - accuracy: 0.9447\n",
            "Epoch 188/500\n",
            "7/7 [==============================] - 0s 2ms/step - loss: 0.3480 - accuracy: 0.9579\n",
            "Epoch 189/500\n",
            "7/7 [==============================] - 0s 3ms/step - loss: 0.3519 - accuracy: 0.9395\n",
            "Epoch 190/500\n",
            "7/7 [==============================] - 0s 2ms/step - loss: 0.3383 - accuracy: 0.9514\n",
            "Epoch 191/500\n",
            "7/7 [==============================] - 0s 3ms/step - loss: 0.3391 - accuracy: 0.9610\n",
            "Epoch 192/500\n",
            "7/7 [==============================] - 0s 3ms/step - loss: 0.3572 - accuracy: 0.9330\n",
            "Epoch 193/500\n",
            "7/7 [==============================] - 0s 3ms/step - loss: 0.3683 - accuracy: 0.9258\n",
            "Epoch 194/500\n",
            "7/7 [==============================] - 0s 3ms/step - loss: 0.3098 - accuracy: 0.9555\n",
            "Epoch 195/500\n",
            "7/7 [==============================] - 0s 2ms/step - loss: 0.3482 - accuracy: 0.9534\n",
            "Epoch 196/500\n",
            "7/7 [==============================] - 0s 3ms/step - loss: 0.3318 - accuracy: 0.9648\n",
            "Epoch 197/500\n",
            "7/7 [==============================] - 0s 3ms/step - loss: 0.3365 - accuracy: 0.9535\n",
            "Epoch 198/500\n",
            "7/7 [==============================] - 0s 3ms/step - loss: 0.3164 - accuracy: 0.9544\n",
            "Epoch 199/500\n",
            "7/7 [==============================] - 0s 3ms/step - loss: 0.3600 - accuracy: 0.9583\n",
            "Epoch 200/500\n",
            "7/7 [==============================] - 0s 3ms/step - loss: 0.3493 - accuracy: 0.9493\n",
            "Epoch 201/500\n",
            "7/7 [==============================] - 0s 3ms/step - loss: 0.3243 - accuracy: 0.9511\n",
            "Epoch 202/500\n",
            "7/7 [==============================] - 0s 3ms/step - loss: 0.3307 - accuracy: 0.9558\n",
            "Epoch 203/500\n",
            "7/7 [==============================] - 0s 3ms/step - loss: 0.3147 - accuracy: 0.9713\n",
            "Epoch 204/500\n",
            "7/7 [==============================] - 0s 3ms/step - loss: 0.3061 - accuracy: 0.9626\n",
            "Epoch 205/500\n",
            "7/7 [==============================] - 0s 2ms/step - loss: 0.3092 - accuracy: 0.9833\n",
            "Epoch 206/500\n",
            "7/7 [==============================] - 0s 3ms/step - loss: 0.2963 - accuracy: 0.9636\n",
            "Epoch 207/500\n",
            "7/7 [==============================] - 0s 2ms/step - loss: 0.3227 - accuracy: 0.9687\n",
            "Epoch 208/500\n",
            "7/7 [==============================] - 0s 3ms/step - loss: 0.3015 - accuracy: 0.9673\n",
            "Epoch 209/500\n",
            "7/7 [==============================] - 0s 3ms/step - loss: 0.2993 - accuracy: 0.9689\n",
            "Epoch 210/500\n",
            "7/7 [==============================] - 0s 3ms/step - loss: 0.2922 - accuracy: 0.9685\n",
            "Epoch 211/500\n",
            "7/7 [==============================] - 0s 2ms/step - loss: 0.2901 - accuracy: 0.9809\n",
            "Epoch 212/500\n",
            "7/7 [==============================] - 0s 3ms/step - loss: 0.3174 - accuracy: 0.9440\n",
            "Epoch 213/500\n",
            "7/7 [==============================] - 0s 3ms/step - loss: 0.3254 - accuracy: 0.9563\n",
            "Epoch 214/500\n",
            "7/7 [==============================] - 0s 3ms/step - loss: 0.3060 - accuracy: 0.9809\n",
            "Epoch 215/500\n",
            "7/7 [==============================] - 0s 3ms/step - loss: 0.3163 - accuracy: 0.9390\n",
            "Epoch 216/500\n",
            "7/7 [==============================] - 0s 3ms/step - loss: 0.3243 - accuracy: 0.9459\n",
            "Epoch 217/500\n",
            "7/7 [==============================] - 0s 3ms/step - loss: 0.3111 - accuracy: 0.9601\n",
            "Epoch 218/500\n",
            "7/7 [==============================] - 0s 3ms/step - loss: 0.2993 - accuracy: 0.9716\n",
            "Epoch 219/500\n",
            "7/7 [==============================] - 0s 3ms/step - loss: 0.2797 - accuracy: 0.9731\n",
            "Epoch 220/500\n",
            "7/7 [==============================] - 0s 3ms/step - loss: 0.3068 - accuracy: 0.9603\n",
            "Epoch 221/500\n",
            "7/7 [==============================] - 0s 3ms/step - loss: 0.2745 - accuracy: 0.9631\n",
            "Epoch 222/500\n",
            "7/7 [==============================] - 0s 3ms/step - loss: 0.3004 - accuracy: 0.9505\n",
            "Epoch 223/500\n",
            "7/7 [==============================] - 0s 3ms/step - loss: 0.2981 - accuracy: 0.9620\n",
            "Epoch 224/500\n",
            "7/7 [==============================] - 0s 2ms/step - loss: 0.2964 - accuracy: 0.9445\n",
            "Epoch 225/500\n",
            "7/7 [==============================] - 0s 3ms/step - loss: 0.3299 - accuracy: 0.9676\n",
            "Epoch 226/500\n",
            "7/7 [==============================] - 0s 3ms/step - loss: 0.2874 - accuracy: 0.9751\n",
            "Epoch 227/500\n",
            "7/7 [==============================] - 0s 3ms/step - loss: 0.2923 - accuracy: 0.9760\n",
            "Epoch 228/500\n",
            "7/7 [==============================] - 0s 3ms/step - loss: 0.2958 - accuracy: 0.9799\n",
            "Epoch 229/500\n",
            "7/7 [==============================] - 0s 3ms/step - loss: 0.2846 - accuracy: 0.9728\n",
            "Epoch 230/500\n",
            "7/7 [==============================] - 0s 3ms/step - loss: 0.3290 - accuracy: 0.9399\n",
            "Epoch 231/500\n",
            "7/7 [==============================] - 0s 3ms/step - loss: 0.2856 - accuracy: 0.9623\n",
            "Epoch 232/500\n",
            "7/7 [==============================] - 0s 3ms/step - loss: 0.2963 - accuracy: 0.9597\n",
            "Epoch 233/500\n",
            "7/7 [==============================] - 0s 3ms/step - loss: 0.2684 - accuracy: 0.9904\n",
            "Epoch 234/500\n",
            "7/7 [==============================] - 0s 2ms/step - loss: 0.2684 - accuracy: 0.9611\n",
            "Epoch 235/500\n",
            "7/7 [==============================] - 0s 3ms/step - loss: 0.2726 - accuracy: 0.9535\n",
            "Epoch 236/500\n",
            "7/7 [==============================] - 0s 3ms/step - loss: 0.2815 - accuracy: 0.9707\n",
            "Epoch 237/500\n",
            "7/7 [==============================] - 0s 3ms/step - loss: 0.3061 - accuracy: 0.9545\n",
            "Epoch 238/500\n",
            "7/7 [==============================] - 0s 3ms/step - loss: 0.2813 - accuracy: 0.9591\n",
            "Epoch 239/500\n",
            "7/7 [==============================] - 0s 2ms/step - loss: 0.2722 - accuracy: 0.9848\n",
            "Epoch 240/500\n",
            "7/7 [==============================] - 0s 3ms/step - loss: 0.2652 - accuracy: 0.9657\n",
            "Epoch 241/500\n",
            "7/7 [==============================] - 0s 3ms/step - loss: 0.2691 - accuracy: 0.9780\n",
            "Epoch 242/500\n",
            "7/7 [==============================] - 0s 3ms/step - loss: 0.2878 - accuracy: 0.9546\n",
            "Epoch 243/500\n",
            "7/7 [==============================] - 0s 3ms/step - loss: 0.2619 - accuracy: 0.9786\n",
            "Epoch 244/500\n",
            "7/7 [==============================] - 0s 3ms/step - loss: 0.2599 - accuracy: 0.9655\n",
            "Epoch 245/500\n",
            "7/7 [==============================] - 0s 2ms/step - loss: 0.2746 - accuracy: 0.9740\n",
            "Epoch 246/500\n",
            "7/7 [==============================] - 0s 3ms/step - loss: 0.2696 - accuracy: 0.9660\n",
            "Epoch 247/500\n",
            "7/7 [==============================] - 0s 2ms/step - loss: 0.2414 - accuracy: 0.9893\n",
            "Epoch 248/500\n",
            "7/7 [==============================] - 0s 3ms/step - loss: 0.2761 - accuracy: 0.9618\n",
            "Epoch 249/500\n",
            "7/7 [==============================] - 0s 3ms/step - loss: 0.2723 - accuracy: 0.9766\n",
            "Epoch 250/500\n",
            "7/7 [==============================] - 0s 3ms/step - loss: 0.2830 - accuracy: 0.9846\n",
            "Epoch 251/500\n",
            "7/7 [==============================] - 0s 2ms/step - loss: 0.2757 - accuracy: 0.9768\n",
            "Epoch 252/500\n",
            "7/7 [==============================] - 0s 2ms/step - loss: 0.2771 - accuracy: 0.9596\n",
            "Epoch 253/500\n",
            "7/7 [==============================] - 0s 3ms/step - loss: 0.2936 - accuracy: 0.9525\n",
            "Epoch 254/500\n",
            "7/7 [==============================] - 0s 3ms/step - loss: 0.2514 - accuracy: 0.9708\n",
            "Epoch 255/500\n",
            "7/7 [==============================] - 0s 3ms/step - loss: 0.2606 - accuracy: 0.9842\n",
            "Epoch 256/500\n",
            "7/7 [==============================] - 0s 2ms/step - loss: 0.2453 - accuracy: 0.9724\n",
            "Epoch 257/500\n",
            "7/7 [==============================] - 0s 3ms/step - loss: 0.2651 - accuracy: 0.9756\n",
            "Epoch 258/500\n",
            "7/7 [==============================] - 0s 2ms/step - loss: 0.2640 - accuracy: 0.9683\n",
            "Epoch 259/500\n",
            "7/7 [==============================] - 0s 3ms/step - loss: 0.2606 - accuracy: 0.9769\n",
            "Epoch 260/500\n",
            "7/7 [==============================] - 0s 3ms/step - loss: 0.3002 - accuracy: 0.9570\n",
            "Epoch 261/500\n",
            "7/7 [==============================] - 0s 3ms/step - loss: 0.2493 - accuracy: 0.9801\n",
            "Epoch 262/500\n",
            "7/7 [==============================] - 0s 2ms/step - loss: 0.2487 - accuracy: 0.9885\n",
            "Epoch 263/500\n",
            "7/7 [==============================] - 0s 2ms/step - loss: 0.2791 - accuracy: 0.9734\n",
            "Epoch 264/500\n",
            "7/7 [==============================] - 0s 3ms/step - loss: 0.2432 - accuracy: 0.9766\n",
            "Epoch 265/500\n",
            "7/7 [==============================] - 0s 3ms/step - loss: 0.2601 - accuracy: 0.9711\n",
            "Epoch 266/500\n",
            "7/7 [==============================] - 0s 3ms/step - loss: 0.2698 - accuracy: 0.9599\n",
            "Epoch 267/500\n",
            "7/7 [==============================] - 0s 3ms/step - loss: 0.2439 - accuracy: 0.9861\n",
            "Epoch 268/500\n",
            "7/7 [==============================] - 0s 3ms/step - loss: 0.2500 - accuracy: 0.9799\n",
            "Epoch 269/500\n",
            "7/7 [==============================] - 0s 2ms/step - loss: 0.2261 - accuracy: 0.9925\n",
            "Epoch 270/500\n",
            "7/7 [==============================] - 0s 3ms/step - loss: 0.2312 - accuracy: 0.9877\n",
            "Epoch 271/500\n",
            "7/7 [==============================] - 0s 3ms/step - loss: 0.2269 - accuracy: 0.9797\n",
            "Epoch 272/500\n",
            "7/7 [==============================] - 0s 3ms/step - loss: 0.2407 - accuracy: 0.9914\n",
            "Epoch 273/500\n",
            "7/7 [==============================] - 0s 2ms/step - loss: 0.2627 - accuracy: 0.9867\n",
            "Epoch 274/500\n",
            "7/7 [==============================] - 0s 2ms/step - loss: 0.2618 - accuracy: 0.9804\n",
            "Epoch 275/500\n",
            "7/7 [==============================] - 0s 2ms/step - loss: 0.2313 - accuracy: 0.9762\n",
            "Epoch 276/500\n",
            "7/7 [==============================] - 0s 3ms/step - loss: 0.2363 - accuracy: 0.9704\n",
            "Epoch 277/500\n",
            "7/7 [==============================] - 0s 3ms/step - loss: 0.2427 - accuracy: 0.9901\n",
            "Epoch 278/500\n",
            "7/7 [==============================] - 0s 3ms/step - loss: 0.2173 - accuracy: 0.9813\n",
            "Epoch 279/500\n",
            "7/7 [==============================] - 0s 3ms/step - loss: 0.2292 - accuracy: 0.9687\n",
            "Epoch 280/500\n",
            "7/7 [==============================] - 0s 2ms/step - loss: 0.2113 - accuracy: 0.9920\n",
            "Epoch 281/500\n",
            "7/7 [==============================] - 0s 3ms/step - loss: 0.2444 - accuracy: 0.9610\n",
            "Epoch 282/500\n",
            "7/7 [==============================] - 0s 3ms/step - loss: 0.2297 - accuracy: 0.9755\n",
            "Epoch 283/500\n",
            "7/7 [==============================] - 0s 3ms/step - loss: 0.2425 - accuracy: 0.9684\n",
            "Epoch 284/500\n",
            "7/7 [==============================] - 0s 2ms/step - loss: 0.2131 - accuracy: 0.9818\n",
            "Epoch 285/500\n",
            "7/7 [==============================] - 0s 3ms/step - loss: 0.2379 - accuracy: 0.9931\n",
            "Epoch 286/500\n",
            "7/7 [==============================] - 0s 3ms/step - loss: 0.2434 - accuracy: 0.9756\n",
            "Epoch 287/500\n",
            "7/7 [==============================] - 0s 3ms/step - loss: 0.2506 - accuracy: 0.9661\n",
            "Epoch 288/500\n",
            "7/7 [==============================] - 0s 3ms/step - loss: 0.2276 - accuracy: 0.9767\n",
            "Epoch 289/500\n",
            "7/7 [==============================] - 0s 3ms/step - loss: 0.2235 - accuracy: 0.9963\n",
            "Epoch 290/500\n",
            "7/7 [==============================] - 0s 3ms/step - loss: 0.2112 - accuracy: 0.9816\n",
            "Epoch 291/500\n",
            "7/7 [==============================] - 0s 3ms/step - loss: 0.2229 - accuracy: 0.9582\n",
            "Epoch 292/500\n",
            "7/7 [==============================] - 0s 2ms/step - loss: 0.2190 - accuracy: 0.9796\n",
            "Epoch 293/500\n",
            "7/7 [==============================] - 0s 3ms/step - loss: 0.1956 - accuracy: 0.9908\n",
            "Epoch 294/500\n",
            "7/7 [==============================] - 0s 3ms/step - loss: 0.2463 - accuracy: 0.9645\n",
            "Epoch 295/500\n",
            "7/7 [==============================] - 0s 3ms/step - loss: 0.2265 - accuracy: 0.9885\n",
            "Epoch 296/500\n",
            "7/7 [==============================] - 0s 3ms/step - loss: 0.2253 - accuracy: 0.9714\n",
            "Epoch 297/500\n",
            "7/7 [==============================] - 0s 2ms/step - loss: 0.2270 - accuracy: 0.9833\n",
            "Epoch 298/500\n",
            "7/7 [==============================] - 0s 3ms/step - loss: 0.2082 - accuracy: 0.9961\n",
            "Epoch 299/500\n",
            "7/7 [==============================] - 0s 3ms/step - loss: 0.2309 - accuracy: 0.9723\n",
            "Epoch 300/500\n",
            "7/7 [==============================] - 0s 3ms/step - loss: 0.2300 - accuracy: 0.9747\n",
            "Epoch 301/500\n",
            "7/7 [==============================] - 0s 2ms/step - loss: 0.1998 - accuracy: 0.9895\n",
            "Epoch 302/500\n",
            "7/7 [==============================] - 0s 3ms/step - loss: 0.1997 - accuracy: 0.9792\n",
            "Epoch 303/500\n",
            "7/7 [==============================] - 0s 2ms/step - loss: 0.1945 - accuracy: 0.9697\n",
            "Epoch 304/500\n",
            "7/7 [==============================] - 0s 3ms/step - loss: 0.2139 - accuracy: 0.9818\n",
            "Epoch 305/500\n",
            "7/7 [==============================] - 0s 3ms/step - loss: 0.2193 - accuracy: 0.9793\n",
            "Epoch 306/500\n",
            "7/7 [==============================] - 0s 3ms/step - loss: 0.2138 - accuracy: 0.9773\n",
            "Epoch 307/500\n",
            "7/7 [==============================] - 0s 3ms/step - loss: 0.2204 - accuracy: 0.9848\n",
            "Epoch 308/500\n",
            "7/7 [==============================] - 0s 3ms/step - loss: 0.1918 - accuracy: 0.9831\n",
            "Epoch 309/500\n",
            "7/7 [==============================] - 0s 3ms/step - loss: 0.2461 - accuracy: 0.9612\n",
            "Epoch 310/500\n",
            "7/7 [==============================] - 0s 3ms/step - loss: 0.1933 - accuracy: 0.9918\n",
            "Epoch 311/500\n",
            "7/7 [==============================] - 0s 3ms/step - loss: 0.2231 - accuracy: 0.9855\n",
            "Epoch 312/500\n",
            "7/7 [==============================] - 0s 3ms/step - loss: 0.2047 - accuracy: 0.9799\n",
            "Epoch 313/500\n",
            "7/7 [==============================] - 0s 3ms/step - loss: 0.2014 - accuracy: 0.9677\n",
            "Epoch 314/500\n",
            "7/7 [==============================] - 0s 3ms/step - loss: 0.1922 - accuracy: 0.9819\n",
            "Epoch 315/500\n",
            "7/7 [==============================] - 0s 3ms/step - loss: 0.1952 - accuracy: 0.9927\n",
            "Epoch 316/500\n",
            "7/7 [==============================] - 0s 3ms/step - loss: 0.2001 - accuracy: 0.9828\n",
            "Epoch 317/500\n",
            "7/7 [==============================] - 0s 3ms/step - loss: 0.2535 - accuracy: 0.9559\n",
            "Epoch 318/500\n",
            "7/7 [==============================] - 0s 3ms/step - loss: 0.2150 - accuracy: 0.9869\n",
            "Epoch 319/500\n",
            "7/7 [==============================] - 0s 3ms/step - loss: 0.1938 - accuracy: 0.9786\n",
            "Epoch 320/500\n",
            "7/7 [==============================] - 0s 3ms/step - loss: 0.2034 - accuracy: 0.9697\n",
            "Epoch 321/500\n",
            "7/7 [==============================] - 0s 3ms/step - loss: 0.2303 - accuracy: 0.9566\n",
            "Epoch 322/500\n",
            "7/7 [==============================] - 0s 3ms/step - loss: 0.2151 - accuracy: 0.9904\n",
            "Epoch 323/500\n",
            "7/7 [==============================] - 0s 3ms/step - loss: 0.1996 - accuracy: 0.9782\n",
            "Epoch 324/500\n",
            "7/7 [==============================] - 0s 3ms/step - loss: 0.2020 - accuracy: 0.9764\n",
            "Epoch 325/500\n",
            "7/7 [==============================] - 0s 3ms/step - loss: 0.2128 - accuracy: 0.9518\n",
            "Epoch 326/500\n",
            "7/7 [==============================] - 0s 3ms/step - loss: 0.1752 - accuracy: 0.9943\n",
            "Epoch 327/500\n",
            "7/7 [==============================] - 0s 2ms/step - loss: 0.1741 - accuracy: 0.9878\n",
            "Epoch 328/500\n",
            "7/7 [==============================] - 0s 3ms/step - loss: 0.2060 - accuracy: 0.9823\n",
            "Epoch 329/500\n",
            "7/7 [==============================] - 0s 2ms/step - loss: 0.1988 - accuracy: 0.9874\n",
            "Epoch 330/500\n",
            "7/7 [==============================] - 0s 3ms/step - loss: 0.1912 - accuracy: 0.9754\n",
            "Epoch 331/500\n",
            "7/7 [==============================] - 0s 3ms/step - loss: 0.1954 - accuracy: 0.9905\n",
            "Epoch 332/500\n",
            "7/7 [==============================] - 0s 3ms/step - loss: 0.1868 - accuracy: 0.9968\n",
            "Epoch 333/500\n",
            "7/7 [==============================] - 0s 3ms/step - loss: 0.2347 - accuracy: 0.9773\n",
            "Epoch 334/500\n",
            "7/7 [==============================] - 0s 3ms/step - loss: 0.1875 - accuracy: 0.9784\n",
            "Epoch 335/500\n",
            "7/7 [==============================] - 0s 3ms/step - loss: 0.1820 - accuracy: 0.9804\n",
            "Epoch 336/500\n",
            "7/7 [==============================] - 0s 3ms/step - loss: 0.1888 - accuracy: 0.9854\n",
            "Epoch 337/500\n",
            "7/7 [==============================] - 0s 2ms/step - loss: 0.1988 - accuracy: 0.9793\n",
            "Epoch 338/500\n",
            "7/7 [==============================] - 0s 3ms/step - loss: 0.1779 - accuracy: 0.9963\n",
            "Epoch 339/500\n",
            "7/7 [==============================] - 0s 3ms/step - loss: 0.1869 - accuracy: 0.9912\n",
            "Epoch 340/500\n",
            "7/7 [==============================] - 0s 3ms/step - loss: 0.1793 - accuracy: 0.9892\n",
            "Epoch 341/500\n",
            "7/7 [==============================] - 0s 3ms/step - loss: 0.1828 - accuracy: 0.9927\n",
            "Epoch 342/500\n",
            "7/7 [==============================] - 0s 2ms/step - loss: 0.1928 - accuracy: 0.9785\n",
            "Epoch 343/500\n",
            "7/7 [==============================] - 0s 2ms/step - loss: 0.1899 - accuracy: 0.9973\n",
            "Epoch 344/500\n",
            "7/7 [==============================] - 0s 3ms/step - loss: 0.1922 - accuracy: 0.9719\n",
            "Epoch 345/500\n",
            "7/7 [==============================] - 0s 3ms/step - loss: 0.2003 - accuracy: 0.9862\n",
            "Epoch 346/500\n",
            "7/7 [==============================] - 0s 3ms/step - loss: 0.1977 - accuracy: 0.9760\n",
            "Epoch 347/500\n",
            "7/7 [==============================] - 0s 3ms/step - loss: 0.1859 - accuracy: 0.9823\n",
            "Epoch 348/500\n",
            "7/7 [==============================] - 0s 3ms/step - loss: 0.1825 - accuracy: 0.9774\n",
            "Epoch 349/500\n",
            "7/7 [==============================] - 0s 3ms/step - loss: 0.1751 - accuracy: 0.9920\n",
            "Epoch 350/500\n",
            "7/7 [==============================] - 0s 3ms/step - loss: 0.1928 - accuracy: 0.9835\n",
            "Epoch 351/500\n",
            "7/7 [==============================] - 0s 3ms/step - loss: 0.1824 - accuracy: 0.9691\n",
            "Epoch 352/500\n",
            "7/7 [==============================] - 0s 3ms/step - loss: 0.1797 - accuracy: 0.9769\n",
            "Epoch 353/500\n",
            "7/7 [==============================] - 0s 3ms/step - loss: 0.1733 - accuracy: 0.9931\n",
            "Epoch 354/500\n",
            "7/7 [==============================] - 0s 3ms/step - loss: 0.1654 - accuracy: 0.9854\n",
            "Epoch 355/500\n",
            "7/7 [==============================] - 0s 3ms/step - loss: 0.1885 - accuracy: 0.9819\n",
            "Epoch 356/500\n",
            "7/7 [==============================] - 0s 3ms/step - loss: 0.1739 - accuracy: 0.9873\n",
            "Epoch 357/500\n",
            "7/7 [==============================] - 0s 3ms/step - loss: 0.1724 - accuracy: 0.9881\n",
            "Epoch 358/500\n",
            "7/7 [==============================] - 0s 3ms/step - loss: 0.1672 - accuracy: 0.9892\n",
            "Epoch 359/500\n",
            "7/7 [==============================] - 0s 3ms/step - loss: 0.1641 - accuracy: 0.9949\n",
            "Epoch 360/500\n",
            "7/7 [==============================] - 0s 2ms/step - loss: 0.1688 - accuracy: 0.9787\n",
            "Epoch 361/500\n",
            "7/7 [==============================] - 0s 2ms/step - loss: 0.1812 - accuracy: 0.9754\n",
            "Epoch 362/500\n",
            "7/7 [==============================] - 0s 2ms/step - loss: 0.1810 - accuracy: 0.9865\n",
            "Epoch 363/500\n",
            "7/7 [==============================] - 0s 3ms/step - loss: 0.1708 - accuracy: 0.9765\n",
            "Epoch 364/500\n",
            "7/7 [==============================] - 0s 3ms/step - loss: 0.1776 - accuracy: 0.9954\n",
            "Epoch 365/500\n",
            "7/7 [==============================] - 0s 2ms/step - loss: 0.1749 - accuracy: 0.9963\n",
            "Epoch 366/500\n",
            "7/7 [==============================] - 0s 3ms/step - loss: 0.1562 - accuracy: 0.9905\n",
            "Epoch 367/500\n",
            "7/7 [==============================] - 0s 3ms/step - loss: 0.1951 - accuracy: 0.9830\n",
            "Epoch 368/500\n",
            "7/7 [==============================] - 0s 3ms/step - loss: 0.1701 - accuracy: 0.9912\n",
            "Epoch 369/500\n",
            "7/7 [==============================] - 0s 3ms/step - loss: 0.1761 - accuracy: 0.9862\n",
            "Epoch 370/500\n",
            "7/7 [==============================] - 0s 2ms/step - loss: 0.1759 - accuracy: 0.9842\n",
            "Epoch 371/500\n",
            "7/7 [==============================] - 0s 2ms/step - loss: 0.1864 - accuracy: 0.9823\n",
            "Epoch 372/500\n",
            "7/7 [==============================] - 0s 3ms/step - loss: 0.1832 - accuracy: 0.9818\n",
            "Epoch 373/500\n",
            "7/7 [==============================] - 0s 3ms/step - loss: 0.1729 - accuracy: 0.9729\n",
            "Epoch 374/500\n",
            "7/7 [==============================] - 0s 3ms/step - loss: 0.1571 - accuracy: 0.9904\n",
            "Epoch 375/500\n",
            "7/7 [==============================] - 0s 3ms/step - loss: 0.1671 - accuracy: 0.9904\n",
            "Epoch 376/500\n",
            "7/7 [==============================] - 0s 2ms/step - loss: 0.1631 - accuracy: 0.9881\n",
            "Epoch 377/500\n",
            "7/7 [==============================] - 0s 3ms/step - loss: 0.1587 - accuracy: 0.9981\n",
            "Epoch 378/500\n",
            "7/7 [==============================] - 0s 2ms/step - loss: 0.1476 - accuracy: 0.9914\n",
            "Epoch 379/500\n",
            "7/7 [==============================] - 0s 3ms/step - loss: 0.1815 - accuracy: 0.9828\n",
            "Epoch 380/500\n",
            "7/7 [==============================] - 0s 2ms/step - loss: 0.1600 - accuracy: 0.9773\n",
            "Epoch 381/500\n",
            "7/7 [==============================] - 0s 2ms/step - loss: 0.1827 - accuracy: 0.9611\n",
            "Epoch 382/500\n",
            "7/7 [==============================] - 0s 3ms/step - loss: 0.1760 - accuracy: 0.9931\n",
            "Epoch 383/500\n",
            "7/7 [==============================] - 0s 3ms/step - loss: 0.1651 - accuracy: 0.9855\n",
            "Epoch 384/500\n",
            "7/7 [==============================] - 0s 3ms/step - loss: 0.1631 - accuracy: 0.9788\n",
            "Epoch 385/500\n",
            "7/7 [==============================] - 0s 3ms/step - loss: 0.1560 - accuracy: 0.9924\n",
            "Epoch 386/500\n",
            "7/7 [==============================] - 0s 3ms/step - loss: 0.1649 - accuracy: 0.9718\n",
            "Epoch 387/500\n",
            "7/7 [==============================] - 0s 3ms/step - loss: 0.1639 - accuracy: 0.9912\n",
            "Epoch 388/500\n",
            "7/7 [==============================] - 0s 3ms/step - loss: 0.1684 - accuracy: 0.9794\n",
            "Epoch 389/500\n",
            "7/7 [==============================] - 0s 3ms/step - loss: 0.1699 - accuracy: 0.9773\n",
            "Epoch 390/500\n",
            "7/7 [==============================] - 0s 3ms/step - loss: 0.1590 - accuracy: 0.9862\n",
            "Epoch 391/500\n",
            "7/7 [==============================] - 0s 3ms/step - loss: 0.1523 - accuracy: 0.9950\n",
            "Epoch 392/500\n",
            "7/7 [==============================] - 0s 2ms/step - loss: 0.1713 - accuracy: 0.9749\n",
            "Epoch 393/500\n",
            "7/7 [==============================] - 0s 4ms/step - loss: 0.1625 - accuracy: 0.9877\n",
            "Epoch 394/500\n",
            "7/7 [==============================] - 0s 4ms/step - loss: 0.1644 - accuracy: 0.9981\n",
            "Epoch 395/500\n",
            "7/7 [==============================] - 0s 3ms/step - loss: 0.1710 - accuracy: 0.9854\n",
            "Epoch 396/500\n",
            "7/7 [==============================] - 0s 2ms/step - loss: 0.1739 - accuracy: 0.9822\n",
            "Epoch 397/500\n",
            "7/7 [==============================] - 0s 2ms/step - loss: 0.1605 - accuracy: 0.9884\n",
            "Epoch 398/500\n",
            "7/7 [==============================] - 0s 3ms/step - loss: 0.1595 - accuracy: 0.9796\n",
            "Epoch 399/500\n",
            "7/7 [==============================] - 0s 3ms/step - loss: 0.1617 - accuracy: 0.9931\n",
            "Epoch 400/500\n",
            "7/7 [==============================] - 0s 3ms/step - loss: 0.1750 - accuracy: 0.9786\n",
            "Epoch 401/500\n",
            "7/7 [==============================] - 0s 3ms/step - loss: 0.1511 - accuracy: 0.9961\n",
            "Epoch 402/500\n",
            "7/7 [==============================] - 0s 3ms/step - loss: 0.1647 - accuracy: 0.9950\n",
            "Epoch 403/500\n",
            "7/7 [==============================] - 0s 3ms/step - loss: 0.1655 - accuracy: 0.9867\n",
            "Epoch 404/500\n",
            "7/7 [==============================] - 0s 3ms/step - loss: 0.1562 - accuracy: 0.9850\n",
            "Epoch 405/500\n",
            "7/7 [==============================] - 0s 3ms/step - loss: 0.1511 - accuracy: 0.9754\n",
            "Epoch 406/500\n",
            "7/7 [==============================] - 0s 2ms/step - loss: 0.1759 - accuracy: 0.9892\n",
            "Epoch 407/500\n",
            "7/7 [==============================] - 0s 3ms/step - loss: 0.1640 - accuracy: 0.9927\n",
            "Epoch 408/500\n",
            "7/7 [==============================] - 0s 3ms/step - loss: 0.1483 - accuracy: 0.9786\n",
            "Epoch 409/500\n",
            "7/7 [==============================] - 0s 3ms/step - loss: 0.1486 - accuracy: 0.9846\n",
            "Epoch 410/500\n",
            "7/7 [==============================] - 0s 3ms/step - loss: 0.1476 - accuracy: 0.9869\n",
            "Epoch 411/500\n",
            "7/7 [==============================] - 0s 3ms/step - loss: 0.1542 - accuracy: 0.9963\n",
            "Epoch 412/500\n",
            "7/7 [==============================] - 0s 2ms/step - loss: 0.1570 - accuracy: 0.9862\n",
            "Epoch 413/500\n",
            "7/7 [==============================] - 0s 3ms/step - loss: 0.1790 - accuracy: 0.9842\n",
            "Epoch 414/500\n",
            "7/7 [==============================] - 0s 3ms/step - loss: 0.1437 - accuracy: 0.9900\n",
            "Epoch 415/500\n",
            "7/7 [==============================] - 0s 2ms/step - loss: 0.1440 - accuracy: 0.9973\n",
            "Epoch 416/500\n",
            "7/7 [==============================] - 0s 2ms/step - loss: 0.1516 - accuracy: 0.9963\n",
            "Epoch 417/500\n",
            "7/7 [==============================] - 0s 3ms/step - loss: 0.1606 - accuracy: 0.9845\n",
            "Epoch 418/500\n",
            "7/7 [==============================] - 0s 3ms/step - loss: 0.1519 - accuracy: 0.9950\n",
            "Epoch 419/500\n",
            "7/7 [==============================] - 0s 3ms/step - loss: 0.1515 - accuracy: 0.9950\n",
            "Epoch 420/500\n",
            "7/7 [==============================] - 0s 3ms/step - loss: 0.1371 - accuracy: 0.9865\n",
            "Epoch 421/500\n",
            "7/7 [==============================] - 0s 3ms/step - loss: 0.1334 - accuracy: 0.9873\n",
            "Epoch 422/500\n",
            "7/7 [==============================] - 0s 3ms/step - loss: 0.1580 - accuracy: 0.9838\n",
            "Epoch 423/500\n",
            "7/7 [==============================] - 0s 3ms/step - loss: 0.1438 - accuracy: 0.9826\n",
            "Epoch 424/500\n",
            "7/7 [==============================] - 0s 3ms/step - loss: 0.1623 - accuracy: 0.9950\n",
            "Epoch 425/500\n",
            "7/7 [==============================] - 0s 2ms/step - loss: 0.1335 - accuracy: 0.9981\n",
            "Epoch 426/500\n",
            "7/7 [==============================] - 0s 3ms/step - loss: 0.1305 - accuracy: 0.9944\n",
            "Epoch 427/500\n",
            "7/7 [==============================] - 0s 3ms/step - loss: 0.1400 - accuracy: 0.9873\n",
            "Epoch 428/500\n",
            "7/7 [==============================] - 0s 2ms/step - loss: 0.1470 - accuracy: 0.9892\n",
            "Epoch 429/500\n",
            "7/7 [==============================] - 0s 3ms/step - loss: 0.1416 - accuracy: 0.9963\n",
            "Epoch 430/500\n",
            "7/7 [==============================] - 0s 3ms/step - loss: 0.1406 - accuracy: 0.9868\n",
            "Epoch 431/500\n",
            "7/7 [==============================] - 0s 3ms/step - loss: 0.1487 - accuracy: 0.9931\n",
            "Epoch 432/500\n",
            "7/7 [==============================] - 0s 2ms/step - loss: 0.1460 - accuracy: 0.9826\n",
            "Epoch 433/500\n",
            "7/7 [==============================] - 0s 3ms/step - loss: 0.1405 - accuracy: 0.9954\n",
            "Epoch 434/500\n",
            "7/7 [==============================] - 0s 3ms/step - loss: 0.1369 - accuracy: 0.9856\n",
            "Epoch 435/500\n",
            "7/7 [==============================] - 0s 3ms/step - loss: 0.1438 - accuracy: 0.9950\n",
            "Epoch 436/500\n",
            "7/7 [==============================] - 0s 3ms/step - loss: 0.1377 - accuracy: 0.9963\n",
            "Epoch 437/500\n",
            "7/7 [==============================] - 0s 3ms/step - loss: 0.1585 - accuracy: 0.9761\n",
            "Epoch 438/500\n",
            "7/7 [==============================] - 0s 3ms/step - loss: 0.1512 - accuracy: 0.9869\n",
            "Epoch 439/500\n",
            "7/7 [==============================] - 0s 3ms/step - loss: 0.1327 - accuracy: 1.0000\n",
            "Epoch 440/500\n",
            "7/7 [==============================] - 0s 3ms/step - loss: 0.1357 - accuracy: 0.9944\n",
            "Epoch 441/500\n",
            "7/7 [==============================] - 0s 2ms/step - loss: 0.1423 - accuracy: 0.9927\n",
            "Epoch 442/500\n",
            "7/7 [==============================] - 0s 3ms/step - loss: 0.1336 - accuracy: 0.9835\n",
            "Epoch 443/500\n",
            "7/7 [==============================] - 0s 3ms/step - loss: 0.1369 - accuracy: 0.9918\n",
            "Epoch 444/500\n",
            "7/7 [==============================] - 0s 3ms/step - loss: 0.1402 - accuracy: 0.9887\n",
            "Epoch 445/500\n",
            "7/7 [==============================] - 0s 2ms/step - loss: 0.1287 - accuracy: 1.0000\n",
            "Epoch 446/500\n",
            "7/7 [==============================] - 0s 3ms/step - loss: 0.1269 - accuracy: 0.9844\n",
            "Epoch 447/500\n",
            "7/7 [==============================] - 0s 2ms/step - loss: 0.1360 - accuracy: 0.9912\n",
            "Epoch 448/500\n",
            "7/7 [==============================] - 0s 3ms/step - loss: 0.1224 - accuracy: 1.0000\n",
            "Epoch 449/500\n",
            "7/7 [==============================] - 0s 3ms/step - loss: 0.1336 - accuracy: 0.9873\n",
            "Epoch 450/500\n",
            "7/7 [==============================] - 0s 3ms/step - loss: 0.1185 - accuracy: 0.9981\n",
            "Epoch 451/500\n",
            "7/7 [==============================] - 0s 3ms/step - loss: 0.1528 - accuracy: 0.9823\n",
            "Epoch 452/500\n",
            "7/7 [==============================] - 0s 2ms/step - loss: 0.1318 - accuracy: 1.0000\n",
            "Epoch 453/500\n",
            "7/7 [==============================] - 0s 3ms/step - loss: 0.1336 - accuracy: 1.0000\n",
            "Epoch 454/500\n",
            "7/7 [==============================] - 0s 2ms/step - loss: 0.1400 - accuracy: 0.9950\n",
            "Epoch 455/500\n",
            "7/7 [==============================] - 0s 2ms/step - loss: 0.1417 - accuracy: 0.9881\n",
            "Epoch 456/500\n",
            "7/7 [==============================] - 0s 2ms/step - loss: 0.1470 - accuracy: 0.9855\n",
            "Epoch 457/500\n",
            "7/7 [==============================] - 0s 3ms/step - loss: 0.1480 - accuracy: 0.9767\n",
            "Epoch 458/500\n",
            "7/7 [==============================] - 0s 3ms/step - loss: 0.1430 - accuracy: 0.9823\n",
            "Epoch 459/500\n",
            "7/7 [==============================] - 0s 3ms/step - loss: 0.1318 - accuracy: 0.9950\n",
            "Epoch 460/500\n",
            "7/7 [==============================] - 0s 3ms/step - loss: 0.1446 - accuracy: 0.9892\n",
            "Epoch 461/500\n",
            "7/7 [==============================] - 0s 3ms/step - loss: 0.1239 - accuracy: 0.9963\n",
            "Epoch 462/500\n",
            "7/7 [==============================] - 0s 3ms/step - loss: 0.1383 - accuracy: 0.9879\n",
            "Epoch 463/500\n",
            "7/7 [==============================] - 0s 3ms/step - loss: 0.1268 - accuracy: 1.0000\n",
            "Epoch 464/500\n",
            "7/7 [==============================] - 0s 3ms/step - loss: 0.1240 - accuracy: 1.0000\n",
            "Epoch 465/500\n",
            "7/7 [==============================] - 0s 2ms/step - loss: 0.1407 - accuracy: 0.9901\n",
            "Epoch 466/500\n",
            "7/7 [==============================] - 0s 3ms/step - loss: 0.1484 - accuracy: 0.9738\n",
            "Epoch 467/500\n",
            "7/7 [==============================] - 0s 3ms/step - loss: 0.1418 - accuracy: 0.9894\n",
            "Epoch 468/500\n",
            "7/7 [==============================] - 0s 2ms/step - loss: 0.1447 - accuracy: 0.9892\n",
            "Epoch 469/500\n",
            "7/7 [==============================] - 0s 3ms/step - loss: 0.1351 - accuracy: 0.9850\n",
            "Epoch 470/500\n",
            "7/7 [==============================] - 0s 2ms/step - loss: 0.1255 - accuracy: 0.9862\n",
            "Epoch 471/500\n",
            "7/7 [==============================] - 0s 3ms/step - loss: 0.1213 - accuracy: 0.9968\n",
            "Epoch 472/500\n",
            "7/7 [==============================] - 0s 2ms/step - loss: 0.1430 - accuracy: 1.0000\n",
            "Epoch 473/500\n",
            "7/7 [==============================] - 0s 3ms/step - loss: 0.1365 - accuracy: 0.9924\n",
            "Epoch 474/500\n",
            "7/7 [==============================] - 0s 2ms/step - loss: 0.1424 - accuracy: 0.9963\n",
            "Epoch 475/500\n",
            "7/7 [==============================] - 0s 3ms/step - loss: 0.1393 - accuracy: 0.9855\n",
            "Epoch 476/500\n",
            "7/7 [==============================] - 0s 3ms/step - loss: 0.1346 - accuracy: 0.9881\n",
            "Epoch 477/500\n",
            "7/7 [==============================] - 0s 3ms/step - loss: 0.1294 - accuracy: 0.9887\n",
            "Epoch 478/500\n",
            "7/7 [==============================] - 0s 3ms/step - loss: 0.1364 - accuracy: 0.9981\n",
            "Epoch 479/500\n",
            "7/7 [==============================] - 0s 3ms/step - loss: 0.1390 - accuracy: 1.0000\n",
            "Epoch 480/500\n",
            "7/7 [==============================] - 0s 3ms/step - loss: 0.1248 - accuracy: 0.9918\n",
            "Epoch 481/500\n",
            "7/7 [==============================] - 0s 3ms/step - loss: 0.1187 - accuracy: 0.9873\n",
            "Epoch 482/500\n",
            "7/7 [==============================] - 0s 3ms/step - loss: 0.1483 - accuracy: 0.9792\n",
            "Epoch 483/500\n",
            "7/7 [==============================] - 0s 3ms/step - loss: 0.1522 - accuracy: 0.9806\n",
            "Epoch 484/500\n",
            "7/7 [==============================] - 0s 3ms/step - loss: 0.1298 - accuracy: 0.9968\n",
            "Epoch 485/500\n",
            "7/7 [==============================] - 0s 3ms/step - loss: 0.1228 - accuracy: 0.9855\n",
            "Epoch 486/500\n",
            "7/7 [==============================] - 0s 3ms/step - loss: 0.1256 - accuracy: 0.9963\n",
            "Epoch 487/500\n",
            "7/7 [==============================] - 0s 3ms/step - loss: 0.1224 - accuracy: 0.9944\n",
            "Epoch 488/500\n",
            "7/7 [==============================] - 0s 3ms/step - loss: 0.1253 - accuracy: 0.9784\n",
            "Epoch 489/500\n",
            "7/7 [==============================] - 0s 3ms/step - loss: 0.1465 - accuracy: 0.9782\n",
            "Epoch 490/500\n",
            "7/7 [==============================] - 0s 3ms/step - loss: 0.1310 - accuracy: 1.0000\n",
            "Epoch 491/500\n",
            "7/7 [==============================] - 0s 3ms/step - loss: 0.1092 - accuracy: 0.9892\n",
            "Epoch 492/500\n",
            "7/7 [==============================] - 0s 3ms/step - loss: 0.1299 - accuracy: 0.9963\n",
            "Epoch 493/500\n",
            "7/7 [==============================] - 0s 3ms/step - loss: 0.1118 - accuracy: 1.0000\n",
            "Epoch 494/500\n",
            "7/7 [==============================] - 0s 3ms/step - loss: 0.1332 - accuracy: 0.9819\n",
            "Epoch 495/500\n",
            "7/7 [==============================] - 0s 2ms/step - loss: 0.1187 - accuracy: 0.9963\n",
            "Epoch 496/500\n",
            "7/7 [==============================] - 0s 3ms/step - loss: 0.1170 - accuracy: 0.9975\n",
            "Epoch 497/500\n",
            "7/7 [==============================] - 0s 3ms/step - loss: 0.1187 - accuracy: 0.9862\n",
            "Epoch 498/500\n",
            "7/7 [==============================] - 0s 3ms/step - loss: 0.1173 - accuracy: 0.9950\n",
            "Epoch 499/500\n",
            "7/7 [==============================] - 0s 3ms/step - loss: 0.1068 - accuracy: 0.9981\n",
            "Epoch 500/500\n",
            "7/7 [==============================] - 0s 2ms/step - loss: 0.1182 - accuracy: 0.9865\n"
          ],
          "name": "stdout"
        }
      ]
    },
    {
      "cell_type": "code",
      "metadata": {
        "colab": {
          "base_uri": "https://localhost:8080/",
          "height": 281
        },
        "id": "UVEVVdJYV1GK",
        "outputId": "138ca620-14a8-4a7b-9799-af6c9569c013"
      },
      "source": [
        "accuracy = history.history['accuracy']\n",
        "\n",
        "epochs = range(len(accuracy))\n",
        "\n",
        "plt.figure()\n",
        "\n",
        "plt.plot(epochs, accuracy, 'bo', label='Training accuracy')\n",
        "plt.title('Training accuracy')\n",
        "plt.legend()\n",
        "\n",
        "plt.show()"
      ],
      "execution_count": 39,
      "outputs": [
        {
          "output_type": "display_data",
          "data": {
            "image/png": "[encoded data removed]",
            "text/plain": [
              "<Figure size 432x288 with 1 Axes>"
            ]
          },
          "metadata": {
            "tags": [],
            "needs_background": "light"
          }
        }
      ]
    },
    {
      "cell_type": "code",
      "metadata": {
        "id": "sjLUwiXBTxj4",
        "colab": {
          "base_uri": "https://localhost:8080/"
        },
        "outputId": "6b5b1d2c-bdc3-4a1f-9de2-3eaabbe37470"
      },
      "source": [
        "test_loss, test_acc = model.evaluate(x_test, test_labels)"
      ],
      "execution_count": 40,
      "outputs": [
        {
          "output_type": "stream",
          "text": [
            "313/313 [==============================] - 1s 2ms/step - loss: 0.5226 - accuracy: 0.8513\n"
          ],
          "name": "stdout"
        }
      ]
    },
    {
      "cell_type": "markdown",
      "metadata": {
        "id": "LzAsDYkHX4NC"
      },
      "source": [
        "We now achieve 85.15 of accuracy.\n",
        "\n",
        "Next, we set the weights in the autoencoder to be trainalbe and see whether we can get better results."
      ]
    },
    {
      "cell_type": "code",
      "metadata": {
        "id": "g-rrioDyUOkR",
        "colab": {
          "base_uri": "https://localhost:8080/"
        },
        "outputId": "8cd5715f-9215-45fb-c486-ca9b76fff3c6"
      },
      "source": [
        "model.layers[0].trainable = True\n",
        "model.compile(optimizer='adam',\n",
        "              loss='categorical_crossentropy',\n",
        "              metrics=['accuracy'])\n",
        "history = model.fit(X_rep, train_labels, epochs=50, batch_size=32)"
      ],
      "execution_count": 41,
      "outputs": [
        {
          "output_type": "stream",
          "text": [
            "Epoch 1/50\n",
            "7/7 [==============================] - 1s 4ms/step - loss: 0.0984 - accuracy: 0.9825\n",
            "Epoch 2/50\n",
            "7/7 [==============================] - 0s 3ms/step - loss: 0.0812 - accuracy: 0.9892\n",
            "Epoch 3/50\n",
            "7/7 [==============================] - 0s 3ms/step - loss: 0.0400 - accuracy: 0.9981\n",
            "Epoch 4/50\n",
            "7/7 [==============================] - 0s 3ms/step - loss: 0.0268 - accuracy: 0.9931\n",
            "Epoch 5/50\n",
            "7/7 [==============================] - 0s 3ms/step - loss: 0.0205 - accuracy: 1.0000\n",
            "Epoch 6/50\n",
            "7/7 [==============================] - 0s 3ms/step - loss: 0.0223 - accuracy: 1.0000\n",
            "Epoch 7/50\n",
            "7/7 [==============================] - 0s 3ms/step - loss: 0.0117 - accuracy: 1.0000\n",
            "Epoch 8/50\n",
            "7/7 [==============================] - 0s 3ms/step - loss: 0.0091 - accuracy: 1.0000\n",
            "Epoch 9/50\n",
            "7/7 [==============================] - 0s 3ms/step - loss: 0.0106 - accuracy: 1.0000\n",
            "Epoch 10/50\n",
            "7/7 [==============================] - 0s 3ms/step - loss: 0.0089 - accuracy: 0.9973\n",
            "Epoch 11/50\n",
            "7/7 [==============================] - 0s 3ms/step - loss: 0.0056 - accuracy: 1.0000\n",
            "Epoch 12/50\n",
            "7/7 [==============================] - 0s 3ms/step - loss: 0.0072 - accuracy: 0.9981\n",
            "Epoch 13/50\n",
            "7/7 [==============================] - 0s 3ms/step - loss: 0.0093 - accuracy: 1.0000\n",
            "Epoch 14/50\n",
            "7/7 [==============================] - 0s 3ms/step - loss: 0.0068 - accuracy: 1.0000\n",
            "Epoch 15/50\n",
            "7/7 [==============================] - 0s 3ms/step - loss: 0.0122 - accuracy: 1.0000\n",
            "Epoch 16/50\n",
            "7/7 [==============================] - 0s 3ms/step - loss: 0.0101 - accuracy: 1.0000\n",
            "Epoch 17/50\n",
            "7/7 [==============================] - 0s 3ms/step - loss: 0.0089 - accuracy: 0.9950\n",
            "Epoch 18/50\n",
            "7/7 [==============================] - 0s 3ms/step - loss: 0.0064 - accuracy: 1.0000\n",
            "Epoch 19/50\n",
            "7/7 [==============================] - 0s 3ms/step - loss: 0.0035 - accuracy: 1.0000\n",
            "Epoch 20/50\n",
            "7/7 [==============================] - 0s 3ms/step - loss: 0.0057 - accuracy: 1.0000\n",
            "Epoch 21/50\n",
            "7/7 [==============================] - 0s 3ms/step - loss: 0.0052 - accuracy: 1.0000\n",
            "Epoch 22/50\n",
            "7/7 [==============================] - 0s 3ms/step - loss: 0.0055 - accuracy: 1.0000\n",
            "Epoch 23/50\n",
            "7/7 [==============================] - 0s 3ms/step - loss: 0.0051 - accuracy: 1.0000\n",
            "Epoch 24/50\n",
            "7/7 [==============================] - 0s 3ms/step - loss: 0.0026 - accuracy: 1.0000\n",
            "Epoch 25/50\n",
            "7/7 [==============================] - 0s 3ms/step - loss: 0.0056 - accuracy: 1.0000\n",
            "Epoch 26/50\n",
            "7/7 [==============================] - 0s 3ms/step - loss: 0.0062 - accuracy: 0.9963\n",
            "Epoch 27/50\n",
            "7/7 [==============================] - 0s 3ms/step - loss: 0.0019 - accuracy: 1.0000\n",
            "Epoch 28/50\n",
            "7/7 [==============================] - 0s 3ms/step - loss: 0.0042 - accuracy: 1.0000\n",
            "Epoch 29/50\n",
            "7/7 [==============================] - 0s 3ms/step - loss: 0.0074 - accuracy: 0.9931\n",
            "Epoch 30/50\n",
            "7/7 [==============================] - 0s 3ms/step - loss: 0.0036 - accuracy: 1.0000\n",
            "Epoch 31/50\n",
            "7/7 [==============================] - 0s 4ms/step - loss: 0.0038 - accuracy: 1.0000\n",
            "Epoch 32/50\n",
            "7/7 [==============================] - 0s 3ms/step - loss: 0.0023 - accuracy: 1.0000\n",
            "Epoch 33/50\n",
            "7/7 [==============================] - 0s 3ms/step - loss: 0.0057 - accuracy: 1.0000\n",
            "Epoch 34/50\n",
            "7/7 [==============================] - 0s 3ms/step - loss: 0.0011 - accuracy: 1.0000\n",
            "Epoch 35/50\n",
            "7/7 [==============================] - 0s 3ms/step - loss: 0.0015 - accuracy: 1.0000\n",
            "Epoch 36/50\n",
            "7/7 [==============================] - 0s 3ms/step - loss: 0.0020 - accuracy: 1.0000\n",
            "Epoch 37/50\n",
            "7/7 [==============================] - 0s 3ms/step - loss: 0.0014 - accuracy: 1.0000\n",
            "Epoch 38/50\n",
            "7/7 [==============================] - 0s 3ms/step - loss: 0.0055 - accuracy: 1.0000\n",
            "Epoch 39/50\n",
            "7/7 [==============================] - 0s 3ms/step - loss: 4.3133e-04 - accuracy: 1.0000\n",
            "Epoch 40/50\n",
            "7/7 [==============================] - 0s 3ms/step - loss: 4.5673e-04 - accuracy: 1.0000\n",
            "Epoch 41/50\n",
            "7/7 [==============================] - 0s 3ms/step - loss: 7.7499e-04 - accuracy: 1.0000\n",
            "Epoch 42/50\n",
            "7/7 [==============================] - 0s 3ms/step - loss: 0.0022 - accuracy: 1.0000\n",
            "Epoch 43/50\n",
            "7/7 [==============================] - 0s 3ms/step - loss: 0.0014 - accuracy: 1.0000\n",
            "Epoch 44/50\n",
            "7/7 [==============================] - 0s 3ms/step - loss: 0.0076 - accuracy: 1.0000\n",
            "Epoch 45/50\n",
            "7/7 [==============================] - 0s 3ms/step - loss: 0.0014 - accuracy: 1.0000\n",
            "Epoch 46/50\n",
            "7/7 [==============================] - 0s 3ms/step - loss: 0.0022 - accuracy: 1.0000\n",
            "Epoch 47/50\n",
            "7/7 [==============================] - 0s 3ms/step - loss: 0.0018 - accuracy: 1.0000\n",
            "Epoch 48/50\n",
            "7/7 [==============================] - 0s 3ms/step - loss: 0.0012 - accuracy: 1.0000\n",
            "Epoch 49/50\n",
            "7/7 [==============================] - 0s 3ms/step - loss: 6.0502e-04 - accuracy: 1.0000\n",
            "Epoch 50/50\n",
            "7/7 [==============================] - 0s 3ms/step - loss: 5.2558e-04 - accuracy: 1.0000\n"
          ],
          "name": "stdout"
        }
      ]
    },
    {
      "cell_type": "code",
      "metadata": {
        "colab": {
          "base_uri": "https://localhost:8080/",
          "height": 281
        },
        "id": "txfF70bsV412",
        "outputId": "a947dab2-9c7a-4f39-f83e-c37933a1ab4c"
      },
      "source": [
        "accuracy = history.history['accuracy']\n",
        "\n",
        "epochs = range(len(accuracy))\n",
        "\n",
        "plt.figure()\n",
        "\n",
        "plt.plot(epochs, accuracy, 'bo', label='Training accuracy')\n",
        "plt.title('Training accuracy')\n",
        "plt.legend()\n",
        "\n",
        "plt.show()"
      ],
      "execution_count": 42,
      "outputs": [
        {
          "output_type": "display_data",
          "data": {
            "image/png": "[encoded data removed]",
            "text/plain": [
              "<Figure size 432x288 with 1 Axes>"
            ]
          },
          "metadata": {
            "tags": [],
            "needs_background": "light"
          }
        }
      ]
    },
    {
      "cell_type": "code",
      "metadata": {
        "id": "7wr6vOhJaYFc",
        "colab": {
          "base_uri": "https://localhost:8080/"
        },
        "outputId": "9aae6e4d-cfac-431e-aea4-9451f3d9a103"
      },
      "source": [
        "test_loss, test_acc = model.evaluate(x_test, test_labels)"
      ],
      "execution_count": 43,
      "outputs": [
        {
          "output_type": "stream",
          "text": [
            "313/313 [==============================] - 1s 2ms/step - loss: 0.5811 - accuracy: 0.8752\n"
          ],
          "name": "stdout"
        }
      ]
    },
    {
      "cell_type": "markdown",
      "metadata": {
        "id": "BUiVvZ2RYRLQ"
      },
      "source": [
        "This time, the accuracy is improved to 87.52%. This is much better than the result (80.06%) not using autoencoder for unsupervised pretraining."
      ]
    },
    {
      "cell_type": "code",
      "metadata": {
        "id": "Twb4E-YRbn-z"
      },
      "source": [
        ""
      ],
      "execution_count": 43,
      "outputs": []
    }
  ]
}