{
  "cells": [
    {
      "cell_type": "markdown",
      "metadata": {
        "id": "TnfZER0VGTwU"
      },
      "source": [
        "**Chapter 10 – Introduction to Artificial Neural Networks with Keras**\n"
      ]
    },
    {
      "cell_type": "markdown",
      "metadata": {
        "id": "-2Th5bSrGTwW"
      },
      "source": [
        "# Setup"
      ]
    },
    {
      "cell_type": "markdown",
      "metadata": {
        "id": "mnTV-dKdGTwX"
      },
      "source": [
        "First, let's import a few common modules, ensure MatplotLib plots figures inline and prepare a function to save the figures. We also check that Python 3.5 or later is installed (although Python 2.x may work, it is deprecated so we strongly recommend you use Python 3 instead), as well as Scikit-Learn ≥0.20 and TensorFlow ≥2.0."
      ]
    },
    {
      "cell_type": "code",
      "execution_count": 1,
      "metadata": {
        "colab": {
          "base_uri": "https://localhost:8080/"
        },
        "id": "iPg8RgyhGTwX",
        "outputId": "78307280-b76f-4284-afea-9d68b5f02cae"
      },
      "outputs": [
        {
          "output_type": "stream",
          "name": "stdout",
          "text": [
            "Colab only includes TensorFlow 2.x; %tensorflow_version has no effect.\n"
          ]
        }
      ],
      "source": [
        "# Python ≥3.5 is required\n",
        "import sys\n",
        "assert sys.version_info >= (3, 5)\n",
        "\n",
        "# Scikit-Learn ≥0.20 is required\n",
        "import sklearn\n",
        "assert sklearn.__version__ >= \"0.20\"\n",
        "\n",
        "try:\n",
        "    # %tensorflow_version only exists in Colab.\n",
        "    %tensorflow_version 2.x\n",
        "except Exception:\n",
        "    pass\n",
        "\n",
        "# TensorFlow ≥2.0 is required\n",
        "import tensorflow as tf\n",
        "assert tf.__version__ >= \"2.0\"\n",
        "\n",
        "# Common imports\n",
        "import numpy as np\n",
        "import os\n",
        "\n",
        "# to make this notebook's output stable across runs\n",
        "np.random.seed(42)\n",
        "\n",
        "# To plot pretty figures\n",
        "%matplotlib inline\n",
        "import matplotlib as mpl\n",
        "import matplotlib.pyplot as plt\n",
        "mpl.rc('axes', labelsize=14)\n",
        "mpl.rc('xtick', labelsize=12)\n",
        "mpl.rc('ytick', labelsize=12)\n",
        "\n",
        "# Where to save the figures\n",
        "PROJECT_ROOT_DIR = \".\"\n",
        "CHAPTER_ID = \"ann\"\n",
        "IMAGES_PATH = os.path.join(PROJECT_ROOT_DIR, \"images\", CHAPTER_ID)\n",
        "os.makedirs(IMAGES_PATH, exist_ok=True)\n",
        "\n",
        "def save_fig(fig_id, tight_layout=True, fig_extension=\"png\", resolution=300):\n",
        "    path = os.path.join(IMAGES_PATH, fig_id + \".\" + fig_extension)\n",
        "    print(\"Saving figure\", fig_id)\n",
        "    if tight_layout:\n",
        "        plt.tight_layout()\n",
        "    plt.savefig(path, format=fig_extension, dpi=resolution)\n"
      ]
    },
    {
      "cell_type": "markdown",
      "metadata": {
        "id": "azfPpUkeGTwY"
      },
      "source": [
        "# Perceptrons"
      ]
    },
    {
      "cell_type": "markdown",
      "metadata": {
        "id": "d0EIL--GGTwY"
      },
      "source": [
        "**Note**: we set `max_iter` and `tol` explicitly to avoid warnings about the fact that their default value will change in future versions of Scikit-Learn."
      ]
    },
    {
      "cell_type": "code",
      "execution_count": 2,
      "metadata": {
        "colab": {
          "base_uri": "https://localhost:8080/"
        },
        "id": "s_yF0L8IGTwY",
        "outputId": "9a32d0ec-9398-424d-eb1d-c0f33609dce8"
      },
      "outputs": [
        {
          "output_type": "stream",
          "name": "stderr",
          "text": [
            "<ipython-input-2-d41b10f4d90b>:7: DeprecationWarning: `np.int` is a deprecated alias for the builtin `int`. To silence this warning, use `int` by itself. Doing this will not modify any behavior and is safe. When replacing `np.int`, you may wish to use e.g. `np.int64` or `np.int32` to specify the precision. If you wish to review your current use, check the release note link for additional information.\n",
            "Deprecated in NumPy 1.20; for more details and guidance: https://numpy.org/devdocs/release/1.20.0-notes.html#deprecations\n",
            "  y = (iris.target == 0).astype(np.int)\n"
          ]
        }
      ],
      "source": [
        "import numpy as np\n",
        "from sklearn.datasets import load_iris\n",
        "from sklearn.linear_model import Perceptron\n",
        "\n",
        "iris = load_iris()\n",
        "X = iris.data[:, (2, 3)]  # petal length, petal width\n",
        "y = (iris.target == 0).astype(np.int)\n",
        "\n",
        "per_clf = Perceptron(max_iter=1000, tol=1e-3, random_state=42)\n",
        "per_clf.fit(X, y)\n",
        "\n",
        "y_pred = per_clf.predict([[2, 0.5]])"
      ]
    },
    {
      "cell_type": "code",
      "execution_count": 3,
      "metadata": {
        "colab": {
          "base_uri": "https://localhost:8080/"
        },
        "id": "9EoLg9IwGTwY",
        "outputId": "686e0f66-ee38-42e3-93d0-3f742d6f19c4"
      },
      "outputs": [
        {
          "output_type": "execute_result",
          "data": {
            "text/plain": [
              "array([1])"
            ]
          },
          "metadata": {},
          "execution_count": 3
        }
      ],
      "source": [
        "y_pred"
      ]
    },
    {
      "cell_type": "code",
      "execution_count": 4,
      "metadata": {
        "colab": {
          "base_uri": "https://localhost:8080/",
          "height": 425
        },
        "id": "NpndiOqeGTwZ",
        "outputId": "07f8e697-9374-4cee-fc77-35feedea8609"
      },
      "outputs": [
        {
          "output_type": "stream",
          "name": "stdout",
          "text": [
            "Saving figure perceptron_iris_plot\n"
          ]
        },
        {
          "output_type": "display_data",
          "data": {
            "text/plain": [
              "<Figure size 1000x400 with 1 Axes>"
            ],
            "image/png": "[encoded data removed]"
          },
          "metadata": {}
        }
      ],
      "source": [
        "a = -per_clf.coef_[0][0] / per_clf.coef_[0][1]\n",
        "b = -per_clf.intercept_ / per_clf.coef_[0][1]\n",
        "\n",
        "axes = [0, 5, 0, 2]\n",
        "\n",
        "x0, x1 = np.meshgrid(\n",
        "        np.linspace(axes[0], axes[1], 500).reshape(-1, 1),\n",
        "        np.linspace(axes[2], axes[3], 200).reshape(-1, 1),\n",
        "    )\n",
        "X_new = np.c_[x0.ravel(), x1.ravel()]\n",
        "y_predict = per_clf.predict(X_new)\n",
        "zz = y_predict.reshape(x0.shape)\n",
        "\n",
        "plt.figure(figsize=(10, 4))\n",
        "plt.plot(X[y==0, 0], X[y==0, 1], \"bs\", label=\"Not Iris-Setosa\")\n",
        "plt.plot(X[y==1, 0], X[y==1, 1], \"yo\", label=\"Iris-Setosa\")\n",
        "\n",
        "plt.plot([axes[0], axes[1]], [a * axes[0] + b, a * axes[1] + b], \"k-\", linewidth=3)\n",
        "from matplotlib.colors import ListedColormap\n",
        "custom_cmap = ListedColormap(['#9898ff', '#fafab0'])\n",
        "\n",
        "plt.contourf(x0, x1, zz, cmap=custom_cmap)\n",
        "plt.xlabel(\"Petal length\", fontsize=14)\n",
        "plt.ylabel(\"Petal width\", fontsize=14)\n",
        "plt.legend(loc=\"lower right\", fontsize=14)\n",
        "plt.axis(axes)\n",
        "\n",
        "save_fig(\"perceptron_iris_plot\")\n",
        "plt.show()"
      ]
    },
    {
      "cell_type": "markdown",
      "metadata": {
        "id": "NqVhlGmvGTwZ"
      },
      "source": [
        "# Activation functions"
      ]
    },
    {
      "cell_type": "code",
      "execution_count": 5,
      "metadata": {
        "id": "BtNK-KxxGTwZ"
      },
      "outputs": [],
      "source": [
        "def sigmoid(z):\n",
        "    return 1 / (1 + np.exp(-z))\n",
        "\n",
        "def relu(z):\n",
        "    return np.maximum(0, z)\n",
        "\n",
        "def derivative(f, z, eps=0.000001):\n",
        "    return (f(z + eps) - f(z - eps))/(2 * eps)"
      ]
    },
    {
      "cell_type": "code",
      "execution_count": 6,
      "metadata": {
        "colab": {
          "base_uri": "https://localhost:8080/",
          "height": 425
        },
        "id": "K7Nh2isvGTwZ",
        "outputId": "88d4a704-9319-4ee7-b6fe-af8957df3f73"
      },
      "outputs": [
        {
          "output_type": "stream",
          "name": "stdout",
          "text": [
            "Saving figure activation_functions_plot\n"
          ]
        },
        {
          "output_type": "display_data",
          "data": {
            "text/plain": [
              "<Figure size 1100x400 with 2 Axes>"
            ],
            "image/png": "[encoded data removed]"
          },
          "metadata": {}
        }
      ],
      "source": [
        "z = np.linspace(-5, 5, 200)\n",
        "\n",
        "plt.figure(figsize=(11,4))\n",
        "\n",
        "plt.subplot(121)\n",
        "plt.plot(z, np.sign(z), \"r-\", linewidth=1, label=\"Step\")\n",
        "plt.plot(z, sigmoid(z), \"g--\", linewidth=2, label=\"Sigmoid\")\n",
        "plt.plot(z, np.tanh(z), \"b-\", linewidth=2, label=\"Tanh\")\n",
        "plt.plot(z, relu(z), \"m-.\", linewidth=2, label=\"ReLU\")\n",
        "plt.grid(True)\n",
        "plt.legend(loc=\"center right\", fontsize=14)\n",
        "plt.title(\"Activation functions\", fontsize=14)\n",
        "plt.axis([-5, 5, -1.2, 1.2])\n",
        "\n",
        "plt.subplot(122)\n",
        "plt.plot(z, derivative(np.sign, z), \"r-\", linewidth=1, label=\"Step\")\n",
        "plt.plot(0, 0, \"ro\", markersize=5)\n",
        "plt.plot(0, 0, \"rx\", markersize=10)\n",
        "plt.plot(z, derivative(sigmoid, z), \"g--\", linewidth=2, label=\"Sigmoid\")\n",
        "plt.plot(z, derivative(np.tanh, z), \"b-\", linewidth=2, label=\"Tanh\")\n",
        "plt.plot(z, derivative(relu, z), \"m-.\", linewidth=2, label=\"ReLU\")\n",
        "plt.grid(True)\n",
        "#plt.legend(loc=\"center right\", fontsize=14)\n",
        "plt.title(\"Derivatives\", fontsize=14)\n",
        "plt.axis([-5, 5, -0.2, 1.2])\n",
        "\n",
        "save_fig(\"activation_functions_plot\")\n",
        "plt.show()"
      ]
    },
    {
      "cell_type": "code",
      "execution_count": 7,
      "metadata": {
        "id": "2DsPkPX3GTwa"
      },
      "outputs": [],
      "source": [
        "def heaviside(z):\n",
        "    return (z >= 0).astype(z.dtype)\n",
        "\n",
        "def mlp_xor(x1, x2, activation=heaviside):\n",
        "    return activation(-activation(x1 + x2 - 1.5) + activation(x1 + x2 - 0.5) - 0.5)"
      ]
    },
    {
      "cell_type": "code",
      "execution_count": 8,
      "metadata": {
        "scrolled": true,
        "colab": {
          "base_uri": "https://localhost:8080/",
          "height": 396
        },
        "id": "FNQE_nItGTwa",
        "outputId": "17e292b5-2e70-4fc3-8764-5c954bef49d7"
      },
      "outputs": [
        {
          "output_type": "display_data",
          "data": {
            "text/plain": [
              "<Figure size 1000x400 with 2 Axes>"
            ],
            "image/png": "[encoded data removed]"
          },
          "metadata": {}
        }
      ],
      "source": [
        "x1s = np.linspace(-0.2, 1.2, 100)\n",
        "x2s = np.linspace(-0.2, 1.2, 100)\n",
        "x1, x2 = np.meshgrid(x1s, x2s)\n",
        "\n",
        "z1 = mlp_xor(x1, x2, activation=heaviside)\n",
        "z2 = mlp_xor(x1, x2, activation=sigmoid)\n",
        "\n",
        "plt.figure(figsize=(10,4))\n",
        "\n",
        "plt.subplot(121)\n",
        "plt.contourf(x1, x2, z1)\n",
        "plt.plot([0, 1], [0, 1], \"gs\", markersize=20)\n",
        "plt.plot([0, 1], [1, 0], \"y^\", markersize=20)\n",
        "plt.title(\"Activation function: heaviside\", fontsize=14)\n",
        "plt.grid(True)\n",
        "\n",
        "plt.subplot(122)\n",
        "plt.contourf(x1, x2, z2)\n",
        "plt.plot([0, 1], [0, 1], \"gs\", markersize=20)\n",
        "plt.plot([0, 1], [1, 0], \"y^\", markersize=20)\n",
        "plt.title(\"Activation function: sigmoid\", fontsize=14)\n",
        "plt.grid(True)"
      ]
    },
    {
      "cell_type": "markdown",
      "metadata": {
        "id": "r6e34uEkGTwa"
      },
      "source": [
        "# Building an Image Classifier"
      ]
    },
    {
      "cell_type": "markdown",
      "metadata": {
        "id": "m1V7ZuHuGTwa"
      },
      "source": [
        "First let's import TensorFlow and Keras."
      ]
    },
    {
      "cell_type": "code",
      "execution_count": 9,
      "metadata": {
        "id": "uMkPZ6qjGTwa"
      },
      "outputs": [],
      "source": [
        "import tensorflow as tf\n",
        "from tensorflow import keras"
      ]
    },
    {
      "cell_type": "markdown",
      "metadata": {
        "id": "dx2G5nH7GTwa"
      },
      "source": [
        "Let's start by loading the fashion MNIST dataset. Keras has a number of functions to load popular datasets in `keras.datasets`. The dataset is already split for you between a training set and a test set, but it can be useful to split the training set further to have a validation set:"
      ]
    },
    {
      "cell_type": "code",
      "execution_count": 10,
      "metadata": {
        "colab": {
          "base_uri": "https://localhost:8080/"
        },
        "id": "WvdTShTbGTwa",
        "outputId": "1e54ec0d-3a09-42cf-bd38-ec1579cc9055"
      },
      "outputs": [
        {
          "output_type": "stream",
          "name": "stdout",
          "text": [
            "Downloading data from https://storage.googleapis.com/tensorflow/tf-keras-datasets/train-labels-idx1-ubyte.gz\n",
            "29515/29515 [==============================] - 0s 1us/step\n",
            "Downloading data from https://storage.googleapis.com/tensorflow/tf-keras-datasets/train-images-idx3-ubyte.gz\n",
            "26421880/26421880 [==============================] - 2s 0us/step\n",
            "Downloading data from https://storage.googleapis.com/tensorflow/tf-keras-datasets/t10k-labels-idx1-ubyte.gz\n",
            "5148/5148 [==============================] - 0s 0us/step\n",
            "Downloading data from https://storage.googleapis.com/tensorflow/tf-keras-datasets/t10k-images-idx3-ubyte.gz\n",
            "4422102/4422102 [==============================] - 1s 0us/step\n"
          ]
        }
      ],
      "source": [
        "fashion_mnist = keras.datasets.fashion_mnist\n",
        "(X_train_full, y_train_full), (X_test, y_test) = fashion_mnist.load_data()"
      ]
    },
    {
      "cell_type": "markdown",
      "metadata": {
        "id": "MIgsiFkLGTwa"
      },
      "source": [
        "The training set contains 60,000 grayscale images, each 28x28 pixels:"
      ]
    },
    {
      "cell_type": "code",
      "execution_count": 11,
      "metadata": {
        "colab": {
          "base_uri": "https://localhost:8080/"
        },
        "id": "NF4uIYm7GTwb",
        "outputId": "3d9c43a1-0752-4f6f-e4bd-c38de8e63250"
      },
      "outputs": [
        {
          "output_type": "execute_result",
          "data": {
            "text/plain": [
              "(60000, 28, 28)"
            ]
          },
          "metadata": {},
          "execution_count": 11
        }
      ],
      "source": [
        "X_train_full.shape"
      ]
    },
    {
      "cell_type": "markdown",
      "metadata": {
        "id": "7EXLZHq8GTwb"
      },
      "source": [
        "Each pixel intensity is represented as a byte (0 to 255):"
      ]
    },
    {
      "cell_type": "code",
      "execution_count": 12,
      "metadata": {
        "colab": {
          "base_uri": "https://localhost:8080/"
        },
        "id": "sUQvCYPHGTwb",
        "outputId": "6aa8585e-10b0-45af-9f2d-7642c2defef2"
      },
      "outputs": [
        {
          "output_type": "execute_result",
          "data": {
            "text/plain": [
              "dtype('uint8')"
            ]
          },
          "metadata": {},
          "execution_count": 12
        }
      ],
      "source": [
        "X_train_full.dtype"
      ]
    },
    {
      "cell_type": "markdown",
      "metadata": {
        "id": "2lfMcREYGTwb"
      },
      "source": [
        "Let's split the full training set into a validation set and a (smaller) training set. We also scale the pixel intensities down to the 0-1 range and convert them to floats, by dividing by 255."
      ]
    },
    {
      "cell_type": "code",
      "execution_count": 13,
      "metadata": {
        "id": "d7La9WwCGTwb"
      },
      "outputs": [],
      "source": [
        "X_valid, X_train = X_train_full[:5000] / 255., X_train_full[5000:] / 255.\n",
        "y_valid, y_train = y_train_full[:5000], y_train_full[5000:]\n",
        "X_test = X_test / 255."
      ]
    },
    {
      "cell_type": "markdown",
      "metadata": {
        "id": "ExIaNXWfGTwb"
      },
      "source": [
        "You can plot an image using Matplotlib's `imshow()` function, with a `'binary'`\n",
        " color map:"
      ]
    },
    {
      "cell_type": "code",
      "execution_count": 14,
      "metadata": {
        "colab": {
          "base_uri": "https://localhost:8080/",
          "height": 406
        },
        "id": "1QHDpdS5GTwb",
        "outputId": "433989e3-b6b7-4452-e4b1-8c44e8003e71"
      },
      "outputs": [
        {
          "output_type": "display_data",
          "data": {
            "text/plain": [
              "<Figure size 640x480 with 1 Axes>"
            ],
            "image/png": "[encoded data removed]"
          },
          "metadata": {}
        }
      ],
      "source": [
        "plt.imshow(X_train[0], cmap=\"binary\")\n",
        "plt.axis('off')\n",
        "plt.show()"
      ]
    },
    {
      "cell_type": "markdown",
      "metadata": {
        "id": "LaUeJIs9GTwb"
      },
      "source": [
        "The labels are the class IDs (represented as uint8), from 0 to 9:"
      ]
    },
    {
      "cell_type": "code",
      "execution_count": 15,
      "metadata": {
        "colab": {
          "base_uri": "https://localhost:8080/"
        },
        "id": "Fz1SJ45jGTwb",
        "outputId": "6c43b116-bf9d-42d1-914b-519b4f1692c6"
      },
      "outputs": [
        {
          "output_type": "execute_result",
          "data": {
            "text/plain": [
              "array([4, 0, 7, ..., 3, 0, 5], dtype=uint8)"
            ]
          },
          "metadata": {},
          "execution_count": 15
        }
      ],
      "source": [
        "y_train"
      ]
    },
    {
      "cell_type": "markdown",
      "metadata": {
        "id": "TrYPYsaWGTwb"
      },
      "source": [
        "Here are the corresponding class names:"
      ]
    },
    {
      "cell_type": "code",
      "execution_count": 16,
      "metadata": {
        "id": "iKCmJhhxGTwb"
      },
      "outputs": [],
      "source": [
        "class_names = [\"T-shirt/top\", \"Trouser\", \"Pullover\", \"Dress\", \"Coat\",\n",
        "               \"Sandal\", \"Shirt\", \"Sneaker\", \"Bag\", \"Ankle boot\"]"
      ]
    },
    {
      "cell_type": "markdown",
      "metadata": {
        "id": "_BvIXxuiGTwb"
      },
      "source": [
        "So the first image in the training set is a coat:"
      ]
    },
    {
      "cell_type": "code",
      "execution_count": 17,
      "metadata": {
        "colab": {
          "base_uri": "https://localhost:8080/",
          "height": 35
        },
        "id": "sLW0uKwMGTwc",
        "outputId": "9661e64d-2eef-4570-a924-00773b193165"
      },
      "outputs": [
        {
          "output_type": "execute_result",
          "data": {
            "text/plain": [
              "'Coat'"
            ],
            "application/vnd.google.colaboratory.intrinsic+json": {
              "type": "string"
            }
          },
          "metadata": {},
          "execution_count": 17
        }
      ],
      "source": [
        "class_names[y_train[0]]"
      ]
    },
    {
      "cell_type": "markdown",
      "metadata": {
        "id": "4BLxmt52GTwc"
      },
      "source": [
        "The validation set contains 5,000 images, and the test set contains 10,000 images:"
      ]
    },
    {
      "cell_type": "code",
      "execution_count": 18,
      "metadata": {
        "colab": {
          "base_uri": "https://localhost:8080/"
        },
        "id": "Gt7eHwQFGTwc",
        "outputId": "238bab88-280e-410d-c300-065140dc95fe"
      },
      "outputs": [
        {
          "output_type": "execute_result",
          "data": {
            "text/plain": [
              "(5000, 28, 28)"
            ]
          },
          "metadata": {},
          "execution_count": 18
        }
      ],
      "source": [
        "X_valid.shape"
      ]
    },
    {
      "cell_type": "code",
      "execution_count": 19,
      "metadata": {
        "colab": {
          "base_uri": "https://localhost:8080/"
        },
        "id": "VdfjT-6kGTwc",
        "outputId": "b7dbc6be-5236-47ee-8b3d-f2adafa91d30"
      },
      "outputs": [
        {
          "output_type": "execute_result",
          "data": {
            "text/plain": [
              "(10000, 28, 28)"
            ]
          },
          "metadata": {},
          "execution_count": 19
        }
      ],
      "source": [
        "X_test.shape"
      ]
    },
    {
      "cell_type": "markdown",
      "metadata": {
        "id": "dLhbXH2RGTwn"
      },
      "source": [
        "Let's take a look at a sample of the images in the dataset:"
      ]
    },
    {
      "cell_type": "code",
      "execution_count": 20,
      "metadata": {
        "colab": {
          "base_uri": "https://localhost:8080/",
          "height": 446
        },
        "id": "ytxw2915GTwn",
        "outputId": "8df4afd9-52db-453d-8356-c8e25bfe5b28"
      },
      "outputs": [
        {
          "output_type": "stream",
          "name": "stdout",
          "text": [
            "Saving figure fashion_mnist_plot\n"
          ]
        },
        {
          "output_type": "display_data",
          "data": {
            "text/plain": [
              "<Figure size 1200x480 with 40 Axes>"
            ],
            "image/png": "[encoded data removed]"
          },
          "metadata": {}
        }
      ],
      "source": [
        "n_rows = 4\n",
        "n_cols = 10\n",
        "plt.figure(figsize=(n_cols * 1.2, n_rows * 1.2))\n",
        "for row in range(n_rows):\n",
        "    for col in range(n_cols):\n",
        "        index = n_cols * row + col\n",
        "        plt.subplot(n_rows, n_cols, index + 1)\n",
        "        plt.imshow(X_train[index], cmap=\"binary\", interpolation=\"nearest\")\n",
        "        plt.axis('off')\n",
        "        plt.title(class_names[y_train[index]], fontsize=12)\n",
        "plt.subplots_adjust(wspace=0.2, hspace=0.5)\n",
        "save_fig('fashion_mnist_plot', tight_layout=False)\n",
        "plt.show()"
      ]
    },
    {
      "cell_type": "code",
      "execution_count": 21,
      "metadata": {
        "id": "ygFd3c_MGTwn"
      },
      "outputs": [],
      "source": [
        "model = keras.models.Sequential()\n",
        "model.add(keras.layers.Flatten(input_shape=[28, 28]))\n",
        "model.add(keras.layers.Dense(300, activation=\"relu\"))\n",
        "model.add(keras.layers.Dense(100, activation=\"relu\"))\n",
        "model.add(keras.layers.Dense(10, activation=\"softmax\"))"
      ]
    },
    {
      "cell_type": "code",
      "execution_count": 22,
      "metadata": {
        "id": "gYyUGoucGTwn"
      },
      "outputs": [],
      "source": [
        "keras.backend.clear_session()\n",
        "np.random.seed(42)\n",
        "tf.random.set_seed(42)"
      ]
    },
    {
      "cell_type": "code",
      "execution_count": 23,
      "metadata": {
        "id": "BUrlyjEAGTwn"
      },
      "outputs": [],
      "source": [
        "model = keras.models.Sequential([\n",
        "    keras.layers.Flatten(input_shape=[28, 28]),\n",
        "    keras.layers.Dense(300, activation=\"relu\"),\n",
        "    keras.layers.Dense(100, activation=\"relu\"),\n",
        "    keras.layers.Dense(10, activation=\"softmax\")\n",
        "])"
      ]
    },
    {
      "cell_type": "code",
      "execution_count": 24,
      "metadata": {
        "colab": {
          "base_uri": "https://localhost:8080/"
        },
        "id": "_CgAfLRbGTwn",
        "outputId": "05239dd0-f8ab-404e-cc74-572df2f06bcb"
      },
      "outputs": [
        {
          "output_type": "execute_result",
          "data": {
            "text/plain": [
              "[<keras.src.layers.reshaping.flatten.Flatten at 0x7f8b40e22a70>,\n",
              " <keras.src.layers.core.dense.Dense at 0x7f8bee4489a0>,\n",
              " <keras.src.layers.core.dense.Dense at 0x7f8bee448eb0>,\n",
              " <keras.src.layers.core.dense.Dense at 0x7f8b5ff41990>]"
            ]
          },
          "metadata": {},
          "execution_count": 24
        }
      ],
      "source": [
        "model.layers"
      ]
    },
    {
      "cell_type": "code",
      "execution_count": 25,
      "metadata": {
        "colab": {
          "base_uri": "https://localhost:8080/"
        },
        "id": "AYgdYTaUGTwn",
        "outputId": "37bb4911-ee09-4550-a6db-9bb14ea22644"
      },
      "outputs": [
        {
          "output_type": "stream",
          "name": "stdout",
          "text": [
            "Model: \"sequential\"\n",
            "_________________________________________________________________\n",
            " Layer (type)                Output Shape              Param #   \n",
            "=================================================================\n",
            " flatten (Flatten)           (None, 784)               0         \n",
            "                                                                 \n",
            " dense (Dense)               (None, 300)               235500    \n",
            "                                                                 \n",
            " dense_1 (Dense)             (None, 100)               30100     \n",
            "                                                                 \n",
            " dense_2 (Dense)             (None, 10)                1010      \n",
            "                                                                 \n",
            "=================================================================\n",
            "Total params: 266610 (1.02 MB)\n",
            "Trainable params: 266610 (1.02 MB)\n",
            "Non-trainable params: 0 (0.00 Byte)\n",
            "_________________________________________________________________\n"
          ]
        }
      ],
      "source": [
        "model.summary()"
      ]
    },
    {
      "cell_type": "code",
      "execution_count": 26,
      "metadata": {
        "colab": {
          "base_uri": "https://localhost:8080/",
          "height": 533
        },
        "id": "_4hj8i1IGTwn",
        "outputId": "6cf269d2-8dcc-4f35-866b-9fab0452467d"
      },
      "outputs": [
        {
          "output_type": "execute_result",
          "data": {
            "image/png": "[encoded data removed]",
            "text/plain": [
              "<IPython.core.display.Image object>"
            ]
          },
          "metadata": {},
          "execution_count": 26
        }
      ],
      "source": [
        "keras.utils.plot_model(model, \"my_fashion_mnist_model.png\", show_shapes=True)"
      ]
    },
    {
      "cell_type": "code",
      "execution_count": 27,
      "metadata": {
        "colab": {
          "base_uri": "https://localhost:8080/",
          "height": 35
        },
        "id": "ReaK2gCsGTwn",
        "outputId": "fd81d2c5-1e4e-4f66-c157-06833043f37b"
      },
      "outputs": [
        {
          "output_type": "execute_result",
          "data": {
            "text/plain": [
              "'dense'"
            ],
            "application/vnd.google.colaboratory.intrinsic+json": {
              "type": "string"
            }
          },
          "metadata": {},
          "execution_count": 27
        }
      ],
      "source": [
        "hidden1 = model.layers[1]\n",
        "hidden1.name"
      ]
    },
    {
      "cell_type": "code",
      "execution_count": 28,
      "metadata": {
        "colab": {
          "base_uri": "https://localhost:8080/"
        },
        "id": "4RvkODhOGTwo",
        "outputId": "9098fbdd-c1c5-4d5b-fd88-83ef931cb0ab"
      },
      "outputs": [
        {
          "output_type": "execute_result",
          "data": {
            "text/plain": [
              "True"
            ]
          },
          "metadata": {},
          "execution_count": 28
        }
      ],
      "source": [
        "model.get_layer(hidden1.name) is hidden1"
      ]
    },
    {
      "cell_type": "code",
      "execution_count": 29,
      "metadata": {
        "id": "SOz4CwOqGTwo"
      },
      "outputs": [],
      "source": [
        "weights, biases = hidden1.get_weights()"
      ]
    },
    {
      "cell_type": "code",
      "execution_count": 30,
      "metadata": {
        "colab": {
          "base_uri": "https://localhost:8080/"
        },
        "id": "gB0-aA1OGTwo",
        "outputId": "37f8482f-9350-480f-efc5-e1af06124e41"
      },
      "outputs": [
        {
          "output_type": "execute_result",
          "data": {
            "text/plain": [
              "array([[ 0.03935182, -0.00568509,  0.04456134, ..., -0.04472144,\n",
              "         0.01385336, -0.06954481],\n",
              "       [ 0.05543537, -0.01577787,  0.01107065, ...,  0.03423309,\n",
              "        -0.07222459,  0.03757048],\n",
              "       [ 0.03643458,  0.05729105, -0.05816035, ...,  0.04279869,\n",
              "         0.04372298,  0.03418379],\n",
              "       ...,\n",
              "       [-0.03743792,  0.02169196, -0.04207996, ..., -0.06224807,\n",
              "        -0.05891868, -0.06371361],\n",
              "       [ 0.02111243, -0.01625327, -0.07298836, ...,  0.04305568,\n",
              "         0.02024416,  0.01879739],\n",
              "       [-0.03151266,  0.05980138,  0.01707587, ..., -0.06843361,\n",
              "        -0.05422036,  0.07326008]], dtype=float32)"
            ]
          },
          "metadata": {},
          "execution_count": 30
        }
      ],
      "source": [
        "weights"
      ]
    },
    {
      "cell_type": "code",
      "execution_count": 31,
      "metadata": {
        "colab": {
          "base_uri": "https://localhost:8080/"
        },
        "id": "wbAdZsPiGTwo",
        "outputId": "3b7bda95-adc9-4f50-e655-29a2cb9a8a1d"
      },
      "outputs": [
        {
          "output_type": "execute_result",
          "data": {
            "text/plain": [
              "(784, 300)"
            ]
          },
          "metadata": {},
          "execution_count": 31
        }
      ],
      "source": [
        "weights.shape"
      ]
    },
    {
      "cell_type": "code",
      "execution_count": 32,
      "metadata": {
        "colab": {
          "base_uri": "https://localhost:8080/"
        },
        "id": "QImSQbNqGTwo",
        "outputId": "f213cff6-9f17-46eb-d733-792c30383413"
      },
      "outputs": [
        {
          "output_type": "execute_result",
          "data": {
            "text/plain": [
              "array([0., 0., 0., 0., 0., 0., 0., 0., 0., 0., 0., 0., 0., 0., 0., 0., 0.,\n",
              "       0., 0., 0., 0., 0., 0., 0., 0., 0., 0., 0., 0., 0., 0., 0., 0., 0.,\n",
              "       0., 0., 0., 0., 0., 0., 0., 0., 0., 0., 0., 0., 0., 0., 0., 0., 0.,\n",
              "       0., 0., 0., 0., 0., 0., 0., 0., 0., 0., 0., 0., 0., 0., 0., 0., 0.,\n",
              "       0., 0., 0., 0., 0., 0., 0., 0., 0., 0., 0., 0., 0., 0., 0., 0., 0.,\n",
              "       0., 0., 0., 0., 0., 0., 0., 0., 0., 0., 0., 0., 0., 0., 0., 0., 0.,\n",
              "       0., 0., 0., 0., 0., 0., 0., 0., 0., 0., 0., 0., 0., 0., 0., 0., 0.,\n",
              "       0., 0., 0., 0., 0., 0., 0., 0., 0., 0., 0., 0., 0., 0., 0., 0., 0.,\n",
              "       0., 0., 0., 0., 0., 0., 0., 0., 0., 0., 0., 0., 0., 0., 0., 0., 0.,\n",
              "       0., 0., 0., 0., 0., 0., 0., 0., 0., 0., 0., 0., 0., 0., 0., 0., 0.,\n",
              "       0., 0., 0., 0., 0., 0., 0., 0., 0., 0., 0., 0., 0., 0., 0., 0., 0.,\n",
              "       0., 0., 0., 0., 0., 0., 0., 0., 0., 0., 0., 0., 0., 0., 0., 0., 0.,\n",
              "       0., 0., 0., 0., 0., 0., 0., 0., 0., 0., 0., 0., 0., 0., 0., 0., 0.,\n",
              "       0., 0., 0., 0., 0., 0., 0., 0., 0., 0., 0., 0., 0., 0., 0., 0., 0.,\n",
              "       0., 0., 0., 0., 0., 0., 0., 0., 0., 0., 0., 0., 0., 0., 0., 0., 0.,\n",
              "       0., 0., 0., 0., 0., 0., 0., 0., 0., 0., 0., 0., 0., 0., 0., 0., 0.,\n",
              "       0., 0., 0., 0., 0., 0., 0., 0., 0., 0., 0., 0., 0., 0., 0., 0., 0.,\n",
              "       0., 0., 0., 0., 0., 0., 0., 0., 0., 0., 0.], dtype=float32)"
            ]
          },
          "metadata": {},
          "execution_count": 32
        }
      ],
      "source": [
        "biases"
      ]
    },
    {
      "cell_type": "code",
      "execution_count": 33,
      "metadata": {
        "colab": {
          "base_uri": "https://localhost:8080/"
        },
        "id": "vot2iN6FGTwo",
        "outputId": "51a871a9-982c-482d-94c9-d157590fc797"
      },
      "outputs": [
        {
          "output_type": "execute_result",
          "data": {
            "text/plain": [
              "(300,)"
            ]
          },
          "metadata": {},
          "execution_count": 33
        }
      ],
      "source": [
        "biases.shape"
      ]
    },
    {
      "cell_type": "code",
      "execution_count": 34,
      "metadata": {
        "id": "PWNsYeUBGTwo"
      },
      "outputs": [],
      "source": [
        "model.compile(loss=\"sparse_categorical_crossentropy\",\n",
        "              optimizer=\"sgd\",\n",
        "              metrics=[\"accuracy\"])"
      ]
    },
    {
      "cell_type": "markdown",
      "metadata": {
        "id": "Zu7sfp-uGTwo"
      },
      "source": [
        "This is equivalent to:"
      ]
    },
    {
      "cell_type": "markdown",
      "metadata": {
        "id": "EhtNcCwOGTwo"
      },
      "source": [
        "```python\n",
        "model.compile(loss=keras.losses.sparse_categorical_crossentropy,\n",
        "              optimizer=keras.optimizers.SGD(),\n",
        "              metrics=[keras.metrics.sparse_categorical_accuracy])\n",
        "```"
      ]
    },
    {
      "cell_type": "code",
      "execution_count": 35,
      "metadata": {
        "colab": {
          "base_uri": "https://localhost:8080/"
        },
        "id": "_orz6o5vGTwo",
        "outputId": "1180c569-4046-4093-d685-bdb077bd2050"
      },
      "outputs": [
        {
          "output_type": "stream",
          "name": "stdout",
          "text": [
            "Epoch 1/30\n",
            "1719/1719 [==============================] - 19s 10ms/step - loss: 0.7172 - accuracy: 0.7654 - val_loss: 0.5257 - val_accuracy: 0.8222\n",
            "Epoch 2/30\n",
            "1719/1719 [==============================] - 10s 6ms/step - loss: 0.4867 - accuracy: 0.8291 - val_loss: 0.4352 - val_accuracy: 0.8508\n",
            "Epoch 3/30\n",
            "1719/1719 [==============================] - 11s 7ms/step - loss: 0.4410 - accuracy: 0.8448 - val_loss: 0.5488 - val_accuracy: 0.7922\n",
            "Epoch 4/30\n",
            "1719/1719 [==============================] - 11s 6ms/step - loss: 0.4148 - accuracy: 0.8549 - val_loss: 0.3968 - val_accuracy: 0.8646\n",
            "Epoch 5/30\n",
            "1719/1719 [==============================] - 10s 6ms/step - loss: 0.3956 - accuracy: 0.8614 - val_loss: 0.3787 - val_accuracy: 0.8656\n",
            "Epoch 6/30\n",
            "1719/1719 [==============================] - 11s 6ms/step - loss: 0.3773 - accuracy: 0.8669 - val_loss: 0.3742 - val_accuracy: 0.8740\n",
            "Epoch 7/30\n",
            "1719/1719 [==============================] - 11s 6ms/step - loss: 0.3648 - accuracy: 0.8709 - val_loss: 0.3698 - val_accuracy: 0.8744\n",
            "Epoch 8/30\n",
            "1719/1719 [==============================] - 10s 6ms/step - loss: 0.3533 - accuracy: 0.8744 - val_loss: 0.3843 - val_accuracy: 0.8650\n",
            "Epoch 9/30\n",
            "1719/1719 [==============================] - 9s 5ms/step - loss: 0.3423 - accuracy: 0.8794 - val_loss: 0.3567 - val_accuracy: 0.8688\n",
            "Epoch 10/30\n",
            "1719/1719 [==============================] - 11s 6ms/step - loss: 0.3326 - accuracy: 0.8822 - val_loss: 0.3435 - val_accuracy: 0.8790\n",
            "Epoch 11/30\n",
            "1719/1719 [==============================] - 11s 6ms/step - loss: 0.3239 - accuracy: 0.8847 - val_loss: 0.3456 - val_accuracy: 0.8804\n",
            "Epoch 12/30\n",
            "1719/1719 [==============================] - 12s 7ms/step - loss: 0.3151 - accuracy: 0.8875 - val_loss: 0.3337 - val_accuracy: 0.8802\n",
            "Epoch 13/30\n",
            "1719/1719 [==============================] - 11s 6ms/step - loss: 0.3077 - accuracy: 0.8906 - val_loss: 0.3302 - val_accuracy: 0.8854\n",
            "Epoch 14/30\n",
            "1719/1719 [==============================] - 11s 6ms/step - loss: 0.3015 - accuracy: 0.8915 - val_loss: 0.3490 - val_accuracy: 0.8736\n",
            "Epoch 15/30\n",
            "1719/1719 [==============================] - 9s 6ms/step - loss: 0.2934 - accuracy: 0.8945 - val_loss: 0.3316 - val_accuracy: 0.8802\n",
            "Epoch 16/30\n",
            "1719/1719 [==============================] - 11s 6ms/step - loss: 0.2884 - accuracy: 0.8975 - val_loss: 0.3105 - val_accuracy: 0.8896\n",
            "Epoch 17/30\n",
            "1719/1719 [==============================] - 11s 6ms/step - loss: 0.2827 - accuracy: 0.8972 - val_loss: 0.3501 - val_accuracy: 0.8742\n",
            "Epoch 18/30\n",
            "1719/1719 [==============================] - 10s 6ms/step - loss: 0.2769 - accuracy: 0.9006 - val_loss: 0.3167 - val_accuracy: 0.8886\n",
            "Epoch 19/30\n",
            "1719/1719 [==============================] - 11s 6ms/step - loss: 0.2721 - accuracy: 0.9023 - val_loss: 0.3109 - val_accuracy: 0.8890\n",
            "Epoch 20/30\n",
            "1719/1719 [==============================] - 9s 5ms/step - loss: 0.2665 - accuracy: 0.9043 - val_loss: 0.3221 - val_accuracy: 0.8836\n",
            "Epoch 21/30\n",
            "1719/1719 [==============================] - 10s 6ms/step - loss: 0.2616 - accuracy: 0.9055 - val_loss: 0.3029 - val_accuracy: 0.8906\n",
            "Epoch 22/30\n",
            "1719/1719 [==============================] - 10s 6ms/step - loss: 0.2566 - accuracy: 0.9074 - val_loss: 0.2967 - val_accuracy: 0.8940\n",
            "Epoch 23/30\n",
            "1719/1719 [==============================] - 10s 6ms/step - loss: 0.2521 - accuracy: 0.9105 - val_loss: 0.3041 - val_accuracy: 0.8930\n",
            "Epoch 24/30\n",
            "1719/1719 [==============================] - 10s 6ms/step - loss: 0.2481 - accuracy: 0.9104 - val_loss: 0.3054 - val_accuracy: 0.8902\n",
            "Epoch 25/30\n",
            "1719/1719 [==============================] - 10s 6ms/step - loss: 0.2434 - accuracy: 0.9121 - val_loss: 0.3061 - val_accuracy: 0.8916\n",
            "Epoch 26/30\n",
            "1719/1719 [==============================] - 10s 6ms/step - loss: 0.2392 - accuracy: 0.9144 - val_loss: 0.3047 - val_accuracy: 0.8916\n",
            "Epoch 27/30\n",
            "1719/1719 [==============================] - 10s 6ms/step - loss: 0.2360 - accuracy: 0.9157 - val_loss: 0.2961 - val_accuracy: 0.8952\n",
            "Epoch 28/30\n",
            "1719/1719 [==============================] - 11s 6ms/step - loss: 0.2322 - accuracy: 0.9161 - val_loss: 0.3002 - val_accuracy: 0.8948\n",
            "Epoch 29/30\n",
            "1719/1719 [==============================] - 10s 6ms/step - loss: 0.2276 - accuracy: 0.9182 - val_loss: 0.3092 - val_accuracy: 0.8914\n",
            "Epoch 30/30\n",
            "1719/1719 [==============================] - 10s 6ms/step - loss: 0.2244 - accuracy: 0.9199 - val_loss: 0.3034 - val_accuracy: 0.8932\n"
          ]
        }
      ],
      "source": [
        "history = model.fit(X_train, y_train, epochs=30,\n",
        "                    validation_data=(X_valid, y_valid))"
      ]
    },
    {
      "cell_type": "code",
      "execution_count": 36,
      "metadata": {
        "colab": {
          "base_uri": "https://localhost:8080/"
        },
        "id": "pAqFzFV3GTwo",
        "outputId": "6b106f05-056c-4d80-e53c-62402af86b8f"
      },
      "outputs": [
        {
          "output_type": "execute_result",
          "data": {
            "text/plain": [
              "{'verbose': 1, 'epochs': 30, 'steps': 1719}"
            ]
          },
          "metadata": {},
          "execution_count": 36
        }
      ],
      "source": [
        "history.params"
      ]
    },
    {
      "cell_type": "code",
      "execution_count": 37,
      "metadata": {
        "colab": {
          "base_uri": "https://localhost:8080/"
        },
        "id": "tCsqOcZgGTwo",
        "outputId": "dd6c5877-6eaf-466f-8299-6b95fc87b41a"
      },
      "outputs": [
        {
          "output_type": "stream",
          "name": "stdout",
          "text": [
            "[0, 1, 2, 3, 4, 5, 6, 7, 8, 9, 10, 11, 12, 13, 14, 15, 16, 17, 18, 19, 20, 21, 22, 23, 24, 25, 26, 27, 28, 29]\n"
          ]
        }
      ],
      "source": [
        "print(history.epoch)"
      ]
    },
    {
      "cell_type": "code",
      "execution_count": 38,
      "metadata": {
        "colab": {
          "base_uri": "https://localhost:8080/"
        },
        "id": "l5Y2QgVwGTwo",
        "outputId": "3ddf371b-81fb-4334-87f2-8c2032ebda18"
      },
      "outputs": [
        {
          "output_type": "execute_result",
          "data": {
            "text/plain": [
              "dict_keys(['loss', 'accuracy', 'val_loss', 'val_accuracy'])"
            ]
          },
          "metadata": {},
          "execution_count": 38
        }
      ],
      "source": [
        "history.history.keys()"
      ]
    },
    {
      "cell_type": "code",
      "execution_count": 39,
      "metadata": {
        "colab": {
          "base_uri": "https://localhost:8080/",
          "height": 525
        },
        "id": "IDvuwNZKGTwo",
        "outputId": "0c29ff31-0540-48c0-b477-58f94822eef8"
      },
      "outputs": [
        {
          "output_type": "stream",
          "name": "stdout",
          "text": [
            "Saving figure keras_learning_curves_plot\n"
          ]
        },
        {
          "output_type": "display_data",
          "data": {
            "text/plain": [
              "<Figure size 800x500 with 1 Axes>"
            ],
            "image/png": "[encoded data removed]"
          },
          "metadata": {}
        }
      ],
      "source": [
        "import pandas as pd\n",
        "\n",
        "pd.DataFrame(history.history).plot(figsize=(8, 5))\n",
        "plt.grid(True)\n",
        "plt.gca().set_ylim(0, 1)\n",
        "save_fig(\"keras_learning_curves_plot\")\n",
        "plt.show()"
      ]
    },
    {
      "cell_type": "code",
      "execution_count": 40,
      "metadata": {
        "colab": {
          "base_uri": "https://localhost:8080/"
        },
        "id": "ZBBq4EjiGTwp",
        "outputId": "d338b8a0-25cc-4c1e-864b-8904f434d663"
      },
      "outputs": [
        {
          "output_type": "stream",
          "name": "stdout",
          "text": [
            "313/313 [==============================] - 1s 4ms/step - loss: 0.3364 - accuracy: 0.8806\n"
          ]
        },
        {
          "output_type": "execute_result",
          "data": {
            "text/plain": [
              "[0.3364318013191223, 0.8805999755859375]"
            ]
          },
          "metadata": {},
          "execution_count": 40
        }
      ],
      "source": [
        "model.evaluate(X_test, y_test)"
      ]
    },
    {
      "cell_type": "code",
      "execution_count": 41,
      "metadata": {
        "colab": {
          "base_uri": "https://localhost:8080/"
        },
        "id": "BZz18x0fGTwp",
        "outputId": "10549ad6-4124-4719-a920-d58251408304"
      },
      "outputs": [
        {
          "output_type": "stream",
          "name": "stdout",
          "text": [
            "1/1 [==============================] - 0s 104ms/step\n"
          ]
        },
        {
          "output_type": "execute_result",
          "data": {
            "text/plain": [
              "array([[0.  , 0.  , 0.  , 0.  , 0.  , 0.02, 0.  , 0.04, 0.  , 0.95],\n",
              "       [0.  , 0.  , 0.99, 0.  , 0.01, 0.  , 0.  , 0.  , 0.  , 0.  ],\n",
              "       [0.  , 1.  , 0.  , 0.  , 0.  , 0.  , 0.  , 0.  , 0.  , 0.  ]],\n",
              "      dtype=float32)"
            ]
          },
          "metadata": {},
          "execution_count": 41
        }
      ],
      "source": [
        "X_new = X_test[:3]\n",
        "y_proba = model.predict(X_new)\n",
        "y_proba.round(2)"
      ]
    },
    {
      "cell_type": "markdown",
      "metadata": {
        "id": "jBobvSiLGTwp"
      },
      "source": [
        "**Warning**: `model.predict_classes(X_new)` is deprecated. It is replaced with `np.argmax(model.predict(X_new), axis=-1)`."
      ]
    },
    {
      "cell_type": "code",
      "execution_count": 42,
      "metadata": {
        "colab": {
          "base_uri": "https://localhost:8080/"
        },
        "id": "a98cvpJzGTwp",
        "outputId": "d5cec44a-c106-4dd3-aa76-ca8a44bc5e75"
      },
      "outputs": [
        {
          "output_type": "stream",
          "name": "stdout",
          "text": [
            "1/1 [==============================] - 0s 22ms/step\n"
          ]
        },
        {
          "output_type": "execute_result",
          "data": {
            "text/plain": [
              "array([9, 2, 1])"
            ]
          },
          "metadata": {},
          "execution_count": 42
        }
      ],
      "source": [
        "#y_pred = model.predict_classes(X_new) # deprecated\n",
        "y_pred = np.argmax(model.predict(X_new), axis=-1)\n",
        "y_pred"
      ]
    },
    {
      "cell_type": "code",
      "execution_count": 43,
      "metadata": {
        "colab": {
          "base_uri": "https://localhost:8080/"
        },
        "id": "ewI_uqfwGTwp",
        "outputId": "2cc5d8d1-01bc-482f-c5e1-3ac8f86d2f28"
      },
      "outputs": [
        {
          "output_type": "execute_result",
          "data": {
            "text/plain": [
              "array(['Ankle boot', 'Pullover', 'Trouser'], dtype='<U11')"
            ]
          },
          "metadata": {},
          "execution_count": 43
        }
      ],
      "source": [
        "np.array(class_names)[y_pred]"
      ]
    },
    {
      "cell_type": "code",
      "execution_count": 44,
      "metadata": {
        "colab": {
          "base_uri": "https://localhost:8080/"
        },
        "id": "kaUZJbCAGTwp",
        "outputId": "90eb7f1e-10fa-4887-9824-68efc9828435"
      },
      "outputs": [
        {
          "output_type": "execute_result",
          "data": {
            "text/plain": [
              "array([9, 2, 1], dtype=uint8)"
            ]
          },
          "metadata": {},
          "execution_count": 44
        }
      ],
      "source": [
        "y_new = y_test[:3]\n",
        "y_new"
      ]
    },
    {
      "cell_type": "code",
      "execution_count": 45,
      "metadata": {
        "colab": {
          "base_uri": "https://localhost:8080/",
          "height": 241
        },
        "id": "lusZVVBWGTwp",
        "outputId": "50c7edfc-cb01-42b5-e9f8-0c5df14712a6"
      },
      "outputs": [
        {
          "output_type": "stream",
          "name": "stdout",
          "text": [
            "Saving figure fashion_mnist_images_plot\n"
          ]
        },
        {
          "output_type": "display_data",
          "data": {
            "text/plain": [
              "<Figure size 720x240 with 3 Axes>"
            ],
            "image/png": "[encoded data removed]"
          },
          "metadata": {}
        }
      ],
      "source": [
        "plt.figure(figsize=(7.2, 2.4))\n",
        "for index, image in enumerate(X_new):\n",
        "    plt.subplot(1, 3, index + 1)\n",
        "    plt.imshow(image, cmap=\"binary\", interpolation=\"nearest\")\n",
        "    plt.axis('off')\n",
        "    plt.title(class_names[y_test[index]], fontsize=12)\n",
        "plt.subplots_adjust(wspace=0.2, hspace=0.5)\n",
        "save_fig('fashion_mnist_images_plot', tight_layout=False)\n",
        "plt.show()"
      ]
    },
    {
      "cell_type": "markdown",
      "metadata": {
        "id": "sqK9e3zKGTwp"
      },
      "source": [
        "# Regression MLP"
      ]
    },
    {
      "cell_type": "markdown",
      "metadata": {
        "id": "3G026mrQGTwp"
      },
      "source": [
        "Let's load, split and scale the California housing dataset (the original one, not the modified one as in chapter 2):"
      ]
    },
    {
      "cell_type": "code",
      "execution_count": 46,
      "metadata": {
        "id": "PePCgqkJGTwp"
      },
      "outputs": [],
      "source": [
        "from sklearn.datasets import fetch_california_housing\n",
        "from sklearn.model_selection import train_test_split\n",
        "from sklearn.preprocessing import StandardScaler\n",
        "\n",
        "housing = fetch_california_housing()\n",
        "\n",
        "X_train_full, X_test, y_train_full, y_test = train_test_split(housing.data, housing.target, random_state=42)\n",
        "X_train, X_valid, y_train, y_valid = train_test_split(X_train_full, y_train_full, random_state=42)\n",
        "\n",
        "scaler = StandardScaler()\n",
        "X_train = scaler.fit_transform(X_train)\n",
        "X_valid = scaler.transform(X_valid)\n",
        "X_test = scaler.transform(X_test)"
      ]
    },
    {
      "cell_type": "code",
      "execution_count": 47,
      "metadata": {
        "id": "bKeXEaliGTwp"
      },
      "outputs": [],
      "source": [
        "np.random.seed(42)\n",
        "tf.random.set_seed(42)"
      ]
    },
    {
      "cell_type": "code",
      "execution_count": 48,
      "metadata": {
        "colab": {
          "base_uri": "https://localhost:8080/"
        },
        "id": "AnInZRmtGTwp",
        "outputId": "cf431d4e-4f45-4508-c6bd-674b5d4144e2"
      },
      "outputs": [
        {
          "output_type": "stream",
          "name": "stdout",
          "text": [
            "Epoch 1/20\n",
            "363/363 [==============================] - 2s 3ms/step - loss: 1.7761 - val_loss: 0.9646\n",
            "Epoch 2/20\n",
            "363/363 [==============================] - 1s 3ms/step - loss: 0.7924 - val_loss: 0.7631\n",
            "Epoch 3/20\n",
            "363/363 [==============================] - 1s 3ms/step - loss: 0.7117 - val_loss: 0.6392\n",
            "Epoch 4/20\n",
            "363/363 [==============================] - 1s 3ms/step - loss: 0.6532 - val_loss: 0.5953\n",
            "Epoch 5/20\n",
            "363/363 [==============================] - 1s 4ms/step - loss: 0.6124 - val_loss: 0.5735\n",
            "Epoch 6/20\n",
            "363/363 [==============================] - 1s 4ms/step - loss: 0.5792 - val_loss: 0.5258\n",
            "Epoch 7/20\n",
            "363/363 [==============================] - 1s 3ms/step - loss: 0.5543 - val_loss: 0.5109\n",
            "Epoch 8/20\n",
            "363/363 [==============================] - 1s 3ms/step - loss: 0.5342 - val_loss: 0.5042\n",
            "Epoch 9/20\n",
            "363/363 [==============================] - 1s 3ms/step - loss: 0.5159 - val_loss: 0.4739\n",
            "Epoch 10/20\n",
            "363/363 [==============================] - 1s 3ms/step - loss: 0.5014 - val_loss: 0.4605\n",
            "Epoch 11/20\n",
            "363/363 [==============================] - 1s 3ms/step - loss: 0.4895 - val_loss: 0.4950\n",
            "Epoch 12/20\n",
            "363/363 [==============================] - 1s 3ms/step - loss: 0.4788 - val_loss: 0.4409\n",
            "Epoch 13/20\n",
            "363/363 [==============================] - 1s 3ms/step - loss: 0.4701 - val_loss: 0.4422\n",
            "Epoch 14/20\n",
            "363/363 [==============================] - 1s 3ms/step - loss: 0.4623 - val_loss: 0.4357\n",
            "Epoch 15/20\n",
            "363/363 [==============================] - 1s 3ms/step - loss: 0.4557 - val_loss: 0.4355\n",
            "Epoch 16/20\n",
            "363/363 [==============================] - 1s 4ms/step - loss: 0.4498 - val_loss: 0.4224\n",
            "Epoch 17/20\n",
            "363/363 [==============================] - 2s 5ms/step - loss: 0.4445 - val_loss: 0.4381\n",
            "Epoch 18/20\n",
            "363/363 [==============================] - 1s 3ms/step - loss: 0.4404 - val_loss: 0.4493\n",
            "Epoch 19/20\n",
            "363/363 [==============================] - 1s 3ms/step - loss: 0.4361 - val_loss: 0.4155\n",
            "Epoch 20/20\n",
            "363/363 [==============================] - 1s 3ms/step - loss: 0.4325 - val_loss: 0.4449\n",
            "162/162 [==============================] - 1s 3ms/step - loss: 0.4192\n",
            "1/1 [==============================] - 0s 95ms/step\n"
          ]
        }
      ],
      "source": [
        "model = keras.models.Sequential([\n",
        "    keras.layers.Dense(30, activation=\"relu\", input_shape=X_train.shape[1:]),\n",
        "    keras.layers.Dense(1)\n",
        "])\n",
        "model.compile(loss=\"mean_squared_error\", optimizer=keras.optimizers.SGD(learning_rate=1e-3))\n",
        "history = model.fit(X_train, y_train, epochs=20, validation_data=(X_valid, y_valid))\n",
        "mse_test = model.evaluate(X_test, y_test)\n",
        "X_new = X_test[:3]\n",
        "y_pred = model.predict(X_new)"
      ]
    },
    {
      "cell_type": "code",
      "execution_count": 49,
      "metadata": {
        "colab": {
          "base_uri": "https://localhost:8080/",
          "height": 441
        },
        "id": "uVyDMazKGTwp",
        "outputId": "4a668f78-b9a8-46cc-c95e-b871cf815f10"
      },
      "outputs": [
        {
          "output_type": "display_data",
          "data": {
            "text/plain": [
              "<Figure size 640x480 with 1 Axes>"
            ],
            "image/png": "[encoded data removed]"
          },
          "metadata": {}
        }
      ],
      "source": [
        "plt.plot(pd.DataFrame(history.history))\n",
        "plt.grid(True)\n",
        "plt.gca().set_ylim(0, 1)\n",
        "plt.show()"
      ]
    },
    {
      "cell_type": "code",
      "execution_count": 50,
      "metadata": {
        "colab": {
          "base_uri": "https://localhost:8080/"
        },
        "id": "k0GL5YeqGTwp",
        "outputId": "6998967e-8a5a-4888-9f75-8a910f3578c9"
      },
      "outputs": [
        {
          "output_type": "execute_result",
          "data": {
            "text/plain": [
              "array([[0.47419828],\n",
              "       [1.579495  ],\n",
              "       [3.4017353 ]], dtype=float32)"
            ]
          },
          "metadata": {},
          "execution_count": 50
        }
      ],
      "source": [
        "y_pred"
      ]
    },
    {
      "cell_type": "markdown",
      "metadata": {
        "id": "9nY34MvnGTwq"
      },
      "source": [
        "# Functional API"
      ]
    },
    {
      "cell_type": "markdown",
      "metadata": {
        "id": "5wpiUCtTGTwq"
      },
      "source": [
        "Not all neural network models are simply sequential. Some may have complex topologies. Some may have multiple inputs and/or multiple outputs. For example, a Wide & Deep neural network (see [paper](https://ai.google/research/pubs/pub45413)) connects all or part of the inputs directly to the output layer."
      ]
    },
    {
      "cell_type": "code",
      "execution_count": 51,
      "metadata": {
        "id": "EMVnTKc1GTwq"
      },
      "outputs": [],
      "source": [
        "np.random.seed(42)\n",
        "tf.random.set_seed(42)"
      ]
    },
    {
      "cell_type": "code",
      "execution_count": 52,
      "metadata": {
        "id": "jSpPxy_vGTwq"
      },
      "outputs": [],
      "source": [
        "input_ = keras.layers.Input(shape=X_train.shape[1:])\n",
        "hidden1 = keras.layers.Dense(30, activation=\"relu\")(input_)\n",
        "hidden2 = keras.layers.Dense(30, activation=\"relu\")(hidden1)\n",
        "concat = keras.layers.concatenate([input_, hidden2])\n",
        "output = keras.layers.Dense(1)(concat)\n",
        "model = keras.models.Model(inputs=[input_], outputs=[output])"
      ]
    },
    {
      "cell_type": "code",
      "execution_count": 53,
      "metadata": {
        "colab": {
          "base_uri": "https://localhost:8080/"
        },
        "id": "XC5Qadw9GTwq",
        "outputId": "162913ff-29a8-4548-e89d-11724fe372ed"
      },
      "outputs": [
        {
          "output_type": "stream",
          "name": "stdout",
          "text": [
            "Model: \"model\"\n",
            "__________________________________________________________________________________________________\n",
            " Layer (type)                Output Shape                 Param #   Connected to                  \n",
            "==================================================================================================\n",
            " input_1 (InputLayer)        [(None, 8)]                  0         []                            \n",
            "                                                                                                  \n",
            " dense_5 (Dense)             (None, 30)                   270       ['input_1[0][0]']             \n",
            "                                                                                                  \n",
            " dense_6 (Dense)             (None, 30)                   930       ['dense_5[0][0]']             \n",
            "                                                                                                  \n",
            " concatenate (Concatenate)   (None, 38)                   0         ['input_1[0][0]',             \n",
            "                                                                     'dense_6[0][0]']             \n",
            "                                                                                                  \n",
            " dense_7 (Dense)             (None, 1)                    39        ['concatenate[0][0]']         \n",
            "                                                                                                  \n",
            "==================================================================================================\n",
            "Total params: 1239 (4.84 KB)\n",
            "Trainable params: 1239 (4.84 KB)\n",
            "Non-trainable params: 0 (0.00 Byte)\n",
            "__________________________________________________________________________________________________\n"
          ]
        }
      ],
      "source": [
        "model.summary()"
      ]
    },
    {
      "cell_type": "code",
      "execution_count": 54,
      "metadata": {
        "colab": {
          "base_uri": "https://localhost:8080/"
        },
        "id": "c1d6EmkuGTwq",
        "outputId": "f33afe76-035d-42a2-d2ea-3a52c768758f"
      },
      "outputs": [
        {
          "output_type": "stream",
          "name": "stdout",
          "text": [
            "Epoch 1/20\n",
            "363/363 [==============================] - 3s 4ms/step - loss: 1.7020 - val_loss: 1.2122\n",
            "Epoch 2/20\n",
            "363/363 [==============================] - 1s 3ms/step - loss: 0.6486 - val_loss: 0.5983\n",
            "Epoch 3/20\n",
            "363/363 [==============================] - 1s 3ms/step - loss: 0.5829 - val_loss: 0.5413\n",
            "Epoch 4/20\n",
            "363/363 [==============================] - 1s 3ms/step - loss: 0.5437 - val_loss: 0.5391\n",
            "Epoch 5/20\n",
            "363/363 [==============================] - 1s 3ms/step - loss: 0.5169 - val_loss: 0.5010\n",
            "Epoch 6/20\n",
            "363/363 [==============================] - 1s 3ms/step - loss: 0.4920 - val_loss: 0.4686\n",
            "Epoch 7/20\n",
            "363/363 [==============================] - 1s 3ms/step - loss: 0.4757 - val_loss: 0.4400\n",
            "Epoch 8/20\n",
            "363/363 [==============================] - 1s 3ms/step - loss: 0.4618 - val_loss: 0.4465\n",
            "Epoch 9/20\n",
            "363/363 [==============================] - 1s 4ms/step - loss: 0.4499 - val_loss: 0.4292\n",
            "Epoch 10/20\n",
            "363/363 [==============================] - 2s 4ms/step - loss: 0.4407 - val_loss: 0.4099\n",
            "Epoch 11/20\n",
            "363/363 [==============================] - 1s 4ms/step - loss: 0.4325 - val_loss: 0.4373\n",
            "Epoch 12/20\n",
            "363/363 [==============================] - 1s 3ms/step - loss: 0.4258 - val_loss: 0.4012\n",
            "Epoch 13/20\n",
            "363/363 [==============================] - 1s 3ms/step - loss: 0.4201 - val_loss: 0.4146\n",
            "Epoch 14/20\n",
            "363/363 [==============================] - 1s 3ms/step - loss: 0.4154 - val_loss: 0.3908\n",
            "Epoch 15/20\n",
            "363/363 [==============================] - 1s 3ms/step - loss: 0.4110 - val_loss: 0.4252\n",
            "Epoch 16/20\n",
            "363/363 [==============================] - 1s 3ms/step - loss: 0.4072 - val_loss: 0.3808\n",
            "Epoch 17/20\n",
            "363/363 [==============================] - 1s 3ms/step - loss: 0.4038 - val_loss: 0.4318\n",
            "Epoch 18/20\n",
            "363/363 [==============================] - 1s 3ms/step - loss: 0.4008 - val_loss: 0.4054\n",
            "Epoch 19/20\n",
            "363/363 [==============================] - 1s 4ms/step - loss: 0.3972 - val_loss: 0.3835\n",
            "Epoch 20/20\n",
            "363/363 [==============================] - 2s 4ms/step - loss: 0.3949 - val_loss: 0.4493\n",
            "162/162 [==============================] - 0s 3ms/step - loss: 0.3922\n",
            "1/1 [==============================] - 0s 77ms/step\n"
          ]
        }
      ],
      "source": [
        "model.compile(loss=\"mean_squared_error\", optimizer=keras.optimizers.SGD(learning_rate=1e-3))\n",
        "history = model.fit(X_train, y_train, epochs=20,\n",
        "                    validation_data=(X_valid, y_valid))\n",
        "mse_test = model.evaluate(X_test, y_test)\n",
        "y_pred = model.predict(X_new)"
      ]
    },
    {
      "cell_type": "markdown",
      "metadata": {
        "id": "UKV5w1trGTwq"
      },
      "source": [
        "What if you want to send different subsets of input features through the wide or deep paths? We will send 5 features (features 0 to 4), and 6 through the deep path (features 2 to 7). Note that 3 features will go through both (features 2, 3 and 4)."
      ]
    },
    {
      "cell_type": "code",
      "execution_count": 55,
      "metadata": {
        "id": "mtV7xbUaGTwq"
      },
      "outputs": [],
      "source": [
        "np.random.seed(42)\n",
        "tf.random.set_seed(42)"
      ]
    },
    {
      "cell_type": "code",
      "execution_count": 56,
      "metadata": {
        "id": "D2ZZ3w86GTwq"
      },
      "outputs": [],
      "source": [
        "input_A = keras.layers.Input(shape=[5], name=\"wide_input\")\n",
        "input_B = keras.layers.Input(shape=[6], name=\"deep_input\")\n",
        "hidden1 = keras.layers.Dense(30, activation=\"relu\")(input_B)\n",
        "hidden2 = keras.layers.Dense(30, activation=\"relu\")(hidden1)\n",
        "concat = keras.layers.concatenate([input_A, hidden2])\n",
        "output = keras.layers.Dense(1, name=\"output\")(concat)\n",
        "model = keras.models.Model(inputs=[input_A, input_B], outputs=[output])"
      ]
    },
    {
      "cell_type": "code",
      "execution_count": 57,
      "metadata": {
        "colab": {
          "base_uri": "https://localhost:8080/"
        },
        "id": "HiBipX0xGTwq",
        "outputId": "123c200e-3fb6-45e0-b53b-d762d60a069f"
      },
      "outputs": [
        {
          "output_type": "stream",
          "name": "stdout",
          "text": [
            "Epoch 1/20\n",
            "363/363 [==============================] - 2s 4ms/step - loss: 2.6976 - val_loss: 2.4851\n",
            "Epoch 2/20\n",
            "363/363 [==============================] - 1s 3ms/step - loss: 0.8652 - val_loss: 0.9378\n",
            "Epoch 3/20\n",
            "363/363 [==============================] - 1s 3ms/step - loss: 0.7108 - val_loss: 0.6624\n",
            "Epoch 4/20\n",
            "363/363 [==============================] - 1s 3ms/step - loss: 0.6518 - val_loss: 0.6071\n",
            "Epoch 5/20\n",
            "363/363 [==============================] - 1s 3ms/step - loss: 0.6142 - val_loss: 0.5654\n",
            "Epoch 6/20\n",
            "363/363 [==============================] - 1s 3ms/step - loss: 0.5838 - val_loss: 0.5382\n",
            "Epoch 7/20\n",
            "363/363 [==============================] - 1s 3ms/step - loss: 0.5598 - val_loss: 0.5170\n",
            "Epoch 8/20\n",
            "363/363 [==============================] - 1s 4ms/step - loss: 0.5391 - val_loss: 0.4942\n",
            "Epoch 9/20\n",
            "363/363 [==============================] - 2s 5ms/step - loss: 0.5209 - val_loss: 0.4786\n",
            "Epoch 10/20\n",
            "363/363 [==============================] - 1s 3ms/step - loss: 0.5059 - val_loss: 0.4653\n",
            "Epoch 11/20\n",
            "363/363 [==============================] - 1s 3ms/step - loss: 0.4928 - val_loss: 0.4543\n",
            "Epoch 12/20\n",
            "363/363 [==============================] - 1s 3ms/step - loss: 0.4820 - val_loss: 0.4415\n",
            "Epoch 13/20\n",
            "363/363 [==============================] - 1s 3ms/step - loss: 0.4729 - val_loss: 0.4353\n",
            "Epoch 14/20\n",
            "363/363 [==============================] - 1s 3ms/step - loss: 0.4662 - val_loss: 0.4323\n",
            "Epoch 15/20\n",
            "363/363 [==============================] - 1s 3ms/step - loss: 0.4594 - val_loss: 0.4272\n",
            "Epoch 16/20\n",
            "363/363 [==============================] - 1s 3ms/step - loss: 0.4545 - val_loss: 0.4230\n",
            "Epoch 17/20\n",
            "363/363 [==============================] - 1s 3ms/step - loss: 0.4498 - val_loss: 0.4314\n",
            "Epoch 18/20\n",
            "363/363 [==============================] - 2s 4ms/step - loss: 0.4475 - val_loss: 0.4392\n",
            "Epoch 19/20\n",
            "363/363 [==============================] - 2s 5ms/step - loss: 0.4435 - val_loss: 0.4313\n",
            "Epoch 20/20\n",
            "363/363 [==============================] - 1s 3ms/step - loss: 0.4420 - val_loss: 0.4527\n",
            "162/162 [==============================] - 0s 3ms/step - loss: 0.4431\n",
            "1/1 [==============================] - 0s 83ms/step\n"
          ]
        }
      ],
      "source": [
        "model.compile(loss=\"mse\", optimizer=keras.optimizers.SGD(learning_rate=1e-3))\n",
        "\n",
        "X_train_A, X_train_B = X_train[:, :5], X_train[:, 2:]\n",
        "X_valid_A, X_valid_B = X_valid[:, :5], X_valid[:, 2:]\n",
        "X_test_A, X_test_B = X_test[:, :5], X_test[:, 2:]\n",
        "X_new_A, X_new_B = X_test_A[:3], X_test_B[:3]\n",
        "\n",
        "history = model.fit((X_train_A, X_train_B), y_train, epochs=20,\n",
        "                    validation_data=((X_valid_A, X_valid_B), y_valid))\n",
        "mse_test = model.evaluate((X_test_A, X_test_B), y_test)\n",
        "y_pred = model.predict((X_new_A, X_new_B))"
      ]
    },
    {
      "cell_type": "markdown",
      "metadata": {
        "id": "WX8-IbfEGTwq"
      },
      "source": [
        "Adding an auxiliary output for regularization:"
      ]
    },
    {
      "cell_type": "code",
      "execution_count": 58,
      "metadata": {
        "id": "oXvB6FISGTwq"
      },
      "outputs": [],
      "source": [
        "np.random.seed(42)\n",
        "tf.random.set_seed(42)"
      ]
    },
    {
      "cell_type": "code",
      "execution_count": 59,
      "metadata": {
        "id": "wBNTMdCiGTwq"
      },
      "outputs": [],
      "source": [
        "input_A = keras.layers.Input(shape=[5], name=\"wide_input\")\n",
        "input_B = keras.layers.Input(shape=[6], name=\"deep_input\")\n",
        "hidden1 = keras.layers.Dense(30, activation=\"relu\")(input_B)\n",
        "hidden2 = keras.layers.Dense(30, activation=\"relu\")(hidden1)\n",
        "concat = keras.layers.concatenate([input_A, hidden2])\n",
        "output = keras.layers.Dense(1, name=\"main_output\")(concat)\n",
        "aux_output = keras.layers.Dense(1, name=\"aux_output\")(hidden2)\n",
        "model = keras.models.Model(inputs=[input_A, input_B],\n",
        "                           outputs=[output, aux_output])"
      ]
    },
    {
      "cell_type": "code",
      "execution_count": 60,
      "metadata": {
        "id": "UPOALv2mGTwq"
      },
      "outputs": [],
      "source": [
        "model.compile(loss=[\"mse\", \"mse\"], loss_weights=[0.9, 0.1], optimizer=keras.optimizers.SGD(learning_rate=1e-3))"
      ]
    },
    {
      "cell_type": "code",
      "execution_count": 61,
      "metadata": {
        "colab": {
          "base_uri": "https://localhost:8080/"
        },
        "id": "_uUbOeVXGTwq",
        "outputId": "589b9617-c72f-4d3f-871a-1d67363f338b"
      },
      "outputs": [
        {
          "output_type": "stream",
          "name": "stdout",
          "text": [
            "Epoch 1/20\n",
            "363/363 [==============================] - 3s 5ms/step - loss: 2.8931 - main_output_loss: 2.8266 - aux_output_loss: 3.4918 - val_loss: 1.5933 - val_main_output_loss: 1.3203 - val_aux_output_loss: 4.0496\n",
            "Epoch 2/20\n",
            "363/363 [==============================] - 1s 4ms/step - loss: 1.0039 - main_output_loss: 0.8550 - aux_output_loss: 2.3440 - val_loss: 1.0372 - val_main_output_loss: 0.7696 - val_aux_output_loss: 3.4456\n",
            "Epoch 3/20\n",
            "363/363 [==============================] - 2s 6ms/step - loss: 0.7681 - main_output_loss: 0.6438 - aux_output_loss: 1.8873 - val_loss: 0.8666 - val_main_output_loss: 0.6190 - val_aux_output_loss: 3.0955\n",
            "Epoch 4/20\n",
            "363/363 [==============================] - 2s 5ms/step - loss: 0.6872 - main_output_loss: 0.5780 - aux_output_loss: 1.6696 - val_loss: 0.7963 - val_main_output_loss: 0.5697 - val_aux_output_loss: 2.8354\n",
            "Epoch 5/20\n",
            "363/363 [==============================] - 1s 4ms/step - loss: 0.6436 - main_output_loss: 0.5437 - aux_output_loss: 1.5427 - val_loss: 0.7367 - val_main_output_loss: 0.5281 - val_aux_output_loss: 2.6138\n",
            "Epoch 6/20\n",
            "363/363 [==============================] - 1s 4ms/step - loss: 0.6134 - main_output_loss: 0.5192 - aux_output_loss: 1.4613 - val_loss: 0.6980 - val_main_output_loss: 0.5065 - val_aux_output_loss: 2.4216\n",
            "Epoch 7/20\n",
            "363/363 [==============================] - 1s 4ms/step - loss: 0.5910 - main_output_loss: 0.5005 - aux_output_loss: 1.4047 - val_loss: 0.6608 - val_main_output_loss: 0.4845 - val_aux_output_loss: 2.2474\n",
            "Epoch 8/20\n",
            "363/363 [==============================] - 1s 4ms/step - loss: 0.5735 - main_output_loss: 0.4863 - aux_output_loss: 1.3582 - val_loss: 0.6318 - val_main_output_loss: 0.4689 - val_aux_output_loss: 2.0977\n",
            "Epoch 9/20\n",
            "363/363 [==============================] - 1s 4ms/step - loss: 0.5591 - main_output_loss: 0.4743 - aux_output_loss: 1.3220 - val_loss: 0.6156 - val_main_output_loss: 0.4642 - val_aux_output_loss: 1.9782\n",
            "Epoch 10/20\n",
            "363/363 [==============================] - 1s 3ms/step - loss: 0.5460 - main_output_loss: 0.4637 - aux_output_loss: 1.2868 - val_loss: 0.5978 - val_main_output_loss: 0.4568 - val_aux_output_loss: 1.8668\n",
            "Epoch 11/20\n",
            "363/363 [==============================] - 2s 5ms/step - loss: 0.5360 - main_output_loss: 0.4562 - aux_output_loss: 1.2542 - val_loss: 0.5786 - val_main_output_loss: 0.4476 - val_aux_output_loss: 1.7580\n",
            "Epoch 12/20\n",
            "363/363 [==============================] - 2s 5ms/step - loss: 0.5284 - main_output_loss: 0.4509 - aux_output_loss: 1.2257 - val_loss: 0.5730 - val_main_output_loss: 0.4506 - val_aux_output_loss: 1.6748\n",
            "Epoch 13/20\n",
            "363/363 [==============================] - 1s 3ms/step - loss: 0.5222 - main_output_loss: 0.4469 - aux_output_loss: 1.1995 - val_loss: 0.5716 - val_main_output_loss: 0.4572 - val_aux_output_loss: 1.6009\n",
            "Epoch 14/20\n",
            "363/363 [==============================] - 1s 3ms/step - loss: 0.5169 - main_output_loss: 0.4438 - aux_output_loss: 1.1745 - val_loss: 0.5501 - val_main_output_loss: 0.4427 - val_aux_output_loss: 1.5165\n",
            "Epoch 15/20\n",
            "363/363 [==============================] - 1s 4ms/step - loss: 0.5122 - main_output_loss: 0.4412 - aux_output_loss: 1.1513 - val_loss: 0.5504 - val_main_output_loss: 0.4496 - val_aux_output_loss: 1.4580\n",
            "Epoch 16/20\n",
            "363/363 [==============================] - 1s 3ms/step - loss: 0.5081 - main_output_loss: 0.4389 - aux_output_loss: 1.1302 - val_loss: 0.5429 - val_main_output_loss: 0.4475 - val_aux_output_loss: 1.4011\n",
            "Epoch 17/20\n",
            "363/363 [==============================] - 1s 4ms/step - loss: 0.5043 - main_output_loss: 0.4370 - aux_output_loss: 1.1100 - val_loss: 0.5375 - val_main_output_loss: 0.4473 - val_aux_output_loss: 1.3496\n",
            "Epoch 18/20\n",
            "363/363 [==============================] - 1s 4ms/step - loss: 0.5005 - main_output_loss: 0.4350 - aux_output_loss: 1.0900 - val_loss: 0.5326 - val_main_output_loss: 0.4469 - val_aux_output_loss: 1.3038\n",
            "Epoch 19/20\n",
            "363/363 [==============================] - 1s 4ms/step - loss: 0.4969 - main_output_loss: 0.4331 - aux_output_loss: 1.0714 - val_loss: 0.5285 - val_main_output_loss: 0.4470 - val_aux_output_loss: 1.2621\n",
            "Epoch 20/20\n",
            "363/363 [==============================] - 2s 5ms/step - loss: 0.4938 - main_output_loss: 0.4316 - aux_output_loss: 1.0540 - val_loss: 0.5332 - val_main_output_loss: 0.4561 - val_aux_output_loss: 1.2269\n"
          ]
        }
      ],
      "source": [
        "history = model.fit([X_train_A, X_train_B], [y_train, y_train], epochs=20,\n",
        "                    validation_data=([X_valid_A, X_valid_B], [y_valid, y_valid]))"
      ]
    },
    {
      "cell_type": "code",
      "execution_count": 62,
      "metadata": {
        "colab": {
          "base_uri": "https://localhost:8080/"
        },
        "id": "GqX-GmyVGTwr",
        "outputId": "9b2e34d4-e3d6-40b2-c512-3b3b907d4725"
      },
      "outputs": [
        {
          "output_type": "stream",
          "name": "stdout",
          "text": [
            "162/162 [==============================] - 1s 4ms/step - loss: 0.4864 - main_output_loss: 0.4259 - aux_output_loss: 1.0310\n"
          ]
        },
        {
          "output_type": "stream",
          "name": "stderr",
          "text": [
            "WARNING:tensorflow:5 out of the last 6 calls to <function Model.make_predict_function.<locals>.predict_function at 0x7f8b3e0dfc70> triggered tf.function retracing. Tracing is expensive and the excessive number of tracings could be due to (1) creating @tf.function repeatedly in a loop, (2) passing tensors with different shapes, (3) passing Python objects instead of tensors. For (1), please define your @tf.function outside of the loop. For (2), @tf.function has reduce_retracing=True option that can avoid unnecessary retracing. For (3), please refer to https://www.tensorflow.org/guide/function#controlling_retracing and https://www.tensorflow.org/api_docs/python/tf/function for  more details.\n"
          ]
        },
        {
          "output_type": "stream",
          "name": "stdout",
          "text": [
            "1/1 [==============================] - 0s 134ms/step\n"
          ]
        }
      ],
      "source": [
        "total_loss, main_loss, aux_loss = model.evaluate(\n",
        "    [X_test_A, X_test_B], [y_test, y_test])\n",
        "y_pred_main, y_pred_aux = model.predict([X_new_A, X_new_B])"
      ]
    },
    {
      "cell_type": "markdown",
      "metadata": {
        "id": "SstwkpGCGTwr"
      },
      "source": [
        "# The subclassing API"
      ]
    },
    {
      "cell_type": "code",
      "execution_count": 63,
      "metadata": {
        "id": "DektDcF5GTwr"
      },
      "outputs": [],
      "source": [
        "class WideAndDeepModel(keras.models.Model):\n",
        "    def __init__(self, units=30, activation=\"relu\", **kwargs):\n",
        "        super().__init__(**kwargs)\n",
        "        self.hidden1 = keras.layers.Dense(units, activation=activation)\n",
        "        self.hidden2 = keras.layers.Dense(units, activation=activation)\n",
        "        self.main_output = keras.layers.Dense(1)\n",
        "        self.aux_output = keras.layers.Dense(1)\n",
        "\n",
        "    def call(self, inputs):\n",
        "        input_A, input_B = inputs\n",
        "        hidden1 = self.hidden1(input_B)\n",
        "        hidden2 = self.hidden2(hidden1)\n",
        "        concat = keras.layers.concatenate([input_A, hidden2])\n",
        "        main_output = self.main_output(concat)\n",
        "        aux_output = self.aux_output(hidden2)\n",
        "        return main_output, aux_output\n",
        "\n",
        "model = WideAndDeepModel(30, activation=\"relu\")"
      ]
    },
    {
      "cell_type": "code",
      "execution_count": 64,
      "metadata": {
        "colab": {
          "base_uri": "https://localhost:8080/"
        },
        "id": "N4MqxAIwGTwr",
        "outputId": "59e392a1-deab-499f-d963-b4f86f5e7a23"
      },
      "outputs": [
        {
          "output_type": "stream",
          "name": "stdout",
          "text": [
            "Epoch 1/10\n",
            "363/363 [==============================] - 3s 4ms/step - loss: 2.8370 - output_1_loss: 2.6229 - output_2_loss: 4.7637 - val_loss: 3.5926 - val_output_1_loss: 1.8187 - val_output_2_loss: 19.5575\n",
            "Epoch 2/10\n",
            "363/363 [==============================] - 1s 4ms/step - loss: 1.0079 - output_1_loss: 0.7274 - output_2_loss: 3.5321 - val_loss: 2.7915 - val_output_1_loss: 0.7503 - val_output_2_loss: 21.1616\n",
            "Epoch 3/10\n",
            "363/363 [==============================] - 1s 3ms/step - loss: 0.8002 - output_1_loss: 0.6091 - output_2_loss: 2.5210 - val_loss: 2.5723 - val_output_1_loss: 0.5710 - val_output_2_loss: 20.5845\n",
            "Epoch 4/10\n",
            "363/363 [==============================] - 1s 3ms/step - loss: 0.7119 - output_1_loss: 0.5721 - output_2_loss: 1.9701 - val_loss: 2.3331 - val_output_1_loss: 0.5443 - val_output_2_loss: 18.4332\n",
            "Epoch 5/10\n",
            "363/363 [==============================] - 1s 3ms/step - loss: 0.6606 - output_1_loss: 0.5492 - output_2_loss: 1.6629 - val_loss: 2.0707 - val_output_1_loss: 0.5233 - val_output_2_loss: 15.9974\n",
            "Epoch 6/10\n",
            "363/363 [==============================] - 1s 4ms/step - loss: 0.6256 - output_1_loss: 0.5306 - output_2_loss: 1.4809 - val_loss: 1.8329 - val_output_1_loss: 0.5116 - val_output_2_loss: 13.7253\n",
            "Epoch 7/10\n",
            "363/363 [==============================] - 1s 4ms/step - loss: 0.5994 - output_1_loss: 0.5149 - output_2_loss: 1.3602 - val_loss: 1.6110 - val_output_1_loss: 0.4938 - val_output_2_loss: 11.6662\n",
            "Epoch 8/10\n",
            "363/363 [==============================] - 2s 6ms/step - loss: 0.5795 - output_1_loss: 0.5020 - output_2_loss: 1.2775 - val_loss: 1.4063 - val_output_1_loss: 0.4792 - val_output_2_loss: 9.7499\n",
            "Epoch 9/10\n",
            "363/363 [==============================] - 1s 4ms/step - loss: 0.5629 - output_1_loss: 0.4907 - output_2_loss: 1.2128 - val_loss: 1.2418 - val_output_1_loss: 0.4670 - val_output_2_loss: 8.2154\n",
            "Epoch 10/10\n",
            "363/363 [==============================] - 1s 3ms/step - loss: 0.5494 - output_1_loss: 0.4814 - output_2_loss: 1.1616 - val_loss: 1.1057 - val_output_1_loss: 0.4556 - val_output_2_loss: 6.9564\n",
            "162/162 [==============================] - 0s 3ms/step - loss: 0.5309 - output_1_loss: 0.4693 - output_2_loss: 1.0857\n"
          ]
        },
        {
          "output_type": "stream",
          "name": "stderr",
          "text": [
            "WARNING:tensorflow:6 out of the last 7 calls to <function Model.make_predict_function.<locals>.predict_function at 0x7f8b3e0c5090> triggered tf.function retracing. Tracing is expensive and the excessive number of tracings could be due to (1) creating @tf.function repeatedly in a loop, (2) passing tensors with different shapes, (3) passing Python objects instead of tensors. For (1), please define your @tf.function outside of the loop. For (2), @tf.function has reduce_retracing=True option that can avoid unnecessary retracing. For (3), please refer to https://www.tensorflow.org/guide/function#controlling_retracing and https://www.tensorflow.org/api_docs/python/tf/function for  more details.\n"
          ]
        },
        {
          "output_type": "stream",
          "name": "stdout",
          "text": [
            "1/1 [==============================] - 0s 79ms/step\n"
          ]
        }
      ],
      "source": [
        "model.compile(loss=\"mse\", loss_weights=[0.9, 0.1], optimizer=keras.optimizers.SGD(learning_rate=1e-3))\n",
        "history = model.fit((X_train_A, X_train_B), (y_train, y_train), epochs=10,\n",
        "                    validation_data=((X_valid_A, X_valid_B), (y_valid, y_valid)))\n",
        "total_loss, main_loss, aux_loss = model.evaluate((X_test_A, X_test_B), (y_test, y_test))\n",
        "y_pred_main, y_pred_aux = model.predict((X_new_A, X_new_B))"
      ]
    },
    {
      "cell_type": "markdown",
      "metadata": {
        "id": "NipV4z4gGTwr"
      },
      "source": [
        "# Saving and Restoring"
      ]
    },
    {
      "cell_type": "code",
      "execution_count": 65,
      "metadata": {
        "id": "uZKDRh2TGTwr"
      },
      "outputs": [],
      "source": [
        "np.random.seed(42)\n",
        "tf.random.set_seed(42)"
      ]
    },
    {
      "cell_type": "code",
      "execution_count": 66,
      "metadata": {
        "id": "ZcJOU20TGTwr"
      },
      "outputs": [],
      "source": [
        "model = keras.models.Sequential([\n",
        "    keras.layers.Dense(30, activation=\"relu\", input_shape=[8]),\n",
        "    keras.layers.Dense(30, activation=\"relu\"),\n",
        "    keras.layers.Dense(1)\n",
        "])"
      ]
    },
    {
      "cell_type": "code",
      "execution_count": 67,
      "metadata": {
        "colab": {
          "base_uri": "https://localhost:8080/"
        },
        "id": "ZjZfcfShGTwr",
        "outputId": "46bdae23-4e9c-4368-d1ec-966c2601a1bf"
      },
      "outputs": [
        {
          "output_type": "stream",
          "name": "stdout",
          "text": [
            "Epoch 1/10\n",
            "363/363 [==============================] - 2s 4ms/step - loss: 1.8806 - val_loss: 0.8515\n",
            "Epoch 2/10\n",
            "363/363 [==============================] - 1s 3ms/step - loss: 0.8058 - val_loss: 0.8014\n",
            "Epoch 3/10\n",
            "363/363 [==============================] - 1s 3ms/step - loss: 0.7287 - val_loss: 0.6866\n",
            "Epoch 4/10\n",
            "363/363 [==============================] - 1s 3ms/step - loss: 0.6759 - val_loss: 0.6269\n",
            "Epoch 5/10\n",
            "363/363 [==============================] - 1s 3ms/step - loss: 0.6345 - val_loss: 0.5912\n",
            "Epoch 6/10\n",
            "363/363 [==============================] - 2s 4ms/step - loss: 0.5973 - val_loss: 0.5501\n",
            "Epoch 7/10\n",
            "363/363 [==============================] - 2s 4ms/step - loss: 0.5672 - val_loss: 0.5320\n",
            "Epoch 8/10\n",
            "363/363 [==============================] - 1s 3ms/step - loss: 0.5408 - val_loss: 0.5200\n",
            "Epoch 9/10\n",
            "363/363 [==============================] - 1s 3ms/step - loss: 0.5160 - val_loss: 0.4785\n",
            "Epoch 10/10\n",
            "363/363 [==============================] - 1s 3ms/step - loss: 0.4960 - val_loss: 0.4821\n",
            "162/162 [==============================] - 0s 2ms/step - loss: 0.4868\n"
          ]
        }
      ],
      "source": [
        "model.compile(loss=\"mse\", optimizer=keras.optimizers.SGD(learning_rate=1e-3))\n",
        "history = model.fit(X_train, y_train, epochs=10, validation_data=(X_valid, y_valid))\n",
        "mse_test = model.evaluate(X_test, y_test)"
      ]
    },
    {
      "cell_type": "code",
      "execution_count": 68,
      "metadata": {
        "colab": {
          "base_uri": "https://localhost:8080/"
        },
        "id": "s4E37cDjGTwr",
        "outputId": "59168157-ebb8-406f-e066-60094c0673ce"
      },
      "outputs": [
        {
          "output_type": "stream",
          "name": "stderr",
          "text": [
            "/usr/local/lib/python3.10/dist-packages/keras/src/engine/training.py:3000: UserWarning: You are saving your model as an HDF5 file via `model.save()`. This file format is considered legacy. We recommend using instead the native Keras format, e.g. `model.save('my_model.keras')`.\n",
            "  saving_api.save_model(\n"
          ]
        }
      ],
      "source": [
        "model.save(\"my_keras_model.h5\")"
      ]
    },
    {
      "cell_type": "code",
      "execution_count": 69,
      "metadata": {
        "id": "HDaM4lKMGTwr"
      },
      "outputs": [],
      "source": [
        "model = keras.models.load_model(\"my_keras_model.h5\")"
      ]
    },
    {
      "cell_type": "code",
      "execution_count": 70,
      "metadata": {
        "colab": {
          "base_uri": "https://localhost:8080/"
        },
        "id": "z6miB8B-GTwr",
        "outputId": "6085f455-7efe-4fd2-f4dd-e5c9efc5d9b6"
      },
      "outputs": [
        {
          "output_type": "stream",
          "name": "stdout",
          "text": [
            "1/1 [==============================] - 0s 67ms/step\n"
          ]
        },
        {
          "output_type": "execute_result",
          "data": {
            "text/plain": [
              "array([[0.78814864],\n",
              "       [1.3670862 ],\n",
              "       [2.9240522 ]], dtype=float32)"
            ]
          },
          "metadata": {},
          "execution_count": 70
        }
      ],
      "source": [
        "model.predict(X_new)"
      ]
    },
    {
      "cell_type": "code",
      "execution_count": 71,
      "metadata": {
        "id": "Q6OPxMEEGTwr"
      },
      "outputs": [],
      "source": [
        "model.save_weights(\"my_keras_weights.ckpt\")"
      ]
    },
    {
      "cell_type": "code",
      "execution_count": 72,
      "metadata": {
        "colab": {
          "base_uri": "https://localhost:8080/"
        },
        "id": "gvolD5PHGTwr",
        "outputId": "efc1a34a-73fb-45f8-a7a5-42c25a579d37"
      },
      "outputs": [
        {
          "output_type": "execute_result",
          "data": {
            "text/plain": [
              "<tensorflow.python.checkpoint.checkpoint.CheckpointLoadStatus at 0x7f8b5fe74940>"
            ]
          },
          "metadata": {},
          "execution_count": 72
        }
      ],
      "source": [
        "model.load_weights(\"my_keras_weights.ckpt\")"
      ]
    },
    {
      "cell_type": "markdown",
      "metadata": {
        "id": "yaKGKwTXGTwr"
      },
      "source": [
        "# Using Callbacks during Training"
      ]
    },
    {
      "cell_type": "code",
      "execution_count": 73,
      "metadata": {
        "id": "mWVp7eOrGTwr"
      },
      "outputs": [],
      "source": [
        "keras.backend.clear_session()\n",
        "np.random.seed(42)\n",
        "tf.random.set_seed(42)"
      ]
    },
    {
      "cell_type": "code",
      "execution_count": 74,
      "metadata": {
        "id": "ySn__iNHGTws"
      },
      "outputs": [],
      "source": [
        "model = keras.models.Sequential([\n",
        "    keras.layers.Dense(30, activation=\"relu\", input_shape=[8]),\n",
        "    keras.layers.Dense(30, activation=\"relu\"),\n",
        "    keras.layers.Dense(1)\n",
        "])"
      ]
    },
    {
      "cell_type": "code",
      "execution_count": 75,
      "metadata": {
        "colab": {
          "base_uri": "https://localhost:8080/"
        },
        "id": "triseCfhGTws",
        "outputId": "b9ee6bcb-4810-4dbd-80b5-4171c9f13e55"
      },
      "outputs": [
        {
          "output_type": "stream",
          "name": "stdout",
          "text": [
            "Epoch 1/10\n",
            "363/363 [==============================] - 2s 4ms/step - loss: 1.8884 - val_loss: 0.9320\n",
            "Epoch 2/10\n",
            "363/363 [==============================] - 1s 3ms/step - loss: 0.6957 - val_loss: 0.6471\n",
            "Epoch 3/10\n",
            "363/363 [==============================] - 1s 3ms/step - loss: 0.6230 - val_loss: 0.5942\n",
            "Epoch 4/10\n",
            "363/363 [==============================] - 1s 3ms/step - loss: 0.5863 - val_loss: 0.5527\n",
            "Epoch 5/10\n",
            "363/363 [==============================] - 2s 5ms/step - loss: 0.5576 - val_loss: 0.5252\n",
            "Epoch 6/10\n",
            "363/363 [==============================] - 1s 4ms/step - loss: 0.5325 - val_loss: 0.5041\n",
            "Epoch 7/10\n",
            "363/363 [==============================] - 1s 3ms/step - loss: 0.5113 - val_loss: 0.4836\n",
            "Epoch 8/10\n",
            "363/363 [==============================] - 1s 3ms/step - loss: 0.4933 - val_loss: 0.4706\n",
            "Epoch 9/10\n",
            "363/363 [==============================] - 1s 3ms/step - loss: 0.4782 - val_loss: 0.4621\n",
            "Epoch 10/10\n",
            "363/363 [==============================] - 1s 3ms/step - loss: 0.4654 - val_loss: 0.4575\n",
            "162/162 [==============================] - 0s 2ms/step - loss: 0.4472\n"
          ]
        }
      ],
      "source": [
        "model.compile(loss=\"mse\", optimizer=keras.optimizers.SGD(learning_rate=1e-3))\n",
        "checkpoint_cb = keras.callbacks.ModelCheckpoint(\"my_keras_model.h5\", save_best_only=True)\n",
        "history = model.fit(X_train, y_train, epochs=10,\n",
        "                    validation_data=(X_valid, y_valid),\n",
        "                    callbacks=[checkpoint_cb])\n",
        "model = keras.models.load_model(\"my_keras_model.h5\") # rollback to best model\n",
        "mse_test = model.evaluate(X_test, y_test)"
      ]
    },
    {
      "cell_type": "code",
      "execution_count": 76,
      "metadata": {
        "colab": {
          "base_uri": "https://localhost:8080/"
        },
        "id": "eYP6IKO5GTws",
        "outputId": "e381dc87-294a-4ae8-ec24-421fc8493520"
      },
      "outputs": [
        {
          "output_type": "stream",
          "name": "stdout",
          "text": [
            "Epoch 1/100\n",
            "363/363 [==============================] - 2s 3ms/step - loss: 0.4547 - val_loss: 0.4483\n",
            "Epoch 2/100\n",
            "363/363 [==============================] - 1s 3ms/step - loss: 0.4458 - val_loss: 0.4573\n",
            "Epoch 3/100\n",
            "363/363 [==============================] - 1s 3ms/step - loss: 0.4382 - val_loss: 0.4513\n",
            "Epoch 4/100\n",
            "363/363 [==============================] - 1s 3ms/step - loss: 0.4315 - val_loss: 0.4583\n",
            "Epoch 5/100\n",
            "363/363 [==============================] - 1s 3ms/step - loss: 0.4260 - val_loss: 0.4382\n",
            "Epoch 6/100\n",
            "363/363 [==============================] - 1s 3ms/step - loss: 0.4209 - val_loss: 0.4516\n",
            "Epoch 7/100\n",
            "363/363 [==============================] - 1s 4ms/step - loss: 0.4167 - val_loss: 0.4450\n",
            "Epoch 8/100\n",
            "363/363 [==============================] - 1s 4ms/step - loss: 0.4129 - val_loss: 0.4239\n",
            "Epoch 9/100\n",
            "363/363 [==============================] - 1s 4ms/step - loss: 0.4094 - val_loss: 0.4352\n",
            "Epoch 10/100\n",
            "363/363 [==============================] - 1s 3ms/step - loss: 0.4063 - val_loss: 0.4494\n",
            "Epoch 11/100\n",
            "363/363 [==============================] - 1s 3ms/step - loss: 0.4040 - val_loss: 0.4141\n",
            "Epoch 12/100\n",
            "363/363 [==============================] - 1s 3ms/step - loss: 0.4012 - val_loss: 0.4408\n",
            "Epoch 13/100\n",
            "363/363 [==============================] - 1s 3ms/step - loss: 0.3991 - val_loss: 0.4373\n",
            "Epoch 14/100\n",
            "363/363 [==============================] - 1s 3ms/step - loss: 0.3969 - val_loss: 0.4122\n",
            "Epoch 15/100\n",
            "363/363 [==============================] - 1s 3ms/step - loss: 0.3950 - val_loss: 0.4207\n",
            "Epoch 16/100\n",
            "363/363 [==============================] - 1s 3ms/step - loss: 0.3931 - val_loss: 0.4086\n",
            "Epoch 17/100\n",
            "363/363 [==============================] - 1s 4ms/step - loss: 0.3913 - val_loss: 0.4227\n",
            "Epoch 18/100\n",
            "363/363 [==============================] - 2s 5ms/step - loss: 0.3901 - val_loss: 0.4217\n",
            "Epoch 19/100\n",
            "363/363 [==============================] - 1s 4ms/step - loss: 0.3881 - val_loss: 0.4128\n",
            "Epoch 20/100\n",
            "363/363 [==============================] - 1s 3ms/step - loss: 0.3870 - val_loss: 0.4454\n",
            "Epoch 21/100\n",
            "363/363 [==============================] - 1s 3ms/step - loss: 0.3854 - val_loss: 0.4381\n",
            "Epoch 22/100\n",
            "363/363 [==============================] - 1s 3ms/step - loss: 0.3841 - val_loss: 0.4453\n",
            "Epoch 23/100\n",
            "363/363 [==============================] - 1s 3ms/step - loss: 0.3826 - val_loss: 0.3831\n",
            "Epoch 24/100\n",
            "363/363 [==============================] - 1s 3ms/step - loss: 0.3814 - val_loss: 0.4000\n",
            "Epoch 25/100\n",
            "363/363 [==============================] - 1s 3ms/step - loss: 0.3799 - val_loss: 0.4269\n",
            "Epoch 26/100\n",
            "363/363 [==============================] - 1s 4ms/step - loss: 0.3792 - val_loss: 0.4276\n",
            "Epoch 27/100\n",
            "363/363 [==============================] - 1s 3ms/step - loss: 0.3785 - val_loss: 0.3838\n",
            "Epoch 28/100\n",
            "363/363 [==============================] - 2s 5ms/step - loss: 0.3774 - val_loss: 0.4106\n",
            "Epoch 29/100\n",
            "363/363 [==============================] - 2s 4ms/step - loss: 0.3764 - val_loss: 0.4027\n",
            "Epoch 30/100\n",
            "363/363 [==============================] - 1s 3ms/step - loss: 0.3754 - val_loss: 0.4409\n",
            "Epoch 31/100\n",
            "363/363 [==============================] - 1s 3ms/step - loss: 0.3741 - val_loss: 0.4195\n",
            "Epoch 32/100\n",
            "363/363 [==============================] - 1s 3ms/step - loss: 0.3735 - val_loss: 0.4458\n",
            "Epoch 33/100\n",
            "363/363 [==============================] - 1s 3ms/step - loss: 0.3731 - val_loss: 0.3973\n",
            "162/162 [==============================] - 0s 2ms/step - loss: 0.3786\n"
          ]
        }
      ],
      "source": [
        "model.compile(loss=\"mse\", optimizer=keras.optimizers.SGD(learning_rate=1e-3))\n",
        "early_stopping_cb = keras.callbacks.EarlyStopping(patience=10,\n",
        "                                                  restore_best_weights=True)\n",
        "history = model.fit(X_train, y_train, epochs=100,\n",
        "                    validation_data=(X_valid, y_valid),\n",
        "                    callbacks=[checkpoint_cb, early_stopping_cb])\n",
        "mse_test = model.evaluate(X_test, y_test)"
      ]
    },
    {
      "cell_type": "code",
      "execution_count": 77,
      "metadata": {
        "id": "Rw-kiHeYGTws"
      },
      "outputs": [],
      "source": [
        "class PrintValTrainRatioCallback(keras.callbacks.Callback):\n",
        "    def on_epoch_end(self, epoch, logs):\n",
        "        print(\"\\nval/train: {:.2f}\".format(logs[\"val_loss\"] / logs[\"loss\"]))"
      ]
    },
    {
      "cell_type": "code",
      "execution_count": 78,
      "metadata": {
        "colab": {
          "base_uri": "https://localhost:8080/"
        },
        "id": "qU1QySIiGTws",
        "outputId": "bc89cb2d-6b76-492b-cb01-a16a63a24965"
      },
      "outputs": [
        {
          "output_type": "stream",
          "name": "stdout",
          "text": [
            "362/363 [============================>.] - ETA: 0s - loss: 0.3807\n",
            "val/train: 1.04\n",
            "363/363 [==============================] - 1s 3ms/step - loss: 0.3813 - val_loss: 0.3958\n"
          ]
        }
      ],
      "source": [
        "val_train_ratio_cb = PrintValTrainRatioCallback()\n",
        "history = model.fit(X_train, y_train, epochs=1,\n",
        "                    validation_data=(X_valid, y_valid),\n",
        "                    callbacks=[val_train_ratio_cb])"
      ]
    },
    {
      "cell_type": "markdown",
      "metadata": {
        "id": "NXjWTfC5GTwt"
      },
      "source": [
        "# Hyperparameter Tuning"
      ]
    },
    {
      "cell_type": "code",
      "execution_count": 90,
      "metadata": {
        "id": "nhy1vAmkGTwt"
      },
      "outputs": [],
      "source": [
        "keras.backend.clear_session()\n",
        "np.random.seed(42)\n",
        "tf.random.set_seed(42)"
      ]
    },
    {
      "cell_type": "code",
      "execution_count": 91,
      "metadata": {
        "id": "MF6GbKPLGTwt"
      },
      "outputs": [],
      "source": [
        "def build_model(n_hidden=1, n_neurons=30, learning_rate=3e-3, input_shape=[8]):\n",
        "    model = keras.models.Sequential()\n",
        "    model.add(keras.layers.InputLayer(input_shape=input_shape))\n",
        "    for layer in range(n_hidden):\n",
        "        model.add(keras.layers.Dense(n_neurons, activation=\"relu\"))\n",
        "    model.add(keras.layers.Dense(1))\n",
        "    optimizer = keras.optimizers.SGD(learning_rate=learning_rate)\n",
        "    model.compile(loss=\"mse\", optimizer=optimizer)\n",
        "    return model"
      ]
    },
    {
      "cell_type": "code",
      "source": [
        "from tensorflow import keras\n",
        "from sklearn.base import BaseEstimator, RegressorMixin\n",
        "\n",
        "# Modify the KerasRegressorWrapper class to accept hyperparameters\n",
        "class KerasRegressorWrapper(BaseEstimator, RegressorMixin):\n",
        "    def __init__(self, n_hidden=1, n_neurons=200, learning_rate=1e-3):\n",
        "        self.n_hidden = n_hidden\n",
        "        self.n_neurons = n_neurons\n",
        "        self.learning_rate = learning_rate\n",
        "\n",
        "    def fit(self, X, y, **kwargs):\n",
        "        self.model = build_model(self.n_hidden, self.n_neurons, self.learning_rate)\n",
        "        self.model.fit(X, y, **kwargs)\n",
        "        return self\n",
        "\n",
        "    def predict(self, X):\n",
        "        return self.model.predict(X)\n",
        "\n",
        "# Create an instance of the KerasRegressorWrapper\n",
        "keras_reg = KerasRegressorWrapper()"
      ],
      "metadata": {
        "id": "quW5ky-hCMLM"
      },
      "execution_count": 92,
      "outputs": []
    },
    {
      "cell_type": "code",
      "execution_count": 93,
      "metadata": {
        "colab": {
          "base_uri": "https://localhost:8080/",
          "height": 1000
        },
        "id": "VdOgdDErGTwt",
        "outputId": "39162191-2639-4d0d-81bb-ceebd2c8581d"
      },
      "outputs": [
        {
          "output_type": "stream",
          "name": "stdout",
          "text": [
            "Epoch 1/100\n",
            "363/363 [==============================] - 2s 3ms/step - loss: 2.0244 - val_loss: 1.0289\n",
            "Epoch 2/100\n",
            "363/363 [==============================] - 1s 3ms/step - loss: 0.7084 - val_loss: 0.6299\n",
            "Epoch 3/100\n",
            "363/363 [==============================] - 1s 3ms/step - loss: 0.6364 - val_loss: 0.6031\n",
            "Epoch 4/100\n",
            "363/363 [==============================] - 1s 3ms/step - loss: 0.5983 - val_loss: 0.5509\n",
            "Epoch 5/100\n",
            "363/363 [==============================] - 1s 3ms/step - loss: 0.5676 - val_loss: 0.5210\n",
            "Epoch 6/100\n",
            "363/363 [==============================] - 1s 3ms/step - loss: 0.5404 - val_loss: 0.4979\n",
            "Epoch 7/100\n",
            "363/363 [==============================] - 1s 3ms/step - loss: 0.5184 - val_loss: 0.4850\n",
            "Epoch 8/100\n",
            "363/363 [==============================] - 2s 5ms/step - loss: 0.5001 - val_loss: 0.4613\n",
            "Epoch 9/100\n",
            "363/363 [==============================] - 2s 5ms/step - loss: 0.4841 - val_loss: 0.4460\n",
            "Epoch 10/100\n",
            "363/363 [==============================] - 1s 3ms/step - loss: 0.4710 - val_loss: 0.4350\n",
            "Epoch 11/100\n",
            "363/363 [==============================] - 1s 3ms/step - loss: 0.4606 - val_loss: 0.4354\n",
            "Epoch 12/100\n",
            "363/363 [==============================] - 1s 3ms/step - loss: 0.4513 - val_loss: 0.4167\n",
            "Epoch 13/100\n",
            "363/363 [==============================] - 1s 3ms/step - loss: 0.4437 - val_loss: 0.4141\n",
            "Epoch 14/100\n",
            "363/363 [==============================] - 1s 3ms/step - loss: 0.4371 - val_loss: 0.4071\n",
            "Epoch 15/100\n",
            "363/363 [==============================] - 1s 3ms/step - loss: 0.4315 - val_loss: 0.4088\n",
            "Epoch 16/100\n",
            "363/363 [==============================] - 1s 3ms/step - loss: 0.4267 - val_loss: 0.4002\n",
            "Epoch 17/100\n",
            "363/363 [==============================] - 1s 3ms/step - loss: 0.4226 - val_loss: 0.4122\n",
            "Epoch 18/100\n",
            "363/363 [==============================] - 1s 3ms/step - loss: 0.4189 - val_loss: 0.4121\n",
            "Epoch 19/100\n",
            "363/363 [==============================] - 2s 4ms/step - loss: 0.4152 - val_loss: 0.3991\n",
            "Epoch 20/100\n",
            "363/363 [==============================] - 2s 4ms/step - loss: 0.4125 - val_loss: 0.4235\n",
            "Epoch 21/100\n",
            "363/363 [==============================] - 1s 3ms/step - loss: 0.4096 - val_loss: 0.4040\n",
            "Epoch 22/100\n",
            "363/363 [==============================] - 1s 3ms/step - loss: 0.4071 - val_loss: 0.4206\n",
            "Epoch 23/100\n",
            "363/363 [==============================] - 1s 3ms/step - loss: 0.4048 - val_loss: 0.3852\n",
            "Epoch 24/100\n",
            "363/363 [==============================] - 1s 3ms/step - loss: 0.4025 - val_loss: 0.4022\n",
            "Epoch 25/100\n",
            "363/363 [==============================] - 1s 3ms/step - loss: 0.4003 - val_loss: 0.4203\n",
            "Epoch 26/100\n",
            "363/363 [==============================] - 1s 3ms/step - loss: 0.3986 - val_loss: 0.4153\n",
            "Epoch 27/100\n",
            "363/363 [==============================] - 1s 3ms/step - loss: 0.3969 - val_loss: 0.3799\n",
            "Epoch 28/100\n",
            "363/363 [==============================] - 1s 3ms/step - loss: 0.3950 - val_loss: 0.4045\n",
            "Epoch 29/100\n",
            "363/363 [==============================] - 1s 3ms/step - loss: 0.3935 - val_loss: 0.3882\n",
            "Epoch 30/100\n",
            "363/363 [==============================] - 2s 4ms/step - loss: 0.3918 - val_loss: 0.4138\n",
            "Epoch 31/100\n",
            "363/363 [==============================] - 2s 4ms/step - loss: 0.3902 - val_loss: 0.3945\n",
            "Epoch 32/100\n",
            "363/363 [==============================] - 1s 3ms/step - loss: 0.3889 - val_loss: 0.4154\n",
            "Epoch 33/100\n",
            "363/363 [==============================] - 1s 3ms/step - loss: 0.3878 - val_loss: 0.3782\n",
            "Epoch 34/100\n",
            "363/363 [==============================] - 1s 3ms/step - loss: 0.3862 - val_loss: 0.3739\n",
            "Epoch 35/100\n",
            "363/363 [==============================] - 1s 3ms/step - loss: 0.3850 - val_loss: 0.4141\n",
            "Epoch 36/100\n",
            "363/363 [==============================] - 1s 3ms/step - loss: 0.3839 - val_loss: 0.3653\n",
            "Epoch 37/100\n",
            "363/363 [==============================] - 1s 3ms/step - loss: 0.3827 - val_loss: 0.3904\n",
            "Epoch 38/100\n",
            "363/363 [==============================] - 1s 3ms/step - loss: 0.3815 - val_loss: 0.3720\n",
            "Epoch 39/100\n",
            "363/363 [==============================] - 1s 3ms/step - loss: 0.3804 - val_loss: 0.3707\n",
            "Epoch 40/100\n",
            "363/363 [==============================] - 1s 3ms/step - loss: 0.3792 - val_loss: 0.3874\n",
            "Epoch 41/100\n",
            "363/363 [==============================] - 1s 4ms/step - loss: 0.3782 - val_loss: 0.3958\n",
            "Epoch 42/100\n",
            "363/363 [==============================] - 2s 4ms/step - loss: 0.3774 - val_loss: 0.4052\n",
            "Epoch 43/100\n",
            "363/363 [==============================] - 1s 3ms/step - loss: 0.3762 - val_loss: 0.4080\n",
            "Epoch 44/100\n",
            "363/363 [==============================] - 1s 3ms/step - loss: 0.3752 - val_loss: 0.4125\n",
            "Epoch 45/100\n",
            "363/363 [==============================] - 1s 3ms/step - loss: 0.3746 - val_loss: 0.3697\n",
            "Epoch 46/100\n",
            "363/363 [==============================] - 1s 3ms/step - loss: 0.3733 - val_loss: 0.3741\n"
          ]
        },
        {
          "output_type": "execute_result",
          "data": {
            "text/plain": [
              "KerasRegressorWrapper()"
            ],
            "text/html": [
              "<style>#sk-container-id-1 {color: black;background-color: white;}#sk-container-id-1 pre{padding: 0;}#sk-container-id-1 div.sk-toggleable {background-color: white;}#sk-container-id-1 label.sk-toggleable__label {cursor: pointer;display: block;width: 100%;margin-bottom: 0;padding: 0.3em;box-sizing: border-box;text-align: center;}#sk-container-id-1 label.sk-toggleable__label-arrow:before {content: \"▸\";float: left;margin-right: 0.25em;color: #696969;}#sk-container-id-1 label.sk-toggleable__label-arrow:hover:before {color: black;}#sk-container-id-1 div.sk-estimator:hover label.sk-toggleable__label-arrow:before {color: black;}#sk-container-id-1 div.sk-toggleable__content {max-height: 0;max-width: 0;overflow: hidden;text-align: left;background-color: #f0f8ff;}#sk-container-id-1 div.sk-toggleable__content pre {margin: 0.2em;color: black;border-radius: 0.25em;background-color: #f0f8ff;}#sk-container-id-1 input.sk-toggleable__control:checked~div.sk-toggleable__content {max-height: 200px;max-width: 100%;overflow: auto;}#sk-container-id-1 input.sk-toggleable__control:checked~label.sk-toggleable__label-arrow:before {content: \"▾\";}#sk-container-id-1 div.sk-estimator input.sk-toggleable__control:checked~label.sk-toggleable__label {background-color: #d4ebff;}#sk-container-id-1 div.sk-label input.sk-toggleable__control:checked~label.sk-toggleable__label {background-color: #d4ebff;}#sk-container-id-1 input.sk-hidden--visually {border: 0;clip: rect(1px 1px 1px 1px);clip: rect(1px, 1px, 1px, 1px);height: 1px;margin: -1px;overflow: hidden;padding: 0;position: absolute;width: 1px;}#sk-container-id-1 div.sk-estimator {font-family: monospace;background-color: #f0f8ff;border: 1px dotted black;border-radius: 0.25em;box-sizing: border-box;margin-bottom: 0.5em;}#sk-container-id-1 div.sk-estimator:hover {background-color: #d4ebff;}#sk-container-id-1 div.sk-parallel-item::after {content: \"\";width: 100%;border-bottom: 1px solid gray;flex-grow: 1;}#sk-container-id-1 div.sk-label:hover label.sk-toggleable__label {background-color: #d4ebff;}#sk-container-id-1 div.sk-serial::before {content: \"\";position: absolute;border-left: 1px solid gray;box-sizing: border-box;top: 0;bottom: 0;left: 50%;z-index: 0;}#sk-container-id-1 div.sk-serial {display: flex;flex-direction: column;align-items: center;background-color: white;padding-right: 0.2em;padding-left: 0.2em;position: relative;}#sk-container-id-1 div.sk-item {position: relative;z-index: 1;}#sk-container-id-1 div.sk-parallel {display: flex;align-items: stretch;justify-content: center;background-color: white;position: relative;}#sk-container-id-1 div.sk-item::before, #sk-container-id-1 div.sk-parallel-item::before {content: \"\";position: absolute;border-left: 1px solid gray;box-sizing: border-box;top: 0;bottom: 0;left: 50%;z-index: -1;}#sk-container-id-1 div.sk-parallel-item {display: flex;flex-direction: column;z-index: 1;position: relative;background-color: white;}#sk-container-id-1 div.sk-parallel-item:first-child::after {align-self: flex-end;width: 50%;}#sk-container-id-1 div.sk-parallel-item:last-child::after {align-self: flex-start;width: 50%;}#sk-container-id-1 div.sk-parallel-item:only-child::after {width: 0;}#sk-container-id-1 div.sk-dashed-wrapped {border: 1px dashed gray;margin: 0 0.4em 0.5em 0.4em;box-sizing: border-box;padding-bottom: 0.4em;background-color: white;}#sk-container-id-1 div.sk-label label {font-family: monospace;font-weight: bold;display: inline-block;line-height: 1.2em;}#sk-container-id-1 div.sk-label-container {text-align: center;}#sk-container-id-1 div.sk-container {/* jupyter's `normalize.less` sets `[hidden] { display: none; }` but bootstrap.min.css set `[hidden] { display: none !important; }` so we also need the `!important` here to be able to override the default hidden behavior on the sphinx rendered scikit-learn.org. See: https://github.com/scikit-learn/scikit-learn/issues/21755 */display: inline-block !important;position: relative;}#sk-container-id-1 div.sk-text-repr-fallback {display: none;}</style><div id=\"sk-container-id-1\" class=\"sk-top-container\"><div class=\"sk-text-repr-fallback\"><pre>KerasRegressorWrapper()</pre><b>In a Jupyter environment, please rerun this cell to show the HTML representation or trust the notebook. <br />On GitHub, the HTML representation is unable to render, please try loading this page with nbviewer.org.</b></div><div class=\"sk-container\" hidden><div class=\"sk-item\"><div class=\"sk-estimator sk-toggleable\"><input class=\"sk-toggleable__control sk-hidden--visually\" id=\"sk-estimator-id-1\" type=\"checkbox\" checked><label for=\"sk-estimator-id-1\" class=\"sk-toggleable__label sk-toggleable__label-arrow\">KerasRegressorWrapper</label><div class=\"sk-toggleable__content\"><pre>KerasRegressorWrapper()</pre></div></div></div></div></div>"
            ]
          },
          "metadata": {},
          "execution_count": 93
        }
      ],
      "source": [
        "keras_reg.fit(X_train, y_train, epochs=100,\n",
        "              validation_data=(X_valid, y_valid),\n",
        "              callbacks=[keras.callbacks.EarlyStopping(patience=10)])"
      ]
    },
    {
      "cell_type": "code",
      "execution_count": 94,
      "metadata": {
        "colab": {
          "base_uri": "https://localhost:8080/"
        },
        "id": "zf6mGFptGTwt",
        "outputId": "2adfa0fb-7f0c-433f-9b71-e41ecef8079f"
      },
      "outputs": [
        {
          "output_type": "stream",
          "name": "stdout",
          "text": [
            "162/162 [==============================] - 0s 2ms/step\n"
          ]
        }
      ],
      "source": [
        "mse_test = keras_reg.score(X_test, y_test)"
      ]
    },
    {
      "cell_type": "code",
      "execution_count": 95,
      "metadata": {
        "colab": {
          "base_uri": "https://localhost:8080/"
        },
        "id": "PYHY0iyrGTwt",
        "outputId": "c432bdfc-ded4-403b-8629-915bafa6b416"
      },
      "outputs": [
        {
          "output_type": "stream",
          "name": "stdout",
          "text": [
            "1/1 [==============================] - 0s 22ms/step\n"
          ]
        }
      ],
      "source": [
        "y_pred = keras_reg.predict(X_new)"
      ]
    },
    {
      "cell_type": "code",
      "execution_count": 96,
      "metadata": {
        "id": "kXjq5IuxGTwt"
      },
      "outputs": [],
      "source": [
        "np.random.seed(42)\n",
        "tf.random.set_seed(42)"
      ]
    },
    {
      "cell_type": "markdown",
      "metadata": {
        "id": "8ZVwIG8cGTwt"
      },
      "source": [
        "**Warning**: the following cell crashes at the end of training. This seems to be caused by [Keras issue #13586](https://github.com/keras-team/keras/issues/13586), which was triggered by a recent change in Scikit-Learn. [Pull Request #13598](https://github.com/keras-team/keras/pull/13598) seems to fix the issue, so this problem should be resolved soon. In the meantime, I've added `.tolist()` and `.rvs(1000).tolist()` as workarounds."
      ]
    },
    {
      "cell_type": "code",
      "execution_count": 97,
      "metadata": {
        "colab": {
          "base_uri": "https://localhost:8080/",
          "height": 1000
        },
        "id": "QpfZ2OrlGTwt",
        "outputId": "e80b828f-0f09-4f8d-b0ae-78eb450ceeda"
      },
      "outputs": [
        {
          "output_type": "stream",
          "name": "stdout",
          "text": [
            "Fitting 3 folds for each of 10 candidates, totalling 30 fits\n",
            "Epoch 1/100\n",
            "242/242 [==============================] - 1s 4ms/step - loss: 0.8519 - val_loss: 0.4432\n",
            "Epoch 2/100\n",
            "242/242 [==============================] - 1s 5ms/step - loss: 0.4480 - val_loss: 2.6516\n",
            "Epoch 3/100\n",
            "242/242 [==============================] - 1s 5ms/step - loss: 0.4955 - val_loss: 22.5511\n",
            "Epoch 4/100\n",
            "242/242 [==============================] - 1s 4ms/step - loss: 0.5587 - val_loss: 0.4098\n",
            "Epoch 5/100\n",
            "242/242 [==============================] - 1s 4ms/step - loss: 0.4411 - val_loss: 0.3976\n",
            "Epoch 6/100\n",
            "242/242 [==============================] - 1s 3ms/step - loss: 0.4337 - val_loss: 0.4023\n",
            "Epoch 7/100\n",
            "242/242 [==============================] - 1s 3ms/step - loss: 0.4290 - val_loss: 0.3988\n",
            "Epoch 8/100\n",
            "242/242 [==============================] - 1s 3ms/step - loss: 0.4305 - val_loss: 0.3912\n",
            "Epoch 9/100\n",
            "242/242 [==============================] - 1s 3ms/step - loss: 0.4346 - val_loss: 0.4070\n",
            "Epoch 10/100\n",
            "242/242 [==============================] - 1s 3ms/step - loss: 0.4274 - val_loss: 0.3833\n",
            "Epoch 11/100\n",
            "242/242 [==============================] - 1s 3ms/step - loss: 0.4222 - val_loss: 0.3864\n",
            "Epoch 12/100\n",
            "242/242 [==============================] - 1s 3ms/step - loss: 0.4177 - val_loss: 0.3959\n",
            "Epoch 13/100\n",
            "242/242 [==============================] - 1s 3ms/step - loss: 0.4254 - val_loss: 0.3846\n",
            "Epoch 14/100\n",
            "242/242 [==============================] - 1s 3ms/step - loss: 0.4166 - val_loss: 0.3857\n",
            "Epoch 15/100\n",
            "242/242 [==============================] - 1s 3ms/step - loss: 0.4124 - val_loss: 0.3796\n",
            "Epoch 16/100\n",
            "242/242 [==============================] - 1s 3ms/step - loss: 0.4205 - val_loss: 0.3809\n",
            "Epoch 17/100\n",
            "242/242 [==============================] - 1s 3ms/step - loss: 0.4119 - val_loss: 0.3769\n",
            "Epoch 18/100\n",
            "242/242 [==============================] - 1s 3ms/step - loss: 0.4104 - val_loss: 0.3789\n",
            "Epoch 19/100\n",
            "242/242 [==============================] - 1s 4ms/step - loss: 0.4130 - val_loss: 0.3801\n",
            "Epoch 20/100\n",
            "242/242 [==============================] - 1s 4ms/step - loss: 0.4075 - val_loss: 0.3745\n",
            "Epoch 21/100\n",
            "242/242 [==============================] - 1s 3ms/step - loss: 0.4071 - val_loss: 0.3805\n",
            "Epoch 22/100\n",
            "242/242 [==============================] - 1s 3ms/step - loss: 0.4075 - val_loss: 0.3789\n",
            "Epoch 23/100\n",
            "242/242 [==============================] - 1s 3ms/step - loss: 0.4048 - val_loss: 0.3761\n",
            "Epoch 24/100\n",
            "242/242 [==============================] - 1s 4ms/step - loss: 0.4104 - val_loss: 0.4293\n",
            "Epoch 25/100\n",
            "242/242 [==============================] - 1s 3ms/step - loss: 0.4071 - val_loss: 0.3864\n",
            "Epoch 26/100\n",
            "242/242 [==============================] - 1s 3ms/step - loss: 0.4035 - val_loss: 0.3779\n",
            "Epoch 27/100\n",
            "242/242 [==============================] - 1s 3ms/step - loss: 0.4035 - val_loss: 0.3718\n",
            "Epoch 28/100\n",
            "242/242 [==============================] - 1s 3ms/step - loss: 0.4040 - val_loss: 0.3743\n",
            "Epoch 29/100\n",
            "242/242 [==============================] - 1s 3ms/step - loss: 0.4026 - val_loss: 0.3718\n",
            "Epoch 30/100\n",
            "242/242 [==============================] - 1s 3ms/step - loss: 0.4004 - val_loss: 0.3742\n",
            "Epoch 31/100\n",
            "242/242 [==============================] - 1s 3ms/step - loss: 0.4107 - val_loss: 0.3701\n",
            "Epoch 32/100\n",
            "242/242 [==============================] - 1s 3ms/step - loss: 0.3996 - val_loss: 0.3696\n",
            "Epoch 33/100\n",
            "242/242 [==============================] - 1s 3ms/step - loss: 0.3979 - val_loss: 0.3700\n",
            "Epoch 34/100\n",
            "242/242 [==============================] - 1s 5ms/step - loss: 0.3966 - val_loss: 0.3711\n",
            "Epoch 35/100\n",
            "242/242 [==============================] - 2s 6ms/step - loss: 0.4031 - val_loss: 0.3678\n",
            "Epoch 36/100\n",
            "242/242 [==============================] - 1s 4ms/step - loss: 0.3960 - val_loss: 0.3676\n",
            "Epoch 37/100\n",
            "242/242 [==============================] - 1s 3ms/step - loss: 0.3945 - val_loss: 0.3648\n",
            "Epoch 38/100\n",
            "242/242 [==============================] - 1s 3ms/step - loss: 0.3916 - val_loss: 0.3669\n",
            "Epoch 39/100\n",
            "242/242 [==============================] - 1s 3ms/step - loss: 0.3910 - val_loss: 0.3650\n",
            "Epoch 40/100\n",
            "242/242 [==============================] - 1s 3ms/step - loss: 0.3910 - val_loss: 0.3633\n",
            "Epoch 41/100\n",
            "242/242 [==============================] - 1s 3ms/step - loss: 0.3901 - val_loss: 0.3688\n",
            "Epoch 42/100\n",
            "242/242 [==============================] - 1s 3ms/step - loss: 0.3906 - val_loss: 0.3622\n",
            "Epoch 43/100\n",
            "242/242 [==============================] - 1s 3ms/step - loss: 0.3892 - val_loss: 0.3621\n",
            "Epoch 44/100\n",
            "242/242 [==============================] - 1s 3ms/step - loss: 0.3881 - val_loss: 0.3619\n",
            "Epoch 45/100\n",
            "242/242 [==============================] - 1s 3ms/step - loss: 0.4008 - val_loss: 0.3603\n",
            "Epoch 46/100\n",
            "242/242 [==============================] - 1s 3ms/step - loss: 0.3881 - val_loss: 0.3621\n",
            "Epoch 47/100\n",
            "242/242 [==============================] - 1s 3ms/step - loss: 0.3883 - val_loss: 0.3598\n",
            "Epoch 48/100\n",
            "242/242 [==============================] - 1s 3ms/step - loss: 0.3879 - val_loss: 0.3643\n",
            "Epoch 49/100\n",
            "242/242 [==============================] - 1s 4ms/step - loss: 0.3888 - val_loss: 0.3603\n",
            "Epoch 50/100\n",
            "242/242 [==============================] - 1s 4ms/step - loss: 0.3891 - val_loss: 0.3606\n",
            "Epoch 51/100\n",
            "242/242 [==============================] - 1s 4ms/step - loss: 0.3878 - val_loss: 0.3896\n",
            "Epoch 52/100\n",
            "242/242 [==============================] - 1s 4ms/step - loss: 0.3883 - val_loss: 0.3686\n",
            "Epoch 53/100\n",
            "242/242 [==============================] - 1s 3ms/step - loss: 0.3930 - val_loss: 0.3596\n",
            "Epoch 54/100\n",
            "242/242 [==============================] - 1s 3ms/step - loss: 0.3882 - val_loss: 0.3633\n",
            "Epoch 55/100\n",
            "242/242 [==============================] - 1s 4ms/step - loss: 0.3872 - val_loss: 0.3637\n",
            "Epoch 56/100\n",
            "242/242 [==============================] - 1s 4ms/step - loss: 0.3886 - val_loss: 0.3613\n",
            "Epoch 57/100\n",
            "242/242 [==============================] - 1s 3ms/step - loss: 0.3890 - val_loss: 0.3589\n",
            "Epoch 58/100\n",
            "242/242 [==============================] - 1s 3ms/step - loss: 0.3873 - val_loss: 0.3602\n",
            "Epoch 59/100\n",
            "242/242 [==============================] - 1s 3ms/step - loss: 0.3875 - val_loss: 0.3612\n",
            "Epoch 60/100\n",
            "242/242 [==============================] - 1s 3ms/step - loss: 0.3879 - val_loss: 0.3645\n",
            "Epoch 61/100\n",
            "242/242 [==============================] - 1s 3ms/step - loss: 0.3869 - val_loss: 0.3635\n",
            "Epoch 62/100\n",
            "242/242 [==============================] - 1s 3ms/step - loss: 0.3877 - val_loss: 0.3922\n",
            "Epoch 63/100\n",
            "242/242 [==============================] - 1s 4ms/step - loss: 0.3874 - val_loss: 0.3617\n",
            "Epoch 64/100\n",
            "242/242 [==============================] - 1s 4ms/step - loss: 0.3876 - val_loss: 0.3665\n",
            "Epoch 65/100\n",
            "242/242 [==============================] - 1s 6ms/step - loss: 0.3872 - val_loss: 0.3592\n",
            "Epoch 66/100\n",
            "242/242 [==============================] - 1s 5ms/step - loss: 0.3870 - val_loss: 0.3632\n",
            "Epoch 67/100\n",
            "242/242 [==============================] - 1s 3ms/step - loss: 0.3908 - val_loss: 0.3680\n",
            "121/121 [==============================] - 0s 2ms/step\n",
            "[CV] END learning_rate=0.02217457394835346, n_hidden=1, n_neurons=4; total time=  56.7s\n",
            "Epoch 1/100\n",
            "242/242 [==============================] - 1s 4ms/step - loss: 0.8395 - val_loss: 0.4726\n",
            "Epoch 2/100\n",
            "242/242 [==============================] - 1s 3ms/step - loss: 0.4516 - val_loss: 0.4133\n",
            "Epoch 3/100\n",
            "242/242 [==============================] - 1s 3ms/step - loss: 0.4259 - val_loss: 0.3933\n",
            "Epoch 4/100\n",
            "242/242 [==============================] - 1s 3ms/step - loss: 0.4177 - val_loss: 0.3837\n",
            "Epoch 5/100\n",
            "242/242 [==============================] - 1s 3ms/step - loss: 0.4122 - val_loss: 0.3844\n",
            "Epoch 6/100\n",
            "242/242 [==============================] - 1s 4ms/step - loss: 0.4079 - val_loss: 0.3830\n",
            "Epoch 7/100\n",
            "242/242 [==============================] - 1s 3ms/step - loss: 0.4072 - val_loss: 0.3795\n",
            "Epoch 8/100\n",
            "242/242 [==============================] - 1s 3ms/step - loss: 0.4032 - val_loss: 0.3736\n",
            "Epoch 9/100\n",
            "242/242 [==============================] - 1s 4ms/step - loss: 0.4011 - val_loss: 0.3743\n",
            "Epoch 10/100\n",
            "242/242 [==============================] - 1s 3ms/step - loss: 0.4026 - val_loss: 0.3723\n",
            "Epoch 11/100\n",
            "242/242 [==============================] - 1s 4ms/step - loss: 0.3978 - val_loss: 0.3775\n",
            "Epoch 12/100\n",
            "242/242 [==============================] - 3s 13ms/step - loss: 0.3976 - val_loss: 0.3839\n",
            "Epoch 13/100\n",
            "242/242 [==============================] - 2s 7ms/step - loss: 0.3987 - val_loss: 0.3781\n",
            "Epoch 14/100\n",
            "242/242 [==============================] - 2s 8ms/step - loss: 0.3995 - val_loss: 0.3812\n",
            "Epoch 15/100\n",
            "242/242 [==============================] - 2s 7ms/step - loss: 0.3983 - val_loss: 0.3794\n",
            "Epoch 16/100\n",
            "242/242 [==============================] - 1s 5ms/step - loss: 0.3959 - val_loss: 0.3767\n",
            "Epoch 17/100\n",
            "242/242 [==============================] - 1s 3ms/step - loss: 0.3975 - val_loss: 0.3696\n",
            "Epoch 18/100\n",
            "242/242 [==============================] - 1s 4ms/step - loss: 0.3975 - val_loss: 0.3753\n",
            "Epoch 19/100\n",
            "242/242 [==============================] - 1s 4ms/step - loss: 0.3956 - val_loss: 0.3716\n",
            "Epoch 20/100\n",
            "242/242 [==============================] - 1s 3ms/step - loss: 0.3966 - val_loss: 0.3719\n",
            "Epoch 21/100\n",
            "242/242 [==============================] - 1s 5ms/step - loss: 0.3962 - val_loss: 0.3689\n",
            "Epoch 22/100\n",
            "242/242 [==============================] - 1s 5ms/step - loss: 0.3957 - val_loss: 0.3691\n",
            "Epoch 23/100\n",
            "242/242 [==============================] - 1s 5ms/step - loss: 0.3946 - val_loss: 0.3718\n",
            "Epoch 24/100\n",
            "242/242 [==============================] - 1s 3ms/step - loss: 0.3961 - val_loss: 0.3740\n",
            "Epoch 25/100\n",
            "242/242 [==============================] - 1s 4ms/step - loss: 0.3934 - val_loss: 0.3908\n",
            "Epoch 26/100\n",
            "242/242 [==============================] - 1s 3ms/step - loss: 0.3954 - val_loss: 0.3811\n",
            "Epoch 27/100\n",
            "242/242 [==============================] - 1s 3ms/step - loss: 0.3926 - val_loss: 0.3732\n",
            "Epoch 28/100\n",
            "242/242 [==============================] - 1s 4ms/step - loss: 0.3971 - val_loss: 0.3693\n",
            "Epoch 29/100\n",
            "242/242 [==============================] - 1s 3ms/step - loss: 0.3924 - val_loss: 0.3744\n",
            "Epoch 30/100\n",
            "242/242 [==============================] - 1s 3ms/step - loss: 0.3937 - val_loss: 0.3705\n",
            "Epoch 31/100\n",
            "242/242 [==============================] - 1s 4ms/step - loss: 0.3901 - val_loss: 0.3743\n",
            "121/121 [==============================] - 0s 2ms/step\n",
            "[CV] END learning_rate=0.02217457394835346, n_hidden=1, n_neurons=4; total time=  32.6s\n",
            "Epoch 1/100\n",
            "242/242 [==============================] - 1s 4ms/step - loss: 1.0104 - val_loss: 6.1522\n",
            "Epoch 2/100\n",
            "242/242 [==============================] - 1s 3ms/step - loss: 0.5252 - val_loss: 0.9610\n",
            "Epoch 3/100\n",
            "242/242 [==============================] - 1s 4ms/step - loss: 0.4681 - val_loss: 0.4339\n",
            "Epoch 4/100\n",
            "242/242 [==============================] - 1s 5ms/step - loss: 0.4525 - val_loss: 0.4143\n",
            "Epoch 5/100\n",
            "242/242 [==============================] - 1s 5ms/step - loss: 0.4482 - val_loss: 0.4048\n",
            "Epoch 6/100\n",
            "242/242 [==============================] - 1s 4ms/step - loss: 0.4467 - val_loss: 0.4089\n",
            "Epoch 7/100\n",
            "242/242 [==============================] - 1s 3ms/step - loss: 0.4476 - val_loss: 0.4000\n",
            "Epoch 8/100\n",
            "242/242 [==============================] - 1s 4ms/step - loss: 0.4441 - val_loss: 0.4043\n",
            "Epoch 9/100\n",
            "242/242 [==============================] - 1s 3ms/step - loss: 0.4432 - val_loss: 0.3998\n",
            "Epoch 10/100\n",
            "242/242 [==============================] - 1s 4ms/step - loss: 0.4452 - val_loss: 0.3983\n",
            "Epoch 11/100\n",
            "242/242 [==============================] - 1s 3ms/step - loss: 0.4425 - val_loss: 0.3988\n",
            "Epoch 12/100\n",
            "242/242 [==============================] - 1s 4ms/step - loss: 0.4391 - val_loss: 0.4004\n",
            "Epoch 13/100\n",
            "242/242 [==============================] - 1s 4ms/step - loss: 0.4396 - val_loss: 0.4039\n",
            "Epoch 14/100\n",
            "242/242 [==============================] - 1s 3ms/step - loss: 0.4404 - val_loss: 0.4024\n",
            "Epoch 15/100\n",
            "242/242 [==============================] - 1s 3ms/step - loss: 0.4360 - val_loss: 0.4001\n",
            "Epoch 16/100\n",
            "242/242 [==============================] - 1s 3ms/step - loss: 0.4329 - val_loss: 0.3920\n",
            "Epoch 17/100\n",
            "242/242 [==============================] - 1s 3ms/step - loss: 0.4319 - val_loss: 0.3969\n",
            "Epoch 18/100\n",
            "242/242 [==============================] - 1s 4ms/step - loss: 0.4423 - val_loss: 0.4003\n",
            "Epoch 19/100\n",
            "242/242 [==============================] - 1s 5ms/step - loss: 0.4351 - val_loss: 0.3899\n",
            "Epoch 20/100\n",
            "242/242 [==============================] - 1s 4ms/step - loss: 0.4251 - val_loss: 0.3835\n",
            "Epoch 21/100\n",
            "242/242 [==============================] - 1s 4ms/step - loss: 0.4247 - val_loss: 0.3792\n",
            "Epoch 22/100\n",
            "242/242 [==============================] - 1s 4ms/step - loss: 0.4233 - val_loss: 0.3774\n",
            "Epoch 23/100\n",
            "242/242 [==============================] - 1s 3ms/step - loss: 0.4179 - val_loss: 0.3765\n",
            "Epoch 24/100\n",
            "242/242 [==============================] - 1s 4ms/step - loss: 0.4163 - val_loss: 0.3798\n",
            "Epoch 25/100\n",
            "242/242 [==============================] - 1s 3ms/step - loss: 0.4127 - val_loss: 0.3715\n",
            "Epoch 26/100\n",
            "242/242 [==============================] - 1s 4ms/step - loss: 0.4130 - val_loss: 0.3742\n",
            "Epoch 27/100\n",
            "242/242 [==============================] - 1s 4ms/step - loss: 0.4133 - val_loss: 0.3706\n",
            "Epoch 28/100\n",
            "242/242 [==============================] - 1s 3ms/step - loss: 0.4096 - val_loss: 0.3822\n",
            "Epoch 29/100\n",
            "242/242 [==============================] - 1s 4ms/step - loss: 0.4124 - val_loss: 0.3693\n",
            "Epoch 30/100\n",
            "242/242 [==============================] - 1s 3ms/step - loss: 0.4080 - val_loss: 0.3695\n",
            "Epoch 31/100\n",
            "242/242 [==============================] - 1s 3ms/step - loss: 0.4136 - val_loss: 0.3733\n",
            "Epoch 32/100\n",
            "242/242 [==============================] - 1s 3ms/step - loss: 0.4063 - val_loss: 0.3669\n",
            "Epoch 33/100\n",
            "242/242 [==============================] - 1s 4ms/step - loss: 0.4104 - val_loss: 0.3728\n",
            "Epoch 34/100\n",
            "242/242 [==============================] - 1s 4ms/step - loss: 0.4035 - val_loss: 0.3742\n",
            "Epoch 35/100\n",
            "242/242 [==============================] - 1s 5ms/step - loss: 0.4024 - val_loss: 0.3692\n",
            "Epoch 36/100\n",
            "242/242 [==============================] - 1s 4ms/step - loss: 0.4003 - val_loss: 0.3652\n",
            "Epoch 37/100\n",
            "242/242 [==============================] - 1s 3ms/step - loss: 0.4029 - val_loss: 0.3929\n",
            "Epoch 38/100\n",
            "242/242 [==============================] - 1s 3ms/step - loss: 0.4093 - val_loss: 0.3658\n",
            "Epoch 39/100\n",
            "242/242 [==============================] - 1s 3ms/step - loss: 0.3999 - val_loss: 0.3634\n",
            "Epoch 40/100\n",
            "242/242 [==============================] - 1s 3ms/step - loss: 0.3996 - val_loss: 0.3661\n",
            "Epoch 41/100\n",
            "242/242 [==============================] - 1s 3ms/step - loss: 0.3974 - val_loss: 0.3638\n",
            "Epoch 42/100\n",
            "242/242 [==============================] - 1s 3ms/step - loss: 0.3983 - val_loss: 0.3677\n",
            "Epoch 43/100\n",
            "242/242 [==============================] - 1s 3ms/step - loss: 0.4009 - val_loss: 0.3654\n",
            "Epoch 44/100\n",
            "242/242 [==============================] - 1s 3ms/step - loss: 0.3975 - val_loss: 0.3645\n",
            "Epoch 45/100\n",
            "242/242 [==============================] - 1s 4ms/step - loss: 0.3975 - val_loss: 0.3650\n",
            "Epoch 46/100\n",
            "242/242 [==============================] - 1s 3ms/step - loss: 0.3955 - val_loss: 0.3657\n",
            "Epoch 47/100\n",
            "242/242 [==============================] - 1s 3ms/step - loss: 0.3955 - val_loss: 0.3614\n",
            "Epoch 48/100\n",
            "242/242 [==============================] - 1s 3ms/step - loss: 0.3970 - val_loss: 0.3611\n",
            "Epoch 49/100\n",
            "242/242 [==============================] - 1s 4ms/step - loss: 0.3992 - val_loss: 0.3702\n",
            "Epoch 50/100\n",
            "242/242 [==============================] - 1s 5ms/step - loss: 0.3946 - val_loss: 0.3648\n",
            "Epoch 51/100\n",
            "242/242 [==============================] - 1s 5ms/step - loss: 0.3986 - val_loss: 0.3677\n",
            "Epoch 52/100\n",
            "242/242 [==============================] - 1s 3ms/step - loss: 0.3963 - val_loss: 0.3646\n",
            "Epoch 53/100\n",
            "242/242 [==============================] - 1s 4ms/step - loss: 0.3947 - val_loss: 0.3644\n",
            "Epoch 54/100\n",
            "242/242 [==============================] - 1s 3ms/step - loss: 0.3949 - val_loss: 0.3824\n",
            "Epoch 55/100\n",
            "242/242 [==============================] - 2s 8ms/step - loss: 0.4043 - val_loss: 0.3655\n",
            "Epoch 56/100\n",
            "242/242 [==============================] - 1s 3ms/step - loss: 0.3964 - val_loss: 0.3654\n",
            "Epoch 57/100\n",
            "242/242 [==============================] - 1s 4ms/step - loss: 0.3961 - val_loss: 0.3622\n",
            "Epoch 58/100\n",
            "242/242 [==============================] - 1s 5ms/step - loss: 0.3940 - val_loss: 0.3615\n",
            "121/121 [==============================] - 0s 2ms/step\n",
            "[CV] END learning_rate=0.02217457394835346, n_hidden=1, n_neurons=4; total time=  52.7s\n",
            "Epoch 1/100\n",
            "242/242 [==============================] - 2s 5ms/step - loss: 1.0741 - val_loss: 10.2765\n",
            "Epoch 2/100\n",
            "242/242 [==============================] - 1s 4ms/step - loss: 0.6976 - val_loss: 7.3913\n",
            "Epoch 3/100\n",
            "242/242 [==============================] - 1s 5ms/step - loss: 0.5368 - val_loss: 2.2542\n",
            "Epoch 4/100\n",
            "242/242 [==============================] - 2s 7ms/step - loss: 0.4486 - val_loss: 0.4583\n",
            "Epoch 5/100\n",
            "242/242 [==============================] - 1s 4ms/step - loss: 0.3994 - val_loss: 0.3839\n",
            "Epoch 6/100\n",
            "242/242 [==============================] - 1s 3ms/step - loss: 0.3841 - val_loss: 0.4218\n",
            "Epoch 7/100\n",
            "242/242 [==============================] - 1s 4ms/step - loss: 0.3746 - val_loss: 0.3860\n",
            "Epoch 8/100\n",
            "242/242 [==============================] - 1s 4ms/step - loss: 0.3672 - val_loss: 0.4407\n",
            "Epoch 9/100\n",
            "242/242 [==============================] - 1s 4ms/step - loss: 0.3624 - val_loss: 0.3970\n",
            "Epoch 10/100\n",
            "242/242 [==============================] - 1s 4ms/step - loss: 0.3585 - val_loss: 0.4150\n",
            "Epoch 11/100\n",
            "242/242 [==============================] - 1s 4ms/step - loss: 0.3551 - val_loss: 0.3647\n",
            "Epoch 12/100\n",
            "242/242 [==============================] - 1s 3ms/step - loss: 0.3505 - val_loss: 0.3619\n",
            "Epoch 13/100\n",
            "242/242 [==============================] - 1s 4ms/step - loss: 0.3473 - val_loss: 0.4196\n",
            "Epoch 14/100\n",
            "242/242 [==============================] - 1s 3ms/step - loss: 0.3458 - val_loss: 0.3965\n",
            "Epoch 15/100\n",
            "242/242 [==============================] - 1s 4ms/step - loss: 0.3428 - val_loss: 0.3856\n",
            "Epoch 16/100\n",
            "242/242 [==============================] - 1s 5ms/step - loss: 0.3409 - val_loss: 0.3919\n",
            "Epoch 17/100\n",
            "242/242 [==============================] - 2s 7ms/step - loss: 0.3384 - val_loss: 0.3905\n",
            "Epoch 18/100\n",
            "242/242 [==============================] - 1s 5ms/step - loss: 0.3372 - val_loss: 0.3796\n",
            "Epoch 19/100\n",
            "242/242 [==============================] - 1s 4ms/step - loss: 0.3343 - val_loss: 0.4012\n",
            "Epoch 20/100\n",
            "242/242 [==============================] - 1s 3ms/step - loss: 0.3333 - val_loss: 0.3705\n",
            "Epoch 21/100\n",
            "242/242 [==============================] - 1s 4ms/step - loss: 0.3316 - val_loss: 0.3988\n",
            "Epoch 22/100\n",
            "242/242 [==============================] - 1s 4ms/step - loss: 0.3306 - val_loss: 0.3797\n",
            "121/121 [==============================] - 0s 3ms/step\n",
            "[CV] END learning_rate=0.005432590230265345, n_hidden=2, n_neurons=94; total time=  42.5s\n",
            "Epoch 1/100\n",
            "242/242 [==============================] - 2s 4ms/step - loss: 1.0182 - val_loss: 3.0346\n",
            "Epoch 2/100\n",
            "242/242 [==============================] - 1s 4ms/step - loss: 0.5372 - val_loss: 0.4570\n",
            "Epoch 3/100\n",
            "242/242 [==============================] - 1s 3ms/step - loss: 0.4505 - val_loss: 0.4747\n",
            "Epoch 4/100\n",
            "242/242 [==============================] - 1s 4ms/step - loss: 0.4170 - val_loss: 0.4671\n",
            "Epoch 5/100\n",
            "242/242 [==============================] - 1s 3ms/step - loss: 0.3970 - val_loss: 0.4016\n",
            "Epoch 6/100\n",
            "242/242 [==============================] - 1s 4ms/step - loss: 0.3846 - val_loss: 0.3940\n",
            "Epoch 7/100\n",
            "242/242 [==============================] - 1s 4ms/step - loss: 0.3761 - val_loss: 0.4686\n",
            "Epoch 8/100\n",
            "242/242 [==============================] - 1s 4ms/step - loss: 0.3691 - val_loss: 0.5452\n",
            "Epoch 9/100\n",
            "242/242 [==============================] - 1s 4ms/step - loss: 0.3634 - val_loss: 0.6711\n",
            "Epoch 10/100\n",
            "242/242 [==============================] - 1s 4ms/step - loss: 0.3597 - val_loss: 0.5594\n",
            "Epoch 11/100\n",
            "242/242 [==============================] - 1s 5ms/step - loss: 0.3545 - val_loss: 0.5959\n",
            "Epoch 12/100\n",
            "242/242 [==============================] - 2s 7ms/step - loss: 0.3507 - val_loss: 0.6091\n",
            "Epoch 13/100\n",
            "242/242 [==============================] - 1s 5ms/step - loss: 0.3485 - val_loss: 0.7289\n",
            "Epoch 14/100\n",
            "242/242 [==============================] - 1s 4ms/step - loss: 0.3469 - val_loss: 0.7015\n",
            "Epoch 15/100\n",
            "242/242 [==============================] - 1s 4ms/step - loss: 0.3443 - val_loss: 0.7061\n",
            "Epoch 16/100\n",
            "242/242 [==============================] - 1s 4ms/step - loss: 0.3410 - val_loss: 0.7900\n",
            "121/121 [==============================] - 0s 2ms/step\n",
            "[CV] END learning_rate=0.005432590230265345, n_hidden=2, n_neurons=94; total time=  21.6s\n",
            "Epoch 1/100\n",
            "242/242 [==============================] - 1s 4ms/step - loss: 1.0526 - val_loss: 3.2274\n",
            "Epoch 2/100\n",
            "242/242 [==============================] - 1s 5ms/step - loss: 0.5546 - val_loss: 4.8340\n",
            "Epoch 3/100\n",
            "242/242 [==============================] - 1s 5ms/step - loss: 0.4951 - val_loss: 14.7552\n",
            "Epoch 4/100\n",
            "242/242 [==============================] - 1s 5ms/step - loss: 0.6394 - val_loss: 3.0850\n",
            "Epoch 5/100\n",
            "242/242 [==============================] - 1s 4ms/step - loss: 0.4256 - val_loss: 3.7182\n",
            "Epoch 6/100\n",
            "242/242 [==============================] - 1s 4ms/step - loss: 0.4268 - val_loss: 1.1651\n",
            "Epoch 7/100\n",
            "242/242 [==============================] - 1s 4ms/step - loss: 0.3964 - val_loss: 0.5464\n",
            "Epoch 8/100\n",
            "242/242 [==============================] - 1s 4ms/step - loss: 0.3808 - val_loss: 0.3555\n",
            "Epoch 9/100\n",
            "242/242 [==============================] - 1s 4ms/step - loss: 0.3714 - val_loss: 0.4158\n",
            "Epoch 10/100\n",
            "242/242 [==============================] - 1s 4ms/step - loss: 0.3690 - val_loss: 0.3499\n",
            "Epoch 11/100\n",
            "242/242 [==============================] - 1s 3ms/step - loss: 0.3627 - val_loss: 0.4788\n",
            "Epoch 12/100\n",
            "242/242 [==============================] - 1s 4ms/step - loss: 0.3606 - val_loss: 0.3437\n",
            "Epoch 13/100\n",
            "242/242 [==============================] - 1s 4ms/step - loss: 0.3551 - val_loss: 0.3368\n",
            "Epoch 14/100\n",
            "242/242 [==============================] - 1s 4ms/step - loss: 0.3516 - val_loss: 0.4016\n",
            "Epoch 15/100\n",
            "242/242 [==============================] - 1s 4ms/step - loss: 0.3504 - val_loss: 0.3684\n",
            "Epoch 16/100\n",
            "242/242 [==============================] - 1s 5ms/step - loss: 0.3469 - val_loss: 0.4204\n",
            "Epoch 17/100\n",
            "242/242 [==============================] - 2s 7ms/step - loss: 0.3451 - val_loss: 0.3396\n",
            "Epoch 18/100\n",
            "242/242 [==============================] - 1s 4ms/step - loss: 0.3424 - val_loss: 0.3497\n",
            "Epoch 19/100\n",
            "242/242 [==============================] - 1s 4ms/step - loss: 0.3397 - val_loss: 0.3506\n",
            "Epoch 20/100\n",
            "242/242 [==============================] - 1s 4ms/step - loss: 0.3379 - val_loss: 0.3228\n",
            "Epoch 21/100\n",
            "242/242 [==============================] - 1s 4ms/step - loss: 0.3370 - val_loss: 0.3593\n",
            "Epoch 22/100\n",
            "242/242 [==============================] - 1s 4ms/step - loss: 0.3356 - val_loss: 0.3639\n",
            "Epoch 23/100\n",
            "242/242 [==============================] - 1s 4ms/step - loss: 0.3333 - val_loss: 0.3719\n",
            "Epoch 24/100\n",
            "242/242 [==============================] - 1s 4ms/step - loss: 0.3316 - val_loss: 0.3362\n",
            "Epoch 25/100\n",
            "242/242 [==============================] - 1s 4ms/step - loss: 0.3298 - val_loss: 0.3336\n",
            "Epoch 26/100\n",
            "242/242 [==============================] - 1s 4ms/step - loss: 0.3281 - val_loss: 0.3492\n",
            "Epoch 27/100\n",
            "242/242 [==============================] - 1s 4ms/step - loss: 0.3262 - val_loss: 0.3164\n",
            "Epoch 28/100\n",
            "242/242 [==============================] - 1s 5ms/step - loss: 0.3261 - val_loss: 0.3639\n",
            "Epoch 29/100\n",
            "242/242 [==============================] - 2s 7ms/step - loss: 0.3254 - val_loss: 0.4480\n",
            "Epoch 30/100\n",
            "242/242 [==============================] - 1s 5ms/step - loss: 0.3243 - val_loss: 0.3163\n",
            "Epoch 31/100\n",
            "242/242 [==============================] - 1s 4ms/step - loss: 0.3215 - val_loss: 0.3218\n",
            "Epoch 32/100\n",
            "242/242 [==============================] - 1s 4ms/step - loss: 0.3199 - val_loss: 0.3188\n",
            "Epoch 33/100\n",
            "242/242 [==============================] - 1s 4ms/step - loss: 0.3193 - val_loss: 0.3600\n",
            "Epoch 34/100\n",
            "242/242 [==============================] - 1s 4ms/step - loss: 0.3191 - val_loss: 0.3091\n",
            "Epoch 35/100\n",
            "242/242 [==============================] - 1s 3ms/step - loss: 0.3176 - val_loss: 0.3107\n",
            "Epoch 36/100\n",
            "242/242 [==============================] - 1s 4ms/step - loss: 0.3144 - val_loss: 0.3439\n",
            "Epoch 37/100\n",
            "242/242 [==============================] - 1s 4ms/step - loss: 0.3147 - val_loss: 0.4653\n",
            "Epoch 38/100\n",
            "242/242 [==============================] - 1s 4ms/step - loss: 0.3171 - val_loss: 0.8317\n",
            "Epoch 39/100\n",
            "242/242 [==============================] - 1s 4ms/step - loss: 0.3192 - val_loss: 0.5416\n",
            "Epoch 40/100\n",
            "242/242 [==============================] - 1s 4ms/step - loss: 0.3151 - val_loss: 0.7578\n",
            "Epoch 41/100\n",
            "242/242 [==============================] - 2s 7ms/step - loss: 0.3175 - val_loss: 0.3662\n",
            "Epoch 42/100\n",
            "242/242 [==============================] - 1s 6ms/step - loss: 0.3112 - val_loss: 0.5337\n",
            "Epoch 43/100\n",
            "242/242 [==============================] - 1s 4ms/step - loss: 0.3137 - val_loss: 0.3586\n",
            "Epoch 44/100\n",
            "242/242 [==============================] - 1s 4ms/step - loss: 0.3087 - val_loss: 0.4152\n",
            "121/121 [==============================] - 0s 2ms/step\n",
            "[CV] END learning_rate=0.005432590230265345, n_hidden=2, n_neurons=94; total time= 1.4min\n",
            "Epoch 1/100\n",
            "242/242 [==============================] - 1s 4ms/step - loss: 3.7257 - val_loss: 2.4345\n",
            "Epoch 2/100\n",
            "242/242 [==============================] - 1s 4ms/step - loss: 1.8606 - val_loss: 1.7636\n",
            "Epoch 3/100\n",
            "242/242 [==============================] - 1s 3ms/step - loss: 1.2021 - val_loss: 1.3708\n",
            "Epoch 4/100\n",
            "242/242 [==============================] - 1s 3ms/step - loss: 0.9282 - val_loss: 1.0220\n",
            "Epoch 5/100\n",
            "242/242 [==============================] - 1s 3ms/step - loss: 0.8025 - val_loss: 0.7989\n",
            "Epoch 6/100\n",
            "242/242 [==============================] - 1s 4ms/step - loss: 0.7390 - val_loss: 0.7072\n",
            "Epoch 7/100\n",
            "242/242 [==============================] - 1s 4ms/step - loss: 0.7042 - val_loss: 0.6720\n",
            "Epoch 8/100\n",
            "242/242 [==============================] - 1s 4ms/step - loss: 0.6827 - val_loss: 0.6601\n",
            "Epoch 9/100\n",
            "242/242 [==============================] - 2s 6ms/step - loss: 0.6676 - val_loss: 0.6488\n",
            "Epoch 10/100\n",
            "242/242 [==============================] - 1s 4ms/step - loss: 0.6553 - val_loss: 0.6408\n",
            "Epoch 11/100\n",
            "242/242 [==============================] - 1s 3ms/step - loss: 0.6447 - val_loss: 0.6353\n",
            "Epoch 12/100\n",
            "242/242 [==============================] - 1s 4ms/step - loss: 0.6352 - val_loss: 0.6200\n",
            "Epoch 13/100\n",
            "242/242 [==============================] - 1s 3ms/step - loss: 0.6262 - val_loss: 0.6126\n",
            "Epoch 14/100\n",
            "242/242 [==============================] - 1s 3ms/step - loss: 0.6178 - val_loss: 0.6030\n",
            "Epoch 15/100\n",
            "242/242 [==============================] - 1s 3ms/step - loss: 0.6099 - val_loss: 0.5892\n",
            "Epoch 16/100\n",
            "242/242 [==============================] - 1s 4ms/step - loss: 0.6021 - val_loss: 0.5821\n",
            "Epoch 17/100\n",
            "242/242 [==============================] - 1s 4ms/step - loss: 0.5948 - val_loss: 0.5728\n",
            "Epoch 18/100\n",
            "242/242 [==============================] - 1s 4ms/step - loss: 0.5877 - val_loss: 0.5657\n",
            "Epoch 19/100\n",
            "242/242 [==============================] - 1s 4ms/step - loss: 0.5808 - val_loss: 0.5562\n",
            "Epoch 20/100\n",
            "242/242 [==============================] - 1s 4ms/step - loss: 0.5743 - val_loss: 0.5493\n",
            "Epoch 21/100\n",
            "242/242 [==============================] - 1s 4ms/step - loss: 0.5680 - val_loss: 0.5390\n",
            "Epoch 22/100\n",
            "242/242 [==============================] - 1s 4ms/step - loss: 0.5618 - val_loss: 0.5329\n",
            "Epoch 23/100\n",
            "242/242 [==============================] - 1s 5ms/step - loss: 0.5559 - val_loss: 0.5265\n",
            "Epoch 24/100\n",
            "242/242 [==============================] - 1s 5ms/step - loss: 0.5501 - val_loss: 0.5213\n",
            "Epoch 25/100\n",
            "242/242 [==============================] - 1s 4ms/step - loss: 0.5448 - val_loss: 0.5131\n",
            "Epoch 26/100\n",
            "242/242 [==============================] - 1s 3ms/step - loss: 0.5395 - val_loss: 0.5056\n",
            "Epoch 27/100\n",
            "242/242 [==============================] - 1s 3ms/step - loss: 0.5343 - val_loss: 0.5013\n",
            "Epoch 28/100\n",
            "242/242 [==============================] - 1s 4ms/step - loss: 0.5295 - val_loss: 0.4946\n",
            "Epoch 29/100\n",
            "242/242 [==============================] - 1s 4ms/step - loss: 0.5246 - val_loss: 0.4898\n",
            "Epoch 30/100\n",
            "242/242 [==============================] - 1s 3ms/step - loss: 0.5200 - val_loss: 0.4852\n",
            "Epoch 31/100\n",
            "242/242 [==============================] - 1s 4ms/step - loss: 0.5156 - val_loss: 0.4809\n",
            "Epoch 32/100\n",
            "242/242 [==============================] - 1s 3ms/step - loss: 0.5114 - val_loss: 0.4765\n",
            "Epoch 33/100\n",
            "242/242 [==============================] - 1s 3ms/step - loss: 0.5073 - val_loss: 0.4725\n",
            "Epoch 34/100\n",
            "242/242 [==============================] - 1s 3ms/step - loss: 0.5033 - val_loss: 0.4688\n",
            "Epoch 35/100\n",
            "242/242 [==============================] - 1s 4ms/step - loss: 0.4995 - val_loss: 0.4654\n",
            "Epoch 36/100\n",
            "242/242 [==============================] - 1s 4ms/step - loss: 0.4958 - val_loss: 0.4619\n",
            "Epoch 37/100\n",
            "242/242 [==============================] - 2s 7ms/step - loss: 0.4923 - val_loss: 0.4593\n",
            "Epoch 38/100\n",
            "242/242 [==============================] - 2s 7ms/step - loss: 0.4889 - val_loss: 0.4557\n",
            "Epoch 39/100\n",
            "242/242 [==============================] - 1s 3ms/step - loss: 0.4856 - val_loss: 0.4531\n",
            "Epoch 40/100\n",
            "242/242 [==============================] - 1s 4ms/step - loss: 0.4824 - val_loss: 0.4510\n",
            "Epoch 41/100\n",
            "242/242 [==============================] - 1s 3ms/step - loss: 0.4793 - val_loss: 0.4476\n",
            "Epoch 42/100\n",
            "242/242 [==============================] - 1s 3ms/step - loss: 0.4763 - val_loss: 0.4454\n",
            "Epoch 43/100\n",
            "242/242 [==============================] - 1s 3ms/step - loss: 0.4735 - val_loss: 0.4430\n",
            "Epoch 44/100\n",
            "242/242 [==============================] - 1s 4ms/step - loss: 0.4707 - val_loss: 0.4408\n",
            "Epoch 45/100\n",
            "242/242 [==============================] - 1s 3ms/step - loss: 0.4680 - val_loss: 0.4380\n",
            "Epoch 46/100\n",
            "242/242 [==============================] - 1s 3ms/step - loss: 0.4654 - val_loss: 0.4360\n",
            "Epoch 47/100\n",
            "242/242 [==============================] - 1s 4ms/step - loss: 0.4630 - val_loss: 0.4352\n",
            "Epoch 48/100\n",
            "242/242 [==============================] - 1s 4ms/step - loss: 0.4606 - val_loss: 0.4334\n",
            "Epoch 49/100\n",
            "242/242 [==============================] - 1s 4ms/step - loss: 0.4583 - val_loss: 0.4319\n",
            "Epoch 50/100\n",
            "242/242 [==============================] - 1s 5ms/step - loss: 0.4561 - val_loss: 0.4300\n",
            "Epoch 51/100\n",
            "242/242 [==============================] - 2s 6ms/step - loss: 0.4539 - val_loss: 0.4279\n",
            "Epoch 52/100\n",
            "242/242 [==============================] - 1s 4ms/step - loss: 0.4519 - val_loss: 0.4281\n",
            "Epoch 53/100\n",
            "242/242 [==============================] - 1s 4ms/step - loss: 0.4500 - val_loss: 0.4275\n",
            "Epoch 54/100\n",
            "242/242 [==============================] - 1s 3ms/step - loss: 0.4480 - val_loss: 0.4245\n",
            "Epoch 55/100\n",
            "242/242 [==============================] - 1s 3ms/step - loss: 0.4462 - val_loss: 0.4250\n",
            "Epoch 56/100\n",
            "242/242 [==============================] - 1s 4ms/step - loss: 0.4444 - val_loss: 0.4245\n",
            "Epoch 57/100\n",
            "242/242 [==============================] - 1s 3ms/step - loss: 0.4427 - val_loss: 0.4221\n",
            "Epoch 58/100\n",
            "242/242 [==============================] - 1s 4ms/step - loss: 0.4411 - val_loss: 0.4232\n",
            "Epoch 59/100\n",
            "242/242 [==============================] - 1s 3ms/step - loss: 0.4395 - val_loss: 0.4214\n",
            "Epoch 60/100\n",
            "242/242 [==============================] - 1s 4ms/step - loss: 0.4379 - val_loss: 0.4201\n",
            "Epoch 61/100\n",
            "242/242 [==============================] - 1s 4ms/step - loss: 0.4364 - val_loss: 0.4207\n",
            "Epoch 62/100\n",
            "242/242 [==============================] - 1s 4ms/step - loss: 0.4350 - val_loss: 0.4204\n",
            "Epoch 63/100\n",
            "242/242 [==============================] - 1s 4ms/step - loss: 0.4336 - val_loss: 0.4192\n",
            "Epoch 64/100\n",
            "242/242 [==============================] - 1s 6ms/step - loss: 0.4322 - val_loss: 0.4212\n",
            "Epoch 65/100\n",
            "242/242 [==============================] - 1s 5ms/step - loss: 0.4308 - val_loss: 0.4204\n",
            "Epoch 66/100\n",
            "242/242 [==============================] - 1s 4ms/step - loss: 0.4296 - val_loss: 0.4169\n",
            "Epoch 67/100\n",
            "242/242 [==============================] - 1s 3ms/step - loss: 0.4283 - val_loss: 0.4170\n",
            "Epoch 68/100\n",
            "242/242 [==============================] - 1s 4ms/step - loss: 0.4271 - val_loss: 0.4184\n",
            "Epoch 69/100\n",
            "242/242 [==============================] - 1s 4ms/step - loss: 0.4259 - val_loss: 0.4174\n",
            "Epoch 70/100\n",
            "242/242 [==============================] - 1s 4ms/step - loss: 0.4247 - val_loss: 0.4166\n",
            "Epoch 71/100\n",
            "242/242 [==============================] - 1s 3ms/step - loss: 0.4236 - val_loss: 0.4173\n",
            "Epoch 72/100\n",
            "242/242 [==============================] - 1s 3ms/step - loss: 0.4226 - val_loss: 0.4185\n",
            "Epoch 73/100\n",
            "242/242 [==============================] - 1s 3ms/step - loss: 0.4215 - val_loss: 0.4146\n",
            "Epoch 74/100\n",
            "242/242 [==============================] - 1s 4ms/step - loss: 0.4205 - val_loss: 0.4164\n",
            "Epoch 75/100\n",
            "242/242 [==============================] - 1s 3ms/step - loss: 0.4195 - val_loss: 0.4162\n",
            "Epoch 76/100\n",
            "242/242 [==============================] - 1s 4ms/step - loss: 0.4185 - val_loss: 0.4149\n",
            "Epoch 77/100\n",
            "242/242 [==============================] - 1s 4ms/step - loss: 0.4177 - val_loss: 0.4124\n",
            "Epoch 78/100\n",
            "242/242 [==============================] - 1s 5ms/step - loss: 0.4168 - val_loss: 0.4148\n",
            "Epoch 79/100\n",
            "242/242 [==============================] - 2s 7ms/step - loss: 0.4159 - val_loss: 0.4161\n",
            "Epoch 80/100\n",
            "242/242 [==============================] - 1s 4ms/step - loss: 0.4150 - val_loss: 0.4146\n",
            "Epoch 81/100\n",
            "242/242 [==============================] - 1s 3ms/step - loss: 0.4142 - val_loss: 0.4161\n",
            "Epoch 82/100\n",
            "242/242 [==============================] - 1s 3ms/step - loss: 0.4134 - val_loss: 0.4188\n",
            "Epoch 83/100\n",
            "242/242 [==============================] - 1s 4ms/step - loss: 0.4126 - val_loss: 0.4167\n",
            "Epoch 84/100\n",
            "242/242 [==============================] - 1s 4ms/step - loss: 0.4118 - val_loss: 0.4166\n",
            "Epoch 85/100\n",
            "242/242 [==============================] - 1s 3ms/step - loss: 0.4111 - val_loss: 0.4149\n",
            "Epoch 86/100\n",
            "242/242 [==============================] - 1s 4ms/step - loss: 0.4103 - val_loss: 0.4173\n",
            "Epoch 87/100\n",
            "242/242 [==============================] - 1s 4ms/step - loss: 0.4097 - val_loss: 0.4121\n",
            "Epoch 88/100\n",
            "242/242 [==============================] - 1s 4ms/step - loss: 0.4090 - val_loss: 0.4084\n",
            "Epoch 89/100\n",
            "242/242 [==============================] - 1s 4ms/step - loss: 0.4084 - val_loss: 0.4088\n",
            "Epoch 90/100\n",
            "242/242 [==============================] - 1s 4ms/step - loss: 0.4077 - val_loss: 0.4132\n",
            "Epoch 91/100\n",
            "242/242 [==============================] - 1s 4ms/step - loss: 0.4071 - val_loss: 0.4096\n",
            "Epoch 92/100\n",
            "242/242 [==============================] - 1s 5ms/step - loss: 0.4065 - val_loss: 0.4075\n",
            "Epoch 93/100\n",
            "242/242 [==============================] - 1s 5ms/step - loss: 0.4058 - val_loss: 0.4099\n",
            "Epoch 94/100\n",
            "242/242 [==============================] - 1s 3ms/step - loss: 0.4053 - val_loss: 0.4097\n",
            "Epoch 95/100\n",
            "242/242 [==============================] - 1s 3ms/step - loss: 0.4047 - val_loss: 0.4074\n",
            "Epoch 96/100\n",
            "242/242 [==============================] - 1s 4ms/step - loss: 0.4042 - val_loss: 0.4072\n",
            "Epoch 97/100\n",
            "242/242 [==============================] - 1s 3ms/step - loss: 0.4036 - val_loss: 0.4047\n",
            "Epoch 98/100\n",
            "242/242 [==============================] - 1s 4ms/step - loss: 0.4031 - val_loss: 0.4033\n",
            "Epoch 99/100\n",
            "242/242 [==============================] - 1s 3ms/step - loss: 0.4025 - val_loss: 0.4114\n",
            "Epoch 100/100\n",
            "242/242 [==============================] - 1s 4ms/step - loss: 0.4021 - val_loss: 0.4064\n",
            "121/121 [==============================] - 0s 2ms/step\n",
            "[CV] END learning_rate=0.00037078874137762155, n_hidden=1, n_neurons=51; total time= 1.6min\n",
            "Epoch 1/100\n",
            "242/242 [==============================] - 1s 4ms/step - loss: 2.8106 - val_loss: 11.3497\n",
            "Epoch 2/100\n",
            "242/242 [==============================] - 1s 4ms/step - loss: 1.4997 - val_loss: 15.1456\n",
            "Epoch 3/100\n",
            "242/242 [==============================] - 1s 3ms/step - loss: 1.0961 - val_loss: 15.1686\n",
            "Epoch 4/100\n",
            "242/242 [==============================] - 1s 4ms/step - loss: 0.9452 - val_loss: 13.4392\n",
            "Epoch 5/100\n",
            "242/242 [==============================] - 1s 5ms/step - loss: 0.8717 - val_loss: 11.2469\n",
            "Epoch 6/100\n",
            "242/242 [==============================] - 1s 5ms/step - loss: 0.8278 - val_loss: 9.2222\n",
            "Epoch 7/100\n",
            "242/242 [==============================] - 1s 4ms/step - loss: 0.7974 - val_loss: 7.4861\n",
            "Epoch 8/100\n",
            "242/242 [==============================] - 1s 3ms/step - loss: 0.7737 - val_loss: 5.9700\n",
            "Epoch 9/100\n",
            "242/242 [==============================] - 1s 3ms/step - loss: 0.7538 - val_loss: 4.7589\n",
            "Epoch 10/100\n",
            "242/242 [==============================] - 1s 3ms/step - loss: 0.7363 - val_loss: 3.7619\n",
            "Epoch 11/100\n",
            "242/242 [==============================] - 1s 3ms/step - loss: 0.7204 - val_loss: 2.9622\n",
            "Epoch 12/100\n",
            "242/242 [==============================] - 1s 4ms/step - loss: 0.7056 - val_loss: 2.2765\n",
            "Epoch 13/100\n",
            "242/242 [==============================] - 1s 3ms/step - loss: 0.6920 - val_loss: 1.7637\n",
            "Epoch 14/100\n",
            "242/242 [==============================] - 1s 4ms/step - loss: 0.6793 - val_loss: 1.3844\n",
            "Epoch 15/100\n",
            "242/242 [==============================] - 1s 3ms/step - loss: 0.6672 - val_loss: 1.0848\n",
            "Epoch 16/100\n",
            "242/242 [==============================] - 1s 3ms/step - loss: 0.6559 - val_loss: 0.8782\n",
            "Epoch 17/100\n",
            "242/242 [==============================] - 1s 4ms/step - loss: 0.6451 - val_loss: 0.7354\n",
            "Epoch 18/100\n",
            "242/242 [==============================] - 1s 4ms/step - loss: 0.6349 - val_loss: 0.6514\n",
            "Epoch 19/100\n",
            "242/242 [==============================] - 1s 5ms/step - loss: 0.6253 - val_loss: 0.6173\n",
            "Epoch 20/100\n",
            "242/242 [==============================] - 1s 5ms/step - loss: 0.6162 - val_loss: 0.6241\n",
            "Epoch 21/100\n",
            "242/242 [==============================] - 2s 6ms/step - loss: 0.6075 - val_loss: 0.6683\n",
            "Epoch 22/100\n",
            "242/242 [==============================] - 1s 3ms/step - loss: 0.5993 - val_loss: 0.7338\n",
            "Epoch 23/100\n",
            "242/242 [==============================] - 1s 3ms/step - loss: 0.5915 - val_loss: 0.8237\n",
            "Epoch 24/100\n",
            "242/242 [==============================] - 1s 4ms/step - loss: 0.5841 - val_loss: 0.9288\n",
            "Epoch 25/100\n",
            "242/242 [==============================] - 1s 3ms/step - loss: 0.5771 - val_loss: 1.0534\n",
            "Epoch 26/100\n",
            "242/242 [==============================] - 1s 3ms/step - loss: 0.5705 - val_loss: 1.1835\n",
            "Epoch 27/100\n",
            "242/242 [==============================] - 1s 4ms/step - loss: 0.5641 - val_loss: 1.3183\n",
            "Epoch 28/100\n",
            "242/242 [==============================] - 1s 4ms/step - loss: 0.5580 - val_loss: 1.4636\n",
            "Epoch 29/100\n",
            "242/242 [==============================] - 1s 4ms/step - loss: 0.5521 - val_loss: 1.5680\n",
            "121/121 [==============================] - 0s 2ms/step\n",
            "[CV] END learning_rate=0.00037078874137762155, n_hidden=1, n_neurons=51; total time=  28.3s\n",
            "Epoch 1/100\n",
            "242/242 [==============================] - 1s 4ms/step - loss: 4.4230 - val_loss: 2.4797\n",
            "Epoch 2/100\n",
            "242/242 [==============================] - 1s 5ms/step - loss: 1.6860 - val_loss: 2.3093\n",
            "Epoch 3/100\n",
            "242/242 [==============================] - 2s 7ms/step - loss: 1.0242 - val_loss: 1.7525\n",
            "Epoch 4/100\n",
            "242/242 [==============================] - 1s 5ms/step - loss: 0.8259 - val_loss: 1.3029\n",
            "Epoch 5/100\n",
            "242/242 [==============================] - 1s 4ms/step - loss: 0.7512 - val_loss: 0.9508\n",
            "Epoch 6/100\n",
            "242/242 [==============================] - 1s 3ms/step - loss: 0.7141 - val_loss: 0.7827\n",
            "Epoch 7/100\n",
            "242/242 [==============================] - 1s 3ms/step - loss: 0.6904 - val_loss: 0.6952\n",
            "Epoch 8/100\n",
            "242/242 [==============================] - 1s 4ms/step - loss: 0.6725 - val_loss: 0.6408\n",
            "Epoch 9/100\n",
            "242/242 [==============================] - 1s 3ms/step - loss: 0.6577 - val_loss: 0.6205\n",
            "Epoch 10/100\n",
            "242/242 [==============================] - 1s 4ms/step - loss: 0.6445 - val_loss: 0.6059\n",
            "Epoch 11/100\n",
            "242/242 [==============================] - 1s 3ms/step - loss: 0.6323 - val_loss: 0.5896\n",
            "Epoch 12/100\n",
            "242/242 [==============================] - 1s 4ms/step - loss: 0.6211 - val_loss: 0.5790\n",
            "Epoch 13/100\n",
            "242/242 [==============================] - 1s 3ms/step - loss: 0.6105 - val_loss: 0.5695\n",
            "Epoch 14/100\n",
            "242/242 [==============================] - 1s 4ms/step - loss: 0.6005 - val_loss: 0.5604\n",
            "Epoch 15/100\n",
            "242/242 [==============================] - 1s 4ms/step - loss: 0.5911 - val_loss: 0.5517\n",
            "Epoch 16/100\n",
            "242/242 [==============================] - 1s 5ms/step - loss: 0.5821 - val_loss: 0.5419\n",
            "Epoch 17/100\n",
            "242/242 [==============================] - 2s 7ms/step - loss: 0.5737 - val_loss: 0.5340\n",
            "Epoch 18/100\n",
            "242/242 [==============================] - 1s 4ms/step - loss: 0.5657 - val_loss: 0.5265\n",
            "Epoch 19/100\n",
            "242/242 [==============================] - 1s 3ms/step - loss: 0.5579 - val_loss: 0.5190\n",
            "Epoch 20/100\n",
            "242/242 [==============================] - 1s 3ms/step - loss: 0.5509 - val_loss: 0.5119\n",
            "Epoch 21/100\n",
            "242/242 [==============================] - 1s 4ms/step - loss: 0.5438 - val_loss: 0.5052\n",
            "Epoch 22/100\n",
            "242/242 [==============================] - 1s 4ms/step - loss: 0.5371 - val_loss: 0.4987\n",
            "Epoch 23/100\n",
            "242/242 [==============================] - 1s 3ms/step - loss: 0.5308 - val_loss: 0.4929\n",
            "Epoch 24/100\n",
            "242/242 [==============================] - 1s 4ms/step - loss: 0.5247 - val_loss: 0.4884\n",
            "Epoch 25/100\n",
            "242/242 [==============================] - 1s 4ms/step - loss: 0.5189 - val_loss: 0.4825\n",
            "Epoch 26/100\n",
            "242/242 [==============================] - 1s 4ms/step - loss: 0.5133 - val_loss: 0.4779\n",
            "Epoch 27/100\n",
            "242/242 [==============================] - 1s 4ms/step - loss: 0.5080 - val_loss: 0.4710\n",
            "Epoch 28/100\n",
            "242/242 [==============================] - 1s 4ms/step - loss: 0.5031 - val_loss: 0.4667\n",
            "Epoch 29/100\n",
            "242/242 [==============================] - 1s 5ms/step - loss: 0.4983 - val_loss: 0.4624\n",
            "Epoch 30/100\n",
            "242/242 [==============================] - 1s 5ms/step - loss: 0.4938 - val_loss: 0.4583\n",
            "Epoch 31/100\n",
            "242/242 [==============================] - 1s 5ms/step - loss: 0.4894 - val_loss: 0.4532\n",
            "Epoch 32/100\n",
            "242/242 [==============================] - 1s 4ms/step - loss: 0.4854 - val_loss: 0.4499\n",
            "Epoch 33/100\n",
            "242/242 [==============================] - 1s 3ms/step - loss: 0.4815 - val_loss: 0.4458\n",
            "Epoch 34/100\n",
            "242/242 [==============================] - 1s 3ms/step - loss: 0.4779 - val_loss: 0.4431\n",
            "Epoch 35/100\n",
            "242/242 [==============================] - 1s 4ms/step - loss: 0.4743 - val_loss: 0.4399\n",
            "Epoch 36/100\n",
            "242/242 [==============================] - 1s 4ms/step - loss: 0.4710 - val_loss: 0.4391\n",
            "Epoch 37/100\n",
            "242/242 [==============================] - 1s 3ms/step - loss: 0.4679 - val_loss: 0.4386\n",
            "Epoch 38/100\n",
            "242/242 [==============================] - 1s 4ms/step - loss: 0.4649 - val_loss: 0.4347\n",
            "Epoch 39/100\n",
            "242/242 [==============================] - 1s 4ms/step - loss: 0.4621 - val_loss: 0.4321\n",
            "Epoch 40/100\n",
            "242/242 [==============================] - 1s 4ms/step - loss: 0.4594 - val_loss: 0.4293\n",
            "Epoch 41/100\n",
            "242/242 [==============================] - 1s 4ms/step - loss: 0.4569 - val_loss: 0.4290\n",
            "Epoch 42/100\n",
            "242/242 [==============================] - 1s 3ms/step - loss: 0.4545 - val_loss: 0.4285\n",
            "Epoch 43/100\n",
            "242/242 [==============================] - 1s 4ms/step - loss: 0.4521 - val_loss: 0.4258\n",
            "Epoch 44/100\n",
            "242/242 [==============================] - 1s 5ms/step - loss: 0.4501 - val_loss: 0.4249\n",
            "Epoch 45/100\n",
            "242/242 [==============================] - 1s 5ms/step - loss: 0.4479 - val_loss: 0.4217\n",
            "Epoch 46/100\n",
            "242/242 [==============================] - 1s 4ms/step - loss: 0.4460 - val_loss: 0.4202\n",
            "Epoch 47/100\n",
            "242/242 [==============================] - 1s 4ms/step - loss: 0.4441 - val_loss: 0.4222\n",
            "Epoch 48/100\n",
            "242/242 [==============================] - 1s 3ms/step - loss: 0.4423 - val_loss: 0.4199\n",
            "Epoch 49/100\n",
            "242/242 [==============================] - 1s 3ms/step - loss: 0.4406 - val_loss: 0.4202\n",
            "Epoch 50/100\n",
            "242/242 [==============================] - 1s 4ms/step - loss: 0.4390 - val_loss: 0.4206\n",
            "Epoch 51/100\n",
            "242/242 [==============================] - 1s 3ms/step - loss: 0.4374 - val_loss: 0.4206\n",
            "Epoch 52/100\n",
            "242/242 [==============================] - 1s 4ms/step - loss: 0.4359 - val_loss: 0.4203\n",
            "Epoch 53/100\n",
            "242/242 [==============================] - 1s 4ms/step - loss: 0.4345 - val_loss: 0.4205\n",
            "Epoch 54/100\n",
            "242/242 [==============================] - 1s 4ms/step - loss: 0.4331 - val_loss: 0.4208\n",
            "Epoch 55/100\n",
            "242/242 [==============================] - 1s 4ms/step - loss: 0.4318 - val_loss: 0.4205\n",
            "Epoch 56/100\n",
            "242/242 [==============================] - 1s 4ms/step - loss: 0.4305 - val_loss: 0.4230\n",
            "Epoch 57/100\n",
            "242/242 [==============================] - 1s 3ms/step - loss: 0.4293 - val_loss: 0.4203\n",
            "Epoch 58/100\n",
            "242/242 [==============================] - 1s 4ms/step - loss: 0.4281 - val_loss: 0.4230\n",
            "121/121 [==============================] - 0s 3ms/step\n",
            "[CV] END learning_rate=0.00037078874137762155, n_hidden=1, n_neurons=51; total time=  57.3s\n",
            "Epoch 1/100\n",
            "242/242 [==============================] - 2s 5ms/step - loss: 1.6769 - val_loss: 0.8397\n",
            "Epoch 2/100\n",
            "242/242 [==============================] - 1s 4ms/step - loss: 0.7095 - val_loss: 0.6234\n",
            "Epoch 3/100\n",
            "242/242 [==============================] - 1s 4ms/step - loss: 0.6176 - val_loss: 0.5642\n",
            "Epoch 4/100\n",
            "242/242 [==============================] - 1s 3ms/step - loss: 0.5630 - val_loss: 0.5204\n",
            "Epoch 5/100\n",
            "242/242 [==============================] - 1s 4ms/step - loss: 0.5251 - val_loss: 0.5011\n",
            "Epoch 6/100\n",
            "242/242 [==============================] - 1s 4ms/step - loss: 0.4962 - val_loss: 0.4813\n",
            "Epoch 7/100\n",
            "242/242 [==============================] - 1s 3ms/step - loss: 0.4737 - val_loss: 0.4528\n",
            "Epoch 8/100\n",
            "242/242 [==============================] - 1s 4ms/step - loss: 0.4558 - val_loss: 0.4654\n",
            "Epoch 9/100\n",
            "242/242 [==============================] - 1s 3ms/step - loss: 0.4413 - val_loss: 0.4660\n",
            "Epoch 10/100\n",
            "242/242 [==============================] - 1s 4ms/step - loss: 0.4293 - val_loss: 0.4430\n",
            "Epoch 11/100\n",
            "242/242 [==============================] - 1s 4ms/step - loss: 0.4192 - val_loss: 0.4284\n",
            "Epoch 12/100\n",
            "242/242 [==============================] - 1s 4ms/step - loss: 0.4107 - val_loss: 0.4189\n",
            "Epoch 13/100\n",
            "242/242 [==============================] - 2s 6ms/step - loss: 0.4035 - val_loss: 0.4302\n",
            "Epoch 14/100\n",
            "242/242 [==============================] - 1s 5ms/step - loss: 0.3979 - val_loss: 0.4636\n",
            "Epoch 15/100\n",
            "242/242 [==============================] - 1s 3ms/step - loss: 0.3927 - val_loss: 0.4339\n",
            "Epoch 16/100\n",
            "242/242 [==============================] - 1s 4ms/step - loss: 0.3883 - val_loss: 0.4450\n",
            "Epoch 17/100\n",
            "242/242 [==============================] - 1s 3ms/step - loss: 0.3841 - val_loss: 0.4625\n",
            "Epoch 18/100\n",
            "242/242 [==============================] - 1s 4ms/step - loss: 0.3808 - val_loss: 0.4510\n",
            "Epoch 19/100\n",
            "242/242 [==============================] - 1s 4ms/step - loss: 0.3773 - val_loss: 0.4623\n",
            "Epoch 20/100\n",
            "242/242 [==============================] - 1s 4ms/step - loss: 0.3752 - val_loss: 0.4543\n",
            "Epoch 21/100\n",
            "242/242 [==============================] - 1s 4ms/step - loss: 0.3724 - val_loss: 0.4710\n",
            "Epoch 22/100\n",
            "242/242 [==============================] - 1s 4ms/step - loss: 0.3701 - val_loss: 0.4502\n",
            "121/121 [==============================] - 0s 2ms/step\n",
            "[CV] END learning_rate=0.0016535051383872372, n_hidden=2, n_neurons=70; total time=  42.6s\n",
            "Epoch 1/100\n",
            "242/242 [==============================] - 2s 5ms/step - loss: 1.7333 - val_loss: 7.2867\n",
            "Epoch 2/100\n",
            "242/242 [==============================] - 1s 4ms/step - loss: 0.7237 - val_loss: 3.4902\n",
            "Epoch 3/100\n",
            "242/242 [==============================] - 1s 3ms/step - loss: 0.6308 - val_loss: 1.3734\n",
            "Epoch 4/100\n",
            "242/242 [==============================] - 1s 4ms/step - loss: 0.5729 - val_loss: 0.5936\n",
            "Epoch 5/100\n",
            "242/242 [==============================] - 1s 4ms/step - loss: 0.5293 - val_loss: 0.4960\n",
            "Epoch 6/100\n",
            "242/242 [==============================] - 1s 6ms/step - loss: 0.4971 - val_loss: 0.5894\n",
            "Epoch 7/100\n",
            "242/242 [==============================] - 2s 7ms/step - loss: 0.4731 - val_loss: 0.6982\n",
            "Epoch 8/100\n",
            "242/242 [==============================] - 1s 4ms/step - loss: 0.4544 - val_loss: 0.8162\n",
            "Epoch 9/100\n",
            "242/242 [==============================] - 1s 4ms/step - loss: 0.4399 - val_loss: 0.7523\n",
            "Epoch 10/100\n",
            "242/242 [==============================] - 1s 4ms/step - loss: 0.4293 - val_loss: 0.7063\n",
            "Epoch 11/100\n",
            "242/242 [==============================] - 1s 4ms/step - loss: 0.4196 - val_loss: 0.6249\n",
            "Epoch 12/100\n",
            "242/242 [==============================] - 1s 4ms/step - loss: 0.4115 - val_loss: 0.5938\n",
            "Epoch 13/100\n",
            "242/242 [==============================] - 1s 4ms/step - loss: 0.4052 - val_loss: 0.5230\n",
            "Epoch 14/100\n",
            "242/242 [==============================] - 1s 4ms/step - loss: 0.3993 - val_loss: 0.4188\n",
            "Epoch 15/100\n",
            "242/242 [==============================] - 1s 4ms/step - loss: 0.3940 - val_loss: 0.3897\n",
            "Epoch 16/100\n",
            "242/242 [==============================] - 1s 4ms/step - loss: 0.3892 - val_loss: 0.3626\n",
            "Epoch 17/100\n",
            "242/242 [==============================] - 1s 4ms/step - loss: 0.3846 - val_loss: 0.3584\n",
            "Epoch 18/100\n",
            "242/242 [==============================] - 1s 4ms/step - loss: 0.3812 - val_loss: 0.3705\n",
            "Epoch 19/100\n",
            "242/242 [==============================] - 2s 7ms/step - loss: 0.3767 - val_loss: 0.3709\n",
            "Epoch 20/100\n",
            "242/242 [==============================] - 2s 7ms/step - loss: 0.3737 - val_loss: 0.3863\n",
            "Epoch 21/100\n",
            "242/242 [==============================] - 1s 4ms/step - loss: 0.3711 - val_loss: 0.4049\n",
            "Epoch 22/100\n",
            "242/242 [==============================] - 1s 4ms/step - loss: 0.3681 - val_loss: 0.4172\n",
            "Epoch 23/100\n",
            "242/242 [==============================] - 1s 4ms/step - loss: 0.3655 - val_loss: 0.4675\n",
            "Epoch 24/100\n",
            "242/242 [==============================] - 1s 4ms/step - loss: 0.3634 - val_loss: 0.4603\n",
            "Epoch 25/100\n",
            "242/242 [==============================] - 1s 4ms/step - loss: 0.3613 - val_loss: 0.4835\n",
            "Epoch 26/100\n",
            "242/242 [==============================] - 1s 4ms/step - loss: 0.3594 - val_loss: 0.5035\n",
            "Epoch 27/100\n",
            "242/242 [==============================] - 1s 4ms/step - loss: 0.3571 - val_loss: 0.5081\n",
            "121/121 [==============================] - 0s 2ms/step\n",
            "[CV] END learning_rate=0.0016535051383872372, n_hidden=2, n_neurons=70; total time=  29.1s\n",
            "Epoch 1/100\n",
            "242/242 [==============================] - 1s 4ms/step - loss: 1.5868 - val_loss: 1.4823\n",
            "Epoch 2/100\n",
            "242/242 [==============================] - 1s 4ms/step - loss: 0.7380 - val_loss: 0.6748\n",
            "Epoch 3/100\n",
            "242/242 [==============================] - 2s 6ms/step - loss: 0.6558 - val_loss: 0.5978\n",
            "Epoch 4/100\n",
            "242/242 [==============================] - 2s 7ms/step - loss: 0.6035 - val_loss: 0.5530\n",
            "Epoch 5/100\n",
            "242/242 [==============================] - 1s 5ms/step - loss: 0.5628 - val_loss: 0.5299\n",
            "Epoch 6/100\n",
            "242/242 [==============================] - 1s 4ms/step - loss: 0.5305 - val_loss: 0.4902\n",
            "Epoch 7/100\n",
            "242/242 [==============================] - 1s 4ms/step - loss: 0.5039 - val_loss: 0.4628\n",
            "Epoch 8/100\n",
            "242/242 [==============================] - 1s 4ms/step - loss: 0.4830 - val_loss: 0.4474\n",
            "Epoch 9/100\n",
            "242/242 [==============================] - 1s 4ms/step - loss: 0.4658 - val_loss: 0.4563\n",
            "Epoch 10/100\n",
            "242/242 [==============================] - 1s 3ms/step - loss: 0.4522 - val_loss: 0.4179\n",
            "Epoch 11/100\n",
            "242/242 [==============================] - 1s 4ms/step - loss: 0.4408 - val_loss: 0.4478\n",
            "Epoch 12/100\n",
            "242/242 [==============================] - 1s 3ms/step - loss: 0.4317 - val_loss: 0.4109\n",
            "Epoch 13/100\n",
            "242/242 [==============================] - 1s 4ms/step - loss: 0.4234 - val_loss: 0.3944\n",
            "Epoch 14/100\n",
            "242/242 [==============================] - 1s 3ms/step - loss: 0.4172 - val_loss: 0.4476\n",
            "Epoch 15/100\n",
            "242/242 [==============================] - 1s 4ms/step - loss: 0.4119 - val_loss: 0.3825\n",
            "Epoch 16/100\n",
            "242/242 [==============================] - 1s 5ms/step - loss: 0.4068 - val_loss: 0.4155\n",
            "Epoch 17/100\n",
            "242/242 [==============================] - 1s 5ms/step - loss: 0.4027 - val_loss: 0.3724\n",
            "Epoch 18/100\n",
            "242/242 [==============================] - 1s 5ms/step - loss: 0.3988 - val_loss: 0.3827\n",
            "Epoch 19/100\n",
            "242/242 [==============================] - 1s 4ms/step - loss: 0.3955 - val_loss: 0.4137\n",
            "Epoch 20/100\n",
            "242/242 [==============================] - 1s 4ms/step - loss: 0.3914 - val_loss: 0.3764\n",
            "Epoch 21/100\n",
            "242/242 [==============================] - 1s 4ms/step - loss: 0.3884 - val_loss: 0.3854\n",
            "Epoch 22/100\n",
            "242/242 [==============================] - 1s 3ms/step - loss: 0.3872 - val_loss: 0.3591\n",
            "Epoch 23/100\n",
            "242/242 [==============================] - 1s 4ms/step - loss: 0.3841 - val_loss: 0.3586\n",
            "Epoch 24/100\n",
            "242/242 [==============================] - 1s 4ms/step - loss: 0.3807 - val_loss: 0.4082\n",
            "Epoch 25/100\n",
            "242/242 [==============================] - 1s 4ms/step - loss: 0.3795 - val_loss: 0.3509\n",
            "Epoch 26/100\n",
            "242/242 [==============================] - 1s 4ms/step - loss: 0.3769 - val_loss: 0.3554\n",
            "Epoch 27/100\n",
            "242/242 [==============================] - 1s 4ms/step - loss: 0.3743 - val_loss: 0.4252\n",
            "Epoch 28/100\n",
            "242/242 [==============================] - 1s 4ms/step - loss: 0.3739 - val_loss: 0.3642\n",
            "Epoch 29/100\n",
            "242/242 [==============================] - 1s 4ms/step - loss: 0.3738 - val_loss: 0.4365\n",
            "Epoch 30/100\n",
            "242/242 [==============================] - 1s 5ms/step - loss: 0.3727 - val_loss: 0.3595\n",
            "Epoch 31/100\n",
            "242/242 [==============================] - 1s 5ms/step - loss: 0.3679 - val_loss: 0.3577\n",
            "Epoch 32/100\n",
            "242/242 [==============================] - 1s 5ms/step - loss: 0.3661 - val_loss: 0.4041\n",
            "Epoch 33/100\n",
            "242/242 [==============================] - 1s 3ms/step - loss: 0.3647 - val_loss: 0.3817\n",
            "Epoch 34/100\n",
            "242/242 [==============================] - 1s 4ms/step - loss: 0.3635 - val_loss: 0.4123\n",
            "Epoch 35/100\n",
            "242/242 [==============================] - 1s 3ms/step - loss: 0.3637 - val_loss: 0.3529\n",
            "121/121 [==============================] - 0s 2ms/step\n",
            "[CV] END learning_rate=0.0016535051383872372, n_hidden=2, n_neurons=70; total time=  42.0s\n",
            "Epoch 1/100\n",
            "242/242 [==============================] - 1s 4ms/step - loss: 1.8223 - val_loss: 735.4039\n",
            "Epoch 2/100\n",
            "242/242 [==============================] - 1s 6ms/step - loss: 6.4010 - val_loss: 1871.1758\n",
            "Epoch 3/100\n",
            "242/242 [==============================] - 1s 5ms/step - loss: 16.4626 - val_loss: 10871.5156\n",
            "Epoch 4/100\n",
            "242/242 [==============================] - 1s 5ms/step - loss: 38.5053 - val_loss: 40342.0000\n",
            "Epoch 5/100\n",
            "242/242 [==============================] - 1s 3ms/step - loss: 168.7286 - val_loss: 191150.7656\n",
            "Epoch 6/100\n",
            "242/242 [==============================] - 1s 3ms/step - loss: 7137.1919 - val_loss: 834192.3125\n",
            "Epoch 7/100\n",
            "242/242 [==============================] - 1s 3ms/step - loss: 8517.8906 - val_loss: 3749507.0000\n",
            "Epoch 8/100\n",
            "242/242 [==============================] - 1s 4ms/step - loss: 125265.9609 - val_loss: 16774502.0000\n",
            "Epoch 9/100\n",
            "242/242 [==============================] - 1s 3ms/step - loss: 258833.4062 - val_loss: 75810264.0000\n",
            "Epoch 10/100\n",
            "242/242 [==============================] - 1s 4ms/step - loss: 3266696.0000 - val_loss: 370673792.0000\n",
            "Epoch 11/100\n",
            "242/242 [==============================] - 1s 4ms/step - loss: 5754428.0000 - val_loss: 1638784384.0000\n",
            "121/121 [==============================] - 0s 2ms/step\n",
            "[CV] END learning_rate=0.018247961881920356, n_hidden=0, n_neurons=40; total time=  11.2s\n",
            "Epoch 1/100\n",
            "242/242 [==============================] - 1s 4ms/step - loss: 0.9298 - val_loss: 16.3020\n",
            "Epoch 2/100\n",
            "242/242 [==============================] - 1s 3ms/step - loss: 0.5570 - val_loss: 20.9325\n",
            "Epoch 3/100\n",
            "242/242 [==============================] - 1s 3ms/step - loss: 0.5218 - val_loss: 22.9217\n",
            "Epoch 4/100\n",
            "242/242 [==============================] - 1s 4ms/step - loss: 0.5185 - val_loss: 21.3850\n",
            "Epoch 5/100\n",
            "242/242 [==============================] - 1s 4ms/step - loss: 0.5144 - val_loss: 21.1645\n",
            "Epoch 6/100\n",
            "242/242 [==============================] - 1s 5ms/step - loss: 0.5110 - val_loss: 20.7389\n",
            "Epoch 7/100\n",
            "242/242 [==============================] - 1s 5ms/step - loss: 0.5125 - val_loss: 19.5515\n",
            "Epoch 8/100\n",
            "242/242 [==============================] - 1s 3ms/step - loss: 0.5109 - val_loss: 22.2399\n",
            "Epoch 9/100\n",
            "242/242 [==============================] - 1s 3ms/step - loss: 0.5071 - val_loss: 19.9561\n",
            "Epoch 10/100\n",
            "242/242 [==============================] - 1s 3ms/step - loss: 0.5089 - val_loss: 10.6668\n",
            "Epoch 11/100\n",
            "242/242 [==============================] - 1s 4ms/step - loss: 0.5084 - val_loss: 19.6665\n",
            "Epoch 12/100\n",
            "242/242 [==============================] - 1s 3ms/step - loss: 0.5049 - val_loss: 24.2710\n",
            "Epoch 13/100\n",
            "242/242 [==============================] - 1s 3ms/step - loss: 0.5078 - val_loss: 25.9103\n",
            "Epoch 14/100\n",
            "242/242 [==============================] - 1s 3ms/step - loss: 0.5200 - val_loss: 10.5169\n",
            "Epoch 15/100\n",
            "242/242 [==============================] - 1s 3ms/step - loss: 0.5078 - val_loss: 17.1804\n",
            "Epoch 16/100\n",
            "242/242 [==============================] - 1s 3ms/step - loss: 0.5064 - val_loss: 21.8240\n",
            "Epoch 17/100\n",
            "242/242 [==============================] - 1s 3ms/step - loss: 0.5058 - val_loss: 11.7707\n",
            "Epoch 18/100\n",
            "242/242 [==============================] - 1s 4ms/step - loss: 0.5101 - val_loss: 14.1526\n",
            "Epoch 19/100\n",
            "242/242 [==============================] - 1s 4ms/step - loss: 0.5071 - val_loss: 20.9779\n",
            "Epoch 20/100\n",
            "242/242 [==============================] - 1s 4ms/step - loss: 0.5032 - val_loss: 12.3608\n",
            "Epoch 21/100\n",
            "242/242 [==============================] - 1s 4ms/step - loss: 0.5071 - val_loss: 25.9127\n",
            "Epoch 22/100\n",
            "242/242 [==============================] - 1s 5ms/step - loss: 0.5132 - val_loss: 16.0454\n",
            "Epoch 23/100\n",
            "242/242 [==============================] - 1s 4ms/step - loss: 0.5071 - val_loss: 19.4872\n",
            "Epoch 24/100\n",
            "242/242 [==============================] - 1s 4ms/step - loss: 0.5084 - val_loss: 12.1052\n",
            "121/121 [==============================] - 0s 2ms/step\n",
            "[CV] END learning_rate=0.018247961881920356, n_hidden=0, n_neurons=40; total time=  21.9s\n",
            "Epoch 1/100\n",
            "242/242 [==============================] - 1s 3ms/step - loss: 1.3036 - val_loss: 280.2131\n",
            "Epoch 2/100\n",
            "242/242 [==============================] - 1s 4ms/step - loss: 0.8573 - val_loss: 69.7779\n",
            "Epoch 3/100\n",
            "242/242 [==============================] - 1s 3ms/step - loss: 1.3187 - val_loss: 735.5645\n",
            "Epoch 4/100\n",
            "242/242 [==============================] - 1s 4ms/step - loss: 32.3247 - val_loss: 652.9812\n",
            "Epoch 5/100\n",
            "242/242 [==============================] - 1s 4ms/step - loss: 1.2535 - val_loss: 2553.6174\n",
            "Epoch 6/100\n",
            "242/242 [==============================] - 1s 3ms/step - loss: 8.8221 - val_loss: 1376.8154\n",
            "Epoch 7/100\n",
            "242/242 [==============================] - 1s 3ms/step - loss: 4.6259 - val_loss: 1474.8602\n",
            "Epoch 8/100\n",
            "242/242 [==============================] - 1s 3ms/step - loss: 40.0895 - val_loss: 1340.8431\n",
            "Epoch 9/100\n",
            "242/242 [==============================] - 1s 3ms/step - loss: 10.5836 - val_loss: 1285.3195\n",
            "Epoch 10/100\n",
            "242/242 [==============================] - 1s 4ms/step - loss: 1.4460 - val_loss: 199.7719\n",
            "Epoch 11/100\n",
            "242/242 [==============================] - 1s 5ms/step - loss: 12.8584 - val_loss: 113.7904\n",
            "Epoch 12/100\n",
            "242/242 [==============================] - 1s 5ms/step - loss: 0.6394 - val_loss: 1.2350\n",
            "Epoch 13/100\n",
            "242/242 [==============================] - 1s 5ms/step - loss: 0.7390 - val_loss: 767.1826\n",
            "Epoch 14/100\n",
            "242/242 [==============================] - 1s 3ms/step - loss: 8.9282 - val_loss: 452.8726\n",
            "Epoch 15/100\n",
            "242/242 [==============================] - 1s 4ms/step - loss: 2.1928 - val_loss: 1051.8550\n",
            "Epoch 16/100\n",
            "242/242 [==============================] - 1s 3ms/step - loss: 36.5716 - val_loss: 848.6281\n",
            "Epoch 17/100\n",
            "242/242 [==============================] - 1s 3ms/step - loss: 8.8415 - val_loss: 1110.3925\n",
            "Epoch 18/100\n",
            "242/242 [==============================] - 1s 3ms/step - loss: 3.7609 - val_loss: 489.1742\n",
            "Epoch 19/100\n",
            "242/242 [==============================] - 1s 3ms/step - loss: 24.3780 - val_loss: 302.4297\n",
            "Epoch 20/100\n",
            "242/242 [==============================] - 1s 3ms/step - loss: 3.5456 - val_loss: 344.2554\n",
            "Epoch 21/100\n",
            "242/242 [==============================] - 1s 4ms/step - loss: 4.2103 - val_loss: 547.6784\n",
            "Epoch 22/100\n",
            "242/242 [==============================] - 1s 3ms/step - loss: 4.4465 - val_loss: 384.9243\n",
            "121/121 [==============================] - 0s 2ms/step\n",
            "[CV] END learning_rate=0.018247961881920356, n_hidden=0, n_neurons=40; total time=  21.3s\n",
            "Epoch 1/100\n",
            "242/242 [==============================] - 2s 6ms/step - loss: 1.2493 - val_loss: 1.0428\n",
            "Epoch 2/100\n",
            "242/242 [==============================] - 1s 5ms/step - loss: 0.5994 - val_loss: 0.5496\n",
            "Epoch 3/100\n",
            "242/242 [==============================] - 1s 4ms/step - loss: 0.5125 - val_loss: 0.4518\n",
            "Epoch 4/100\n",
            "242/242 [==============================] - 1s 4ms/step - loss: 0.4581 - val_loss: 0.4180\n",
            "Epoch 5/100\n",
            "242/242 [==============================] - 1s 4ms/step - loss: 0.4262 - val_loss: 0.3965\n",
            "Epoch 6/100\n",
            "242/242 [==============================] - 1s 4ms/step - loss: 0.4073 - val_loss: 0.4057\n",
            "Epoch 7/100\n",
            "242/242 [==============================] - 1s 4ms/step - loss: 0.3947 - val_loss: 0.3939\n",
            "Epoch 8/100\n",
            "242/242 [==============================] - 1s 3ms/step - loss: 0.3847 - val_loss: 0.4174\n",
            "Epoch 9/100\n",
            "242/242 [==============================] - 1s 3ms/step - loss: 0.3778 - val_loss: 0.4017\n",
            "Epoch 10/100\n",
            "242/242 [==============================] - 1s 4ms/step - loss: 0.3723 - val_loss: 0.4023\n",
            "Epoch 11/100\n",
            "242/242 [==============================] - 1s 4ms/step - loss: 0.3673 - val_loss: 0.3643\n",
            "Epoch 12/100\n",
            "242/242 [==============================] - 1s 4ms/step - loss: 0.3618 - val_loss: 0.3691\n",
            "Epoch 13/100\n",
            "242/242 [==============================] - 1s 4ms/step - loss: 0.3575 - val_loss: 0.3911\n",
            "Epoch 14/100\n",
            "242/242 [==============================] - 1s 4ms/step - loss: 0.3556 - val_loss: 0.3704\n",
            "Epoch 15/100\n",
            "242/242 [==============================] - 2s 6ms/step - loss: 0.3512 - val_loss: 0.3657\n",
            "Epoch 16/100\n",
            "242/242 [==============================] - 2s 6ms/step - loss: 0.3491 - val_loss: 0.3857\n",
            "Epoch 17/100\n",
            "242/242 [==============================] - 1s 4ms/step - loss: 0.3457 - val_loss: 0.3698\n",
            "Epoch 18/100\n",
            "242/242 [==============================] - 1s 3ms/step - loss: 0.3438 - val_loss: 0.3743\n",
            "Epoch 19/100\n",
            "242/242 [==============================] - 1s 4ms/step - loss: 0.3407 - val_loss: 0.3710\n",
            "Epoch 20/100\n",
            "242/242 [==============================] - 1s 4ms/step - loss: 0.3394 - val_loss: 0.3583\n",
            "Epoch 21/100\n",
            "242/242 [==============================] - 1s 3ms/step - loss: 0.3368 - val_loss: 0.3678\n",
            "Epoch 22/100\n",
            "242/242 [==============================] - 1s 4ms/step - loss: 0.3359 - val_loss: 0.3736\n",
            "Epoch 23/100\n",
            "242/242 [==============================] - 1s 4ms/step - loss: 0.3336 - val_loss: 0.3442\n",
            "Epoch 24/100\n",
            "242/242 [==============================] - 1s 3ms/step - loss: 0.3324 - val_loss: 0.3349\n",
            "Epoch 25/100\n",
            "242/242 [==============================] - 1s 3ms/step - loss: 0.3300 - val_loss: 0.3523\n",
            "Epoch 26/100\n",
            "242/242 [==============================] - 1s 4ms/step - loss: 0.3286 - val_loss: 0.3282\n",
            "Epoch 27/100\n",
            "242/242 [==============================] - 1s 4ms/step - loss: 0.3276 - val_loss: 0.3565\n",
            "Epoch 28/100\n",
            "242/242 [==============================] - 1s 5ms/step - loss: 0.3274 - val_loss: 0.3918\n",
            "Epoch 29/100\n",
            "242/242 [==============================] - 1s 5ms/step - loss: 0.3249 - val_loss: 0.3620\n",
            "Epoch 30/100\n",
            "242/242 [==============================] - 1s 5ms/step - loss: 0.3239 - val_loss: 0.3177\n",
            "Epoch 31/100\n",
            "242/242 [==============================] - 1s 4ms/step - loss: 0.3224 - val_loss: 0.3274\n",
            "Epoch 32/100\n",
            "242/242 [==============================] - 1s 4ms/step - loss: 0.3215 - val_loss: 0.3185\n",
            "Epoch 33/100\n",
            "242/242 [==============================] - 1s 4ms/step - loss: 0.3194 - val_loss: 0.3570\n",
            "Epoch 34/100\n",
            "242/242 [==============================] - 1s 4ms/step - loss: 0.3184 - val_loss: 0.3404\n",
            "Epoch 35/100\n",
            "242/242 [==============================] - 1s 4ms/step - loss: 0.3172 - val_loss: 0.3208\n",
            "Epoch 36/100\n",
            "242/242 [==============================] - 1s 3ms/step - loss: 0.3163 - val_loss: 0.4281\n",
            "Epoch 37/100\n",
            "242/242 [==============================] - 1s 4ms/step - loss: 0.3159 - val_loss: 0.3505\n",
            "Epoch 38/100\n",
            "242/242 [==============================] - 1s 4ms/step - loss: 0.3151 - val_loss: 0.4929\n",
            "Epoch 39/100\n",
            "242/242 [==============================] - 1s 3ms/step - loss: 0.3149 - val_loss: 0.3355\n",
            "Epoch 40/100\n",
            "242/242 [==============================] - 1s 3ms/step - loss: 0.3132 - val_loss: 0.4764\n",
            "121/121 [==============================] - 0s 2ms/step\n",
            "[CV] END learning_rate=0.004545509695633103, n_hidden=3, n_neurons=30; total time=  40.9s\n",
            "Epoch 1/100\n",
            "242/242 [==============================] - 2s 6ms/step - loss: 1.0696 - val_loss: 0.6092\n",
            "Epoch 2/100\n",
            "242/242 [==============================] - 1s 5ms/step - loss: 0.5206 - val_loss: 0.4709\n",
            "Epoch 3/100\n",
            "242/242 [==============================] - 1s 5ms/step - loss: 0.4632 - val_loss: 0.4180\n",
            "Epoch 4/100\n",
            "242/242 [==============================] - 1s 4ms/step - loss: 0.4363 - val_loss: 0.4229\n",
            "Epoch 5/100\n",
            "242/242 [==============================] - 1s 4ms/step - loss: 0.4182 - val_loss: 0.4880\n",
            "Epoch 6/100\n",
            "242/242 [==============================] - 1s 3ms/step - loss: 0.4064 - val_loss: 0.6196\n",
            "Epoch 7/100\n",
            "242/242 [==============================] - 1s 3ms/step - loss: 0.3982 - val_loss: 0.8638\n",
            "Epoch 8/100\n",
            "242/242 [==============================] - 1s 4ms/step - loss: 0.3917 - val_loss: 1.0089\n",
            "Epoch 9/100\n",
            "242/242 [==============================] - 1s 3ms/step - loss: 0.3857 - val_loss: 1.1843\n",
            "Epoch 10/100\n",
            "242/242 [==============================] - 1s 4ms/step - loss: 0.3824 - val_loss: 1.2003\n",
            "Epoch 11/100\n",
            "242/242 [==============================] - 1s 3ms/step - loss: 0.3770 - val_loss: 1.2656\n",
            "Epoch 12/100\n",
            "242/242 [==============================] - 1s 3ms/step - loss: 0.3727 - val_loss: 1.3757\n",
            "Epoch 13/100\n",
            "242/242 [==============================] - 1s 4ms/step - loss: 0.3707 - val_loss: 1.4466\n",
            "121/121 [==============================] - 0s 2ms/step\n",
            "[CV] END learning_rate=0.004545509695633103, n_hidden=3, n_neurons=30; total time=  13.9s\n",
            "Epoch 1/100\n",
            "242/242 [==============================] - 2s 6ms/step - loss: 1.0519 - val_loss: 0.8835\n",
            "Epoch 2/100\n",
            "242/242 [==============================] - 1s 5ms/step - loss: 0.5787 - val_loss: 0.5470\n",
            "Epoch 3/100\n",
            "242/242 [==============================] - 1s 5ms/step - loss: 0.5066 - val_loss: 0.4587\n",
            "Epoch 4/100\n",
            "242/242 [==============================] - 1s 3ms/step - loss: 0.4632 - val_loss: 0.4262\n",
            "Epoch 5/100\n",
            "242/242 [==============================] - 1s 3ms/step - loss: 0.4300 - val_loss: 0.4023\n",
            "Epoch 6/100\n",
            "242/242 [==============================] - 1s 3ms/step - loss: 0.4111 - val_loss: 0.4117\n",
            "Epoch 7/100\n",
            "242/242 [==============================] - 1s 4ms/step - loss: 0.3970 - val_loss: 0.3781\n",
            "Epoch 8/100\n",
            "242/242 [==============================] - 1s 3ms/step - loss: 0.3883 - val_loss: 0.3770\n",
            "Epoch 9/100\n",
            "242/242 [==============================] - 1s 3ms/step - loss: 0.3804 - val_loss: 0.4040\n",
            "Epoch 10/100\n",
            "242/242 [==============================] - 1s 4ms/step - loss: 0.3749 - val_loss: 0.3655\n",
            "Epoch 11/100\n",
            "242/242 [==============================] - 1s 4ms/step - loss: 0.3713 - val_loss: 0.3928\n",
            "Epoch 12/100\n",
            "242/242 [==============================] - 1s 4ms/step - loss: 0.3667 - val_loss: 0.4020\n",
            "Epoch 13/100\n",
            "242/242 [==============================] - 1s 4ms/step - loss: 0.3623 - val_loss: 0.3649\n",
            "Epoch 14/100\n",
            "242/242 [==============================] - 1s 6ms/step - loss: 0.3596 - val_loss: 0.4003\n",
            "Epoch 15/100\n",
            "242/242 [==============================] - 2s 7ms/step - loss: 0.3574 - val_loss: 0.3610\n",
            "Epoch 16/100\n",
            "242/242 [==============================] - 1s 4ms/step - loss: 0.3538 - val_loss: 0.3541\n",
            "Epoch 17/100\n",
            "242/242 [==============================] - 1s 4ms/step - loss: 0.3516 - val_loss: 0.3539\n",
            "Epoch 18/100\n",
            "242/242 [==============================] - 1s 3ms/step - loss: 0.3489 - val_loss: 0.3665\n",
            "Epoch 19/100\n",
            "242/242 [==============================] - 1s 4ms/step - loss: 0.3477 - val_loss: 0.3638\n",
            "Epoch 20/100\n",
            "242/242 [==============================] - 1s 4ms/step - loss: 0.3448 - val_loss: 0.3604\n",
            "Epoch 21/100\n",
            "242/242 [==============================] - 1s 4ms/step - loss: 0.3433 - val_loss: 0.3522\n",
            "Epoch 22/100\n",
            "242/242 [==============================] - 1s 4ms/step - loss: 0.3417 - val_loss: 0.3384\n",
            "Epoch 23/100\n",
            "242/242 [==============================] - 1s 4ms/step - loss: 0.3397 - val_loss: 0.3610\n",
            "Epoch 24/100\n",
            "242/242 [==============================] - 1s 4ms/step - loss: 0.3378 - val_loss: 0.3702\n",
            "Epoch 25/100\n",
            "242/242 [==============================] - 1s 4ms/step - loss: 0.3373 - val_loss: 0.3223\n",
            "Epoch 26/100\n",
            "242/242 [==============================] - 1s 6ms/step - loss: 0.3350 - val_loss: 0.3421\n",
            "Epoch 27/100\n",
            "242/242 [==============================] - 2s 7ms/step - loss: 0.3333 - val_loss: 0.3770\n",
            "Epoch 28/100\n",
            "242/242 [==============================] - 1s 6ms/step - loss: 0.3328 - val_loss: 0.3535\n",
            "Epoch 29/100\n",
            "242/242 [==============================] - 1s 4ms/step - loss: 0.3326 - val_loss: 0.3727\n",
            "Epoch 30/100\n",
            "242/242 [==============================] - 1s 4ms/step - loss: 0.3316 - val_loss: 0.3521\n",
            "Epoch 31/100\n",
            "242/242 [==============================] - 1s 4ms/step - loss: 0.3292 - val_loss: 0.3448\n",
            "Epoch 32/100\n",
            "242/242 [==============================] - 1s 5ms/step - loss: 0.3281 - val_loss: 0.3717\n",
            "Epoch 33/100\n",
            "242/242 [==============================] - 1s 4ms/step - loss: 0.3271 - val_loss: 0.3491\n",
            "Epoch 34/100\n",
            "242/242 [==============================] - 1s 4ms/step - loss: 0.3250 - val_loss: 0.3870\n",
            "Epoch 35/100\n",
            "242/242 [==============================] - 1s 4ms/step - loss: 0.3256 - val_loss: 0.3282\n",
            "121/121 [==============================] - 0s 2ms/step\n",
            "[CV] END learning_rate=0.004545509695633103, n_hidden=3, n_neurons=30; total time=  38.6s\n",
            "Epoch 1/100\n",
            "242/242 [==============================] - 1s 4ms/step - loss: 1.7106 - val_loss: 5.6968\n",
            "Epoch 2/100\n",
            "242/242 [==============================] - 1s 5ms/step - loss: 0.7425 - val_loss: 5.7470\n",
            "Epoch 3/100\n",
            "242/242 [==============================] - 1s 5ms/step - loss: 0.6219 - val_loss: 2.0434\n",
            "Epoch 4/100\n",
            "242/242 [==============================] - 2s 6ms/step - loss: 0.5794 - val_loss: 1.7430\n",
            "Epoch 5/100\n",
            "242/242 [==============================] - 1s 4ms/step - loss: 0.5317 - val_loss: 0.7802\n",
            "Epoch 6/100\n",
            "242/242 [==============================] - 1s 4ms/step - loss: 0.5111 - val_loss: 0.5711\n",
            "Epoch 7/100\n",
            "242/242 [==============================] - 1s 4ms/step - loss: 0.4864 - val_loss: 0.5050\n",
            "Epoch 8/100\n",
            "242/242 [==============================] - 1s 4ms/step - loss: 0.4750 - val_loss: 0.4927\n",
            "Epoch 9/100\n",
            "242/242 [==============================] - 1s 4ms/step - loss: 0.4615 - val_loss: 0.4510\n",
            "Epoch 10/100\n",
            "242/242 [==============================] - 1s 4ms/step - loss: 0.4519 - val_loss: 0.4249\n",
            "Epoch 11/100\n",
            "242/242 [==============================] - 1s 4ms/step - loss: 0.4439 - val_loss: 0.4192\n",
            "Epoch 12/100\n",
            "242/242 [==============================] - 1s 4ms/step - loss: 0.4373 - val_loss: 0.4258\n",
            "Epoch 13/100\n",
            "242/242 [==============================] - 1s 4ms/step - loss: 0.4312 - val_loss: 0.4055\n",
            "Epoch 14/100\n",
            "242/242 [==============================] - 1s 4ms/step - loss: 0.4262 - val_loss: 0.4280\n",
            "Epoch 15/100\n",
            "242/242 [==============================] - 2s 6ms/step - loss: 0.4219 - val_loss: 0.4021\n",
            "Epoch 16/100\n",
            "242/242 [==============================] - 2s 6ms/step - loss: 0.4177 - val_loss: 0.3939\n",
            "Epoch 17/100\n",
            "242/242 [==============================] - 1s 5ms/step - loss: 0.4141 - val_loss: 0.4331\n",
            "Epoch 18/100\n",
            "242/242 [==============================] - 1s 4ms/step - loss: 0.4113 - val_loss: 0.3861\n",
            "Epoch 19/100\n",
            "242/242 [==============================] - 1s 3ms/step - loss: 0.4076 - val_loss: 0.4243\n",
            "Epoch 20/100\n",
            "242/242 [==============================] - 1s 3ms/step - loss: 0.4055 - val_loss: 0.3811\n",
            "Epoch 21/100\n",
            "242/242 [==============================] - 1s 4ms/step - loss: 0.4025 - val_loss: 0.4236\n",
            "Epoch 22/100\n",
            "242/242 [==============================] - 1s 3ms/step - loss: 0.4006 - val_loss: 0.3772\n",
            "Epoch 23/100\n",
            "242/242 [==============================] - 1s 4ms/step - loss: 0.3978 - val_loss: 0.3984\n",
            "Epoch 24/100\n",
            "242/242 [==============================] - 1s 3ms/step - loss: 0.3961 - val_loss: 0.3850\n",
            "Epoch 25/100\n",
            "242/242 [==============================] - 1s 4ms/step - loss: 0.3940 - val_loss: 0.4248\n",
            "Epoch 26/100\n",
            "242/242 [==============================] - 1s 3ms/step - loss: 0.3929 - val_loss: 0.4031\n",
            "Epoch 27/100\n",
            "242/242 [==============================] - 1s 3ms/step - loss: 0.3907 - val_loss: 0.4983\n",
            "Epoch 28/100\n",
            "242/242 [==============================] - 1s 4ms/step - loss: 0.3904 - val_loss: 0.3928\n",
            "Epoch 29/100\n",
            "242/242 [==============================] - 1s 5ms/step - loss: 0.3868 - val_loss: 0.5026\n",
            "Epoch 30/100\n",
            "242/242 [==============================] - 1s 5ms/step - loss: 0.3876 - val_loss: 0.4641\n",
            "Epoch 31/100\n",
            "242/242 [==============================] - 1s 5ms/step - loss: 0.3850 - val_loss: 0.4256\n",
            "Epoch 32/100\n",
            "242/242 [==============================] - 1s 4ms/step - loss: 0.3840 - val_loss: 0.4892\n",
            "121/121 [==============================] - 0s 2ms/step\n",
            "[CV] END learning_rate=0.0020587676114196553, n_hidden=1, n_neurons=49; total time=  41.9s\n",
            "Epoch 1/100\n",
            "242/242 [==============================] - 3s 9ms/step - loss: 1.7009 - val_loss: 14.4070\n",
            "Epoch 2/100\n",
            "242/242 [==============================] - 1s 5ms/step - loss: 0.7730 - val_loss: 5.4873\n",
            "Epoch 3/100\n",
            "242/242 [==============================] - 1s 4ms/step - loss: 0.6880 - val_loss: 1.7546\n",
            "Epoch 4/100\n",
            "242/242 [==============================] - 1s 3ms/step - loss: 0.6317 - val_loss: 0.5936\n",
            "Epoch 5/100\n",
            "242/242 [==============================] - 1s 4ms/step - loss: 0.5883 - val_loss: 0.8092\n",
            "Epoch 6/100\n",
            "242/242 [==============================] - 1s 4ms/step - loss: 0.5548 - val_loss: 1.3337\n",
            "Epoch 7/100\n",
            "242/242 [==============================] - 1s 3ms/step - loss: 0.5275 - val_loss: 1.8443\n",
            "Epoch 8/100\n",
            "242/242 [==============================] - 1s 4ms/step - loss: 0.5048 - val_loss: 2.2789\n",
            "Epoch 9/100\n",
            "242/242 [==============================] - 1s 4ms/step - loss: 0.4860 - val_loss: 2.2851\n",
            "Epoch 10/100\n",
            "242/242 [==============================] - 1s 4ms/step - loss: 0.4717 - val_loss: 2.2816\n",
            "Epoch 11/100\n",
            "242/242 [==============================] - 1s 4ms/step - loss: 0.4591 - val_loss: 2.1259\n",
            "Epoch 12/100\n",
            "242/242 [==============================] - 1s 4ms/step - loss: 0.4487 - val_loss: 2.2256\n",
            "Epoch 13/100\n",
            "242/242 [==============================] - 1s 4ms/step - loss: 0.4416 - val_loss: 1.9936\n",
            "Epoch 14/100\n",
            "242/242 [==============================] - 1s 5ms/step - loss: 0.4350 - val_loss: 1.5083\n",
            "121/121 [==============================] - 0s 2ms/step\n",
            "[CV] END learning_rate=0.0020587676114196553, n_hidden=1, n_neurons=49; total time=  21.5s\n",
            "Epoch 1/100\n",
            "242/242 [==============================] - 1s 4ms/step - loss: 2.0121 - val_loss: 0.8829\n",
            "Epoch 2/100\n",
            "242/242 [==============================] - 1s 4ms/step - loss: 0.6805 - val_loss: 0.6008\n",
            "Epoch 3/100\n",
            "242/242 [==============================] - 1s 4ms/step - loss: 0.6005 - val_loss: 0.6069\n",
            "Epoch 4/100\n",
            "242/242 [==============================] - 1s 3ms/step - loss: 0.5588 - val_loss: 0.5465\n",
            "Epoch 5/100\n",
            "242/242 [==============================] - 1s 4ms/step - loss: 0.5298 - val_loss: 0.8057\n",
            "Epoch 6/100\n",
            "242/242 [==============================] - 1s 4ms/step - loss: 0.5065 - val_loss: 0.5361\n",
            "Epoch 7/100\n",
            "242/242 [==============================] - 1s 5ms/step - loss: 0.4877 - val_loss: 0.4894\n",
            "Epoch 8/100\n",
            "242/242 [==============================] - 1s 5ms/step - loss: 0.4724 - val_loss: 0.6192\n",
            "Epoch 9/100\n",
            "242/242 [==============================] - 1s 5ms/step - loss: 0.4644 - val_loss: 0.7593\n",
            "Epoch 10/100\n",
            "242/242 [==============================] - 1s 4ms/step - loss: 0.4551 - val_loss: 0.5421\n",
            "Epoch 11/100\n",
            "242/242 [==============================] - 1s 3ms/step - loss: 0.4477 - val_loss: 0.5686\n",
            "Epoch 12/100\n",
            "242/242 [==============================] - 1s 4ms/step - loss: 0.4402 - val_loss: 0.4404\n",
            "Epoch 13/100\n",
            "242/242 [==============================] - 1s 4ms/step - loss: 0.4341 - val_loss: 0.4522\n",
            "Epoch 14/100\n",
            "242/242 [==============================] - 1s 4ms/step - loss: 0.4296 - val_loss: 0.4050\n",
            "Epoch 15/100\n",
            "242/242 [==============================] - 1s 3ms/step - loss: 0.4251 - val_loss: 0.3963\n",
            "Epoch 16/100\n",
            "242/242 [==============================] - 1s 4ms/step - loss: 0.4212 - val_loss: 0.4164\n",
            "Epoch 17/100\n",
            "242/242 [==============================] - 1s 4ms/step - loss: 0.4181 - val_loss: 0.4360\n",
            "Epoch 18/100\n",
            "242/242 [==============================] - 1s 4ms/step - loss: 0.4155 - val_loss: 0.4284\n",
            "Epoch 19/100\n",
            "242/242 [==============================] - 1s 4ms/step - loss: 0.4133 - val_loss: 0.3865\n",
            "Epoch 20/100\n",
            "242/242 [==============================] - 2s 7ms/step - loss: 0.4099 - val_loss: 0.4170\n",
            "Epoch 21/100\n",
            "242/242 [==============================] - 2s 7ms/step - loss: 0.4079 - val_loss: 0.3794\n",
            "Epoch 22/100\n",
            "242/242 [==============================] - 1s 4ms/step - loss: 0.4056 - val_loss: 0.3776\n",
            "Epoch 23/100\n",
            "242/242 [==============================] - 1s 4ms/step - loss: 0.4035 - val_loss: 0.3754\n",
            "Epoch 24/100\n",
            "242/242 [==============================] - 1s 3ms/step - loss: 0.4013 - val_loss: 0.4228\n",
            "Epoch 25/100\n",
            "242/242 [==============================] - 1s 4ms/step - loss: 0.4008 - val_loss: 0.5143\n",
            "Epoch 26/100\n",
            "242/242 [==============================] - 1s 4ms/step - loss: 0.3989 - val_loss: 0.4111\n",
            "Epoch 27/100\n",
            "242/242 [==============================] - 1s 4ms/step - loss: 0.3974 - val_loss: 0.3696\n",
            "Epoch 28/100\n",
            "242/242 [==============================] - 1s 4ms/step - loss: 0.3954 - val_loss: 0.3762\n",
            "Epoch 29/100\n",
            "242/242 [==============================] - 1s 4ms/step - loss: 0.3937 - val_loss: 0.5426\n",
            "Epoch 30/100\n",
            "242/242 [==============================] - 1s 4ms/step - loss: 0.3950 - val_loss: 0.4228\n",
            "Epoch 31/100\n",
            "242/242 [==============================] - 1s 4ms/step - loss: 0.3917 - val_loss: 0.4412\n",
            "Epoch 32/100\n",
            "242/242 [==============================] - 1s 6ms/step - loss: 0.3916 - val_loss: 0.3635\n",
            "Epoch 33/100\n",
            "242/242 [==============================] - 2s 7ms/step - loss: 0.3888 - val_loss: 0.4587\n",
            "Epoch 34/100\n",
            "242/242 [==============================] - 1s 5ms/step - loss: 0.3897 - val_loss: 0.3622\n",
            "Epoch 35/100\n",
            "242/242 [==============================] - 1s 4ms/step - loss: 0.3873 - val_loss: 0.3616\n",
            "Epoch 36/100\n",
            "242/242 [==============================] - 1s 4ms/step - loss: 0.3860 - val_loss: 0.3590\n",
            "Epoch 37/100\n",
            "242/242 [==============================] - 1s 4ms/step - loss: 0.3858 - val_loss: 0.4052\n",
            "Epoch 38/100\n",
            "242/242 [==============================] - 1s 3ms/step - loss: 0.3850 - val_loss: 0.5310\n",
            "Epoch 39/100\n",
            "242/242 [==============================] - 1s 4ms/step - loss: 0.3859 - val_loss: 0.4058\n",
            "Epoch 40/100\n",
            "242/242 [==============================] - 1s 4ms/step - loss: 0.3834 - val_loss: 0.4874\n",
            "Epoch 41/100\n",
            "242/242 [==============================] - 1s 4ms/step - loss: 0.3836 - val_loss: 0.3602\n",
            "Epoch 42/100\n",
            "242/242 [==============================] - 1s 4ms/step - loss: 0.3810 - val_loss: 0.4272\n",
            "Epoch 43/100\n",
            "242/242 [==============================] - 1s 4ms/step - loss: 0.3810 - val_loss: 0.4347\n",
            "Epoch 44/100\n",
            "242/242 [==============================] - 1s 4ms/step - loss: 0.3802 - val_loss: 0.5743\n",
            "Epoch 45/100\n",
            "242/242 [==============================] - 2s 7ms/step - loss: 0.3831 - val_loss: 0.4820\n",
            "Epoch 46/100\n",
            "242/242 [==============================] - 1s 5ms/step - loss: 0.3797 - val_loss: 0.6504\n",
            "121/121 [==============================] - 0s 3ms/step\n",
            "[CV] END learning_rate=0.0020587676114196553, n_hidden=1, n_neurons=49; total time=  49.4s\n",
            "Epoch 1/100\n",
            "242/242 [==============================] - 2s 5ms/step - loss: 0.9683 - val_loss: 1.4320\n",
            "Epoch 2/100\n",
            "242/242 [==============================] - 1s 4ms/step - loss: 0.5178 - val_loss: 0.4714\n",
            "Epoch 3/100\n",
            "242/242 [==============================] - 1s 4ms/step - loss: 0.4378 - val_loss: 0.4078\n",
            "Epoch 4/100\n",
            "242/242 [==============================] - 1s 4ms/step - loss: 0.4031 - val_loss: 0.3842\n",
            "Epoch 5/100\n",
            "242/242 [==============================] - 1s 5ms/step - loss: 0.3828 - val_loss: 0.3704\n",
            "Epoch 6/100\n",
            "242/242 [==============================] - 1s 5ms/step - loss: 0.3699 - val_loss: 0.4076\n",
            "Epoch 7/100\n",
            "242/242 [==============================] - 1s 4ms/step - loss: 0.3616 - val_loss: 0.3586\n",
            "Epoch 8/100\n",
            "242/242 [==============================] - 1s 4ms/step - loss: 0.3533 - val_loss: 0.4055\n",
            "Epoch 9/100\n",
            "242/242 [==============================] - 1s 5ms/step - loss: 0.3483 - val_loss: 0.3648\n",
            "Epoch 10/100\n",
            "242/242 [==============================] - 1s 6ms/step - loss: 0.3439 - val_loss: 0.3864\n",
            "Epoch 11/100\n",
            "242/242 [==============================] - 2s 7ms/step - loss: 0.3409 - val_loss: 0.3323\n",
            "Epoch 12/100\n",
            "242/242 [==============================] - 1s 4ms/step - loss: 0.3362 - val_loss: 0.3437\n",
            "Epoch 13/100\n",
            "242/242 [==============================] - 1s 5ms/step - loss: 0.3326 - val_loss: 0.3861\n",
            "Epoch 14/100\n",
            "242/242 [==============================] - 1s 4ms/step - loss: 0.3314 - val_loss: 0.3505\n",
            "Epoch 15/100\n",
            "242/242 [==============================] - 1s 4ms/step - loss: 0.3277 - val_loss: 0.3731\n",
            "Epoch 16/100\n",
            "242/242 [==============================] - 1s 5ms/step - loss: 0.3258 - val_loss: 0.3456\n",
            "Epoch 17/100\n",
            "242/242 [==============================] - 1s 4ms/step - loss: 0.3223 - val_loss: 0.3992\n",
            "Epoch 18/100\n",
            "242/242 [==============================] - 1s 4ms/step - loss: 0.3221 - val_loss: 0.3167\n",
            "Epoch 19/100\n",
            "242/242 [==============================] - 1s 5ms/step - loss: 0.3181 - val_loss: 0.3874\n",
            "Epoch 20/100\n",
            "242/242 [==============================] - 1s 4ms/step - loss: 0.3171 - val_loss: 0.3191\n",
            "Epoch 21/100\n",
            "242/242 [==============================] - 1s 6ms/step - loss: 0.3142 - val_loss: 0.3554\n",
            "Epoch 22/100\n",
            "242/242 [==============================] - 2s 7ms/step - loss: 0.3128 - val_loss: 0.3516\n",
            "Epoch 23/100\n",
            "242/242 [==============================] - 1s 6ms/step - loss: 0.3103 - val_loss: 0.3350\n",
            "Epoch 24/100\n",
            "242/242 [==============================] - 1s 5ms/step - loss: 0.3102 - val_loss: 0.3129\n",
            "Epoch 25/100\n",
            "242/242 [==============================] - 1s 5ms/step - loss: 0.3062 - val_loss: 0.3366\n",
            "Epoch 26/100\n",
            "242/242 [==============================] - 1s 5ms/step - loss: 0.3042 - val_loss: 0.3161\n",
            "Epoch 27/100\n",
            "242/242 [==============================] - 1s 4ms/step - loss: 0.3037 - val_loss: 0.3191\n",
            "Epoch 28/100\n",
            "242/242 [==============================] - 1s 5ms/step - loss: 0.3027 - val_loss: 0.3689\n",
            "Epoch 29/100\n",
            "242/242 [==============================] - 1s 4ms/step - loss: 0.3004 - val_loss: 0.3021\n",
            "Epoch 30/100\n",
            "242/242 [==============================] - 1s 4ms/step - loss: 0.2975 - val_loss: 0.3009\n",
            "Epoch 31/100\n",
            "242/242 [==============================] - 1s 5ms/step - loss: 0.2966 - val_loss: 0.2951\n",
            "Epoch 32/100\n",
            "242/242 [==============================] - 2s 7ms/step - loss: 0.2953 - val_loss: 0.2961\n",
            "Epoch 33/100\n",
            "242/242 [==============================] - 2s 8ms/step - loss: 0.2929 - val_loss: 0.3143\n",
            "Epoch 34/100\n",
            "242/242 [==============================] - 1s 5ms/step - loss: 0.2911 - val_loss: 0.3430\n",
            "Epoch 35/100\n",
            "242/242 [==============================] - 1s 5ms/step - loss: 0.2906 - val_loss: 0.3427\n",
            "Epoch 36/100\n",
            "242/242 [==============================] - 1s 5ms/step - loss: 0.2900 - val_loss: 0.3889\n",
            "Epoch 37/100\n",
            "242/242 [==============================] - 1s 4ms/step - loss: 0.2888 - val_loss: 0.3049\n",
            "Epoch 38/100\n",
            "242/242 [==============================] - 1s 5ms/step - loss: 0.2863 - val_loss: 0.3343\n",
            "Epoch 39/100\n",
            "242/242 [==============================] - 1s 5ms/step - loss: 0.2853 - val_loss: 0.2923\n",
            "Epoch 40/100\n",
            "242/242 [==============================] - 1s 5ms/step - loss: 0.2843 - val_loss: 0.3085\n",
            "Epoch 41/100\n",
            "242/242 [==============================] - 1s 4ms/step - loss: 0.2824 - val_loss: 0.2868\n",
            "Epoch 42/100\n",
            "242/242 [==============================] - 1s 4ms/step - loss: 0.2806 - val_loss: 0.2868\n",
            "Epoch 43/100\n",
            "242/242 [==============================] - 1s 6ms/step - loss: 0.2807 - val_loss: 0.2938\n",
            "Epoch 44/100\n",
            "242/242 [==============================] - 2s 7ms/step - loss: 0.2787 - val_loss: 0.2927\n",
            "Epoch 45/100\n",
            "242/242 [==============================] - 1s 6ms/step - loss: 0.2779 - val_loss: 0.2814\n",
            "Epoch 46/100\n",
            "242/242 [==============================] - 1s 4ms/step - loss: 0.2763 - val_loss: 0.3017\n",
            "Epoch 47/100\n",
            "242/242 [==============================] - 1s 4ms/step - loss: 0.2753 - val_loss: 0.3038\n",
            "Epoch 48/100\n",
            "242/242 [==============================] - 1s 4ms/step - loss: 0.2749 - val_loss: 0.2799\n",
            "Epoch 49/100\n",
            "242/242 [==============================] - 1s 4ms/step - loss: 0.2730 - val_loss: 0.2781\n",
            "Epoch 50/100\n",
            "242/242 [==============================] - 1s 5ms/step - loss: 0.2729 - val_loss: 0.3008\n",
            "Epoch 51/100\n",
            "242/242 [==============================] - 1s 5ms/step - loss: 0.2714 - val_loss: 0.2998\n",
            "Epoch 52/100\n",
            "242/242 [==============================] - 1s 4ms/step - loss: 0.2698 - val_loss: 0.3347\n",
            "Epoch 53/100\n",
            "242/242 [==============================] - 1s 4ms/step - loss: 0.2704 - val_loss: 0.2753\n",
            "Epoch 54/100\n",
            "242/242 [==============================] - 1s 5ms/step - loss: 0.2679 - val_loss: 0.2891\n",
            "Epoch 55/100\n",
            "242/242 [==============================] - 1s 6ms/step - loss: 0.2670 - val_loss: 0.2857\n",
            "Epoch 56/100\n",
            "242/242 [==============================] - 2s 7ms/step - loss: 0.2674 - val_loss: 0.2996\n",
            "Epoch 57/100\n",
            "242/242 [==============================] - 1s 5ms/step - loss: 0.2653 - val_loss: 0.2830\n",
            "Epoch 58/100\n",
            "242/242 [==============================] - 1s 4ms/step - loss: 0.2651 - val_loss: 0.3133\n",
            "Epoch 59/100\n",
            "242/242 [==============================] - 1s 4ms/step - loss: 0.2655 - val_loss: 0.2856\n",
            "Epoch 60/100\n",
            "242/242 [==============================] - 1s 4ms/step - loss: 0.2636 - val_loss: 0.2994\n",
            "Epoch 61/100\n",
            "242/242 [==============================] - 1s 4ms/step - loss: 0.2642 - val_loss: 0.2895\n",
            "Epoch 62/100\n",
            "242/242 [==============================] - 1s 4ms/step - loss: 0.2621 - val_loss: 0.2883\n",
            "Epoch 63/100\n",
            "242/242 [==============================] - 1s 4ms/step - loss: 0.2621 - val_loss: 0.2884\n",
            "121/121 [==============================] - 0s 3ms/step\n",
            "[CV] END learning_rate=0.0058036029342010235, n_hidden=3, n_neurons=74; total time= 1.3min\n",
            "Epoch 1/100\n",
            "242/242 [==============================] - 2s 5ms/step - loss: 1.0244 - val_loss: 0.5505\n",
            "Epoch 2/100\n",
            "242/242 [==============================] - 2s 6ms/step - loss: 0.5208 - val_loss: 0.8403\n",
            "Epoch 3/100\n",
            "242/242 [==============================] - 2s 8ms/step - loss: 0.4404 - val_loss: 0.4757\n",
            "Epoch 4/100\n",
            "242/242 [==============================] - 1s 5ms/step - loss: 0.4050 - val_loss: 0.3660\n",
            "Epoch 5/100\n",
            "242/242 [==============================] - 1s 4ms/step - loss: 0.3834 - val_loss: 0.3976\n",
            "Epoch 6/100\n",
            "242/242 [==============================] - 1s 5ms/step - loss: 0.3696 - val_loss: 0.5968\n",
            "Epoch 7/100\n",
            "242/242 [==============================] - 1s 5ms/step - loss: 0.3613 - val_loss: 0.8476\n",
            "Epoch 8/100\n",
            "242/242 [==============================] - 1s 5ms/step - loss: 0.3544 - val_loss: 0.9644\n",
            "Epoch 9/100\n",
            "242/242 [==============================] - 1s 4ms/step - loss: 0.3477 - val_loss: 1.0774\n",
            "Epoch 10/100\n",
            "242/242 [==============================] - 1s 5ms/step - loss: 0.3441 - val_loss: 0.7437\n",
            "Epoch 11/100\n",
            "242/242 [==============================] - 1s 5ms/step - loss: 0.3388 - val_loss: 0.7979\n",
            "Epoch 12/100\n",
            "242/242 [==============================] - 1s 5ms/step - loss: 0.3347 - val_loss: 0.8684\n",
            "Epoch 13/100\n",
            "242/242 [==============================] - 2s 7ms/step - loss: 0.3318 - val_loss: 0.8824\n",
            "Epoch 14/100\n",
            "242/242 [==============================] - 2s 7ms/step - loss: 0.3311 - val_loss: 0.8426\n",
            "121/121 [==============================] - 0s 2ms/step\n",
            "[CV] END learning_rate=0.0058036029342010235, n_hidden=3, n_neurons=74; total time=  19.6s\n",
            "Epoch 1/100\n",
            "242/242 [==============================] - 2s 5ms/step - loss: 0.8980 - val_loss: 5.9646\n",
            "Epoch 2/100\n",
            "242/242 [==============================] - 1s 4ms/step - loss: 0.5201 - val_loss: 6.1661\n",
            "Epoch 3/100\n",
            "242/242 [==============================] - 1s 5ms/step - loss: 0.4652 - val_loss: 1.0770\n",
            "Epoch 4/100\n",
            "242/242 [==============================] - 1s 5ms/step - loss: 0.3994 - val_loss: 0.9728\n",
            "Epoch 5/100\n",
            "242/242 [==============================] - 1s 4ms/step - loss: 0.3844 - val_loss: 0.3953\n",
            "Epoch 6/100\n",
            "242/242 [==============================] - 1s 5ms/step - loss: 0.3716 - val_loss: 0.3741\n",
            "Epoch 7/100\n",
            "242/242 [==============================] - 1s 4ms/step - loss: 0.3643 - val_loss: 0.3781\n",
            "Epoch 8/100\n",
            "242/242 [==============================] - 1s 5ms/step - loss: 0.3593 - val_loss: 0.3799\n",
            "Epoch 9/100\n",
            "242/242 [==============================] - 1s 6ms/step - loss: 0.3547 - val_loss: 0.4361\n",
            "Epoch 10/100\n",
            "242/242 [==============================] - 1s 6ms/step - loss: 0.3546 - val_loss: 0.3415\n",
            "Epoch 11/100\n",
            "242/242 [==============================] - 1s 6ms/step - loss: 0.3474 - val_loss: 0.4123\n",
            "Epoch 12/100\n",
            "242/242 [==============================] - 1s 4ms/step - loss: 0.3448 - val_loss: 0.3754\n",
            "Epoch 13/100\n",
            "242/242 [==============================] - 1s 5ms/step - loss: 0.3420 - val_loss: 0.3372\n",
            "Epoch 14/100\n",
            "242/242 [==============================] - 1s 5ms/step - loss: 0.3397 - val_loss: 0.3978\n",
            "Epoch 15/100\n",
            "242/242 [==============================] - 1s 5ms/step - loss: 0.3374 - val_loss: 0.3242\n",
            "Epoch 16/100\n",
            "242/242 [==============================] - 1s 4ms/step - loss: 0.3342 - val_loss: 0.3823\n",
            "Epoch 17/100\n",
            "242/242 [==============================] - 1s 5ms/step - loss: 0.3334 - val_loss: 0.3220\n",
            "Epoch 18/100\n",
            "242/242 [==============================] - 1s 4ms/step - loss: 0.3306 - val_loss: 0.3540\n",
            "Epoch 19/100\n",
            "242/242 [==============================] - 1s 4ms/step - loss: 0.3282 - val_loss: 0.3865\n",
            "Epoch 20/100\n",
            "242/242 [==============================] - 1s 6ms/step - loss: 0.3256 - val_loss: 0.3740\n",
            "Epoch 21/100\n",
            "242/242 [==============================] - 2s 7ms/step - loss: 0.3251 - val_loss: 0.3530\n",
            "Epoch 22/100\n",
            "242/242 [==============================] - 1s 6ms/step - loss: 0.3231 - val_loss: 0.3131\n",
            "Epoch 23/100\n",
            "242/242 [==============================] - 1s 5ms/step - loss: 0.3204 - val_loss: 0.3376\n",
            "Epoch 24/100\n",
            "242/242 [==============================] - 1s 5ms/step - loss: 0.3182 - val_loss: 0.3537\n",
            "Epoch 25/100\n",
            "242/242 [==============================] - 1s 5ms/step - loss: 0.3157 - val_loss: 0.3152\n",
            "Epoch 26/100\n",
            "242/242 [==============================] - 1s 4ms/step - loss: 0.3140 - val_loss: 0.3228\n",
            "Epoch 27/100\n",
            "242/242 [==============================] - 1s 4ms/step - loss: 0.3119 - val_loss: 0.3728\n",
            "Epoch 28/100\n",
            "242/242 [==============================] - 1s 4ms/step - loss: 0.3125 - val_loss: 0.3063\n",
            "Epoch 29/100\n",
            "242/242 [==============================] - 1s 5ms/step - loss: 0.3130 - val_loss: 0.3530\n",
            "Epoch 30/100\n",
            "242/242 [==============================] - 1s 5ms/step - loss: 0.3109 - val_loss: 0.3593\n",
            "Epoch 31/100\n",
            "242/242 [==============================] - 1s 5ms/step - loss: 0.3076 - val_loss: 0.3266\n",
            "Epoch 32/100\n",
            "242/242 [==============================] - 1s 5ms/step - loss: 0.3056 - val_loss: 0.3591\n",
            "Epoch 33/100\n",
            "242/242 [==============================] - 2s 7ms/step - loss: 0.3049 - val_loss: 0.3535\n",
            "Epoch 34/100\n",
            "242/242 [==============================] - 1s 5ms/step - loss: 0.3024 - val_loss: 0.3194\n",
            "Epoch 35/100\n",
            "242/242 [==============================] - 1s 4ms/step - loss: 0.3014 - val_loss: 0.3022\n",
            "Epoch 36/100\n",
            "242/242 [==============================] - 1s 5ms/step - loss: 0.2989 - val_loss: 0.3465\n",
            "Epoch 37/100\n",
            "242/242 [==============================] - 1s 5ms/step - loss: 0.2977 - val_loss: 0.2972\n",
            "Epoch 38/100\n",
            "242/242 [==============================] - 1s 5ms/step - loss: 0.2972 - val_loss: 0.3550\n",
            "Epoch 39/100\n",
            "242/242 [==============================] - 1s 4ms/step - loss: 0.2971 - val_loss: 0.2924\n",
            "Epoch 40/100\n",
            "242/242 [==============================] - 1s 5ms/step - loss: 0.2962 - val_loss: 0.4061\n",
            "Epoch 41/100\n",
            "242/242 [==============================] - 1s 5ms/step - loss: 0.2941 - val_loss: 0.3195\n",
            "Epoch 42/100\n",
            "242/242 [==============================] - 1s 4ms/step - loss: 0.2929 - val_loss: 0.3890\n",
            "Epoch 43/100\n",
            "242/242 [==============================] - 2s 7ms/step - loss: 0.2930 - val_loss: 0.3148\n",
            "Epoch 44/100\n",
            "242/242 [==============================] - 1s 6ms/step - loss: 0.2912 - val_loss: 0.3880\n",
            "Epoch 45/100\n",
            "242/242 [==============================] - 1s 6ms/step - loss: 0.2917 - val_loss: 0.2963\n",
            "Epoch 46/100\n",
            "242/242 [==============================] - 1s 4ms/step - loss: 0.2887 - val_loss: 0.3599\n",
            "Epoch 47/100\n",
            "242/242 [==============================] - 1s 5ms/step - loss: 0.2871 - val_loss: 0.2827\n",
            "Epoch 48/100\n",
            "242/242 [==============================] - 1s 4ms/step - loss: 0.2866 - val_loss: 0.2936\n",
            "Epoch 49/100\n",
            "242/242 [==============================] - 1s 5ms/step - loss: 0.2849 - val_loss: 0.3631\n",
            "Epoch 50/100\n",
            "242/242 [==============================] - 1s 4ms/step - loss: 0.2835 - val_loss: 0.2989\n",
            "Epoch 51/100\n",
            "242/242 [==============================] - 1s 4ms/step - loss: 0.2825 - val_loss: 0.3510\n",
            "Epoch 52/100\n",
            "242/242 [==============================] - 1s 4ms/step - loss: 0.2827 - val_loss: 0.3278\n",
            "Epoch 53/100\n",
            "242/242 [==============================] - 1s 5ms/step - loss: 0.2817 - val_loss: 0.2940\n",
            "Epoch 54/100\n",
            "242/242 [==============================] - 1s 5ms/step - loss: 0.2810 - val_loss: 0.3258\n",
            "Epoch 55/100\n",
            "242/242 [==============================] - 2s 7ms/step - loss: 0.2797 - val_loss: 0.2891\n",
            "Epoch 56/100\n",
            "242/242 [==============================] - 1s 6ms/step - loss: 0.2786 - val_loss: 0.3273\n",
            "Epoch 57/100\n",
            "242/242 [==============================] - 1s 6ms/step - loss: 0.2789 - val_loss: 0.3572\n",
            "121/121 [==============================] - 0s 2ms/step\n",
            "[CV] END learning_rate=0.0058036029342010235, n_hidden=3, n_neurons=74; total time= 1.2min\n",
            "Epoch 1/100\n",
            "242/242 [==============================] - 2s 5ms/step - loss: 1.0882 - val_loss: 3.1295\n",
            "Epoch 2/100\n",
            "242/242 [==============================] - 1s 4ms/step - loss: 0.5716 - val_loss: 0.9164\n",
            "Epoch 3/100\n",
            "242/242 [==============================] - 1s 5ms/step - loss: 0.4438 - val_loss: 0.3847\n",
            "Epoch 4/100\n",
            "242/242 [==============================] - 1s 4ms/step - loss: 0.3942 - val_loss: 0.3705\n",
            "Epoch 5/100\n",
            "242/242 [==============================] - 1s 4ms/step - loss: 0.3716 - val_loss: 0.3636\n",
            "Epoch 6/100\n",
            "242/242 [==============================] - 1s 4ms/step - loss: 0.3586 - val_loss: 0.4148\n",
            "Epoch 7/100\n",
            "242/242 [==============================] - 1s 5ms/step - loss: 0.3516 - val_loss: 0.3433\n",
            "Epoch 8/100\n",
            "242/242 [==============================] - 1s 5ms/step - loss: 0.3442 - val_loss: 0.4374\n",
            "Epoch 9/100\n",
            "242/242 [==============================] - 1s 6ms/step - loss: 0.3401 - val_loss: 0.3685\n",
            "Epoch 10/100\n",
            "242/242 [==============================] - 2s 7ms/step - loss: 0.3359 - val_loss: 0.4452\n",
            "Epoch 11/100\n",
            "242/242 [==============================] - 1s 5ms/step - loss: 0.3352 - val_loss: 0.3249\n",
            "Epoch 12/100\n",
            "242/242 [==============================] - 1s 4ms/step - loss: 0.3295 - val_loss: 0.3669\n",
            "Epoch 13/100\n",
            "242/242 [==============================] - 1s 5ms/step - loss: 0.3252 - val_loss: 0.3975\n",
            "Epoch 14/100\n",
            "242/242 [==============================] - 1s 5ms/step - loss: 0.3247 - val_loss: 0.3760\n",
            "Epoch 15/100\n",
            "242/242 [==============================] - 1s 4ms/step - loss: 0.3213 - val_loss: 0.3282\n",
            "Epoch 16/100\n",
            "242/242 [==============================] - 1s 4ms/step - loss: 0.3191 - val_loss: 0.4071\n",
            "Epoch 17/100\n",
            "242/242 [==============================] - 1s 5ms/step - loss: 0.3174 - val_loss: 0.3348\n",
            "Epoch 18/100\n",
            "242/242 [==============================] - 1s 4ms/step - loss: 0.3157 - val_loss: 0.3509\n",
            "Epoch 19/100\n",
            "242/242 [==============================] - 1s 4ms/step - loss: 0.3124 - val_loss: 0.4129\n",
            "Epoch 20/100\n",
            "242/242 [==============================] - 2s 6ms/step - loss: 0.3132 - val_loss: 0.3099\n",
            "Epoch 21/100\n",
            "242/242 [==============================] - 2s 7ms/step - loss: 0.3098 - val_loss: 0.3559\n",
            "Epoch 22/100\n",
            "242/242 [==============================] - 1s 5ms/step - loss: 0.3086 - val_loss: 0.3418\n",
            "Epoch 23/100\n",
            "242/242 [==============================] - 1s 5ms/step - loss: 0.3063 - val_loss: 0.3309\n",
            "Epoch 24/100\n",
            "242/242 [==============================] - 1s 5ms/step - loss: 0.3058 - val_loss: 0.3151\n",
            "Epoch 25/100\n",
            "242/242 [==============================] - 1s 4ms/step - loss: 0.3023 - val_loss: 0.3770\n",
            "Epoch 26/100\n",
            "242/242 [==============================] - 1s 4ms/step - loss: 0.3011 - val_loss: 0.3151\n",
            "Epoch 27/100\n",
            "242/242 [==============================] - 1s 4ms/step - loss: 0.3015 - val_loss: 0.3739\n",
            "Epoch 28/100\n",
            "242/242 [==============================] - 1s 4ms/step - loss: 0.3003 - val_loss: 0.3321\n",
            "Epoch 29/100\n",
            "242/242 [==============================] - 1s 4ms/step - loss: 0.2973 - val_loss: 0.3427\n",
            "Epoch 30/100\n",
            "242/242 [==============================] - 1s 5ms/step - loss: 0.2951 - val_loss: 0.3086\n",
            "Epoch 31/100\n",
            "242/242 [==============================] - 2s 7ms/step - loss: 0.2945 - val_loss: 0.3128\n",
            "Epoch 32/100\n",
            "242/242 [==============================] - 2s 7ms/step - loss: 0.2935 - val_loss: 0.3088\n",
            "Epoch 33/100\n",
            "242/242 [==============================] - 1s 6ms/step - loss: 0.2917 - val_loss: 0.3029\n",
            "Epoch 34/100\n",
            "242/242 [==============================] - 1s 5ms/step - loss: 0.2895 - val_loss: 0.3353\n",
            "Epoch 35/100\n",
            "242/242 [==============================] - 1s 4ms/step - loss: 0.2886 - val_loss: 0.3027\n",
            "Epoch 36/100\n",
            "242/242 [==============================] - 1s 5ms/step - loss: 0.2876 - val_loss: 0.3663\n",
            "Epoch 37/100\n",
            "242/242 [==============================] - 1s 4ms/step - loss: 0.2871 - val_loss: 0.3152\n",
            "Epoch 38/100\n",
            "242/242 [==============================] - 1s 5ms/step - loss: 0.2872 - val_loss: 0.3812\n",
            "Epoch 39/100\n",
            "242/242 [==============================] - 1s 5ms/step - loss: 0.2860 - val_loss: 0.3043\n",
            "Epoch 40/100\n",
            "242/242 [==============================] - 1s 4ms/step - loss: 0.2839 - val_loss: 0.3302\n",
            "Epoch 41/100\n",
            "242/242 [==============================] - 1s 4ms/step - loss: 0.2829 - val_loss: 0.2967\n",
            "Epoch 42/100\n",
            "242/242 [==============================] - 2s 7ms/step - loss: 0.2807 - val_loss: 0.3024\n",
            "Epoch 43/100\n",
            "242/242 [==============================] - 2s 7ms/step - loss: 0.2810 - val_loss: 0.3225\n",
            "Epoch 44/100\n",
            "242/242 [==============================] - 1s 6ms/step - loss: 0.2794 - val_loss: 0.2953\n",
            "Epoch 45/100\n",
            "242/242 [==============================] - 1s 4ms/step - loss: 0.2790 - val_loss: 0.3117\n",
            "Epoch 46/100\n",
            "242/242 [==============================] - 1s 5ms/step - loss: 0.2776 - val_loss: 0.2980\n",
            "Epoch 47/100\n",
            "242/242 [==============================] - 1s 4ms/step - loss: 0.2769 - val_loss: 0.3155\n",
            "Epoch 48/100\n",
            "242/242 [==============================] - 1s 4ms/step - loss: 0.2767 - val_loss: 0.2891\n",
            "Epoch 49/100\n",
            "242/242 [==============================] - 1s 5ms/step - loss: 0.2749 - val_loss: 0.2949\n",
            "Epoch 50/100\n",
            "242/242 [==============================] - 1s 5ms/step - loss: 0.2746 - val_loss: 0.3161\n",
            "Epoch 51/100\n",
            "242/242 [==============================] - 1s 5ms/step - loss: 0.2730 - val_loss: 0.3096\n",
            "Epoch 52/100\n",
            "242/242 [==============================] - 1s 5ms/step - loss: 0.2718 - val_loss: 0.3025\n",
            "Epoch 53/100\n",
            "242/242 [==============================] - 1s 5ms/step - loss: 0.2719 - val_loss: 0.2818\n",
            "Epoch 54/100\n",
            "242/242 [==============================] - 2s 7ms/step - loss: 0.2703 - val_loss: 0.3534\n",
            "Epoch 55/100\n",
            "242/242 [==============================] - 2s 7ms/step - loss: 0.2724 - val_loss: 0.2843\n",
            "Epoch 56/100\n",
            "242/242 [==============================] - 1s 4ms/step - loss: 0.2707 - val_loss: 0.3512\n",
            "Epoch 57/100\n",
            "242/242 [==============================] - 1s 4ms/step - loss: 0.2682 - val_loss: 0.2836\n",
            "Epoch 58/100\n",
            "242/242 [==============================] - 1s 4ms/step - loss: 0.2683 - val_loss: 0.3771\n",
            "Epoch 59/100\n",
            "242/242 [==============================] - 1s 4ms/step - loss: 0.2679 - val_loss: 0.2853\n",
            "Epoch 60/100\n",
            "242/242 [==============================] - 1s 4ms/step - loss: 0.2659 - val_loss: 0.5049\n",
            "Epoch 61/100\n",
            "242/242 [==============================] - 1s 4ms/step - loss: 0.2700 - val_loss: 0.2890\n",
            "Epoch 62/100\n",
            "242/242 [==============================] - 1s 4ms/step - loss: 0.2660 - val_loss: 0.3940\n",
            "Epoch 63/100\n",
            "242/242 [==============================] - 1s 5ms/step - loss: 0.2653 - val_loss: 0.2845\n",
            "121/121 [==============================] - 0s 2ms/step\n",
            "[CV] END learning_rate=0.0059640580092043885, n_hidden=3, n_neurons=80; total time= 1.3min\n",
            "Epoch 1/100\n",
            "242/242 [==============================] - 2s 8ms/step - loss: 0.8580 - val_loss: 0.6017\n",
            "Epoch 2/100\n",
            "242/242 [==============================] - 2s 7ms/step - loss: 0.4781 - val_loss: 0.4151\n",
            "Epoch 3/100\n",
            "242/242 [==============================] - 1s 4ms/step - loss: 0.4203 - val_loss: 0.5009\n",
            "Epoch 4/100\n",
            "242/242 [==============================] - 1s 4ms/step - loss: 0.3964 - val_loss: 0.6955\n",
            "Epoch 5/100\n",
            "242/242 [==============================] - 1s 4ms/step - loss: 0.3793 - val_loss: 0.8676\n",
            "Epoch 6/100\n",
            "242/242 [==============================] - 1s 4ms/step - loss: 0.3677 - val_loss: 1.1985\n",
            "Epoch 7/100\n",
            "242/242 [==============================] - 1s 4ms/step - loss: 0.3604 - val_loss: 1.4448\n",
            "Epoch 8/100\n",
            "242/242 [==============================] - 1s 4ms/step - loss: 0.3548 - val_loss: 1.5536\n",
            "Epoch 9/100\n",
            "242/242 [==============================] - 1s 4ms/step - loss: 0.3481 - val_loss: 1.6357\n",
            "Epoch 10/100\n",
            "242/242 [==============================] - 1s 4ms/step - loss: 0.3448 - val_loss: 1.1991\n",
            "Epoch 11/100\n",
            "242/242 [==============================] - 1s 4ms/step - loss: 0.3398 - val_loss: 1.3181\n",
            "Epoch 12/100\n",
            "242/242 [==============================] - 2s 6ms/step - loss: 0.3364 - val_loss: 1.3508\n",
            "121/121 [==============================] - 1s 4ms/step\n",
            "[CV] END learning_rate=0.0059640580092043885, n_hidden=3, n_neurons=80; total time=  15.8s\n",
            "Epoch 1/100\n",
            "242/242 [==============================] - 2s 6ms/step - loss: 0.9497 - val_loss: 5.6031\n",
            "Epoch 2/100\n",
            "242/242 [==============================] - 1s 5ms/step - loss: 0.5472 - val_loss: 1.4676\n",
            "Epoch 3/100\n",
            "242/242 [==============================] - 1s 4ms/step - loss: 0.4501 - val_loss: 0.5566\n",
            "Epoch 4/100\n",
            "242/242 [==============================] - 1s 4ms/step - loss: 0.4130 - val_loss: 0.6090\n",
            "Epoch 5/100\n",
            "242/242 [==============================] - 1s 4ms/step - loss: 0.3930 - val_loss: 0.3686\n",
            "Epoch 6/100\n",
            "242/242 [==============================] - 1s 4ms/step - loss: 0.3785 - val_loss: 0.4511\n",
            "Epoch 7/100\n",
            "242/242 [==============================] - 1s 4ms/step - loss: 0.3706 - val_loss: 0.3414\n",
            "Epoch 8/100\n",
            "242/242 [==============================] - 1s 4ms/step - loss: 0.3623 - val_loss: 0.3718\n",
            "Epoch 9/100\n",
            "242/242 [==============================] - 1s 5ms/step - loss: 0.3560 - val_loss: 0.4021\n",
            "Epoch 10/100\n",
            "242/242 [==============================] - 2s 6ms/step - loss: 0.3550 - val_loss: 0.3483\n",
            "Epoch 11/100\n",
            "242/242 [==============================] - 1s 6ms/step - loss: 0.3481 - val_loss: 0.5918\n",
            "Epoch 12/100\n",
            "242/242 [==============================] - 1s 6ms/step - loss: 0.3461 - val_loss: 0.3294\n",
            "Epoch 13/100\n",
            "242/242 [==============================] - 1s 4ms/step - loss: 0.3401 - val_loss: 0.3453\n",
            "Epoch 14/100\n",
            "242/242 [==============================] - 1s 4ms/step - loss: 0.3363 - val_loss: 0.5102\n",
            "Epoch 15/100\n",
            "242/242 [==============================] - 1s 5ms/step - loss: 0.3363 - val_loss: 0.4075\n",
            "Epoch 16/100\n",
            "242/242 [==============================] - 1s 4ms/step - loss: 0.3327 - val_loss: 0.4889\n",
            "Epoch 17/100\n",
            "242/242 [==============================] - 1s 4ms/step - loss: 0.3306 - val_loss: 0.3263\n",
            "Epoch 18/100\n",
            "242/242 [==============================] - 1s 4ms/step - loss: 0.3262 - val_loss: 0.3600\n",
            "Epoch 19/100\n",
            "242/242 [==============================] - 1s 5ms/step - loss: 0.3245 - val_loss: 0.3680\n",
            "Epoch 20/100\n",
            "242/242 [==============================] - 1s 5ms/step - loss: 0.3218 - val_loss: 0.3620\n",
            "Epoch 21/100\n",
            "242/242 [==============================] - 1s 4ms/step - loss: 0.3219 - val_loss: 0.3398\n",
            "Epoch 22/100\n",
            "242/242 [==============================] - 1s 5ms/step - loss: 0.3190 - val_loss: 0.3178\n",
            "Epoch 23/100\n",
            "242/242 [==============================] - 2s 7ms/step - loss: 0.3164 - val_loss: 0.4296\n",
            "Epoch 24/100\n",
            "242/242 [==============================] - 2s 7ms/step - loss: 0.3160 - val_loss: 0.3217\n",
            "Epoch 25/100\n",
            "242/242 [==============================] - 1s 4ms/step - loss: 0.3140 - val_loss: 0.3061\n",
            "Epoch 26/100\n",
            "242/242 [==============================] - 1s 4ms/step - loss: 0.3106 - val_loss: 0.3232\n",
            "Epoch 27/100\n",
            "242/242 [==============================] - 1s 4ms/step - loss: 0.3084 - val_loss: 0.3974\n",
            "Epoch 28/100\n",
            "242/242 [==============================] - 1s 4ms/step - loss: 0.3111 - val_loss: 0.5677\n",
            "Epoch 29/100\n",
            "242/242 [==============================] - 1s 4ms/step - loss: 0.3154 - val_loss: 1.2294\n",
            "Epoch 30/100\n",
            "242/242 [==============================] - 1s 5ms/step - loss: 0.3172 - val_loss: 0.4375\n",
            "Epoch 31/100\n",
            "242/242 [==============================] - 1s 4ms/step - loss: 0.3070 - val_loss: 0.4398\n",
            "Epoch 32/100\n",
            "242/242 [==============================] - 1s 4ms/step - loss: 0.3030 - val_loss: 0.3087\n",
            "Epoch 33/100\n",
            "242/242 [==============================] - 1s 4ms/step - loss: 0.3009 - val_loss: 0.3779\n",
            "Epoch 34/100\n",
            "242/242 [==============================] - 2s 6ms/step - loss: 0.2984 - val_loss: 0.3285\n",
            "Epoch 35/100\n",
            "242/242 [==============================] - 1s 6ms/step - loss: 0.2962 - val_loss: 0.2957\n",
            "Epoch 36/100\n",
            "242/242 [==============================] - 1s 6ms/step - loss: 0.2947 - val_loss: 0.4150\n",
            "Epoch 37/100\n",
            "242/242 [==============================] - 1s 4ms/step - loss: 0.2939 - val_loss: 0.4598\n",
            "Epoch 38/100\n",
            "242/242 [==============================] - 1s 4ms/step - loss: 0.2973 - val_loss: 0.5905\n",
            "Epoch 39/100\n",
            "242/242 [==============================] - 1s 4ms/step - loss: 0.2945 - val_loss: 0.2903\n",
            "Epoch 40/100\n",
            "242/242 [==============================] - 1s 4ms/step - loss: 0.2904 - val_loss: 0.4387\n",
            "Epoch 41/100\n",
            "242/242 [==============================] - 1s 4ms/step - loss: 0.2886 - val_loss: 0.3139\n",
            "Epoch 42/100\n",
            "242/242 [==============================] - 1s 5ms/step - loss: 0.2869 - val_loss: 0.3669\n",
            "Epoch 43/100\n",
            "242/242 [==============================] - 1s 4ms/step - loss: 0.2867 - val_loss: 0.2844\n",
            "Epoch 44/100\n",
            "242/242 [==============================] - 1s 4ms/step - loss: 0.2840 - val_loss: 0.3693\n",
            "Epoch 45/100\n",
            "242/242 [==============================] - 1s 4ms/step - loss: 0.2842 - val_loss: 0.3028\n",
            "Epoch 46/100\n",
            "242/242 [==============================] - 2s 7ms/step - loss: 0.2813 - val_loss: 0.3957\n",
            "Epoch 47/100\n",
            "242/242 [==============================] - 2s 7ms/step - loss: 0.2804 - val_loss: 0.2943\n",
            "Epoch 48/100\n",
            "242/242 [==============================] - 1s 5ms/step - loss: 0.2807 - val_loss: 0.2946\n",
            "Epoch 49/100\n",
            "242/242 [==============================] - 1s 4ms/step - loss: 0.2781 - val_loss: 0.3890\n",
            "Epoch 50/100\n",
            "242/242 [==============================] - 1s 4ms/step - loss: 0.2781 - val_loss: 0.3304\n",
            "Epoch 51/100\n",
            "242/242 [==============================] - 1s 4ms/step - loss: 0.2768 - val_loss: 0.3996\n",
            "Epoch 52/100\n",
            "242/242 [==============================] - 1s 4ms/step - loss: 0.2765 - val_loss: 0.3189\n",
            "Epoch 53/100\n",
            "242/242 [==============================] - 1s 4ms/step - loss: 0.2758 - val_loss: 0.2920\n",
            "121/121 [==============================] - 0s 2ms/step\n",
            "[CV] END learning_rate=0.0059640580092043885, n_hidden=3, n_neurons=80; total time= 1.4min\n",
            "Epoch 1/100\n",
            "242/242 [==============================] - 2s 4ms/step - loss: 1.1754 - val_loss: 2.8508\n",
            "Epoch 2/100\n",
            "242/242 [==============================] - 1s 4ms/step - loss: 0.5846 - val_loss: 0.9977\n",
            "Epoch 3/100\n",
            "242/242 [==============================] - 1s 4ms/step - loss: 0.4843 - val_loss: 0.4345\n",
            "Epoch 4/100\n",
            "242/242 [==============================] - 1s 4ms/step - loss: 0.4358 - val_loss: 0.3984\n",
            "Epoch 5/100\n",
            "242/242 [==============================] - 1s 4ms/step - loss: 0.4110 - val_loss: 0.3835\n",
            "Epoch 6/100\n",
            "242/242 [==============================] - 1s 4ms/step - loss: 0.3950 - val_loss: 0.3940\n",
            "Epoch 7/100\n",
            "242/242 [==============================] - 1s 5ms/step - loss: 0.3841 - val_loss: 0.3787\n",
            "Epoch 8/100\n",
            "242/242 [==============================] - 1s 5ms/step - loss: 0.3761 - val_loss: 0.4113\n",
            "Epoch 9/100\n",
            "242/242 [==============================] - 2s 7ms/step - loss: 0.3708 - val_loss: 0.3959\n",
            "Epoch 10/100\n",
            "242/242 [==============================] - 1s 4ms/step - loss: 0.3659 - val_loss: 0.3816\n",
            "Epoch 11/100\n",
            "242/242 [==============================] - 1s 4ms/step - loss: 0.3621 - val_loss: 0.3646\n",
            "Epoch 12/100\n",
            "242/242 [==============================] - 1s 4ms/step - loss: 0.3569 - val_loss: 0.3599\n",
            "Epoch 13/100\n",
            "242/242 [==============================] - 1s 4ms/step - loss: 0.3530 - val_loss: 0.3935\n",
            "Epoch 14/100\n",
            "242/242 [==============================] - 1s 4ms/step - loss: 0.3513 - val_loss: 0.3937\n",
            "Epoch 15/100\n",
            "242/242 [==============================] - 1s 4ms/step - loss: 0.3474 - val_loss: 0.3704\n",
            "Epoch 16/100\n",
            "242/242 [==============================] - 1s 4ms/step - loss: 0.3450 - val_loss: 0.3912\n",
            "Epoch 17/100\n",
            "242/242 [==============================] - 1s 4ms/step - loss: 0.3422 - val_loss: 0.3745\n",
            "Epoch 18/100\n",
            "242/242 [==============================] - 1s 4ms/step - loss: 0.3399 - val_loss: 0.3706\n",
            "Epoch 19/100\n",
            "242/242 [==============================] - 1s 4ms/step - loss: 0.3368 - val_loss: 0.3688\n",
            "Epoch 20/100\n",
            "242/242 [==============================] - 2s 6ms/step - loss: 0.3355 - val_loss: 0.3578\n",
            "Epoch 21/100\n",
            "242/242 [==============================] - 2s 6ms/step - loss: 0.3332 - val_loss: 0.3717\n",
            "Epoch 22/100\n",
            "242/242 [==============================] - 1s 5ms/step - loss: 0.3314 - val_loss: 0.3757\n",
            "Epoch 23/100\n",
            "242/242 [==============================] - 1s 4ms/step - loss: 0.3291 - val_loss: 0.3472\n",
            "Epoch 24/100\n",
            "242/242 [==============================] - 1s 4ms/step - loss: 0.3280 - val_loss: 0.3244\n",
            "Epoch 25/100\n",
            "242/242 [==============================] - 1s 4ms/step - loss: 0.3252 - val_loss: 0.4058\n",
            "Epoch 26/100\n",
            "242/242 [==============================] - 1s 4ms/step - loss: 0.3246 - val_loss: 0.3337\n",
            "Epoch 27/100\n",
            "242/242 [==============================] - 1s 4ms/step - loss: 0.3234 - val_loss: 0.4239\n",
            "Epoch 28/100\n",
            "242/242 [==============================] - 1s 4ms/step - loss: 0.3219 - val_loss: 0.3425\n",
            "Epoch 29/100\n",
            "242/242 [==============================] - 1s 4ms/step - loss: 0.3186 - val_loss: 0.3986\n",
            "Epoch 30/100\n",
            "242/242 [==============================] - 1s 4ms/step - loss: 0.3187 - val_loss: 0.3303\n",
            "Epoch 31/100\n",
            "242/242 [==============================] - 1s 4ms/step - loss: 0.3173 - val_loss: 0.3589\n",
            "Epoch 32/100\n",
            "242/242 [==============================] - 1s 4ms/step - loss: 0.3157 - val_loss: 0.3102\n",
            "Epoch 33/100\n",
            "242/242 [==============================] - 1s 5ms/step - loss: 0.3138 - val_loss: 0.3708\n",
            "Epoch 34/100\n",
            "242/242 [==============================] - 2s 7ms/step - loss: 0.3122 - val_loss: 0.3278\n",
            "Epoch 35/100\n",
            "242/242 [==============================] - 1s 5ms/step - loss: 0.3113 - val_loss: 0.3142\n",
            "Epoch 36/100\n",
            "242/242 [==============================] - 1s 4ms/step - loss: 0.3102 - val_loss: 0.4760\n",
            "Epoch 37/100\n",
            "242/242 [==============================] - 1s 4ms/step - loss: 0.3097 - val_loss: 0.5582\n",
            "Epoch 38/100\n",
            "242/242 [==============================] - 1s 4ms/step - loss: 0.3112 - val_loss: 0.7231\n",
            "Epoch 39/100\n",
            "242/242 [==============================] - 1s 4ms/step - loss: 0.3110 - val_loss: 0.4028\n",
            "Epoch 40/100\n",
            "242/242 [==============================] - 1s 4ms/step - loss: 0.3075 - val_loss: 0.5057\n",
            "Epoch 41/100\n",
            "242/242 [==============================] - 1s 4ms/step - loss: 0.3062 - val_loss: 0.3230\n",
            "Epoch 42/100\n",
            "242/242 [==============================] - 1s 4ms/step - loss: 0.3035 - val_loss: 0.3928\n",
            "121/121 [==============================] - 0s 2ms/step\n",
            "[CV] END learning_rate=0.004591455636549436, n_hidden=2, n_neurons=59; total time=  46.8s\n",
            "Epoch 1/100\n",
            "242/242 [==============================] - 2s 5ms/step - loss: 1.2222 - val_loss: 0.6004\n",
            "Epoch 2/100\n",
            "242/242 [==============================] - 2s 7ms/step - loss: 0.5653 - val_loss: 0.8345\n",
            "Epoch 3/100\n",
            "242/242 [==============================] - 2s 6ms/step - loss: 0.4816 - val_loss: 0.9874\n",
            "Epoch 4/100\n",
            "242/242 [==============================] - 1s 5ms/step - loss: 0.4384 - val_loss: 0.8211\n",
            "Epoch 5/100\n",
            "242/242 [==============================] - 1s 4ms/step - loss: 0.4130 - val_loss: 0.5698\n",
            "Epoch 6/100\n",
            "242/242 [==============================] - 1s 4ms/step - loss: 0.3979 - val_loss: 0.3861\n",
            "Epoch 7/100\n",
            "242/242 [==============================] - 1s 4ms/step - loss: 0.3881 - val_loss: 0.3855\n",
            "Epoch 8/100\n",
            "242/242 [==============================] - 1s 4ms/step - loss: 0.3796 - val_loss: 0.4513\n",
            "Epoch 9/100\n",
            "242/242 [==============================] - 1s 4ms/step - loss: 0.3725 - val_loss: 0.5925\n",
            "Epoch 10/100\n",
            "242/242 [==============================] - 1s 4ms/step - loss: 0.3683 - val_loss: 0.5540\n",
            "Epoch 11/100\n",
            "242/242 [==============================] - 1s 4ms/step - loss: 0.3632 - val_loss: 0.6215\n",
            "Epoch 12/100\n",
            "242/242 [==============================] - 1s 4ms/step - loss: 0.3586 - val_loss: 0.6593\n",
            "Epoch 13/100\n",
            "242/242 [==============================] - 1s 4ms/step - loss: 0.3562 - val_loss: 0.7285\n",
            "Epoch 14/100\n",
            "242/242 [==============================] - 1s 5ms/step - loss: 0.3547 - val_loss: 0.7511\n",
            "Epoch 15/100\n",
            "242/242 [==============================] - 2s 6ms/step - loss: 0.3517 - val_loss: 0.7156\n",
            "Epoch 16/100\n",
            "242/242 [==============================] - 2s 7ms/step - loss: 0.3490 - val_loss: 0.7468\n",
            "Epoch 17/100\n",
            "242/242 [==============================] - 1s 4ms/step - loss: 0.3473 - val_loss: 0.6605\n",
            "121/121 [==============================] - 0s 2ms/step\n",
            "[CV] END learning_rate=0.004591455636549436, n_hidden=2, n_neurons=59; total time=  21.2s\n",
            "Epoch 1/100\n",
            "242/242 [==============================] - 2s 4ms/step - loss: 0.9314 - val_loss: 1.5191\n",
            "Epoch 2/100\n",
            "242/242 [==============================] - 1s 4ms/step - loss: 0.5583 - val_loss: 5.2072\n",
            "Epoch 3/100\n",
            "242/242 [==============================] - 1s 4ms/step - loss: 0.4967 - val_loss: 5.8432\n",
            "Epoch 4/100\n",
            "242/242 [==============================] - 1s 4ms/step - loss: 0.5259 - val_loss: 2.9018\n",
            "Epoch 5/100\n",
            "242/242 [==============================] - 1s 5ms/step - loss: 0.4378 - val_loss: 0.4670\n",
            "Epoch 6/100\n",
            "242/242 [==============================] - 1s 4ms/step - loss: 0.4034 - val_loss: 0.4272\n",
            "Epoch 7/100\n",
            "242/242 [==============================] - 1s 4ms/step - loss: 0.3943 - val_loss: 0.4059\n",
            "Epoch 8/100\n",
            "242/242 [==============================] - 2s 6ms/step - loss: 0.3873 - val_loss: 0.3913\n",
            "Epoch 9/100\n",
            "242/242 [==============================] - 1s 6ms/step - loss: 0.3814 - val_loss: 0.4240\n",
            "Epoch 10/100\n",
            "242/242 [==============================] - 1s 6ms/step - loss: 0.3805 - val_loss: 0.3755\n",
            "Epoch 11/100\n",
            "242/242 [==============================] - 1s 4ms/step - loss: 0.3736 - val_loss: 0.4252\n",
            "Epoch 12/100\n",
            "242/242 [==============================] - 1s 4ms/step - loss: 0.3696 - val_loss: 0.4015\n",
            "Epoch 13/100\n",
            "242/242 [==============================] - 1s 4ms/step - loss: 0.3659 - val_loss: 0.3727\n",
            "Epoch 14/100\n",
            "242/242 [==============================] - 1s 4ms/step - loss: 0.3636 - val_loss: 0.4249\n",
            "Epoch 15/100\n",
            "242/242 [==============================] - 1s 4ms/step - loss: 0.3609 - val_loss: 0.3618\n",
            "Epoch 16/100\n",
            "242/242 [==============================] - 1s 4ms/step - loss: 0.3571 - val_loss: 0.3934\n",
            "Epoch 17/100\n",
            "242/242 [==============================] - 1s 4ms/step - loss: 0.3549 - val_loss: 0.3671\n",
            "Epoch 18/100\n",
            "242/242 [==============================] - 1s 4ms/step - loss: 0.3527 - val_loss: 0.3700\n",
            "Epoch 19/100\n",
            "242/242 [==============================] - 1s 4ms/step - loss: 0.3503 - val_loss: 0.4115\n",
            "Epoch 20/100\n",
            "242/242 [==============================] - 1s 5ms/step - loss: 0.3490 - val_loss: 0.3979\n",
            "Epoch 21/100\n",
            "242/242 [==============================] - 2s 7ms/step - loss: 0.3475 - val_loss: 0.3738\n",
            "Epoch 22/100\n",
            "242/242 [==============================] - 2s 7ms/step - loss: 0.3456 - val_loss: 0.3384\n",
            "Epoch 23/100\n",
            "242/242 [==============================] - 1s 4ms/step - loss: 0.3434 - val_loss: 0.3612\n",
            "Epoch 24/100\n",
            "242/242 [==============================] - 1s 4ms/step - loss: 0.3427 - val_loss: 0.3804\n",
            "Epoch 25/100\n",
            "242/242 [==============================] - 1s 4ms/step - loss: 0.3410 - val_loss: 0.3246\n",
            "Epoch 26/100\n",
            "242/242 [==============================] - 1s 5ms/step - loss: 0.3383 - val_loss: 0.3500\n",
            "Epoch 27/100\n",
            "242/242 [==============================] - 1s 4ms/step - loss: 0.3371 - val_loss: 0.4012\n",
            "Epoch 28/100\n",
            "242/242 [==============================] - 1s 4ms/step - loss: 0.3362 - val_loss: 0.3346\n",
            "Epoch 29/100\n",
            "242/242 [==============================] - 1s 4ms/step - loss: 0.3351 - val_loss: 0.4106\n",
            "Epoch 30/100\n",
            "242/242 [==============================] - 1s 4ms/step - loss: 0.3340 - val_loss: 0.3989\n",
            "Epoch 31/100\n",
            "242/242 [==============================] - 1s 4ms/step - loss: 0.3326 - val_loss: 0.3386\n",
            "Epoch 32/100\n",
            "242/242 [==============================] - 1s 4ms/step - loss: 0.3305 - val_loss: 0.3995\n",
            "Epoch 33/100\n",
            "242/242 [==============================] - 1s 5ms/step - loss: 0.3307 - val_loss: 0.3847\n",
            "Epoch 34/100\n",
            "242/242 [==============================] - 2s 7ms/step - loss: 0.3285 - val_loss: 0.3805\n",
            "Epoch 35/100\n",
            "242/242 [==============================] - 1s 5ms/step - loss: 0.3280 - val_loss: 0.3261\n",
            "121/121 [==============================] - 0s 2ms/step\n",
            "[CV] END learning_rate=0.004591455636549436, n_hidden=2, n_neurons=59; total time=  40.6s\n",
            "Epoch 1/100\n",
            "363/363 [==============================] - 2s 4ms/step - loss: 0.8421 - val_loss: 3.7111\n",
            "Epoch 2/100\n",
            "363/363 [==============================] - 1s 4ms/step - loss: 0.4818 - val_loss: 3.7592\n",
            "Epoch 3/100\n",
            "363/363 [==============================] - 1s 4ms/step - loss: 0.4217 - val_loss: 0.5169\n",
            "Epoch 4/100\n",
            "363/363 [==============================] - 1s 4ms/step - loss: 0.3744 - val_loss: 0.4149\n",
            "Epoch 5/100\n",
            "363/363 [==============================] - 1s 4ms/step - loss: 0.3656 - val_loss: 0.3445\n",
            "Epoch 6/100\n",
            "363/363 [==============================] - 1s 4ms/step - loss: 0.3531 - val_loss: 0.4076\n",
            "Epoch 7/100\n",
            "363/363 [==============================] - 2s 6ms/step - loss: 0.3514 - val_loss: 0.3347\n",
            "Epoch 8/100\n",
            "363/363 [==============================] - 2s 6ms/step - loss: 0.3419 - val_loss: 0.3318\n",
            "Epoch 9/100\n",
            "363/363 [==============================] - 1s 4ms/step - loss: 0.3364 - val_loss: 0.3443\n",
            "Epoch 10/100\n",
            "363/363 [==============================] - 1s 4ms/step - loss: 0.3326 - val_loss: 0.3790\n",
            "Epoch 11/100\n",
            "363/363 [==============================] - 1s 4ms/step - loss: 0.3315 - val_loss: 0.3828\n",
            "Epoch 12/100\n",
            "363/363 [==============================] - 1s 4ms/step - loss: 0.3295 - val_loss: 0.4353\n",
            "Epoch 13/100\n",
            "363/363 [==============================] - 1s 4ms/step - loss: 0.3247 - val_loss: 0.3248\n",
            "Epoch 14/100\n",
            "363/363 [==============================] - 1s 4ms/step - loss: 0.3196 - val_loss: 0.3085\n",
            "Epoch 15/100\n",
            "363/363 [==============================] - 2s 4ms/step - loss: 0.3181 - val_loss: 0.3356\n",
            "Epoch 16/100\n",
            "363/363 [==============================] - 2s 5ms/step - loss: 0.3153 - val_loss: 0.3085\n",
            "Epoch 17/100\n",
            "363/363 [==============================] - 2s 6ms/step - loss: 0.3126 - val_loss: 0.4292\n",
            "Epoch 18/100\n",
            "363/363 [==============================] - 1s 4ms/step - loss: 0.3102 - val_loss: 0.3175\n",
            "Epoch 19/100\n",
            "363/363 [==============================] - 1s 4ms/step - loss: 0.3120 - val_loss: 0.3287\n",
            "Epoch 20/100\n",
            "363/363 [==============================] - 1s 4ms/step - loss: 0.3077 - val_loss: 0.4353\n",
            "Epoch 21/100\n",
            "363/363 [==============================] - 1s 4ms/step - loss: 0.3039 - val_loss: 0.2988\n",
            "Epoch 22/100\n",
            "363/363 [==============================] - 2s 4ms/step - loss: 0.3014 - val_loss: 0.3687\n",
            "Epoch 23/100\n",
            "363/363 [==============================] - 1s 4ms/step - loss: 0.2995 - val_loss: 0.3182\n",
            "Epoch 24/100\n",
            "363/363 [==============================] - 1s 4ms/step - loss: 0.2991 - val_loss: 0.3962\n",
            "Epoch 25/100\n",
            "363/363 [==============================] - 2s 4ms/step - loss: 0.2962 - val_loss: 0.3757\n",
            "Epoch 26/100\n",
            "363/363 [==============================] - 2s 5ms/step - loss: 0.2951 - val_loss: 0.4762\n",
            "Epoch 27/100\n",
            "363/363 [==============================] - 2s 5ms/step - loss: 0.2933 - val_loss: 0.3581\n",
            "Epoch 28/100\n",
            "363/363 [==============================] - 1s 4ms/step - loss: 0.2931 - val_loss: 0.4167\n",
            "Epoch 29/100\n",
            "363/363 [==============================] - 2s 4ms/step - loss: 0.2920 - val_loss: 0.2857\n",
            "Epoch 30/100\n",
            "363/363 [==============================] - 1s 4ms/step - loss: 0.2901 - val_loss: 0.4236\n",
            "Epoch 31/100\n",
            "363/363 [==============================] - 1s 4ms/step - loss: 0.2889 - val_loss: 0.2890\n",
            "Epoch 32/100\n",
            "363/363 [==============================] - 1s 4ms/step - loss: 0.2857 - val_loss: 0.3694\n",
            "Epoch 33/100\n",
            "363/363 [==============================] - 1s 4ms/step - loss: 0.2851 - val_loss: 0.2791\n",
            "Epoch 34/100\n",
            "363/363 [==============================] - 2s 5ms/step - loss: 0.2826 - val_loss: 0.2877\n",
            "Epoch 35/100\n",
            "363/363 [==============================] - 2s 6ms/step - loss: 0.2820 - val_loss: 0.3472\n",
            "Epoch 36/100\n",
            "363/363 [==============================] - 1s 4ms/step - loss: 0.2820 - val_loss: 0.2820\n",
            "Epoch 37/100\n",
            "363/363 [==============================] - 1s 4ms/step - loss: 0.2796 - val_loss: 0.4006\n",
            "Epoch 38/100\n",
            "363/363 [==============================] - 1s 4ms/step - loss: 0.2771 - val_loss: 0.2801\n",
            "Epoch 39/100\n",
            "363/363 [==============================] - 1s 4ms/step - loss: 0.2871 - val_loss: 0.3638\n",
            "Epoch 40/100\n",
            "363/363 [==============================] - 1s 4ms/step - loss: 0.2799 - val_loss: 0.2861\n",
            "Epoch 41/100\n",
            "363/363 [==============================] - 1s 4ms/step - loss: 0.2785 - val_loss: 0.5378\n",
            "Epoch 42/100\n",
            "363/363 [==============================] - 1s 4ms/step - loss: 0.2796 - val_loss: 0.2761\n",
            "Epoch 43/100\n",
            "363/363 [==============================] - 2s 6ms/step - loss: 0.2742 - val_loss: 0.3659\n",
            "Epoch 44/100\n",
            "363/363 [==============================] - 2s 6ms/step - loss: 0.2729 - val_loss: 0.3579\n",
            "Epoch 45/100\n",
            "363/363 [==============================] - 1s 4ms/step - loss: 0.2722 - val_loss: 0.2758\n",
            "Epoch 46/100\n",
            "363/363 [==============================] - 1s 4ms/step - loss: 0.2716 - val_loss: 0.3040\n",
            "Epoch 47/100\n",
            "363/363 [==============================] - 1s 4ms/step - loss: 0.2708 - val_loss: 0.4211\n",
            "Epoch 48/100\n",
            "363/363 [==============================] - 1s 4ms/step - loss: 0.2706 - val_loss: 0.3094\n",
            "Epoch 49/100\n",
            "363/363 [==============================] - 1s 4ms/step - loss: 0.2696 - val_loss: 0.2731\n",
            "Epoch 50/100\n",
            "363/363 [==============================] - 1s 4ms/step - loss: 0.2677 - val_loss: 0.2933\n",
            "Epoch 51/100\n",
            "363/363 [==============================] - 1s 4ms/step - loss: 0.2670 - val_loss: 0.3542\n",
            "Epoch 52/100\n",
            "363/363 [==============================] - 2s 5ms/step - loss: 0.2674 - val_loss: 0.5537\n",
            "Epoch 53/100\n",
            "363/363 [==============================] - 2s 6ms/step - loss: 0.2701 - val_loss: 0.9134\n",
            "Epoch 54/100\n",
            "363/363 [==============================] - 2s 5ms/step - loss: 0.2700 - val_loss: 0.5426\n",
            "Epoch 55/100\n",
            "363/363 [==============================] - 1s 4ms/step - loss: 0.2677 - val_loss: 0.5431\n",
            "Epoch 56/100\n",
            "363/363 [==============================] - 1s 4ms/step - loss: 0.2664 - val_loss: 0.3944\n",
            "Epoch 57/100\n",
            "363/363 [==============================] - 1s 4ms/step - loss: 0.2655 - val_loss: 0.4674\n",
            "Epoch 58/100\n",
            "363/363 [==============================] - 2s 4ms/step - loss: 0.2637 - val_loss: 0.2781\n",
            "Epoch 59/100\n",
            "363/363 [==============================] - 2s 4ms/step - loss: 0.2629 - val_loss: 0.4907\n"
          ]
        },
        {
          "output_type": "execute_result",
          "data": {
            "text/plain": [
              "RandomizedSearchCV(cv=3, estimator=KerasRegressorWrapper(),\n",
              "                   param_distributions={'learning_rate': [0.0016834549246003507,\n",
              "                                                          0.023908364455931787,\n",
              "                                                          0.008731907739399207,\n",
              "                                                          0.004725396149933918,\n",
              "                                                          0.0006154014789262349,\n",
              "                                                          0.0006153331256530192,\n",
              "                                                          0.00039200217714159834,\n",
              "                                                          0.016198453229362288,\n",
              "                                                          0.004779156784872304,\n",
              "                                                          0.007821074275112302,\n",
              "                                                          0.0003298300672429858,\n",
              "                                                          0.026118062634914...\n",
              "                                                          0.0050214257366256385,\n",
              "                                                          0.0005703073595961107,\n",
              "                                                          0.001151888789941251,\n",
              "                                                          0.0016212311563941985,\n",
              "                                                          0.0024505367684280496,\n",
              "                                                          0.011155092541719619,\n",
              "                                                          0.0007524347058135697,\n",
              "                                                          0.003203244812844405,\n",
              "                                                          0.004591455636549436,\n",
              "                                                          0.0003715541189658279, ...],\n",
              "                                        'n_hidden': [0, 1, 2, 3],\n",
              "                                        'n_neurons': [1, 2, 3, 4, 5, 6, 7, 8, 9,\n",
              "                                                      10, 11, 12, 13, 14, 15,\n",
              "                                                      16, 17, 18, 19, 20, 21,\n",
              "                                                      22, 23, 24, 25, 26, 27,\n",
              "                                                      28, 29, 30, ...]},\n",
              "                   verbose=2)"
            ],
            "text/html": [
              "<style>#sk-container-id-2 {color: black;background-color: white;}#sk-container-id-2 pre{padding: 0;}#sk-container-id-2 div.sk-toggleable {background-color: white;}#sk-container-id-2 label.sk-toggleable__label {cursor: pointer;display: block;width: 100%;margin-bottom: 0;padding: 0.3em;box-sizing: border-box;text-align: center;}#sk-container-id-2 label.sk-toggleable__label-arrow:before {content: \"▸\";float: left;margin-right: 0.25em;color: #696969;}#sk-container-id-2 label.sk-toggleable__label-arrow:hover:before {color: black;}#sk-container-id-2 div.sk-estimator:hover label.sk-toggleable__label-arrow:before {color: black;}#sk-container-id-2 div.sk-toggleable__content {max-height: 0;max-width: 0;overflow: hidden;text-align: left;background-color: #f0f8ff;}#sk-container-id-2 div.sk-toggleable__content pre {margin: 0.2em;color: black;border-radius: 0.25em;background-color: #f0f8ff;}#sk-container-id-2 input.sk-toggleable__control:checked~div.sk-toggleable__content {max-height: 200px;max-width: 100%;overflow: auto;}#sk-container-id-2 input.sk-toggleable__control:checked~label.sk-toggleable__label-arrow:before {content: \"▾\";}#sk-container-id-2 div.sk-estimator input.sk-toggleable__control:checked~label.sk-toggleable__label {background-color: #d4ebff;}#sk-container-id-2 div.sk-label input.sk-toggleable__control:checked~label.sk-toggleable__label {background-color: #d4ebff;}#sk-container-id-2 input.sk-hidden--visually {border: 0;clip: rect(1px 1px 1px 1px);clip: rect(1px, 1px, 1px, 1px);height: 1px;margin: -1px;overflow: hidden;padding: 0;position: absolute;width: 1px;}#sk-container-id-2 div.sk-estimator {font-family: monospace;background-color: #f0f8ff;border: 1px dotted black;border-radius: 0.25em;box-sizing: border-box;margin-bottom: 0.5em;}#sk-container-id-2 div.sk-estimator:hover {background-color: #d4ebff;}#sk-container-id-2 div.sk-parallel-item::after {content: \"\";width: 100%;border-bottom: 1px solid gray;flex-grow: 1;}#sk-container-id-2 div.sk-label:hover label.sk-toggleable__label {background-color: #d4ebff;}#sk-container-id-2 div.sk-serial::before {content: \"\";position: absolute;border-left: 1px solid gray;box-sizing: border-box;top: 0;bottom: 0;left: 50%;z-index: 0;}#sk-container-id-2 div.sk-serial {display: flex;flex-direction: column;align-items: center;background-color: white;padding-right: 0.2em;padding-left: 0.2em;position: relative;}#sk-container-id-2 div.sk-item {position: relative;z-index: 1;}#sk-container-id-2 div.sk-parallel {display: flex;align-items: stretch;justify-content: center;background-color: white;position: relative;}#sk-container-id-2 div.sk-item::before, #sk-container-id-2 div.sk-parallel-item::before {content: \"\";position: absolute;border-left: 1px solid gray;box-sizing: border-box;top: 0;bottom: 0;left: 50%;z-index: -1;}#sk-container-id-2 div.sk-parallel-item {display: flex;flex-direction: column;z-index: 1;position: relative;background-color: white;}#sk-container-id-2 div.sk-parallel-item:first-child::after {align-self: flex-end;width: 50%;}#sk-container-id-2 div.sk-parallel-item:last-child::after {align-self: flex-start;width: 50%;}#sk-container-id-2 div.sk-parallel-item:only-child::after {width: 0;}#sk-container-id-2 div.sk-dashed-wrapped {border: 1px dashed gray;margin: 0 0.4em 0.5em 0.4em;box-sizing: border-box;padding-bottom: 0.4em;background-color: white;}#sk-container-id-2 div.sk-label label {font-family: monospace;font-weight: bold;display: inline-block;line-height: 1.2em;}#sk-container-id-2 div.sk-label-container {text-align: center;}#sk-container-id-2 div.sk-container {/* jupyter's `normalize.less` sets `[hidden] { display: none; }` but bootstrap.min.css set `[hidden] { display: none !important; }` so we also need the `!important` here to be able to override the default hidden behavior on the sphinx rendered scikit-learn.org. See: https://github.com/scikit-learn/scikit-learn/issues/21755 */display: inline-block !important;position: relative;}#sk-container-id-2 div.sk-text-repr-fallback {display: none;}</style><div id=\"sk-container-id-2\" class=\"sk-top-container\"><div class=\"sk-text-repr-fallback\"><pre>RandomizedSearchCV(cv=3, estimator=KerasRegressorWrapper(),\n",
              "                   param_distributions={&#x27;learning_rate&#x27;: [0.0016834549246003507,\n",
              "                                                          0.023908364455931787,\n",
              "                                                          0.008731907739399207,\n",
              "                                                          0.004725396149933918,\n",
              "                                                          0.0006154014789262349,\n",
              "                                                          0.0006153331256530192,\n",
              "                                                          0.00039200217714159834,\n",
              "                                                          0.016198453229362288,\n",
              "                                                          0.004779156784872304,\n",
              "                                                          0.007821074275112302,\n",
              "                                                          0.0003298300672429858,\n",
              "                                                          0.026118062634914...\n",
              "                                                          0.0050214257366256385,\n",
              "                                                          0.0005703073595961107,\n",
              "                                                          0.001151888789941251,\n",
              "                                                          0.0016212311563941985,\n",
              "                                                          0.0024505367684280496,\n",
              "                                                          0.011155092541719619,\n",
              "                                                          0.0007524347058135697,\n",
              "                                                          0.003203244812844405,\n",
              "                                                          0.004591455636549436,\n",
              "                                                          0.0003715541189658279, ...],\n",
              "                                        &#x27;n_hidden&#x27;: [0, 1, 2, 3],\n",
              "                                        &#x27;n_neurons&#x27;: [1, 2, 3, 4, 5, 6, 7, 8, 9,\n",
              "                                                      10, 11, 12, 13, 14, 15,\n",
              "                                                      16, 17, 18, 19, 20, 21,\n",
              "                                                      22, 23, 24, 25, 26, 27,\n",
              "                                                      28, 29, 30, ...]},\n",
              "                   verbose=2)</pre><b>In a Jupyter environment, please rerun this cell to show the HTML representation or trust the notebook. <br />On GitHub, the HTML representation is unable to render, please try loading this page with nbviewer.org.</b></div><div class=\"sk-container\" hidden><div class=\"sk-item sk-dashed-wrapped\"><div class=\"sk-label-container\"><div class=\"sk-label sk-toggleable\"><input class=\"sk-toggleable__control sk-hidden--visually\" id=\"sk-estimator-id-2\" type=\"checkbox\" ><label for=\"sk-estimator-id-2\" class=\"sk-toggleable__label sk-toggleable__label-arrow\">RandomizedSearchCV</label><div class=\"sk-toggleable__content\"><pre>RandomizedSearchCV(cv=3, estimator=KerasRegressorWrapper(),\n",
              "                   param_distributions={&#x27;learning_rate&#x27;: [0.0016834549246003507,\n",
              "                                                          0.023908364455931787,\n",
              "                                                          0.008731907739399207,\n",
              "                                                          0.004725396149933918,\n",
              "                                                          0.0006154014789262349,\n",
              "                                                          0.0006153331256530192,\n",
              "                                                          0.00039200217714159834,\n",
              "                                                          0.016198453229362288,\n",
              "                                                          0.004779156784872304,\n",
              "                                                          0.007821074275112302,\n",
              "                                                          0.0003298300672429858,\n",
              "                                                          0.026118062634914...\n",
              "                                                          0.0050214257366256385,\n",
              "                                                          0.0005703073595961107,\n",
              "                                                          0.001151888789941251,\n",
              "                                                          0.0016212311563941985,\n",
              "                                                          0.0024505367684280496,\n",
              "                                                          0.011155092541719619,\n",
              "                                                          0.0007524347058135697,\n",
              "                                                          0.003203244812844405,\n",
              "                                                          0.004591455636549436,\n",
              "                                                          0.0003715541189658279, ...],\n",
              "                                        &#x27;n_hidden&#x27;: [0, 1, 2, 3],\n",
              "                                        &#x27;n_neurons&#x27;: [1, 2, 3, 4, 5, 6, 7, 8, 9,\n",
              "                                                      10, 11, 12, 13, 14, 15,\n",
              "                                                      16, 17, 18, 19, 20, 21,\n",
              "                                                      22, 23, 24, 25, 26, 27,\n",
              "                                                      28, 29, 30, ...]},\n",
              "                   verbose=2)</pre></div></div></div><div class=\"sk-parallel\"><div class=\"sk-parallel-item\"><div class=\"sk-item\"><div class=\"sk-label-container\"><div class=\"sk-label sk-toggleable\"><input class=\"sk-toggleable__control sk-hidden--visually\" id=\"sk-estimator-id-3\" type=\"checkbox\" ><label for=\"sk-estimator-id-3\" class=\"sk-toggleable__label sk-toggleable__label-arrow\">estimator: KerasRegressorWrapper</label><div class=\"sk-toggleable__content\"><pre>KerasRegressorWrapper()</pre></div></div></div><div class=\"sk-serial\"><div class=\"sk-item\"><div class=\"sk-estimator sk-toggleable\"><input class=\"sk-toggleable__control sk-hidden--visually\" id=\"sk-estimator-id-4\" type=\"checkbox\" ><label for=\"sk-estimator-id-4\" class=\"sk-toggleable__label sk-toggleable__label-arrow\">KerasRegressorWrapper</label><div class=\"sk-toggleable__content\"><pre>KerasRegressorWrapper()</pre></div></div></div></div></div></div></div></div></div></div>"
            ]
          },
          "metadata": {},
          "execution_count": 97
        }
      ],
      "source": [
        "from scipy.stats import reciprocal\n",
        "from sklearn.model_selection import RandomizedSearchCV\n",
        "\n",
        "param_distribs = {\n",
        "    \"n_hidden\": [0, 1, 2, 3],\n",
        "    \"n_neurons\": np.arange(1, 100)               .tolist(),\n",
        "    \"learning_rate\": reciprocal(3e-4, 3e-2)      .rvs(1000).tolist(),\n",
        "}\n",
        "\n",
        "rnd_search_cv = RandomizedSearchCV(keras_reg, param_distribs, n_iter=10, cv=3, verbose=2)\n",
        "rnd_search_cv.fit(X_train, y_train, epochs=100,\n",
        "                  validation_data=(X_valid, y_valid),\n",
        "                  callbacks=[keras.callbacks.EarlyStopping(patience=10)])"
      ]
    },
    {
      "cell_type": "code",
      "execution_count": 98,
      "metadata": {
        "colab": {
          "base_uri": "https://localhost:8080/"
        },
        "id": "BgNjy6hPGTwt",
        "outputId": "7f91fb86-95fc-4766-adfa-87e6108c3821"
      },
      "outputs": [
        {
          "output_type": "execute_result",
          "data": {
            "text/plain": [
              "{'n_neurons': 74, 'n_hidden': 3, 'learning_rate': 0.0058036029342010235}"
            ]
          },
          "metadata": {},
          "execution_count": 98
        }
      ],
      "source": [
        "rnd_search_cv.best_params_"
      ]
    },
    {
      "cell_type": "code",
      "execution_count": 99,
      "metadata": {
        "colab": {
          "base_uri": "https://localhost:8080/"
        },
        "id": "HLrM6uw4GTwu",
        "outputId": "13451b25-34e8-492a-da60-fbbd1167bf4d"
      },
      "outputs": [
        {
          "output_type": "execute_result",
          "data": {
            "text/plain": [
              "0.7584581488094471"
            ]
          },
          "metadata": {},
          "execution_count": 99
        }
      ],
      "source": [
        "rnd_search_cv.best_score_"
      ]
    },
    {
      "cell_type": "code",
      "execution_count": 100,
      "metadata": {
        "colab": {
          "base_uri": "https://localhost:8080/",
          "height": 92
        },
        "id": "dmFTFDTRGTwu",
        "outputId": "2bf1752b-5b47-4e80-b064-c3690e2f21cd"
      },
      "outputs": [
        {
          "output_type": "execute_result",
          "data": {
            "text/plain": [
              "KerasRegressorWrapper(learning_rate=0.0058036029342010235, n_hidden=3,\n",
              "                      n_neurons=74)"
            ],
            "text/html": [
              "<style>#sk-container-id-3 {color: black;background-color: white;}#sk-container-id-3 pre{padding: 0;}#sk-container-id-3 div.sk-toggleable {background-color: white;}#sk-container-id-3 label.sk-toggleable__label {cursor: pointer;display: block;width: 100%;margin-bottom: 0;padding: 0.3em;box-sizing: border-box;text-align: center;}#sk-container-id-3 label.sk-toggleable__label-arrow:before {content: \"▸\";float: left;margin-right: 0.25em;color: #696969;}#sk-container-id-3 label.sk-toggleable__label-arrow:hover:before {color: black;}#sk-container-id-3 div.sk-estimator:hover label.sk-toggleable__label-arrow:before {color: black;}#sk-container-id-3 div.sk-toggleable__content {max-height: 0;max-width: 0;overflow: hidden;text-align: left;background-color: #f0f8ff;}#sk-container-id-3 div.sk-toggleable__content pre {margin: 0.2em;color: black;border-radius: 0.25em;background-color: #f0f8ff;}#sk-container-id-3 input.sk-toggleable__control:checked~div.sk-toggleable__content {max-height: 200px;max-width: 100%;overflow: auto;}#sk-container-id-3 input.sk-toggleable__control:checked~label.sk-toggleable__label-arrow:before {content: \"▾\";}#sk-container-id-3 div.sk-estimator input.sk-toggleable__control:checked~label.sk-toggleable__label {background-color: #d4ebff;}#sk-container-id-3 div.sk-label input.sk-toggleable__control:checked~label.sk-toggleable__label {background-color: #d4ebff;}#sk-container-id-3 input.sk-hidden--visually {border: 0;clip: rect(1px 1px 1px 1px);clip: rect(1px, 1px, 1px, 1px);height: 1px;margin: -1px;overflow: hidden;padding: 0;position: absolute;width: 1px;}#sk-container-id-3 div.sk-estimator {font-family: monospace;background-color: #f0f8ff;border: 1px dotted black;border-radius: 0.25em;box-sizing: border-box;margin-bottom: 0.5em;}#sk-container-id-3 div.sk-estimator:hover {background-color: #d4ebff;}#sk-container-id-3 div.sk-parallel-item::after {content: \"\";width: 100%;border-bottom: 1px solid gray;flex-grow: 1;}#sk-container-id-3 div.sk-label:hover label.sk-toggleable__label {background-color: #d4ebff;}#sk-container-id-3 div.sk-serial::before {content: \"\";position: absolute;border-left: 1px solid gray;box-sizing: border-box;top: 0;bottom: 0;left: 50%;z-index: 0;}#sk-container-id-3 div.sk-serial {display: flex;flex-direction: column;align-items: center;background-color: white;padding-right: 0.2em;padding-left: 0.2em;position: relative;}#sk-container-id-3 div.sk-item {position: relative;z-index: 1;}#sk-container-id-3 div.sk-parallel {display: flex;align-items: stretch;justify-content: center;background-color: white;position: relative;}#sk-container-id-3 div.sk-item::before, #sk-container-id-3 div.sk-parallel-item::before {content: \"\";position: absolute;border-left: 1px solid gray;box-sizing: border-box;top: 0;bottom: 0;left: 50%;z-index: -1;}#sk-container-id-3 div.sk-parallel-item {display: flex;flex-direction: column;z-index: 1;position: relative;background-color: white;}#sk-container-id-3 div.sk-parallel-item:first-child::after {align-self: flex-end;width: 50%;}#sk-container-id-3 div.sk-parallel-item:last-child::after {align-self: flex-start;width: 50%;}#sk-container-id-3 div.sk-parallel-item:only-child::after {width: 0;}#sk-container-id-3 div.sk-dashed-wrapped {border: 1px dashed gray;margin: 0 0.4em 0.5em 0.4em;box-sizing: border-box;padding-bottom: 0.4em;background-color: white;}#sk-container-id-3 div.sk-label label {font-family: monospace;font-weight: bold;display: inline-block;line-height: 1.2em;}#sk-container-id-3 div.sk-label-container {text-align: center;}#sk-container-id-3 div.sk-container {/* jupyter's `normalize.less` sets `[hidden] { display: none; }` but bootstrap.min.css set `[hidden] { display: none !important; }` so we also need the `!important` here to be able to override the default hidden behavior on the sphinx rendered scikit-learn.org. See: https://github.com/scikit-learn/scikit-learn/issues/21755 */display: inline-block !important;position: relative;}#sk-container-id-3 div.sk-text-repr-fallback {display: none;}</style><div id=\"sk-container-id-3\" class=\"sk-top-container\"><div class=\"sk-text-repr-fallback\"><pre>KerasRegressorWrapper(learning_rate=0.0058036029342010235, n_hidden=3,\n",
              "                      n_neurons=74)</pre><b>In a Jupyter environment, please rerun this cell to show the HTML representation or trust the notebook. <br />On GitHub, the HTML representation is unable to render, please try loading this page with nbviewer.org.</b></div><div class=\"sk-container\" hidden><div class=\"sk-item\"><div class=\"sk-estimator sk-toggleable\"><input class=\"sk-toggleable__control sk-hidden--visually\" id=\"sk-estimator-id-5\" type=\"checkbox\" checked><label for=\"sk-estimator-id-5\" class=\"sk-toggleable__label sk-toggleable__label-arrow\">KerasRegressorWrapper</label><div class=\"sk-toggleable__content\"><pre>KerasRegressorWrapper(learning_rate=0.0058036029342010235, n_hidden=3,\n",
              "                      n_neurons=74)</pre></div></div></div></div></div>"
            ]
          },
          "metadata": {},
          "execution_count": 100
        }
      ],
      "source": [
        "rnd_search_cv.best_estimator_"
      ]
    },
    {
      "cell_type": "code",
      "execution_count": 101,
      "metadata": {
        "colab": {
          "base_uri": "https://localhost:8080/"
        },
        "id": "ZSlXZg7_GTwu",
        "outputId": "0b6f00cc-b384-4cae-faad-331d6012c0b7"
      },
      "outputs": [
        {
          "output_type": "stream",
          "name": "stdout",
          "text": [
            "162/162 [==============================] - 0s 2ms/step\n"
          ]
        },
        {
          "output_type": "execute_result",
          "data": {
            "text/plain": [
              "0.7909010588953538"
            ]
          },
          "metadata": {},
          "execution_count": 101
        }
      ],
      "source": [
        "rnd_search_cv.score(X_test, y_test)"
      ]
    },
    {
      "cell_type": "code",
      "execution_count": 102,
      "metadata": {
        "colab": {
          "base_uri": "https://localhost:8080/"
        },
        "id": "j5IAaQ25GTwu",
        "outputId": "0ca32fd6-a6c7-42c7-a98b-14676911323c"
      },
      "outputs": [
        {
          "output_type": "execute_result",
          "data": {
            "text/plain": [
              "<keras.src.engine.sequential.Sequential at 0x7f8b4580e470>"
            ]
          },
          "metadata": {},
          "execution_count": 102
        }
      ],
      "source": [
        "model = rnd_search_cv.best_estimator_.model\n",
        "model"
      ]
    },
    {
      "cell_type": "code",
      "execution_count": 103,
      "metadata": {
        "scrolled": true,
        "colab": {
          "base_uri": "https://localhost:8080/"
        },
        "id": "ZtAy4edjGTwu",
        "outputId": "2edcb829-50ad-4576-ba9c-6c92ebb55612"
      },
      "outputs": [
        {
          "output_type": "stream",
          "name": "stdout",
          "text": [
            "162/162 [==============================] - 0s 2ms/step - loss: 0.2767\n"
          ]
        },
        {
          "output_type": "execute_result",
          "data": {
            "text/plain": [
              "0.2766834795475006"
            ]
          },
          "metadata": {},
          "execution_count": 103
        }
      ],
      "source": [
        "model.evaluate(X_test, y_test)"
      ]
    },
    {
      "cell_type": "code",
      "execution_count": 125,
      "metadata": {
        "id": "v6eB_IHrGTww"
      },
      "outputs": [],
      "source": []
    }
  ],
  "metadata": {
    "kernelspec": {
      "display_name": "Python 3",
      "language": "python",
      "name": "python3"
    },
    "language_info": {
      "codemirror_mode": {
        "name": "ipython",
        "version": 3
      },
      "file_extension": ".py",
      "mimetype": "text/x-python",
      "name": "python",
      "nbconvert_exporter": "python",
      "pygments_lexer": "ipython3",
      "version": "3.7.10"
    },
    "nav_menu": {
      "height": "264px",
      "width": "369px"
    },
    "toc": {
      "navigate_menu": true,
      "number_sections": true,
      "sideBar": true,
      "threshold": 6,
      "toc_cell": false,
      "toc_section_display": "block",
      "toc_window_display": false
    },
    "colab": {
      "provenance": []
    }
  },
  "nbformat": 4,
  "nbformat_minor": 0
}