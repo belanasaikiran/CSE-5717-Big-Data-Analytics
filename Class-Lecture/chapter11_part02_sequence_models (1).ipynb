{
  "cells": [
    {
      "cell_type": "markdown",
      "metadata": {
        "id": "T3Oqn-2I8cvo"
      },
      "source": [
        "This is a companion notebook for the book [Deep Learning with Python, Second Edition](https://www.manning.com/books/deep-learning-with-python-second-edition?a_aid=keras&a_bid=76564dff). For readability, it only contains runnable code blocks and section titles, and omits everything else in the book: text paragraphs, figures, and pseudocode.\n",
        "\n",
        "**If you want to be able to follow what's going on, I recommend reading the notebook side by side with your copy of the book.**\n",
        "\n",
        "This notebook was generated for TensorFlow 2.6."
      ]
    },
    {
      "cell_type": "markdown",
      "metadata": {
        "id": "fZmXw89-8cvs"
      },
      "source": [
        "### Processing words as a sequence: The sequence model approach"
      ]
    },
    {
      "cell_type": "markdown",
      "metadata": {
        "id": "fSMA4FAi8cvt"
      },
      "source": [
        "#### A first practical example"
      ]
    },
    {
      "cell_type": "markdown",
      "metadata": {
        "id": "XyzbHPFX8cvt"
      },
      "source": [
        "**Downloading the data**"
      ]
    },
    {
      "cell_type": "code",
      "execution_count": 1,
      "metadata": {
        "colab": {
          "base_uri": "https://localhost:8080/"
        },
        "id": "ZWRUG9H38cvu",
        "outputId": "fcd4573d-2bf6-4ce1-b3b2-1b986aa470bd"
      },
      "outputs": [
        {
          "output_type": "stream",
          "name": "stdout",
          "text": [
            "  % Total    % Received % Xferd  Average Speed   Time    Time     Time  Current\n",
            "                                 Dload  Upload   Total   Spent    Left  Speed\n",
            "100 80.2M  100 80.2M    0     0  3872k      0  0:00:21  0:00:21 --:--:-- 5773k\n"
          ]
        }
      ],
      "source": [
        "!curl -O https://ai.stanford.edu/~amaas/data/sentiment/aclImdb_v1.tar.gz\n",
        "!tar -xf aclImdb_v1.tar.gz\n",
        "!rm -r aclImdb/train/unsup"
      ]
    },
    {
      "cell_type": "markdown",
      "metadata": {
        "id": "JBTAw5Bs8cvv"
      },
      "source": [
        "**Preparing the data**"
      ]
    },
    {
      "cell_type": "code",
      "execution_count": 2,
      "metadata": {
        "colab": {
          "base_uri": "https://localhost:8080/"
        },
        "id": "2hxmJ_Yw8cvv",
        "outputId": "048d3aa9-f483-49f0-b219-4610ce86b60f"
      },
      "outputs": [
        {
          "output_type": "stream",
          "name": "stdout",
          "text": [
            "Found 20000 files belonging to 2 classes.\n",
            "Found 5000 files belonging to 2 classes.\n",
            "Found 25000 files belonging to 2 classes.\n"
          ]
        }
      ],
      "source": [
        "import os, pathlib, shutil, random\n",
        "from tensorflow import keras\n",
        "batch_size = 32\n",
        "base_dir = pathlib.Path(\"aclImdb\")\n",
        "val_dir = base_dir / \"val\"\n",
        "train_dir = base_dir / \"train\"\n",
        "for category in (\"neg\", \"pos\"):\n",
        "    os.makedirs(val_dir / category)\n",
        "    files = os.listdir(train_dir / category)\n",
        "    random.Random(1337).shuffle(files)\n",
        "    num_val_samples = int(0.2 * len(files))\n",
        "    val_files = files[-num_val_samples:]\n",
        "    for fname in val_files:\n",
        "        shutil.move(train_dir / category / fname,\n",
        "                    val_dir / category / fname)\n",
        "\n",
        "train_ds = keras.utils.text_dataset_from_directory(\n",
        "    \"aclImdb/train\", batch_size=batch_size\n",
        ")\n",
        "val_ds = keras.utils.text_dataset_from_directory(\n",
        "    \"aclImdb/val\", batch_size=batch_size\n",
        ")\n",
        "test_ds = keras.utils.text_dataset_from_directory(\n",
        "    \"aclImdb/test\", batch_size=batch_size\n",
        ")\n",
        "text_only_train_ds = train_ds.map(lambda x, y: x)"
      ]
    },
    {
      "cell_type": "markdown",
      "metadata": {
        "id": "KArgVDnO8cvw"
      },
      "source": [
        "**Preparing integer sequence datasets**"
      ]
    },
    {
      "cell_type": "code",
      "execution_count": 3,
      "metadata": {
        "id": "Zp_huBcW8cvw"
      },
      "outputs": [],
      "source": [
        "from tensorflow.keras import layers\n",
        "\n",
        "max_length = 600\n",
        "max_tokens = 20000\n",
        "text_vectorization = layers.TextVectorization(\n",
        "    max_tokens=max_tokens,\n",
        "    output_mode=\"int\",\n",
        "    output_sequence_length=max_length,\n",
        ")\n",
        "text_vectorization.adapt(text_only_train_ds)\n",
        "\n",
        "int_train_ds = train_ds.map(\n",
        "    lambda x, y: (text_vectorization(x), y),\n",
        "    num_parallel_calls=4)\n",
        "int_val_ds = val_ds.map(\n",
        "    lambda x, y: (text_vectorization(x), y),\n",
        "    num_parallel_calls=4)\n",
        "int_test_ds = test_ds.map(\n",
        "    lambda x, y: (text_vectorization(x), y),\n",
        "    num_parallel_calls=4)"
      ]
    },
    {
      "cell_type": "markdown",
      "metadata": {
        "id": "5ehJ4SQ58cvx"
      },
      "source": [
        "**A sequence model built on one-hot encoded vector sequences**"
      ]
    },
    {
      "cell_type": "code",
      "execution_count": 4,
      "metadata": {
        "colab": {
          "base_uri": "https://localhost:8080/"
        },
        "id": "MaqLAcWB8cvx",
        "outputId": "23473c5a-513d-4cbb-c282-a02cb0923ba3"
      },
      "outputs": [
        {
          "output_type": "stream",
          "name": "stdout",
          "text": [
            "Model: \"model\"\n",
            "_________________________________________________________________\n",
            " Layer (type)                Output Shape              Param #   \n",
            "=================================================================\n",
            " input_1 (InputLayer)        [(None, None)]            0         \n",
            "                                                                 \n",
            " tf.one_hot (TFOpLambda)     (None, None, 20000)       0         \n",
            "                                                                 \n",
            " bidirectional (Bidirection  (None, 64)                5128448   \n",
            " al)                                                             \n",
            "                                                                 \n",
            " dropout (Dropout)           (None, 64)                0         \n",
            "                                                                 \n",
            " dense (Dense)               (None, 1)                 65        \n",
            "                                                                 \n",
            "=================================================================\n",
            "Total params: 5128513 (19.56 MB)\n",
            "Trainable params: 5128513 (19.56 MB)\n",
            "Non-trainable params: 0 (0.00 Byte)\n",
            "_________________________________________________________________\n"
          ]
        }
      ],
      "source": [
        "import tensorflow as tf\n",
        "inputs = keras.Input(shape=(None,), dtype=\"int64\")\n",
        "embedded = tf.one_hot(inputs, depth=max_tokens)\n",
        "x = layers.Bidirectional(layers.LSTM(32))(embedded)\n",
        "x = layers.Dropout(0.5)(x)\n",
        "outputs = layers.Dense(1, activation=\"sigmoid\")(x)\n",
        "model = keras.Model(inputs, outputs)\n",
        "model.compile(optimizer=\"rmsprop\",\n",
        "              loss=\"binary_crossentropy\",\n",
        "              metrics=[\"accuracy\"])\n",
        "model.summary()"
      ]
    },
    {
      "cell_type": "markdown",
      "metadata": {
        "id": "tamOpmRX8cvx"
      },
      "source": [
        "**Training a first basic sequence model**"
      ]
    },
    {
      "cell_type": "code",
      "execution_count": 5,
      "metadata": {
        "colab": {
          "base_uri": "https://localhost:8080/"
        },
        "id": "3p96XDEK8cvx",
        "outputId": "cdc1285e-0a25-468b-9ba1-ed14ee079e29"
      },
      "outputs": [
        {
          "output_type": "stream",
          "name": "stdout",
          "text": [
            "Epoch 1/10\n",
            "625/625 [==============================] - 69s 96ms/step - loss: 0.5738 - accuracy: 0.7004 - val_loss: 0.4079 - val_accuracy: 0.8452\n",
            "Epoch 2/10\n"
          ]
        },
        {
          "output_type": "stream",
          "name": "stderr",
          "text": [
            "/usr/local/lib/python3.10/dist-packages/keras/src/engine/training.py:3079: UserWarning: You are saving your model as an HDF5 file via `model.save()`. This file format is considered legacy. We recommend using instead the native Keras format, e.g. `model.save('my_model.keras')`.\n",
            "  saving_api.save_model(\n"
          ]
        },
        {
          "output_type": "stream",
          "name": "stdout",
          "text": [
            "625/625 [==============================] - 60s 95ms/step - loss: 0.3729 - accuracy: 0.8594 - val_loss: 0.3047 - val_accuracy: 0.8830\n",
            "Epoch 3/10\n",
            "625/625 [==============================] - 59s 95ms/step - loss: 0.3213 - accuracy: 0.8877 - val_loss: 0.3061 - val_accuracy: 0.8886\n",
            "Epoch 4/10\n",
            "625/625 [==============================] - 59s 95ms/step - loss: 0.2535 - accuracy: 0.9123 - val_loss: 0.2927 - val_accuracy: 0.8908\n",
            "Epoch 5/10\n",
            "625/625 [==============================] - 59s 95ms/step - loss: 0.2297 - accuracy: 0.9240 - val_loss: 0.3453 - val_accuracy: 0.8814\n",
            "Epoch 6/10\n",
            "625/625 [==============================] - 59s 95ms/step - loss: 0.2004 - accuracy: 0.9356 - val_loss: 0.4017 - val_accuracy: 0.8808\n",
            "Epoch 7/10\n",
            "625/625 [==============================] - 59s 95ms/step - loss: 0.1814 - accuracy: 0.9428 - val_loss: 0.3267 - val_accuracy: 0.8938\n",
            "Epoch 8/10\n",
            "625/625 [==============================] - 59s 95ms/step - loss: 0.1556 - accuracy: 0.9502 - val_loss: 0.3693 - val_accuracy: 0.8698\n",
            "Epoch 9/10\n",
            "625/625 [==============================] - 59s 95ms/step - loss: 0.1350 - accuracy: 0.9592 - val_loss: 0.4319 - val_accuracy: 0.8878\n",
            "Epoch 10/10\n",
            "625/625 [==============================] - 59s 95ms/step - loss: 0.1168 - accuracy: 0.9647 - val_loss: 0.3535 - val_accuracy: 0.8796\n",
            "782/782 [==============================] - 33s 41ms/step - loss: 0.3197 - accuracy: 0.8725\n",
            "Test acc: 0.872\n"
          ]
        }
      ],
      "source": [
        "callbacks = [\n",
        "    keras.callbacks.ModelCheckpoint(\"one_hot_bidir_lstm.h5\",\n",
        "                                    save_best_only=True)\n",
        "]\n",
        "model.fit(int_train_ds, validation_data=int_val_ds, epochs=10, callbacks=callbacks)\n",
        "model = keras.models.load_model(\"one_hot_bidir_lstm.h5\")\n",
        "print(f\"Test acc: {model.evaluate(int_test_ds)[1]:.3f}\")"
      ]
    },
    {
      "cell_type": "markdown",
      "metadata": {
        "id": "ov6fLqiW8cvy"
      },
      "source": [
        "#### Understanding word embeddings"
      ]
    },
    {
      "cell_type": "markdown",
      "metadata": {
        "id": "-IW3FF0a8cvy"
      },
      "source": [
        "#### Learning word embeddings with the Embedding layer"
      ]
    },
    {
      "cell_type": "markdown",
      "metadata": {
        "id": "UvyIvGCi8cvy"
      },
      "source": [
        "**Instantiating an `Embedding` layer**"
      ]
    },
    {
      "cell_type": "code",
      "execution_count": 6,
      "metadata": {
        "id": "3wrcWxoK8cvy"
      },
      "outputs": [],
      "source": [
        "embedding_layer = layers.Embedding(input_dim=max_tokens, output_dim=256)"
      ]
    },
    {
      "cell_type": "markdown",
      "metadata": {
        "id": "P_9rBtTw8cvy"
      },
      "source": [
        "**Model that uses an `Embedding` layer trained from scratch**"
      ]
    },
    {
      "cell_type": "code",
      "execution_count": 7,
      "metadata": {
        "colab": {
          "base_uri": "https://localhost:8080/"
        },
        "id": "OVYsizwI8cvy",
        "outputId": "89d604a8-3332-4ddf-d406-dd3c5435afce"
      },
      "outputs": [
        {
          "output_type": "stream",
          "name": "stdout",
          "text": [
            "Model: \"model_1\"\n",
            "_________________________________________________________________\n",
            " Layer (type)                Output Shape              Param #   \n",
            "=================================================================\n",
            " input_2 (InputLayer)        [(None, None)]            0         \n",
            "                                                                 \n",
            " embedding_1 (Embedding)     (None, None, 256)         5120000   \n",
            "                                                                 \n",
            " bidirectional_1 (Bidirecti  (None, 64)                73984     \n",
            " onal)                                                           \n",
            "                                                                 \n",
            " dropout_1 (Dropout)         (None, 64)                0         \n",
            "                                                                 \n",
            " dense_1 (Dense)             (None, 1)                 65        \n",
            "                                                                 \n",
            "=================================================================\n",
            "Total params: 5194049 (19.81 MB)\n",
            "Trainable params: 5194049 (19.81 MB)\n",
            "Non-trainable params: 0 (0.00 Byte)\n",
            "_________________________________________________________________\n",
            "Epoch 1/10\n",
            "625/625 [==============================] - 49s 74ms/step - loss: 0.5262 - accuracy: 0.7398 - val_loss: 0.4201 - val_accuracy: 0.8448\n",
            "Epoch 2/10\n",
            "625/625 [==============================] - 31s 50ms/step - loss: 0.3625 - accuracy: 0.8594 - val_loss: 0.3262 - val_accuracy: 0.8778\n",
            "Epoch 3/10\n",
            "625/625 [==============================] - 27s 43ms/step - loss: 0.2811 - accuracy: 0.8986 - val_loss: 0.3416 - val_accuracy: 0.8668\n",
            "Epoch 4/10\n",
            "625/625 [==============================] - 26s 41ms/step - loss: 0.2449 - accuracy: 0.9143 - val_loss: 0.3356 - val_accuracy: 0.8786\n",
            "Epoch 5/10\n",
            "625/625 [==============================] - 25s 40ms/step - loss: 0.2046 - accuracy: 0.9301 - val_loss: 0.3525 - val_accuracy: 0.8760\n",
            "Epoch 6/10\n",
            "625/625 [==============================] - 25s 40ms/step - loss: 0.1779 - accuracy: 0.9410 - val_loss: 0.3735 - val_accuracy: 0.8788\n",
            "Epoch 7/10\n",
            "625/625 [==============================] - 24s 39ms/step - loss: 0.1530 - accuracy: 0.9507 - val_loss: 0.4563 - val_accuracy: 0.8532\n",
            "Epoch 8/10\n",
            "625/625 [==============================] - 24s 38ms/step - loss: 0.1352 - accuracy: 0.9560 - val_loss: 0.3984 - val_accuracy: 0.8802\n",
            "Epoch 9/10\n",
            "625/625 [==============================] - 24s 38ms/step - loss: 0.1238 - accuracy: 0.9636 - val_loss: 0.4162 - val_accuracy: 0.8838\n",
            "Epoch 10/10\n",
            "625/625 [==============================] - 24s 38ms/step - loss: 0.0957 - accuracy: 0.9723 - val_loss: 0.4944 - val_accuracy: 0.8768\n",
            "782/782 [==============================] - 12s 15ms/step - loss: 0.3537 - accuracy: 0.8646\n",
            "Test acc: 0.865\n"
          ]
        }
      ],
      "source": [
        "inputs = keras.Input(shape=(None,), dtype=\"int64\")\n",
        "embedded = layers.Embedding(input_dim=max_tokens, output_dim=256)(inputs)\n",
        "x = layers.Bidirectional(layers.LSTM(32))(embedded)\n",
        "x = layers.Dropout(0.5)(x)\n",
        "outputs = layers.Dense(1, activation=\"sigmoid\")(x)\n",
        "model = keras.Model(inputs, outputs)\n",
        "model.compile(optimizer=\"rmsprop\",\n",
        "              loss=\"binary_crossentropy\",\n",
        "              metrics=[\"accuracy\"])\n",
        "model.summary()\n",
        "\n",
        "callbacks = [\n",
        "    keras.callbacks.ModelCheckpoint(\"embeddings_bidir_gru.h5\",\n",
        "                                    save_best_only=True)\n",
        "]\n",
        "model.fit(int_train_ds, validation_data=int_val_ds, epochs=10, callbacks=callbacks)\n",
        "model = keras.models.load_model(\"embeddings_bidir_gru.h5\")\n",
        "print(f\"Test acc: {model.evaluate(int_test_ds)[1]:.3f}\")"
      ]
    },
    {
      "cell_type": "markdown",
      "metadata": {
        "id": "sQgd3Nkz8cvy"
      },
      "source": [
        "#### Understanding padding and masking"
      ]
    },
    {
      "cell_type": "markdown",
      "metadata": {
        "id": "Naxt8kF-8cvy"
      },
      "source": [
        "**Using an `Embedding` layer with masking enabled**"
      ]
    },
    {
      "cell_type": "code",
      "execution_count": 8,
      "metadata": {
        "colab": {
          "base_uri": "https://localhost:8080/"
        },
        "id": "W3XKPspj8cvy",
        "outputId": "68f29f82-57b5-4294-c972-0a483a80f46c"
      },
      "outputs": [
        {
          "output_type": "stream",
          "name": "stdout",
          "text": [
            "Model: \"model_2\"\n",
            "_________________________________________________________________\n",
            " Layer (type)                Output Shape              Param #   \n",
            "=================================================================\n",
            " input_3 (InputLayer)        [(None, None)]            0         \n",
            "                                                                 \n",
            " embedding_2 (Embedding)     (None, None, 256)         5120000   \n",
            "                                                                 \n",
            " bidirectional_2 (Bidirecti  (None, 64)                73984     \n",
            " onal)                                                           \n",
            "                                                                 \n",
            " dropout_2 (Dropout)         (None, 64)                0         \n",
            "                                                                 \n",
            " dense_2 (Dense)             (None, 1)                 65        \n",
            "                                                                 \n",
            "=================================================================\n",
            "Total params: 5194049 (19.81 MB)\n",
            "Trainable params: 5194049 (19.81 MB)\n",
            "Non-trainable params: 0 (0.00 Byte)\n",
            "_________________________________________________________________\n",
            "Epoch 1/10\n",
            "625/625 [==============================] - 60s 85ms/step - loss: 0.4561 - accuracy: 0.7791 - val_loss: 0.3217 - val_accuracy: 0.8648\n",
            "Epoch 2/10\n",
            "625/625 [==============================] - 35s 56ms/step - loss: 0.2832 - accuracy: 0.8900 - val_loss: 0.3659 - val_accuracy: 0.8344\n",
            "Epoch 3/10\n",
            "625/625 [==============================] - 31s 50ms/step - loss: 0.2122 - accuracy: 0.9204 - val_loss: 0.2851 - val_accuracy: 0.8838\n",
            "Epoch 4/10\n",
            "625/625 [==============================] - 28s 46ms/step - loss: 0.1687 - accuracy: 0.9369 - val_loss: 0.3002 - val_accuracy: 0.8868\n",
            "Epoch 5/10\n",
            "625/625 [==============================] - 28s 45ms/step - loss: 0.1233 - accuracy: 0.9566 - val_loss: 0.3262 - val_accuracy: 0.8820\n",
            "Epoch 6/10\n",
            "625/625 [==============================] - 28s 44ms/step - loss: 0.0990 - accuracy: 0.9669 - val_loss: 0.4518 - val_accuracy: 0.8594\n",
            "Epoch 7/10\n",
            "625/625 [==============================] - 27s 43ms/step - loss: 0.0751 - accuracy: 0.9754 - val_loss: 0.4693 - val_accuracy: 0.8802\n",
            "Epoch 8/10\n",
            "625/625 [==============================] - 27s 43ms/step - loss: 0.0616 - accuracy: 0.9802 - val_loss: 0.4834 - val_accuracy: 0.8776\n",
            "Epoch 9/10\n",
            "625/625 [==============================] - 26s 42ms/step - loss: 0.0499 - accuracy: 0.9842 - val_loss: 0.5484 - val_accuracy: 0.8618\n",
            "Epoch 10/10\n",
            "625/625 [==============================] - 26s 42ms/step - loss: 0.0371 - accuracy: 0.9887 - val_loss: 0.5500 - val_accuracy: 0.8808\n",
            "782/782 [==============================] - 15s 16ms/step - loss: 0.3084 - accuracy: 0.8700\n",
            "Test acc: 0.870\n"
          ]
        }
      ],
      "source": [
        "inputs = keras.Input(shape=(None,), dtype=\"int64\")\n",
        "embedded = layers.Embedding(\n",
        "    input_dim=max_tokens, output_dim=256, mask_zero=True)(inputs)\n",
        "x = layers.Bidirectional(layers.LSTM(32))(embedded)\n",
        "x = layers.Dropout(0.5)(x)\n",
        "outputs = layers.Dense(1, activation=\"sigmoid\")(x)\n",
        "model = keras.Model(inputs, outputs)\n",
        "model.compile(optimizer=\"rmsprop\",\n",
        "              loss=\"binary_crossentropy\",\n",
        "              metrics=[\"accuracy\"])\n",
        "model.summary()\n",
        "\n",
        "callbacks = [\n",
        "    keras.callbacks.ModelCheckpoint(\"embeddings_bidir_gru_with_masking.h5\",\n",
        "                                    save_best_only=True)\n",
        "]\n",
        "model.fit(int_train_ds, validation_data=int_val_ds, epochs=10, callbacks=callbacks)\n",
        "model = keras.models.load_model(\"embeddings_bidir_gru_with_masking.h5\")\n",
        "print(f\"Test acc: {model.evaluate(int_test_ds)[1]:.3f}\")"
      ]
    },
    {
      "cell_type": "markdown",
      "metadata": {
        "id": "jBSmP4Sn8cvz"
      },
      "source": [
        "#### Using pretrained word embeddings"
      ]
    },
    {
      "cell_type": "code",
      "execution_count": 9,
      "metadata": {
        "colab": {
          "base_uri": "https://localhost:8080/"
        },
        "id": "WA6dKaM-8cvz",
        "outputId": "09f6076e-af94-4729-8bea-8fe37a6a3e3a"
      },
      "outputs": [
        {
          "output_type": "stream",
          "name": "stdout",
          "text": [
            "--2023-11-11 01:38:21--  http://nlp.stanford.edu/data/glove.6B.zip\n",
            "Resolving nlp.stanford.edu (nlp.stanford.edu)... 171.64.67.140\n",
            "Connecting to nlp.stanford.edu (nlp.stanford.edu)|171.64.67.140|:80... connected.\n",
            "HTTP request sent, awaiting response... 302 Found\n",
            "Location: https://nlp.stanford.edu/data/glove.6B.zip [following]\n",
            "--2023-11-11 01:38:22--  https://nlp.stanford.edu/data/glove.6B.zip\n",
            "Connecting to nlp.stanford.edu (nlp.stanford.edu)|171.64.67.140|:443... connected.\n",
            "HTTP request sent, awaiting response... 301 Moved Permanently\n",
            "Location: https://downloads.cs.stanford.edu/nlp/data/glove.6B.zip [following]\n",
            "--2023-11-11 01:38:22--  https://downloads.cs.stanford.edu/nlp/data/glove.6B.zip\n",
            "Resolving downloads.cs.stanford.edu (downloads.cs.stanford.edu)... 171.64.64.22\n",
            "Connecting to downloads.cs.stanford.edu (downloads.cs.stanford.edu)|171.64.64.22|:443... connected.\n",
            "HTTP request sent, awaiting response... 200 OK\n",
            "Length: 862182613 (822M) [application/zip]\n",
            "Saving to: ‘glove.6B.zip’\n",
            "\n",
            "glove.6B.zip        100%[===================>] 822.24M  4.30MB/s    in 2m 44s  \n",
            "\n",
            "2023-11-11 01:41:07 (5.00 MB/s) - ‘glove.6B.zip’ saved [862182613/862182613]\n",
            "\n"
          ]
        }
      ],
      "source": [
        "!wget http://nlp.stanford.edu/data/glove.6B.zip\n",
        "!unzip -q glove.6B.zip"
      ]
    },
    {
      "cell_type": "markdown",
      "metadata": {
        "id": "E7roCaOe8cvz"
      },
      "source": [
        "**Parsing the GloVe word-embeddings file**"
      ]
    },
    {
      "cell_type": "code",
      "execution_count": 10,
      "metadata": {
        "colab": {
          "base_uri": "https://localhost:8080/"
        },
        "id": "IL2Z_OCk8cvz",
        "outputId": "f736a732-dace-4365-e27f-c85299852f13"
      },
      "outputs": [
        {
          "output_type": "stream",
          "name": "stdout",
          "text": [
            "Found 400000 word vectors.\n"
          ]
        }
      ],
      "source": [
        "import numpy as np\n",
        "path_to_glove_file = \"glove.6B.100d.txt\"\n",
        "\n",
        "embeddings_index = {}\n",
        "with open(path_to_glove_file) as f:\n",
        "    for line in f:\n",
        "        word, coefs = line.split(maxsplit=1)\n",
        "        coefs = np.fromstring(coefs, \"f\", sep=\" \")\n",
        "        embeddings_index[word] = coefs\n",
        "\n",
        "print(f\"Found {len(embeddings_index)} word vectors.\")"
      ]
    },
    {
      "cell_type": "markdown",
      "metadata": {
        "id": "HIgRi77j8cvz"
      },
      "source": [
        "**Preparing the GloVe word-embeddings matrix**"
      ]
    },
    {
      "cell_type": "code",
      "execution_count": 11,
      "metadata": {
        "id": "nau1rl_I8cvz"
      },
      "outputs": [],
      "source": [
        "embedding_dim = 100\n",
        "\n",
        "vocabulary = text_vectorization.get_vocabulary()\n",
        "word_index = dict(zip(vocabulary, range(len(vocabulary))))\n",
        "\n",
        "embedding_matrix = np.zeros((max_tokens, embedding_dim))\n",
        "for word, i in word_index.items():\n",
        "    if i < max_tokens:\n",
        "        embedding_vector = embeddings_index.get(word)\n",
        "    if embedding_vector is not None:\n",
        "        embedding_matrix[i] = embedding_vector"
      ]
    },
    {
      "cell_type": "code",
      "execution_count": 12,
      "metadata": {
        "id": "mq6SW6Qe8cvz"
      },
      "outputs": [],
      "source": [
        "embedding_layer = layers.Embedding(\n",
        "    max_tokens,\n",
        "    embedding_dim,\n",
        "    embeddings_initializer=keras.initializers.Constant(embedding_matrix),\n",
        "    trainable=False,\n",
        "    mask_zero=True,\n",
        ")"
      ]
    },
    {
      "cell_type": "markdown",
      "metadata": {
        "id": "OdvLKZnp8cvz"
      },
      "source": [
        "**Model that uses a pretrained Embedding layer**"
      ]
    },
    {
      "cell_type": "code",
      "execution_count": null,
      "metadata": {
        "colab": {
          "base_uri": "https://localhost:8080/"
        },
        "id": "rdgSVda78cvz",
        "outputId": "8d1d5964-ba43-405a-93f8-b0f843ae1870"
      },
      "outputs": [
        {
          "output_type": "stream",
          "name": "stdout",
          "text": [
            "Model: \"model_3\"\n",
            "_________________________________________________________________\n",
            " Layer (type)                Output Shape              Param #   \n",
            "=================================================================\n",
            " input_4 (InputLayer)        [(None, None)]            0         \n",
            "                                                                 \n",
            " embedding_3 (Embedding)     (None, None, 100)         2000000   \n",
            "                                                                 \n",
            " bidirectional_3 (Bidirecti  (None, 64)                34048     \n",
            " onal)                                                           \n",
            "                                                                 \n",
            " dropout_3 (Dropout)         (None, 64)                0         \n",
            "                                                                 \n",
            " dense_3 (Dense)             (None, 1)                 65        \n",
            "                                                                 \n",
            "=================================================================\n",
            "Total params: 2034113 (7.76 MB)\n",
            "Trainable params: 34113 (133.25 KB)\n",
            "Non-trainable params: 2000000 (7.63 MB)\n",
            "_________________________________________________________________\n",
            "Epoch 1/10\n",
            "625/625 [==============================] - 41s 53ms/step - loss: 0.5796 - accuracy: 0.6831 - val_loss: 0.5707 - val_accuracy: 0.7008\n",
            "Epoch 2/10\n",
            "625/625 [==============================] - 30s 49ms/step - loss: 0.4565 - accuracy: 0.7908 - val_loss: 0.3978 - val_accuracy: 0.8202\n",
            "Epoch 3/10\n",
            "625/625 [==============================] - 26s 42ms/step - loss: 0.4012 - accuracy: 0.8227 - val_loss: 0.4036 - val_accuracy: 0.8156\n",
            "Epoch 4/10\n",
            "625/625 [==============================] - 30s 48ms/step - loss: 0.3707 - accuracy: 0.8397 - val_loss: 0.3724 - val_accuracy: 0.8340\n",
            "Epoch 5/10\n",
            "625/625 [==============================] - 30s 48ms/step - loss: 0.3479 - accuracy: 0.8507 - val_loss: 0.3266 - val_accuracy: 0.8614\n",
            "Epoch 6/10\n",
            "625/625 [==============================] - 26s 41ms/step - loss: 0.3225 - accuracy: 0.8655 - val_loss: 0.3324 - val_accuracy: 0.8604\n",
            "Epoch 7/10\n",
            "625/625 [==============================] - 26s 41ms/step - loss: 0.3061 - accuracy: 0.8722 - val_loss: 0.3420 - val_accuracy: 0.8570\n",
            "Epoch 8/10\n",
            "625/625 [==============================] - 29s 47ms/step - loss: 0.2881 - accuracy: 0.8796 - val_loss: 0.3134 - val_accuracy: 0.8710\n",
            "Epoch 9/10\n",
            "625/625 [==============================] - 26s 41ms/step - loss: 0.2752 - accuracy: 0.8881 - val_loss: 0.3230 - val_accuracy: 0.8652\n",
            "Epoch 10/10\n",
            "625/625 [==============================] - 30s 47ms/step - loss: 0.2624 - accuracy: 0.8931 - val_loss: 0.2925 - val_accuracy: 0.8858\n"
          ]
        }
      ],
      "source": [
        "inputs = keras.Input(shape=(None,), dtype=\"int64\")\n",
        "embedded = embedding_layer(inputs)\n",
        "x = layers.Bidirectional(layers.LSTM(32))(embedded)\n",
        "x = layers.Dropout(0.5)(x)\n",
        "outputs = layers.Dense(1, activation=\"sigmoid\")(x)\n",
        "model = keras.Model(inputs, outputs)\n",
        "model.compile(optimizer=\"rmsprop\",\n",
        "              loss=\"binary_crossentropy\",\n",
        "              metrics=[\"accuracy\"])\n",
        "model.summary()\n",
        "\n",
        "callbacks = [\n",
        "    keras.callbacks.ModelCheckpoint(\"glove_embeddings_sequence_model.h5\",\n",
        "                                    save_best_only=True)\n",
        "]\n",
        "model.fit(int_train_ds, validation_data=int_val_ds, epochs=10, callbacks=callbacks)\n",
        "model = keras.models.load_model(\"glove_embeddings_sequence_model.h5\")\n",
        "print(f\"Test acc: {model.evaluate(int_test_ds)[1]:.3f}\")"
      ]
    }
  ],
  "metadata": {
    "colab": {
      "provenance": [],
      "machine_shape": "hm",
      "gpuType": "V100"
    },
    "kernelspec": {
      "display_name": "Python 3",
      "name": "python3"
    },
    "language_info": {
      "codemirror_mode": {
        "name": "ipython",
        "version": 3
      },
      "file_extension": ".py",
      "mimetype": "text/x-python",
      "name": "python",
      "nbconvert_exporter": "python",
      "pygments_lexer": "ipython3",
      "version": "3.7.0"
    },
    "accelerator": "GPU"
  },
  "nbformat": 4,
  "nbformat_minor": 0
}