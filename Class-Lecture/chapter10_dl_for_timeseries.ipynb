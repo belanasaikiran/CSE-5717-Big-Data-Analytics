{
  "cells": [
    {
      "cell_type": "markdown",
      "metadata": {
        "id": "_YrCHWcUW8SE"
      },
      "source": [
        "This is a companion notebook for the book [Deep Learning with Python, Second Edition](https://www.manning.com/books/deep-learning-with-python-second-edition?a_aid=keras&a_bid=76564dff). For readability, it only contains runnable code blocks and section titles, and omits everything else in the book: text paragraphs, figures, and pseudocode.\n",
        "\n",
        "**If you want to be able to follow what's going on, I recommend reading the notebook side by side with your copy of the book.**\n",
        "\n",
        "This notebook was generated for TensorFlow 2.6."
      ]
    },
    {
      "cell_type": "markdown",
      "metadata": {
        "id": "kfFh-nIiW8SH"
      },
      "source": [
        "# Deep learning for timeseries"
      ]
    },
    {
      "cell_type": "markdown",
      "metadata": {
        "id": "ObYuzSvRW8SI"
      },
      "source": [
        "## Different kinds of timeseries tasks"
      ]
    },
    {
      "cell_type": "markdown",
      "metadata": {
        "id": "0m1RcqP5W8SI"
      },
      "source": [
        "## A temperature-forecasting example"
      ]
    },
    {
      "cell_type": "code",
      "execution_count": null,
      "metadata": {
        "colab": {
          "base_uri": "https://localhost:8080/"
        },
        "id": "yqrHrPu_W8SI",
        "outputId": "ae65e283-97d2-45a0-914f-07340563326f"
      },
      "outputs": [
        {
          "name": "stdout",
          "output_type": "stream",
          "text": [
            "--2023-11-08 17:19:49--  https://s3.amazonaws.com/keras-datasets/jena_climate_2009_2016.csv.zip\n",
            "Resolving s3.amazonaws.com (s3.amazonaws.com)... 54.231.193.160, 54.231.229.168, 54.231.228.224, ...\n",
            "Connecting to s3.amazonaws.com (s3.amazonaws.com)|54.231.193.160|:443... connected.\n",
            "HTTP request sent, awaiting response... 200 OK\n",
            "Length: 13565642 (13M) [application/zip]\n",
            "Saving to: ‘jena_climate_2009_2016.csv.zip’\n",
            "\n",
            "jena_climate_2009_2 100%[===================>]  12.94M  15.2MB/s    in 0.9s    \n",
            "\n",
            "2023-11-08 17:19:51 (15.2 MB/s) - ‘jena_climate_2009_2016.csv.zip’ saved [13565642/13565642]\n",
            "\n",
            "Archive:  jena_climate_2009_2016.csv.zip\n",
            "  inflating: jena_climate_2009_2016.csv  \n",
            "  inflating: __MACOSX/._jena_climate_2009_2016.csv  \n"
          ]
        }
      ],
      "source": [
        "!wget https://s3.amazonaws.com/keras-datasets/jena_climate_2009_2016.csv.zip\n",
        "!unzip jena_climate_2009_2016.csv.zip"
      ]
    },
    {
      "cell_type": "markdown",
      "metadata": {
        "id": "vSRC2MdrW8SJ"
      },
      "source": [
        "**Inspecting the data of the Jena weather dataset**"
      ]
    },
    {
      "cell_type": "code",
      "execution_count": null,
      "metadata": {
        "colab": {
          "base_uri": "https://localhost:8080/"
        },
        "id": "fZnVSGNJW8SJ",
        "outputId": "5b276871-9760-4f08-fccf-f3f3b4022757"
      },
      "outputs": [
        {
          "name": "stdout",
          "output_type": "stream",
          "text": [
            "['\"Date Time\"', '\"p (mbar)\"', '\"T (degC)\"', '\"Tpot (K)\"', '\"Tdew (degC)\"', '\"rh (%)\"', '\"VPmax (mbar)\"', '\"VPact (mbar)\"', '\"VPdef (mbar)\"', '\"sh (g/kg)\"', '\"H2OC (mmol/mol)\"', '\"rho (g/m**3)\"', '\"wv (m/s)\"', '\"max. wv (m/s)\"', '\"wd (deg)\"']\n",
            "420451\n"
          ]
        }
      ],
      "source": [
        "import os\n",
        "fname = os.path.join(\"jena_climate_2009_2016.csv\")\n",
        "\n",
        "with open(fname) as f:\n",
        "    data = f.read()\n",
        "\n",
        "lines = data.split(\"\\n\")\n",
        "header = lines[0].split(\",\")\n",
        "lines = lines[1:]\n",
        "print(header)\n",
        "print(len(lines))"
      ]
    },
    {
      "cell_type": "markdown",
      "metadata": {
        "id": "jj_jLm43W8SK"
      },
      "source": [
        "**Parsing the data**"
      ]
    },
    {
      "cell_type": "code",
      "execution_count": null,
      "metadata": {
        "id": "kQiIx940W8SK"
      },
      "outputs": [],
      "source": [
        "import numpy as np\n",
        "temperature = np.zeros((len(lines),))\n",
        "raw_data = np.zeros((len(lines), len(header) - 1))\n",
        "for i, line in enumerate(lines):\n",
        "    values = [float(x) for x in line.split(\",\")[1:]]\n",
        "    temperature[i] = values[1]\n",
        "    raw_data[i, :] = values[:]"
      ]
    },
    {
      "cell_type": "markdown",
      "metadata": {
        "id": "R0HHtBklW8SK"
      },
      "source": [
        "**Plotting the temperature timeseries**"
      ]
    },
    {
      "cell_type": "code",
      "execution_count": null,
      "metadata": {
        "colab": {
          "base_uri": "https://localhost:8080/",
          "height": 452
        },
        "id": "J2fe8SeeW8SL",
        "outputId": "69a31853-7d38-4fa1-80de-11020ff27839"
      },
      "outputs": [
        {
          "data": {
            "text/plain": [
              "[<matplotlib.lines.Line2D at 0x79f4eda9a650>]"
            ]
          },
          "execution_count": 4,
          "metadata": {},
          "output_type": "execute_result"
        },
        {
          "data": {
            "image/png": "[encoded data removed]",
            "text/plain": [
              "<Figure size 640x480 with 1 Axes>"
            ]
          },
          "metadata": {},
          "output_type": "display_data"
        }
      ],
      "source": [
        "from matplotlib import pyplot as plt\n",
        "plt.plot(range(len(temperature)), temperature)"
      ]
    },
    {
      "cell_type": "markdown",
      "metadata": {
        "id": "fPjcaoZRW8SL"
      },
      "source": [
        "**Plotting the first 10 days of the temperature timeseries**"
      ]
    },
    {
      "cell_type": "code",
      "execution_count": null,
      "metadata": {
        "colab": {
          "base_uri": "https://localhost:8080/",
          "height": 448
        },
        "id": "J7sjHtnVW8SL",
        "outputId": "e1ce3ba0-b8bb-465e-9c0d-cca6febdb89d"
      },
      "outputs": [
        {
          "data": {
            "text/plain": [
              "[<matplotlib.lines.Line2D at 0x79f4ed9ab790>]"
            ]
          },
          "execution_count": 5,
          "metadata": {},
          "output_type": "execute_result"
        },
        {
          "data": {
            "image/png": "[encoded data removed]",
            "text/plain": [
              "<Figure size 640x480 with 1 Axes>"
            ]
          },
          "metadata": {},
          "output_type": "display_data"
        }
      ],
      "source": [
        "plt.plot(range(1440), temperature[:1440])"
      ]
    },
    {
      "cell_type": "markdown",
      "metadata": {
        "id": "A5dyd60fW8SL"
      },
      "source": [
        "**Computing the number of samples we'll use for each data split**"
      ]
    },
    {
      "cell_type": "code",
      "execution_count": null,
      "metadata": {
        "colab": {
          "base_uri": "https://localhost:8080/"
        },
        "id": "lZ7arlg4W8SL",
        "outputId": "1bda0128-b740-4986-97ff-bfd351b92595"
      },
      "outputs": [
        {
          "name": "stdout",
          "output_type": "stream",
          "text": [
            "num_train_samples: 210225\n",
            "num_val_samples: 105112\n",
            "num_test_samples: 105114\n"
          ]
        }
      ],
      "source": [
        "num_train_samples = int(0.5 * len(raw_data))\n",
        "num_val_samples = int(0.25 * len(raw_data))\n",
        "num_test_samples = len(raw_data) - num_train_samples - num_val_samples\n",
        "print(\"num_train_samples:\", num_train_samples)\n",
        "print(\"num_val_samples:\", num_val_samples)\n",
        "print(\"num_test_samples:\", num_test_samples)"
      ]
    },
    {
      "cell_type": "markdown",
      "metadata": {
        "id": "zEQIVAeiW8SL"
      },
      "source": [
        "### Preparing the data"
      ]
    },
    {
      "cell_type": "markdown",
      "metadata": {
        "id": "EJo7-tkcW8SL"
      },
      "source": [
        "**Normalizing the data**"
      ]
    },
    {
      "cell_type": "code",
      "execution_count": null,
      "metadata": {
        "id": "GPOFFbQ3W8SL"
      },
      "outputs": [],
      "source": [
        "mean = raw_data[:num_train_samples].mean(axis=0)\n",
        "raw_data -= mean\n",
        "std = raw_data[:num_train_samples].std(axis=0)\n",
        "raw_data /= std"
      ]
    },
    {
      "cell_type": "code",
      "execution_count": null,
      "metadata": {
        "colab": {
          "base_uri": "https://localhost:8080/"
        },
        "id": "Ki1AtpjvW8SM",
        "outputId": "26ebdd27-427c-43ee-a6a1-8a6a6a303cba"
      },
      "outputs": [
        {
          "name": "stdout",
          "output_type": "stream",
          "text": [
            "[0, 1, 2] 3\n",
            "[1, 2, 3] 4\n",
            "[2, 3, 4] 5\n",
            "[3, 4, 5] 6\n",
            "[4, 5, 6] 7\n"
          ]
        }
      ],
      "source": [
        "import numpy as np\n",
        "from tensorflow import keras\n",
        "int_sequence = np.arange(10)\n",
        "dummy_dataset = keras.utils.timeseries_dataset_from_array(\n",
        "    data=int_sequence[:-3],\n",
        "    targets=int_sequence[3:],\n",
        "    sequence_length=3,\n",
        "    batch_size=2,\n",
        ")\n",
        "\n",
        "for inputs, targets in dummy_dataset:\n",
        "    for i in range(inputs.shape[0]):\n",
        "        print([int(x) for x in inputs[i]], int(targets[i]))"
      ]
    },
    {
      "cell_type": "markdown",
      "metadata": {
        "id": "4d5wYOmOW8SM"
      },
      "source": [
        "**Instantiating datasets for training, validation, and testing**"
      ]
    },
    {
      "cell_type": "code",
      "execution_count": null,
      "metadata": {
        "id": "ZlGyNrq6W8SM"
      },
      "outputs": [],
      "source": [
        "sampling_rate = 6\n",
        "sequence_length = 120\n",
        "delay = sampling_rate * (sequence_length + 24 - 1)\n",
        "batch_size = 256\n",
        "\n",
        "train_dataset = keras.utils.timeseries_dataset_from_array(\n",
        "    raw_data[:-delay],\n",
        "    targets=temperature[delay:],\n",
        "    sampling_rate=sampling_rate,\n",
        "    sequence_length=sequence_length,\n",
        "    shuffle=True,\n",
        "    batch_size=batch_size,\n",
        "    start_index=0,\n",
        "    end_index=num_train_samples)\n",
        "\n",
        "val_dataset = keras.utils.timeseries_dataset_from_array(\n",
        "    raw_data[:-delay],\n",
        "    targets=temperature[delay:],\n",
        "    sampling_rate=sampling_rate,\n",
        "    sequence_length=sequence_length,\n",
        "    shuffle=True,\n",
        "    batch_size=batch_size,\n",
        "    start_index=num_train_samples,\n",
        "    end_index=num_train_samples + num_val_samples)\n",
        "\n",
        "test_dataset = keras.utils.timeseries_dataset_from_array(\n",
        "    raw_data[:-delay],\n",
        "    targets=temperature[delay:],\n",
        "    sampling_rate=sampling_rate,\n",
        "    sequence_length=sequence_length,\n",
        "    shuffle=True,\n",
        "    batch_size=batch_size,\n",
        "    start_index=num_train_samples + num_val_samples)"
      ]
    },
    {
      "cell_type": "markdown",
      "metadata": {
        "id": "xLK8vHOmW8SM"
      },
      "source": [
        "**Inspecting the output of one of our datasets**"
      ]
    },
    {
      "cell_type": "code",
      "execution_count": null,
      "metadata": {
        "colab": {
          "base_uri": "https://localhost:8080/"
        },
        "id": "u-U9zEkXW8SM",
        "outputId": "75ae54b3-d816-435a-f8b0-cd43d5984e79"
      },
      "outputs": [
        {
          "name": "stdout",
          "output_type": "stream",
          "text": [
            "samples shape: (256, 120, 14)\n",
            "targets shape: (256,)\n"
          ]
        }
      ],
      "source": [
        "for samples, targets in train_dataset:\n",
        "    print(\"samples shape:\", samples.shape)\n",
        "    print(\"targets shape:\", targets.shape)\n",
        "    break"
      ]
    },
    {
      "cell_type": "markdown",
      "metadata": {
        "id": "vSBKfN1iW8SM"
      },
      "source": [
        "### A common-sense, non-machine-learning baseline"
      ]
    },
    {
      "cell_type": "markdown",
      "metadata": {
        "id": "Te6IU_PEW8SM"
      },
      "source": [
        "**Computing the common-sense baseline MAE**"
      ]
    },
    {
      "cell_type": "code",
      "execution_count": null,
      "metadata": {
        "colab": {
          "base_uri": "https://localhost:8080/"
        },
        "id": "JouXsYs6W8SM",
        "outputId": "18508844-1354-45d9-a2cd-1dfd9af0fdc9"
      },
      "outputs": [
        {
          "name": "stdout",
          "output_type": "stream",
          "text": [
            "Validation MAE: 2.44\n",
            "Test MAE: 2.62\n"
          ]
        }
      ],
      "source": [
        "def evaluate_naive_method(dataset):\n",
        "    total_abs_err = 0.\n",
        "    samples_seen = 0\n",
        "    for samples, targets in dataset:\n",
        "        preds = samples[:, -1, 1] * std[1] + mean[1]\n",
        "        total_abs_err += np.sum(np.abs(preds - targets))\n",
        "        samples_seen += samples.shape[0]\n",
        "    return total_abs_err / samples_seen\n",
        "\n",
        "print(f\"Validation MAE: {evaluate_naive_method(val_dataset):.2f}\")\n",
        "print(f\"Test MAE: {evaluate_naive_method(test_dataset):.2f}\")"
      ]
    },
    {
      "cell_type": "markdown",
      "metadata": {
        "id": "vhSAd84QW8SM"
      },
      "source": [
        "### Let's try a basic machine-learning model"
      ]
    },
    {
      "cell_type": "markdown",
      "metadata": {
        "id": "oijVs1INW8SM"
      },
      "source": [
        "**Training and evaluating a densely connected model**"
      ]
    },
    {
      "cell_type": "code",
      "execution_count": null,
      "metadata": {
        "colab": {
          "base_uri": "https://localhost:8080/"
        },
        "id": "QQ6LoFAfW8SN",
        "outputId": "56aaa96d-53c3-4b63-9001-b620d0d9404b"
      },
      "outputs": [
        {
          "name": "stdout",
          "output_type": "stream",
          "text": [
            "Epoch 1/10\n",
            "819/819 [==============================] - 17s 16ms/step - loss: 13.8832 - mae: 2.8814 - val_loss: 10.3290 - val_mae: 2.5416\n",
            "Epoch 2/10\n",
            "  7/819 [..............................] - ETA: 7s - loss: 10.2253 - mae: 2.5338 "
          ]
        },
        {
          "name": "stderr",
          "output_type": "stream",
          "text": [
            "/usr/local/lib/python3.10/dist-packages/keras/src/engine/training.py:3079: UserWarning: You are saving your model as an HDF5 file via `model.save()`. This file format is considered legacy. We recommend using instead the native Keras format, e.g. `model.save('my_model.keras')`.\n",
            "  saving_api.save_model(\n"
          ]
        },
        {
          "name": "stdout",
          "output_type": "stream",
          "text": [
            "819/819 [==============================] - 12s 15ms/step - loss: 9.6141 - mae: 2.4453 - val_loss: 10.3396 - val_mae: 2.5439\n",
            "Epoch 3/10\n",
            "819/819 [==============================] - 13s 15ms/step - loss: 8.8883 - mae: 2.3510 - val_loss: 12.9847 - val_mae: 2.8624\n",
            "Epoch 4/10\n",
            "819/819 [==============================] - 13s 16ms/step - loss: 8.4512 - mae: 2.2912 - val_loss: 9.9913 - val_mae: 2.4963\n",
            "Epoch 5/10\n",
            "819/819 [==============================] - 12s 15ms/step - loss: 8.1355 - mae: 2.2443 - val_loss: 10.2758 - val_mae: 2.5424\n",
            "Epoch 6/10\n",
            "819/819 [==============================] - 12s 15ms/step - loss: 7.9218 - mae: 2.2161 - val_loss: 12.3672 - val_mae: 2.7863\n",
            "Epoch 7/10\n",
            "819/819 [==============================] - 12s 15ms/step - loss: 7.7193 - mae: 2.1884 - val_loss: 10.6164 - val_mae: 2.5944\n",
            "Epoch 8/10\n",
            "819/819 [==============================] - 12s 15ms/step - loss: 7.5473 - mae: 2.1651 - val_loss: 12.3597 - val_mae: 2.7968\n",
            "Epoch 9/10\n",
            "819/819 [==============================] - 12s 15ms/step - loss: 7.4421 - mae: 2.1504 - val_loss: 10.6693 - val_mae: 2.5871\n",
            "Epoch 10/10\n",
            "819/819 [==============================] - 12s 15ms/step - loss: 7.3034 - mae: 2.1297 - val_loss: 10.7926 - val_mae: 2.6048\n",
            "405/405 [==============================] - 4s 9ms/step - loss: 10.8107 - mae: 2.5774\n",
            "Test MAE: 2.58\n"
          ]
        }
      ],
      "source": [
        "from tensorflow import keras\n",
        "from tensorflow.keras import layers\n",
        "\n",
        "inputs = keras.Input(shape=(sequence_length, raw_data.shape[-1]))\n",
        "x = layers.Flatten()(inputs)\n",
        "x = layers.Dense(16, activation=\"relu\")(x)\n",
        "outputs = layers.Dense(1)(x)\n",
        "model = keras.Model(inputs, outputs)\n",
        "\n",
        "callbacks = [\n",
        "    keras.callbacks.ModelCheckpoint(\"jena_dense.h5\",\n",
        "                                    save_best_only=True)\n",
        "]\n",
        "model.compile(optimizer=\"rmsprop\", loss=\"mse\", metrics=[\"mae\"])\n",
        "history = model.fit(train_dataset,\n",
        "                    epochs=10,\n",
        "                    validation_data=val_dataset,\n",
        "                    callbacks=callbacks)\n",
        "\n",
        "model = keras.models.load_model(\"jena_dense.h5\")\n",
        "print(f\"Test MAE: {model.evaluate(test_dataset)[1]:.2f}\")"
      ]
    },
    {
      "cell_type": "markdown",
      "metadata": {
        "id": "DMJr1i5BW8SN"
      },
      "source": [
        "**Plotting results**"
      ]
    },
    {
      "cell_type": "code",
      "execution_count": null,
      "metadata": {
        "colab": {
          "base_uri": "https://localhost:8080/",
          "height": 452
        },
        "id": "fQiC0i54W8SN",
        "outputId": "04696370-a448-4f01-ec12-e046ecb9bef6"
      },
      "outputs": [
        {
          "data": {
            "image/png": "[encoded data removed]",
            "text/plain": [
              "<Figure size 640x480 with 1 Axes>"
            ]
          },
          "metadata": {},
          "output_type": "display_data"
        }
      ],
      "source": [
        "import matplotlib.pyplot as plt\n",
        "loss = history.history[\"mae\"]\n",
        "val_loss = history.history[\"val_mae\"]\n",
        "epochs = range(1, len(loss) + 1)\n",
        "plt.figure()\n",
        "plt.plot(epochs, loss, \"bo\", label=\"Training MAE\")\n",
        "plt.plot(epochs, val_loss, \"b\", label=\"Validation MAE\")\n",
        "plt.title(\"Training and validation MAE\")\n",
        "plt.legend()\n",
        "plt.show()"
      ]
    },
    {
      "cell_type": "markdown",
      "metadata": {
        "id": "o9e5qcw8W8SN"
      },
      "source": [
        "### Let's try a 1D convolutional model"
      ]
    },
    {
      "cell_type": "code",
      "execution_count": null,
      "metadata": {
        "colab": {
          "base_uri": "https://localhost:8080/"
        },
        "id": "j54Z1oJmW8SN",
        "outputId": "da941420-e3fb-4eef-da23-a34eb7db6bb0"
      },
      "outputs": [
        {
          "name": "stdout",
          "output_type": "stream",
          "text": [
            "Epoch 1/10\n",
            "819/819 [==============================] - 18s 16ms/step - loss: 22.0236 - mae: 3.6575 - val_loss: 15.4922 - val_mae: 3.1137\n",
            "Epoch 2/10\n",
            "819/819 [==============================] - 13s 15ms/step - loss: 15.4242 - mae: 3.1164 - val_loss: 14.8087 - val_mae: 3.0255\n",
            "Epoch 3/10\n",
            "819/819 [==============================] - 13s 15ms/step - loss: 14.4038 - mae: 3.0080 - val_loss: 15.2422 - val_mae: 3.0583\n",
            "Epoch 4/10\n",
            "819/819 [==============================] - 13s 15ms/step - loss: 13.7001 - mae: 2.9295 - val_loss: 17.3832 - val_mae: 3.3316\n",
            "Epoch 5/10\n",
            "819/819 [==============================] - 12s 15ms/step - loss: 13.1605 - mae: 2.8681 - val_loss: 17.6377 - val_mae: 3.2853\n",
            "Epoch 6/10\n",
            "819/819 [==============================] - 12s 15ms/step - loss: 12.6869 - mae: 2.8162 - val_loss: 19.1201 - val_mae: 3.4571\n",
            "Epoch 7/10\n",
            "819/819 [==============================] - 12s 15ms/step - loss: 12.2932 - mae: 2.7700 - val_loss: 16.8430 - val_mae: 3.1946\n",
            "Epoch 8/10\n",
            "819/819 [==============================] - 12s 15ms/step - loss: 11.9357 - mae: 2.7296 - val_loss: 15.7149 - val_mae: 3.1035\n",
            "Epoch 9/10\n",
            "819/819 [==============================] - 12s 15ms/step - loss: 11.6231 - mae: 2.6920 - val_loss: 15.5109 - val_mae: 3.0703\n",
            "Epoch 10/10\n",
            "819/819 [==============================] - 12s 15ms/step - loss: 11.3122 - mae: 2.6582 - val_loss: 15.2277 - val_mae: 3.0665\n",
            "405/405 [==============================] - 4s 10ms/step - loss: 16.5290 - mae: 3.2162\n",
            "Test MAE: 3.22\n"
          ]
        }
      ],
      "source": [
        "inputs = keras.Input(shape=(sequence_length, raw_data.shape[-1]))\n",
        "x = layers.Conv1D(8, 24, activation=\"relu\")(inputs)\n",
        "x = layers.MaxPooling1D(2)(x)\n",
        "x = layers.Conv1D(8, 12, activation=\"relu\")(x)\n",
        "x = layers.MaxPooling1D(2)(x)\n",
        "x = layers.Conv1D(8, 6, activation=\"relu\")(x)\n",
        "x = layers.GlobalAveragePooling1D()(x)\n",
        "outputs = layers.Dense(1)(x)\n",
        "model = keras.Model(inputs, outputs)\n",
        "\n",
        "callbacks = [\n",
        "    keras.callbacks.ModelCheckpoint(\"jena_conv.h5\",\n",
        "                                    save_best_only=True)\n",
        "]\n",
        "model.compile(optimizer=\"rmsprop\", loss=\"mse\", metrics=[\"mae\"])\n",
        "history = model.fit(train_dataset,\n",
        "                    epochs=10,\n",
        "                    validation_data=val_dataset,\n",
        "                    callbacks=callbacks)\n",
        "\n",
        "model = keras.models.load_model(\"jena_conv.h5\")\n",
        "print(f\"Test MAE: {model.evaluate(test_dataset)[1]:.2f}\")"
      ]
    },
    {
      "cell_type": "markdown",
      "metadata": {
        "id": "1vW6h9RcW8SN"
      },
      "source": [
        "### A first recurrent baseline"
      ]
    },
    {
      "cell_type": "markdown",
      "metadata": {
        "id": "uTBFQwFAW8SN"
      },
      "source": [
        "**A simple LSTM-based model**"
      ]
    },
    {
      "cell_type": "code",
      "execution_count": null,
      "metadata": {
        "colab": {
          "base_uri": "https://localhost:8080/"
        },
        "id": "w7Yb023JW8SO",
        "outputId": "65345e30-060f-4aa4-b14b-f33577723d3d"
      },
      "outputs": [
        {
          "name": "stdout",
          "output_type": "stream",
          "text": [
            "Epoch 1/10\n",
            "819/819 [==============================] - 16s 17ms/step - loss: 46.0732 - mae: 4.9709 - val_loss: 13.6668 - val_mae: 2.7866\n",
            "Epoch 2/10\n",
            "819/819 [==============================] - 13s 16ms/step - loss: 11.0400 - mae: 2.5887 - val_loss: 9.8375 - val_mae: 2.4385\n",
            "Epoch 3/10\n",
            "819/819 [==============================] - 13s 16ms/step - loss: 9.8521 - mae: 2.4591 - val_loss: 9.8186 - val_mae: 2.4375\n",
            "Epoch 4/10\n",
            "819/819 [==============================] - 13s 16ms/step - loss: 9.4991 - mae: 2.4115 - val_loss: 9.8704 - val_mae: 2.4470\n",
            "Epoch 5/10\n",
            "819/819 [==============================] - 13s 16ms/step - loss: 9.1818 - mae: 2.3660 - val_loss: 9.9660 - val_mae: 2.4505\n",
            "Epoch 6/10\n",
            "819/819 [==============================] - 13s 16ms/step - loss: 8.8915 - mae: 2.3280 - val_loss: 9.7503 - val_mae: 2.4133\n",
            "Epoch 7/10\n",
            "819/819 [==============================] - 13s 16ms/step - loss: 8.6316 - mae: 2.2943 - val_loss: 9.9532 - val_mae: 2.4429\n",
            "Epoch 8/10\n",
            "819/819 [==============================] - 13s 16ms/step - loss: 8.3970 - mae: 2.2630 - val_loss: 10.1979 - val_mae: 2.4712\n",
            "Epoch 9/10\n",
            "819/819 [==============================] - 13s 16ms/step - loss: 8.2068 - mae: 2.2378 - val_loss: 10.8661 - val_mae: 2.5028\n",
            "Epoch 10/10\n",
            "819/819 [==============================] - 13s 16ms/step - loss: 8.0088 - mae: 2.2112 - val_loss: 10.1218 - val_mae: 2.4621\n",
            "405/405 [==============================] - 5s 10ms/step - loss: 10.8774 - mae: 2.5906\n",
            "Test MAE: 2.59\n"
          ]
        }
      ],
      "source": [
        "inputs = keras.Input(shape=(sequence_length, raw_data.shape[-1]))\n",
        "x = layers.LSTM(16)(inputs)\n",
        "outputs = layers.Dense(1)(x)\n",
        "model = keras.Model(inputs, outputs)\n",
        "\n",
        "callbacks = [\n",
        "    keras.callbacks.ModelCheckpoint(\"jena_lstm.h5\",\n",
        "                                    save_best_only=True)\n",
        "]\n",
        "model.compile(optimizer=\"rmsprop\", loss=\"mse\", metrics=[\"mae\"])\n",
        "history = model.fit(train_dataset,\n",
        "                    epochs=10,\n",
        "                    validation_data=val_dataset,\n",
        "                    callbacks=callbacks)\n",
        "\n",
        "model = keras.models.load_model(\"jena_lstm.h5\")\n",
        "print(f\"Test MAE: {model.evaluate(test_dataset)[1]:.2f}\")"
      ]
    },
    {
      "cell_type": "markdown",
      "metadata": {
        "id": "qGN80tsuW8SO"
      },
      "source": [
        "## Understanding recurrent neural networks"
      ]
    },
    {
      "cell_type": "markdown",
      "metadata": {
        "id": "5PmWfhD4W8SO"
      },
      "source": [
        "**NumPy implementation of a simple RNN**"
      ]
    },
    {
      "cell_type": "code",
      "execution_count": null,
      "metadata": {
        "id": "5WbgHlx5W8SO"
      },
      "outputs": [],
      "source": [
        "import numpy as np\n",
        "timesteps = 100\n",
        "input_features = 32\n",
        "output_features = 64\n",
        "inputs = np.random.random((timesteps, input_features))\n",
        "state_t = np.zeros((output_features,))\n",
        "W = np.random.random((output_features, input_features))\n",
        "U = np.random.random((output_features, output_features))\n",
        "b = np.random.random((output_features,))\n",
        "successive_outputs = []\n",
        "for input_t in inputs:\n",
        "    output_t = np.tanh(np.dot(W, input_t) + np.dot(U, state_t) + b)\n",
        "    successive_outputs.append(output_t)\n",
        "    state_t = output_t\n",
        "final_output_sequence = np.stack(successive_outputs, axis=0)"
      ]
    },
    {
      "cell_type": "markdown",
      "metadata": {
        "id": "7aphchMnW8ST"
      },
      "source": [
        "### A recurrent layer in Keras"
      ]
    },
    {
      "cell_type": "markdown",
      "metadata": {
        "id": "gX8fhr02W8ST"
      },
      "source": [
        "**An RNN layer that can process sequences of any length**"
      ]
    },
    {
      "cell_type": "code",
      "execution_count": null,
      "metadata": {
        "id": "cU6VvKKFW8ST"
      },
      "outputs": [],
      "source": [
        "num_features = 14\n",
        "inputs = keras.Input(shape=(None, num_features))\n",
        "outputs = layers.SimpleRNN(16)(inputs)"
      ]
    },
    {
      "cell_type": "markdown",
      "metadata": {
        "id": "Sip1M7J7W8ST"
      },
      "source": [
        "**An RNN layer that returns only its last output step**"
      ]
    },
    {
      "cell_type": "code",
      "execution_count": null,
      "metadata": {
        "colab": {
          "base_uri": "https://localhost:8080/"
        },
        "id": "4Kn2IQSMW8ST",
        "outputId": "1b398bc8-d37d-480d-c14a-5a2c3814529a"
      },
      "outputs": [
        {
          "name": "stdout",
          "output_type": "stream",
          "text": [
            "(None, 16)\n"
          ]
        }
      ],
      "source": [
        "num_features = 14\n",
        "steps = 120\n",
        "inputs = keras.Input(shape=(steps, num_features))\n",
        "outputs = layers.SimpleRNN(16, return_sequences=False)(inputs)\n",
        "print(outputs.shape)"
      ]
    },
    {
      "cell_type": "markdown",
      "metadata": {
        "id": "bRMxYwbEW8ST"
      },
      "source": [
        "**An RNN layer that returns its full output sequence**"
      ]
    },
    {
      "cell_type": "code",
      "execution_count": null,
      "metadata": {
        "colab": {
          "base_uri": "https://localhost:8080/"
        },
        "id": "s0ljfBE1W8ST",
        "outputId": "bc3a021b-88c8-40d0-80d2-bfddaa7f9445"
      },
      "outputs": [
        {
          "name": "stdout",
          "output_type": "stream",
          "text": [
            "(None, 120, 16)\n"
          ]
        }
      ],
      "source": [
        "num_features = 14\n",
        "steps = 120\n",
        "inputs = keras.Input(shape=(steps, num_features))\n",
        "outputs = layers.SimpleRNN(16, return_sequences=True)(inputs)\n",
        "print(outputs.shape)"
      ]
    },
    {
      "cell_type": "markdown",
      "metadata": {
        "id": "XLW_CpV2W8ST"
      },
      "source": [
        "**Stacking RNN layers**"
      ]
    },
    {
      "cell_type": "code",
      "execution_count": null,
      "metadata": {
        "id": "NdiH6HleW8ST"
      },
      "outputs": [],
      "source": [
        "inputs = keras.Input(shape=(steps, num_features))\n",
        "x = layers.SimpleRNN(16, return_sequences=True)(inputs)\n",
        "x = layers.SimpleRNN(16, return_sequences=True)(x)\n",
        "outputs = layers.SimpleRNN(16)(x)"
      ]
    },
    {
      "cell_type": "markdown",
      "metadata": {
        "id": "cChdonMZW8ST"
      },
      "source": [
        "## Advanced use of recurrent neural networks"
      ]
    },
    {
      "cell_type": "markdown",
      "metadata": {
        "id": "htnwv99PW8ST"
      },
      "source": [
        "### Using recurrent dropout to fight overfitting"
      ]
    },
    {
      "cell_type": "markdown",
      "metadata": {
        "id": "tBxnO8UeW8ST"
      },
      "source": [
        "**Training and evaluating a dropout-regularized LSTM**"
      ]
    },
    {
      "cell_type": "code",
      "execution_count": null,
      "metadata": {
        "colab": {
          "background_save": true,
          "base_uri": "https://localhost:8080/"
        },
        "id": "Joxn_q-DW8ST",
        "outputId": "a9d20caa-258b-499a-f0e5-0ab6976326ee"
      },
      "outputs": [
        {
          "name": "stderr",
          "output_type": "stream",
          "text": [
            "WARNING:tensorflow:Layer lstm_1 will not use cuDNN kernels since it doesn't meet the criteria. It will use a generic GPU kernel as fallback when running on GPU.\n"
          ]
        },
        {
          "name": "stdout",
          "output_type": "stream",
          "text": [
            "Epoch 1/50\n",
            "819/819 [==============================] - 246s 297ms/step - loss: 29.3833 - mae: 3.9908 - val_loss: 9.8078 - val_mae: 2.4187\n",
            "Epoch 2/50\n",
            "819/819 [==============================] - 243s 297ms/step - loss: 14.9251 - mae: 3.0000 - val_loss: 9.8194 - val_mae: 2.4311\n",
            "Epoch 3/50\n",
            "819/819 [==============================] - 247s 302ms/step - loss: 13.9301 - mae: 2.8960 - val_loss: 9.7635 - val_mae: 2.4227\n",
            "Epoch 4/50\n",
            "819/819 [==============================] - 248s 302ms/step - loss: 13.2608 - mae: 2.8267 - val_loss: 9.9642 - val_mae: 2.4562\n",
            "Epoch 5/50\n",
            "819/819 [==============================] - 248s 303ms/step - loss: 12.8092 - mae: 2.7795 - val_loss: 9.8472 - val_mae: 2.4442\n",
            "Epoch 6/50\n",
            "819/819 [==============================] - 243s 297ms/step - loss: 12.4742 - mae: 2.7404 - val_loss: 9.9939 - val_mae: 2.4592\n",
            "Epoch 7/50\n",
            "819/819 [==============================] - 244s 298ms/step - loss: 12.1469 - mae: 2.7047 - val_loss: 10.0195 - val_mae: 2.4630\n",
            "Epoch 8/50\n",
            "819/819 [==============================] - 244s 298ms/step - loss: 11.8238 - mae: 2.6698 - val_loss: 10.1797 - val_mae: 2.4862\n",
            "Epoch 9/50\n",
            "819/819 [==============================] - 241s 295ms/step - loss: 11.6897 - mae: 2.6551 - val_loss: 10.3628 - val_mae: 2.4976\n",
            "Epoch 10/50\n",
            "819/819 [==============================] - 243s 296ms/step - loss: 11.5068 - mae: 2.6330 - val_loss: 10.2393 - val_mae: 2.4792\n",
            "Epoch 11/50\n",
            "819/819 [==============================] - 251s 307ms/step - loss: 11.3021 - mae: 2.6066 - val_loss: 10.4758 - val_mae: 2.5003\n",
            "Epoch 12/50\n",
            "819/819 [==============================] - 267s 326ms/step - loss: 11.1407 - mae: 2.5929 - val_loss: 10.4108 - val_mae: 2.5103\n",
            "Epoch 13/50\n",
            "819/819 [==============================] - 249s 304ms/step - loss: 10.9677 - mae: 2.5718 - val_loss: 10.4834 - val_mae: 2.5120\n",
            "Epoch 14/50\n",
            "819/819 [==============================] - 244s 298ms/step - loss: 10.7359 - mae: 2.5422 - val_loss: 10.7200 - val_mae: 2.5408\n",
            "Epoch 15/50\n",
            "819/819 [==============================] - 246s 301ms/step - loss: 10.6922 - mae: 2.5374 - val_loss: 10.6627 - val_mae: 2.5330\n",
            "Epoch 16/50\n",
            "819/819 [==============================] - 248s 303ms/step - loss: 10.5148 - mae: 2.5143 - val_loss: 10.8268 - val_mae: 2.5469\n",
            "Epoch 17/50\n",
            "819/819 [==============================] - 247s 301ms/step - loss: 10.4559 - mae: 2.5086 - val_loss: 10.5520 - val_mae: 2.5140\n",
            "Epoch 18/50\n",
            "819/819 [==============================] - 247s 302ms/step - loss: 10.2775 - mae: 2.4896 - val_loss: 10.4322 - val_mae: 2.5006\n",
            "Epoch 19/50\n",
            "819/819 [==============================] - 253s 309ms/step - loss: 10.1554 - mae: 2.4713 - val_loss: 11.3020 - val_mae: 2.6199\n",
            "Epoch 20/50\n",
            "819/819 [==============================] - 246s 300ms/step - loss: 10.0705 - mae: 2.4629 - val_loss: 10.6006 - val_mae: 2.5246\n",
            "Epoch 21/50\n",
            "819/819 [==============================] - 246s 300ms/step - loss: 9.9959 - mae: 2.4508 - val_loss: 10.8558 - val_mae: 2.5606\n",
            "Epoch 22/50\n",
            "819/819 [==============================] - 245s 299ms/step - loss: 9.9310 - mae: 2.4415 - val_loss: 10.7637 - val_mae: 2.5532\n",
            "Epoch 23/50\n",
            "819/819 [==============================] - 244s 298ms/step - loss: 9.8407 - mae: 2.4285 - val_loss: 10.8209 - val_mae: 2.5547\n",
            "Epoch 24/50\n",
            "819/819 [==============================] - 245s 299ms/step - loss: 9.7379 - mae: 2.4172 - val_loss: 10.8632 - val_mae: 2.5610\n",
            "Epoch 25/50\n",
            "819/819 [==============================] - 247s 302ms/step - loss: 9.7015 - mae: 2.4090 - val_loss: 10.6836 - val_mae: 2.5341\n",
            "Epoch 26/50\n",
            "819/819 [==============================] - 251s 306ms/step - loss: 9.6382 - mae: 2.4044 - val_loss: 11.0898 - val_mae: 2.5824\n",
            "Epoch 27/50\n",
            "819/819 [==============================] - 250s 305ms/step - loss: 9.5943 - mae: 2.3979 - val_loss: 10.7167 - val_mae: 2.5320\n",
            "Epoch 28/50\n",
            "819/819 [==============================] - 247s 302ms/step - loss: 9.5175 - mae: 2.3896 - val_loss: 11.1004 - val_mae: 2.5940\n",
            "Epoch 29/50\n",
            "819/819 [==============================] - 247s 301ms/step - loss: 9.4904 - mae: 2.3864 - val_loss: 11.0429 - val_mae: 2.5821\n",
            "Epoch 30/50\n",
            "819/819 [==============================] - 248s 303ms/step - loss: 9.4177 - mae: 2.3757 - val_loss: 11.3537 - val_mae: 2.6248\n",
            "Epoch 31/50\n",
            "819/819 [==============================] - 250s 305ms/step - loss: 9.3423 - mae: 2.3670 - val_loss: 10.7964 - val_mae: 2.5503\n",
            "Epoch 32/50\n",
            "819/819 [==============================] - 251s 306ms/step - loss: 9.2814 - mae: 2.3613 - val_loss: 10.9564 - val_mae: 2.5706\n",
            "Epoch 33/50\n",
            "819/819 [==============================] - 247s 302ms/step - loss: 9.1959 - mae: 2.3507 - val_loss: 10.9187 - val_mae: 2.5772\n",
            "Epoch 34/50\n",
            "819/819 [==============================] - 247s 302ms/step - loss: 9.2060 - mae: 2.3509 - val_loss: 11.1667 - val_mae: 2.5985\n",
            "Epoch 35/50\n",
            "819/819 [==============================] - 247s 302ms/step - loss: 9.1680 - mae: 2.3468 - val_loss: 10.9776 - val_mae: 2.5640\n",
            "Epoch 36/50\n",
            "819/819 [==============================] - 249s 304ms/step - loss: 9.1414 - mae: 2.3405 - val_loss: 10.7031 - val_mae: 2.5404\n",
            "Epoch 37/50\n",
            "819/819 [==============================] - 249s 304ms/step - loss: 9.1207 - mae: 2.3363 - val_loss: 11.6492 - val_mae: 2.6466\n",
            "Epoch 38/50\n",
            "819/819 [==============================] - 249s 304ms/step - loss: 9.0234 - mae: 2.3254 - val_loss: 11.0650 - val_mae: 2.5861\n",
            "Epoch 39/50\n",
            "819/819 [==============================] - 247s 302ms/step - loss: 9.0234 - mae: 2.3293 - val_loss: 11.2686 - val_mae: 2.6145\n",
            "Epoch 40/50\n",
            "819/819 [==============================] - 248s 302ms/step - loss: 9.0177 - mae: 2.3248 - val_loss: 11.1772 - val_mae: 2.5951\n",
            "Epoch 41/50\n",
            "819/819 [==============================] - 248s 303ms/step - loss: 8.9510 - mae: 2.3184 - val_loss: 11.1117 - val_mae: 2.5878\n",
            "Epoch 42/50\n",
            "819/819 [==============================] - 247s 301ms/step - loss: 8.9117 - mae: 2.3121 - val_loss: 11.5636 - val_mae: 2.6454\n",
            "Epoch 43/50\n",
            "819/819 [==============================] - 245s 299ms/step - loss: 8.9282 - mae: 2.3122 - val_loss: 11.0817 - val_mae: 2.5861\n",
            "Epoch 44/50\n",
            "819/819 [==============================] - 246s 300ms/step - loss: 8.8942 - mae: 2.3097 - val_loss: 11.4496 - val_mae: 2.6292\n",
            "Epoch 45/50\n",
            "819/819 [==============================] - 251s 307ms/step - loss: 8.8327 - mae: 2.3006 - val_loss: 11.3819 - val_mae: 2.6405\n",
            "Epoch 46/50\n",
            "819/819 [==============================] - 248s 303ms/step - loss: 8.7638 - mae: 2.2943 - val_loss: 11.3119 - val_mae: 2.6155\n",
            "Epoch 47/50\n",
            "819/819 [==============================] - 244s 298ms/step - loss: 8.7542 - mae: 2.2929 - val_loss: 11.5030 - val_mae: 2.6311\n",
            "Epoch 48/50\n",
            "819/819 [==============================] - 246s 300ms/step - loss: 8.7361 - mae: 2.2889 - val_loss: 11.5187 - val_mae: 2.6387\n",
            "Epoch 49/50\n",
            "819/819 [==============================] - 246s 301ms/step - loss: 8.7227 - mae: 2.2858 - val_loss: 11.7553 - val_mae: 2.6616\n",
            "Epoch 50/50\n",
            "819/819 [==============================] - 245s 299ms/step - loss: 8.6780 - mae: 2.2825 - val_loss: 11.6192 - val_mae: 2.6553\n"
          ]
        }
      ],
      "source": [
        "inputs = keras.Input(shape=(sequence_length, raw_data.shape[-1]))\n",
        "x = layers.LSTM(32, recurrent_dropout=0.25)(inputs)\n",
        "x = layers.Dropout(0.5)(x)\n",
        "outputs = layers.Dense(1)(x)\n",
        "model = keras.Model(inputs, outputs)\n",
        "\n",
        "callbacks = [\n",
        "    keras.callbacks.ModelCheckpoint(\"jena_lstm_dropout.h5\",\n",
        "                                    save_best_only=True)\n",
        "]\n",
        "model.compile(optimizer=\"rmsprop\", loss=\"mse\", metrics=[\"mae\"])\n",
        "history = model.fit(train_dataset,\n",
        "                    epochs=50,\n",
        "                    validation_data=val_dataset,\n",
        "                    callbacks=callbacks)"
      ]
    },
    {
      "cell_type": "code",
      "execution_count": null,
      "metadata": {
        "colab": {
          "background_save": true,
          "base_uri": "https://localhost:8080/"
        },
        "id": "Zv0NW3r-W8SU",
        "outputId": "54f5067d-5c4d-45f6-89c2-3cb1f90a392a"
      },
      "outputs": [
        {
          "name": "stderr",
          "output_type": "stream",
          "text": [
            "WARNING:tensorflow:Layer lstm_2 will not use cuDNN kernels since it doesn't meet the criteria. It will use a generic GPU kernel as fallback when running on GPU.\n"
          ]
        }
      ],
      "source": [
        "inputs = keras.Input(shape=(sequence_length, num_features))\n",
        "x = layers.LSTM(32, recurrent_dropout=0.2, unroll=True)(inputs)"
      ]
    },
    {
      "cell_type": "markdown",
      "metadata": {
        "id": "9SQGuVVHW8SU"
      },
      "source": [
        "### Stacking recurrent layers"
      ]
    },
    {
      "cell_type": "markdown",
      "metadata": {
        "id": "f6iWx_UTW8SU"
      },
      "source": [
        "**Training and evaluating a dropout-regularized, stacked GRU model**"
      ]
    },
    {
      "cell_type": "code",
      "execution_count": null,
      "metadata": {
        "colab": {
          "background_save": true
        },
        "id": "OmNk_Ip9W8SU",
        "outputId": "0beee31d-1a67-4a52-fce3-5ae426f57071"
      },
      "outputs": [
        {
          "name": "stderr",
          "output_type": "stream",
          "text": [
            "WARNING:tensorflow:Layer gru will not use cuDNN kernels since it doesn't meet the criteria. It will use a generic GPU kernel as fallback when running on GPU.\n",
            "WARNING:tensorflow:Layer gru_1 will not use cuDNN kernels since it doesn't meet the criteria. It will use a generic GPU kernel as fallback when running on GPU.\n"
          ]
        },
        {
          "name": "stdout",
          "output_type": "stream",
          "text": [
            "Epoch 1/50\n",
            "819/819 [==============================] - 479s 580ms/step - loss: 25.9096 - mae: 3.7414 - val_loss: 9.8531 - val_mae: 2.4285\n",
            "Epoch 2/50\n",
            "819/819 [==============================] - 473s 577ms/step - loss: 13.9063 - mae: 2.8904 - val_loss: 9.4887 - val_mae: 2.3892\n",
            "Epoch 3/50\n",
            "819/819 [==============================] - 470s 573ms/step - loss: 13.1256 - mae: 2.8060 - val_loss: 9.1155 - val_mae: 2.3581\n",
            "Epoch 4/50\n",
            "819/819 [==============================] - 471s 574ms/step - loss: 12.5392 - mae: 2.7478 - val_loss: 9.5945 - val_mae: 2.4045\n",
            "Epoch 5/50\n",
            "819/819 [==============================] - 469s 573ms/step - loss: 12.0279 - mae: 2.6910 - val_loss: 9.9663 - val_mae: 2.4582\n",
            "Epoch 6/50\n",
            "819/819 [==============================] - 466s 569ms/step - loss: 11.5978 - mae: 2.6472 - val_loss: 8.8448 - val_mae: 2.3128\n",
            "Epoch 7/50\n",
            "819/819 [==============================] - 467s 570ms/step - loss: 11.1888 - mae: 2.5987 - val_loss: 9.4415 - val_mae: 2.3940\n",
            "Epoch 8/50\n",
            "819/819 [==============================] - 469s 573ms/step - loss: 10.8991 - mae: 2.5620 - val_loss: 10.0366 - val_mae: 2.4563\n",
            "Epoch 9/50\n",
            "819/819 [==============================] - 467s 570ms/step - loss: 10.5860 - mae: 2.5282 - val_loss: 9.4098 - val_mae: 2.3881\n",
            "Epoch 10/50\n",
            "819/819 [==============================] - 468s 572ms/step - loss: 10.2827 - mae: 2.4905 - val_loss: 9.6085 - val_mae: 2.4016\n",
            "Epoch 11/50\n",
            "819/819 [==============================] - 478s 583ms/step - loss: 10.0480 - mae: 2.4622 - val_loss: 9.4134 - val_mae: 2.3760\n",
            "Epoch 12/50\n",
            "819/819 [==============================] - 477s 582ms/step - loss: 9.8445 - mae: 2.4412 - val_loss: 9.5723 - val_mae: 2.4059\n",
            "Epoch 13/50\n",
            "819/819 [==============================] - 470s 574ms/step - loss: 9.6748 - mae: 2.4177 - val_loss: 10.1018 - val_mae: 2.4605\n",
            "Epoch 14/50\n",
            "819/819 [==============================] - 469s 573ms/step - loss: 9.4515 - mae: 2.3924 - val_loss: 10.0833 - val_mae: 2.4711\n",
            "Epoch 15/50\n",
            "819/819 [==============================] - 471s 575ms/step - loss: 9.2579 - mae: 2.3676 - val_loss: 10.4887 - val_mae: 2.5065\n",
            "Epoch 16/50\n",
            "819/819 [==============================] - 471s 575ms/step - loss: 9.0801 - mae: 2.3449 - val_loss: 10.3388 - val_mae: 2.5043\n",
            "Epoch 17/50\n",
            "819/819 [==============================] - 469s 573ms/step - loss: 8.9702 - mae: 2.3297 - val_loss: 10.6269 - val_mae: 2.5212\n",
            "Epoch 18/50\n",
            "819/819 [==============================] - 470s 574ms/step - loss: 8.7862 - mae: 2.3085 - val_loss: 11.2953 - val_mae: 2.5972\n",
            "Epoch 19/50\n",
            "819/819 [==============================] - 467s 570ms/step - loss: 8.6802 - mae: 2.2940 - val_loss: 10.5845 - val_mae: 2.5139\n",
            "Epoch 20/50\n",
            "819/819 [==============================] - 467s 570ms/step - loss: 8.5823 - mae: 2.2794 - val_loss: 10.6813 - val_mae: 2.5300\n",
            "Epoch 21/50\n",
            "819/819 [==============================] - 469s 573ms/step - loss: 8.4801 - mae: 2.2637 - val_loss: 11.2250 - val_mae: 2.5895\n",
            "Epoch 22/50\n",
            "819/819 [==============================] - 469s 573ms/step - loss: 8.3322 - mae: 2.2469 - val_loss: 11.1387 - val_mae: 2.5829\n",
            "Epoch 23/50\n",
            "819/819 [==============================] - 466s 569ms/step - loss: 8.2898 - mae: 2.2374 - val_loss: 11.7396 - val_mae: 2.6458\n",
            "Epoch 24/50\n",
            "819/819 [==============================] - 467s 570ms/step - loss: 8.1452 - mae: 2.2223 - val_loss: 11.6498 - val_mae: 2.6340\n",
            "Epoch 25/50\n",
            "819/819 [==============================] - 469s 572ms/step - loss: 8.0686 - mae: 2.2130 - val_loss: 11.4868 - val_mae: 2.6206\n",
            "Epoch 26/50\n",
            "819/819 [==============================] - 467s 570ms/step - loss: 8.0347 - mae: 2.2053 - val_loss: 11.5376 - val_mae: 2.6234\n",
            "Epoch 27/50\n",
            "819/819 [==============================] - 467s 570ms/step - loss: 7.9367 - mae: 2.1902 - val_loss: 11.6646 - val_mae: 2.6316\n",
            "Epoch 28/50\n",
            "819/819 [==============================] - 466s 568ms/step - loss: 7.8898 - mae: 2.1842 - val_loss: 12.1685 - val_mae: 2.6916\n",
            "Epoch 29/50\n",
            "819/819 [==============================] - 463s 565ms/step - loss: 7.8506 - mae: 2.1797 - val_loss: 11.7015 - val_mae: 2.6504\n",
            "Epoch 30/50\n",
            "819/819 [==============================] - 468s 572ms/step - loss: 7.6779 - mae: 2.1571 - val_loss: 11.6197 - val_mae: 2.6395\n",
            "Epoch 31/50\n",
            "819/819 [==============================] - 464s 566ms/step - loss: 7.6985 - mae: 2.1580 - val_loss: 11.7636 - val_mae: 2.6477\n",
            "Epoch 32/50\n",
            "819/819 [==============================] - 468s 571ms/step - loss: 7.6813 - mae: 2.1538 - val_loss: 11.9196 - val_mae: 2.6669\n",
            "Epoch 33/50\n",
            "819/819 [==============================] - 470s 574ms/step - loss: 7.6018 - mae: 2.1434 - val_loss: 11.9478 - val_mae: 2.6826\n",
            "Epoch 34/50\n",
            "819/819 [==============================] - 469s 573ms/step - loss: 7.5773 - mae: 2.1394 - val_loss: 12.0795 - val_mae: 2.7084\n",
            "Epoch 35/50\n",
            "819/819 [==============================] - 467s 570ms/step - loss: 7.5258 - mae: 2.1308 - val_loss: 11.9839 - val_mae: 2.6859\n",
            "Epoch 36/50\n",
            "819/819 [==============================] - 467s 571ms/step - loss: 7.4989 - mae: 2.1249 - val_loss: 12.5672 - val_mae: 2.7645\n",
            "Epoch 37/50\n",
            "819/819 [==============================] - 466s 568ms/step - loss: 7.4844 - mae: 2.1247 - val_loss: 12.4740 - val_mae: 2.7531\n",
            "Epoch 38/50\n",
            "819/819 [==============================] - 468s 571ms/step - loss: 7.3904 - mae: 2.1111 - val_loss: 12.6329 - val_mae: 2.7570\n",
            "Epoch 39/50\n",
            "819/819 [==============================] - 470s 573ms/step - loss: 7.3606 - mae: 2.1068 - val_loss: 12.5670 - val_mae: 2.7452\n",
            "Epoch 40/50\n",
            "819/819 [==============================] - 471s 575ms/step - loss: 7.3316 - mae: 2.1040 - val_loss: 12.4060 - val_mae: 2.7433\n",
            "Epoch 41/50\n",
            "819/819 [==============================] - 462s 565ms/step - loss: 7.2874 - mae: 2.0971 - val_loss: 13.0514 - val_mae: 2.8149\n",
            "Epoch 42/50\n",
            "819/819 [==============================] - 461s 563ms/step - loss: 7.2816 - mae: 2.0944 - val_loss: 12.3556 - val_mae: 2.7421\n",
            "Epoch 43/50\n",
            "819/819 [==============================] - 460s 562ms/step - loss: 7.2349 - mae: 2.0894 - val_loss: 12.9656 - val_mae: 2.7856\n",
            "Epoch 44/50\n",
            "819/819 [==============================] - 462s 564ms/step - loss: 7.1945 - mae: 2.0821 - val_loss: 12.2680 - val_mae: 2.7298\n",
            "Epoch 45/50\n",
            "819/819 [==============================] - 459s 560ms/step - loss: 7.1941 - mae: 2.0794 - val_loss: 12.0749 - val_mae: 2.7300\n",
            "Epoch 46/50\n",
            "819/819 [==============================] - 462s 564ms/step - loss: 7.1438 - mae: 2.0760 - val_loss: 12.9789 - val_mae: 2.8133\n",
            "Epoch 47/50\n",
            "819/819 [==============================] - 462s 564ms/step - loss: 7.1242 - mae: 2.0715 - val_loss: 12.9185 - val_mae: 2.7864\n",
            "Epoch 48/50\n",
            "819/819 [==============================] - 464s 566ms/step - loss: 7.0615 - mae: 2.0600 - val_loss: 12.4888 - val_mae: 2.7465\n",
            "Epoch 49/50\n",
            "819/819 [==============================] - 463s 565ms/step - loss: 7.0545 - mae: 2.0617 - val_loss: 13.0840 - val_mae: 2.8349\n",
            "Epoch 50/50\n",
            "819/819 [==============================] - 464s 566ms/step - loss: 7.0288 - mae: 2.0554 - val_loss: 12.6035 - val_mae: 2.7820\n"
          ]
        },
        {
          "name": "stderr",
          "output_type": "stream",
          "text": [
            "WARNING:tensorflow:Layer gru will not use cuDNN kernels since it doesn't meet the criteria. It will use a generic GPU kernel as fallback when running on GPU.\n",
            "WARNING:tensorflow:Layer gru_1 will not use cuDNN kernels since it doesn't meet the criteria. It will use a generic GPU kernel as fallback when running on GPU.\n"
          ]
        },
        {
          "name": "stdout",
          "output_type": "stream",
          "text": [
            "405/405 [==============================] - 27s 64ms/step - loss: 9.3585 - mae: 2.3913\n",
            "Test MAE: 2.39\n"
          ]
        }
      ],
      "source": [
        "inputs = keras.Input(shape=(sequence_length, raw_data.shape[-1]))\n",
        "x = layers.GRU(32, recurrent_dropout=0.5, return_sequences=True)(inputs)\n",
        "x = layers.GRU(32, recurrent_dropout=0.5)(x)\n",
        "x = layers.Dropout(0.5)(x)\n",
        "outputs = layers.Dense(1)(x)\n",
        "model = keras.Model(inputs, outputs)\n",
        "\n",
        "callbacks = [\n",
        "    keras.callbacks.ModelCheckpoint(\"jena_stacked_gru_dropout.h5\",\n",
        "                                    save_best_only=True)\n",
        "]\n",
        "model.compile(optimizer=\"rmsprop\", loss=\"mse\", metrics=[\"mae\"])\n",
        "history = model.fit(train_dataset,\n",
        "                    epochs=50,\n",
        "                    validation_data=val_dataset,\n",
        "                    callbacks=callbacks)\n",
        "model = keras.models.load_model(\"jena_stacked_gru_dropout.h5\")\n",
        "print(f\"Test MAE: {model.evaluate(test_dataset)[1]:.2f}\")"
      ]
    },
    {
      "cell_type": "markdown",
      "metadata": {
        "id": "9IDZQ6MsW8SU"
      },
      "source": [
        "### Using bidirectional RNNs"
      ]
    },
    {
      "cell_type": "markdown",
      "metadata": {
        "id": "-0cSw3suW8SV"
      },
      "source": [
        "**Training and evaluating a bidirectional LSTM**"
      ]
    },
    {
      "cell_type": "code",
      "execution_count": null,
      "metadata": {
        "colab": {
          "background_save": true
        },
        "id": "rOLe240hW8SV",
        "outputId": "4f0e61ed-d02c-4a02-9648-f841471a2bc1"
      },
      "outputs": [
        {
          "name": "stdout",
          "output_type": "stream",
          "text": [
            "Epoch 1/10\n",
            "819/819 [==============================] - 18s 19ms/step - loss: 27.1554 - mae: 3.7344 - val_loss: 10.4982 - val_mae: 2.5041\n",
            "Epoch 2/10\n",
            "819/819 [==============================] - 15s 18ms/step - loss: 9.4946 - mae: 2.4110 - val_loss: 9.6690 - val_mae: 2.4053\n",
            "Epoch 3/10\n",
            "819/819 [==============================] - 15s 18ms/step - loss: 8.6861 - mae: 2.2956 - val_loss: 9.3495 - val_mae: 2.3661\n",
            "Epoch 4/10\n",
            "819/819 [==============================] - 15s 18ms/step - loss: 8.1809 - mae: 2.2263 - val_loss: 9.8588 - val_mae: 2.4320\n",
            "Epoch 5/10\n",
            "819/819 [==============================] - 15s 18ms/step - loss: 7.8073 - mae: 2.1755 - val_loss: 9.5247 - val_mae: 2.3881\n",
            "Epoch 6/10\n",
            "819/819 [==============================] - 14s 18ms/step - loss: 7.4278 - mae: 2.1212 - val_loss: 9.5766 - val_mae: 2.3818\n",
            "Epoch 7/10\n",
            "819/819 [==============================] - 15s 18ms/step - loss: 7.1817 - mae: 2.0888 - val_loss: 9.8783 - val_mae: 2.4390\n",
            "Epoch 8/10\n",
            "819/819 [==============================] - 15s 18ms/step - loss: 6.9221 - mae: 2.0527 - val_loss: 9.8343 - val_mae: 2.4168\n",
            "Epoch 9/10\n",
            "819/819 [==============================] - 15s 18ms/step - loss: 6.7401 - mae: 2.0257 - val_loss: 10.0985 - val_mae: 2.4512\n",
            "Epoch 10/10\n",
            "819/819 [==============================] - 15s 18ms/step - loss: 6.5507 - mae: 1.9972 - val_loss: 10.2737 - val_mae: 2.4852\n"
          ]
        }
      ],
      "source": [
        "inputs = keras.Input(shape=(sequence_length, raw_data.shape[-1]))\n",
        "x = layers.Bidirectional(layers.LSTM(16))(inputs)\n",
        "outputs = layers.Dense(1)(x)\n",
        "model = keras.Model(inputs, outputs)\n",
        "\n",
        "model.compile(optimizer=\"rmsprop\", loss=\"mse\", metrics=[\"mae\"])\n",
        "history = model.fit(train_dataset,\n",
        "                    epochs=10,\n",
        "                    validation_data=val_dataset)"
      ]
    },
    {
      "cell_type": "markdown",
      "metadata": {
        "id": "8XdQ4L1rW8SV"
      },
      "source": [
        "### Going even further"
      ]
    },
    {
      "cell_type": "markdown",
      "metadata": {
        "id": "paNkHohuW8SV"
      },
      "source": [
        "## Summary"
      ]
    }
  ],
  "metadata": {
    "accelerator": "GPU",
    "colab": {
      "machine_shape": "hm",
      "provenance": []
    },
    "kernelspec": {
      "display_name": "Python 3",
      "name": "python3"
    },
    "language_info": {
      "codemirror_mode": {
        "name": "ipython",
        "version": 3
      },
      "file_extension": ".py",
      "mimetype": "text/x-python",
      "name": "python",
      "nbconvert_exporter": "python",
      "pygments_lexer": "ipython3",
      "version": "3.7.0"
    }
  },
  "nbformat": 4,
  "nbformat_minor": 0
}