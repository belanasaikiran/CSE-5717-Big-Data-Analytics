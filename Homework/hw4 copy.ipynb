{
  "nbformat": 4,
  "nbformat_minor": 0,
  "metadata": {
    "kernelspec": {
      "display_name": "Python 3",
      "language": "python",
      "name": "python3"
    },
    "language_info": {
      "codemirror_mode": {
        "name": "ipython",
        "version": 3
      },
      "file_extension": ".py",
      "mimetype": "text/x-python",
      "name": "python",
      "nbconvert_exporter": "python",
      "pygments_lexer": "ipython3",
      "version": "3.6.1"
    },
    "colab": {
      "provenance": [],
      "machine_shape": "hm"
    },
    "accelerator": "GPU"
  },
  "cells": [
    {
      "cell_type": "markdown",
      "metadata": {
        "id": "fcM2-IAEr9r_"
      },
      "source": [
        "Fashion-MNIST is a dataset of Zalando's article images—consisting of a training set of 60,000 examples and a test set of 10,000 examples. Each example is a 28x28 grayscale image, associated with a label from 10 classes.  "
      ]
    },
    {
      "cell_type": "markdown",
      "metadata": {
        "id": "_fo1BKg2sATz"
      },
      "source": [
        "In this assignment, we\n",
        "- build a MLP classifier for the Fashion-MNIST dataset.\n",
        "- use PCA to reduce the dimensionality of the dataset, and make sure we preserve 95% of the explained variance. (20 points)\n",
        "- train a classifier using the dimensionality reduced dataset with the same network toplogy as the previous classfier,  and compare the classification accuracy result with the one using the original dataset. (10 points)\n",
        "- check whether we observe anything surprising. (10 points)\n",
        "- follow and improve the example from the text to fine tune the neural network hyperparameters using RandomizedSearchCV. Note to use the dataset after the PCA step. This will make the search less time consuming. (40 points)\n",
        "- report the test result using the best model obtained from the randomized search. Show the summary of the model. Compare this result with the previous results. (20 points)"
      ]
    },
    {
      "cell_type": "code",
      "metadata": {
        "collapsed": true,
        "id": "mgaxd3XPmqtj"
      },
      "source": [
        "import numpy as np\n",
        "import os\n",
        "\n",
        "# To plot pretty figures\n",
        "%matplotlib inline\n",
        "import matplotlib\n",
        "import matplotlib.pyplot as plt\n",
        "plt.rcParams['axes.labelsize'] = 14\n",
        "plt.rcParams['xtick.labelsize'] = 12\n",
        "plt.rcParams['ytick.labelsize'] = 12"
      ],
      "execution_count": null,
      "outputs": []
    },
    {
      "cell_type": "markdown",
      "metadata": {
        "id": "D2pPMy5tshtB"
      },
      "source": [
        "Read the data."
      ]
    },
    {
      "cell_type": "code",
      "metadata": {
        "collapsed": true,
        "id": "xbgSB7d9mqtl"
      },
      "source": [
        "import tensorflow as tf\n",
        "fashion_mnist = tf.keras.datasets.fashion_mnist\n",
        "(X_train_full, y_train_full), (X_test, y_test) = fashion_mnist.load_data()"
      ],
      "execution_count": null,
      "outputs": []
    },
    {
      "cell_type": "markdown",
      "metadata": {
        "id": "YCt6FpnysoUu"
      },
      "source": [
        "Set random seeds."
      ]
    },
    {
      "cell_type": "code",
      "metadata": {
        "id": "a2jLrBUs6Kda"
      },
      "source": [
        "np.random.seed(42)\n",
        "tf.random.set_seed(42)"
      ],
      "execution_count": null,
      "outputs": []
    },
    {
      "cell_type": "code",
      "metadata": {
        "id": "m1eEiOeUmqtl"
      },
      "source": [
        "from keras import models\n",
        "from keras import layers\n",
        "\n",
        "network = models.Sequential()\n",
        "network.add(layers.Dense(64, activation='relu', input_shape=(28 * 28,)))\n",
        "network.add(layers.Dense(10, activation='softmax'))"
      ],
      "execution_count": null,
      "outputs": []
    },
    {
      "cell_type": "code",
      "metadata": {
        "collapsed": true,
        "id": "DmTFk8lNmqtl"
      },
      "source": [
        "network.compile(optimizer='rmsprop',\n",
        "                loss='categorical_crossentropy',\n",
        "                metrics=['accuracy'])"
      ],
      "execution_count": null,
      "outputs": []
    },
    {
      "cell_type": "code",
      "metadata": {
        "collapsed": true,
        "id": "fgGewtAHmqtl"
      },
      "source": [
        "X_train_full = X_train_full.reshape((60000, 28 * 28))\n",
        "X_train_full = X_train_full.astype('float32') / 255\n",
        "\n",
        "X_test = X_test.reshape((10000, 28 * 28))\n",
        "X_test = X_test.astype('float32') / 255"
      ],
      "execution_count": null,
      "outputs": []
    },
    {
      "cell_type": "code",
      "metadata": {
        "collapsed": true,
        "id": "cvMjBoR_mqtm"
      },
      "source": [
        "from tensorflow.keras.utils import to_categorical\n",
        "\n",
        "y_train_full = to_categorical(y_train_full)\n",
        "y_test = to_categorical(y_test)"
      ],
      "execution_count": null,
      "outputs": []
    },
    {
      "cell_type": "code",
      "metadata": {
        "id": "Rc0oAXPt7iO7"
      },
      "source": [
        "X_valid = X_train_full[:5000]\n",
        "y_valid = y_train_full[:5000]\n",
        "X_train = X_train_full[5000:]\n",
        "y_train = y_train_full[5000:]"
      ],
      "execution_count": null,
      "outputs": []
    },
    {
      "cell_type": "code",
      "metadata": {
        "colab": {
          "base_uri": "https://localhost:8080/"
        },
        "id": "V3qWRp4Mmqtm",
        "outputId": "75f8d978-8479-4ba8-e897-b1e373e4a90e"
      },
      "source": [
        "network.fit(X_train, y_train, validation_data=(X_valid, y_valid), epochs=20, batch_size=128)"
      ],
      "execution_count": null,
      "outputs": [
        {
          "output_type": "stream",
          "name": "stdout",
          "text": [
            "Epoch 1/20\n",
            "430/430 [==============================] - 3s 4ms/step - loss: 0.6281 - accuracy: 0.7837 - val_loss: 0.4608 - val_accuracy: 0.8486\n",
            "Epoch 2/20\n",
            "430/430 [==============================] - 1s 3ms/step - loss: 0.4503 - accuracy: 0.8411 - val_loss: 0.3981 - val_accuracy: 0.8604\n",
            "Epoch 3/20\n",
            "430/430 [==============================] - 1s 3ms/step - loss: 0.4038 - accuracy: 0.8543 - val_loss: 0.4080 - val_accuracy: 0.8468\n",
            "Epoch 4/20\n",
            "430/430 [==============================] - 1s 3ms/step - loss: 0.3724 - accuracy: 0.8664 - val_loss: 0.3702 - val_accuracy: 0.8654\n",
            "Epoch 5/20\n",
            "430/430 [==============================] - 1s 3ms/step - loss: 0.3532 - accuracy: 0.8722 - val_loss: 0.3477 - val_accuracy: 0.8768\n",
            "Epoch 6/20\n",
            "430/430 [==============================] - 1s 3ms/step - loss: 0.3351 - accuracy: 0.8784 - val_loss: 0.3380 - val_accuracy: 0.8812\n",
            "Epoch 7/20\n",
            "430/430 [==============================] - 1s 3ms/step - loss: 0.3226 - accuracy: 0.8828 - val_loss: 0.3458 - val_accuracy: 0.8788\n",
            "Epoch 8/20\n",
            "430/430 [==============================] - 1s 3ms/step - loss: 0.3115 - accuracy: 0.8867 - val_loss: 0.3513 - val_accuracy: 0.8752\n",
            "Epoch 9/20\n",
            "430/430 [==============================] - 1s 3ms/step - loss: 0.3014 - accuracy: 0.8892 - val_loss: 0.3496 - val_accuracy: 0.8708\n",
            "Epoch 10/20\n",
            "430/430 [==============================] - 1s 3ms/step - loss: 0.2927 - accuracy: 0.8943 - val_loss: 0.3198 - val_accuracy: 0.8882\n",
            "Epoch 11/20\n",
            "430/430 [==============================] - 1s 3ms/step - loss: 0.2858 - accuracy: 0.8962 - val_loss: 0.3301 - val_accuracy: 0.8806\n",
            "Epoch 12/20\n",
            "430/430 [==============================] - 1s 3ms/step - loss: 0.2786 - accuracy: 0.8976 - val_loss: 0.3294 - val_accuracy: 0.8826\n",
            "Epoch 13/20\n",
            "430/430 [==============================] - 1s 3ms/step - loss: 0.2729 - accuracy: 0.9000 - val_loss: 0.3225 - val_accuracy: 0.8866\n",
            "Epoch 14/20\n",
            "430/430 [==============================] - 1s 3ms/step - loss: 0.2680 - accuracy: 0.9019 - val_loss: 0.3442 - val_accuracy: 0.8804\n",
            "Epoch 15/20\n",
            "430/430 [==============================] - 1s 3ms/step - loss: 0.2608 - accuracy: 0.9038 - val_loss: 0.3221 - val_accuracy: 0.8822\n",
            "Epoch 16/20\n",
            "430/430 [==============================] - 1s 3ms/step - loss: 0.2562 - accuracy: 0.9063 - val_loss: 0.3348 - val_accuracy: 0.8776\n",
            "Epoch 17/20\n",
            "430/430 [==============================] - 1s 3ms/step - loss: 0.2521 - accuracy: 0.9071 - val_loss: 0.3646 - val_accuracy: 0.8750\n",
            "Epoch 18/20\n",
            "430/430 [==============================] - 1s 3ms/step - loss: 0.2472 - accuracy: 0.9086 - val_loss: 0.3182 - val_accuracy: 0.8900\n",
            "Epoch 19/20\n",
            "430/430 [==============================] - 1s 3ms/step - loss: 0.2424 - accuracy: 0.9111 - val_loss: 0.3099 - val_accuracy: 0.8906\n",
            "Epoch 20/20\n",
            "430/430 [==============================] - 1s 3ms/step - loss: 0.2381 - accuracy: 0.9127 - val_loss: 0.3511 - val_accuracy: 0.8782\n"
          ]
        },
        {
          "output_type": "execute_result",
          "data": {
            "text/plain": [
              "<keras.src.callbacks.History at 0x7f687e1723e0>"
            ]
          },
          "metadata": {},
          "execution_count": 9
        }
      ]
    },
    {
      "cell_type": "code",
      "metadata": {
        "colab": {
          "base_uri": "https://localhost:8080/"
        },
        "id": "5Xx6qeAkmqtn",
        "outputId": "80b9c227-caa1-4ec7-d295-6bc82aa76a3b"
      },
      "source": [
        "test_loss, test_acc = network.evaluate(X_test, y_test)"
      ],
      "execution_count": null,
      "outputs": [
        {
          "output_type": "stream",
          "name": "stdout",
          "text": [
            "313/313 [==============================] - 1s 2ms/step - loss: 0.3887 - accuracy: 0.8638\n"
          ]
        }
      ]
    },
    {
      "cell_type": "code",
      "metadata": {
        "colab": {
          "base_uri": "https://localhost:8080/"
        },
        "id": "PMXsDkLAmqtn",
        "outputId": "a17a4410-89f7-4957-a2de-76d592b8f822"
      },
      "source": [
        "print('test_acc:', test_acc)"
      ],
      "execution_count": null,
      "outputs": [
        {
          "output_type": "stream",
          "name": "stdout",
          "text": [
            "test_acc: 0.8637999892234802\n"
          ]
        }
      ]
    },
    {
      "cell_type": "markdown",
      "metadata": {
        "id": "asbC4U1Es0tW"
      },
      "source": [
        "Now we read the data again."
      ]
    },
    {
      "cell_type": "code",
      "metadata": {
        "id": "2a3Kfc8Cncm5"
      },
      "source": [
        "import tensorflow as tf\n",
        "fashion_mnist = tf.keras.datasets.fashion_mnist\n",
        "(X_train_full, y_train_full), (X_test, y_test) = fashion_mnist.load_data()"
      ],
      "execution_count": null,
      "outputs": []
    },
    {
      "cell_type": "markdown",
      "metadata": {
        "id": "iuCvwFnOs6gy"
      },
      "source": [
        "Use the same random seeds."
      ]
    },
    {
      "cell_type": "code",
      "metadata": {
        "id": "ARt6ZZiT6Tw9"
      },
      "source": [
        "np.random.seed(42)\n",
        "tf.random.set_seed(42)"
      ],
      "execution_count": null,
      "outputs": []
    },
    {
      "cell_type": "code",
      "metadata": {
        "colab": {
          "base_uri": "https://localhost:8080/"
        },
        "id": "6LonsKjvnx-x",
        "outputId": "14515659-6896-4401-c41f-8e0ef222746e"
      },
      "source": [
        "X_train_full.shape"
      ],
      "execution_count": null,
      "outputs": [
        {
          "output_type": "execute_result",
          "data": {
            "text/plain": [
              "(60000, 28, 28)"
            ]
          },
          "metadata": {},
          "execution_count": 14
        }
      ]
    },
    {
      "cell_type": "code",
      "metadata": {
        "colab": {
          "base_uri": "https://localhost:8080/"
        },
        "id": "IXI_ZIUCodOL",
        "outputId": "25f56721-362b-4b5d-f599-07baee2c7f21"
      },
      "source": [
        "X_test.shape"
      ],
      "execution_count": null,
      "outputs": [
        {
          "output_type": "execute_result",
          "data": {
            "text/plain": [
              "(10000, 28, 28)"
            ]
          },
          "metadata": {},
          "execution_count": 15
        }
      ]
    },
    {
      "cell_type": "code",
      "metadata": {
        "id": "3DH2Xy3uoQEj"
      },
      "source": [
        "X_train_full = X_train_full.reshape((60000,28*28))\n",
        "X_test = X_test.reshape((10000,28*28))"
      ],
      "execution_count": null,
      "outputs": []
    },
    {
      "cell_type": "markdown",
      "metadata": {
        "id": "X8riTC7Yv0PR"
      },
      "source": [
        "Conduct fit and transform on X_train_full using PCA. (10 points)"
      ]
    },
    {
      "cell_type": "code",
      "metadata": {
        "collapsed": true,
        "id": "B-2DKELQmqto"
      },
      "source": [
        "from sklearn.decomposition import PCA\n",
        "\n",
        "# fill in code here\n",
        "pca =\n",
        "X_train_reduced_full ="
      ],
      "execution_count": null,
      "outputs": []
    },
    {
      "cell_type": "markdown",
      "metadata": {
        "id": "tw8GbuuTvh0r"
      },
      "source": [
        "Transform X_test using the PCA. (10 points)"
      ]
    },
    {
      "cell_type": "code",
      "metadata": {
        "collapsed": true,
        "id": "aUYibIgDmqto"
      },
      "source": [
        "# fill in code here\n",
        "X_test_reduced ="
      ],
      "execution_count": null,
      "outputs": []
    },
    {
      "cell_type": "markdown",
      "metadata": {
        "id": "fDFMmVY3M6a7"
      },
      "source": [
        "Fill in the input_shape in the following code. (10 points)"
      ]
    },
    {
      "cell_type": "code",
      "metadata": {
        "collapsed": true,
        "id": "abVjqR_5mqto"
      },
      "source": [
        "from keras import models\n",
        "from keras import layers\n",
        "\n",
        "network = models.Sequential()\n",
        "# fill in code\n",
        "network.add(layers.Dense(64, activation='relu', input_shape=( ,)))\n",
        "network.add(layers.Dense(10, activation='softmax'))"
      ],
      "execution_count": null,
      "outputs": []
    },
    {
      "cell_type": "code",
      "metadata": {
        "collapsed": true,
        "id": "SaFZmy5Vmqto"
      },
      "source": [
        "network.compile(optimizer='rmsprop',\n",
        "                loss='categorical_crossentropy',\n",
        "                metrics=['accuracy'])"
      ],
      "execution_count": null,
      "outputs": []
    },
    {
      "cell_type": "code",
      "metadata": {
        "id": "0sX_aDf_mqtp"
      },
      "source": [
        "X_train_reduced_full = X_train_reduced_full.astype('float32') / 255\n",
        "X_test_reduced = X_test_reduced.astype('float32') / 255"
      ],
      "execution_count": null,
      "outputs": []
    },
    {
      "cell_type": "code",
      "metadata": {
        "collapsed": true,
        "id": "SOxIi7Wjmqtp"
      },
      "source": [
        "from tensorflow.keras.utils import to_categorical\n",
        "\n",
        "y_train_full = to_categorical(y_train_full)\n",
        "y_test = to_categorical(y_test)"
      ],
      "execution_count": null,
      "outputs": []
    },
    {
      "cell_type": "code",
      "metadata": {
        "id": "LEQbiIEa8lbk"
      },
      "source": [
        "X_valid_reduced = X_train_reduced_full[:5000]\n",
        "y_valid = y_train_full[:5000]\n",
        "X_train_reduced = X_train_reduced_full[5000:]\n",
        "y_train = y_train_full[5000:]"
      ],
      "execution_count": null,
      "outputs": []
    },
    {
      "cell_type": "code",
      "metadata": {
        "colab": {
          "base_uri": "https://localhost:8080/"
        },
        "id": "1BcB3YHumqtp",
        "outputId": "96ceb813-d5b1-4e33-dace-3236bcbc1711"
      },
      "source": [
        "network.fit(X_train_reduced, y_train, validation_data=(X_valid_reduced, y_valid), epochs=20, batch_size=128)"
      ],
      "execution_count": null,
      "outputs": [
        {
          "output_type": "stream",
          "name": "stdout",
          "text": [
            "Epoch 1/20\n",
            "430/430 [==============================] - 2s 3ms/step - loss: 0.6798 - accuracy: 0.7820 - val_loss: 0.4083 - val_accuracy: 0.8570\n",
            "Epoch 2/20\n",
            "430/430 [==============================] - 1s 3ms/step - loss: 0.3858 - accuracy: 0.8627 - val_loss: 0.3653 - val_accuracy: 0.8748\n",
            "Epoch 3/20\n",
            "430/430 [==============================] - 1s 3ms/step - loss: 0.3493 - accuracy: 0.8747 - val_loss: 0.3492 - val_accuracy: 0.8778\n",
            "Epoch 4/20\n",
            "430/430 [==============================] - 1s 3ms/step - loss: 0.3259 - accuracy: 0.8828 - val_loss: 0.3336 - val_accuracy: 0.8808\n",
            "Epoch 5/20\n",
            "430/430 [==============================] - 1s 3ms/step - loss: 0.3088 - accuracy: 0.8889 - val_loss: 0.3257 - val_accuracy: 0.8830\n",
            "Epoch 6/20\n",
            "430/430 [==============================] - 1s 3ms/step - loss: 0.2944 - accuracy: 0.8935 - val_loss: 0.3199 - val_accuracy: 0.8884\n",
            "Epoch 7/20\n",
            "430/430 [==============================] - 1s 3ms/step - loss: 0.2825 - accuracy: 0.8986 - val_loss: 0.3131 - val_accuracy: 0.8856\n",
            "Epoch 8/20\n",
            "430/430 [==============================] - 1s 3ms/step - loss: 0.2720 - accuracy: 0.9023 - val_loss: 0.3107 - val_accuracy: 0.8900\n",
            "Epoch 9/20\n",
            "430/430 [==============================] - 1s 3ms/step - loss: 0.2626 - accuracy: 0.9052 - val_loss: 0.3052 - val_accuracy: 0.8922\n",
            "Epoch 10/20\n",
            "430/430 [==============================] - 1s 3ms/step - loss: 0.2545 - accuracy: 0.9079 - val_loss: 0.3044 - val_accuracy: 0.8916\n",
            "Epoch 11/20\n",
            "430/430 [==============================] - 1s 3ms/step - loss: 0.2474 - accuracy: 0.9109 - val_loss: 0.3049 - val_accuracy: 0.8898\n",
            "Epoch 12/20\n",
            "430/430 [==============================] - 1s 3ms/step - loss: 0.2406 - accuracy: 0.9146 - val_loss: 0.3069 - val_accuracy: 0.8898\n",
            "Epoch 13/20\n",
            "430/430 [==============================] - 1s 3ms/step - loss: 0.2340 - accuracy: 0.9163 - val_loss: 0.3011 - val_accuracy: 0.8932\n",
            "Epoch 14/20\n",
            "430/430 [==============================] - 1s 3ms/step - loss: 0.2284 - accuracy: 0.9182 - val_loss: 0.3047 - val_accuracy: 0.8894\n",
            "Epoch 15/20\n",
            "430/430 [==============================] - 1s 3ms/step - loss: 0.2225 - accuracy: 0.9213 - val_loss: 0.3047 - val_accuracy: 0.8926\n",
            "Epoch 16/20\n",
            "430/430 [==============================] - 1s 3ms/step - loss: 0.2173 - accuracy: 0.9228 - val_loss: 0.3041 - val_accuracy: 0.8938\n",
            "Epoch 17/20\n",
            "430/430 [==============================] - 1s 3ms/step - loss: 0.2128 - accuracy: 0.9251 - val_loss: 0.3068 - val_accuracy: 0.8914\n",
            "Epoch 18/20\n",
            "430/430 [==============================] - 1s 3ms/step - loss: 0.2078 - accuracy: 0.9271 - val_loss: 0.3067 - val_accuracy: 0.8938\n",
            "Epoch 19/20\n",
            "430/430 [==============================] - 1s 3ms/step - loss: 0.2039 - accuracy: 0.9270 - val_loss: 0.3123 - val_accuracy: 0.8906\n",
            "Epoch 20/20\n",
            "430/430 [==============================] - 1s 3ms/step - loss: 0.1999 - accuracy: 0.9293 - val_loss: 0.3112 - val_accuracy: 0.8910\n"
          ]
        },
        {
          "output_type": "execute_result",
          "data": {
            "text/plain": [
              "<keras.src.callbacks.History at 0x7f68381fc2e0>"
            ]
          },
          "metadata": {},
          "execution_count": 24
        }
      ]
    },
    {
      "cell_type": "code",
      "metadata": {
        "colab": {
          "base_uri": "https://localhost:8080/"
        },
        "id": "QMcfshelmqtp",
        "outputId": "76ca3790-1472-4ad9-aece-598ae7dba2ab"
      },
      "source": [
        "test_loss, test_acc = network.evaluate(X_test_reduced, y_test)"
      ],
      "execution_count": null,
      "outputs": [
        {
          "output_type": "stream",
          "name": "stdout",
          "text": [
            "313/313 [==============================] - 1s 2ms/step - loss: 0.3437 - accuracy: 0.8820\n"
          ]
        }
      ]
    },
    {
      "cell_type": "code",
      "metadata": {
        "colab": {
          "base_uri": "https://localhost:8080/"
        },
        "id": "3kwXfRybmqtq",
        "outputId": "b497912d-e350-4001-9256-092ca5cad95d"
      },
      "source": [
        "print('test_acc:', test_acc)"
      ],
      "execution_count": null,
      "outputs": [
        {
          "output_type": "stream",
          "name": "stdout",
          "text": [
            "test_acc: 0.8820000290870667\n"
          ]
        }
      ]
    },
    {
      "cell_type": "markdown",
      "metadata": {
        "id": "JX1W40sqxtyQ"
      },
      "source": [
        "Compare these two accuracy results and check whether we see anything surprising. (10 points)"
      ]
    },
    {
      "cell_type": "markdown",
      "metadata": {
        "id": "lQvDuRZjO9U9"
      },
      "source": [
        "The accuracy result ..."
      ]
    },
    {
      "cell_type": "code",
      "metadata": {
        "collapsed": true,
        "id": "gqozYABsmqtr"
      },
      "source": [
        "np.random.seed(42)\n",
        "tf.random.set_seed(42)"
      ],
      "execution_count": null,
      "outputs": []
    },
    {
      "cell_type": "markdown",
      "metadata": {
        "id": "q7NB3DDvx4MU"
      },
      "source": [
        "Modify the code provided by this module and use RandomizedSearchCV to find a model that beats the previous accuracy results. (40 points)\n",
        "\n",
        "Hint: you can speed up the search by using n_jobs = 1 in RandomizedSearchCV."
      ]
    },
    {
      "cell_type": "code",
      "metadata": {
        "id": "IT5qWXkIwNMN"
      },
      "source": [
        "X_valid = X_train_reduced[:5000]\n",
        "y_valid = y_train[:5000]\n",
        "X_train = X_train_reduced[5000:]\n",
        "y_train = y_train[5000:]"
      ],
      "execution_count": null,
      "outputs": []
    },
    {
      "cell_type": "code",
      "metadata": {
        "colab": {
          "base_uri": "https://localhost:8080/"
        },
        "id": "QRnCFKoTxITO",
        "outputId": "2ecaae37-29d7-4229-d457-854117f29e93"
      },
      "source": [
        "X_train.shape, X_valid.shape"
      ],
      "execution_count": null,
      "outputs": [
        {
          "output_type": "execute_result",
          "data": {
            "text/plain": [
              "((50000, 187), (5000, 187))"
            ]
          },
          "metadata": {},
          "execution_count": 29
        }
      ]
    },
    {
      "cell_type": "code",
      "metadata": {
        "colab": {
          "base_uri": "https://localhost:8080/"
        },
        "id": "CorEcQzHze43",
        "outputId": "886dcd52-a780-4f66-a09f-35ebed6eab22"
      },
      "source": [
        "y_train.shape, y_valid.shape, y_test.shape"
      ],
      "execution_count": null,
      "outputs": [
        {
          "output_type": "execute_result",
          "data": {
            "text/plain": [
              "((50000, 10), (5000, 10), (10000, 10))"
            ]
          },
          "metadata": {},
          "execution_count": 30
        }
      ]
    },
    {
      "cell_type": "code",
      "metadata": {
        "id": "A-XCsmv4w6Xj"
      },
      "source": [
        "from tensorflow import keras\n",
        "\n",
        "keras.backend.clear_session()\n",
        "np.random.seed(42)\n",
        "tf.random.set_seed(42)"
      ],
      "execution_count": null,
      "outputs": []
    },
    {
      "cell_type": "code",
      "metadata": {
        "id": "ywo4XqUaw_s_"
      },
      "source": [
        "def build_model(n_hidden=1, n_neurons=128, learning_rate=3e-3, input_shape=(X_train_reduced.shape[1],)):\n",
        "    model = keras.models.Sequential()\n",
        "    model.add(keras.layers.InputLayer(input_shape=input_shape))\n",
        "    for layer in range(n_hidden):\n",
        "        # fill in code\n",
        "        model.add(keras.layers.Dense(n_neurons, activation=\"\"))\n",
        "    # fill in code\n",
        "    model.add(layers.Dense(10, activation=''))\n",
        "    optimizer = keras.optimizers.SGD(learning_rate=learning_rate)\n",
        "    model.compile(optimizer='rmsprop',\n",
        "                  # fill in code\n",
        "                loss=' ',\n",
        "                metrics=['accuracy'])\n",
        "\n",
        "    return model"
      ],
      "execution_count": null,
      "outputs": []
    },
    {
      "cell_type": "code",
      "source": [
        "from tensorflow import keras\n",
        "from sklearn.base import BaseEstimator, RegressorMixin\n",
        "\n",
        "# Modify the KerasRegressorWrapper class to accept hyperparameters\n",
        "class KerasRegressorWrapper(BaseEstimator, RegressorMixin):\n",
        "    def __init__(self, n_hidden=1, n_neurons=200, learning_rate=1e-3):\n",
        "        self.n_hidden = n_hidden\n",
        "        self.n_neurons = n_neurons\n",
        "        self.learning_rate = learning_rate\n",
        "\n",
        "    def fit(self, X, y, **kwargs):\n",
        "        self.model = build_model(self.n_hidden, self.n_neurons, self.learning_rate)\n",
        "        self.model.fit(X, y, **kwargs)\n",
        "        return self\n",
        "\n",
        "    def predict(self, X):\n",
        "        return self.model.predict(X)\n",
        "\n",
        "# Create an instance of the KerasRegressorWrapper\n",
        "keras_reg = KerasRegressorWrapper()\n"
      ],
      "metadata": {
        "id": "A-zC5-boW5gT"
      },
      "execution_count": null,
      "outputs": []
    },
    {
      "cell_type": "code",
      "metadata": {
        "colab": {
          "base_uri": "https://localhost:8080/",
          "height": 610
        },
        "id": "1UhjO3znyDmj",
        "outputId": "b77009c5-c013-4b6a-e4c6-f9261a27aef5"
      },
      "source": [
        "keras_reg.fit(X_train, y_train, epochs=100,\n",
        "              # fill in code\n",
        "              validation_data=( , ),\n",
        "              callbacks=[keras.callbacks.EarlyStopping(patience=10)])"
      ],
      "execution_count": null,
      "outputs": [
        {
          "output_type": "stream",
          "name": "stdout",
          "text": [
            "Epoch 1/100\n",
            "1563/1563 [==============================] - 5s 3ms/step - loss: 0.4495 - accuracy: 0.8459 - val_loss: 0.3604 - val_accuracy: 0.8718\n",
            "Epoch 2/100\n",
            "1563/1563 [==============================] - 4s 3ms/step - loss: 0.3128 - accuracy: 0.8884 - val_loss: 0.3186 - val_accuracy: 0.8870\n",
            "Epoch 3/100\n",
            "1563/1563 [==============================] - 4s 3ms/step - loss: 0.2705 - accuracy: 0.9026 - val_loss: 0.3138 - val_accuracy: 0.8902\n",
            "Epoch 4/100\n",
            "1563/1563 [==============================] - 4s 3ms/step - loss: 0.2407 - accuracy: 0.9143 - val_loss: 0.3109 - val_accuracy: 0.8918\n",
            "Epoch 5/100\n",
            "1563/1563 [==============================] - 4s 3ms/step - loss: 0.2165 - accuracy: 0.9230 - val_loss: 0.3058 - val_accuracy: 0.8962\n",
            "Epoch 6/100\n",
            "1563/1563 [==============================] - 4s 3ms/step - loss: 0.1959 - accuracy: 0.9304 - val_loss: 0.3103 - val_accuracy: 0.8938\n",
            "Epoch 7/100\n",
            "1563/1563 [==============================] - 4s 2ms/step - loss: 0.1784 - accuracy: 0.9367 - val_loss: 0.3170 - val_accuracy: 0.8950\n",
            "Epoch 8/100\n",
            "1563/1563 [==============================] - 4s 3ms/step - loss: 0.1626 - accuracy: 0.9421 - val_loss: 0.3180 - val_accuracy: 0.8980\n",
            "Epoch 9/100\n",
            "1563/1563 [==============================] - 4s 3ms/step - loss: 0.1476 - accuracy: 0.9487 - val_loss: 0.3371 - val_accuracy: 0.8938\n",
            "Epoch 10/100\n",
            "1563/1563 [==============================] - 4s 3ms/step - loss: 0.1348 - accuracy: 0.9532 - val_loss: 0.3386 - val_accuracy: 0.8958\n",
            "Epoch 11/100\n",
            "1563/1563 [==============================] - 4s 3ms/step - loss: 0.1229 - accuracy: 0.9586 - val_loss: 0.3560 - val_accuracy: 0.8926\n",
            "Epoch 12/100\n",
            "1563/1563 [==============================] - 4s 3ms/step - loss: 0.1125 - accuracy: 0.9621 - val_loss: 0.3627 - val_accuracy: 0.8904\n",
            "Epoch 13/100\n",
            "1563/1563 [==============================] - 4s 3ms/step - loss: 0.1032 - accuracy: 0.9654 - val_loss: 0.3729 - val_accuracy: 0.8940\n",
            "Epoch 14/100\n",
            "1563/1563 [==============================] - 4s 3ms/step - loss: 0.0947 - accuracy: 0.9683 - val_loss: 0.3855 - val_accuracy: 0.8946\n",
            "Epoch 15/100\n",
            "1563/1563 [==============================] - 4s 3ms/step - loss: 0.0854 - accuracy: 0.9711 - val_loss: 0.4094 - val_accuracy: 0.8918\n"
          ]
        },
        {
          "output_type": "execute_result",
          "data": {
            "text/plain": [
              "KerasRegressorWrapper()"
            ],
            "text/html": [
              "<style>#sk-container-id-1 {color: black;background-color: white;}#sk-container-id-1 pre{padding: 0;}#sk-container-id-1 div.sk-toggleable {background-color: white;}#sk-container-id-1 label.sk-toggleable__label {cursor: pointer;display: block;width: 100%;margin-bottom: 0;padding: 0.3em;box-sizing: border-box;text-align: center;}#sk-container-id-1 label.sk-toggleable__label-arrow:before {content: \"▸\";float: left;margin-right: 0.25em;color: #696969;}#sk-container-id-1 label.sk-toggleable__label-arrow:hover:before {color: black;}#sk-container-id-1 div.sk-estimator:hover label.sk-toggleable__label-arrow:before {color: black;}#sk-container-id-1 div.sk-toggleable__content {max-height: 0;max-width: 0;overflow: hidden;text-align: left;background-color: #f0f8ff;}#sk-container-id-1 div.sk-toggleable__content pre {margin: 0.2em;color: black;border-radius: 0.25em;background-color: #f0f8ff;}#sk-container-id-1 input.sk-toggleable__control:checked~div.sk-toggleable__content {max-height: 200px;max-width: 100%;overflow: auto;}#sk-container-id-1 input.sk-toggleable__control:checked~label.sk-toggleable__label-arrow:before {content: \"▾\";}#sk-container-id-1 div.sk-estimator input.sk-toggleable__control:checked~label.sk-toggleable__label {background-color: #d4ebff;}#sk-container-id-1 div.sk-label input.sk-toggleable__control:checked~label.sk-toggleable__label {background-color: #d4ebff;}#sk-container-id-1 input.sk-hidden--visually {border: 0;clip: rect(1px 1px 1px 1px);clip: rect(1px, 1px, 1px, 1px);height: 1px;margin: -1px;overflow: hidden;padding: 0;position: absolute;width: 1px;}#sk-container-id-1 div.sk-estimator {font-family: monospace;background-color: #f0f8ff;border: 1px dotted black;border-radius: 0.25em;box-sizing: border-box;margin-bottom: 0.5em;}#sk-container-id-1 div.sk-estimator:hover {background-color: #d4ebff;}#sk-container-id-1 div.sk-parallel-item::after {content: \"\";width: 100%;border-bottom: 1px solid gray;flex-grow: 1;}#sk-container-id-1 div.sk-label:hover label.sk-toggleable__label {background-color: #d4ebff;}#sk-container-id-1 div.sk-serial::before {content: \"\";position: absolute;border-left: 1px solid gray;box-sizing: border-box;top: 0;bottom: 0;left: 50%;z-index: 0;}#sk-container-id-1 div.sk-serial {display: flex;flex-direction: column;align-items: center;background-color: white;padding-right: 0.2em;padding-left: 0.2em;position: relative;}#sk-container-id-1 div.sk-item {position: relative;z-index: 1;}#sk-container-id-1 div.sk-parallel {display: flex;align-items: stretch;justify-content: center;background-color: white;position: relative;}#sk-container-id-1 div.sk-item::before, #sk-container-id-1 div.sk-parallel-item::before {content: \"\";position: absolute;border-left: 1px solid gray;box-sizing: border-box;top: 0;bottom: 0;left: 50%;z-index: -1;}#sk-container-id-1 div.sk-parallel-item {display: flex;flex-direction: column;z-index: 1;position: relative;background-color: white;}#sk-container-id-1 div.sk-parallel-item:first-child::after {align-self: flex-end;width: 50%;}#sk-container-id-1 div.sk-parallel-item:last-child::after {align-self: flex-start;width: 50%;}#sk-container-id-1 div.sk-parallel-item:only-child::after {width: 0;}#sk-container-id-1 div.sk-dashed-wrapped {border: 1px dashed gray;margin: 0 0.4em 0.5em 0.4em;box-sizing: border-box;padding-bottom: 0.4em;background-color: white;}#sk-container-id-1 div.sk-label label {font-family: monospace;font-weight: bold;display: inline-block;line-height: 1.2em;}#sk-container-id-1 div.sk-label-container {text-align: center;}#sk-container-id-1 div.sk-container {/* jupyter's `normalize.less` sets `[hidden] { display: none; }` but bootstrap.min.css set `[hidden] { display: none !important; }` so we also need the `!important` here to be able to override the default hidden behavior on the sphinx rendered scikit-learn.org. See: https://github.com/scikit-learn/scikit-learn/issues/21755 */display: inline-block !important;position: relative;}#sk-container-id-1 div.sk-text-repr-fallback {display: none;}</style><div id=\"sk-container-id-1\" class=\"sk-top-container\"><div class=\"sk-text-repr-fallback\"><pre>KerasRegressorWrapper()</pre><b>In a Jupyter environment, please rerun this cell to show the HTML representation or trust the notebook. <br />On GitHub, the HTML representation is unable to render, please try loading this page with nbviewer.org.</b></div><div class=\"sk-container\" hidden><div class=\"sk-item\"><div class=\"sk-estimator sk-toggleable\"><input class=\"sk-toggleable__control sk-hidden--visually\" id=\"sk-estimator-id-1\" type=\"checkbox\" checked><label for=\"sk-estimator-id-1\" class=\"sk-toggleable__label sk-toggleable__label-arrow\">KerasRegressorWrapper</label><div class=\"sk-toggleable__content\"><pre>KerasRegressorWrapper()</pre></div></div></div></div></div>"
            ]
          },
          "metadata": {},
          "execution_count": 34
        }
      ]
    },
    {
      "cell_type": "code",
      "metadata": {
        "colab": {
          "base_uri": "https://localhost:8080/",
          "height": 727
        },
        "id": "xVrlNWlevp-s",
        "outputId": "b2f04ed9-6dc9-4a5d-ef4f-69a3d3c1e946"
      },
      "source": [
        "from scipy.stats import reciprocal\n",
        "from sklearn.model_selection import RandomizedSearchCV\n",
        "\n",
        "param_distribs = {\n",
        "    # fill in code\n",
        "    \"n_hidden\": [ , ],\n",
        "    \"n_neurons\": np.arange( , ),\n",
        "\n",
        "}\n",
        "\n",
        "rnd_search_cv = RandomizedSearchCV(keras_reg, param_distribs, n_iter=20, cv=3, verbose=2, n_jobs=-1)\n",
        "rnd_search_cv.fit(X_train, y_train, epochs=100,\n",
        "                  # fill in code\n",
        "                  validation_data=( , ),\n",
        "                  callbacks=[keras.callbacks.EarlyStopping(patience=10)])"
      ],
      "execution_count": null,
      "outputs": [
        {
          "output_type": "stream",
          "name": "stdout",
          "text": [
            "Fitting 3 folds for each of 20 candidates, totalling 60 fits\n"
          ]
        },
        {
          "output_type": "stream",
          "name": "stderr",
          "text": [
            "/usr/local/lib/python3.10/dist-packages/joblib/externals/loky/process_executor.py:752: UserWarning: A worker stopped while some jobs were given to the executor. This can be caused by a too short worker timeout or by a memory leak.\n",
            "  warnings.warn(\n"
          ]
        },
        {
          "output_type": "stream",
          "name": "stdout",
          "text": [
            "Epoch 1/100\n",
            "1563/1563 [==============================] - 5s 3ms/step - loss: 0.4351 - accuracy: 0.8504 - val_loss: 0.3562 - val_accuracy: 0.8744\n",
            "Epoch 2/100\n",
            "1563/1563 [==============================] - 4s 3ms/step - loss: 0.3050 - accuracy: 0.8912 - val_loss: 0.3159 - val_accuracy: 0.8838\n",
            "Epoch 3/100\n",
            "1563/1563 [==============================] - 4s 3ms/step - loss: 0.2596 - accuracy: 0.9069 - val_loss: 0.3105 - val_accuracy: 0.8906\n",
            "Epoch 4/100\n",
            "1563/1563 [==============================] - 4s 3ms/step - loss: 0.2273 - accuracy: 0.9199 - val_loss: 0.3097 - val_accuracy: 0.8882\n",
            "Epoch 5/100\n",
            "1563/1563 [==============================] - 4s 3ms/step - loss: 0.2004 - accuracy: 0.9290 - val_loss: 0.3076 - val_accuracy: 0.8932\n",
            "Epoch 6/100\n",
            "1563/1563 [==============================] - 4s 3ms/step - loss: 0.1777 - accuracy: 0.9378 - val_loss: 0.3085 - val_accuracy: 0.8978\n",
            "Epoch 7/100\n",
            "1563/1563 [==============================] - 4s 3ms/step - loss: 0.1578 - accuracy: 0.9454 - val_loss: 0.3196 - val_accuracy: 0.8958\n",
            "Epoch 8/100\n",
            "1563/1563 [==============================] - 4s 3ms/step - loss: 0.1403 - accuracy: 0.9511 - val_loss: 0.3200 - val_accuracy: 0.8952\n",
            "Epoch 9/100\n",
            "1563/1563 [==============================] - 4s 3ms/step - loss: 0.1244 - accuracy: 0.9570 - val_loss: 0.3439 - val_accuracy: 0.8956\n",
            "Epoch 10/100\n",
            "1563/1563 [==============================] - 4s 3ms/step - loss: 0.1103 - accuracy: 0.9622 - val_loss: 0.3528 - val_accuracy: 0.8916\n",
            "Epoch 11/100\n",
            "1563/1563 [==============================] - 4s 3ms/step - loss: 0.0976 - accuracy: 0.9675 - val_loss: 0.3778 - val_accuracy: 0.8910\n",
            "Epoch 12/100\n",
            "1563/1563 [==============================] - 4s 3ms/step - loss: 0.0871 - accuracy: 0.9711 - val_loss: 0.3905 - val_accuracy: 0.8890\n",
            "Epoch 13/100\n",
            "1563/1563 [==============================] - 4s 3ms/step - loss: 0.0766 - accuracy: 0.9752 - val_loss: 0.3954 - val_accuracy: 0.8912\n",
            "Epoch 14/100\n",
            "1563/1563 [==============================] - 4s 3ms/step - loss: 0.0688 - accuracy: 0.9773 - val_loss: 0.4207 - val_accuracy: 0.8882\n",
            "Epoch 15/100\n",
            "1563/1563 [==============================] - 4s 3ms/step - loss: 0.0602 - accuracy: 0.9805 - val_loss: 0.4338 - val_accuracy: 0.8886\n"
          ]
        },
        {
          "output_type": "execute_result",
          "data": {
            "text/plain": [
              "RandomizedSearchCV(cv=3, estimator=KerasRegressorWrapper(), n_iter=20,\n",
              "                   n_jobs=-1,\n",
              "                   param_distributions={'n_hidden': [1, 2],\n",
              "                                        'n_neurons': array([200, 201, 202, 203, 204, 205, 206, 207, 208, 209, 210, 211, 212,\n",
              "       213, 214, 215, 216, 217, 218, 219, 220, 221, 222, 223, 224, 225,\n",
              "       226, 227, 228, 229, 230, 231, 232, 233, 234, 235, 236, 237, 238,\n",
              "       239, 240, 241, 242, 243, 244, 245, 246, 247, 248, 249, 250, 251,\n",
              "       252, 253...\n",
              "       408, 409, 410, 411, 412, 413, 414, 415, 416, 417, 418, 419, 420,\n",
              "       421, 422, 423, 424, 425, 426, 427, 428, 429, 430, 431, 432, 433,\n",
              "       434, 435, 436, 437, 438, 439, 440, 441, 442, 443, 444, 445, 446,\n",
              "       447, 448, 449, 450, 451, 452, 453, 454, 455, 456, 457, 458, 459,\n",
              "       460, 461, 462, 463, 464, 465, 466, 467, 468, 469, 470, 471, 472,\n",
              "       473, 474, 475, 476, 477, 478, 479, 480, 481, 482, 483, 484, 485,\n",
              "       486, 487, 488, 489, 490, 491, 492, 493, 494, 495, 496, 497, 498,\n",
              "       499])},\n",
              "                   verbose=2)"
            ],
            "text/html": [
              "<style>#sk-container-id-2 {color: black;background-color: white;}#sk-container-id-2 pre{padding: 0;}#sk-container-id-2 div.sk-toggleable {background-color: white;}#sk-container-id-2 label.sk-toggleable__label {cursor: pointer;display: block;width: 100%;margin-bottom: 0;padding: 0.3em;box-sizing: border-box;text-align: center;}#sk-container-id-2 label.sk-toggleable__label-arrow:before {content: \"▸\";float: left;margin-right: 0.25em;color: #696969;}#sk-container-id-2 label.sk-toggleable__label-arrow:hover:before {color: black;}#sk-container-id-2 div.sk-estimator:hover label.sk-toggleable__label-arrow:before {color: black;}#sk-container-id-2 div.sk-toggleable__content {max-height: 0;max-width: 0;overflow: hidden;text-align: left;background-color: #f0f8ff;}#sk-container-id-2 div.sk-toggleable__content pre {margin: 0.2em;color: black;border-radius: 0.25em;background-color: #f0f8ff;}#sk-container-id-2 input.sk-toggleable__control:checked~div.sk-toggleable__content {max-height: 200px;max-width: 100%;overflow: auto;}#sk-container-id-2 input.sk-toggleable__control:checked~label.sk-toggleable__label-arrow:before {content: \"▾\";}#sk-container-id-2 div.sk-estimator input.sk-toggleable__control:checked~label.sk-toggleable__label {background-color: #d4ebff;}#sk-container-id-2 div.sk-label input.sk-toggleable__control:checked~label.sk-toggleable__label {background-color: #d4ebff;}#sk-container-id-2 input.sk-hidden--visually {border: 0;clip: rect(1px 1px 1px 1px);clip: rect(1px, 1px, 1px, 1px);height: 1px;margin: -1px;overflow: hidden;padding: 0;position: absolute;width: 1px;}#sk-container-id-2 div.sk-estimator {font-family: monospace;background-color: #f0f8ff;border: 1px dotted black;border-radius: 0.25em;box-sizing: border-box;margin-bottom: 0.5em;}#sk-container-id-2 div.sk-estimator:hover {background-color: #d4ebff;}#sk-container-id-2 div.sk-parallel-item::after {content: \"\";width: 100%;border-bottom: 1px solid gray;flex-grow: 1;}#sk-container-id-2 div.sk-label:hover label.sk-toggleable__label {background-color: #d4ebff;}#sk-container-id-2 div.sk-serial::before {content: \"\";position: absolute;border-left: 1px solid gray;box-sizing: border-box;top: 0;bottom: 0;left: 50%;z-index: 0;}#sk-container-id-2 div.sk-serial {display: flex;flex-direction: column;align-items: center;background-color: white;padding-right: 0.2em;padding-left: 0.2em;position: relative;}#sk-container-id-2 div.sk-item {position: relative;z-index: 1;}#sk-container-id-2 div.sk-parallel {display: flex;align-items: stretch;justify-content: center;background-color: white;position: relative;}#sk-container-id-2 div.sk-item::before, #sk-container-id-2 div.sk-parallel-item::before {content: \"\";position: absolute;border-left: 1px solid gray;box-sizing: border-box;top: 0;bottom: 0;left: 50%;z-index: -1;}#sk-container-id-2 div.sk-parallel-item {display: flex;flex-direction: column;z-index: 1;position: relative;background-color: white;}#sk-container-id-2 div.sk-parallel-item:first-child::after {align-self: flex-end;width: 50%;}#sk-container-id-2 div.sk-parallel-item:last-child::after {align-self: flex-start;width: 50%;}#sk-container-id-2 div.sk-parallel-item:only-child::after {width: 0;}#sk-container-id-2 div.sk-dashed-wrapped {border: 1px dashed gray;margin: 0 0.4em 0.5em 0.4em;box-sizing: border-box;padding-bottom: 0.4em;background-color: white;}#sk-container-id-2 div.sk-label label {font-family: monospace;font-weight: bold;display: inline-block;line-height: 1.2em;}#sk-container-id-2 div.sk-label-container {text-align: center;}#sk-container-id-2 div.sk-container {/* jupyter's `normalize.less` sets `[hidden] { display: none; }` but bootstrap.min.css set `[hidden] { display: none !important; }` so we also need the `!important` here to be able to override the default hidden behavior on the sphinx rendered scikit-learn.org. See: https://github.com/scikit-learn/scikit-learn/issues/21755 */display: inline-block !important;position: relative;}#sk-container-id-2 div.sk-text-repr-fallback {display: none;}</style><div id=\"sk-container-id-2\" class=\"sk-top-container\"><div class=\"sk-text-repr-fallback\"><pre>RandomizedSearchCV(cv=3, estimator=KerasRegressorWrapper(), n_iter=20,\n",
              "                   n_jobs=-1,\n",
              "                   param_distributions={&#x27;n_hidden&#x27;: [1, 2],\n",
              "                                        &#x27;n_neurons&#x27;: array([200, 201, 202, 203, 204, 205, 206, 207, 208, 209, 210, 211, 212,\n",
              "       213, 214, 215, 216, 217, 218, 219, 220, 221, 222, 223, 224, 225,\n",
              "       226, 227, 228, 229, 230, 231, 232, 233, 234, 235, 236, 237, 238,\n",
              "       239, 240, 241, 242, 243, 244, 245, 246, 247, 248, 249, 250, 251,\n",
              "       252, 253...\n",
              "       408, 409, 410, 411, 412, 413, 414, 415, 416, 417, 418, 419, 420,\n",
              "       421, 422, 423, 424, 425, 426, 427, 428, 429, 430, 431, 432, 433,\n",
              "       434, 435, 436, 437, 438, 439, 440, 441, 442, 443, 444, 445, 446,\n",
              "       447, 448, 449, 450, 451, 452, 453, 454, 455, 456, 457, 458, 459,\n",
              "       460, 461, 462, 463, 464, 465, 466, 467, 468, 469, 470, 471, 472,\n",
              "       473, 474, 475, 476, 477, 478, 479, 480, 481, 482, 483, 484, 485,\n",
              "       486, 487, 488, 489, 490, 491, 492, 493, 494, 495, 496, 497, 498,\n",
              "       499])},\n",
              "                   verbose=2)</pre><b>In a Jupyter environment, please rerun this cell to show the HTML representation or trust the notebook. <br />On GitHub, the HTML representation is unable to render, please try loading this page with nbviewer.org.</b></div><div class=\"sk-container\" hidden><div class=\"sk-item sk-dashed-wrapped\"><div class=\"sk-label-container\"><div class=\"sk-label sk-toggleable\"><input class=\"sk-toggleable__control sk-hidden--visually\" id=\"sk-estimator-id-2\" type=\"checkbox\" ><label for=\"sk-estimator-id-2\" class=\"sk-toggleable__label sk-toggleable__label-arrow\">RandomizedSearchCV</label><div class=\"sk-toggleable__content\"><pre>RandomizedSearchCV(cv=3, estimator=KerasRegressorWrapper(), n_iter=20,\n",
              "                   n_jobs=-1,\n",
              "                   param_distributions={&#x27;n_hidden&#x27;: [1, 2],\n",
              "                                        &#x27;n_neurons&#x27;: array([200, 201, 202, 203, 204, 205, 206, 207, 208, 209, 210, 211, 212,\n",
              "       213, 214, 215, 216, 217, 218, 219, 220, 221, 222, 223, 224, 225,\n",
              "       226, 227, 228, 229, 230, 231, 232, 233, 234, 235, 236, 237, 238,\n",
              "       239, 240, 241, 242, 243, 244, 245, 246, 247, 248, 249, 250, 251,\n",
              "       252, 253...\n",
              "       408, 409, 410, 411, 412, 413, 414, 415, 416, 417, 418, 419, 420,\n",
              "       421, 422, 423, 424, 425, 426, 427, 428, 429, 430, 431, 432, 433,\n",
              "       434, 435, 436, 437, 438, 439, 440, 441, 442, 443, 444, 445, 446,\n",
              "       447, 448, 449, 450, 451, 452, 453, 454, 455, 456, 457, 458, 459,\n",
              "       460, 461, 462, 463, 464, 465, 466, 467, 468, 469, 470, 471, 472,\n",
              "       473, 474, 475, 476, 477, 478, 479, 480, 481, 482, 483, 484, 485,\n",
              "       486, 487, 488, 489, 490, 491, 492, 493, 494, 495, 496, 497, 498,\n",
              "       499])},\n",
              "                   verbose=2)</pre></div></div></div><div class=\"sk-parallel\"><div class=\"sk-parallel-item\"><div class=\"sk-item\"><div class=\"sk-label-container\"><div class=\"sk-label sk-toggleable\"><input class=\"sk-toggleable__control sk-hidden--visually\" id=\"sk-estimator-id-3\" type=\"checkbox\" ><label for=\"sk-estimator-id-3\" class=\"sk-toggleable__label sk-toggleable__label-arrow\">estimator: KerasRegressorWrapper</label><div class=\"sk-toggleable__content\"><pre>KerasRegressorWrapper()</pre></div></div></div><div class=\"sk-serial\"><div class=\"sk-item\"><div class=\"sk-estimator sk-toggleable\"><input class=\"sk-toggleable__control sk-hidden--visually\" id=\"sk-estimator-id-4\" type=\"checkbox\" ><label for=\"sk-estimator-id-4\" class=\"sk-toggleable__label sk-toggleable__label-arrow\">KerasRegressorWrapper</label><div class=\"sk-toggleable__content\"><pre>KerasRegressorWrapper()</pre></div></div></div></div></div></div></div></div></div></div>"
            ]
          },
          "metadata": {},
          "execution_count": 35
        }
      ]
    },
    {
      "cell_type": "code",
      "metadata": {
        "colab": {
          "base_uri": "https://localhost:8080/"
        },
        "id": "QWG2mB-hxzES",
        "outputId": "b8974e97-2b47-4d31-e635-26d4fb637d20"
      },
      "source": [
        "rnd_search_cv.best_params_"
      ],
      "execution_count": null,
      "outputs": [
        {
          "output_type": "execute_result",
          "data": {
            "text/plain": [
              "{'n_neurons': 278, 'n_hidden': 1}"
            ]
          },
          "metadata": {},
          "execution_count": 36
        }
      ]
    },
    {
      "cell_type": "markdown",
      "metadata": {
        "id": "y0_HYPGoN10B"
      },
      "source": [
        "Show the summary of the best model obtained from the randomized search. Report the test result using the best model, and compare this result with the previous results. (20 points)"
      ]
    },
    {
      "cell_type": "code",
      "metadata": {
        "colab": {
          "base_uri": "https://localhost:8080/"
        },
        "id": "tPJiZp7RBmXS",
        "outputId": "53af3595-a4b5-45c4-a14d-7cd4a155bab3"
      },
      "source": [
        "# fill in code\n",
        "model =\n",
        "model.summary()"
      ],
      "execution_count": null,
      "outputs": [
        {
          "output_type": "stream",
          "name": "stdout",
          "text": [
            "Model: \"sequential_1\"\n",
            "_________________________________________________________________\n",
            " Layer (type)                Output Shape              Param #   \n",
            "=================================================================\n",
            " dense_2 (Dense)             (None, 278)               52264     \n",
            "                                                                 \n",
            " dense_3 (Dense)             (None, 10)                2790      \n",
            "                                                                 \n",
            "=================================================================\n",
            "Total params: 55054 (215.05 KB)\n",
            "Trainable params: 55054 (215.05 KB)\n",
            "Non-trainable params: 0 (0.00 Byte)\n",
            "_________________________________________________________________\n"
          ]
        }
      ]
    },
    {
      "cell_type": "code",
      "metadata": {
        "colab": {
          "base_uri": "https://localhost:8080/"
        },
        "id": "TgSJ04SmFgU_",
        "outputId": "06d3f5cd-2b7d-4614-92f4-541ff17ae22e"
      },
      "source": [
        "model.evaluate(X_test_reduced, y_test)"
      ],
      "execution_count": null,
      "outputs": [
        {
          "output_type": "stream",
          "name": "stdout",
          "text": [
            "313/313 [==============================] - 1s 2ms/step - loss: 0.4751 - accuracy: 0.8858\n"
          ]
        },
        {
          "output_type": "execute_result",
          "data": {
            "text/plain": [
              "[0.47513920068740845, 0.8858000040054321]"
            ]
          },
          "metadata": {},
          "execution_count": 38
        }
      ]
    },
    {
      "cell_type": "markdown",
      "metadata": {
        "id": "dK9r9skZOGBP"
      },
      "source": [
        "The result from the randomized search ..."
      ]
    }
  ]
}