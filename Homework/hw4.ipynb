{
  "nbformat": 4,
  "nbformat_minor": 0,
  "metadata": {
    "kernelspec": {
      "display_name": "Python 3",
      "name": "python3"
    },
    "language_info": {
      "codemirror_mode": {
        "name": "ipython",
        "version": 3
      },
      "file_extension": ".py",
      "mimetype": "text/x-python",
      "name": "python",
      "nbconvert_exporter": "python",
      "pygments_lexer": "ipython3",
      "version": "3.6.1"
    },
    "colab": {
      "provenance": [],
      "gpuType": "T4"
    },
    "accelerator": "GPU"
  },
  "cells": [
    {
      "cell_type": "markdown",
      "metadata": {
        "id": "fcM2-IAEr9r_"
      },
      "source": [
        "Fashion-MNIST is a dataset of Zalando's article images—consisting of a training set of 60,000 examples and a test set of 10,000 examples. Each example is a 28x28 grayscale image, associated with a label from 10 classes.  "
      ]
    },
    {
      "cell_type": "markdown",
      "metadata": {
        "id": "_fo1BKg2sATz"
      },
      "source": [
        "In this assignment, we\n",
        "- build a MLP classifier for the Fashion-MNIST dataset.\n",
        "- use PCA to reduce the dimensionality of the dataset, and make sure we preserve 95% of the explained variance. (20 points)\n",
        "- train a classifier using the dimensionality reduced dataset with the same network toplogy as the previous classfier,  and compare the classification accuracy result with the one using the original dataset. (10 points)\n",
        "- check whether we observe anything surprising. (10 points)\n",
        "- follow and improve the example from the text to fine tune the neural network hyperparameters using RandomizedSearchCV. Note to use the dataset after the PCA step. This will make the search less time consuming. (40 points)\n",
        "- report the test result using the best model obtained from the randomized search. Show the summary of the model. Compare this result with the previous results. (20 points)"
      ]
    },
    {
      "cell_type": "code",
      "metadata": {
        "collapsed": true,
        "id": "mgaxd3XPmqtj"
      },
      "source": [
        "import numpy as np\n",
        "import os\n",
        "\n",
        "# To plot pretty figures\n",
        "%matplotlib inline\n",
        "import matplotlib\n",
        "import matplotlib.pyplot as plt\n",
        "plt.rcParams['axes.labelsize'] = 14\n",
        "plt.rcParams['xtick.labelsize'] = 12\n",
        "plt.rcParams['ytick.labelsize'] = 12"
      ],
      "execution_count": null,
      "outputs": []
    },
    {
      "cell_type": "markdown",
      "metadata": {
        "id": "D2pPMy5tshtB"
      },
      "source": [
        "Read the data."
      ]
    },
    {
      "cell_type": "code",
      "metadata": {
        "collapsed": true,
        "id": "xbgSB7d9mqtl",
        "outputId": "19b1bce4-646f-4857-f876-8d5506dcfce6",
        "colab": {
          "base_uri": "https://localhost:8080/"
        }
      },
      "source": [
        "import tensorflow as tf\n",
        "fashion_mnist = tf.keras.datasets.fashion_mnist\n",
        "(X_train_full, y_train_full), (X_test, y_test) = fashion_mnist.load_data()"
      ],
      "execution_count": null,
      "outputs": [
        {
          "output_type": "stream",
          "name": "stdout",
          "text": [
            "Downloading data from https://storage.googleapis.com/tensorflow/tf-keras-datasets/train-labels-idx1-ubyte.gz\n",
            "29515/29515 [==============================] - 0s 0us/step\n",
            "Downloading data from https://storage.googleapis.com/tensorflow/tf-keras-datasets/train-images-idx3-ubyte.gz\n",
            "26421880/26421880 [==============================] - 2s 0us/step\n",
            "Downloading data from https://storage.googleapis.com/tensorflow/tf-keras-datasets/t10k-labels-idx1-ubyte.gz\n",
            "5148/5148 [==============================] - 0s 0us/step\n",
            "Downloading data from https://storage.googleapis.com/tensorflow/tf-keras-datasets/t10k-images-idx3-ubyte.gz\n",
            "4422102/4422102 [==============================] - 1s 0us/step\n"
          ]
        }
      ]
    },
    {
      "cell_type": "markdown",
      "metadata": {
        "id": "YCt6FpnysoUu"
      },
      "source": [
        "Set random seeds."
      ]
    },
    {
      "cell_type": "code",
      "metadata": {
        "id": "a2jLrBUs6Kda"
      },
      "source": [
        "np.random.seed(42)\n",
        "tf.random.set_seed(42)"
      ],
      "execution_count": null,
      "outputs": []
    },
    {
      "cell_type": "code",
      "metadata": {
        "id": "m1eEiOeUmqtl"
      },
      "source": [
        "from keras import models\n",
        "from keras import layers\n",
        "\n",
        "network = models.Sequential()\n",
        "network.add(layers.Dense(64, activation='relu', input_shape=(28 * 28,)))\n",
        "network.add(layers.Dense(10, activation='softmax'))"
      ],
      "execution_count": null,
      "outputs": []
    },
    {
      "cell_type": "code",
      "metadata": {
        "collapsed": true,
        "id": "DmTFk8lNmqtl"
      },
      "source": [
        "network.compile(optimizer='rmsprop',\n",
        "                loss='categorical_crossentropy',\n",
        "                metrics=['accuracy'])"
      ],
      "execution_count": null,
      "outputs": []
    },
    {
      "cell_type": "code",
      "metadata": {
        "collapsed": true,
        "id": "fgGewtAHmqtl"
      },
      "source": [
        "X_train_full = X_train_full.reshape((60000, 28 * 28))\n",
        "X_train_full = X_train_full.astype('float32') / 255\n",
        "\n",
        "X_test = X_test.reshape((10000, 28 * 28))\n",
        "X_test = X_test.astype('float32') / 255"
      ],
      "execution_count": null,
      "outputs": []
    },
    {
      "cell_type": "code",
      "metadata": {
        "collapsed": true,
        "id": "cvMjBoR_mqtm"
      },
      "source": [
        "from tensorflow.keras.utils import to_categorical\n",
        "\n",
        "y_train_full = to_categorical(y_train_full)\n",
        "y_test = to_categorical(y_test)"
      ],
      "execution_count": null,
      "outputs": []
    },
    {
      "cell_type": "code",
      "metadata": {
        "id": "Rc0oAXPt7iO7"
      },
      "source": [
        "X_valid = X_train_full[:5000]\n",
        "y_valid = y_train_full[:5000]\n",
        "X_train = X_train_full[5000:]\n",
        "y_train = y_train_full[5000:]"
      ],
      "execution_count": null,
      "outputs": []
    },
    {
      "cell_type": "code",
      "metadata": {
        "colab": {
          "base_uri": "https://localhost:8080/"
        },
        "id": "V3qWRp4Mmqtm",
        "outputId": "89e4584b-252d-4ffe-c2ed-b620a316f7ad"
      },
      "source": [
        "network.fit(X_train, y_train, validation_data=(X_valid, y_valid), epochs=20, batch_size=128)"
      ],
      "execution_count": null,
      "outputs": [
        {
          "output_type": "stream",
          "name": "stdout",
          "text": [
            "Epoch 1/20\n",
            "430/430 [==============================] - 7s 13ms/step - loss: 0.6238 - accuracy: 0.7860 - val_loss: 0.4536 - val_accuracy: 0.8484\n",
            "Epoch 2/20\n",
            "430/430 [==============================] - 4s 9ms/step - loss: 0.4435 - accuracy: 0.8442 - val_loss: 0.3929 - val_accuracy: 0.8658\n",
            "Epoch 3/20\n",
            "430/430 [==============================] - 3s 6ms/step - loss: 0.4002 - accuracy: 0.8559 - val_loss: 0.4288 - val_accuracy: 0.8404\n",
            "Epoch 4/20\n",
            "430/430 [==============================] - 2s 5ms/step - loss: 0.3721 - accuracy: 0.8661 - val_loss: 0.3633 - val_accuracy: 0.8684\n",
            "Epoch 5/20\n",
            "430/430 [==============================] - 3s 7ms/step - loss: 0.3541 - accuracy: 0.8715 - val_loss: 0.3553 - val_accuracy: 0.8744\n",
            "Epoch 6/20\n",
            "430/430 [==============================] - 4s 8ms/step - loss: 0.3366 - accuracy: 0.8775 - val_loss: 0.3458 - val_accuracy: 0.8800\n",
            "Epoch 7/20\n",
            "430/430 [==============================] - 2s 5ms/step - loss: 0.3242 - accuracy: 0.8834 - val_loss: 0.3447 - val_accuracy: 0.8796\n",
            "Epoch 8/20\n",
            "430/430 [==============================] - 1s 3ms/step - loss: 0.3134 - accuracy: 0.8874 - val_loss: 0.3563 - val_accuracy: 0.8742\n",
            "Epoch 9/20\n",
            "430/430 [==============================] - 1s 3ms/step - loss: 0.3037 - accuracy: 0.8883 - val_loss: 0.3526 - val_accuracy: 0.8724\n",
            "Epoch 10/20\n",
            "430/430 [==============================] - 1s 3ms/step - loss: 0.2947 - accuracy: 0.8926 - val_loss: 0.3170 - val_accuracy: 0.8870\n",
            "Epoch 11/20\n",
            "430/430 [==============================] - 1s 3ms/step - loss: 0.2865 - accuracy: 0.8944 - val_loss: 0.3290 - val_accuracy: 0.8836\n",
            "Epoch 12/20\n",
            "430/430 [==============================] - 1s 3ms/step - loss: 0.2795 - accuracy: 0.8982 - val_loss: 0.3370 - val_accuracy: 0.8820\n",
            "Epoch 13/20\n",
            "430/430 [==============================] - 2s 4ms/step - loss: 0.2727 - accuracy: 0.9002 - val_loss: 0.3242 - val_accuracy: 0.8874\n",
            "Epoch 14/20\n",
            "430/430 [==============================] - 1s 3ms/step - loss: 0.2681 - accuracy: 0.9012 - val_loss: 0.3335 - val_accuracy: 0.8804\n",
            "Epoch 15/20\n",
            "430/430 [==============================] - 1s 3ms/step - loss: 0.2614 - accuracy: 0.9044 - val_loss: 0.3205 - val_accuracy: 0.8846\n",
            "Epoch 16/20\n",
            "430/430 [==============================] - 1s 3ms/step - loss: 0.2569 - accuracy: 0.9061 - val_loss: 0.3146 - val_accuracy: 0.8886\n",
            "Epoch 17/20\n",
            "430/430 [==============================] - 1s 3ms/step - loss: 0.2516 - accuracy: 0.9078 - val_loss: 0.3495 - val_accuracy: 0.8830\n",
            "Epoch 18/20\n",
            "430/430 [==============================] - 1s 3ms/step - loss: 0.2483 - accuracy: 0.9093 - val_loss: 0.3476 - val_accuracy: 0.8788\n",
            "Epoch 19/20\n",
            "430/430 [==============================] - 1s 3ms/step - loss: 0.2428 - accuracy: 0.9113 - val_loss: 0.3184 - val_accuracy: 0.8856\n",
            "Epoch 20/20\n",
            "430/430 [==============================] - 1s 3ms/step - loss: 0.2388 - accuracy: 0.9124 - val_loss: 0.3504 - val_accuracy: 0.8770\n"
          ]
        },
        {
          "output_type": "execute_result",
          "data": {
            "text/plain": [
              "<keras.src.callbacks.History at 0x7a41009114b0>"
            ]
          },
          "metadata": {},
          "execution_count": 9
        }
      ]
    },
    {
      "cell_type": "code",
      "metadata": {
        "colab": {
          "base_uri": "https://localhost:8080/"
        },
        "id": "5Xx6qeAkmqtn",
        "outputId": "8dae65f0-2615-4677-b1ec-36976cae4174"
      },
      "source": [
        "test_loss, test_acc = network.evaluate(X_test, y_test)"
      ],
      "execution_count": null,
      "outputs": [
        {
          "output_type": "stream",
          "name": "stdout",
          "text": [
            "313/313 [==============================] - 1s 2ms/step - loss: 0.3870 - accuracy: 0.8648\n"
          ]
        }
      ]
    },
    {
      "cell_type": "code",
      "metadata": {
        "colab": {
          "base_uri": "https://localhost:8080/"
        },
        "id": "PMXsDkLAmqtn",
        "outputId": "3f429f89-9cd1-44ce-a365-7f5da04a728b"
      },
      "source": [
        "print('test_acc:', test_acc)"
      ],
      "execution_count": null,
      "outputs": [
        {
          "output_type": "stream",
          "name": "stdout",
          "text": [
            "test_acc: 0.864799976348877\n"
          ]
        }
      ]
    },
    {
      "cell_type": "markdown",
      "metadata": {
        "id": "asbC4U1Es0tW"
      },
      "source": [
        "Now we read the data again."
      ]
    },
    {
      "cell_type": "code",
      "metadata": {
        "id": "2a3Kfc8Cncm5"
      },
      "source": [
        "import tensorflow as tf\n",
        "fashion_mnist = tf.keras.datasets.fashion_mnist\n",
        "(X_train_full, y_train_full), (X_test, y_test) = fashion_mnist.load_data()"
      ],
      "execution_count": null,
      "outputs": []
    },
    {
      "cell_type": "markdown",
      "metadata": {
        "id": "iuCvwFnOs6gy"
      },
      "source": [
        "Use the same random seeds."
      ]
    },
    {
      "cell_type": "code",
      "metadata": {
        "id": "ARt6ZZiT6Tw9"
      },
      "source": [
        "np.random.seed(42)\n",
        "tf.random.set_seed(42)"
      ],
      "execution_count": null,
      "outputs": []
    },
    {
      "cell_type": "code",
      "metadata": {
        "colab": {
          "base_uri": "https://localhost:8080/"
        },
        "id": "6LonsKjvnx-x",
        "outputId": "3a9600c2-285c-43bd-956c-84ec799f3775"
      },
      "source": [
        "X_train_full.shape"
      ],
      "execution_count": null,
      "outputs": [
        {
          "output_type": "execute_result",
          "data": {
            "text/plain": [
              "(60000, 28, 28)"
            ]
          },
          "metadata": {},
          "execution_count": 14
        }
      ]
    },
    {
      "cell_type": "code",
      "metadata": {
        "colab": {
          "base_uri": "https://localhost:8080/"
        },
        "id": "IXI_ZIUCodOL",
        "outputId": "a62a3c7f-3dbb-48a8-f0e4-c46afa429206"
      },
      "source": [
        "X_test.shape"
      ],
      "execution_count": null,
      "outputs": [
        {
          "output_type": "execute_result",
          "data": {
            "text/plain": [
              "(10000, 28, 28)"
            ]
          },
          "metadata": {},
          "execution_count": 15
        }
      ]
    },
    {
      "cell_type": "code",
      "metadata": {
        "id": "3DH2Xy3uoQEj"
      },
      "source": [
        "X_train_full = X_train_full.reshape((60000,28*28))\n",
        "X_test = X_test.reshape((10000,28*28))"
      ],
      "execution_count": null,
      "outputs": []
    },
    {
      "cell_type": "markdown",
      "metadata": {
        "id": "X8riTC7Yv0PR"
      },
      "source": [
        "Conduct fit and transform on X_train_full using PCA. (10 points)"
      ]
    },
    {
      "cell_type": "code",
      "metadata": {
        "collapsed": true,
        "id": "B-2DKELQmqto"
      },
      "source": [
        "from sklearn.decomposition import PCA\n",
        "\n",
        "# fill in code here\n",
        "pca = PCA(n_components=0.95)\n",
        "X_train_reduced_full = pca.fit_transform(X_train_full)"
      ],
      "execution_count": null,
      "outputs": []
    },
    {
      "cell_type": "markdown",
      "metadata": {
        "id": "tw8GbuuTvh0r"
      },
      "source": [
        "Transform X_test using the PCA. (10 points)"
      ]
    },
    {
      "cell_type": "code",
      "metadata": {
        "collapsed": true,
        "id": "aUYibIgDmqto"
      },
      "source": [
        "# fill in code here\n",
        "X_test_reduced = pca.transform(X_test)"
      ],
      "execution_count": null,
      "outputs": []
    },
    {
      "cell_type": "markdown",
      "metadata": {
        "id": "fDFMmVY3M6a7"
      },
      "source": [
        "Fill in the input_shape in the following code. (10 points)"
      ]
    },
    {
      "cell_type": "code",
      "metadata": {
        "collapsed": true,
        "id": "abVjqR_5mqto"
      },
      "source": [
        "from keras import models\n",
        "from keras import layers\n",
        "\n",
        "network = models.Sequential()\n",
        "# fill in code\n",
        "input_shape = (X_train_reduced_full.shape[1],)\n",
        "network.add(layers.Dense(64, activation='relu', input_shape=input_shape))\n",
        "network.add(layers.Dense(10, activation='softmax'))"
      ],
      "execution_count": null,
      "outputs": []
    },
    {
      "cell_type": "code",
      "source": [
        "network.summary()"
      ],
      "metadata": {
        "id": "r53NJ41QzWrU",
        "outputId": "71f82828-2a20-4be5-edd3-27916e9677db",
        "colab": {
          "base_uri": "https://localhost:8080/"
        }
      },
      "execution_count": null,
      "outputs": [
        {
          "output_type": "stream",
          "name": "stdout",
          "text": [
            "Model: \"sequential_1\"\n",
            "_________________________________________________________________\n",
            " Layer (type)                Output Shape              Param #   \n",
            "=================================================================\n",
            " dense_2 (Dense)             (None, 64)                12032     \n",
            "                                                                 \n",
            " dense_3 (Dense)             (None, 10)                650       \n",
            "                                                                 \n",
            "=================================================================\n",
            "Total params: 12682 (49.54 KB)\n",
            "Trainable params: 12682 (49.54 KB)\n",
            "Non-trainable params: 0 (0.00 Byte)\n",
            "_________________________________________________________________\n"
          ]
        }
      ]
    },
    {
      "cell_type": "code",
      "metadata": {
        "collapsed": true,
        "id": "SaFZmy5Vmqto"
      },
      "source": [
        "network.compile(optimizer='rmsprop',\n",
        "                loss='categorical_crossentropy',\n",
        "                metrics=['accuracy'])"
      ],
      "execution_count": null,
      "outputs": []
    },
    {
      "cell_type": "code",
      "metadata": {
        "id": "0sX_aDf_mqtp"
      },
      "source": [
        "X_train_reduced_full = X_train_reduced_full.astype('float32') / 255\n",
        "X_test_reduced = X_test_reduced.astype('float32') / 255"
      ],
      "execution_count": null,
      "outputs": []
    },
    {
      "cell_type": "code",
      "metadata": {
        "collapsed": true,
        "id": "SOxIi7Wjmqtp"
      },
      "source": [
        "from tensorflow.keras.utils import to_categorical\n",
        "\n",
        "y_train_full = to_categorical(y_train_full)\n",
        "y_test = to_categorical(y_test)"
      ],
      "execution_count": null,
      "outputs": []
    },
    {
      "cell_type": "code",
      "metadata": {
        "id": "LEQbiIEa8lbk"
      },
      "source": [
        "X_valid_reduced = X_train_reduced_full[:5000]\n",
        "y_valid = y_train_full[:5000]\n",
        "X_train_reduced = X_train_reduced_full[5000:]\n",
        "y_train = y_train_full[5000:]"
      ],
      "execution_count": null,
      "outputs": []
    },
    {
      "cell_type": "code",
      "source": [
        "X_train_reduced_full.shape"
      ],
      "metadata": {
        "id": "6oXM4Rxj7Ynq",
        "outputId": "6fe84811-7c6c-45ba-e111-9dfda26c8931",
        "colab": {
          "base_uri": "https://localhost:8080/"
        }
      },
      "execution_count": null,
      "outputs": [
        {
          "output_type": "execute_result",
          "data": {
            "text/plain": [
              "(60000, 187)"
            ]
          },
          "metadata": {},
          "execution_count": 25
        }
      ]
    },
    {
      "cell_type": "code",
      "source": [
        "y_train.shape"
      ],
      "metadata": {
        "id": "9rW8A10w7T72",
        "outputId": "05c20b97-7e52-4a3c-d603-0a841f3a5464",
        "colab": {
          "base_uri": "https://localhost:8080/"
        }
      },
      "execution_count": null,
      "outputs": [
        {
          "output_type": "execute_result",
          "data": {
            "text/plain": [
              "(55000, 10)"
            ]
          },
          "metadata": {},
          "execution_count": 26
        }
      ]
    },
    {
      "cell_type": "code",
      "metadata": {
        "colab": {
          "base_uri": "https://localhost:8080/"
        },
        "id": "1BcB3YHumqtp",
        "outputId": "3ad503e2-8528-4e1a-cef6-e63c73dcea86"
      },
      "source": [
        "network.fit(X_train_reduced, y_train, validation_data=(X_valid_reduced, y_valid), epochs=20, batch_size=128)"
      ],
      "execution_count": null,
      "outputs": [
        {
          "output_type": "stream",
          "name": "stdout",
          "text": [
            "Epoch 1/20\n",
            "430/430 [==============================] - 2s 4ms/step - loss: 0.6835 - accuracy: 0.7814 - val_loss: 0.4096 - val_accuracy: 0.8570\n",
            "Epoch 2/20\n",
            "430/430 [==============================] - 1s 3ms/step - loss: 0.3903 - accuracy: 0.8613 - val_loss: 0.3660 - val_accuracy: 0.8704\n",
            "Epoch 3/20\n",
            "430/430 [==============================] - 1s 3ms/step - loss: 0.3537 - accuracy: 0.8732 - val_loss: 0.3514 - val_accuracy: 0.8732\n",
            "Epoch 4/20\n",
            "430/430 [==============================] - 1s 2ms/step - loss: 0.3302 - accuracy: 0.8821 - val_loss: 0.3347 - val_accuracy: 0.8802\n",
            "Epoch 5/20\n",
            "430/430 [==============================] - 1s 2ms/step - loss: 0.3130 - accuracy: 0.8874 - val_loss: 0.3257 - val_accuracy: 0.8830\n",
            "Epoch 6/20\n",
            "430/430 [==============================] - 1s 2ms/step - loss: 0.2985 - accuracy: 0.8925 - val_loss: 0.3217 - val_accuracy: 0.8866\n",
            "Epoch 7/20\n",
            "430/430 [==============================] - 1s 2ms/step - loss: 0.2864 - accuracy: 0.8967 - val_loss: 0.3130 - val_accuracy: 0.8894\n",
            "Epoch 8/20\n",
            "430/430 [==============================] - 1s 2ms/step - loss: 0.2756 - accuracy: 0.9015 - val_loss: 0.3096 - val_accuracy: 0.8876\n",
            "Epoch 9/20\n",
            "430/430 [==============================] - 1s 2ms/step - loss: 0.2660 - accuracy: 0.9044 - val_loss: 0.3060 - val_accuracy: 0.8884\n",
            "Epoch 10/20\n",
            "430/430 [==============================] - 1s 2ms/step - loss: 0.2574 - accuracy: 0.9072 - val_loss: 0.3021 - val_accuracy: 0.8866\n",
            "Epoch 11/20\n",
            "430/430 [==============================] - 1s 2ms/step - loss: 0.2501 - accuracy: 0.9103 - val_loss: 0.3027 - val_accuracy: 0.8918\n",
            "Epoch 12/20\n",
            "430/430 [==============================] - 1s 3ms/step - loss: 0.2431 - accuracy: 0.9140 - val_loss: 0.3022 - val_accuracy: 0.8850\n",
            "Epoch 13/20\n",
            "430/430 [==============================] - 1s 3ms/step - loss: 0.2364 - accuracy: 0.9157 - val_loss: 0.2964 - val_accuracy: 0.8902\n",
            "Epoch 14/20\n",
            "430/430 [==============================] - 1s 2ms/step - loss: 0.2308 - accuracy: 0.9176 - val_loss: 0.2977 - val_accuracy: 0.8906\n",
            "Epoch 15/20\n",
            "430/430 [==============================] - 1s 2ms/step - loss: 0.2249 - accuracy: 0.9198 - val_loss: 0.2980 - val_accuracy: 0.8918\n",
            "Epoch 16/20\n",
            "430/430 [==============================] - 1s 2ms/step - loss: 0.2197 - accuracy: 0.9225 - val_loss: 0.2958 - val_accuracy: 0.8900\n",
            "Epoch 17/20\n",
            "430/430 [==============================] - 1s 2ms/step - loss: 0.2148 - accuracy: 0.9234 - val_loss: 0.2988 - val_accuracy: 0.8932\n",
            "Epoch 18/20\n",
            "430/430 [==============================] - 1s 2ms/step - loss: 0.2104 - accuracy: 0.9253 - val_loss: 0.2992 - val_accuracy: 0.8934\n",
            "Epoch 19/20\n",
            "430/430 [==============================] - 1s 2ms/step - loss: 0.2061 - accuracy: 0.9266 - val_loss: 0.3050 - val_accuracy: 0.8894\n",
            "Epoch 20/20\n",
            "430/430 [==============================] - 1s 2ms/step - loss: 0.2021 - accuracy: 0.9290 - val_loss: 0.3032 - val_accuracy: 0.8926\n"
          ]
        },
        {
          "output_type": "execute_result",
          "data": {
            "text/plain": [
              "<keras.src.callbacks.History at 0x7a40f9bce7a0>"
            ]
          },
          "metadata": {},
          "execution_count": 27
        }
      ]
    },
    {
      "cell_type": "code",
      "metadata": {
        "colab": {
          "base_uri": "https://localhost:8080/"
        },
        "id": "QMcfshelmqtp",
        "outputId": "9b297872-e7c9-473a-e861-3529c6073a65"
      },
      "source": [
        "test_loss, test_acc = network.evaluate(X_test_reduced, y_test)"
      ],
      "execution_count": null,
      "outputs": [
        {
          "output_type": "stream",
          "name": "stdout",
          "text": [
            "313/313 [==============================] - 0s 1ms/step - loss: 0.3339 - accuracy: 0.8869\n"
          ]
        }
      ]
    },
    {
      "cell_type": "code",
      "metadata": {
        "colab": {
          "base_uri": "https://localhost:8080/"
        },
        "id": "3kwXfRybmqtq",
        "outputId": "42c78a9f-3cf0-4746-b1e4-d47f166c0a2d"
      },
      "source": [
        "print('test_acc:', test_acc)"
      ],
      "execution_count": null,
      "outputs": [
        {
          "output_type": "stream",
          "name": "stdout",
          "text": [
            "test_acc: 0.886900007724762\n"
          ]
        }
      ]
    },
    {
      "cell_type": "markdown",
      "metadata": {
        "id": "JX1W40sqxtyQ"
      },
      "source": [
        "Compare these two accuracy results and check whether we see anything surprising. (10 points)"
      ]
    },
    {
      "cell_type": "markdown",
      "metadata": {
        "id": "lQvDuRZjO9U9"
      },
      "source": [
        "The accuracy result ..."
      ]
    },
    {
      "cell_type": "code",
      "metadata": {
        "collapsed": true,
        "id": "gqozYABsmqtr"
      },
      "source": [
        "np.random.seed(42)\n",
        "tf.random.set_seed(42)"
      ],
      "execution_count": null,
      "outputs": []
    },
    {
      "cell_type": "markdown",
      "metadata": {
        "id": "q7NB3DDvx4MU"
      },
      "source": [
        "Modify the code provided by this module and use RandomizedSearchCV to find a model that beats the previous accuracy results. (40 points)\n",
        "\n",
        "Hint: you can speed up the search by using n_jobs = 1 in RandomizedSearchCV."
      ]
    },
    {
      "cell_type": "code",
      "metadata": {
        "id": "IT5qWXkIwNMN"
      },
      "source": [
        "X_valid = X_train_reduced[:5000]\n",
        "y_valid = y_train[:5000]\n",
        "X_train = X_train_reduced[5000:]\n",
        "y_train = y_train[5000:]"
      ],
      "execution_count": null,
      "outputs": []
    },
    {
      "cell_type": "code",
      "metadata": {
        "colab": {
          "base_uri": "https://localhost:8080/"
        },
        "id": "QRnCFKoTxITO",
        "outputId": "aca0d745-da8f-4ce5-c1a3-11087dc61276"
      },
      "source": [
        "X_train.shape, X_valid.shape"
      ],
      "execution_count": null,
      "outputs": [
        {
          "output_type": "execute_result",
          "data": {
            "text/plain": [
              "((50000, 187), (5000, 187))"
            ]
          },
          "metadata": {},
          "execution_count": 32
        }
      ]
    },
    {
      "cell_type": "code",
      "metadata": {
        "colab": {
          "base_uri": "https://localhost:8080/"
        },
        "id": "CorEcQzHze43",
        "outputId": "cc46c207-b265-4e4a-ec79-c7dd3478c774"
      },
      "source": [
        "y_train.shape, y_valid.shape, y_test.shape"
      ],
      "execution_count": null,
      "outputs": [
        {
          "output_type": "execute_result",
          "data": {
            "text/plain": [
              "((50000, 10), (5000, 10), (10000, 10))"
            ]
          },
          "metadata": {},
          "execution_count": 33
        }
      ]
    },
    {
      "cell_type": "code",
      "metadata": {
        "id": "A-XCsmv4w6Xj"
      },
      "source": [
        "from tensorflow import keras\n",
        "\n",
        "keras.backend.clear_session()\n",
        "np.random.seed(42)\n",
        "tf.random.set_seed(42)"
      ],
      "execution_count": null,
      "outputs": []
    },
    {
      "cell_type": "code",
      "metadata": {
        "id": "ywo4XqUaw_s_"
      },
      "source": [
        "def build_model(n_hidden=1, n_neurons=128, learning_rate=3e-3, input_shape=(X_train_reduced.shape[1],)):\n",
        "    model = keras.models.Sequential()\n",
        "    model.add(keras.layers.InputLayer(input_shape=input_shape))\n",
        "    for layer in range(n_hidden):\n",
        "        # fill in code\n",
        "        model.add(keras.layers.Dense(n_neurons, activation=\"relu\"))\n",
        "    # fill in code\n",
        "    model.add(layers.Dense(10, activation='softmax'))\n",
        "    optimizer = keras.optimizers.SGD(learning_rate=learning_rate)\n",
        "    model.compile(optimizer='rmsprop',\n",
        "                  # fill in code\n",
        "                loss='categorical_crossentropy',\n",
        "                metrics=['accuracy'])\n",
        "\n",
        "    return model"
      ],
      "execution_count": null,
      "outputs": []
    },
    {
      "cell_type": "code",
      "source": [
        "from tensorflow import keras\n",
        "from sklearn.base import BaseEstimator, RegressorMixin\n",
        "\n",
        "# Modify the KerasRegressorWrapper class to accept hyperparameters\n",
        "class KerasRegressorWrapper(BaseEstimator, RegressorMixin):\n",
        "    def __init__(self, n_hidden=1, n_neurons=200, learning_rate=1e-3):\n",
        "        self.n_hidden = n_hidden\n",
        "        self.n_neurons = n_neurons\n",
        "        self.learning_rate = learning_rate\n",
        "\n",
        "    def fit(self, X, y, **kwargs):\n",
        "        self.model = build_model(self.n_hidden, self.n_neurons, self.learning_rate)\n",
        "        self.model.fit(X, y, **kwargs)\n",
        "        return self\n",
        "\n",
        "    def predict(self, X):\n",
        "        return self.model.predict(X)\n",
        "\n",
        "# Create an instance of the KerasRegressorWrapper\n",
        "keras_reg = KerasRegressorWrapper()\n"
      ],
      "metadata": {
        "id": "A-zC5-boW5gT"
      },
      "execution_count": null,
      "outputs": []
    },
    {
      "cell_type": "code",
      "metadata": {
        "colab": {
          "base_uri": "https://localhost:8080/",
          "height": 631
        },
        "id": "1UhjO3znyDmj",
        "outputId": "9bdce710-c100-444c-d810-ad55827d2b8e"
      },
      "source": [
        "keras_reg.fit(X_train, y_train, epochs=100,\n",
        "              # fill in code\n",
        "              validation_data=( X_valid,y_valid ),\n",
        "              callbacks=[keras.callbacks.EarlyStopping(patience=10)])"
      ],
      "execution_count": null,
      "outputs": [
        {
          "output_type": "stream",
          "name": "stdout",
          "text": [
            "Epoch 1/100\n",
            "1563/1563 [==============================] - 4s 2ms/step - loss: 0.4494 - accuracy: 0.8464 - val_loss: 0.3601 - val_accuracy: 0.8700\n",
            "Epoch 2/100\n",
            "1563/1563 [==============================] - 4s 2ms/step - loss: 0.3114 - accuracy: 0.8888 - val_loss: 0.3186 - val_accuracy: 0.8858\n",
            "Epoch 3/100\n",
            "1563/1563 [==============================] - 3s 2ms/step - loss: 0.2689 - accuracy: 0.9035 - val_loss: 0.3105 - val_accuracy: 0.8904\n",
            "Epoch 4/100\n",
            "1563/1563 [==============================] - 3s 2ms/step - loss: 0.2391 - accuracy: 0.9145 - val_loss: 0.3085 - val_accuracy: 0.8888\n",
            "Epoch 5/100\n",
            "1563/1563 [==============================] - 4s 3ms/step - loss: 0.2145 - accuracy: 0.9232 - val_loss: 0.3007 - val_accuracy: 0.8922\n",
            "Epoch 6/100\n",
            "1563/1563 [==============================] - 4s 3ms/step - loss: 0.1938 - accuracy: 0.9311 - val_loss: 0.3043 - val_accuracy: 0.8936\n",
            "Epoch 7/100\n",
            "1563/1563 [==============================] - 3s 2ms/step - loss: 0.1755 - accuracy: 0.9378 - val_loss: 0.3095 - val_accuracy: 0.8956\n",
            "Epoch 8/100\n",
            "1563/1563 [==============================] - 3s 2ms/step - loss: 0.1600 - accuracy: 0.9436 - val_loss: 0.3116 - val_accuracy: 0.8958\n",
            "Epoch 9/100\n",
            "1563/1563 [==============================] - 3s 2ms/step - loss: 0.1450 - accuracy: 0.9492 - val_loss: 0.3347 - val_accuracy: 0.8922\n",
            "Epoch 10/100\n",
            "1563/1563 [==============================] - 3s 2ms/step - loss: 0.1324 - accuracy: 0.9543 - val_loss: 0.3353 - val_accuracy: 0.8900\n",
            "Epoch 11/100\n",
            "1563/1563 [==============================] - 3s 2ms/step - loss: 0.1209 - accuracy: 0.9583 - val_loss: 0.3536 - val_accuracy: 0.8930\n",
            "Epoch 12/100\n",
            "1563/1563 [==============================] - 3s 2ms/step - loss: 0.1109 - accuracy: 0.9616 - val_loss: 0.3651 - val_accuracy: 0.8906\n",
            "Epoch 13/100\n",
            "1563/1563 [==============================] - 3s 2ms/step - loss: 0.1007 - accuracy: 0.9663 - val_loss: 0.3651 - val_accuracy: 0.8920\n",
            "Epoch 14/100\n",
            "1563/1563 [==============================] - 4s 2ms/step - loss: 0.0930 - accuracy: 0.9682 - val_loss: 0.3871 - val_accuracy: 0.8928\n",
            "Epoch 15/100\n",
            "1563/1563 [==============================] - 3s 2ms/step - loss: 0.0835 - accuracy: 0.9726 - val_loss: 0.4029 - val_accuracy: 0.8920\n"
          ]
        },
        {
          "output_type": "execute_result",
          "data": {
            "text/plain": [
              "KerasRegressorWrapper()"
            ],
            "text/html": [
              "<style>#sk-container-id-1 {color: black;background-color: white;}#sk-container-id-1 pre{padding: 0;}#sk-container-id-1 div.sk-toggleable {background-color: white;}#sk-container-id-1 label.sk-toggleable__label {cursor: pointer;display: block;width: 100%;margin-bottom: 0;padding: 0.3em;box-sizing: border-box;text-align: center;}#sk-container-id-1 label.sk-toggleable__label-arrow:before {content: \"▸\";float: left;margin-right: 0.25em;color: #696969;}#sk-container-id-1 label.sk-toggleable__label-arrow:hover:before {color: black;}#sk-container-id-1 div.sk-estimator:hover label.sk-toggleable__label-arrow:before {color: black;}#sk-container-id-1 div.sk-toggleable__content {max-height: 0;max-width: 0;overflow: hidden;text-align: left;background-color: #f0f8ff;}#sk-container-id-1 div.sk-toggleable__content pre {margin: 0.2em;color: black;border-radius: 0.25em;background-color: #f0f8ff;}#sk-container-id-1 input.sk-toggleable__control:checked~div.sk-toggleable__content {max-height: 200px;max-width: 100%;overflow: auto;}#sk-container-id-1 input.sk-toggleable__control:checked~label.sk-toggleable__label-arrow:before {content: \"▾\";}#sk-container-id-1 div.sk-estimator input.sk-toggleable__control:checked~label.sk-toggleable__label {background-color: #d4ebff;}#sk-container-id-1 div.sk-label input.sk-toggleable__control:checked~label.sk-toggleable__label {background-color: #d4ebff;}#sk-container-id-1 input.sk-hidden--visually {border: 0;clip: rect(1px 1px 1px 1px);clip: rect(1px, 1px, 1px, 1px);height: 1px;margin: -1px;overflow: hidden;padding: 0;position: absolute;width: 1px;}#sk-container-id-1 div.sk-estimator {font-family: monospace;background-color: #f0f8ff;border: 1px dotted black;border-radius: 0.25em;box-sizing: border-box;margin-bottom: 0.5em;}#sk-container-id-1 div.sk-estimator:hover {background-color: #d4ebff;}#sk-container-id-1 div.sk-parallel-item::after {content: \"\";width: 100%;border-bottom: 1px solid gray;flex-grow: 1;}#sk-container-id-1 div.sk-label:hover label.sk-toggleable__label {background-color: #d4ebff;}#sk-container-id-1 div.sk-serial::before {content: \"\";position: absolute;border-left: 1px solid gray;box-sizing: border-box;top: 0;bottom: 0;left: 50%;z-index: 0;}#sk-container-id-1 div.sk-serial {display: flex;flex-direction: column;align-items: center;background-color: white;padding-right: 0.2em;padding-left: 0.2em;position: relative;}#sk-container-id-1 div.sk-item {position: relative;z-index: 1;}#sk-container-id-1 div.sk-parallel {display: flex;align-items: stretch;justify-content: center;background-color: white;position: relative;}#sk-container-id-1 div.sk-item::before, #sk-container-id-1 div.sk-parallel-item::before {content: \"\";position: absolute;border-left: 1px solid gray;box-sizing: border-box;top: 0;bottom: 0;left: 50%;z-index: -1;}#sk-container-id-1 div.sk-parallel-item {display: flex;flex-direction: column;z-index: 1;position: relative;background-color: white;}#sk-container-id-1 div.sk-parallel-item:first-child::after {align-self: flex-end;width: 50%;}#sk-container-id-1 div.sk-parallel-item:last-child::after {align-self: flex-start;width: 50%;}#sk-container-id-1 div.sk-parallel-item:only-child::after {width: 0;}#sk-container-id-1 div.sk-dashed-wrapped {border: 1px dashed gray;margin: 0 0.4em 0.5em 0.4em;box-sizing: border-box;padding-bottom: 0.4em;background-color: white;}#sk-container-id-1 div.sk-label label {font-family: monospace;font-weight: bold;display: inline-block;line-height: 1.2em;}#sk-container-id-1 div.sk-label-container {text-align: center;}#sk-container-id-1 div.sk-container {/* jupyter's `normalize.less` sets `[hidden] { display: none; }` but bootstrap.min.css set `[hidden] { display: none !important; }` so we also need the `!important` here to be able to override the default hidden behavior on the sphinx rendered scikit-learn.org. See: https://github.com/scikit-learn/scikit-learn/issues/21755 */display: inline-block !important;position: relative;}#sk-container-id-1 div.sk-text-repr-fallback {display: none;}</style><div id=\"sk-container-id-1\" class=\"sk-top-container\"><div class=\"sk-text-repr-fallback\"><pre>KerasRegressorWrapper()</pre><b>In a Jupyter environment, please rerun this cell to show the HTML representation or trust the notebook. <br />On GitHub, the HTML representation is unable to render, please try loading this page with nbviewer.org.</b></div><div class=\"sk-container\" hidden><div class=\"sk-item\"><div class=\"sk-estimator sk-toggleable\"><input class=\"sk-toggleable__control sk-hidden--visually\" id=\"sk-estimator-id-1\" type=\"checkbox\" checked><label for=\"sk-estimator-id-1\" class=\"sk-toggleable__label sk-toggleable__label-arrow\">KerasRegressorWrapper</label><div class=\"sk-toggleable__content\"><pre>KerasRegressorWrapper()</pre></div></div></div></div></div>"
            ]
          },
          "metadata": {},
          "execution_count": 37
        }
      ]
    },
    {
      "cell_type": "code",
      "metadata": {
        "colab": {
          "base_uri": "https://localhost:8080/",
          "height": 726
        },
        "id": "xVrlNWlevp-s",
        "outputId": "74614cbf-6884-4d2f-d7d3-f43283cc6b61"
      },
      "source": [
        "from scipy.stats import reciprocal\n",
        "from sklearn.model_selection import RandomizedSearchCV\n",
        "\n",
        "param_distribs = {\n",
        "    # fill in code\n",
        "    \"n_hidden\": [ 1, 2 ],\n",
        "    \"n_neurons\": np.arange(200 , 500)\n",
        "}\n",
        "\n",
        "rnd_search_cv = RandomizedSearchCV(keras_reg, param_distribs, n_iter=20, cv=3, verbose=2, n_jobs=-1)\n",
        "rnd_search_cv.fit(X_train, y_train, epochs=100,\n",
        "                  # fill in code\n",
        "                  validation_data=( X_valid , y_valid ),\n",
        "                  callbacks=[keras.callbacks.EarlyStopping(patience=10)])"
      ],
      "execution_count": null,
      "outputs": [
        {
          "output_type": "stream",
          "name": "stdout",
          "text": [
            "Fitting 3 folds for each of 20 candidates, totalling 60 fits\n"
          ]
        },
        {
          "output_type": "stream",
          "name": "stderr",
          "text": [
            "/usr/local/lib/python3.10/dist-packages/joblib/externals/loky/process_executor.py:752: UserWarning: A worker stopped while some jobs were given to the executor. This can be caused by a too short worker timeout or by a memory leak.\n",
            "  warnings.warn(\n"
          ]
        },
        {
          "output_type": "stream",
          "name": "stdout",
          "text": [
            "Epoch 1/100\n",
            "1563/1563 [==============================] - 5s 3ms/step - loss: 0.4292 - accuracy: 0.8517 - val_loss: 0.3514 - val_accuracy: 0.8736\n",
            "Epoch 2/100\n",
            "1563/1563 [==============================] - 4s 2ms/step - loss: 0.3016 - accuracy: 0.8924 - val_loss: 0.3123 - val_accuracy: 0.8872\n",
            "Epoch 3/100\n",
            "1563/1563 [==============================] - 5s 3ms/step - loss: 0.2572 - accuracy: 0.9079 - val_loss: 0.3061 - val_accuracy: 0.8902\n",
            "Epoch 4/100\n",
            "1563/1563 [==============================] - 4s 2ms/step - loss: 0.2256 - accuracy: 0.9203 - val_loss: 0.3036 - val_accuracy: 0.8918\n",
            "Epoch 5/100\n",
            "1563/1563 [==============================] - 4s 2ms/step - loss: 0.1987 - accuracy: 0.9291 - val_loss: 0.2980 - val_accuracy: 0.8964\n",
            "Epoch 6/100\n",
            "1563/1563 [==============================] - 6s 4ms/step - loss: 0.1755 - accuracy: 0.9380 - val_loss: 0.3048 - val_accuracy: 0.8960\n",
            "Epoch 7/100\n",
            "1563/1563 [==============================] - 4s 2ms/step - loss: 0.1561 - accuracy: 0.9461 - val_loss: 0.3153 - val_accuracy: 0.8946\n",
            "Epoch 8/100\n",
            "1563/1563 [==============================] - 3s 2ms/step - loss: 0.1389 - accuracy: 0.9515 - val_loss: 0.3128 - val_accuracy: 0.8964\n",
            "Epoch 9/100\n",
            "1563/1563 [==============================] - 4s 3ms/step - loss: 0.1226 - accuracy: 0.9584 - val_loss: 0.3478 - val_accuracy: 0.8890\n",
            "Epoch 10/100\n",
            "1563/1563 [==============================] - 4s 3ms/step - loss: 0.1079 - accuracy: 0.9631 - val_loss: 0.3496 - val_accuracy: 0.8900\n",
            "Epoch 11/100\n",
            "1563/1563 [==============================] - 4s 2ms/step - loss: 0.0959 - accuracy: 0.9683 - val_loss: 0.3778 - val_accuracy: 0.8910\n",
            "Epoch 12/100\n",
            "1563/1563 [==============================] - 4s 2ms/step - loss: 0.0852 - accuracy: 0.9720 - val_loss: 0.3876 - val_accuracy: 0.8902\n",
            "Epoch 13/100\n",
            "1563/1563 [==============================] - 5s 3ms/step - loss: 0.0749 - accuracy: 0.9756 - val_loss: 0.3956 - val_accuracy: 0.8918\n",
            "Epoch 14/100\n",
            "1563/1563 [==============================] - 4s 2ms/step - loss: 0.0663 - accuracy: 0.9781 - val_loss: 0.4279 - val_accuracy: 0.8888\n",
            "Epoch 15/100\n",
            "1563/1563 [==============================] - 4s 2ms/step - loss: 0.0578 - accuracy: 0.9819 - val_loss: 0.4449 - val_accuracy: 0.8882\n"
          ]
        },
        {
          "output_type": "execute_result",
          "data": {
            "text/plain": [
              "RandomizedSearchCV(cv=3, estimator=KerasRegressorWrapper(), n_iter=20,\n",
              "                   n_jobs=-1,\n",
              "                   param_distributions={'n_hidden': [1, 2],\n",
              "                                        'n_neurons': array([200, 201, 202, 203, 204, 205, 206, 207, 208, 209, 210, 211, 212,\n",
              "       213, 214, 215, 216, 217, 218, 219, 220, 221, 222, 223, 224, 225,\n",
              "       226, 227, 228, 229, 230, 231, 232, 233, 234, 235, 236, 237, 238,\n",
              "       239, 240, 241, 242, 243, 244, 245, 246, 247, 248, 249, 250, 251,\n",
              "       252, 253...\n",
              "       408, 409, 410, 411, 412, 413, 414, 415, 416, 417, 418, 419, 420,\n",
              "       421, 422, 423, 424, 425, 426, 427, 428, 429, 430, 431, 432, 433,\n",
              "       434, 435, 436, 437, 438, 439, 440, 441, 442, 443, 444, 445, 446,\n",
              "       447, 448, 449, 450, 451, 452, 453, 454, 455, 456, 457, 458, 459,\n",
              "       460, 461, 462, 463, 464, 465, 466, 467, 468, 469, 470, 471, 472,\n",
              "       473, 474, 475, 476, 477, 478, 479, 480, 481, 482, 483, 484, 485,\n",
              "       486, 487, 488, 489, 490, 491, 492, 493, 494, 495, 496, 497, 498,\n",
              "       499])},\n",
              "                   verbose=2)"
            ],
            "text/html": [
              "<style>#sk-container-id-2 {color: black;background-color: white;}#sk-container-id-2 pre{padding: 0;}#sk-container-id-2 div.sk-toggleable {background-color: white;}#sk-container-id-2 label.sk-toggleable__label {cursor: pointer;display: block;width: 100%;margin-bottom: 0;padding: 0.3em;box-sizing: border-box;text-align: center;}#sk-container-id-2 label.sk-toggleable__label-arrow:before {content: \"▸\";float: left;margin-right: 0.25em;color: #696969;}#sk-container-id-2 label.sk-toggleable__label-arrow:hover:before {color: black;}#sk-container-id-2 div.sk-estimator:hover label.sk-toggleable__label-arrow:before {color: black;}#sk-container-id-2 div.sk-toggleable__content {max-height: 0;max-width: 0;overflow: hidden;text-align: left;background-color: #f0f8ff;}#sk-container-id-2 div.sk-toggleable__content pre {margin: 0.2em;color: black;border-radius: 0.25em;background-color: #f0f8ff;}#sk-container-id-2 input.sk-toggleable__control:checked~div.sk-toggleable__content {max-height: 200px;max-width: 100%;overflow: auto;}#sk-container-id-2 input.sk-toggleable__control:checked~label.sk-toggleable__label-arrow:before {content: \"▾\";}#sk-container-id-2 div.sk-estimator input.sk-toggleable__control:checked~label.sk-toggleable__label {background-color: #d4ebff;}#sk-container-id-2 div.sk-label input.sk-toggleable__control:checked~label.sk-toggleable__label {background-color: #d4ebff;}#sk-container-id-2 input.sk-hidden--visually {border: 0;clip: rect(1px 1px 1px 1px);clip: rect(1px, 1px, 1px, 1px);height: 1px;margin: -1px;overflow: hidden;padding: 0;position: absolute;width: 1px;}#sk-container-id-2 div.sk-estimator {font-family: monospace;background-color: #f0f8ff;border: 1px dotted black;border-radius: 0.25em;box-sizing: border-box;margin-bottom: 0.5em;}#sk-container-id-2 div.sk-estimator:hover {background-color: #d4ebff;}#sk-container-id-2 div.sk-parallel-item::after {content: \"\";width: 100%;border-bottom: 1px solid gray;flex-grow: 1;}#sk-container-id-2 div.sk-label:hover label.sk-toggleable__label {background-color: #d4ebff;}#sk-container-id-2 div.sk-serial::before {content: \"\";position: absolute;border-left: 1px solid gray;box-sizing: border-box;top: 0;bottom: 0;left: 50%;z-index: 0;}#sk-container-id-2 div.sk-serial {display: flex;flex-direction: column;align-items: center;background-color: white;padding-right: 0.2em;padding-left: 0.2em;position: relative;}#sk-container-id-2 div.sk-item {position: relative;z-index: 1;}#sk-container-id-2 div.sk-parallel {display: flex;align-items: stretch;justify-content: center;background-color: white;position: relative;}#sk-container-id-2 div.sk-item::before, #sk-container-id-2 div.sk-parallel-item::before {content: \"\";position: absolute;border-left: 1px solid gray;box-sizing: border-box;top: 0;bottom: 0;left: 50%;z-index: -1;}#sk-container-id-2 div.sk-parallel-item {display: flex;flex-direction: column;z-index: 1;position: relative;background-color: white;}#sk-container-id-2 div.sk-parallel-item:first-child::after {align-self: flex-end;width: 50%;}#sk-container-id-2 div.sk-parallel-item:last-child::after {align-self: flex-start;width: 50%;}#sk-container-id-2 div.sk-parallel-item:only-child::after {width: 0;}#sk-container-id-2 div.sk-dashed-wrapped {border: 1px dashed gray;margin: 0 0.4em 0.5em 0.4em;box-sizing: border-box;padding-bottom: 0.4em;background-color: white;}#sk-container-id-2 div.sk-label label {font-family: monospace;font-weight: bold;display: inline-block;line-height: 1.2em;}#sk-container-id-2 div.sk-label-container {text-align: center;}#sk-container-id-2 div.sk-container {/* jupyter's `normalize.less` sets `[hidden] { display: none; }` but bootstrap.min.css set `[hidden] { display: none !important; }` so we also need the `!important` here to be able to override the default hidden behavior on the sphinx rendered scikit-learn.org. See: https://github.com/scikit-learn/scikit-learn/issues/21755 */display: inline-block !important;position: relative;}#sk-container-id-2 div.sk-text-repr-fallback {display: none;}</style><div id=\"sk-container-id-2\" class=\"sk-top-container\"><div class=\"sk-text-repr-fallback\"><pre>RandomizedSearchCV(cv=3, estimator=KerasRegressorWrapper(), n_iter=20,\n",
              "                   n_jobs=-1,\n",
              "                   param_distributions={&#x27;n_hidden&#x27;: [1, 2],\n",
              "                                        &#x27;n_neurons&#x27;: array([200, 201, 202, 203, 204, 205, 206, 207, 208, 209, 210, 211, 212,\n",
              "       213, 214, 215, 216, 217, 218, 219, 220, 221, 222, 223, 224, 225,\n",
              "       226, 227, 228, 229, 230, 231, 232, 233, 234, 235, 236, 237, 238,\n",
              "       239, 240, 241, 242, 243, 244, 245, 246, 247, 248, 249, 250, 251,\n",
              "       252, 253...\n",
              "       408, 409, 410, 411, 412, 413, 414, 415, 416, 417, 418, 419, 420,\n",
              "       421, 422, 423, 424, 425, 426, 427, 428, 429, 430, 431, 432, 433,\n",
              "       434, 435, 436, 437, 438, 439, 440, 441, 442, 443, 444, 445, 446,\n",
              "       447, 448, 449, 450, 451, 452, 453, 454, 455, 456, 457, 458, 459,\n",
              "       460, 461, 462, 463, 464, 465, 466, 467, 468, 469, 470, 471, 472,\n",
              "       473, 474, 475, 476, 477, 478, 479, 480, 481, 482, 483, 484, 485,\n",
              "       486, 487, 488, 489, 490, 491, 492, 493, 494, 495, 496, 497, 498,\n",
              "       499])},\n",
              "                   verbose=2)</pre><b>In a Jupyter environment, please rerun this cell to show the HTML representation or trust the notebook. <br />On GitHub, the HTML representation is unable to render, please try loading this page with nbviewer.org.</b></div><div class=\"sk-container\" hidden><div class=\"sk-item sk-dashed-wrapped\"><div class=\"sk-label-container\"><div class=\"sk-label sk-toggleable\"><input class=\"sk-toggleable__control sk-hidden--visually\" id=\"sk-estimator-id-2\" type=\"checkbox\" ><label for=\"sk-estimator-id-2\" class=\"sk-toggleable__label sk-toggleable__label-arrow\">RandomizedSearchCV</label><div class=\"sk-toggleable__content\"><pre>RandomizedSearchCV(cv=3, estimator=KerasRegressorWrapper(), n_iter=20,\n",
              "                   n_jobs=-1,\n",
              "                   param_distributions={&#x27;n_hidden&#x27;: [1, 2],\n",
              "                                        &#x27;n_neurons&#x27;: array([200, 201, 202, 203, 204, 205, 206, 207, 208, 209, 210, 211, 212,\n",
              "       213, 214, 215, 216, 217, 218, 219, 220, 221, 222, 223, 224, 225,\n",
              "       226, 227, 228, 229, 230, 231, 232, 233, 234, 235, 236, 237, 238,\n",
              "       239, 240, 241, 242, 243, 244, 245, 246, 247, 248, 249, 250, 251,\n",
              "       252, 253...\n",
              "       408, 409, 410, 411, 412, 413, 414, 415, 416, 417, 418, 419, 420,\n",
              "       421, 422, 423, 424, 425, 426, 427, 428, 429, 430, 431, 432, 433,\n",
              "       434, 435, 436, 437, 438, 439, 440, 441, 442, 443, 444, 445, 446,\n",
              "       447, 448, 449, 450, 451, 452, 453, 454, 455, 456, 457, 458, 459,\n",
              "       460, 461, 462, 463, 464, 465, 466, 467, 468, 469, 470, 471, 472,\n",
              "       473, 474, 475, 476, 477, 478, 479, 480, 481, 482, 483, 484, 485,\n",
              "       486, 487, 488, 489, 490, 491, 492, 493, 494, 495, 496, 497, 498,\n",
              "       499])},\n",
              "                   verbose=2)</pre></div></div></div><div class=\"sk-parallel\"><div class=\"sk-parallel-item\"><div class=\"sk-item\"><div class=\"sk-label-container\"><div class=\"sk-label sk-toggleable\"><input class=\"sk-toggleable__control sk-hidden--visually\" id=\"sk-estimator-id-3\" type=\"checkbox\" ><label for=\"sk-estimator-id-3\" class=\"sk-toggleable__label sk-toggleable__label-arrow\">estimator: KerasRegressorWrapper</label><div class=\"sk-toggleable__content\"><pre>KerasRegressorWrapper()</pre></div></div></div><div class=\"sk-serial\"><div class=\"sk-item\"><div class=\"sk-estimator sk-toggleable\"><input class=\"sk-toggleable__control sk-hidden--visually\" id=\"sk-estimator-id-4\" type=\"checkbox\" ><label for=\"sk-estimator-id-4\" class=\"sk-toggleable__label sk-toggleable__label-arrow\">KerasRegressorWrapper</label><div class=\"sk-toggleable__content\"><pre>KerasRegressorWrapper()</pre></div></div></div></div></div></div></div></div></div></div>"
            ]
          },
          "metadata": {},
          "execution_count": 38
        }
      ]
    },
    {
      "cell_type": "code",
      "metadata": {
        "colab": {
          "base_uri": "https://localhost:8080/"
        },
        "id": "QWG2mB-hxzES",
        "outputId": "f2bf51fa-eaac-44dc-84be-a28d9410d6e5"
      },
      "source": [
        "rnd_search_cv.best_params_"
      ],
      "execution_count": null,
      "outputs": [
        {
          "output_type": "execute_result",
          "data": {
            "text/plain": [
              "{'n_neurons': 286, 'n_hidden': 1}"
            ]
          },
          "metadata": {},
          "execution_count": 39
        }
      ]
    },
    {
      "cell_type": "markdown",
      "metadata": {
        "id": "y0_HYPGoN10B"
      },
      "source": [
        "Show the summary of the best model obtained from the randomized search. Report the test result using the best model, and compare this result with the previous results. (20 points)"
      ]
    },
    {
      "cell_type": "code",
      "metadata": {
        "colab": {
          "base_uri": "https://localhost:8080/"
        },
        "id": "tPJiZp7RBmXS",
        "outputId": "becba0df-b9a6-4c9f-ebe4-2af1d6ffdaf6"
      },
      "source": [
        "# fill in code\n",
        "model = rnd_search_cv.best_estimator_.model\n",
        "model.summary()"
      ],
      "execution_count": null,
      "outputs": [
        {
          "output_type": "stream",
          "name": "stdout",
          "text": [
            "Model: \"sequential_1\"\n",
            "_________________________________________________________________\n",
            " Layer (type)                Output Shape              Param #   \n",
            "=================================================================\n",
            " dense_2 (Dense)             (None, 286)               53768     \n",
            "                                                                 \n",
            " dense_3 (Dense)             (None, 10)                2870      \n",
            "                                                                 \n",
            "=================================================================\n",
            "Total params: 56638 (221.24 KB)\n",
            "Trainable params: 56638 (221.24 KB)\n",
            "Non-trainable params: 0 (0.00 Byte)\n",
            "_________________________________________________________________\n"
          ]
        }
      ]
    },
    {
      "cell_type": "code",
      "metadata": {
        "colab": {
          "base_uri": "https://localhost:8080/"
        },
        "id": "TgSJ04SmFgU_",
        "outputId": "24df547a-3e03-4697-9a95-581ef98c521a"
      },
      "source": [
        "model.evaluate(X_test_reduced, y_test)"
      ],
      "execution_count": null,
      "outputs": [
        {
          "output_type": "stream",
          "name": "stdout",
          "text": [
            "313/313 [==============================] - 1s 2ms/step - loss: 0.4731 - accuracy: 0.8880\n"
          ]
        },
        {
          "output_type": "execute_result",
          "data": {
            "text/plain": [
              "[0.4731125831604004, 0.8880000114440918]"
            ]
          },
          "metadata": {},
          "execution_count": 41
        }
      ]
    },
    {
      "cell_type": "markdown",
      "metadata": {
        "id": "dK9r9skZOGBP"
      },
      "source": [
        "The result from the randomized search ..."
      ]
    }
  ]
}