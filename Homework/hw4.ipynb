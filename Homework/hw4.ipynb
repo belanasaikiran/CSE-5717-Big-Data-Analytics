{
  "nbformat": 4,
  "nbformat_minor": 0,
  "metadata": {
    "kernelspec": {
      "display_name": "Python 3",
      "name": "python3"
    },
    "language_info": {
      "codemirror_mode": {
        "name": "ipython",
        "version": 3
      },
      "file_extension": ".py",
      "mimetype": "text/x-python",
      "name": "python",
      "nbconvert_exporter": "python",
      "pygments_lexer": "ipython3",
      "version": "3.6.1"
    },
    "colab": {
      "provenance": [],
      "gpuType": "T4"
    },
    "accelerator": "GPU"
  },
  "cells": [
    {
      "cell_type": "markdown",
      "metadata": {
        "id": "fcM2-IAEr9r_"
      },
      "source": [
        "Fashion-MNIST is a dataset of Zalando's article images—consisting of a training set of 60,000 examples and a test set of 10,000 examples. Each example is a 28x28 grayscale image, associated with a label from 10 classes.  "
      ]
    },
    {
      "cell_type": "markdown",
      "metadata": {
        "id": "_fo1BKg2sATz"
      },
      "source": [
        "In this assignment, we\n",
        "- build a MLP classifier for the Fashion-MNIST dataset.\n",
        "- use PCA to reduce the dimensionality of the dataset, and make sure we preserve 95% of the explained variance. (20 points)\n",
        "- train a classifier using the dimensionality reduced dataset with the same network toplogy as the previous classfier,  and compare the classification accuracy result with the one using the original dataset. (10 points)\n",
        "- check whether we observe anything surprising. (10 points)\n",
        "- follow and improve the example from the text to fine tune the neural network hyperparameters using RandomizedSearchCV. Note to use the dataset after the PCA step. This will make the search less time consuming. (40 points)\n",
        "- report the test result using the best model obtained from the randomized search. Show the summary of the model. Compare this result with the previous results. (20 points)"
      ]
    },
    {
      "cell_type": "code",
      "metadata": {
        "collapsed": true,
        "id": "mgaxd3XPmqtj"
      },
      "source": [
        "import numpy as np\n",
        "import os\n",
        "\n",
        "# To plot pretty figures\n",
        "%matplotlib inline\n",
        "import matplotlib\n",
        "import matplotlib.pyplot as plt\n",
        "plt.rcParams['axes.labelsize'] = 14\n",
        "plt.rcParams['xtick.labelsize'] = 12\n",
        "plt.rcParams['ytick.labelsize'] = 12"
      ],
      "execution_count": 163,
      "outputs": []
    },
    {
      "cell_type": "markdown",
      "metadata": {
        "id": "D2pPMy5tshtB"
      },
      "source": [
        "Read the data."
      ]
    },
    {
      "cell_type": "code",
      "metadata": {
        "collapsed": true,
        "id": "xbgSB7d9mqtl"
      },
      "source": [
        "import tensorflow as tf\n",
        "fashion_mnist = tf.keras.datasets.fashion_mnist\n",
        "(X_train_full, y_train_full), (X_test, y_test) = fashion_mnist.load_data()"
      ],
      "execution_count": 164,
      "outputs": []
    },
    {
      "cell_type": "markdown",
      "metadata": {
        "id": "YCt6FpnysoUu"
      },
      "source": [
        "Set random seeds."
      ]
    },
    {
      "cell_type": "code",
      "metadata": {
        "id": "a2jLrBUs6Kda"
      },
      "source": [
        "np.random.seed(42)\n",
        "tf.random.set_seed(42)"
      ],
      "execution_count": 165,
      "outputs": []
    },
    {
      "cell_type": "code",
      "metadata": {
        "id": "m1eEiOeUmqtl"
      },
      "source": [
        "from keras import models\n",
        "from keras import layers\n",
        "\n",
        "network = models.Sequential()\n",
        "network.add(layers.Dense(64, activation='relu', input_shape=(28 * 28,)))\n",
        "network.add(layers.Dense(10, activation='softmax'))"
      ],
      "execution_count": 166,
      "outputs": []
    },
    {
      "cell_type": "code",
      "metadata": {
        "collapsed": true,
        "id": "DmTFk8lNmqtl"
      },
      "source": [
        "network.compile(optimizer='rmsprop',\n",
        "                loss='categorical_crossentropy',\n",
        "                metrics=['accuracy'])"
      ],
      "execution_count": 167,
      "outputs": []
    },
    {
      "cell_type": "code",
      "metadata": {
        "collapsed": true,
        "id": "fgGewtAHmqtl"
      },
      "source": [
        "X_train_full = X_train_full.reshape((60000, 28 * 28))\n",
        "X_train_full = X_train_full.astype('float32') / 255\n",
        "\n",
        "X_test = X_test.reshape((10000, 28 * 28))\n",
        "X_test = X_test.astype('float32') / 255"
      ],
      "execution_count": 168,
      "outputs": []
    },
    {
      "cell_type": "code",
      "metadata": {
        "collapsed": true,
        "id": "cvMjBoR_mqtm"
      },
      "source": [
        "from tensorflow.keras.utils import to_categorical\n",
        "\n",
        "y_train_full = to_categorical(y_train_full)\n",
        "y_test = to_categorical(y_test)"
      ],
      "execution_count": 169,
      "outputs": []
    },
    {
      "cell_type": "code",
      "metadata": {
        "id": "Rc0oAXPt7iO7"
      },
      "source": [
        "X_valid = X_train_full[:5000]\n",
        "y_valid = y_train_full[:5000]\n",
        "X_train = X_train_full[5000:]\n",
        "y_train = y_train_full[5000:]"
      ],
      "execution_count": 170,
      "outputs": []
    },
    {
      "cell_type": "code",
      "metadata": {
        "colab": {
          "base_uri": "https://localhost:8080/"
        },
        "id": "V3qWRp4Mmqtm",
        "outputId": "0c9386b4-58d9-4292-9046-4e8c77594114"
      },
      "source": [
        "network.fit(X_train, y_train, validation_data=(X_valid, y_valid), epochs=20, batch_size=128)"
      ],
      "execution_count": 171,
      "outputs": [
        {
          "output_type": "stream",
          "name": "stdout",
          "text": [
            "Epoch 1/20\n",
            "430/430 [==============================] - 2s 4ms/step - loss: 0.6110 - accuracy: 0.7890 - val_loss: 0.4479 - val_accuracy: 0.8508\n",
            "Epoch 2/20\n",
            "430/430 [==============================] - 1s 3ms/step - loss: 0.4438 - accuracy: 0.8441 - val_loss: 0.3987 - val_accuracy: 0.8648\n",
            "Epoch 3/20\n",
            "430/430 [==============================] - 1s 3ms/step - loss: 0.3999 - accuracy: 0.8566 - val_loss: 0.4019 - val_accuracy: 0.8560\n",
            "Epoch 4/20\n",
            "430/430 [==============================] - 1s 3ms/step - loss: 0.3713 - accuracy: 0.8674 - val_loss: 0.3754 - val_accuracy: 0.8616\n",
            "Epoch 5/20\n",
            "430/430 [==============================] - 1s 3ms/step - loss: 0.3528 - accuracy: 0.8731 - val_loss: 0.3531 - val_accuracy: 0.8754\n",
            "Epoch 6/20\n",
            "430/430 [==============================] - 1s 3ms/step - loss: 0.3355 - accuracy: 0.8788 - val_loss: 0.3412 - val_accuracy: 0.8810\n",
            "Epoch 7/20\n",
            "430/430 [==============================] - 1s 3ms/step - loss: 0.3222 - accuracy: 0.8836 - val_loss: 0.3387 - val_accuracy: 0.8820\n",
            "Epoch 8/20\n",
            "430/430 [==============================] - 1s 3ms/step - loss: 0.3118 - accuracy: 0.8873 - val_loss: 0.3492 - val_accuracy: 0.8736\n",
            "Epoch 9/20\n",
            "430/430 [==============================] - 1s 3ms/step - loss: 0.3019 - accuracy: 0.8899 - val_loss: 0.3583 - val_accuracy: 0.8734\n",
            "Epoch 10/20\n",
            "430/430 [==============================] - 2s 4ms/step - loss: 0.2930 - accuracy: 0.8937 - val_loss: 0.3163 - val_accuracy: 0.8870\n",
            "Epoch 11/20\n",
            "430/430 [==============================] - 1s 3ms/step - loss: 0.2857 - accuracy: 0.8957 - val_loss: 0.3244 - val_accuracy: 0.8876\n",
            "Epoch 12/20\n",
            "430/430 [==============================] - 1s 3ms/step - loss: 0.2789 - accuracy: 0.8973 - val_loss: 0.3292 - val_accuracy: 0.8822\n",
            "Epoch 13/20\n",
            "430/430 [==============================] - 1s 3ms/step - loss: 0.2720 - accuracy: 0.9000 - val_loss: 0.3299 - val_accuracy: 0.8892\n",
            "Epoch 14/20\n",
            "430/430 [==============================] - 1s 3ms/step - loss: 0.2673 - accuracy: 0.9028 - val_loss: 0.3279 - val_accuracy: 0.8882\n",
            "Epoch 15/20\n",
            "430/430 [==============================] - 1s 3ms/step - loss: 0.2617 - accuracy: 0.9044 - val_loss: 0.3286 - val_accuracy: 0.8868\n",
            "Epoch 16/20\n",
            "430/430 [==============================] - 1s 3ms/step - loss: 0.2560 - accuracy: 0.9064 - val_loss: 0.3159 - val_accuracy: 0.8880\n",
            "Epoch 17/20\n",
            "430/430 [==============================] - 1s 3ms/step - loss: 0.2503 - accuracy: 0.9073 - val_loss: 0.3699 - val_accuracy: 0.8772\n",
            "Epoch 18/20\n",
            "430/430 [==============================] - 2s 4ms/step - loss: 0.2460 - accuracy: 0.9110 - val_loss: 0.3197 - val_accuracy: 0.8900\n",
            "Epoch 19/20\n",
            "430/430 [==============================] - 2s 4ms/step - loss: 0.2415 - accuracy: 0.9119 - val_loss: 0.3246 - val_accuracy: 0.8866\n",
            "Epoch 20/20\n",
            "430/430 [==============================] - 1s 3ms/step - loss: 0.2368 - accuracy: 0.9131 - val_loss: 0.3504 - val_accuracy: 0.8814\n"
          ]
        },
        {
          "output_type": "execute_result",
          "data": {
            "text/plain": [
              "<keras.src.callbacks.History at 0x7eb8328ccbe0>"
            ]
          },
          "metadata": {},
          "execution_count": 171
        }
      ]
    },
    {
      "cell_type": "code",
      "metadata": {
        "colab": {
          "base_uri": "https://localhost:8080/"
        },
        "id": "5Xx6qeAkmqtn",
        "outputId": "bf9d7fb9-8cb7-44e7-9219-1fd6fcb00b57"
      },
      "source": [
        "test_loss, test_acc = network.evaluate(X_test, y_test)"
      ],
      "execution_count": 172,
      "outputs": [
        {
          "output_type": "stream",
          "name": "stdout",
          "text": [
            "313/313 [==============================] - 1s 2ms/step - loss: 0.3741 - accuracy: 0.8694\n"
          ]
        }
      ]
    },
    {
      "cell_type": "code",
      "metadata": {
        "colab": {
          "base_uri": "https://localhost:8080/"
        },
        "id": "PMXsDkLAmqtn",
        "outputId": "5ef28d68-ac30-4898-a6b0-dc294e9839e2"
      },
      "source": [
        "print('test_acc:', test_acc)"
      ],
      "execution_count": 173,
      "outputs": [
        {
          "output_type": "stream",
          "name": "stdout",
          "text": [
            "test_acc: 0.8694000244140625\n"
          ]
        }
      ]
    },
    {
      "cell_type": "code",
      "source": [
        "test_acc_withoutPCA = test_acc\n",
        "test_acc_withoutPCA"
      ],
      "metadata": {
        "id": "BzjNLyJLnxBI",
        "outputId": "53dc8ca6-f2f7-40d7-df47-55d0741143e2",
        "colab": {
          "base_uri": "https://localhost:8080/"
        }
      },
      "execution_count": 174,
      "outputs": [
        {
          "output_type": "execute_result",
          "data": {
            "text/plain": [
              "0.8694000244140625"
            ]
          },
          "metadata": {},
          "execution_count": 174
        }
      ]
    },
    {
      "cell_type": "markdown",
      "metadata": {
        "id": "asbC4U1Es0tW"
      },
      "source": [
        "Now we read the data again."
      ]
    },
    {
      "cell_type": "code",
      "metadata": {
        "id": "2a3Kfc8Cncm5"
      },
      "source": [
        "import tensorflow as tf\n",
        "fashion_mnist = tf.keras.datasets.fashion_mnist\n",
        "(X_train_full, y_train_full), (X_test, y_test) = fashion_mnist.load_data()"
      ],
      "execution_count": 175,
      "outputs": []
    },
    {
      "cell_type": "markdown",
      "metadata": {
        "id": "iuCvwFnOs6gy"
      },
      "source": [
        "Use the same random seeds."
      ]
    },
    {
      "cell_type": "code",
      "metadata": {
        "id": "ARt6ZZiT6Tw9"
      },
      "source": [
        "np.random.seed(42)\n",
        "tf.random.set_seed(42)"
      ],
      "execution_count": 176,
      "outputs": []
    },
    {
      "cell_type": "code",
      "metadata": {
        "colab": {
          "base_uri": "https://localhost:8080/"
        },
        "id": "6LonsKjvnx-x",
        "outputId": "dc4907b8-b579-40e8-8584-8d3e32c48d3e"
      },
      "source": [
        "X_train_full.shape"
      ],
      "execution_count": 177,
      "outputs": [
        {
          "output_type": "execute_result",
          "data": {
            "text/plain": [
              "(60000, 28, 28)"
            ]
          },
          "metadata": {},
          "execution_count": 177
        }
      ]
    },
    {
      "cell_type": "code",
      "metadata": {
        "colab": {
          "base_uri": "https://localhost:8080/"
        },
        "id": "IXI_ZIUCodOL",
        "outputId": "0a16de80-e0cc-416d-ca1d-8d3f650ece5a"
      },
      "source": [
        "X_test.shape"
      ],
      "execution_count": 178,
      "outputs": [
        {
          "output_type": "execute_result",
          "data": {
            "text/plain": [
              "(10000, 28, 28)"
            ]
          },
          "metadata": {},
          "execution_count": 178
        }
      ]
    },
    {
      "cell_type": "code",
      "metadata": {
        "id": "3DH2Xy3uoQEj"
      },
      "source": [
        "X_train_full = X_train_full.reshape((60000,28*28))\n",
        "X_test = X_test.reshape((10000,28*28))"
      ],
      "execution_count": 179,
      "outputs": []
    },
    {
      "cell_type": "markdown",
      "metadata": {
        "id": "X8riTC7Yv0PR"
      },
      "source": [
        "Conduct fit and transform on X_train_full using PCA. (10 points)"
      ]
    },
    {
      "cell_type": "code",
      "metadata": {
        "collapsed": true,
        "id": "B-2DKELQmqto"
      },
      "source": [
        "from sklearn.decomposition import PCA\n",
        "\n",
        "# fill in code here\n",
        "pca = PCA(n_components=0.95)\n",
        "X_train_reduced_full = pca.fit_transform(X_train_full)"
      ],
      "execution_count": 180,
      "outputs": []
    },
    {
      "cell_type": "markdown",
      "metadata": {
        "id": "tw8GbuuTvh0r"
      },
      "source": [
        "Transform X_test using the PCA. (10 points)"
      ]
    },
    {
      "cell_type": "code",
      "metadata": {
        "collapsed": true,
        "id": "aUYibIgDmqto"
      },
      "source": [
        "# fill in code here\n",
        "X_test_reduced = pca.transform(X_test)"
      ],
      "execution_count": 181,
      "outputs": []
    },
    {
      "cell_type": "markdown",
      "metadata": {
        "id": "fDFMmVY3M6a7"
      },
      "source": [
        "Fill in the input_shape in the following code. (10 points)"
      ]
    },
    {
      "cell_type": "code",
      "metadata": {
        "collapsed": true,
        "id": "abVjqR_5mqto"
      },
      "source": [
        "from keras import models\n",
        "from keras import layers\n",
        "\n",
        "network = models.Sequential()\n",
        "# fill in code\n",
        "input_shape = (X_train_reduced_full.shape[1],)\n",
        "network.add(layers.Dense(64, activation='relu', input_shape=input_shape))\n",
        "network.add(layers.Dense(10, activation='softmax'))"
      ],
      "execution_count": 182,
      "outputs": []
    },
    {
      "cell_type": "code",
      "source": [
        "network.summary()"
      ],
      "metadata": {
        "id": "r53NJ41QzWrU",
        "outputId": "1a9d0271-e61e-4c00-c3cd-b34d9dd5cc5b",
        "colab": {
          "base_uri": "https://localhost:8080/"
        }
      },
      "execution_count": 183,
      "outputs": [
        {
          "output_type": "stream",
          "name": "stdout",
          "text": [
            "Model: \"sequential_11\"\n",
            "_________________________________________________________________\n",
            " Layer (type)                Output Shape              Param #   \n",
            "=================================================================\n",
            " dense_22 (Dense)            (None, 64)                12032     \n",
            "                                                                 \n",
            " dense_23 (Dense)            (None, 10)                650       \n",
            "                                                                 \n",
            "=================================================================\n",
            "Total params: 12682 (49.54 KB)\n",
            "Trainable params: 12682 (49.54 KB)\n",
            "Non-trainable params: 0 (0.00 Byte)\n",
            "_________________________________________________________________\n"
          ]
        }
      ]
    },
    {
      "cell_type": "code",
      "metadata": {
        "collapsed": true,
        "id": "SaFZmy5Vmqto"
      },
      "source": [
        "network.compile(optimizer='rmsprop',\n",
        "                loss='categorical_crossentropy',\n",
        "                metrics=['accuracy'])"
      ],
      "execution_count": 184,
      "outputs": []
    },
    {
      "cell_type": "code",
      "metadata": {
        "id": "0sX_aDf_mqtp"
      },
      "source": [
        "X_train_reduced_full = X_train_reduced_full.astype('float32') / 255\n",
        "X_test_reduced = X_test_reduced.astype('float32') / 255"
      ],
      "execution_count": 185,
      "outputs": []
    },
    {
      "cell_type": "code",
      "metadata": {
        "collapsed": true,
        "id": "SOxIi7Wjmqtp"
      },
      "source": [
        "from tensorflow.keras.utils import to_categorical\n",
        "\n",
        "y_train_full = to_categorical(y_train_full)\n",
        "y_test = to_categorical(y_test)"
      ],
      "execution_count": 186,
      "outputs": []
    },
    {
      "cell_type": "code",
      "metadata": {
        "id": "LEQbiIEa8lbk"
      },
      "source": [
        "X_valid_reduced = X_train_reduced_full[:5000]\n",
        "y_valid = y_train_full[:5000]\n",
        "X_train_reduced = X_train_reduced_full[5000:]\n",
        "y_train = y_train_full[5000:]"
      ],
      "execution_count": 187,
      "outputs": []
    },
    {
      "cell_type": "code",
      "source": [
        "X_train_reduced_full.shape"
      ],
      "metadata": {
        "id": "6oXM4Rxj7Ynq",
        "outputId": "1db5e833-3fda-4fe3-f2ae-28f35eed713e",
        "colab": {
          "base_uri": "https://localhost:8080/"
        }
      },
      "execution_count": 188,
      "outputs": [
        {
          "output_type": "execute_result",
          "data": {
            "text/plain": [
              "(60000, 187)"
            ]
          },
          "metadata": {},
          "execution_count": 188
        }
      ]
    },
    {
      "cell_type": "code",
      "source": [
        "y_train.shape"
      ],
      "metadata": {
        "id": "9rW8A10w7T72",
        "outputId": "364cb99e-f7d5-4683-92b5-74a2538b647c",
        "colab": {
          "base_uri": "https://localhost:8080/"
        }
      },
      "execution_count": 189,
      "outputs": [
        {
          "output_type": "execute_result",
          "data": {
            "text/plain": [
              "(55000, 10)"
            ]
          },
          "metadata": {},
          "execution_count": 189
        }
      ]
    },
    {
      "cell_type": "code",
      "metadata": {
        "colab": {
          "base_uri": "https://localhost:8080/"
        },
        "id": "1BcB3YHumqtp",
        "outputId": "35368e58-0ff7-4bea-f119-b457876769c2"
      },
      "source": [
        "network.fit(X_train_reduced, y_train, validation_data=(X_valid_reduced, y_valid), epochs=20, batch_size=128)"
      ],
      "execution_count": 190,
      "outputs": [
        {
          "output_type": "stream",
          "name": "stdout",
          "text": [
            "Epoch 1/20\n",
            "430/430 [==============================] - 2s 4ms/step - loss: 0.6870 - accuracy: 0.7865 - val_loss: 0.4109 - val_accuracy: 0.8602\n",
            "Epoch 2/20\n",
            "430/430 [==============================] - 1s 3ms/step - loss: 0.3875 - accuracy: 0.8623 - val_loss: 0.3678 - val_accuracy: 0.8708\n",
            "Epoch 3/20\n",
            "430/430 [==============================] - 1s 3ms/step - loss: 0.3504 - accuracy: 0.8740 - val_loss: 0.3529 - val_accuracy: 0.8752\n",
            "Epoch 4/20\n",
            "430/430 [==============================] - 1s 3ms/step - loss: 0.3270 - accuracy: 0.8821 - val_loss: 0.3365 - val_accuracy: 0.8770\n",
            "Epoch 5/20\n",
            "430/430 [==============================] - 2s 4ms/step - loss: 0.3098 - accuracy: 0.8887 - val_loss: 0.3282 - val_accuracy: 0.8816\n",
            "Epoch 6/20\n",
            "430/430 [==============================] - 2s 4ms/step - loss: 0.2952 - accuracy: 0.8938 - val_loss: 0.3221 - val_accuracy: 0.8822\n",
            "Epoch 7/20\n",
            "430/430 [==============================] - 1s 3ms/step - loss: 0.2828 - accuracy: 0.8985 - val_loss: 0.3143 - val_accuracy: 0.8878\n",
            "Epoch 8/20\n",
            "430/430 [==============================] - 1s 3ms/step - loss: 0.2719 - accuracy: 0.9017 - val_loss: 0.3132 - val_accuracy: 0.8856\n",
            "Epoch 9/20\n",
            "430/430 [==============================] - 1s 3ms/step - loss: 0.2623 - accuracy: 0.9060 - val_loss: 0.3086 - val_accuracy: 0.8888\n",
            "Epoch 10/20\n",
            "430/430 [==============================] - 1s 3ms/step - loss: 0.2537 - accuracy: 0.9085 - val_loss: 0.3074 - val_accuracy: 0.8904\n",
            "Epoch 11/20\n",
            "430/430 [==============================] - 1s 3ms/step - loss: 0.2463 - accuracy: 0.9118 - val_loss: 0.3088 - val_accuracy: 0.8916\n",
            "Epoch 12/20\n",
            "430/430 [==============================] - 1s 3ms/step - loss: 0.2394 - accuracy: 0.9142 - val_loss: 0.3075 - val_accuracy: 0.8900\n",
            "Epoch 13/20\n",
            "430/430 [==============================] - 1s 3ms/step - loss: 0.2327 - accuracy: 0.9172 - val_loss: 0.3027 - val_accuracy: 0.8944\n",
            "Epoch 14/20\n",
            "430/430 [==============================] - 2s 4ms/step - loss: 0.2273 - accuracy: 0.9183 - val_loss: 0.3079 - val_accuracy: 0.8904\n",
            "Epoch 15/20\n",
            "430/430 [==============================] - 1s 3ms/step - loss: 0.2214 - accuracy: 0.9213 - val_loss: 0.3073 - val_accuracy: 0.8920\n",
            "Epoch 16/20\n",
            "430/430 [==============================] - 1s 3ms/step - loss: 0.2163 - accuracy: 0.9236 - val_loss: 0.3051 - val_accuracy: 0.8938\n",
            "Epoch 17/20\n",
            "430/430 [==============================] - 1s 3ms/step - loss: 0.2116 - accuracy: 0.9249 - val_loss: 0.3077 - val_accuracy: 0.8936\n",
            "Epoch 18/20\n",
            "430/430 [==============================] - 1s 3ms/step - loss: 0.2070 - accuracy: 0.9273 - val_loss: 0.3095 - val_accuracy: 0.8950\n",
            "Epoch 19/20\n",
            "430/430 [==============================] - 1s 3ms/step - loss: 0.2028 - accuracy: 0.9280 - val_loss: 0.3153 - val_accuracy: 0.8950\n",
            "Epoch 20/20\n",
            "430/430 [==============================] - 1s 3ms/step - loss: 0.1988 - accuracy: 0.9295 - val_loss: 0.3130 - val_accuracy: 0.8946\n"
          ]
        },
        {
          "output_type": "execute_result",
          "data": {
            "text/plain": [
              "<keras.src.callbacks.History at 0x7eb8328ce7a0>"
            ]
          },
          "metadata": {},
          "execution_count": 190
        }
      ]
    },
    {
      "cell_type": "code",
      "metadata": {
        "colab": {
          "base_uri": "https://localhost:8080/"
        },
        "id": "QMcfshelmqtp",
        "outputId": "9245e368-880e-40ef-a1dd-6636ccfaec29"
      },
      "source": [
        "test_loss, test_acc = network.evaluate(X_test_reduced, y_test)"
      ],
      "execution_count": 191,
      "outputs": [
        {
          "output_type": "stream",
          "name": "stdout",
          "text": [
            "313/313 [==============================] - 1s 3ms/step - loss: 0.3434 - accuracy: 0.8835\n"
          ]
        }
      ]
    },
    {
      "cell_type": "code",
      "metadata": {
        "colab": {
          "base_uri": "https://localhost:8080/"
        },
        "id": "3kwXfRybmqtq",
        "outputId": "b43f750f-cbc7-4232-c73f-533fd076dae8"
      },
      "source": [
        "print('test_acc:', test_acc)"
      ],
      "execution_count": 192,
      "outputs": [
        {
          "output_type": "stream",
          "name": "stdout",
          "text": [
            "test_acc: 0.8834999799728394\n"
          ]
        }
      ]
    },
    {
      "cell_type": "code",
      "source": [
        "test_acc_PCA = test_acc\n",
        "test_acc_PCA"
      ],
      "metadata": {
        "id": "iYCIFQA8oRTZ",
        "outputId": "ac743bd1-1b48-4603-d392-ad556828e470",
        "colab": {
          "base_uri": "https://localhost:8080/"
        }
      },
      "execution_count": 193,
      "outputs": [
        {
          "output_type": "execute_result",
          "data": {
            "text/plain": [
              "0.8834999799728394"
            ]
          },
          "metadata": {},
          "execution_count": 193
        }
      ]
    },
    {
      "cell_type": "markdown",
      "metadata": {
        "id": "JX1W40sqxtyQ"
      },
      "source": [
        "Compare these two accuracy results and check whether we see anything surprising. (10 points)"
      ]
    },
    {
      "cell_type": "markdown",
      "metadata": {
        "id": "lQvDuRZjO9U9"
      },
      "source": [
        "The accuracy result ..."
      ]
    },
    {
      "cell_type": "code",
      "source": [
        "print(\"Test Acc without PCA: \", test_acc_withoutPCA)\n",
        "print(\"Test Acc PCA: \", test_acc_PCA)\n",
        "print(\"\\nDifference: \", test_acc_PCA - test_acc_withoutPCA)"
      ],
      "metadata": {
        "id": "DYGY9lEboZsl",
        "outputId": "af91931a-67af-4b97-dd69-f7ffbb7f2ad4",
        "colab": {
          "base_uri": "https://localhost:8080/"
        }
      },
      "execution_count": 195,
      "outputs": [
        {
          "output_type": "stream",
          "name": "stdout",
          "text": [
            "Test Acc without PCA:  0.8694000244140625\n",
            "Test Acc PCA:  0.8834999799728394\n",
            "\n",
            "Difference:  0.014099955558776855\n"
          ]
        }
      ]
    },
    {
      "cell_type": "markdown",
      "source": [
        "**Answer:** We can observe that we have a slight increase in accuracy for PCA over previous method. Using PCA method, we got around 1.4% higher accuracy."
      ],
      "metadata": {
        "id": "v14Tyw6VpEbK"
      }
    },
    {
      "cell_type": "code",
      "metadata": {
        "collapsed": true,
        "id": "gqozYABsmqtr"
      },
      "source": [
        "np.random.seed(42)\n",
        "tf.random.set_seed(42)"
      ],
      "execution_count": 196,
      "outputs": []
    },
    {
      "cell_type": "markdown",
      "metadata": {
        "id": "q7NB3DDvx4MU"
      },
      "source": [
        "Modify the code provided by this module and use RandomizedSearchCV to find a model that beats the previous accuracy results. (40 points)\n",
        "\n",
        "Hint: you can speed up the search by using n_jobs = 1 in RandomizedSearchCV."
      ]
    },
    {
      "cell_type": "code",
      "metadata": {
        "id": "IT5qWXkIwNMN"
      },
      "source": [
        "X_valid = X_train_reduced[:5000]\n",
        "y_valid = y_train[:5000]\n",
        "X_train = X_train_reduced[5000:]\n",
        "y_train = y_train[5000:]"
      ],
      "execution_count": 197,
      "outputs": []
    },
    {
      "cell_type": "code",
      "metadata": {
        "colab": {
          "base_uri": "https://localhost:8080/"
        },
        "id": "QRnCFKoTxITO",
        "outputId": "56e7e944-c7ce-476a-e832-b1d86b0bf17b"
      },
      "source": [
        "X_train.shape, X_valid.shape"
      ],
      "execution_count": 198,
      "outputs": [
        {
          "output_type": "execute_result",
          "data": {
            "text/plain": [
              "((50000, 187), (5000, 187))"
            ]
          },
          "metadata": {},
          "execution_count": 198
        }
      ]
    },
    {
      "cell_type": "code",
      "metadata": {
        "colab": {
          "base_uri": "https://localhost:8080/"
        },
        "id": "CorEcQzHze43",
        "outputId": "9299b17a-46bb-45c4-bd52-940d1b3dcf19"
      },
      "source": [
        "y_train.shape, y_valid.shape, y_test.shape"
      ],
      "execution_count": 199,
      "outputs": [
        {
          "output_type": "execute_result",
          "data": {
            "text/plain": [
              "((50000, 10), (5000, 10), (10000, 10))"
            ]
          },
          "metadata": {},
          "execution_count": 199
        }
      ]
    },
    {
      "cell_type": "code",
      "metadata": {
        "id": "A-XCsmv4w6Xj"
      },
      "source": [
        "from tensorflow import keras\n",
        "\n",
        "keras.backend.clear_session()\n",
        "np.random.seed(42)\n",
        "tf.random.set_seed(42)"
      ],
      "execution_count": 200,
      "outputs": []
    },
    {
      "cell_type": "code",
      "metadata": {
        "id": "ywo4XqUaw_s_"
      },
      "source": [
        "def build_model(n_hidden=1, n_neurons=128, learning_rate=3e-3, input_shape=(X_train_reduced.shape[1],)):\n",
        "    model = keras.models.Sequential()\n",
        "    model.add(keras.layers.InputLayer(input_shape=input_shape))\n",
        "    for layer in range(n_hidden):\n",
        "        # fill in code\n",
        "        model.add(keras.layers.Dense(n_neurons, activation=\"relu\"))\n",
        "    # fill in code\n",
        "    model.add(layers.Dense(10, activation='softmax'))\n",
        "    optimizer = keras.optimizers.SGD(learning_rate=learning_rate)\n",
        "    model.compile(optimizer='rmsprop',\n",
        "                  # fill in code\n",
        "                loss='categorical_crossentropy',\n",
        "                metrics=['accuracy'])\n",
        "\n",
        "    return model"
      ],
      "execution_count": 201,
      "outputs": []
    },
    {
      "cell_type": "code",
      "source": [
        "from tensorflow import keras\n",
        "from sklearn.base import BaseEstimator, RegressorMixin\n",
        "\n",
        "# Modify the KerasRegressorWrapper class to accept hyperparameters\n",
        "class KerasRegressorWrapper(BaseEstimator, RegressorMixin):\n",
        "    def __init__(self, n_hidden=1, n_neurons=200, learning_rate=1e-3):\n",
        "        self.n_hidden = n_hidden\n",
        "        self.n_neurons = n_neurons\n",
        "        self.learning_rate = learning_rate\n",
        "\n",
        "    def fit(self, X, y, **kwargs):\n",
        "        self.model = build_model(self.n_hidden, self.n_neurons, self.learning_rate)\n",
        "        self.model.fit(X, y, **kwargs)\n",
        "        return self\n",
        "\n",
        "    def predict(self, X):\n",
        "        return self.model.predict(X)\n",
        "\n",
        "# Create an instance of the KerasRegressorWrapper\n",
        "keras_reg = KerasRegressorWrapper()\n"
      ],
      "metadata": {
        "id": "A-zC5-boW5gT"
      },
      "execution_count": 202,
      "outputs": []
    },
    {
      "cell_type": "code",
      "metadata": {
        "colab": {
          "base_uri": "https://localhost:8080/",
          "height": 666
        },
        "id": "1UhjO3znyDmj",
        "outputId": "5daed7bc-3003-41a0-f5ad-9d9d1fa451b9"
      },
      "source": [
        "keras_reg.fit(X_train, y_train, epochs=100,\n",
        "              # fill in code\n",
        "              validation_data=( X_valid,y_valid ),\n",
        "              callbacks=[keras.callbacks.EarlyStopping(patience=10)])"
      ],
      "execution_count": 203,
      "outputs": [
        {
          "output_type": "stream",
          "name": "stdout",
          "text": [
            "Epoch 1/100\n",
            "1563/1563 [==============================] - 7s 4ms/step - loss: 0.4428 - accuracy: 0.8475 - val_loss: 0.3589 - val_accuracy: 0.8698\n",
            "Epoch 2/100\n",
            "1563/1563 [==============================] - 5s 3ms/step - loss: 0.3097 - accuracy: 0.8887 - val_loss: 0.3173 - val_accuracy: 0.8854\n",
            "Epoch 3/100\n",
            "1563/1563 [==============================] - 5s 3ms/step - loss: 0.2677 - accuracy: 0.9051 - val_loss: 0.3118 - val_accuracy: 0.8892\n",
            "Epoch 4/100\n",
            "1563/1563 [==============================] - 5s 3ms/step - loss: 0.2382 - accuracy: 0.9165 - val_loss: 0.3054 - val_accuracy: 0.8936\n",
            "Epoch 5/100\n",
            "1563/1563 [==============================] - 5s 3ms/step - loss: 0.2142 - accuracy: 0.9240 - val_loss: 0.3041 - val_accuracy: 0.8946\n",
            "Epoch 6/100\n",
            "1563/1563 [==============================] - 5s 3ms/step - loss: 0.1942 - accuracy: 0.9308 - val_loss: 0.3035 - val_accuracy: 0.8964\n",
            "Epoch 7/100\n",
            "1563/1563 [==============================] - 5s 3ms/step - loss: 0.1765 - accuracy: 0.9385 - val_loss: 0.3118 - val_accuracy: 0.8934\n",
            "Epoch 8/100\n",
            "1563/1563 [==============================] - 4s 3ms/step - loss: 0.1612 - accuracy: 0.9435 - val_loss: 0.3080 - val_accuracy: 0.8958\n",
            "Epoch 9/100\n",
            "1563/1563 [==============================] - 5s 3ms/step - loss: 0.1470 - accuracy: 0.9483 - val_loss: 0.3331 - val_accuracy: 0.8928\n",
            "Epoch 10/100\n",
            "1563/1563 [==============================] - 5s 3ms/step - loss: 0.1338 - accuracy: 0.9534 - val_loss: 0.3260 - val_accuracy: 0.8934\n",
            "Epoch 11/100\n",
            "1563/1563 [==============================] - 5s 3ms/step - loss: 0.1223 - accuracy: 0.9579 - val_loss: 0.3474 - val_accuracy: 0.8958\n",
            "Epoch 12/100\n",
            "1563/1563 [==============================] - 5s 3ms/step - loss: 0.1120 - accuracy: 0.9622 - val_loss: 0.3529 - val_accuracy: 0.8938\n",
            "Epoch 13/100\n",
            "1563/1563 [==============================] - 5s 3ms/step - loss: 0.1023 - accuracy: 0.9658 - val_loss: 0.3571 - val_accuracy: 0.8916\n",
            "Epoch 14/100\n",
            "1563/1563 [==============================] - 6s 4ms/step - loss: 0.0943 - accuracy: 0.9689 - val_loss: 0.3753 - val_accuracy: 0.8934\n",
            "Epoch 15/100\n",
            "1563/1563 [==============================] - 5s 3ms/step - loss: 0.0849 - accuracy: 0.9726 - val_loss: 0.3861 - val_accuracy: 0.8960\n",
            "Epoch 16/100\n",
            "1563/1563 [==============================] - 5s 3ms/step - loss: 0.0783 - accuracy: 0.9739 - val_loss: 0.4123 - val_accuracy: 0.8912\n"
          ]
        },
        {
          "output_type": "execute_result",
          "data": {
            "text/plain": [
              "KerasRegressorWrapper()"
            ],
            "text/html": [
              "<style>#sk-container-id-1 {color: black;background-color: white;}#sk-container-id-1 pre{padding: 0;}#sk-container-id-1 div.sk-toggleable {background-color: white;}#sk-container-id-1 label.sk-toggleable__label {cursor: pointer;display: block;width: 100%;margin-bottom: 0;padding: 0.3em;box-sizing: border-box;text-align: center;}#sk-container-id-1 label.sk-toggleable__label-arrow:before {content: \"▸\";float: left;margin-right: 0.25em;color: #696969;}#sk-container-id-1 label.sk-toggleable__label-arrow:hover:before {color: black;}#sk-container-id-1 div.sk-estimator:hover label.sk-toggleable__label-arrow:before {color: black;}#sk-container-id-1 div.sk-toggleable__content {max-height: 0;max-width: 0;overflow: hidden;text-align: left;background-color: #f0f8ff;}#sk-container-id-1 div.sk-toggleable__content pre {margin: 0.2em;color: black;border-radius: 0.25em;background-color: #f0f8ff;}#sk-container-id-1 input.sk-toggleable__control:checked~div.sk-toggleable__content {max-height: 200px;max-width: 100%;overflow: auto;}#sk-container-id-1 input.sk-toggleable__control:checked~label.sk-toggleable__label-arrow:before {content: \"▾\";}#sk-container-id-1 div.sk-estimator input.sk-toggleable__control:checked~label.sk-toggleable__label {background-color: #d4ebff;}#sk-container-id-1 div.sk-label input.sk-toggleable__control:checked~label.sk-toggleable__label {background-color: #d4ebff;}#sk-container-id-1 input.sk-hidden--visually {border: 0;clip: rect(1px 1px 1px 1px);clip: rect(1px, 1px, 1px, 1px);height: 1px;margin: -1px;overflow: hidden;padding: 0;position: absolute;width: 1px;}#sk-container-id-1 div.sk-estimator {font-family: monospace;background-color: #f0f8ff;border: 1px dotted black;border-radius: 0.25em;box-sizing: border-box;margin-bottom: 0.5em;}#sk-container-id-1 div.sk-estimator:hover {background-color: #d4ebff;}#sk-container-id-1 div.sk-parallel-item::after {content: \"\";width: 100%;border-bottom: 1px solid gray;flex-grow: 1;}#sk-container-id-1 div.sk-label:hover label.sk-toggleable__label {background-color: #d4ebff;}#sk-container-id-1 div.sk-serial::before {content: \"\";position: absolute;border-left: 1px solid gray;box-sizing: border-box;top: 0;bottom: 0;left: 50%;z-index: 0;}#sk-container-id-1 div.sk-serial {display: flex;flex-direction: column;align-items: center;background-color: white;padding-right: 0.2em;padding-left: 0.2em;position: relative;}#sk-container-id-1 div.sk-item {position: relative;z-index: 1;}#sk-container-id-1 div.sk-parallel {display: flex;align-items: stretch;justify-content: center;background-color: white;position: relative;}#sk-container-id-1 div.sk-item::before, #sk-container-id-1 div.sk-parallel-item::before {content: \"\";position: absolute;border-left: 1px solid gray;box-sizing: border-box;top: 0;bottom: 0;left: 50%;z-index: -1;}#sk-container-id-1 div.sk-parallel-item {display: flex;flex-direction: column;z-index: 1;position: relative;background-color: white;}#sk-container-id-1 div.sk-parallel-item:first-child::after {align-self: flex-end;width: 50%;}#sk-container-id-1 div.sk-parallel-item:last-child::after {align-self: flex-start;width: 50%;}#sk-container-id-1 div.sk-parallel-item:only-child::after {width: 0;}#sk-container-id-1 div.sk-dashed-wrapped {border: 1px dashed gray;margin: 0 0.4em 0.5em 0.4em;box-sizing: border-box;padding-bottom: 0.4em;background-color: white;}#sk-container-id-1 div.sk-label label {font-family: monospace;font-weight: bold;display: inline-block;line-height: 1.2em;}#sk-container-id-1 div.sk-label-container {text-align: center;}#sk-container-id-1 div.sk-container {/* jupyter's `normalize.less` sets `[hidden] { display: none; }` but bootstrap.min.css set `[hidden] { display: none !important; }` so we also need the `!important` here to be able to override the default hidden behavior on the sphinx rendered scikit-learn.org. See: https://github.com/scikit-learn/scikit-learn/issues/21755 */display: inline-block !important;position: relative;}#sk-container-id-1 div.sk-text-repr-fallback {display: none;}</style><div id=\"sk-container-id-1\" class=\"sk-top-container\"><div class=\"sk-text-repr-fallback\"><pre>KerasRegressorWrapper()</pre><b>In a Jupyter environment, please rerun this cell to show the HTML representation or trust the notebook. <br />On GitHub, the HTML representation is unable to render, please try loading this page with nbviewer.org.</b></div><div class=\"sk-container\" hidden><div class=\"sk-item\"><div class=\"sk-estimator sk-toggleable\"><input class=\"sk-toggleable__control sk-hidden--visually\" id=\"sk-estimator-id-1\" type=\"checkbox\" checked><label for=\"sk-estimator-id-1\" class=\"sk-toggleable__label sk-toggleable__label-arrow\">KerasRegressorWrapper</label><div class=\"sk-toggleable__content\"><pre>KerasRegressorWrapper()</pre></div></div></div></div></div>"
            ]
          },
          "metadata": {},
          "execution_count": 203
        }
      ]
    },
    {
      "cell_type": "code",
      "metadata": {
        "colab": {
          "base_uri": "https://localhost:8080/",
          "height": 619
        },
        "id": "xVrlNWlevp-s",
        "outputId": "db850a26-e361-47ff-cafa-c7260b6306bb"
      },
      "source": [
        "from scipy.stats import reciprocal\n",
        "from sklearn.model_selection import RandomizedSearchCV\n",
        "\n",
        "param_distribs = {\n",
        "    # fill in code\n",
        "    \"n_hidden\": [ 1, 2 ],\n",
        "    \"n_neurons\": np.arange(200 , 500)\n",
        "}\n",
        "\n",
        "rnd_search_cv = RandomizedSearchCV(keras_reg, param_distribs, n_iter=20, cv=3, verbose=2, n_jobs=-1)\n",
        "rnd_search_cv.fit(X_train, y_train, epochs=100,\n",
        "                  # fill in code\n",
        "                  validation_data=( X_valid , y_valid ),\n",
        "                  callbacks=[keras.callbacks.EarlyStopping(patience=10)])"
      ],
      "execution_count": 204,
      "outputs": [
        {
          "output_type": "stream",
          "name": "stdout",
          "text": [
            "Fitting 3 folds for each of 20 candidates, totalling 60 fits\n"
          ]
        },
        {
          "output_type": "stream",
          "name": "stderr",
          "text": [
            "/usr/local/lib/python3.10/dist-packages/joblib/externals/loky/process_executor.py:752: UserWarning: A worker stopped while some jobs were given to the executor. This can be caused by a too short worker timeout or by a memory leak.\n",
            "  warnings.warn(\n"
          ]
        },
        {
          "output_type": "stream",
          "name": "stdout",
          "text": [
            "Epoch 1/100\n",
            "1563/1563 [==============================] - 6s 3ms/step - loss: 0.4149 - accuracy: 0.8559 - val_loss: 0.3475 - val_accuracy: 0.8770\n",
            "Epoch 2/100\n",
            "1563/1563 [==============================] - 4s 3ms/step - loss: 0.2914 - accuracy: 0.8957 - val_loss: 0.3028 - val_accuracy: 0.8912\n",
            "Epoch 3/100\n",
            "1563/1563 [==============================] - 5s 3ms/step - loss: 0.2442 - accuracy: 0.9120 - val_loss: 0.3079 - val_accuracy: 0.8892\n",
            "Epoch 4/100\n",
            "1563/1563 [==============================] - 5s 3ms/step - loss: 0.2103 - accuracy: 0.9251 - val_loss: 0.3050 - val_accuracy: 0.8920\n",
            "Epoch 5/100\n",
            "1563/1563 [==============================] - 5s 3ms/step - loss: 0.1805 - accuracy: 0.9365 - val_loss: 0.3052 - val_accuracy: 0.8966\n",
            "Epoch 6/100\n",
            "1563/1563 [==============================] - 5s 3ms/step - loss: 0.1548 - accuracy: 0.9454 - val_loss: 0.3161 - val_accuracy: 0.8960\n",
            "Epoch 7/100\n",
            "1563/1563 [==============================] - 5s 3ms/step - loss: 0.1324 - accuracy: 0.9541 - val_loss: 0.3303 - val_accuracy: 0.8974\n",
            "Epoch 8/100\n",
            "1563/1563 [==============================] - 4s 3ms/step - loss: 0.1139 - accuracy: 0.9595 - val_loss: 0.3342 - val_accuracy: 0.8946\n",
            "Epoch 9/100\n",
            "1563/1563 [==============================] - 5s 3ms/step - loss: 0.0969 - accuracy: 0.9668 - val_loss: 0.3742 - val_accuracy: 0.8916\n",
            "Epoch 10/100\n",
            "1563/1563 [==============================] - 5s 3ms/step - loss: 0.0816 - accuracy: 0.9721 - val_loss: 0.3757 - val_accuracy: 0.8956\n",
            "Epoch 11/100\n",
            "1563/1563 [==============================] - 5s 3ms/step - loss: 0.0703 - accuracy: 0.9763 - val_loss: 0.3960 - val_accuracy: 0.8936\n",
            "Epoch 12/100\n",
            "1563/1563 [==============================] - 4s 3ms/step - loss: 0.0592 - accuracy: 0.9803 - val_loss: 0.4289 - val_accuracy: 0.8940\n"
          ]
        },
        {
          "output_type": "execute_result",
          "data": {
            "text/plain": [
              "RandomizedSearchCV(cv=3, estimator=KerasRegressorWrapper(), n_iter=20,\n",
              "                   n_jobs=-1,\n",
              "                   param_distributions={'n_hidden': [1, 2],\n",
              "                                        'n_neurons': array([200, 201, 202, 203, 204, 205, 206, 207, 208, 209, 210, 211, 212,\n",
              "       213, 214, 215, 216, 217, 218, 219, 220, 221, 222, 223, 224, 225,\n",
              "       226, 227, 228, 229, 230, 231, 232, 233, 234, 235, 236, 237, 238,\n",
              "       239, 240, 241, 242, 243, 244, 245, 246, 247, 248, 249, 250, 251,\n",
              "       252, 253...\n",
              "       408, 409, 410, 411, 412, 413, 414, 415, 416, 417, 418, 419, 420,\n",
              "       421, 422, 423, 424, 425, 426, 427, 428, 429, 430, 431, 432, 433,\n",
              "       434, 435, 436, 437, 438, 439, 440, 441, 442, 443, 444, 445, 446,\n",
              "       447, 448, 449, 450, 451, 452, 453, 454, 455, 456, 457, 458, 459,\n",
              "       460, 461, 462, 463, 464, 465, 466, 467, 468, 469, 470, 471, 472,\n",
              "       473, 474, 475, 476, 477, 478, 479, 480, 481, 482, 483, 484, 485,\n",
              "       486, 487, 488, 489, 490, 491, 492, 493, 494, 495, 496, 497, 498,\n",
              "       499])},\n",
              "                   verbose=2)"
            ],
            "text/html": [
              "<style>#sk-container-id-2 {color: black;background-color: white;}#sk-container-id-2 pre{padding: 0;}#sk-container-id-2 div.sk-toggleable {background-color: white;}#sk-container-id-2 label.sk-toggleable__label {cursor: pointer;display: block;width: 100%;margin-bottom: 0;padding: 0.3em;box-sizing: border-box;text-align: center;}#sk-container-id-2 label.sk-toggleable__label-arrow:before {content: \"▸\";float: left;margin-right: 0.25em;color: #696969;}#sk-container-id-2 label.sk-toggleable__label-arrow:hover:before {color: black;}#sk-container-id-2 div.sk-estimator:hover label.sk-toggleable__label-arrow:before {color: black;}#sk-container-id-2 div.sk-toggleable__content {max-height: 0;max-width: 0;overflow: hidden;text-align: left;background-color: #f0f8ff;}#sk-container-id-2 div.sk-toggleable__content pre {margin: 0.2em;color: black;border-radius: 0.25em;background-color: #f0f8ff;}#sk-container-id-2 input.sk-toggleable__control:checked~div.sk-toggleable__content {max-height: 200px;max-width: 100%;overflow: auto;}#sk-container-id-2 input.sk-toggleable__control:checked~label.sk-toggleable__label-arrow:before {content: \"▾\";}#sk-container-id-2 div.sk-estimator input.sk-toggleable__control:checked~label.sk-toggleable__label {background-color: #d4ebff;}#sk-container-id-2 div.sk-label input.sk-toggleable__control:checked~label.sk-toggleable__label {background-color: #d4ebff;}#sk-container-id-2 input.sk-hidden--visually {border: 0;clip: rect(1px 1px 1px 1px);clip: rect(1px, 1px, 1px, 1px);height: 1px;margin: -1px;overflow: hidden;padding: 0;position: absolute;width: 1px;}#sk-container-id-2 div.sk-estimator {font-family: monospace;background-color: #f0f8ff;border: 1px dotted black;border-radius: 0.25em;box-sizing: border-box;margin-bottom: 0.5em;}#sk-container-id-2 div.sk-estimator:hover {background-color: #d4ebff;}#sk-container-id-2 div.sk-parallel-item::after {content: \"\";width: 100%;border-bottom: 1px solid gray;flex-grow: 1;}#sk-container-id-2 div.sk-label:hover label.sk-toggleable__label {background-color: #d4ebff;}#sk-container-id-2 div.sk-serial::before {content: \"\";position: absolute;border-left: 1px solid gray;box-sizing: border-box;top: 0;bottom: 0;left: 50%;z-index: 0;}#sk-container-id-2 div.sk-serial {display: flex;flex-direction: column;align-items: center;background-color: white;padding-right: 0.2em;padding-left: 0.2em;position: relative;}#sk-container-id-2 div.sk-item {position: relative;z-index: 1;}#sk-container-id-2 div.sk-parallel {display: flex;align-items: stretch;justify-content: center;background-color: white;position: relative;}#sk-container-id-2 div.sk-item::before, #sk-container-id-2 div.sk-parallel-item::before {content: \"\";position: absolute;border-left: 1px solid gray;box-sizing: border-box;top: 0;bottom: 0;left: 50%;z-index: -1;}#sk-container-id-2 div.sk-parallel-item {display: flex;flex-direction: column;z-index: 1;position: relative;background-color: white;}#sk-container-id-2 div.sk-parallel-item:first-child::after {align-self: flex-end;width: 50%;}#sk-container-id-2 div.sk-parallel-item:last-child::after {align-self: flex-start;width: 50%;}#sk-container-id-2 div.sk-parallel-item:only-child::after {width: 0;}#sk-container-id-2 div.sk-dashed-wrapped {border: 1px dashed gray;margin: 0 0.4em 0.5em 0.4em;box-sizing: border-box;padding-bottom: 0.4em;background-color: white;}#sk-container-id-2 div.sk-label label {font-family: monospace;font-weight: bold;display: inline-block;line-height: 1.2em;}#sk-container-id-2 div.sk-label-container {text-align: center;}#sk-container-id-2 div.sk-container {/* jupyter's `normalize.less` sets `[hidden] { display: none; }` but bootstrap.min.css set `[hidden] { display: none !important; }` so we also need the `!important` here to be able to override the default hidden behavior on the sphinx rendered scikit-learn.org. See: https://github.com/scikit-learn/scikit-learn/issues/21755 */display: inline-block !important;position: relative;}#sk-container-id-2 div.sk-text-repr-fallback {display: none;}</style><div id=\"sk-container-id-2\" class=\"sk-top-container\"><div class=\"sk-text-repr-fallback\"><pre>RandomizedSearchCV(cv=3, estimator=KerasRegressorWrapper(), n_iter=20,\n",
              "                   n_jobs=-1,\n",
              "                   param_distributions={&#x27;n_hidden&#x27;: [1, 2],\n",
              "                                        &#x27;n_neurons&#x27;: array([200, 201, 202, 203, 204, 205, 206, 207, 208, 209, 210, 211, 212,\n",
              "       213, 214, 215, 216, 217, 218, 219, 220, 221, 222, 223, 224, 225,\n",
              "       226, 227, 228, 229, 230, 231, 232, 233, 234, 235, 236, 237, 238,\n",
              "       239, 240, 241, 242, 243, 244, 245, 246, 247, 248, 249, 250, 251,\n",
              "       252, 253...\n",
              "       408, 409, 410, 411, 412, 413, 414, 415, 416, 417, 418, 419, 420,\n",
              "       421, 422, 423, 424, 425, 426, 427, 428, 429, 430, 431, 432, 433,\n",
              "       434, 435, 436, 437, 438, 439, 440, 441, 442, 443, 444, 445, 446,\n",
              "       447, 448, 449, 450, 451, 452, 453, 454, 455, 456, 457, 458, 459,\n",
              "       460, 461, 462, 463, 464, 465, 466, 467, 468, 469, 470, 471, 472,\n",
              "       473, 474, 475, 476, 477, 478, 479, 480, 481, 482, 483, 484, 485,\n",
              "       486, 487, 488, 489, 490, 491, 492, 493, 494, 495, 496, 497, 498,\n",
              "       499])},\n",
              "                   verbose=2)</pre><b>In a Jupyter environment, please rerun this cell to show the HTML representation or trust the notebook. <br />On GitHub, the HTML representation is unable to render, please try loading this page with nbviewer.org.</b></div><div class=\"sk-container\" hidden><div class=\"sk-item sk-dashed-wrapped\"><div class=\"sk-label-container\"><div class=\"sk-label sk-toggleable\"><input class=\"sk-toggleable__control sk-hidden--visually\" id=\"sk-estimator-id-2\" type=\"checkbox\" ><label for=\"sk-estimator-id-2\" class=\"sk-toggleable__label sk-toggleable__label-arrow\">RandomizedSearchCV</label><div class=\"sk-toggleable__content\"><pre>RandomizedSearchCV(cv=3, estimator=KerasRegressorWrapper(), n_iter=20,\n",
              "                   n_jobs=-1,\n",
              "                   param_distributions={&#x27;n_hidden&#x27;: [1, 2],\n",
              "                                        &#x27;n_neurons&#x27;: array([200, 201, 202, 203, 204, 205, 206, 207, 208, 209, 210, 211, 212,\n",
              "       213, 214, 215, 216, 217, 218, 219, 220, 221, 222, 223, 224, 225,\n",
              "       226, 227, 228, 229, 230, 231, 232, 233, 234, 235, 236, 237, 238,\n",
              "       239, 240, 241, 242, 243, 244, 245, 246, 247, 248, 249, 250, 251,\n",
              "       252, 253...\n",
              "       408, 409, 410, 411, 412, 413, 414, 415, 416, 417, 418, 419, 420,\n",
              "       421, 422, 423, 424, 425, 426, 427, 428, 429, 430, 431, 432, 433,\n",
              "       434, 435, 436, 437, 438, 439, 440, 441, 442, 443, 444, 445, 446,\n",
              "       447, 448, 449, 450, 451, 452, 453, 454, 455, 456, 457, 458, 459,\n",
              "       460, 461, 462, 463, 464, 465, 466, 467, 468, 469, 470, 471, 472,\n",
              "       473, 474, 475, 476, 477, 478, 479, 480, 481, 482, 483, 484, 485,\n",
              "       486, 487, 488, 489, 490, 491, 492, 493, 494, 495, 496, 497, 498,\n",
              "       499])},\n",
              "                   verbose=2)</pre></div></div></div><div class=\"sk-parallel\"><div class=\"sk-parallel-item\"><div class=\"sk-item\"><div class=\"sk-label-container\"><div class=\"sk-label sk-toggleable\"><input class=\"sk-toggleable__control sk-hidden--visually\" id=\"sk-estimator-id-3\" type=\"checkbox\" ><label for=\"sk-estimator-id-3\" class=\"sk-toggleable__label sk-toggleable__label-arrow\">estimator: KerasRegressorWrapper</label><div class=\"sk-toggleable__content\"><pre>KerasRegressorWrapper()</pre></div></div></div><div class=\"sk-serial\"><div class=\"sk-item\"><div class=\"sk-estimator sk-toggleable\"><input class=\"sk-toggleable__control sk-hidden--visually\" id=\"sk-estimator-id-4\" type=\"checkbox\" ><label for=\"sk-estimator-id-4\" class=\"sk-toggleable__label sk-toggleable__label-arrow\">KerasRegressorWrapper</label><div class=\"sk-toggleable__content\"><pre>KerasRegressorWrapper()</pre></div></div></div></div></div></div></div></div></div></div>"
            ]
          },
          "metadata": {},
          "execution_count": 204
        }
      ]
    },
    {
      "cell_type": "code",
      "metadata": {
        "colab": {
          "base_uri": "https://localhost:8080/"
        },
        "id": "QWG2mB-hxzES",
        "outputId": "6db223a4-55b1-4695-af4d-0c26bbfccccb"
      },
      "source": [
        "rnd_search_cv.best_params_"
      ],
      "execution_count": 205,
      "outputs": [
        {
          "output_type": "execute_result",
          "data": {
            "text/plain": [
              "{'n_neurons': 484, 'n_hidden': 1}"
            ]
          },
          "metadata": {},
          "execution_count": 205
        }
      ]
    },
    {
      "cell_type": "markdown",
      "metadata": {
        "id": "y0_HYPGoN10B"
      },
      "source": [
        "Show the summary of the best model obtained from the randomized search. Report the test result using the best model, and compare this result with the previous results. (20 points)"
      ]
    },
    {
      "cell_type": "code",
      "metadata": {
        "colab": {
          "base_uri": "https://localhost:8080/"
        },
        "id": "tPJiZp7RBmXS",
        "outputId": "255fc2e7-27df-4083-9aaa-86f07c19520c"
      },
      "source": [
        "# fill in code\n",
        "model = rnd_search_cv.best_estimator_.model\n",
        "model.summary()"
      ],
      "execution_count": 206,
      "outputs": [
        {
          "output_type": "stream",
          "name": "stdout",
          "text": [
            "Model: \"sequential_1\"\n",
            "_________________________________________________________________\n",
            " Layer (type)                Output Shape              Param #   \n",
            "=================================================================\n",
            " dense_2 (Dense)             (None, 484)               90992     \n",
            "                                                                 \n",
            " dense_3 (Dense)             (None, 10)                4850      \n",
            "                                                                 \n",
            "=================================================================\n",
            "Total params: 95842 (374.38 KB)\n",
            "Trainable params: 95842 (374.38 KB)\n",
            "Non-trainable params: 0 (0.00 Byte)\n",
            "_________________________________________________________________\n"
          ]
        }
      ]
    },
    {
      "cell_type": "code",
      "metadata": {
        "colab": {
          "base_uri": "https://localhost:8080/"
        },
        "id": "TgSJ04SmFgU_",
        "outputId": "d6cf47b8-2413-46f5-8f40-76de98ef9ac7"
      },
      "source": [
        "model.evaluate(X_test_reduced, y_test)"
      ],
      "execution_count": 207,
      "outputs": [
        {
          "output_type": "stream",
          "name": "stdout",
          "text": [
            "313/313 [==============================] - 1s 2ms/step - loss: 0.4565 - accuracy: 0.8910\n"
          ]
        },
        {
          "output_type": "execute_result",
          "data": {
            "text/plain": [
              "[0.4564920961856842, 0.890999972820282]"
            ]
          },
          "metadata": {},
          "execution_count": 207
        }
      ]
    },
    {
      "cell_type": "markdown",
      "metadata": {
        "id": "dK9r9skZOGBP"
      },
      "source": [
        "The result from the randomized search ..."
      ]
    },
    {
      "cell_type": "code",
      "source": [],
      "metadata": {
        "id": "MojXv3eLtzqI"
      },
      "execution_count": 207,
      "outputs": []
    }
  ]
}